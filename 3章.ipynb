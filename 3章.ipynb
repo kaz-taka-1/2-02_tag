{
  "nbformat": 4,
  "nbformat_minor": 0,
  "metadata": {
    "kernelspec": {
      "name": "python374jvsc74a57bd0b3ba2566441a7c06988d0923437866b63cedc61552a5af99d1f4fb67d367b25f",
      "display_name": "Python 3.7.4 64-bit ('base': conda)"
    },
    "language_info": {
      "codemirror_mode": {
        "name": "ipython",
        "version": 3
      },
      "file_extension": ".py",
      "mimetype": "text/x-python",
      "name": "python",
      "nbconvert_exporter": "python",
      "pygments_lexer": "ipython3",
      "version": "3.7.4"
    },
    "colab": {
      "name": "3章.ipynb",
      "provenance": [],
      "collapsed_sections": [],
      "include_colab_link": true
    }
  },
  "cells": [
    {
      "cell_type": "markdown",
      "metadata": {
        "id": "view-in-github",
        "colab_type": "text"
      },
      "source": [
        "<a href=\"https://colab.research.google.com/github/kaz-taka-1/2-02_tag/blob/main/3%E7%AB%A0.ipynb\" target=\"_parent\"><img src=\"https://colab.research.google.com/assets/colab-badge.svg\" alt=\"Open In Colab\"/></a>"
      ]
    },
    {
      "cell_type": "code",
      "metadata": {
        "id": "HB3mviwv25Jc",
        "colab": {
          "base_uri": "https://localhost:8080/"
        },
        "outputId": "fe08aa32-d631-4286-816e-20618adcf915"
      },
      "source": [
        "# 下記セルを実行すると、authorization codeの入力を求められます。\n",
        "# 出力されたリンク先をクリックし、Googleアカウントにログインし、\n",
        "# authorization codeをコピーし、貼り付けをおこなってください。\n",
        "from google.colab import drive\n",
        "drive.mount('/content/drive')"
      ],
      "execution_count": 1,
      "outputs": [
        {
          "output_type": "stream",
          "name": "stdout",
          "text": [
            "Mounted at /content/drive\n"
          ]
        }
      ]
    },
    {
      "cell_type": "code",
      "metadata": {
        "id": "HcOU_u4l25Jd"
      },
      "source": [
        "import os \n",
        "project = '100knock-process-visualization'\n",
        "chapter = 3\n",
        "os.chdir(f'/content/drive/MyDrive/{project}/chapter-{chapter}/')"
      ],
      "execution_count": 2,
      "outputs": []
    },
    {
      "cell_type": "markdown",
      "metadata": {
        "id": "pCbOP-x725Jd"
      },
      "source": [
        "# ３章 時系列データの加工・可視化１０本ノック"
      ]
    },
    {
      "cell_type": "markdown",
      "metadata": {
        "id": "UMt-N3VMJQmJ"
      },
      "source": [
        "## ノック４１：時系列データを読み込んでみよう"
      ]
    },
    {
      "cell_type": "code",
      "metadata": {
        "id": "X0_qawUmRqa-",
        "colab": {
          "base_uri": "https://localhost:8080/"
        },
        "outputId": "4a988ac6-582e-46df-9fce-fe61f1e16f2d"
      },
      "source": [
        "from glob import glob\n",
        "files = glob('data/person_count_1sec/out_0001/*.csv')\n",
        "files.sort()\n",
        "files[:5]"
      ],
      "execution_count": 3,
      "outputs": [
        {
          "output_type": "execute_result",
          "data": {
            "text/plain": [
              "['data/person_count_1sec/out_0001/person_count_out_0001_2021011509.csv',\n",
              " 'data/person_count_1sec/out_0001/person_count_out_0001_2021011510.csv',\n",
              " 'data/person_count_1sec/out_0001/person_count_out_0001_2021011511.csv',\n",
              " 'data/person_count_1sec/out_0001/person_count_out_0001_2021011512.csv',\n",
              " 'data/person_count_1sec/out_0001/person_count_out_0001_2021011513.csv']"
            ]
          },
          "metadata": {},
          "execution_count": 3
        }
      ]
    },
    {
      "cell_type": "code",
      "metadata": {
        "id": "RJfKBOCVQ9Sg",
        "colab": {
          "base_uri": "https://localhost:8080/",
          "height": 403
        },
        "outputId": "c0828f79-d8cf-414c-d820-848cec963e3b"
      },
      "source": [
        "import pandas as pd\n",
        "data = pd.read_csv(files[0])\n",
        "display(data.head(5))\n",
        "print(data.dtypes)"
      ],
      "execution_count": 4,
      "outputs": [
        {
          "output_type": "display_data",
          "data": {
            "text/plain": [
              "   id  place             receive_time  sensor_num  in1  out1  state1  in2  \\\n",
              "0   0      1  2021-01-15 09:00:00.144           2  508    73       0   73   \n",
              "1   1      1  2021-01-15 09:00:01.146           2  508    73       0   73   \n",
              "2   2      1  2021-01-15 09:00:02.161           2  508    73       0   73   \n",
              "3   3      1  2021-01-15 09:00:03.176           2  508    73       0   73   \n",
              "4   4      1  2021-01-15 09:00:04.192           2  508    73       0   73   \n",
              "\n",
              "   out2  state2  \n",
              "0   508       0  \n",
              "1   508       0  \n",
              "2   508       0  \n",
              "3   508       0  \n",
              "4   508       0  "
            ],
            "text/html": [
              "\n",
              "  <div id=\"df-ab7b50bc-a69a-421a-974c-897bee43123c\">\n",
              "    <div class=\"colab-df-container\">\n",
              "      <div>\n",
              "<style scoped>\n",
              "    .dataframe tbody tr th:only-of-type {\n",
              "        vertical-align: middle;\n",
              "    }\n",
              "\n",
              "    .dataframe tbody tr th {\n",
              "        vertical-align: top;\n",
              "    }\n",
              "\n",
              "    .dataframe thead th {\n",
              "        text-align: right;\n",
              "    }\n",
              "</style>\n",
              "<table border=\"1\" class=\"dataframe\">\n",
              "  <thead>\n",
              "    <tr style=\"text-align: right;\">\n",
              "      <th></th>\n",
              "      <th>id</th>\n",
              "      <th>place</th>\n",
              "      <th>receive_time</th>\n",
              "      <th>sensor_num</th>\n",
              "      <th>in1</th>\n",
              "      <th>out1</th>\n",
              "      <th>state1</th>\n",
              "      <th>in2</th>\n",
              "      <th>out2</th>\n",
              "      <th>state2</th>\n",
              "    </tr>\n",
              "  </thead>\n",
              "  <tbody>\n",
              "    <tr>\n",
              "      <th>0</th>\n",
              "      <td>0</td>\n",
              "      <td>1</td>\n",
              "      <td>2021-01-15 09:00:00.144</td>\n",
              "      <td>2</td>\n",
              "      <td>508</td>\n",
              "      <td>73</td>\n",
              "      <td>0</td>\n",
              "      <td>73</td>\n",
              "      <td>508</td>\n",
              "      <td>0</td>\n",
              "    </tr>\n",
              "    <tr>\n",
              "      <th>1</th>\n",
              "      <td>1</td>\n",
              "      <td>1</td>\n",
              "      <td>2021-01-15 09:00:01.146</td>\n",
              "      <td>2</td>\n",
              "      <td>508</td>\n",
              "      <td>73</td>\n",
              "      <td>0</td>\n",
              "      <td>73</td>\n",
              "      <td>508</td>\n",
              "      <td>0</td>\n",
              "    </tr>\n",
              "    <tr>\n",
              "      <th>2</th>\n",
              "      <td>2</td>\n",
              "      <td>1</td>\n",
              "      <td>2021-01-15 09:00:02.161</td>\n",
              "      <td>2</td>\n",
              "      <td>508</td>\n",
              "      <td>73</td>\n",
              "      <td>0</td>\n",
              "      <td>73</td>\n",
              "      <td>508</td>\n",
              "      <td>0</td>\n",
              "    </tr>\n",
              "    <tr>\n",
              "      <th>3</th>\n",
              "      <td>3</td>\n",
              "      <td>1</td>\n",
              "      <td>2021-01-15 09:00:03.176</td>\n",
              "      <td>2</td>\n",
              "      <td>508</td>\n",
              "      <td>73</td>\n",
              "      <td>0</td>\n",
              "      <td>73</td>\n",
              "      <td>508</td>\n",
              "      <td>0</td>\n",
              "    </tr>\n",
              "    <tr>\n",
              "      <th>4</th>\n",
              "      <td>4</td>\n",
              "      <td>1</td>\n",
              "      <td>2021-01-15 09:00:04.192</td>\n",
              "      <td>2</td>\n",
              "      <td>508</td>\n",
              "      <td>73</td>\n",
              "      <td>0</td>\n",
              "      <td>73</td>\n",
              "      <td>508</td>\n",
              "      <td>0</td>\n",
              "    </tr>\n",
              "  </tbody>\n",
              "</table>\n",
              "</div>\n",
              "      <button class=\"colab-df-convert\" onclick=\"convertToInteractive('df-ab7b50bc-a69a-421a-974c-897bee43123c')\"\n",
              "              title=\"Convert this dataframe to an interactive table.\"\n",
              "              style=\"display:none;\">\n",
              "        \n",
              "  <svg xmlns=\"http://www.w3.org/2000/svg\" height=\"24px\"viewBox=\"0 0 24 24\"\n",
              "       width=\"24px\">\n",
              "    <path d=\"M0 0h24v24H0V0z\" fill=\"none\"/>\n",
              "    <path d=\"M18.56 5.44l.94 2.06.94-2.06 2.06-.94-2.06-.94-.94-2.06-.94 2.06-2.06.94zm-11 1L8.5 8.5l.94-2.06 2.06-.94-2.06-.94L8.5 2.5l-.94 2.06-2.06.94zm10 10l.94 2.06.94-2.06 2.06-.94-2.06-.94-.94-2.06-.94 2.06-2.06.94z\"/><path d=\"M17.41 7.96l-1.37-1.37c-.4-.4-.92-.59-1.43-.59-.52 0-1.04.2-1.43.59L10.3 9.45l-7.72 7.72c-.78.78-.78 2.05 0 2.83L4 21.41c.39.39.9.59 1.41.59.51 0 1.02-.2 1.41-.59l7.78-7.78 2.81-2.81c.8-.78.8-2.07 0-2.86zM5.41 20L4 18.59l7.72-7.72 1.47 1.35L5.41 20z\"/>\n",
              "  </svg>\n",
              "      </button>\n",
              "      \n",
              "  <style>\n",
              "    .colab-df-container {\n",
              "      display:flex;\n",
              "      flex-wrap:wrap;\n",
              "      gap: 12px;\n",
              "    }\n",
              "\n",
              "    .colab-df-convert {\n",
              "      background-color: #E8F0FE;\n",
              "      border: none;\n",
              "      border-radius: 50%;\n",
              "      cursor: pointer;\n",
              "      display: none;\n",
              "      fill: #1967D2;\n",
              "      height: 32px;\n",
              "      padding: 0 0 0 0;\n",
              "      width: 32px;\n",
              "    }\n",
              "\n",
              "    .colab-df-convert:hover {\n",
              "      background-color: #E2EBFA;\n",
              "      box-shadow: 0px 1px 2px rgba(60, 64, 67, 0.3), 0px 1px 3px 1px rgba(60, 64, 67, 0.15);\n",
              "      fill: #174EA6;\n",
              "    }\n",
              "\n",
              "    [theme=dark] .colab-df-convert {\n",
              "      background-color: #3B4455;\n",
              "      fill: #D2E3FC;\n",
              "    }\n",
              "\n",
              "    [theme=dark] .colab-df-convert:hover {\n",
              "      background-color: #434B5C;\n",
              "      box-shadow: 0px 1px 3px 1px rgba(0, 0, 0, 0.15);\n",
              "      filter: drop-shadow(0px 1px 2px rgba(0, 0, 0, 0.3));\n",
              "      fill: #FFFFFF;\n",
              "    }\n",
              "  </style>\n",
              "\n",
              "      <script>\n",
              "        const buttonEl =\n",
              "          document.querySelector('#df-ab7b50bc-a69a-421a-974c-897bee43123c button.colab-df-convert');\n",
              "        buttonEl.style.display =\n",
              "          google.colab.kernel.accessAllowed ? 'block' : 'none';\n",
              "\n",
              "        async function convertToInteractive(key) {\n",
              "          const element = document.querySelector('#df-ab7b50bc-a69a-421a-974c-897bee43123c');\n",
              "          const dataTable =\n",
              "            await google.colab.kernel.invokeFunction('convertToInteractive',\n",
              "                                                     [key], {});\n",
              "          if (!dataTable) return;\n",
              "\n",
              "          const docLinkHtml = 'Like what you see? Visit the ' +\n",
              "            '<a target=\"_blank\" href=https://colab.research.google.com/notebooks/data_table.ipynb>data table notebook</a>'\n",
              "            + ' to learn more about interactive tables.';\n",
              "          element.innerHTML = '';\n",
              "          dataTable['output_type'] = 'display_data';\n",
              "          await google.colab.output.renderOutput(dataTable, element);\n",
              "          const docLink = document.createElement('div');\n",
              "          docLink.innerHTML = docLinkHtml;\n",
              "          element.appendChild(docLink);\n",
              "        }\n",
              "      </script>\n",
              "    </div>\n",
              "  </div>\n",
              "  "
            ]
          },
          "metadata": {}
        },
        {
          "output_type": "stream",
          "name": "stdout",
          "text": [
            "id               int64\n",
            "place            int64\n",
            "receive_time    object\n",
            "sensor_num       int64\n",
            "in1              int64\n",
            "out1             int64\n",
            "state1           int64\n",
            "in2              int64\n",
            "out2             int64\n",
            "state2           int64\n",
            "dtype: object\n"
          ]
        }
      ]
    },
    {
      "cell_type": "code",
      "metadata": {
        "id": "MUZJdWFgG2dG",
        "colab": {
          "base_uri": "https://localhost:8080/",
          "height": 403
        },
        "outputId": "4a91d966-c0b8-4d88-834a-55f507072f89"
      },
      "source": [
        "data['receive_time'] = pd.to_datetime(data['receive_time'])\n",
        "display(data.head())\n",
        "print(data.dtypes)"
      ],
      "execution_count": 5,
      "outputs": [
        {
          "output_type": "display_data",
          "data": {
            "text/plain": [
              "   id  place            receive_time  sensor_num  in1  out1  state1  in2  \\\n",
              "0   0      1 2021-01-15 09:00:00.144           2  508    73       0   73   \n",
              "1   1      1 2021-01-15 09:00:01.146           2  508    73       0   73   \n",
              "2   2      1 2021-01-15 09:00:02.161           2  508    73       0   73   \n",
              "3   3      1 2021-01-15 09:00:03.176           2  508    73       0   73   \n",
              "4   4      1 2021-01-15 09:00:04.192           2  508    73       0   73   \n",
              "\n",
              "   out2  state2  \n",
              "0   508       0  \n",
              "1   508       0  \n",
              "2   508       0  \n",
              "3   508       0  \n",
              "4   508       0  "
            ],
            "text/html": [
              "\n",
              "  <div id=\"df-16e93cfb-5679-475e-8b1f-8ac3398aa71f\">\n",
              "    <div class=\"colab-df-container\">\n",
              "      <div>\n",
              "<style scoped>\n",
              "    .dataframe tbody tr th:only-of-type {\n",
              "        vertical-align: middle;\n",
              "    }\n",
              "\n",
              "    .dataframe tbody tr th {\n",
              "        vertical-align: top;\n",
              "    }\n",
              "\n",
              "    .dataframe thead th {\n",
              "        text-align: right;\n",
              "    }\n",
              "</style>\n",
              "<table border=\"1\" class=\"dataframe\">\n",
              "  <thead>\n",
              "    <tr style=\"text-align: right;\">\n",
              "      <th></th>\n",
              "      <th>id</th>\n",
              "      <th>place</th>\n",
              "      <th>receive_time</th>\n",
              "      <th>sensor_num</th>\n",
              "      <th>in1</th>\n",
              "      <th>out1</th>\n",
              "      <th>state1</th>\n",
              "      <th>in2</th>\n",
              "      <th>out2</th>\n",
              "      <th>state2</th>\n",
              "    </tr>\n",
              "  </thead>\n",
              "  <tbody>\n",
              "    <tr>\n",
              "      <th>0</th>\n",
              "      <td>0</td>\n",
              "      <td>1</td>\n",
              "      <td>2021-01-15 09:00:00.144</td>\n",
              "      <td>2</td>\n",
              "      <td>508</td>\n",
              "      <td>73</td>\n",
              "      <td>0</td>\n",
              "      <td>73</td>\n",
              "      <td>508</td>\n",
              "      <td>0</td>\n",
              "    </tr>\n",
              "    <tr>\n",
              "      <th>1</th>\n",
              "      <td>1</td>\n",
              "      <td>1</td>\n",
              "      <td>2021-01-15 09:00:01.146</td>\n",
              "      <td>2</td>\n",
              "      <td>508</td>\n",
              "      <td>73</td>\n",
              "      <td>0</td>\n",
              "      <td>73</td>\n",
              "      <td>508</td>\n",
              "      <td>0</td>\n",
              "    </tr>\n",
              "    <tr>\n",
              "      <th>2</th>\n",
              "      <td>2</td>\n",
              "      <td>1</td>\n",
              "      <td>2021-01-15 09:00:02.161</td>\n",
              "      <td>2</td>\n",
              "      <td>508</td>\n",
              "      <td>73</td>\n",
              "      <td>0</td>\n",
              "      <td>73</td>\n",
              "      <td>508</td>\n",
              "      <td>0</td>\n",
              "    </tr>\n",
              "    <tr>\n",
              "      <th>3</th>\n",
              "      <td>3</td>\n",
              "      <td>1</td>\n",
              "      <td>2021-01-15 09:00:03.176</td>\n",
              "      <td>2</td>\n",
              "      <td>508</td>\n",
              "      <td>73</td>\n",
              "      <td>0</td>\n",
              "      <td>73</td>\n",
              "      <td>508</td>\n",
              "      <td>0</td>\n",
              "    </tr>\n",
              "    <tr>\n",
              "      <th>4</th>\n",
              "      <td>4</td>\n",
              "      <td>1</td>\n",
              "      <td>2021-01-15 09:00:04.192</td>\n",
              "      <td>2</td>\n",
              "      <td>508</td>\n",
              "      <td>73</td>\n",
              "      <td>0</td>\n",
              "      <td>73</td>\n",
              "      <td>508</td>\n",
              "      <td>0</td>\n",
              "    </tr>\n",
              "  </tbody>\n",
              "</table>\n",
              "</div>\n",
              "      <button class=\"colab-df-convert\" onclick=\"convertToInteractive('df-16e93cfb-5679-475e-8b1f-8ac3398aa71f')\"\n",
              "              title=\"Convert this dataframe to an interactive table.\"\n",
              "              style=\"display:none;\">\n",
              "        \n",
              "  <svg xmlns=\"http://www.w3.org/2000/svg\" height=\"24px\"viewBox=\"0 0 24 24\"\n",
              "       width=\"24px\">\n",
              "    <path d=\"M0 0h24v24H0V0z\" fill=\"none\"/>\n",
              "    <path d=\"M18.56 5.44l.94 2.06.94-2.06 2.06-.94-2.06-.94-.94-2.06-.94 2.06-2.06.94zm-11 1L8.5 8.5l.94-2.06 2.06-.94-2.06-.94L8.5 2.5l-.94 2.06-2.06.94zm10 10l.94 2.06.94-2.06 2.06-.94-2.06-.94-.94-2.06-.94 2.06-2.06.94z\"/><path d=\"M17.41 7.96l-1.37-1.37c-.4-.4-.92-.59-1.43-.59-.52 0-1.04.2-1.43.59L10.3 9.45l-7.72 7.72c-.78.78-.78 2.05 0 2.83L4 21.41c.39.39.9.59 1.41.59.51 0 1.02-.2 1.41-.59l7.78-7.78 2.81-2.81c.8-.78.8-2.07 0-2.86zM5.41 20L4 18.59l7.72-7.72 1.47 1.35L5.41 20z\"/>\n",
              "  </svg>\n",
              "      </button>\n",
              "      \n",
              "  <style>\n",
              "    .colab-df-container {\n",
              "      display:flex;\n",
              "      flex-wrap:wrap;\n",
              "      gap: 12px;\n",
              "    }\n",
              "\n",
              "    .colab-df-convert {\n",
              "      background-color: #E8F0FE;\n",
              "      border: none;\n",
              "      border-radius: 50%;\n",
              "      cursor: pointer;\n",
              "      display: none;\n",
              "      fill: #1967D2;\n",
              "      height: 32px;\n",
              "      padding: 0 0 0 0;\n",
              "      width: 32px;\n",
              "    }\n",
              "\n",
              "    .colab-df-convert:hover {\n",
              "      background-color: #E2EBFA;\n",
              "      box-shadow: 0px 1px 2px rgba(60, 64, 67, 0.3), 0px 1px 3px 1px rgba(60, 64, 67, 0.15);\n",
              "      fill: #174EA6;\n",
              "    }\n",
              "\n",
              "    [theme=dark] .colab-df-convert {\n",
              "      background-color: #3B4455;\n",
              "      fill: #D2E3FC;\n",
              "    }\n",
              "\n",
              "    [theme=dark] .colab-df-convert:hover {\n",
              "      background-color: #434B5C;\n",
              "      box-shadow: 0px 1px 3px 1px rgba(0, 0, 0, 0.15);\n",
              "      filter: drop-shadow(0px 1px 2px rgba(0, 0, 0, 0.3));\n",
              "      fill: #FFFFFF;\n",
              "    }\n",
              "  </style>\n",
              "\n",
              "      <script>\n",
              "        const buttonEl =\n",
              "          document.querySelector('#df-16e93cfb-5679-475e-8b1f-8ac3398aa71f button.colab-df-convert');\n",
              "        buttonEl.style.display =\n",
              "          google.colab.kernel.accessAllowed ? 'block' : 'none';\n",
              "\n",
              "        async function convertToInteractive(key) {\n",
              "          const element = document.querySelector('#df-16e93cfb-5679-475e-8b1f-8ac3398aa71f');\n",
              "          const dataTable =\n",
              "            await google.colab.kernel.invokeFunction('convertToInteractive',\n",
              "                                                     [key], {});\n",
              "          if (!dataTable) return;\n",
              "\n",
              "          const docLinkHtml = 'Like what you see? Visit the ' +\n",
              "            '<a target=\"_blank\" href=https://colab.research.google.com/notebooks/data_table.ipynb>data table notebook</a>'\n",
              "            + ' to learn more about interactive tables.';\n",
              "          element.innerHTML = '';\n",
              "          dataTable['output_type'] = 'display_data';\n",
              "          await google.colab.output.renderOutput(dataTable, element);\n",
              "          const docLink = document.createElement('div');\n",
              "          docLink.innerHTML = docLinkHtml;\n",
              "          element.appendChild(docLink);\n",
              "        }\n",
              "      </script>\n",
              "    </div>\n",
              "  </div>\n",
              "  "
            ]
          },
          "metadata": {}
        },
        {
          "output_type": "stream",
          "name": "stdout",
          "text": [
            "id                       int64\n",
            "place                    int64\n",
            "receive_time    datetime64[ns]\n",
            "sensor_num               int64\n",
            "in1                      int64\n",
            "out1                     int64\n",
            "state1                   int64\n",
            "in2                      int64\n",
            "out2                     int64\n",
            "state2                   int64\n",
            "dtype: object\n"
          ]
        }
      ]
    },
    {
      "cell_type": "code",
      "metadata": {
        "id": "dPDO6hobG2dG",
        "colab": {
          "base_uri": "https://localhost:8080/",
          "height": 403
        },
        "outputId": "991ad45d-9d48-431e-817c-797dc1b7df3f"
      },
      "source": [
        "data = pd.read_csv(files[0],parse_dates=[\"receive_time\"])\n",
        "display(data.head())\n",
        "print(data.dtypes)"
      ],
      "execution_count": 6,
      "outputs": [
        {
          "output_type": "display_data",
          "data": {
            "text/plain": [
              "   id  place            receive_time  sensor_num  in1  out1  state1  in2  \\\n",
              "0   0      1 2021-01-15 09:00:00.144           2  508    73       0   73   \n",
              "1   1      1 2021-01-15 09:00:01.146           2  508    73       0   73   \n",
              "2   2      1 2021-01-15 09:00:02.161           2  508    73       0   73   \n",
              "3   3      1 2021-01-15 09:00:03.176           2  508    73       0   73   \n",
              "4   4      1 2021-01-15 09:00:04.192           2  508    73       0   73   \n",
              "\n",
              "   out2  state2  \n",
              "0   508       0  \n",
              "1   508       0  \n",
              "2   508       0  \n",
              "3   508       0  \n",
              "4   508       0  "
            ],
            "text/html": [
              "\n",
              "  <div id=\"df-13978f04-de15-4805-b177-770b24745ba3\">\n",
              "    <div class=\"colab-df-container\">\n",
              "      <div>\n",
              "<style scoped>\n",
              "    .dataframe tbody tr th:only-of-type {\n",
              "        vertical-align: middle;\n",
              "    }\n",
              "\n",
              "    .dataframe tbody tr th {\n",
              "        vertical-align: top;\n",
              "    }\n",
              "\n",
              "    .dataframe thead th {\n",
              "        text-align: right;\n",
              "    }\n",
              "</style>\n",
              "<table border=\"1\" class=\"dataframe\">\n",
              "  <thead>\n",
              "    <tr style=\"text-align: right;\">\n",
              "      <th></th>\n",
              "      <th>id</th>\n",
              "      <th>place</th>\n",
              "      <th>receive_time</th>\n",
              "      <th>sensor_num</th>\n",
              "      <th>in1</th>\n",
              "      <th>out1</th>\n",
              "      <th>state1</th>\n",
              "      <th>in2</th>\n",
              "      <th>out2</th>\n",
              "      <th>state2</th>\n",
              "    </tr>\n",
              "  </thead>\n",
              "  <tbody>\n",
              "    <tr>\n",
              "      <th>0</th>\n",
              "      <td>0</td>\n",
              "      <td>1</td>\n",
              "      <td>2021-01-15 09:00:00.144</td>\n",
              "      <td>2</td>\n",
              "      <td>508</td>\n",
              "      <td>73</td>\n",
              "      <td>0</td>\n",
              "      <td>73</td>\n",
              "      <td>508</td>\n",
              "      <td>0</td>\n",
              "    </tr>\n",
              "    <tr>\n",
              "      <th>1</th>\n",
              "      <td>1</td>\n",
              "      <td>1</td>\n",
              "      <td>2021-01-15 09:00:01.146</td>\n",
              "      <td>2</td>\n",
              "      <td>508</td>\n",
              "      <td>73</td>\n",
              "      <td>0</td>\n",
              "      <td>73</td>\n",
              "      <td>508</td>\n",
              "      <td>0</td>\n",
              "    </tr>\n",
              "    <tr>\n",
              "      <th>2</th>\n",
              "      <td>2</td>\n",
              "      <td>1</td>\n",
              "      <td>2021-01-15 09:00:02.161</td>\n",
              "      <td>2</td>\n",
              "      <td>508</td>\n",
              "      <td>73</td>\n",
              "      <td>0</td>\n",
              "      <td>73</td>\n",
              "      <td>508</td>\n",
              "      <td>0</td>\n",
              "    </tr>\n",
              "    <tr>\n",
              "      <th>3</th>\n",
              "      <td>3</td>\n",
              "      <td>1</td>\n",
              "      <td>2021-01-15 09:00:03.176</td>\n",
              "      <td>2</td>\n",
              "      <td>508</td>\n",
              "      <td>73</td>\n",
              "      <td>0</td>\n",
              "      <td>73</td>\n",
              "      <td>508</td>\n",
              "      <td>0</td>\n",
              "    </tr>\n",
              "    <tr>\n",
              "      <th>4</th>\n",
              "      <td>4</td>\n",
              "      <td>1</td>\n",
              "      <td>2021-01-15 09:00:04.192</td>\n",
              "      <td>2</td>\n",
              "      <td>508</td>\n",
              "      <td>73</td>\n",
              "      <td>0</td>\n",
              "      <td>73</td>\n",
              "      <td>508</td>\n",
              "      <td>0</td>\n",
              "    </tr>\n",
              "  </tbody>\n",
              "</table>\n",
              "</div>\n",
              "      <button class=\"colab-df-convert\" onclick=\"convertToInteractive('df-13978f04-de15-4805-b177-770b24745ba3')\"\n",
              "              title=\"Convert this dataframe to an interactive table.\"\n",
              "              style=\"display:none;\">\n",
              "        \n",
              "  <svg xmlns=\"http://www.w3.org/2000/svg\" height=\"24px\"viewBox=\"0 0 24 24\"\n",
              "       width=\"24px\">\n",
              "    <path d=\"M0 0h24v24H0V0z\" fill=\"none\"/>\n",
              "    <path d=\"M18.56 5.44l.94 2.06.94-2.06 2.06-.94-2.06-.94-.94-2.06-.94 2.06-2.06.94zm-11 1L8.5 8.5l.94-2.06 2.06-.94-2.06-.94L8.5 2.5l-.94 2.06-2.06.94zm10 10l.94 2.06.94-2.06 2.06-.94-2.06-.94-.94-2.06-.94 2.06-2.06.94z\"/><path d=\"M17.41 7.96l-1.37-1.37c-.4-.4-.92-.59-1.43-.59-.52 0-1.04.2-1.43.59L10.3 9.45l-7.72 7.72c-.78.78-.78 2.05 0 2.83L4 21.41c.39.39.9.59 1.41.59.51 0 1.02-.2 1.41-.59l7.78-7.78 2.81-2.81c.8-.78.8-2.07 0-2.86zM5.41 20L4 18.59l7.72-7.72 1.47 1.35L5.41 20z\"/>\n",
              "  </svg>\n",
              "      </button>\n",
              "      \n",
              "  <style>\n",
              "    .colab-df-container {\n",
              "      display:flex;\n",
              "      flex-wrap:wrap;\n",
              "      gap: 12px;\n",
              "    }\n",
              "\n",
              "    .colab-df-convert {\n",
              "      background-color: #E8F0FE;\n",
              "      border: none;\n",
              "      border-radius: 50%;\n",
              "      cursor: pointer;\n",
              "      display: none;\n",
              "      fill: #1967D2;\n",
              "      height: 32px;\n",
              "      padding: 0 0 0 0;\n",
              "      width: 32px;\n",
              "    }\n",
              "\n",
              "    .colab-df-convert:hover {\n",
              "      background-color: #E2EBFA;\n",
              "      box-shadow: 0px 1px 2px rgba(60, 64, 67, 0.3), 0px 1px 3px 1px rgba(60, 64, 67, 0.15);\n",
              "      fill: #174EA6;\n",
              "    }\n",
              "\n",
              "    [theme=dark] .colab-df-convert {\n",
              "      background-color: #3B4455;\n",
              "      fill: #D2E3FC;\n",
              "    }\n",
              "\n",
              "    [theme=dark] .colab-df-convert:hover {\n",
              "      background-color: #434B5C;\n",
              "      box-shadow: 0px 1px 3px 1px rgba(0, 0, 0, 0.15);\n",
              "      filter: drop-shadow(0px 1px 2px rgba(0, 0, 0, 0.3));\n",
              "      fill: #FFFFFF;\n",
              "    }\n",
              "  </style>\n",
              "\n",
              "      <script>\n",
              "        const buttonEl =\n",
              "          document.querySelector('#df-13978f04-de15-4805-b177-770b24745ba3 button.colab-df-convert');\n",
              "        buttonEl.style.display =\n",
              "          google.colab.kernel.accessAllowed ? 'block' : 'none';\n",
              "\n",
              "        async function convertToInteractive(key) {\n",
              "          const element = document.querySelector('#df-13978f04-de15-4805-b177-770b24745ba3');\n",
              "          const dataTable =\n",
              "            await google.colab.kernel.invokeFunction('convertToInteractive',\n",
              "                                                     [key], {});\n",
              "          if (!dataTable) return;\n",
              "\n",
              "          const docLinkHtml = 'Like what you see? Visit the ' +\n",
              "            '<a target=\"_blank\" href=https://colab.research.google.com/notebooks/data_table.ipynb>data table notebook</a>'\n",
              "            + ' to learn more about interactive tables.';\n",
              "          element.innerHTML = '';\n",
              "          dataTable['output_type'] = 'display_data';\n",
              "          await google.colab.output.renderOutput(dataTable, element);\n",
              "          const docLink = document.createElement('div');\n",
              "          docLink.innerHTML = docLinkHtml;\n",
              "          element.appendChild(docLink);\n",
              "        }\n",
              "      </script>\n",
              "    </div>\n",
              "  </div>\n",
              "  "
            ]
          },
          "metadata": {}
        },
        {
          "output_type": "stream",
          "name": "stdout",
          "text": [
            "id                       int64\n",
            "place                    int64\n",
            "receive_time    datetime64[ns]\n",
            "sensor_num               int64\n",
            "in1                      int64\n",
            "out1                     int64\n",
            "state1                   int64\n",
            "in2                      int64\n",
            "out2                     int64\n",
            "state2                   int64\n",
            "dtype: object\n"
          ]
        }
      ]
    },
    {
      "cell_type": "code",
      "metadata": {
        "id": "u6YXQoGUNyG1",
        "colab": {
          "base_uri": "https://localhost:8080/",
          "height": 224
        },
        "outputId": "e949e4c4-b14a-4f78-97d6-1b9dc1f390cd"
      },
      "source": [
        "data=[]\n",
        "for f in files:\n",
        "  tmp=pd.read_csv(f,parse_dates=[\"receive_time\"])\n",
        "  data.append(tmp)\n",
        "data=pd.concat(data,ignore_index=True)\n",
        "display(data.head())\n",
        "len(data)"
      ],
      "execution_count": 7,
      "outputs": [
        {
          "output_type": "display_data",
          "data": {
            "text/plain": [
              "   id  place            receive_time  sensor_num  in1  out1  state1  in2  \\\n",
              "0   0      1 2021-01-15 09:00:00.144           2  508    73       0   73   \n",
              "1   1      1 2021-01-15 09:00:01.146           2  508    73       0   73   \n",
              "2   2      1 2021-01-15 09:00:02.161           2  508    73       0   73   \n",
              "3   3      1 2021-01-15 09:00:03.176           2  508    73       0   73   \n",
              "4   4      1 2021-01-15 09:00:04.192           2  508    73       0   73   \n",
              "\n",
              "   out2  state2  \n",
              "0   508       0  \n",
              "1   508       0  \n",
              "2   508       0  \n",
              "3   508       0  \n",
              "4   508       0  "
            ],
            "text/html": [
              "\n",
              "  <div id=\"df-80e18df8-2246-4aec-a4a3-feaac25a62eb\">\n",
              "    <div class=\"colab-df-container\">\n",
              "      <div>\n",
              "<style scoped>\n",
              "    .dataframe tbody tr th:only-of-type {\n",
              "        vertical-align: middle;\n",
              "    }\n",
              "\n",
              "    .dataframe tbody tr th {\n",
              "        vertical-align: top;\n",
              "    }\n",
              "\n",
              "    .dataframe thead th {\n",
              "        text-align: right;\n",
              "    }\n",
              "</style>\n",
              "<table border=\"1\" class=\"dataframe\">\n",
              "  <thead>\n",
              "    <tr style=\"text-align: right;\">\n",
              "      <th></th>\n",
              "      <th>id</th>\n",
              "      <th>place</th>\n",
              "      <th>receive_time</th>\n",
              "      <th>sensor_num</th>\n",
              "      <th>in1</th>\n",
              "      <th>out1</th>\n",
              "      <th>state1</th>\n",
              "      <th>in2</th>\n",
              "      <th>out2</th>\n",
              "      <th>state2</th>\n",
              "    </tr>\n",
              "  </thead>\n",
              "  <tbody>\n",
              "    <tr>\n",
              "      <th>0</th>\n",
              "      <td>0</td>\n",
              "      <td>1</td>\n",
              "      <td>2021-01-15 09:00:00.144</td>\n",
              "      <td>2</td>\n",
              "      <td>508</td>\n",
              "      <td>73</td>\n",
              "      <td>0</td>\n",
              "      <td>73</td>\n",
              "      <td>508</td>\n",
              "      <td>0</td>\n",
              "    </tr>\n",
              "    <tr>\n",
              "      <th>1</th>\n",
              "      <td>1</td>\n",
              "      <td>1</td>\n",
              "      <td>2021-01-15 09:00:01.146</td>\n",
              "      <td>2</td>\n",
              "      <td>508</td>\n",
              "      <td>73</td>\n",
              "      <td>0</td>\n",
              "      <td>73</td>\n",
              "      <td>508</td>\n",
              "      <td>0</td>\n",
              "    </tr>\n",
              "    <tr>\n",
              "      <th>2</th>\n",
              "      <td>2</td>\n",
              "      <td>1</td>\n",
              "      <td>2021-01-15 09:00:02.161</td>\n",
              "      <td>2</td>\n",
              "      <td>508</td>\n",
              "      <td>73</td>\n",
              "      <td>0</td>\n",
              "      <td>73</td>\n",
              "      <td>508</td>\n",
              "      <td>0</td>\n",
              "    </tr>\n",
              "    <tr>\n",
              "      <th>3</th>\n",
              "      <td>3</td>\n",
              "      <td>1</td>\n",
              "      <td>2021-01-15 09:00:03.176</td>\n",
              "      <td>2</td>\n",
              "      <td>508</td>\n",
              "      <td>73</td>\n",
              "      <td>0</td>\n",
              "      <td>73</td>\n",
              "      <td>508</td>\n",
              "      <td>0</td>\n",
              "    </tr>\n",
              "    <tr>\n",
              "      <th>4</th>\n",
              "      <td>4</td>\n",
              "      <td>1</td>\n",
              "      <td>2021-01-15 09:00:04.192</td>\n",
              "      <td>2</td>\n",
              "      <td>508</td>\n",
              "      <td>73</td>\n",
              "      <td>0</td>\n",
              "      <td>73</td>\n",
              "      <td>508</td>\n",
              "      <td>0</td>\n",
              "    </tr>\n",
              "  </tbody>\n",
              "</table>\n",
              "</div>\n",
              "      <button class=\"colab-df-convert\" onclick=\"convertToInteractive('df-80e18df8-2246-4aec-a4a3-feaac25a62eb')\"\n",
              "              title=\"Convert this dataframe to an interactive table.\"\n",
              "              style=\"display:none;\">\n",
              "        \n",
              "  <svg xmlns=\"http://www.w3.org/2000/svg\" height=\"24px\"viewBox=\"0 0 24 24\"\n",
              "       width=\"24px\">\n",
              "    <path d=\"M0 0h24v24H0V0z\" fill=\"none\"/>\n",
              "    <path d=\"M18.56 5.44l.94 2.06.94-2.06 2.06-.94-2.06-.94-.94-2.06-.94 2.06-2.06.94zm-11 1L8.5 8.5l.94-2.06 2.06-.94-2.06-.94L8.5 2.5l-.94 2.06-2.06.94zm10 10l.94 2.06.94-2.06 2.06-.94-2.06-.94-.94-2.06-.94 2.06-2.06.94z\"/><path d=\"M17.41 7.96l-1.37-1.37c-.4-.4-.92-.59-1.43-.59-.52 0-1.04.2-1.43.59L10.3 9.45l-7.72 7.72c-.78.78-.78 2.05 0 2.83L4 21.41c.39.39.9.59 1.41.59.51 0 1.02-.2 1.41-.59l7.78-7.78 2.81-2.81c.8-.78.8-2.07 0-2.86zM5.41 20L4 18.59l7.72-7.72 1.47 1.35L5.41 20z\"/>\n",
              "  </svg>\n",
              "      </button>\n",
              "      \n",
              "  <style>\n",
              "    .colab-df-container {\n",
              "      display:flex;\n",
              "      flex-wrap:wrap;\n",
              "      gap: 12px;\n",
              "    }\n",
              "\n",
              "    .colab-df-convert {\n",
              "      background-color: #E8F0FE;\n",
              "      border: none;\n",
              "      border-radius: 50%;\n",
              "      cursor: pointer;\n",
              "      display: none;\n",
              "      fill: #1967D2;\n",
              "      height: 32px;\n",
              "      padding: 0 0 0 0;\n",
              "      width: 32px;\n",
              "    }\n",
              "\n",
              "    .colab-df-convert:hover {\n",
              "      background-color: #E2EBFA;\n",
              "      box-shadow: 0px 1px 2px rgba(60, 64, 67, 0.3), 0px 1px 3px 1px rgba(60, 64, 67, 0.15);\n",
              "      fill: #174EA6;\n",
              "    }\n",
              "\n",
              "    [theme=dark] .colab-df-convert {\n",
              "      background-color: #3B4455;\n",
              "      fill: #D2E3FC;\n",
              "    }\n",
              "\n",
              "    [theme=dark] .colab-df-convert:hover {\n",
              "      background-color: #434B5C;\n",
              "      box-shadow: 0px 1px 3px 1px rgba(0, 0, 0, 0.15);\n",
              "      filter: drop-shadow(0px 1px 2px rgba(0, 0, 0, 0.3));\n",
              "      fill: #FFFFFF;\n",
              "    }\n",
              "  </style>\n",
              "\n",
              "      <script>\n",
              "        const buttonEl =\n",
              "          document.querySelector('#df-80e18df8-2246-4aec-a4a3-feaac25a62eb button.colab-df-convert');\n",
              "        buttonEl.style.display =\n",
              "          google.colab.kernel.accessAllowed ? 'block' : 'none';\n",
              "\n",
              "        async function convertToInteractive(key) {\n",
              "          const element = document.querySelector('#df-80e18df8-2246-4aec-a4a3-feaac25a62eb');\n",
              "          const dataTable =\n",
              "            await google.colab.kernel.invokeFunction('convertToInteractive',\n",
              "                                                     [key], {});\n",
              "          if (!dataTable) return;\n",
              "\n",
              "          const docLinkHtml = 'Like what you see? Visit the ' +\n",
              "            '<a target=\"_blank\" href=https://colab.research.google.com/notebooks/data_table.ipynb>data table notebook</a>'\n",
              "            + ' to learn more about interactive tables.';\n",
              "          element.innerHTML = '';\n",
              "          dataTable['output_type'] = 'display_data';\n",
              "          await google.colab.output.renderOutput(dataTable, element);\n",
              "          const docLink = document.createElement('div');\n",
              "          docLink.innerHTML = docLinkHtml;\n",
              "          element.appendChild(docLink);\n",
              "        }\n",
              "      </script>\n",
              "    </div>\n",
              "  </div>\n",
              "  "
            ]
          },
          "metadata": {}
        },
        {
          "output_type": "execute_result",
          "data": {
            "text/plain": [
              "2346162"
            ]
          },
          "metadata": {},
          "execution_count": 7
        }
      ]
    },
    {
      "cell_type": "markdown",
      "metadata": {
        "id": "yecwJpz1PWrQ"
      },
      "source": [
        "## ノック４２：日付の範囲を確認しよう"
      ]
    },
    {
      "cell_type": "code",
      "metadata": {
        "id": "an1sjR1vQyUI",
        "colab": {
          "base_uri": "https://localhost:8080/"
        },
        "outputId": "184f52af-2357-460b-f3ba-1701830b3e05"
      },
      "source": [
        "min_receive_time=data['receive_time'].min()\n",
        "max_receive_time=data['receive_time'].max()\n",
        "print(min_receive_time)\n",
        "print(max_receive_time)"
      ],
      "execution_count": 9,
      "outputs": [
        {
          "output_type": "stream",
          "name": "stdout",
          "text": [
            "2021-01-15 09:00:00.144000\n",
            "2021-02-14 17:59:59.956000\n"
          ]
        }
      ]
    },
    {
      "cell_type": "code",
      "metadata": {
        "id": "POFL8sU0RHE0",
        "colab": {
          "base_uri": "https://localhost:8080/"
        },
        "outputId": "dfa8b04a-f1d9-43af-f7c3-1daafacd74fa"
      },
      "source": [
        "print(data['receive_time'].max()-data['receive_time'].min())"
      ],
      "execution_count": 10,
      "outputs": [
        {
          "output_type": "stream",
          "name": "stdout",
          "text": [
            "30 days 08:59:59.812000\n"
          ]
        }
      ]
    },
    {
      "cell_type": "markdown",
      "metadata": {
        "id": "5Y7f3a3BM-pm"
      },
      "source": [
        "## ノック４３：日毎のデータ件数を確認しよう"
      ]
    },
    {
      "cell_type": "code",
      "metadata": {
        "id": "Vnepx-lShiUG"
      },
      "source": [
        ""
      ],
      "execution_count": null,
      "outputs": []
    },
    {
      "cell_type": "code",
      "metadata": {
        "id": "MgqV8TIyhvBn"
      },
      "source": [
        ""
      ],
      "execution_count": null,
      "outputs": []
    },
    {
      "cell_type": "code",
      "metadata": {
        "id": "VaG_EWlkiMup"
      },
      "source": [
        ""
      ],
      "execution_count": null,
      "outputs": []
    },
    {
      "cell_type": "markdown",
      "metadata": {
        "id": "ViRmiYPJnmus"
      },
      "source": [
        "## ノック４４：日付から曜日を算出しよう"
      ]
    },
    {
      "cell_type": "code",
      "metadata": {
        "id": "5vpJDlsdnx3t"
      },
      "source": [
        ""
      ],
      "execution_count": null,
      "outputs": []
    },
    {
      "cell_type": "code",
      "metadata": {
        "id": "SWwV1gJkoERb"
      },
      "source": [
        ""
      ],
      "execution_count": null,
      "outputs": []
    },
    {
      "cell_type": "markdown",
      "metadata": {
        "id": "iA3P7k4TljBX"
      },
      "source": [
        "## ノック４５：特定範囲のデータに絞り込もう"
      ]
    },
    {
      "cell_type": "code",
      "metadata": {
        "id": "6MfBS5OMkb4l"
      },
      "source": [
        ""
      ],
      "execution_count": null,
      "outputs": []
    },
    {
      "cell_type": "markdown",
      "metadata": {
        "id": "-3-FbGQmi193"
      },
      "source": [
        "## ノック４６：秒単位のデータを作成しよう"
      ]
    },
    {
      "cell_type": "code",
      "metadata": {
        "id": "oH7M8ZOgNMaa"
      },
      "source": [
        ""
      ],
      "execution_count": null,
      "outputs": []
    },
    {
      "cell_type": "code",
      "metadata": {
        "id": "p4LgSOicTVrJ"
      },
      "source": [
        ""
      ],
      "execution_count": null,
      "outputs": []
    },
    {
      "cell_type": "code",
      "metadata": {
        "id": "swhwTcNuTwWB"
      },
      "source": [
        ""
      ],
      "execution_count": null,
      "outputs": []
    },
    {
      "cell_type": "code",
      "metadata": {
        "id": "ijL7ratGNyET"
      },
      "source": [
        ""
      ],
      "execution_count": null,
      "outputs": []
    },
    {
      "cell_type": "code",
      "metadata": {
        "id": "Uuu338bATkyv"
      },
      "source": [
        ""
      ],
      "execution_count": null,
      "outputs": []
    },
    {
      "cell_type": "code",
      "metadata": {
        "id": "3zZLHEUVe7Lz"
      },
      "source": [
        ""
      ],
      "execution_count": null,
      "outputs": []
    },
    {
      "cell_type": "markdown",
      "metadata": {
        "id": "0jEeKThlZLtm"
      },
      "source": [
        "## ノック４７：秒単位のデータを整形しよう"
      ]
    },
    {
      "cell_type": "code",
      "metadata": {
        "id": "zMVJa_9kdTom"
      },
      "source": [
        ""
      ],
      "execution_count": null,
      "outputs": []
    },
    {
      "cell_type": "code",
      "metadata": {
        "id": "rZ_EFhHHd4PR"
      },
      "source": [
        ""
      ],
      "execution_count": null,
      "outputs": []
    },
    {
      "cell_type": "code",
      "metadata": {
        "id": "ggkxNp8DgCRl"
      },
      "source": [
        ""
      ],
      "execution_count": null,
      "outputs": []
    },
    {
      "cell_type": "markdown",
      "metadata": {
        "id": "sfKC6KKArWnk"
      },
      "source": [
        "## ノック４８：秒間の欠損データを処理しよう"
      ]
    },
    {
      "cell_type": "code",
      "metadata": {
        "id": "DFSPB1OirelE"
      },
      "source": [
        ""
      ],
      "execution_count": null,
      "outputs": []
    },
    {
      "cell_type": "markdown",
      "metadata": {
        "id": "bc3iz7IpdOYR"
      },
      "source": [
        "## ノック４９：通った人数を可視化しよう"
      ]
    },
    {
      "cell_type": "code",
      "metadata": {
        "id": "fYnnojaITazg"
      },
      "source": [
        ""
      ],
      "execution_count": null,
      "outputs": []
    },
    {
      "cell_type": "code",
      "metadata": {
        "id": "3FCq69jxuioT"
      },
      "source": [
        ""
      ],
      "execution_count": null,
      "outputs": []
    },
    {
      "cell_type": "code",
      "metadata": {
        "id": "8QB-Hx0vvgww"
      },
      "source": [
        ""
      ],
      "execution_count": null,
      "outputs": []
    },
    {
      "cell_type": "code",
      "metadata": {
        "id": "yl9j0jz2wHd_"
      },
      "source": [
        ""
      ],
      "execution_count": null,
      "outputs": []
    },
    {
      "cell_type": "code",
      "metadata": {
        "id": "WVRSqb1LyfXx"
      },
      "source": [
        ""
      ],
      "execution_count": null,
      "outputs": []
    },
    {
      "cell_type": "code",
      "metadata": {
        "id": "YSPynlFL2aKd"
      },
      "source": [
        ""
      ],
      "execution_count": null,
      "outputs": []
    },
    {
      "cell_type": "code",
      "metadata": {
        "id": "7VWa3PVkwZKE"
      },
      "source": [
        ""
      ],
      "execution_count": null,
      "outputs": []
    },
    {
      "cell_type": "markdown",
      "metadata": {
        "id": "ZyRFGF40OOcQ"
      },
      "source": [
        "## ノック５０：移動平均を計算して可視化しよう"
      ]
    },
    {
      "cell_type": "code",
      "metadata": {
        "id": "UdZHRrMgP5XX"
      },
      "source": [
        ""
      ],
      "execution_count": null,
      "outputs": []
    },
    {
      "cell_type": "code",
      "metadata": {
        "id": "syQ5W215hQrf"
      },
      "source": [
        ""
      ],
      "execution_count": null,
      "outputs": []
    },
    {
      "cell_type": "code",
      "metadata": {
        "id": "bnrRANvmP5kT"
      },
      "source": [
        ""
      ],
      "execution_count": null,
      "outputs": []
    }
  ]
}