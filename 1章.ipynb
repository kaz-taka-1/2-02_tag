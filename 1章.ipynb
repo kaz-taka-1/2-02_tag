{
  "nbformat": 4,
  "nbformat_minor": 0,
  "metadata": {
    "kernelspec": {
      "display_name": "Python 3",
      "language": "python",
      "name": "python3"
    },
    "language_info": {
      "codemirror_mode": {
        "name": "ipython",
        "version": 3
      },
      "file_extension": ".py",
      "mimetype": "text/x-python",
      "name": "python",
      "nbconvert_exporter": "python",
      "pygments_lexer": "ipython3",
      "version": "3.6.9"
    },
    "colab": {
      "name": "1章.ipynb",
      "provenance": [],
      "collapsed_sections": [],
      "include_colab_link": true
    }
  },
  "cells": [
    {
      "cell_type": "markdown",
      "metadata": {
        "id": "view-in-github",
        "colab_type": "text"
      },
      "source": [
        "<a href=\"https://colab.research.google.com/github/kaz-taka-1/2-02_tag/blob/main/1%E7%AB%A0.ipynb\" target=\"_parent\"><img src=\"https://colab.research.google.com/assets/colab-badge.svg\" alt=\"Open In Colab\"/></a>"
      ]
    },
    {
      "cell_type": "code",
      "metadata": {
        "id": "HB3mviwv25Jc",
        "colab": {
          "base_uri": "https://localhost:8080/"
        },
        "outputId": "8347cc65-54f6-4787-a4c6-276ce3629e52"
      },
      "source": [
        "# 下記セルを実行すると、authorization codeの入力を求められます。\n",
        "# 出力されたリンク先をクリックし、Googleアカウントにログインし、\n",
        "# authorization codeをコピーし、貼り付けをおこなってください。\n",
        "from google.colab import drive\n",
        "drive.mount('/content/drive')"
      ],
      "execution_count": 4,
      "outputs": [
        {
          "output_type": "stream",
          "name": "stdout",
          "text": [
            "Drive already mounted at /content/drive; to attempt to forcibly remount, call drive.mount(\"/content/drive\", force_remount=True).\n"
          ]
        }
      ]
    },
    {
      "cell_type": "code",
      "metadata": {
        "id": "HcOU_u4l25Jd"
      },
      "source": [
        "import os \n",
        "project = '100knock-process-visualization'\n",
        "chapter = 1\n",
        "os.chdir(f'/content/drive/MyDrive/{project}/chapter-{chapter}/')"
      ],
      "execution_count": 5,
      "outputs": []
    },
    {
      "cell_type": "markdown",
      "metadata": {
        "id": "pCbOP-x725Jd"
      },
      "source": [
        "# １章 システムデータの加工・可視化を行う２０本ノック"
      ]
    },
    {
      "cell_type": "markdown",
      "metadata": {
        "id": "OrJw1o3ZAf2z"
      },
      "source": [
        "## ノック１：法人情報データを読み込んでみよう"
      ]
    },
    {
      "cell_type": "code",
      "metadata": {
        "id": "Kxb1fvmCv_4a"
      },
      "source": [
        "import pandas as pd"
      ],
      "execution_count": 6,
      "outputs": []
    },
    {
      "cell_type": "code",
      "metadata": {
        "id": "Vn9gtsmwv_9u"
      },
      "source": [
        "data = pd.read_csv('data/22_shizuoka_all_20210331.csv',encoding='shift-jis',header=None)"
      ],
      "execution_count": 7,
      "outputs": []
    },
    {
      "cell_type": "code",
      "metadata": {
        "id": "QvwXkOiQxWjP",
        "colab": {
          "base_uri": "https://localhost:8080/",
          "height": 453
        },
        "outputId": "21147e63-a56b-4065-da49-b8df180c04b5"
      },
      "source": [
        "data.head()"
      ],
      "execution_count": 8,
      "outputs": [
        {
          "output_type": "execute_result",
          "data": {
            "text/plain": [
              "   0              1   2   3           4           5        6   7    8    9   \\\n",
              "0   1  1000013040008   1   1  2018-04-02  2015-10-05  静岡家庭裁判所 NaN  101  静岡県   \n",
              "1   2  1000013050072   1   1  2018-04-02  2015-10-05  清水簡易裁判所 NaN  101  静岡県   \n",
              "2   3  1000013050080   1   1  2018-04-02  2015-10-05  浜松簡易裁判所 NaN  101  静岡県   \n",
              "3   4  1000020222119   1   1  2018-04-05  2015-10-05      磐田市 NaN  201  静岡県   \n",
              "4   5  1000020222127   1   1  2018-04-05  2015-10-05      焼津市 NaN  201  静岡県   \n",
              "\n",
              "   ...  20   21          22  23                       24        25  \\\n",
              "0  ... NaN  NaN  2015-10-05   1    Shizuoka Family Court  Shizuoka   \n",
              "1  ... NaN  NaN  2015-10-05   1    Shimizu Summary Court  Shizuoka   \n",
              "2  ... NaN  NaN  2015-10-05   1  Hamamatsu Summary Court  Shizuoka   \n",
              "3  ... NaN  NaN  2015-10-05   1               Iwata City  Shizuoka   \n",
              "4  ... NaN  NaN  2015-10-05   1               Yaizu city  Shizuoka   \n",
              "\n",
              "                                         26  27             28  29  \n",
              "0      1-20, Jonaicho, Aoi ku, Shizuoka shi NaN  シズオカカテイサイバンショ   0  \n",
              "1  1-6-15, Tenjin, Shimizu ku, Shizuoka shi NaN   シミズカンイサイバンショ   0  \n",
              "2      1-12-5, Chuo, Naka ku, Hamamatsu shi NaN  ハママツカンイサイバンショ   0  \n",
              "3                   3-1,Kounodai, Iwata shi NaN           イワタシ   0  \n",
              "4               2-16-32 Honmachi, Yaizu shi NaN           ヤイヅシ   0  \n",
              "\n",
              "[5 rows x 30 columns]"
            ],
            "text/html": [
              "\n",
              "  <div id=\"df-4e47dbba-5d17-4816-8b8b-708ceb0ddbf9\">\n",
              "    <div class=\"colab-df-container\">\n",
              "      <div>\n",
              "<style scoped>\n",
              "    .dataframe tbody tr th:only-of-type {\n",
              "        vertical-align: middle;\n",
              "    }\n",
              "\n",
              "    .dataframe tbody tr th {\n",
              "        vertical-align: top;\n",
              "    }\n",
              "\n",
              "    .dataframe thead th {\n",
              "        text-align: right;\n",
              "    }\n",
              "</style>\n",
              "<table border=\"1\" class=\"dataframe\">\n",
              "  <thead>\n",
              "    <tr style=\"text-align: right;\">\n",
              "      <th></th>\n",
              "      <th>0</th>\n",
              "      <th>1</th>\n",
              "      <th>2</th>\n",
              "      <th>3</th>\n",
              "      <th>4</th>\n",
              "      <th>5</th>\n",
              "      <th>6</th>\n",
              "      <th>7</th>\n",
              "      <th>8</th>\n",
              "      <th>9</th>\n",
              "      <th>...</th>\n",
              "      <th>20</th>\n",
              "      <th>21</th>\n",
              "      <th>22</th>\n",
              "      <th>23</th>\n",
              "      <th>24</th>\n",
              "      <th>25</th>\n",
              "      <th>26</th>\n",
              "      <th>27</th>\n",
              "      <th>28</th>\n",
              "      <th>29</th>\n",
              "    </tr>\n",
              "  </thead>\n",
              "  <tbody>\n",
              "    <tr>\n",
              "      <th>0</th>\n",
              "      <td>1</td>\n",
              "      <td>1000013040008</td>\n",
              "      <td>1</td>\n",
              "      <td>1</td>\n",
              "      <td>2018-04-02</td>\n",
              "      <td>2015-10-05</td>\n",
              "      <td>静岡家庭裁判所</td>\n",
              "      <td>NaN</td>\n",
              "      <td>101</td>\n",
              "      <td>静岡県</td>\n",
              "      <td>...</td>\n",
              "      <td>NaN</td>\n",
              "      <td>NaN</td>\n",
              "      <td>2015-10-05</td>\n",
              "      <td>1</td>\n",
              "      <td>Shizuoka Family Court</td>\n",
              "      <td>Shizuoka</td>\n",
              "      <td>1-20, Jonaicho, Aoi ku, Shizuoka shi</td>\n",
              "      <td>NaN</td>\n",
              "      <td>シズオカカテイサイバンショ</td>\n",
              "      <td>0</td>\n",
              "    </tr>\n",
              "    <tr>\n",
              "      <th>1</th>\n",
              "      <td>2</td>\n",
              "      <td>1000013050072</td>\n",
              "      <td>1</td>\n",
              "      <td>1</td>\n",
              "      <td>2018-04-02</td>\n",
              "      <td>2015-10-05</td>\n",
              "      <td>清水簡易裁判所</td>\n",
              "      <td>NaN</td>\n",
              "      <td>101</td>\n",
              "      <td>静岡県</td>\n",
              "      <td>...</td>\n",
              "      <td>NaN</td>\n",
              "      <td>NaN</td>\n",
              "      <td>2015-10-05</td>\n",
              "      <td>1</td>\n",
              "      <td>Shimizu Summary Court</td>\n",
              "      <td>Shizuoka</td>\n",
              "      <td>1-6-15, Tenjin, Shimizu ku, Shizuoka shi</td>\n",
              "      <td>NaN</td>\n",
              "      <td>シミズカンイサイバンショ</td>\n",
              "      <td>0</td>\n",
              "    </tr>\n",
              "    <tr>\n",
              "      <th>2</th>\n",
              "      <td>3</td>\n",
              "      <td>1000013050080</td>\n",
              "      <td>1</td>\n",
              "      <td>1</td>\n",
              "      <td>2018-04-02</td>\n",
              "      <td>2015-10-05</td>\n",
              "      <td>浜松簡易裁判所</td>\n",
              "      <td>NaN</td>\n",
              "      <td>101</td>\n",
              "      <td>静岡県</td>\n",
              "      <td>...</td>\n",
              "      <td>NaN</td>\n",
              "      <td>NaN</td>\n",
              "      <td>2015-10-05</td>\n",
              "      <td>1</td>\n",
              "      <td>Hamamatsu Summary Court</td>\n",
              "      <td>Shizuoka</td>\n",
              "      <td>1-12-5, Chuo, Naka ku, Hamamatsu shi</td>\n",
              "      <td>NaN</td>\n",
              "      <td>ハママツカンイサイバンショ</td>\n",
              "      <td>0</td>\n",
              "    </tr>\n",
              "    <tr>\n",
              "      <th>3</th>\n",
              "      <td>4</td>\n",
              "      <td>1000020222119</td>\n",
              "      <td>1</td>\n",
              "      <td>1</td>\n",
              "      <td>2018-04-05</td>\n",
              "      <td>2015-10-05</td>\n",
              "      <td>磐田市</td>\n",
              "      <td>NaN</td>\n",
              "      <td>201</td>\n",
              "      <td>静岡県</td>\n",
              "      <td>...</td>\n",
              "      <td>NaN</td>\n",
              "      <td>NaN</td>\n",
              "      <td>2015-10-05</td>\n",
              "      <td>1</td>\n",
              "      <td>Iwata City</td>\n",
              "      <td>Shizuoka</td>\n",
              "      <td>3-1,Kounodai, Iwata shi</td>\n",
              "      <td>NaN</td>\n",
              "      <td>イワタシ</td>\n",
              "      <td>0</td>\n",
              "    </tr>\n",
              "    <tr>\n",
              "      <th>4</th>\n",
              "      <td>5</td>\n",
              "      <td>1000020222127</td>\n",
              "      <td>1</td>\n",
              "      <td>1</td>\n",
              "      <td>2018-04-05</td>\n",
              "      <td>2015-10-05</td>\n",
              "      <td>焼津市</td>\n",
              "      <td>NaN</td>\n",
              "      <td>201</td>\n",
              "      <td>静岡県</td>\n",
              "      <td>...</td>\n",
              "      <td>NaN</td>\n",
              "      <td>NaN</td>\n",
              "      <td>2015-10-05</td>\n",
              "      <td>1</td>\n",
              "      <td>Yaizu city</td>\n",
              "      <td>Shizuoka</td>\n",
              "      <td>2-16-32 Honmachi, Yaizu shi</td>\n",
              "      <td>NaN</td>\n",
              "      <td>ヤイヅシ</td>\n",
              "      <td>0</td>\n",
              "    </tr>\n",
              "  </tbody>\n",
              "</table>\n",
              "<p>5 rows × 30 columns</p>\n",
              "</div>\n",
              "      <button class=\"colab-df-convert\" onclick=\"convertToInteractive('df-4e47dbba-5d17-4816-8b8b-708ceb0ddbf9')\"\n",
              "              title=\"Convert this dataframe to an interactive table.\"\n",
              "              style=\"display:none;\">\n",
              "        \n",
              "  <svg xmlns=\"http://www.w3.org/2000/svg\" height=\"24px\"viewBox=\"0 0 24 24\"\n",
              "       width=\"24px\">\n",
              "    <path d=\"M0 0h24v24H0V0z\" fill=\"none\"/>\n",
              "    <path d=\"M18.56 5.44l.94 2.06.94-2.06 2.06-.94-2.06-.94-.94-2.06-.94 2.06-2.06.94zm-11 1L8.5 8.5l.94-2.06 2.06-.94-2.06-.94L8.5 2.5l-.94 2.06-2.06.94zm10 10l.94 2.06.94-2.06 2.06-.94-2.06-.94-.94-2.06-.94 2.06-2.06.94z\"/><path d=\"M17.41 7.96l-1.37-1.37c-.4-.4-.92-.59-1.43-.59-.52 0-1.04.2-1.43.59L10.3 9.45l-7.72 7.72c-.78.78-.78 2.05 0 2.83L4 21.41c.39.39.9.59 1.41.59.51 0 1.02-.2 1.41-.59l7.78-7.78 2.81-2.81c.8-.78.8-2.07 0-2.86zM5.41 20L4 18.59l7.72-7.72 1.47 1.35L5.41 20z\"/>\n",
              "  </svg>\n",
              "      </button>\n",
              "      \n",
              "  <style>\n",
              "    .colab-df-container {\n",
              "      display:flex;\n",
              "      flex-wrap:wrap;\n",
              "      gap: 12px;\n",
              "    }\n",
              "\n",
              "    .colab-df-convert {\n",
              "      background-color: #E8F0FE;\n",
              "      border: none;\n",
              "      border-radius: 50%;\n",
              "      cursor: pointer;\n",
              "      display: none;\n",
              "      fill: #1967D2;\n",
              "      height: 32px;\n",
              "      padding: 0 0 0 0;\n",
              "      width: 32px;\n",
              "    }\n",
              "\n",
              "    .colab-df-convert:hover {\n",
              "      background-color: #E2EBFA;\n",
              "      box-shadow: 0px 1px 2px rgba(60, 64, 67, 0.3), 0px 1px 3px 1px rgba(60, 64, 67, 0.15);\n",
              "      fill: #174EA6;\n",
              "    }\n",
              "\n",
              "    [theme=dark] .colab-df-convert {\n",
              "      background-color: #3B4455;\n",
              "      fill: #D2E3FC;\n",
              "    }\n",
              "\n",
              "    [theme=dark] .colab-df-convert:hover {\n",
              "      background-color: #434B5C;\n",
              "      box-shadow: 0px 1px 3px 1px rgba(0, 0, 0, 0.15);\n",
              "      filter: drop-shadow(0px 1px 2px rgba(0, 0, 0, 0.3));\n",
              "      fill: #FFFFFF;\n",
              "    }\n",
              "  </style>\n",
              "\n",
              "      <script>\n",
              "        const buttonEl =\n",
              "          document.querySelector('#df-4e47dbba-5d17-4816-8b8b-708ceb0ddbf9 button.colab-df-convert');\n",
              "        buttonEl.style.display =\n",
              "          google.colab.kernel.accessAllowed ? 'block' : 'none';\n",
              "\n",
              "        async function convertToInteractive(key) {\n",
              "          const element = document.querySelector('#df-4e47dbba-5d17-4816-8b8b-708ceb0ddbf9');\n",
              "          const dataTable =\n",
              "            await google.colab.kernel.invokeFunction('convertToInteractive',\n",
              "                                                     [key], {});\n",
              "          if (!dataTable) return;\n",
              "\n",
              "          const docLinkHtml = 'Like what you see? Visit the ' +\n",
              "            '<a target=\"_blank\" href=https://colab.research.google.com/notebooks/data_table.ipynb>data table notebook</a>'\n",
              "            + ' to learn more about interactive tables.';\n",
              "          element.innerHTML = '';\n",
              "          dataTable['output_type'] = 'display_data';\n",
              "          await google.colab.output.renderOutput(dataTable, element);\n",
              "          const docLink = document.createElement('div');\n",
              "          docLink.innerHTML = docLinkHtml;\n",
              "          element.appendChild(docLink);\n",
              "        }\n",
              "      </script>\n",
              "    </div>\n",
              "  </div>\n",
              "  "
            ]
          },
          "metadata": {},
          "execution_count": 8
        }
      ]
    },
    {
      "cell_type": "code",
      "metadata": {
        "id": "4_tpsKnw4nr1",
        "colab": {
          "base_uri": "https://localhost:8080/"
        },
        "outputId": "6c212a54-fc92-44d0-c8b3-3c573c3c89f5"
      },
      "source": [
        "len(data.columns)"
      ],
      "execution_count": 9,
      "outputs": [
        {
          "output_type": "execute_result",
          "data": {
            "text/plain": [
              "30"
            ]
          },
          "metadata": {},
          "execution_count": 9
        }
      ]
    },
    {
      "cell_type": "code",
      "metadata": {
        "id": "XKjiB1s94qf8"
      },
      "source": [
        "data = pd.read_csv('data/22_shizuoka_all_20210331.csv',encoding='shift-jis',header=None,dtype=object)"
      ],
      "execution_count": 10,
      "outputs": []
    },
    {
      "cell_type": "code",
      "metadata": {
        "id": "KPKVCG9U4qmB",
        "colab": {
          "base_uri": "https://localhost:8080/",
          "height": 453
        },
        "outputId": "00e839c1-2467-442b-b3f1-1f44f7ea0db8"
      },
      "source": [
        "data.head()"
      ],
      "execution_count": 11,
      "outputs": [
        {
          "output_type": "execute_result",
          "data": {
            "text/plain": [
              "  0              1   2  3           4           5        6    7    8    9   \\\n",
              "0  1  1000013040008  01  1  2018-04-02  2015-10-05  静岡家庭裁判所  NaN  101  静岡県   \n",
              "1  2  1000013050072  01  1  2018-04-02  2015-10-05  清水簡易裁判所  NaN  101  静岡県   \n",
              "2  3  1000013050080  01  1  2018-04-02  2015-10-05  浜松簡易裁判所  NaN  101  静岡県   \n",
              "3  4  1000020222119  01  1  2018-04-05  2015-10-05      磐田市  NaN  201  静岡県   \n",
              "4  5  1000020222127  01  1  2018-04-05  2015-10-05      焼津市  NaN  201  静岡県   \n",
              "\n",
              "   ...   20   21          22 23                       24        25  \\\n",
              "0  ...  NaN  NaN  2015-10-05  1    Shizuoka Family Court  Shizuoka   \n",
              "1  ...  NaN  NaN  2015-10-05  1    Shimizu Summary Court  Shizuoka   \n",
              "2  ...  NaN  NaN  2015-10-05  1  Hamamatsu Summary Court  Shizuoka   \n",
              "3  ...  NaN  NaN  2015-10-05  1               Iwata City  Shizuoka   \n",
              "4  ...  NaN  NaN  2015-10-05  1               Yaizu city  Shizuoka   \n",
              "\n",
              "                                         26   27             28 29  \n",
              "0      1-20, Jonaicho, Aoi ku, Shizuoka shi  NaN  シズオカカテイサイバンショ  0  \n",
              "1  1-6-15, Tenjin, Shimizu ku, Shizuoka shi  NaN   シミズカンイサイバンショ  0  \n",
              "2      1-12-5, Chuo, Naka ku, Hamamatsu shi  NaN  ハママツカンイサイバンショ  0  \n",
              "3                   3-1,Kounodai, Iwata shi  NaN           イワタシ  0  \n",
              "4               2-16-32 Honmachi, Yaizu shi  NaN           ヤイヅシ  0  \n",
              "\n",
              "[5 rows x 30 columns]"
            ],
            "text/html": [
              "\n",
              "  <div id=\"df-ea22c490-f654-4f33-853d-7e74e1d58519\">\n",
              "    <div class=\"colab-df-container\">\n",
              "      <div>\n",
              "<style scoped>\n",
              "    .dataframe tbody tr th:only-of-type {\n",
              "        vertical-align: middle;\n",
              "    }\n",
              "\n",
              "    .dataframe tbody tr th {\n",
              "        vertical-align: top;\n",
              "    }\n",
              "\n",
              "    .dataframe thead th {\n",
              "        text-align: right;\n",
              "    }\n",
              "</style>\n",
              "<table border=\"1\" class=\"dataframe\">\n",
              "  <thead>\n",
              "    <tr style=\"text-align: right;\">\n",
              "      <th></th>\n",
              "      <th>0</th>\n",
              "      <th>1</th>\n",
              "      <th>2</th>\n",
              "      <th>3</th>\n",
              "      <th>4</th>\n",
              "      <th>5</th>\n",
              "      <th>6</th>\n",
              "      <th>7</th>\n",
              "      <th>8</th>\n",
              "      <th>9</th>\n",
              "      <th>...</th>\n",
              "      <th>20</th>\n",
              "      <th>21</th>\n",
              "      <th>22</th>\n",
              "      <th>23</th>\n",
              "      <th>24</th>\n",
              "      <th>25</th>\n",
              "      <th>26</th>\n",
              "      <th>27</th>\n",
              "      <th>28</th>\n",
              "      <th>29</th>\n",
              "    </tr>\n",
              "  </thead>\n",
              "  <tbody>\n",
              "    <tr>\n",
              "      <th>0</th>\n",
              "      <td>1</td>\n",
              "      <td>1000013040008</td>\n",
              "      <td>01</td>\n",
              "      <td>1</td>\n",
              "      <td>2018-04-02</td>\n",
              "      <td>2015-10-05</td>\n",
              "      <td>静岡家庭裁判所</td>\n",
              "      <td>NaN</td>\n",
              "      <td>101</td>\n",
              "      <td>静岡県</td>\n",
              "      <td>...</td>\n",
              "      <td>NaN</td>\n",
              "      <td>NaN</td>\n",
              "      <td>2015-10-05</td>\n",
              "      <td>1</td>\n",
              "      <td>Shizuoka Family Court</td>\n",
              "      <td>Shizuoka</td>\n",
              "      <td>1-20, Jonaicho, Aoi ku, Shizuoka shi</td>\n",
              "      <td>NaN</td>\n",
              "      <td>シズオカカテイサイバンショ</td>\n",
              "      <td>0</td>\n",
              "    </tr>\n",
              "    <tr>\n",
              "      <th>1</th>\n",
              "      <td>2</td>\n",
              "      <td>1000013050072</td>\n",
              "      <td>01</td>\n",
              "      <td>1</td>\n",
              "      <td>2018-04-02</td>\n",
              "      <td>2015-10-05</td>\n",
              "      <td>清水簡易裁判所</td>\n",
              "      <td>NaN</td>\n",
              "      <td>101</td>\n",
              "      <td>静岡県</td>\n",
              "      <td>...</td>\n",
              "      <td>NaN</td>\n",
              "      <td>NaN</td>\n",
              "      <td>2015-10-05</td>\n",
              "      <td>1</td>\n",
              "      <td>Shimizu Summary Court</td>\n",
              "      <td>Shizuoka</td>\n",
              "      <td>1-6-15, Tenjin, Shimizu ku, Shizuoka shi</td>\n",
              "      <td>NaN</td>\n",
              "      <td>シミズカンイサイバンショ</td>\n",
              "      <td>0</td>\n",
              "    </tr>\n",
              "    <tr>\n",
              "      <th>2</th>\n",
              "      <td>3</td>\n",
              "      <td>1000013050080</td>\n",
              "      <td>01</td>\n",
              "      <td>1</td>\n",
              "      <td>2018-04-02</td>\n",
              "      <td>2015-10-05</td>\n",
              "      <td>浜松簡易裁判所</td>\n",
              "      <td>NaN</td>\n",
              "      <td>101</td>\n",
              "      <td>静岡県</td>\n",
              "      <td>...</td>\n",
              "      <td>NaN</td>\n",
              "      <td>NaN</td>\n",
              "      <td>2015-10-05</td>\n",
              "      <td>1</td>\n",
              "      <td>Hamamatsu Summary Court</td>\n",
              "      <td>Shizuoka</td>\n",
              "      <td>1-12-5, Chuo, Naka ku, Hamamatsu shi</td>\n",
              "      <td>NaN</td>\n",
              "      <td>ハママツカンイサイバンショ</td>\n",
              "      <td>0</td>\n",
              "    </tr>\n",
              "    <tr>\n",
              "      <th>3</th>\n",
              "      <td>4</td>\n",
              "      <td>1000020222119</td>\n",
              "      <td>01</td>\n",
              "      <td>1</td>\n",
              "      <td>2018-04-05</td>\n",
              "      <td>2015-10-05</td>\n",
              "      <td>磐田市</td>\n",
              "      <td>NaN</td>\n",
              "      <td>201</td>\n",
              "      <td>静岡県</td>\n",
              "      <td>...</td>\n",
              "      <td>NaN</td>\n",
              "      <td>NaN</td>\n",
              "      <td>2015-10-05</td>\n",
              "      <td>1</td>\n",
              "      <td>Iwata City</td>\n",
              "      <td>Shizuoka</td>\n",
              "      <td>3-1,Kounodai, Iwata shi</td>\n",
              "      <td>NaN</td>\n",
              "      <td>イワタシ</td>\n",
              "      <td>0</td>\n",
              "    </tr>\n",
              "    <tr>\n",
              "      <th>4</th>\n",
              "      <td>5</td>\n",
              "      <td>1000020222127</td>\n",
              "      <td>01</td>\n",
              "      <td>1</td>\n",
              "      <td>2018-04-05</td>\n",
              "      <td>2015-10-05</td>\n",
              "      <td>焼津市</td>\n",
              "      <td>NaN</td>\n",
              "      <td>201</td>\n",
              "      <td>静岡県</td>\n",
              "      <td>...</td>\n",
              "      <td>NaN</td>\n",
              "      <td>NaN</td>\n",
              "      <td>2015-10-05</td>\n",
              "      <td>1</td>\n",
              "      <td>Yaizu city</td>\n",
              "      <td>Shizuoka</td>\n",
              "      <td>2-16-32 Honmachi, Yaizu shi</td>\n",
              "      <td>NaN</td>\n",
              "      <td>ヤイヅシ</td>\n",
              "      <td>0</td>\n",
              "    </tr>\n",
              "  </tbody>\n",
              "</table>\n",
              "<p>5 rows × 30 columns</p>\n",
              "</div>\n",
              "      <button class=\"colab-df-convert\" onclick=\"convertToInteractive('df-ea22c490-f654-4f33-853d-7e74e1d58519')\"\n",
              "              title=\"Convert this dataframe to an interactive table.\"\n",
              "              style=\"display:none;\">\n",
              "        \n",
              "  <svg xmlns=\"http://www.w3.org/2000/svg\" height=\"24px\"viewBox=\"0 0 24 24\"\n",
              "       width=\"24px\">\n",
              "    <path d=\"M0 0h24v24H0V0z\" fill=\"none\"/>\n",
              "    <path d=\"M18.56 5.44l.94 2.06.94-2.06 2.06-.94-2.06-.94-.94-2.06-.94 2.06-2.06.94zm-11 1L8.5 8.5l.94-2.06 2.06-.94-2.06-.94L8.5 2.5l-.94 2.06-2.06.94zm10 10l.94 2.06.94-2.06 2.06-.94-2.06-.94-.94-2.06-.94 2.06-2.06.94z\"/><path d=\"M17.41 7.96l-1.37-1.37c-.4-.4-.92-.59-1.43-.59-.52 0-1.04.2-1.43.59L10.3 9.45l-7.72 7.72c-.78.78-.78 2.05 0 2.83L4 21.41c.39.39.9.59 1.41.59.51 0 1.02-.2 1.41-.59l7.78-7.78 2.81-2.81c.8-.78.8-2.07 0-2.86zM5.41 20L4 18.59l7.72-7.72 1.47 1.35L5.41 20z\"/>\n",
              "  </svg>\n",
              "      </button>\n",
              "      \n",
              "  <style>\n",
              "    .colab-df-container {\n",
              "      display:flex;\n",
              "      flex-wrap:wrap;\n",
              "      gap: 12px;\n",
              "    }\n",
              "\n",
              "    .colab-df-convert {\n",
              "      background-color: #E8F0FE;\n",
              "      border: none;\n",
              "      border-radius: 50%;\n",
              "      cursor: pointer;\n",
              "      display: none;\n",
              "      fill: #1967D2;\n",
              "      height: 32px;\n",
              "      padding: 0 0 0 0;\n",
              "      width: 32px;\n",
              "    }\n",
              "\n",
              "    .colab-df-convert:hover {\n",
              "      background-color: #E2EBFA;\n",
              "      box-shadow: 0px 1px 2px rgba(60, 64, 67, 0.3), 0px 1px 3px 1px rgba(60, 64, 67, 0.15);\n",
              "      fill: #174EA6;\n",
              "    }\n",
              "\n",
              "    [theme=dark] .colab-df-convert {\n",
              "      background-color: #3B4455;\n",
              "      fill: #D2E3FC;\n",
              "    }\n",
              "\n",
              "    [theme=dark] .colab-df-convert:hover {\n",
              "      background-color: #434B5C;\n",
              "      box-shadow: 0px 1px 3px 1px rgba(0, 0, 0, 0.15);\n",
              "      filter: drop-shadow(0px 1px 2px rgba(0, 0, 0, 0.3));\n",
              "      fill: #FFFFFF;\n",
              "    }\n",
              "  </style>\n",
              "\n",
              "      <script>\n",
              "        const buttonEl =\n",
              "          document.querySelector('#df-ea22c490-f654-4f33-853d-7e74e1d58519 button.colab-df-convert');\n",
              "        buttonEl.style.display =\n",
              "          google.colab.kernel.accessAllowed ? 'block' : 'none';\n",
              "\n",
              "        async function convertToInteractive(key) {\n",
              "          const element = document.querySelector('#df-ea22c490-f654-4f33-853d-7e74e1d58519');\n",
              "          const dataTable =\n",
              "            await google.colab.kernel.invokeFunction('convertToInteractive',\n",
              "                                                     [key], {});\n",
              "          if (!dataTable) return;\n",
              "\n",
              "          const docLinkHtml = 'Like what you see? Visit the ' +\n",
              "            '<a target=\"_blank\" href=https://colab.research.google.com/notebooks/data_table.ipynb>data table notebook</a>'\n",
              "            + ' to learn more about interactive tables.';\n",
              "          element.innerHTML = '';\n",
              "          dataTable['output_type'] = 'display_data';\n",
              "          await google.colab.output.renderOutput(dataTable, element);\n",
              "          const docLink = document.createElement('div');\n",
              "          docLink.innerHTML = docLinkHtml;\n",
              "          element.appendChild(docLink);\n",
              "        }\n",
              "      </script>\n",
              "    </div>\n",
              "  </div>\n",
              "  "
            ]
          },
          "metadata": {},
          "execution_count": 11
        }
      ]
    },
    {
      "cell_type": "code",
      "metadata": {
        "id": "287m2voK4qi0",
        "colab": {
          "base_uri": "https://localhost:8080/"
        },
        "outputId": "9431a9fc-2a4f-4f7f-f133-be87c7496758"
      },
      "source": [
        "data.dtypes"
      ],
      "execution_count": 12,
      "outputs": [
        {
          "output_type": "execute_result",
          "data": {
            "text/plain": [
              "0     object\n",
              "1     object\n",
              "2     object\n",
              "3     object\n",
              "4     object\n",
              "5     object\n",
              "6     object\n",
              "7     object\n",
              "8     object\n",
              "9     object\n",
              "10    object\n",
              "11    object\n",
              "12    object\n",
              "13    object\n",
              "14    object\n",
              "15    object\n",
              "16    object\n",
              "17    object\n",
              "18    object\n",
              "19    object\n",
              "20    object\n",
              "21    object\n",
              "22    object\n",
              "23    object\n",
              "24    object\n",
              "25    object\n",
              "26    object\n",
              "27    object\n",
              "28    object\n",
              "29    object\n",
              "dtype: object"
            ]
          },
          "metadata": {},
          "execution_count": 12
        }
      ]
    },
    {
      "cell_type": "code",
      "source": [
        "mst = pd.read_csv('data/mst_column_name.txt',encoding='shift-jis',sep='\\t')"
      ],
      "metadata": {
        "id": "MeVM8HZXOp4U"
      },
      "execution_count": 19,
      "outputs": []
    },
    {
      "cell_type": "code",
      "source": [
        "mst.head()"
      ],
      "metadata": {
        "colab": {
          "base_uri": "https://localhost:8080/",
          "height": 206
        },
        "id": "Kc73Hx89PEzc",
        "outputId": "ee71fd2e-3a07-4fe9-c975-166186583882"
      },
      "execution_count": 20,
      "outputs": [
        {
          "output_type": "execute_result",
          "data": {
            "text/plain": [
              "   column_id column_name_ja   column_name_en\n",
              "0          1           一連番号   sequenceNumber\n",
              "1          2           法人番号  corporateNumber\n",
              "2          3           処理区分          process\n",
              "3          4           訂正区分          correct\n",
              "4          5          更新年月日       updateDate"
            ],
            "text/html": [
              "\n",
              "  <div id=\"df-cc12cf68-b214-4a9d-b99a-d8835be61e98\">\n",
              "    <div class=\"colab-df-container\">\n",
              "      <div>\n",
              "<style scoped>\n",
              "    .dataframe tbody tr th:only-of-type {\n",
              "        vertical-align: middle;\n",
              "    }\n",
              "\n",
              "    .dataframe tbody tr th {\n",
              "        vertical-align: top;\n",
              "    }\n",
              "\n",
              "    .dataframe thead th {\n",
              "        text-align: right;\n",
              "    }\n",
              "</style>\n",
              "<table border=\"1\" class=\"dataframe\">\n",
              "  <thead>\n",
              "    <tr style=\"text-align: right;\">\n",
              "      <th></th>\n",
              "      <th>column_id</th>\n",
              "      <th>column_name_ja</th>\n",
              "      <th>column_name_en</th>\n",
              "    </tr>\n",
              "  </thead>\n",
              "  <tbody>\n",
              "    <tr>\n",
              "      <th>0</th>\n",
              "      <td>1</td>\n",
              "      <td>一連番号</td>\n",
              "      <td>sequenceNumber</td>\n",
              "    </tr>\n",
              "    <tr>\n",
              "      <th>1</th>\n",
              "      <td>2</td>\n",
              "      <td>法人番号</td>\n",
              "      <td>corporateNumber</td>\n",
              "    </tr>\n",
              "    <tr>\n",
              "      <th>2</th>\n",
              "      <td>3</td>\n",
              "      <td>処理区分</td>\n",
              "      <td>process</td>\n",
              "    </tr>\n",
              "    <tr>\n",
              "      <th>3</th>\n",
              "      <td>4</td>\n",
              "      <td>訂正区分</td>\n",
              "      <td>correct</td>\n",
              "    </tr>\n",
              "    <tr>\n",
              "      <th>4</th>\n",
              "      <td>5</td>\n",
              "      <td>更新年月日</td>\n",
              "      <td>updateDate</td>\n",
              "    </tr>\n",
              "  </tbody>\n",
              "</table>\n",
              "</div>\n",
              "      <button class=\"colab-df-convert\" onclick=\"convertToInteractive('df-cc12cf68-b214-4a9d-b99a-d8835be61e98')\"\n",
              "              title=\"Convert this dataframe to an interactive table.\"\n",
              "              style=\"display:none;\">\n",
              "        \n",
              "  <svg xmlns=\"http://www.w3.org/2000/svg\" height=\"24px\"viewBox=\"0 0 24 24\"\n",
              "       width=\"24px\">\n",
              "    <path d=\"M0 0h24v24H0V0z\" fill=\"none\"/>\n",
              "    <path d=\"M18.56 5.44l.94 2.06.94-2.06 2.06-.94-2.06-.94-.94-2.06-.94 2.06-2.06.94zm-11 1L8.5 8.5l.94-2.06 2.06-.94-2.06-.94L8.5 2.5l-.94 2.06-2.06.94zm10 10l.94 2.06.94-2.06 2.06-.94-2.06-.94-.94-2.06-.94 2.06-2.06.94z\"/><path d=\"M17.41 7.96l-1.37-1.37c-.4-.4-.92-.59-1.43-.59-.52 0-1.04.2-1.43.59L10.3 9.45l-7.72 7.72c-.78.78-.78 2.05 0 2.83L4 21.41c.39.39.9.59 1.41.59.51 0 1.02-.2 1.41-.59l7.78-7.78 2.81-2.81c.8-.78.8-2.07 0-2.86zM5.41 20L4 18.59l7.72-7.72 1.47 1.35L5.41 20z\"/>\n",
              "  </svg>\n",
              "      </button>\n",
              "      \n",
              "  <style>\n",
              "    .colab-df-container {\n",
              "      display:flex;\n",
              "      flex-wrap:wrap;\n",
              "      gap: 12px;\n",
              "    }\n",
              "\n",
              "    .colab-df-convert {\n",
              "      background-color: #E8F0FE;\n",
              "      border: none;\n",
              "      border-radius: 50%;\n",
              "      cursor: pointer;\n",
              "      display: none;\n",
              "      fill: #1967D2;\n",
              "      height: 32px;\n",
              "      padding: 0 0 0 0;\n",
              "      width: 32px;\n",
              "    }\n",
              "\n",
              "    .colab-df-convert:hover {\n",
              "      background-color: #E2EBFA;\n",
              "      box-shadow: 0px 1px 2px rgba(60, 64, 67, 0.3), 0px 1px 3px 1px rgba(60, 64, 67, 0.15);\n",
              "      fill: #174EA6;\n",
              "    }\n",
              "\n",
              "    [theme=dark] .colab-df-convert {\n",
              "      background-color: #3B4455;\n",
              "      fill: #D2E3FC;\n",
              "    }\n",
              "\n",
              "    [theme=dark] .colab-df-convert:hover {\n",
              "      background-color: #434B5C;\n",
              "      box-shadow: 0px 1px 3px 1px rgba(0, 0, 0, 0.15);\n",
              "      filter: drop-shadow(0px 1px 2px rgba(0, 0, 0, 0.3));\n",
              "      fill: #FFFFFF;\n",
              "    }\n",
              "  </style>\n",
              "\n",
              "      <script>\n",
              "        const buttonEl =\n",
              "          document.querySelector('#df-cc12cf68-b214-4a9d-b99a-d8835be61e98 button.colab-df-convert');\n",
              "        buttonEl.style.display =\n",
              "          google.colab.kernel.accessAllowed ? 'block' : 'none';\n",
              "\n",
              "        async function convertToInteractive(key) {\n",
              "          const element = document.querySelector('#df-cc12cf68-b214-4a9d-b99a-d8835be61e98');\n",
              "          const dataTable =\n",
              "            await google.colab.kernel.invokeFunction('convertToInteractive',\n",
              "                                                     [key], {});\n",
              "          if (!dataTable) return;\n",
              "\n",
              "          const docLinkHtml = 'Like what you see? Visit the ' +\n",
              "            '<a target=\"_blank\" href=https://colab.research.google.com/notebooks/data_table.ipynb>data table notebook</a>'\n",
              "            + ' to learn more about interactive tables.';\n",
              "          element.innerHTML = '';\n",
              "          dataTable['output_type'] = 'display_data';\n",
              "          await google.colab.output.renderOutput(dataTable, element);\n",
              "          const docLink = document.createElement('div');\n",
              "          docLink.innerHTML = docLinkHtml;\n",
              "          element.appendChild(docLink);\n",
              "        }\n",
              "      </script>\n",
              "    </div>\n",
              "  </div>\n",
              "  "
            ]
          },
          "metadata": {},
          "execution_count": 20
        }
      ]
    },
    {
      "cell_type": "code",
      "source": [
        "len(mst) == len(data.columns)"
      ],
      "metadata": {
        "colab": {
          "base_uri": "https://localhost:8080/"
        },
        "id": "5ygS-ONNQ00n",
        "outputId": "d13ae0bc-59b5-4b2f-bfde-374e116cac42"
      },
      "execution_count": 22,
      "outputs": [
        {
          "output_type": "execute_result",
          "data": {
            "text/plain": [
              "True"
            ]
          },
          "metadata": {},
          "execution_count": 22
        }
      ]
    },
    {
      "cell_type": "code",
      "source": [
        "columns=mst.column_name_en.values"
      ],
      "metadata": {
        "id": "i69aNBIRZ1xg"
      },
      "execution_count": 23,
      "outputs": []
    },
    {
      "cell_type": "code",
      "source": [
        "columns"
      ],
      "metadata": {
        "id": "b5s2dVNPeauH",
        "outputId": "05461ef0-7c86-476f-f8b7-f50f43351b41",
        "colab": {
          "base_uri": "https://localhost:8080/"
        }
      },
      "execution_count": 24,
      "outputs": [
        {
          "output_type": "execute_result",
          "data": {
            "text/plain": [
              "array(['sequenceNumber', 'corporateNumber', 'process', 'correct',\n",
              "       'updateDate', 'changeDate', 'name', 'nameImageId', 'kind',\n",
              "       'prefectureName', 'cityName', 'streetNumber', 'addressImageId',\n",
              "       'prefectureCode', 'cityCode', 'postCode', 'addressOutside',\n",
              "       'addressOutsideImageId', 'closeDate', 'closeCause',\n",
              "       'successorCorporateNumber', 'changeCause', 'assignmentDate',\n",
              "       'latest', 'enName', 'enPrefectureName', 'enCityName',\n",
              "       'enAddressOutside', 'furigana', 'hihyoji'], dtype=object)"
            ]
          },
          "metadata": {},
          "execution_count": 24
        }
      ]
    },
    {
      "cell_type": "code",
      "source": [
        "data.columns = columns"
      ],
      "metadata": {
        "id": "MEj1pHyEesiC"
      },
      "execution_count": 25,
      "outputs": []
    },
    {
      "cell_type": "code",
      "source": [
        "data.head()"
      ],
      "metadata": {
        "id": "lDdZREI0e5Id",
        "outputId": "a32d9b1d-b790-458c-ad12-7d162f704a23",
        "colab": {
          "base_uri": "https://localhost:8080/",
          "height": 577
        }
      },
      "execution_count": 26,
      "outputs": [
        {
          "output_type": "execute_result",
          "data": {
            "text/plain": [
              "  sequenceNumber corporateNumber process correct  updateDate  changeDate  \\\n",
              "0              1   1000013040008      01       1  2018-04-02  2015-10-05   \n",
              "1              2   1000013050072      01       1  2018-04-02  2015-10-05   \n",
              "2              3   1000013050080      01       1  2018-04-02  2015-10-05   \n",
              "3              4   1000020222119      01       1  2018-04-05  2015-10-05   \n",
              "4              5   1000020222127      01       1  2018-04-05  2015-10-05   \n",
              "\n",
              "      name nameImageId kind prefectureName  ... successorCorporateNumber  \\\n",
              "0  静岡家庭裁判所         NaN  101            静岡県  ...                      NaN   \n",
              "1  清水簡易裁判所         NaN  101            静岡県  ...                      NaN   \n",
              "2  浜松簡易裁判所         NaN  101            静岡県  ...                      NaN   \n",
              "3      磐田市         NaN  201            静岡県  ...                      NaN   \n",
              "4      焼津市         NaN  201            静岡県  ...                      NaN   \n",
              "\n",
              "  changeCause assignmentDate latest                   enName enPrefectureName  \\\n",
              "0         NaN     2015-10-05      1    Shizuoka Family Court         Shizuoka   \n",
              "1         NaN     2015-10-05      1    Shimizu Summary Court         Shizuoka   \n",
              "2         NaN     2015-10-05      1  Hamamatsu Summary Court         Shizuoka   \n",
              "3         NaN     2015-10-05      1               Iwata City         Shizuoka   \n",
              "4         NaN     2015-10-05      1               Yaizu city         Shizuoka   \n",
              "\n",
              "                                 enCityName enAddressOutside       furigana  \\\n",
              "0      1-20, Jonaicho, Aoi ku, Shizuoka shi              NaN  シズオカカテイサイバンショ   \n",
              "1  1-6-15, Tenjin, Shimizu ku, Shizuoka shi              NaN   シミズカンイサイバンショ   \n",
              "2      1-12-5, Chuo, Naka ku, Hamamatsu shi              NaN  ハママツカンイサイバンショ   \n",
              "3                   3-1,Kounodai, Iwata shi              NaN           イワタシ   \n",
              "4               2-16-32 Honmachi, Yaizu shi              NaN           ヤイヅシ   \n",
              "\n",
              "  hihyoji  \n",
              "0       0  \n",
              "1       0  \n",
              "2       0  \n",
              "3       0  \n",
              "4       0  \n",
              "\n",
              "[5 rows x 30 columns]"
            ],
            "text/html": [
              "\n",
              "  <div id=\"df-f5f2e00a-acc4-4456-bc67-a289f43d720c\">\n",
              "    <div class=\"colab-df-container\">\n",
              "      <div>\n",
              "<style scoped>\n",
              "    .dataframe tbody tr th:only-of-type {\n",
              "        vertical-align: middle;\n",
              "    }\n",
              "\n",
              "    .dataframe tbody tr th {\n",
              "        vertical-align: top;\n",
              "    }\n",
              "\n",
              "    .dataframe thead th {\n",
              "        text-align: right;\n",
              "    }\n",
              "</style>\n",
              "<table border=\"1\" class=\"dataframe\">\n",
              "  <thead>\n",
              "    <tr style=\"text-align: right;\">\n",
              "      <th></th>\n",
              "      <th>sequenceNumber</th>\n",
              "      <th>corporateNumber</th>\n",
              "      <th>process</th>\n",
              "      <th>correct</th>\n",
              "      <th>updateDate</th>\n",
              "      <th>changeDate</th>\n",
              "      <th>name</th>\n",
              "      <th>nameImageId</th>\n",
              "      <th>kind</th>\n",
              "      <th>prefectureName</th>\n",
              "      <th>...</th>\n",
              "      <th>successorCorporateNumber</th>\n",
              "      <th>changeCause</th>\n",
              "      <th>assignmentDate</th>\n",
              "      <th>latest</th>\n",
              "      <th>enName</th>\n",
              "      <th>enPrefectureName</th>\n",
              "      <th>enCityName</th>\n",
              "      <th>enAddressOutside</th>\n",
              "      <th>furigana</th>\n",
              "      <th>hihyoji</th>\n",
              "    </tr>\n",
              "  </thead>\n",
              "  <tbody>\n",
              "    <tr>\n",
              "      <th>0</th>\n",
              "      <td>1</td>\n",
              "      <td>1000013040008</td>\n",
              "      <td>01</td>\n",
              "      <td>1</td>\n",
              "      <td>2018-04-02</td>\n",
              "      <td>2015-10-05</td>\n",
              "      <td>静岡家庭裁判所</td>\n",
              "      <td>NaN</td>\n",
              "      <td>101</td>\n",
              "      <td>静岡県</td>\n",
              "      <td>...</td>\n",
              "      <td>NaN</td>\n",
              "      <td>NaN</td>\n",
              "      <td>2015-10-05</td>\n",
              "      <td>1</td>\n",
              "      <td>Shizuoka Family Court</td>\n",
              "      <td>Shizuoka</td>\n",
              "      <td>1-20, Jonaicho, Aoi ku, Shizuoka shi</td>\n",
              "      <td>NaN</td>\n",
              "      <td>シズオカカテイサイバンショ</td>\n",
              "      <td>0</td>\n",
              "    </tr>\n",
              "    <tr>\n",
              "      <th>1</th>\n",
              "      <td>2</td>\n",
              "      <td>1000013050072</td>\n",
              "      <td>01</td>\n",
              "      <td>1</td>\n",
              "      <td>2018-04-02</td>\n",
              "      <td>2015-10-05</td>\n",
              "      <td>清水簡易裁判所</td>\n",
              "      <td>NaN</td>\n",
              "      <td>101</td>\n",
              "      <td>静岡県</td>\n",
              "      <td>...</td>\n",
              "      <td>NaN</td>\n",
              "      <td>NaN</td>\n",
              "      <td>2015-10-05</td>\n",
              "      <td>1</td>\n",
              "      <td>Shimizu Summary Court</td>\n",
              "      <td>Shizuoka</td>\n",
              "      <td>1-6-15, Tenjin, Shimizu ku, Shizuoka shi</td>\n",
              "      <td>NaN</td>\n",
              "      <td>シミズカンイサイバンショ</td>\n",
              "      <td>0</td>\n",
              "    </tr>\n",
              "    <tr>\n",
              "      <th>2</th>\n",
              "      <td>3</td>\n",
              "      <td>1000013050080</td>\n",
              "      <td>01</td>\n",
              "      <td>1</td>\n",
              "      <td>2018-04-02</td>\n",
              "      <td>2015-10-05</td>\n",
              "      <td>浜松簡易裁判所</td>\n",
              "      <td>NaN</td>\n",
              "      <td>101</td>\n",
              "      <td>静岡県</td>\n",
              "      <td>...</td>\n",
              "      <td>NaN</td>\n",
              "      <td>NaN</td>\n",
              "      <td>2015-10-05</td>\n",
              "      <td>1</td>\n",
              "      <td>Hamamatsu Summary Court</td>\n",
              "      <td>Shizuoka</td>\n",
              "      <td>1-12-5, Chuo, Naka ku, Hamamatsu shi</td>\n",
              "      <td>NaN</td>\n",
              "      <td>ハママツカンイサイバンショ</td>\n",
              "      <td>0</td>\n",
              "    </tr>\n",
              "    <tr>\n",
              "      <th>3</th>\n",
              "      <td>4</td>\n",
              "      <td>1000020222119</td>\n",
              "      <td>01</td>\n",
              "      <td>1</td>\n",
              "      <td>2018-04-05</td>\n",
              "      <td>2015-10-05</td>\n",
              "      <td>磐田市</td>\n",
              "      <td>NaN</td>\n",
              "      <td>201</td>\n",
              "      <td>静岡県</td>\n",
              "      <td>...</td>\n",
              "      <td>NaN</td>\n",
              "      <td>NaN</td>\n",
              "      <td>2015-10-05</td>\n",
              "      <td>1</td>\n",
              "      <td>Iwata City</td>\n",
              "      <td>Shizuoka</td>\n",
              "      <td>3-1,Kounodai, Iwata shi</td>\n",
              "      <td>NaN</td>\n",
              "      <td>イワタシ</td>\n",
              "      <td>0</td>\n",
              "    </tr>\n",
              "    <tr>\n",
              "      <th>4</th>\n",
              "      <td>5</td>\n",
              "      <td>1000020222127</td>\n",
              "      <td>01</td>\n",
              "      <td>1</td>\n",
              "      <td>2018-04-05</td>\n",
              "      <td>2015-10-05</td>\n",
              "      <td>焼津市</td>\n",
              "      <td>NaN</td>\n",
              "      <td>201</td>\n",
              "      <td>静岡県</td>\n",
              "      <td>...</td>\n",
              "      <td>NaN</td>\n",
              "      <td>NaN</td>\n",
              "      <td>2015-10-05</td>\n",
              "      <td>1</td>\n",
              "      <td>Yaizu city</td>\n",
              "      <td>Shizuoka</td>\n",
              "      <td>2-16-32 Honmachi, Yaizu shi</td>\n",
              "      <td>NaN</td>\n",
              "      <td>ヤイヅシ</td>\n",
              "      <td>0</td>\n",
              "    </tr>\n",
              "  </tbody>\n",
              "</table>\n",
              "<p>5 rows × 30 columns</p>\n",
              "</div>\n",
              "      <button class=\"colab-df-convert\" onclick=\"convertToInteractive('df-f5f2e00a-acc4-4456-bc67-a289f43d720c')\"\n",
              "              title=\"Convert this dataframe to an interactive table.\"\n",
              "              style=\"display:none;\">\n",
              "        \n",
              "  <svg xmlns=\"http://www.w3.org/2000/svg\" height=\"24px\"viewBox=\"0 0 24 24\"\n",
              "       width=\"24px\">\n",
              "    <path d=\"M0 0h24v24H0V0z\" fill=\"none\"/>\n",
              "    <path d=\"M18.56 5.44l.94 2.06.94-2.06 2.06-.94-2.06-.94-.94-2.06-.94 2.06-2.06.94zm-11 1L8.5 8.5l.94-2.06 2.06-.94-2.06-.94L8.5 2.5l-.94 2.06-2.06.94zm10 10l.94 2.06.94-2.06 2.06-.94-2.06-.94-.94-2.06-.94 2.06-2.06.94z\"/><path d=\"M17.41 7.96l-1.37-1.37c-.4-.4-.92-.59-1.43-.59-.52 0-1.04.2-1.43.59L10.3 9.45l-7.72 7.72c-.78.78-.78 2.05 0 2.83L4 21.41c.39.39.9.59 1.41.59.51 0 1.02-.2 1.41-.59l7.78-7.78 2.81-2.81c.8-.78.8-2.07 0-2.86zM5.41 20L4 18.59l7.72-7.72 1.47 1.35L5.41 20z\"/>\n",
              "  </svg>\n",
              "      </button>\n",
              "      \n",
              "  <style>\n",
              "    .colab-df-container {\n",
              "      display:flex;\n",
              "      flex-wrap:wrap;\n",
              "      gap: 12px;\n",
              "    }\n",
              "\n",
              "    .colab-df-convert {\n",
              "      background-color: #E8F0FE;\n",
              "      border: none;\n",
              "      border-radius: 50%;\n",
              "      cursor: pointer;\n",
              "      display: none;\n",
              "      fill: #1967D2;\n",
              "      height: 32px;\n",
              "      padding: 0 0 0 0;\n",
              "      width: 32px;\n",
              "    }\n",
              "\n",
              "    .colab-df-convert:hover {\n",
              "      background-color: #E2EBFA;\n",
              "      box-shadow: 0px 1px 2px rgba(60, 64, 67, 0.3), 0px 1px 3px 1px rgba(60, 64, 67, 0.15);\n",
              "      fill: #174EA6;\n",
              "    }\n",
              "\n",
              "    [theme=dark] .colab-df-convert {\n",
              "      background-color: #3B4455;\n",
              "      fill: #D2E3FC;\n",
              "    }\n",
              "\n",
              "    [theme=dark] .colab-df-convert:hover {\n",
              "      background-color: #434B5C;\n",
              "      box-shadow: 0px 1px 3px 1px rgba(0, 0, 0, 0.15);\n",
              "      filter: drop-shadow(0px 1px 2px rgba(0, 0, 0, 0.3));\n",
              "      fill: #FFFFFF;\n",
              "    }\n",
              "  </style>\n",
              "\n",
              "      <script>\n",
              "        const buttonEl =\n",
              "          document.querySelector('#df-f5f2e00a-acc4-4456-bc67-a289f43d720c button.colab-df-convert');\n",
              "        buttonEl.style.display =\n",
              "          google.colab.kernel.accessAllowed ? 'block' : 'none';\n",
              "\n",
              "        async function convertToInteractive(key) {\n",
              "          const element = document.querySelector('#df-f5f2e00a-acc4-4456-bc67-a289f43d720c');\n",
              "          const dataTable =\n",
              "            await google.colab.kernel.invokeFunction('convertToInteractive',\n",
              "                                                     [key], {});\n",
              "          if (!dataTable) return;\n",
              "\n",
              "          const docLinkHtml = 'Like what you see? Visit the ' +\n",
              "            '<a target=\"_blank\" href=https://colab.research.google.com/notebooks/data_table.ipynb>data table notebook</a>'\n",
              "            + ' to learn more about interactive tables.';\n",
              "          element.innerHTML = '';\n",
              "          dataTable['output_type'] = 'display_data';\n",
              "          await google.colab.output.renderOutput(dataTable, element);\n",
              "          const docLink = document.createElement('div');\n",
              "          docLink.innerHTML = docLinkHtml;\n",
              "          element.appendChild(docLink);\n",
              "        }\n",
              "      </script>\n",
              "    </div>\n",
              "  </div>\n",
              "  "
            ]
          },
          "metadata": {},
          "execution_count": 26
        }
      ]
    },
    {
      "cell_type": "code",
      "source": [
        "data.describe()"
      ],
      "metadata": {
        "id": "fpiDqssRiSC9",
        "outputId": "0fa3c324-43a0-4b4a-8d6b-b5f56b2c66d6",
        "colab": {
          "base_uri": "https://localhost:8080/",
          "height": 389
        }
      },
      "execution_count": 27,
      "outputs": [
        {
          "output_type": "execute_result",
          "data": {
            "text/plain": [
              "       sequenceNumber corporateNumber process correct  updateDate  changeDate  \\\n",
              "count          114613          114613  114613  114613      114613      114613   \n",
              "unique         114613          114613       6       2        1316        1344   \n",
              "top                 1   1000013040008      01       0  2015-11-13  2015-10-05   \n",
              "freq                1               1   94126   80704       55969       83291   \n",
              "\n",
              "          name nameImageId    kind prefectureName  ...  \\\n",
              "count   114613        1243  114613         114613  ...   \n",
              "unique  105857        1243       9              1  ...   \n",
              "top       八幡神社    00067214     301            静岡県  ...   \n",
              "freq       171           1   51229         114613  ...   \n",
              "\n",
              "       successorCorporateNumber  \\\n",
              "count                       666   \n",
              "unique                      572   \n",
              "top               8080001004480   \n",
              "freq                         12   \n",
              "\n",
              "                                              changeCause assignmentDate  \\\n",
              "count                                                1111         114613   \n",
              "unique                                               1051           1328   \n",
              "top     平成２９年１２月１日静岡市駿河区富士見台一丁目２１番２２号富士見工業株式会社（8080001...     2015-10-05   \n",
              "freq                                                   12         101316   \n",
              "\n",
              "        latest                  enName enPrefectureName  \\\n",
              "count   114613                     232              230   \n",
              "unique       1                     231                1   \n",
              "top          1  Kamiide financial ward         Shizuoka   \n",
              "freq    114613                       2              230   \n",
              "\n",
              "                   enCityName enAddressOutside furigana hihyoji  \n",
              "count                     230                0    46620  114613  \n",
              "unique                    129                0    41339       2  \n",
              "top     2-1-1,oohara, Ito shi              NaN   ハチマングウ       0  \n",
              "freq                       10              NaN       30  114388  \n",
              "\n",
              "[4 rows x 30 columns]"
            ],
            "text/html": [
              "\n",
              "  <div id=\"df-c0d1c36c-c82d-49e1-a6e5-db0637f03741\">\n",
              "    <div class=\"colab-df-container\">\n",
              "      <div>\n",
              "<style scoped>\n",
              "    .dataframe tbody tr th:only-of-type {\n",
              "        vertical-align: middle;\n",
              "    }\n",
              "\n",
              "    .dataframe tbody tr th {\n",
              "        vertical-align: top;\n",
              "    }\n",
              "\n",
              "    .dataframe thead th {\n",
              "        text-align: right;\n",
              "    }\n",
              "</style>\n",
              "<table border=\"1\" class=\"dataframe\">\n",
              "  <thead>\n",
              "    <tr style=\"text-align: right;\">\n",
              "      <th></th>\n",
              "      <th>sequenceNumber</th>\n",
              "      <th>corporateNumber</th>\n",
              "      <th>process</th>\n",
              "      <th>correct</th>\n",
              "      <th>updateDate</th>\n",
              "      <th>changeDate</th>\n",
              "      <th>name</th>\n",
              "      <th>nameImageId</th>\n",
              "      <th>kind</th>\n",
              "      <th>prefectureName</th>\n",
              "      <th>...</th>\n",
              "      <th>successorCorporateNumber</th>\n",
              "      <th>changeCause</th>\n",
              "      <th>assignmentDate</th>\n",
              "      <th>latest</th>\n",
              "      <th>enName</th>\n",
              "      <th>enPrefectureName</th>\n",
              "      <th>enCityName</th>\n",
              "      <th>enAddressOutside</th>\n",
              "      <th>furigana</th>\n",
              "      <th>hihyoji</th>\n",
              "    </tr>\n",
              "  </thead>\n",
              "  <tbody>\n",
              "    <tr>\n",
              "      <th>count</th>\n",
              "      <td>114613</td>\n",
              "      <td>114613</td>\n",
              "      <td>114613</td>\n",
              "      <td>114613</td>\n",
              "      <td>114613</td>\n",
              "      <td>114613</td>\n",
              "      <td>114613</td>\n",
              "      <td>1243</td>\n",
              "      <td>114613</td>\n",
              "      <td>114613</td>\n",
              "      <td>...</td>\n",
              "      <td>666</td>\n",
              "      <td>1111</td>\n",
              "      <td>114613</td>\n",
              "      <td>114613</td>\n",
              "      <td>232</td>\n",
              "      <td>230</td>\n",
              "      <td>230</td>\n",
              "      <td>0</td>\n",
              "      <td>46620</td>\n",
              "      <td>114613</td>\n",
              "    </tr>\n",
              "    <tr>\n",
              "      <th>unique</th>\n",
              "      <td>114613</td>\n",
              "      <td>114613</td>\n",
              "      <td>6</td>\n",
              "      <td>2</td>\n",
              "      <td>1316</td>\n",
              "      <td>1344</td>\n",
              "      <td>105857</td>\n",
              "      <td>1243</td>\n",
              "      <td>9</td>\n",
              "      <td>1</td>\n",
              "      <td>...</td>\n",
              "      <td>572</td>\n",
              "      <td>1051</td>\n",
              "      <td>1328</td>\n",
              "      <td>1</td>\n",
              "      <td>231</td>\n",
              "      <td>1</td>\n",
              "      <td>129</td>\n",
              "      <td>0</td>\n",
              "      <td>41339</td>\n",
              "      <td>2</td>\n",
              "    </tr>\n",
              "    <tr>\n",
              "      <th>top</th>\n",
              "      <td>1</td>\n",
              "      <td>1000013040008</td>\n",
              "      <td>01</td>\n",
              "      <td>0</td>\n",
              "      <td>2015-11-13</td>\n",
              "      <td>2015-10-05</td>\n",
              "      <td>八幡神社</td>\n",
              "      <td>00067214</td>\n",
              "      <td>301</td>\n",
              "      <td>静岡県</td>\n",
              "      <td>...</td>\n",
              "      <td>8080001004480</td>\n",
              "      <td>平成２９年１２月１日静岡市駿河区富士見台一丁目２１番２２号富士見工業株式会社（8080001...</td>\n",
              "      <td>2015-10-05</td>\n",
              "      <td>1</td>\n",
              "      <td>Kamiide financial ward</td>\n",
              "      <td>Shizuoka</td>\n",
              "      <td>2-1-1,oohara, Ito shi</td>\n",
              "      <td>NaN</td>\n",
              "      <td>ハチマングウ</td>\n",
              "      <td>0</td>\n",
              "    </tr>\n",
              "    <tr>\n",
              "      <th>freq</th>\n",
              "      <td>1</td>\n",
              "      <td>1</td>\n",
              "      <td>94126</td>\n",
              "      <td>80704</td>\n",
              "      <td>55969</td>\n",
              "      <td>83291</td>\n",
              "      <td>171</td>\n",
              "      <td>1</td>\n",
              "      <td>51229</td>\n",
              "      <td>114613</td>\n",
              "      <td>...</td>\n",
              "      <td>12</td>\n",
              "      <td>12</td>\n",
              "      <td>101316</td>\n",
              "      <td>114613</td>\n",
              "      <td>2</td>\n",
              "      <td>230</td>\n",
              "      <td>10</td>\n",
              "      <td>NaN</td>\n",
              "      <td>30</td>\n",
              "      <td>114388</td>\n",
              "    </tr>\n",
              "  </tbody>\n",
              "</table>\n",
              "<p>4 rows × 30 columns</p>\n",
              "</div>\n",
              "      <button class=\"colab-df-convert\" onclick=\"convertToInteractive('df-c0d1c36c-c82d-49e1-a6e5-db0637f03741')\"\n",
              "              title=\"Convert this dataframe to an interactive table.\"\n",
              "              style=\"display:none;\">\n",
              "        \n",
              "  <svg xmlns=\"http://www.w3.org/2000/svg\" height=\"24px\"viewBox=\"0 0 24 24\"\n",
              "       width=\"24px\">\n",
              "    <path d=\"M0 0h24v24H0V0z\" fill=\"none\"/>\n",
              "    <path d=\"M18.56 5.44l.94 2.06.94-2.06 2.06-.94-2.06-.94-.94-2.06-.94 2.06-2.06.94zm-11 1L8.5 8.5l.94-2.06 2.06-.94-2.06-.94L8.5 2.5l-.94 2.06-2.06.94zm10 10l.94 2.06.94-2.06 2.06-.94-2.06-.94-.94-2.06-.94 2.06-2.06.94z\"/><path d=\"M17.41 7.96l-1.37-1.37c-.4-.4-.92-.59-1.43-.59-.52 0-1.04.2-1.43.59L10.3 9.45l-7.72 7.72c-.78.78-.78 2.05 0 2.83L4 21.41c.39.39.9.59 1.41.59.51 0 1.02-.2 1.41-.59l7.78-7.78 2.81-2.81c.8-.78.8-2.07 0-2.86zM5.41 20L4 18.59l7.72-7.72 1.47 1.35L5.41 20z\"/>\n",
              "  </svg>\n",
              "      </button>\n",
              "      \n",
              "  <style>\n",
              "    .colab-df-container {\n",
              "      display:flex;\n",
              "      flex-wrap:wrap;\n",
              "      gap: 12px;\n",
              "    }\n",
              "\n",
              "    .colab-df-convert {\n",
              "      background-color: #E8F0FE;\n",
              "      border: none;\n",
              "      border-radius: 50%;\n",
              "      cursor: pointer;\n",
              "      display: none;\n",
              "      fill: #1967D2;\n",
              "      height: 32px;\n",
              "      padding: 0 0 0 0;\n",
              "      width: 32px;\n",
              "    }\n",
              "\n",
              "    .colab-df-convert:hover {\n",
              "      background-color: #E2EBFA;\n",
              "      box-shadow: 0px 1px 2px rgba(60, 64, 67, 0.3), 0px 1px 3px 1px rgba(60, 64, 67, 0.15);\n",
              "      fill: #174EA6;\n",
              "    }\n",
              "\n",
              "    [theme=dark] .colab-df-convert {\n",
              "      background-color: #3B4455;\n",
              "      fill: #D2E3FC;\n",
              "    }\n",
              "\n",
              "    [theme=dark] .colab-df-convert:hover {\n",
              "      background-color: #434B5C;\n",
              "      box-shadow: 0px 1px 3px 1px rgba(0, 0, 0, 0.15);\n",
              "      filter: drop-shadow(0px 1px 2px rgba(0, 0, 0, 0.3));\n",
              "      fill: #FFFFFF;\n",
              "    }\n",
              "  </style>\n",
              "\n",
              "      <script>\n",
              "        const buttonEl =\n",
              "          document.querySelector('#df-c0d1c36c-c82d-49e1-a6e5-db0637f03741 button.colab-df-convert');\n",
              "        buttonEl.style.display =\n",
              "          google.colab.kernel.accessAllowed ? 'block' : 'none';\n",
              "\n",
              "        async function convertToInteractive(key) {\n",
              "          const element = document.querySelector('#df-c0d1c36c-c82d-49e1-a6e5-db0637f03741');\n",
              "          const dataTable =\n",
              "            await google.colab.kernel.invokeFunction('convertToInteractive',\n",
              "                                                     [key], {});\n",
              "          if (!dataTable) return;\n",
              "\n",
              "          const docLinkHtml = 'Like what you see? Visit the ' +\n",
              "            '<a target=\"_blank\" href=https://colab.research.google.com/notebooks/data_table.ipynb>data table notebook</a>'\n",
              "            + ' to learn more about interactive tables.';\n",
              "          element.innerHTML = '';\n",
              "          dataTable['output_type'] = 'display_data';\n",
              "          await google.colab.output.renderOutput(dataTable, element);\n",
              "          const docLink = document.createElement('div');\n",
              "          docLink.innerHTML = docLinkHtml;\n",
              "          element.appendChild(docLink);\n",
              "        }\n",
              "      </script>\n",
              "    </div>\n",
              "  </div>\n",
              "  "
            ]
          },
          "metadata": {},
          "execution_count": 27
        }
      ]
    },
    {
      "cell_type": "code",
      "source": [
        "data.isna()"
      ],
      "metadata": {
        "id": "49MBkKmcmPEq",
        "outputId": "8b713f00-7427-4f17-d721-ca68172f864c",
        "colab": {
          "base_uri": "https://localhost:8080/",
          "height": 487
        }
      },
      "execution_count": 28,
      "outputs": [
        {
          "output_type": "execute_result",
          "data": {
            "text/plain": [
              "        sequenceNumber  corporateNumber  process  correct  updateDate  \\\n",
              "0                False            False    False    False       False   \n",
              "1                False            False    False    False       False   \n",
              "2                False            False    False    False       False   \n",
              "3                False            False    False    False       False   \n",
              "4                False            False    False    False       False   \n",
              "...                ...              ...      ...      ...         ...   \n",
              "114608           False            False    False    False       False   \n",
              "114609           False            False    False    False       False   \n",
              "114610           False            False    False    False       False   \n",
              "114611           False            False    False    False       False   \n",
              "114612           False            False    False    False       False   \n",
              "\n",
              "        changeDate   name  nameImageId   kind  prefectureName  ...  \\\n",
              "0            False  False         True  False           False  ...   \n",
              "1            False  False         True  False           False  ...   \n",
              "2            False  False         True  False           False  ...   \n",
              "3            False  False         True  False           False  ...   \n",
              "4            False  False         True  False           False  ...   \n",
              "...            ...    ...          ...    ...             ...  ...   \n",
              "114608       False  False         True  False           False  ...   \n",
              "114609       False  False         True  False           False  ...   \n",
              "114610       False  False         True  False           False  ...   \n",
              "114611       False  False         True  False           False  ...   \n",
              "114612       False  False         True  False           False  ...   \n",
              "\n",
              "        successorCorporateNumber  changeCause  assignmentDate  latest  enName  \\\n",
              "0                           True         True           False   False   False   \n",
              "1                           True         True           False   False   False   \n",
              "2                           True         True           False   False   False   \n",
              "3                           True         True           False   False   False   \n",
              "4                           True         True           False   False   False   \n",
              "...                          ...          ...             ...     ...     ...   \n",
              "114608                      True         True           False   False    True   \n",
              "114609                      True         True           False   False    True   \n",
              "114610                      True         True           False   False    True   \n",
              "114611                      True         True           False   False    True   \n",
              "114612                      True         True           False   False    True   \n",
              "\n",
              "        enPrefectureName  enCityName  enAddressOutside  furigana  hihyoji  \n",
              "0                  False       False              True     False    False  \n",
              "1                  False       False              True     False    False  \n",
              "2                  False       False              True     False    False  \n",
              "3                  False       False              True     False    False  \n",
              "4                  False       False              True     False    False  \n",
              "...                  ...         ...               ...       ...      ...  \n",
              "114608              True        True              True     False    False  \n",
              "114609              True        True              True     False    False  \n",
              "114610              True        True              True     False    False  \n",
              "114611              True        True              True     False    False  \n",
              "114612              True        True              True     False    False  \n",
              "\n",
              "[114613 rows x 30 columns]"
            ],
            "text/html": [
              "\n",
              "  <div id=\"df-838b7479-8dc2-4172-b5ea-b7679e9f36ff\">\n",
              "    <div class=\"colab-df-container\">\n",
              "      <div>\n",
              "<style scoped>\n",
              "    .dataframe tbody tr th:only-of-type {\n",
              "        vertical-align: middle;\n",
              "    }\n",
              "\n",
              "    .dataframe tbody tr th {\n",
              "        vertical-align: top;\n",
              "    }\n",
              "\n",
              "    .dataframe thead th {\n",
              "        text-align: right;\n",
              "    }\n",
              "</style>\n",
              "<table border=\"1\" class=\"dataframe\">\n",
              "  <thead>\n",
              "    <tr style=\"text-align: right;\">\n",
              "      <th></th>\n",
              "      <th>sequenceNumber</th>\n",
              "      <th>corporateNumber</th>\n",
              "      <th>process</th>\n",
              "      <th>correct</th>\n",
              "      <th>updateDate</th>\n",
              "      <th>changeDate</th>\n",
              "      <th>name</th>\n",
              "      <th>nameImageId</th>\n",
              "      <th>kind</th>\n",
              "      <th>prefectureName</th>\n",
              "      <th>...</th>\n",
              "      <th>successorCorporateNumber</th>\n",
              "      <th>changeCause</th>\n",
              "      <th>assignmentDate</th>\n",
              "      <th>latest</th>\n",
              "      <th>enName</th>\n",
              "      <th>enPrefectureName</th>\n",
              "      <th>enCityName</th>\n",
              "      <th>enAddressOutside</th>\n",
              "      <th>furigana</th>\n",
              "      <th>hihyoji</th>\n",
              "    </tr>\n",
              "  </thead>\n",
              "  <tbody>\n",
              "    <tr>\n",
              "      <th>0</th>\n",
              "      <td>False</td>\n",
              "      <td>False</td>\n",
              "      <td>False</td>\n",
              "      <td>False</td>\n",
              "      <td>False</td>\n",
              "      <td>False</td>\n",
              "      <td>False</td>\n",
              "      <td>True</td>\n",
              "      <td>False</td>\n",
              "      <td>False</td>\n",
              "      <td>...</td>\n",
              "      <td>True</td>\n",
              "      <td>True</td>\n",
              "      <td>False</td>\n",
              "      <td>False</td>\n",
              "      <td>False</td>\n",
              "      <td>False</td>\n",
              "      <td>False</td>\n",
              "      <td>True</td>\n",
              "      <td>False</td>\n",
              "      <td>False</td>\n",
              "    </tr>\n",
              "    <tr>\n",
              "      <th>1</th>\n",
              "      <td>False</td>\n",
              "      <td>False</td>\n",
              "      <td>False</td>\n",
              "      <td>False</td>\n",
              "      <td>False</td>\n",
              "      <td>False</td>\n",
              "      <td>False</td>\n",
              "      <td>True</td>\n",
              "      <td>False</td>\n",
              "      <td>False</td>\n",
              "      <td>...</td>\n",
              "      <td>True</td>\n",
              "      <td>True</td>\n",
              "      <td>False</td>\n",
              "      <td>False</td>\n",
              "      <td>False</td>\n",
              "      <td>False</td>\n",
              "      <td>False</td>\n",
              "      <td>True</td>\n",
              "      <td>False</td>\n",
              "      <td>False</td>\n",
              "    </tr>\n",
              "    <tr>\n",
              "      <th>2</th>\n",
              "      <td>False</td>\n",
              "      <td>False</td>\n",
              "      <td>False</td>\n",
              "      <td>False</td>\n",
              "      <td>False</td>\n",
              "      <td>False</td>\n",
              "      <td>False</td>\n",
              "      <td>True</td>\n",
              "      <td>False</td>\n",
              "      <td>False</td>\n",
              "      <td>...</td>\n",
              "      <td>True</td>\n",
              "      <td>True</td>\n",
              "      <td>False</td>\n",
              "      <td>False</td>\n",
              "      <td>False</td>\n",
              "      <td>False</td>\n",
              "      <td>False</td>\n",
              "      <td>True</td>\n",
              "      <td>False</td>\n",
              "      <td>False</td>\n",
              "    </tr>\n",
              "    <tr>\n",
              "      <th>3</th>\n",
              "      <td>False</td>\n",
              "      <td>False</td>\n",
              "      <td>False</td>\n",
              "      <td>False</td>\n",
              "      <td>False</td>\n",
              "      <td>False</td>\n",
              "      <td>False</td>\n",
              "      <td>True</td>\n",
              "      <td>False</td>\n",
              "      <td>False</td>\n",
              "      <td>...</td>\n",
              "      <td>True</td>\n",
              "      <td>True</td>\n",
              "      <td>False</td>\n",
              "      <td>False</td>\n",
              "      <td>False</td>\n",
              "      <td>False</td>\n",
              "      <td>False</td>\n",
              "      <td>True</td>\n",
              "      <td>False</td>\n",
              "      <td>False</td>\n",
              "    </tr>\n",
              "    <tr>\n",
              "      <th>4</th>\n",
              "      <td>False</td>\n",
              "      <td>False</td>\n",
              "      <td>False</td>\n",
              "      <td>False</td>\n",
              "      <td>False</td>\n",
              "      <td>False</td>\n",
              "      <td>False</td>\n",
              "      <td>True</td>\n",
              "      <td>False</td>\n",
              "      <td>False</td>\n",
              "      <td>...</td>\n",
              "      <td>True</td>\n",
              "      <td>True</td>\n",
              "      <td>False</td>\n",
              "      <td>False</td>\n",
              "      <td>False</td>\n",
              "      <td>False</td>\n",
              "      <td>False</td>\n",
              "      <td>True</td>\n",
              "      <td>False</td>\n",
              "      <td>False</td>\n",
              "    </tr>\n",
              "    <tr>\n",
              "      <th>...</th>\n",
              "      <td>...</td>\n",
              "      <td>...</td>\n",
              "      <td>...</td>\n",
              "      <td>...</td>\n",
              "      <td>...</td>\n",
              "      <td>...</td>\n",
              "      <td>...</td>\n",
              "      <td>...</td>\n",
              "      <td>...</td>\n",
              "      <td>...</td>\n",
              "      <td>...</td>\n",
              "      <td>...</td>\n",
              "      <td>...</td>\n",
              "      <td>...</td>\n",
              "      <td>...</td>\n",
              "      <td>...</td>\n",
              "      <td>...</td>\n",
              "      <td>...</td>\n",
              "      <td>...</td>\n",
              "      <td>...</td>\n",
              "      <td>...</td>\n",
              "    </tr>\n",
              "    <tr>\n",
              "      <th>114608</th>\n",
              "      <td>False</td>\n",
              "      <td>False</td>\n",
              "      <td>False</td>\n",
              "      <td>False</td>\n",
              "      <td>False</td>\n",
              "      <td>False</td>\n",
              "      <td>False</td>\n",
              "      <td>True</td>\n",
              "      <td>False</td>\n",
              "      <td>False</td>\n",
              "      <td>...</td>\n",
              "      <td>True</td>\n",
              "      <td>True</td>\n",
              "      <td>False</td>\n",
              "      <td>False</td>\n",
              "      <td>True</td>\n",
              "      <td>True</td>\n",
              "      <td>True</td>\n",
              "      <td>True</td>\n",
              "      <td>False</td>\n",
              "      <td>False</td>\n",
              "    </tr>\n",
              "    <tr>\n",
              "      <th>114609</th>\n",
              "      <td>False</td>\n",
              "      <td>False</td>\n",
              "      <td>False</td>\n",
              "      <td>False</td>\n",
              "      <td>False</td>\n",
              "      <td>False</td>\n",
              "      <td>False</td>\n",
              "      <td>True</td>\n",
              "      <td>False</td>\n",
              "      <td>False</td>\n",
              "      <td>...</td>\n",
              "      <td>True</td>\n",
              "      <td>True</td>\n",
              "      <td>False</td>\n",
              "      <td>False</td>\n",
              "      <td>True</td>\n",
              "      <td>True</td>\n",
              "      <td>True</td>\n",
              "      <td>True</td>\n",
              "      <td>False</td>\n",
              "      <td>False</td>\n",
              "    </tr>\n",
              "    <tr>\n",
              "      <th>114610</th>\n",
              "      <td>False</td>\n",
              "      <td>False</td>\n",
              "      <td>False</td>\n",
              "      <td>False</td>\n",
              "      <td>False</td>\n",
              "      <td>False</td>\n",
              "      <td>False</td>\n",
              "      <td>True</td>\n",
              "      <td>False</td>\n",
              "      <td>False</td>\n",
              "      <td>...</td>\n",
              "      <td>True</td>\n",
              "      <td>True</td>\n",
              "      <td>False</td>\n",
              "      <td>False</td>\n",
              "      <td>True</td>\n",
              "      <td>True</td>\n",
              "      <td>True</td>\n",
              "      <td>True</td>\n",
              "      <td>False</td>\n",
              "      <td>False</td>\n",
              "    </tr>\n",
              "    <tr>\n",
              "      <th>114611</th>\n",
              "      <td>False</td>\n",
              "      <td>False</td>\n",
              "      <td>False</td>\n",
              "      <td>False</td>\n",
              "      <td>False</td>\n",
              "      <td>False</td>\n",
              "      <td>False</td>\n",
              "      <td>True</td>\n",
              "      <td>False</td>\n",
              "      <td>False</td>\n",
              "      <td>...</td>\n",
              "      <td>True</td>\n",
              "      <td>True</td>\n",
              "      <td>False</td>\n",
              "      <td>False</td>\n",
              "      <td>True</td>\n",
              "      <td>True</td>\n",
              "      <td>True</td>\n",
              "      <td>True</td>\n",
              "      <td>False</td>\n",
              "      <td>False</td>\n",
              "    </tr>\n",
              "    <tr>\n",
              "      <th>114612</th>\n",
              "      <td>False</td>\n",
              "      <td>False</td>\n",
              "      <td>False</td>\n",
              "      <td>False</td>\n",
              "      <td>False</td>\n",
              "      <td>False</td>\n",
              "      <td>False</td>\n",
              "      <td>True</td>\n",
              "      <td>False</td>\n",
              "      <td>False</td>\n",
              "      <td>...</td>\n",
              "      <td>True</td>\n",
              "      <td>True</td>\n",
              "      <td>False</td>\n",
              "      <td>False</td>\n",
              "      <td>True</td>\n",
              "      <td>True</td>\n",
              "      <td>True</td>\n",
              "      <td>True</td>\n",
              "      <td>False</td>\n",
              "      <td>False</td>\n",
              "    </tr>\n",
              "  </tbody>\n",
              "</table>\n",
              "<p>114613 rows × 30 columns</p>\n",
              "</div>\n",
              "      <button class=\"colab-df-convert\" onclick=\"convertToInteractive('df-838b7479-8dc2-4172-b5ea-b7679e9f36ff')\"\n",
              "              title=\"Convert this dataframe to an interactive table.\"\n",
              "              style=\"display:none;\">\n",
              "        \n",
              "  <svg xmlns=\"http://www.w3.org/2000/svg\" height=\"24px\"viewBox=\"0 0 24 24\"\n",
              "       width=\"24px\">\n",
              "    <path d=\"M0 0h24v24H0V0z\" fill=\"none\"/>\n",
              "    <path d=\"M18.56 5.44l.94 2.06.94-2.06 2.06-.94-2.06-.94-.94-2.06-.94 2.06-2.06.94zm-11 1L8.5 8.5l.94-2.06 2.06-.94-2.06-.94L8.5 2.5l-.94 2.06-2.06.94zm10 10l.94 2.06.94-2.06 2.06-.94-2.06-.94-.94-2.06-.94 2.06-2.06.94z\"/><path d=\"M17.41 7.96l-1.37-1.37c-.4-.4-.92-.59-1.43-.59-.52 0-1.04.2-1.43.59L10.3 9.45l-7.72 7.72c-.78.78-.78 2.05 0 2.83L4 21.41c.39.39.9.59 1.41.59.51 0 1.02-.2 1.41-.59l7.78-7.78 2.81-2.81c.8-.78.8-2.07 0-2.86zM5.41 20L4 18.59l7.72-7.72 1.47 1.35L5.41 20z\"/>\n",
              "  </svg>\n",
              "      </button>\n",
              "      \n",
              "  <style>\n",
              "    .colab-df-container {\n",
              "      display:flex;\n",
              "      flex-wrap:wrap;\n",
              "      gap: 12px;\n",
              "    }\n",
              "\n",
              "    .colab-df-convert {\n",
              "      background-color: #E8F0FE;\n",
              "      border: none;\n",
              "      border-radius: 50%;\n",
              "      cursor: pointer;\n",
              "      display: none;\n",
              "      fill: #1967D2;\n",
              "      height: 32px;\n",
              "      padding: 0 0 0 0;\n",
              "      width: 32px;\n",
              "    }\n",
              "\n",
              "    .colab-df-convert:hover {\n",
              "      background-color: #E2EBFA;\n",
              "      box-shadow: 0px 1px 2px rgba(60, 64, 67, 0.3), 0px 1px 3px 1px rgba(60, 64, 67, 0.15);\n",
              "      fill: #174EA6;\n",
              "    }\n",
              "\n",
              "    [theme=dark] .colab-df-convert {\n",
              "      background-color: #3B4455;\n",
              "      fill: #D2E3FC;\n",
              "    }\n",
              "\n",
              "    [theme=dark] .colab-df-convert:hover {\n",
              "      background-color: #434B5C;\n",
              "      box-shadow: 0px 1px 3px 1px rgba(0, 0, 0, 0.15);\n",
              "      filter: drop-shadow(0px 1px 2px rgba(0, 0, 0, 0.3));\n",
              "      fill: #FFFFFF;\n",
              "    }\n",
              "  </style>\n",
              "\n",
              "      <script>\n",
              "        const buttonEl =\n",
              "          document.querySelector('#df-838b7479-8dc2-4172-b5ea-b7679e9f36ff button.colab-df-convert');\n",
              "        buttonEl.style.display =\n",
              "          google.colab.kernel.accessAllowed ? 'block' : 'none';\n",
              "\n",
              "        async function convertToInteractive(key) {\n",
              "          const element = document.querySelector('#df-838b7479-8dc2-4172-b5ea-b7679e9f36ff');\n",
              "          const dataTable =\n",
              "            await google.colab.kernel.invokeFunction('convertToInteractive',\n",
              "                                                     [key], {});\n",
              "          if (!dataTable) return;\n",
              "\n",
              "          const docLinkHtml = 'Like what you see? Visit the ' +\n",
              "            '<a target=\"_blank\" href=https://colab.research.google.com/notebooks/data_table.ipynb>data table notebook</a>'\n",
              "            + ' to learn more about interactive tables.';\n",
              "          element.innerHTML = '';\n",
              "          dataTable['output_type'] = 'display_data';\n",
              "          await google.colab.output.renderOutput(dataTable, element);\n",
              "          const docLink = document.createElement('div');\n",
              "          docLink.innerHTML = docLinkHtml;\n",
              "          element.appendChild(docLink);\n",
              "        }\n",
              "      </script>\n",
              "    </div>\n",
              "  </div>\n",
              "  "
            ]
          },
          "metadata": {},
          "execution_count": 28
        }
      ]
    },
    {
      "cell_type": "code",
      "source": [
        "data.isna().sum()"
      ],
      "metadata": {
        "id": "wZI3lZgPnfYt",
        "outputId": "aa4e966e-32be-4eb2-85e4-61e8141f784d",
        "colab": {
          "base_uri": "https://localhost:8080/"
        }
      },
      "execution_count": 29,
      "outputs": [
        {
          "output_type": "execute_result",
          "data": {
            "text/plain": [
              "sequenceNumber                   0\n",
              "corporateNumber                  0\n",
              "process                          0\n",
              "correct                          0\n",
              "updateDate                       0\n",
              "changeDate                       0\n",
              "name                             0\n",
              "nameImageId                 113370\n",
              "kind                             0\n",
              "prefectureName                   0\n",
              "cityName                         0\n",
              "streetNumber                    17\n",
              "addressImageId              113418\n",
              "prefectureCode                   0\n",
              "cityCode                         0\n",
              "postCode                       173\n",
              "addressOutside              114613\n",
              "addressOutsideImageId       114613\n",
              "closeDate                   104536\n",
              "closeCause                  104536\n",
              "successorCorporateNumber    113947\n",
              "changeCause                 113502\n",
              "assignmentDate                   0\n",
              "latest                           0\n",
              "enName                      114381\n",
              "enPrefectureName            114383\n",
              "enCityName                  114383\n",
              "enAddressOutside            114613\n",
              "furigana                     67993\n",
              "hihyoji                          0\n",
              "dtype: int64"
            ]
          },
          "metadata": {},
          "execution_count": 29
        }
      ]
    },
    {
      "cell_type": "code",
      "source": [
        "import os\n",
        "os.listdir('data')"
      ],
      "metadata": {
        "id": "Vp8u8vGyobpP",
        "outputId": "8994dbad-bdf9-43c1-c57c-b01fcfc4589e",
        "colab": {
          "base_uri": "https://localhost:8080/"
        }
      },
      "execution_count": 30,
      "outputs": [
        {
          "output_type": "execute_result",
          "data": {
            "text/plain": [
              "['22_shizuoka_all_20210331.csv',\n",
              " 'diff_20210401.csv',\n",
              " 'diff_20210405.csv',\n",
              " 'diff_20210406.csv',\n",
              " 'diff_20210407.csv',\n",
              " 'diff_20210408.csv',\n",
              " 'diff_20210409.csv',\n",
              " 'mst_closeCause.csv',\n",
              " 'mst_latest.csv',\n",
              " 'mst_corp_kind.csv',\n",
              " 'mst_hihyoji.csv',\n",
              " 'mst_correct_kbn.csv',\n",
              " 'mst_process_kbn.csv',\n",
              " 'mst_column_name.txt']"
            ]
          },
          "metadata": {},
          "execution_count": 30
        }
      ]
    },
    {
      "cell_type": "code",
      "source": [
        "from glob import glob\n",
        "diff_files = glob('data/diff*.csv')\n",
        "diff_files"
      ],
      "metadata": {
        "id": "JlaB3HlTo4F_",
        "outputId": "13a8ca38-bf95-466e-8bf5-a0e6196348d6",
        "colab": {
          "base_uri": "https://localhost:8080/"
        }
      },
      "execution_count": 31,
      "outputs": [
        {
          "output_type": "execute_result",
          "data": {
            "text/plain": [
              "['data/diff_20210401.csv',\n",
              " 'data/diff_20210405.csv',\n",
              " 'data/diff_20210406.csv',\n",
              " 'data/diff_20210407.csv',\n",
              " 'data/diff_20210408.csv',\n",
              " 'data/diff_20210409.csv']"
            ]
          },
          "metadata": {},
          "execution_count": 31
        }
      ]
    },
    {
      "cell_type": "code",
      "source": [
        "diff_files.sort()\n",
        "diff = pd.read_csv(diff_files[0],encoding='shift-jis',header=None,dtype=object)\n",
        "print(len(diff))\n",
        "diff.head(3)"
      ],
      "metadata": {
        "id": "JLorLLY0pV9W",
        "outputId": "61969251-f8d6-43a6-e1c9-310b67e950d0",
        "colab": {
          "base_uri": "https://localhost:8080/",
          "height": 339
        }
      },
      "execution_count": 32,
      "outputs": [
        {
          "output_type": "stream",
          "name": "stdout",
          "text": [
            "2316\n"
          ]
        },
        {
          "output_type": "execute_result",
          "data": {
            "text/plain": [
              "  0              1   2  3           4           5                   6    7   \\\n",
              "0  1  1010001016019  71  0  2021-04-01  2021-03-01         株式会社国際漢方研究所  NaN   \n",
              "1  2  1010001092869  01  1  2021-04-01  2020-06-11  あさひ銀リテールファイナンス株式会社  NaN   \n",
              "2  3  1010001092869  21  0  2021-04-01  2021-03-22  あさひ銀リテールファイナンス株式会社  NaN   \n",
              "\n",
              "    8    9   ...   20                                                 21  \\\n",
              "0  301  東京都  ...  NaN  令和３年３月１日東京都渋谷区千駄ヶ谷五丁目２９番１１号ナカニシビル６０２号室株式会社Ｉｎｔｅ...   \n",
              "1  301  東京都  ...  NaN                                                NaN   \n",
              "2  301  東京都  ...  NaN                                                NaN   \n",
              "\n",
              "           22 23   24   25   26   27               28 29  \n",
              "0  2015-10-05  1  NaN  NaN  NaN  NaN  コクサイカンポウケンキュウショ  0  \n",
              "1  2020-06-11  0  NaN  NaN  NaN  NaN  アサヒギンリテールファイナンス  0  \n",
              "2  2020-06-11  1  NaN  NaN  NaN  NaN  アサヒギンリテールファイナンス  0  \n",
              "\n",
              "[3 rows x 30 columns]"
            ],
            "text/html": [
              "\n",
              "  <div id=\"df-8faa4672-6477-4ce2-994c-e33c4a9bc041\">\n",
              "    <div class=\"colab-df-container\">\n",
              "      <div>\n",
              "<style scoped>\n",
              "    .dataframe tbody tr th:only-of-type {\n",
              "        vertical-align: middle;\n",
              "    }\n",
              "\n",
              "    .dataframe tbody tr th {\n",
              "        vertical-align: top;\n",
              "    }\n",
              "\n",
              "    .dataframe thead th {\n",
              "        text-align: right;\n",
              "    }\n",
              "</style>\n",
              "<table border=\"1\" class=\"dataframe\">\n",
              "  <thead>\n",
              "    <tr style=\"text-align: right;\">\n",
              "      <th></th>\n",
              "      <th>0</th>\n",
              "      <th>1</th>\n",
              "      <th>2</th>\n",
              "      <th>3</th>\n",
              "      <th>4</th>\n",
              "      <th>5</th>\n",
              "      <th>6</th>\n",
              "      <th>7</th>\n",
              "      <th>8</th>\n",
              "      <th>9</th>\n",
              "      <th>...</th>\n",
              "      <th>20</th>\n",
              "      <th>21</th>\n",
              "      <th>22</th>\n",
              "      <th>23</th>\n",
              "      <th>24</th>\n",
              "      <th>25</th>\n",
              "      <th>26</th>\n",
              "      <th>27</th>\n",
              "      <th>28</th>\n",
              "      <th>29</th>\n",
              "    </tr>\n",
              "  </thead>\n",
              "  <tbody>\n",
              "    <tr>\n",
              "      <th>0</th>\n",
              "      <td>1</td>\n",
              "      <td>1010001016019</td>\n",
              "      <td>71</td>\n",
              "      <td>0</td>\n",
              "      <td>2021-04-01</td>\n",
              "      <td>2021-03-01</td>\n",
              "      <td>株式会社国際漢方研究所</td>\n",
              "      <td>NaN</td>\n",
              "      <td>301</td>\n",
              "      <td>東京都</td>\n",
              "      <td>...</td>\n",
              "      <td>NaN</td>\n",
              "      <td>令和３年３月１日東京都渋谷区千駄ヶ谷五丁目２９番１１号ナカニシビル６０２号室株式会社Ｉｎｔｅ...</td>\n",
              "      <td>2015-10-05</td>\n",
              "      <td>1</td>\n",
              "      <td>NaN</td>\n",
              "      <td>NaN</td>\n",
              "      <td>NaN</td>\n",
              "      <td>NaN</td>\n",
              "      <td>コクサイカンポウケンキュウショ</td>\n",
              "      <td>0</td>\n",
              "    </tr>\n",
              "    <tr>\n",
              "      <th>1</th>\n",
              "      <td>2</td>\n",
              "      <td>1010001092869</td>\n",
              "      <td>01</td>\n",
              "      <td>1</td>\n",
              "      <td>2021-04-01</td>\n",
              "      <td>2020-06-11</td>\n",
              "      <td>あさひ銀リテールファイナンス株式会社</td>\n",
              "      <td>NaN</td>\n",
              "      <td>301</td>\n",
              "      <td>東京都</td>\n",
              "      <td>...</td>\n",
              "      <td>NaN</td>\n",
              "      <td>NaN</td>\n",
              "      <td>2020-06-11</td>\n",
              "      <td>0</td>\n",
              "      <td>NaN</td>\n",
              "      <td>NaN</td>\n",
              "      <td>NaN</td>\n",
              "      <td>NaN</td>\n",
              "      <td>アサヒギンリテールファイナンス</td>\n",
              "      <td>0</td>\n",
              "    </tr>\n",
              "    <tr>\n",
              "      <th>2</th>\n",
              "      <td>3</td>\n",
              "      <td>1010001092869</td>\n",
              "      <td>21</td>\n",
              "      <td>0</td>\n",
              "      <td>2021-04-01</td>\n",
              "      <td>2021-03-22</td>\n",
              "      <td>あさひ銀リテールファイナンス株式会社</td>\n",
              "      <td>NaN</td>\n",
              "      <td>301</td>\n",
              "      <td>東京都</td>\n",
              "      <td>...</td>\n",
              "      <td>NaN</td>\n",
              "      <td>NaN</td>\n",
              "      <td>2020-06-11</td>\n",
              "      <td>1</td>\n",
              "      <td>NaN</td>\n",
              "      <td>NaN</td>\n",
              "      <td>NaN</td>\n",
              "      <td>NaN</td>\n",
              "      <td>アサヒギンリテールファイナンス</td>\n",
              "      <td>0</td>\n",
              "    </tr>\n",
              "  </tbody>\n",
              "</table>\n",
              "<p>3 rows × 30 columns</p>\n",
              "</div>\n",
              "      <button class=\"colab-df-convert\" onclick=\"convertToInteractive('df-8faa4672-6477-4ce2-994c-e33c4a9bc041')\"\n",
              "              title=\"Convert this dataframe to an interactive table.\"\n",
              "              style=\"display:none;\">\n",
              "        \n",
              "  <svg xmlns=\"http://www.w3.org/2000/svg\" height=\"24px\"viewBox=\"0 0 24 24\"\n",
              "       width=\"24px\">\n",
              "    <path d=\"M0 0h24v24H0V0z\" fill=\"none\"/>\n",
              "    <path d=\"M18.56 5.44l.94 2.06.94-2.06 2.06-.94-2.06-.94-.94-2.06-.94 2.06-2.06.94zm-11 1L8.5 8.5l.94-2.06 2.06-.94-2.06-.94L8.5 2.5l-.94 2.06-2.06.94zm10 10l.94 2.06.94-2.06 2.06-.94-2.06-.94-.94-2.06-.94 2.06-2.06.94z\"/><path d=\"M17.41 7.96l-1.37-1.37c-.4-.4-.92-.59-1.43-.59-.52 0-1.04.2-1.43.59L10.3 9.45l-7.72 7.72c-.78.78-.78 2.05 0 2.83L4 21.41c.39.39.9.59 1.41.59.51 0 1.02-.2 1.41-.59l7.78-7.78 2.81-2.81c.8-.78.8-2.07 0-2.86zM5.41 20L4 18.59l7.72-7.72 1.47 1.35L5.41 20z\"/>\n",
              "  </svg>\n",
              "      </button>\n",
              "      \n",
              "  <style>\n",
              "    .colab-df-container {\n",
              "      display:flex;\n",
              "      flex-wrap:wrap;\n",
              "      gap: 12px;\n",
              "    }\n",
              "\n",
              "    .colab-df-convert {\n",
              "      background-color: #E8F0FE;\n",
              "      border: none;\n",
              "      border-radius: 50%;\n",
              "      cursor: pointer;\n",
              "      display: none;\n",
              "      fill: #1967D2;\n",
              "      height: 32px;\n",
              "      padding: 0 0 0 0;\n",
              "      width: 32px;\n",
              "    }\n",
              "\n",
              "    .colab-df-convert:hover {\n",
              "      background-color: #E2EBFA;\n",
              "      box-shadow: 0px 1px 2px rgba(60, 64, 67, 0.3), 0px 1px 3px 1px rgba(60, 64, 67, 0.15);\n",
              "      fill: #174EA6;\n",
              "    }\n",
              "\n",
              "    [theme=dark] .colab-df-convert {\n",
              "      background-color: #3B4455;\n",
              "      fill: #D2E3FC;\n",
              "    }\n",
              "\n",
              "    [theme=dark] .colab-df-convert:hover {\n",
              "      background-color: #434B5C;\n",
              "      box-shadow: 0px 1px 3px 1px rgba(0, 0, 0, 0.15);\n",
              "      filter: drop-shadow(0px 1px 2px rgba(0, 0, 0, 0.3));\n",
              "      fill: #FFFFFF;\n",
              "    }\n",
              "  </style>\n",
              "\n",
              "      <script>\n",
              "        const buttonEl =\n",
              "          document.querySelector('#df-8faa4672-6477-4ce2-994c-e33c4a9bc041 button.colab-df-convert');\n",
              "        buttonEl.style.display =\n",
              "          google.colab.kernel.accessAllowed ? 'block' : 'none';\n",
              "\n",
              "        async function convertToInteractive(key) {\n",
              "          const element = document.querySelector('#df-8faa4672-6477-4ce2-994c-e33c4a9bc041');\n",
              "          const dataTable =\n",
              "            await google.colab.kernel.invokeFunction('convertToInteractive',\n",
              "                                                     [key], {});\n",
              "          if (!dataTable) return;\n",
              "\n",
              "          const docLinkHtml = 'Like what you see? Visit the ' +\n",
              "            '<a target=\"_blank\" href=https://colab.research.google.com/notebooks/data_table.ipynb>data table notebook</a>'\n",
              "            + ' to learn more about interactive tables.';\n",
              "          element.innerHTML = '';\n",
              "          dataTable['output_type'] = 'display_data';\n",
              "          await google.colab.output.renderOutput(dataTable, element);\n",
              "          const docLink = document.createElement('div');\n",
              "          docLink.innerHTML = docLinkHtml;\n",
              "          element.appendChild(docLink);\n",
              "        }\n",
              "      </script>\n",
              "    </div>\n",
              "  </div>\n",
              "  "
            ]
          },
          "metadata": {},
          "execution_count": 32
        }
      ]
    },
    {
      "cell_type": "code",
      "source": [
        "diff.columns = columns\n",
        "diff=diff.loc[diff['prefectureName']=='静岡県']\n",
        "print(len(diff))\n",
        "diff.head(3)"
      ],
      "metadata": {
        "id": "6vlodSY5r1Ph",
        "outputId": "1ae4d2e3-e68e-40f8-87af-c9cc1edc5e3d",
        "colab": {
          "base_uri": "https://localhost:8080/",
          "height": 497
        }
      },
      "execution_count": 34,
      "outputs": [
        {
          "output_type": "stream",
          "name": "stdout",
          "text": [
            "43\n"
          ]
        },
        {
          "output_type": "execute_result",
          "data": {
            "text/plain": [
              "    sequenceNumber corporateNumber process correct  updateDate  changeDate  \\\n",
              "107            108   1080001015906      01       1  2021-04-01  2015-10-05   \n",
              "108            109   1080001015906      12       1  2021-04-01  2021-03-30   \n",
              "109            110   1080002015434      01       1  2021-04-01  2015-10-05   \n",
              "\n",
              "            name nameImageId kind prefectureName  ...  \\\n",
              "107  株式会社エムケイテック         NaN  301            静岡県  ...   \n",
              "108  株式会社エムケイテック         NaN  301            静岡県  ...   \n",
              "109   有限会社ハイナンＤＣ         NaN  302            静岡県  ...   \n",
              "\n",
              "    successorCorporateNumber changeCause assignmentDate latest enName  \\\n",
              "107                      NaN         NaN     2015-10-05      0    NaN   \n",
              "108                      NaN         NaN     2015-10-05      1    NaN   \n",
              "109                      NaN         NaN     2015-10-05      1    NaN   \n",
              "\n",
              "    enPrefectureName enCityName enAddressOutside   furigana hihyoji  \n",
              "107              NaN        NaN              NaN    エムケイテック       0  \n",
              "108              NaN        NaN              NaN    エムケイテック       0  \n",
              "109              NaN        NaN              NaN  ハイナンディーシー       0  \n",
              "\n",
              "[3 rows x 30 columns]"
            ],
            "text/html": [
              "\n",
              "  <div id=\"df-f7dc05d5-c4a4-4632-970e-7d0b3ddbbb1b\">\n",
              "    <div class=\"colab-df-container\">\n",
              "      <div>\n",
              "<style scoped>\n",
              "    .dataframe tbody tr th:only-of-type {\n",
              "        vertical-align: middle;\n",
              "    }\n",
              "\n",
              "    .dataframe tbody tr th {\n",
              "        vertical-align: top;\n",
              "    }\n",
              "\n",
              "    .dataframe thead th {\n",
              "        text-align: right;\n",
              "    }\n",
              "</style>\n",
              "<table border=\"1\" class=\"dataframe\">\n",
              "  <thead>\n",
              "    <tr style=\"text-align: right;\">\n",
              "      <th></th>\n",
              "      <th>sequenceNumber</th>\n",
              "      <th>corporateNumber</th>\n",
              "      <th>process</th>\n",
              "      <th>correct</th>\n",
              "      <th>updateDate</th>\n",
              "      <th>changeDate</th>\n",
              "      <th>name</th>\n",
              "      <th>nameImageId</th>\n",
              "      <th>kind</th>\n",
              "      <th>prefectureName</th>\n",
              "      <th>...</th>\n",
              "      <th>successorCorporateNumber</th>\n",
              "      <th>changeCause</th>\n",
              "      <th>assignmentDate</th>\n",
              "      <th>latest</th>\n",
              "      <th>enName</th>\n",
              "      <th>enPrefectureName</th>\n",
              "      <th>enCityName</th>\n",
              "      <th>enAddressOutside</th>\n",
              "      <th>furigana</th>\n",
              "      <th>hihyoji</th>\n",
              "    </tr>\n",
              "  </thead>\n",
              "  <tbody>\n",
              "    <tr>\n",
              "      <th>107</th>\n",
              "      <td>108</td>\n",
              "      <td>1080001015906</td>\n",
              "      <td>01</td>\n",
              "      <td>1</td>\n",
              "      <td>2021-04-01</td>\n",
              "      <td>2015-10-05</td>\n",
              "      <td>株式会社エムケイテック</td>\n",
              "      <td>NaN</td>\n",
              "      <td>301</td>\n",
              "      <td>静岡県</td>\n",
              "      <td>...</td>\n",
              "      <td>NaN</td>\n",
              "      <td>NaN</td>\n",
              "      <td>2015-10-05</td>\n",
              "      <td>0</td>\n",
              "      <td>NaN</td>\n",
              "      <td>NaN</td>\n",
              "      <td>NaN</td>\n",
              "      <td>NaN</td>\n",
              "      <td>エムケイテック</td>\n",
              "      <td>0</td>\n",
              "    </tr>\n",
              "    <tr>\n",
              "      <th>108</th>\n",
              "      <td>109</td>\n",
              "      <td>1080001015906</td>\n",
              "      <td>12</td>\n",
              "      <td>1</td>\n",
              "      <td>2021-04-01</td>\n",
              "      <td>2021-03-30</td>\n",
              "      <td>株式会社エムケイテック</td>\n",
              "      <td>NaN</td>\n",
              "      <td>301</td>\n",
              "      <td>静岡県</td>\n",
              "      <td>...</td>\n",
              "      <td>NaN</td>\n",
              "      <td>NaN</td>\n",
              "      <td>2015-10-05</td>\n",
              "      <td>1</td>\n",
              "      <td>NaN</td>\n",
              "      <td>NaN</td>\n",
              "      <td>NaN</td>\n",
              "      <td>NaN</td>\n",
              "      <td>エムケイテック</td>\n",
              "      <td>0</td>\n",
              "    </tr>\n",
              "    <tr>\n",
              "      <th>109</th>\n",
              "      <td>110</td>\n",
              "      <td>1080002015434</td>\n",
              "      <td>01</td>\n",
              "      <td>1</td>\n",
              "      <td>2021-04-01</td>\n",
              "      <td>2015-10-05</td>\n",
              "      <td>有限会社ハイナンＤＣ</td>\n",
              "      <td>NaN</td>\n",
              "      <td>302</td>\n",
              "      <td>静岡県</td>\n",
              "      <td>...</td>\n",
              "      <td>NaN</td>\n",
              "      <td>NaN</td>\n",
              "      <td>2015-10-05</td>\n",
              "      <td>1</td>\n",
              "      <td>NaN</td>\n",
              "      <td>NaN</td>\n",
              "      <td>NaN</td>\n",
              "      <td>NaN</td>\n",
              "      <td>ハイナンディーシー</td>\n",
              "      <td>0</td>\n",
              "    </tr>\n",
              "  </tbody>\n",
              "</table>\n",
              "<p>3 rows × 30 columns</p>\n",
              "</div>\n",
              "      <button class=\"colab-df-convert\" onclick=\"convertToInteractive('df-f7dc05d5-c4a4-4632-970e-7d0b3ddbbb1b')\"\n",
              "              title=\"Convert this dataframe to an interactive table.\"\n",
              "              style=\"display:none;\">\n",
              "        \n",
              "  <svg xmlns=\"http://www.w3.org/2000/svg\" height=\"24px\"viewBox=\"0 0 24 24\"\n",
              "       width=\"24px\">\n",
              "    <path d=\"M0 0h24v24H0V0z\" fill=\"none\"/>\n",
              "    <path d=\"M18.56 5.44l.94 2.06.94-2.06 2.06-.94-2.06-.94-.94-2.06-.94 2.06-2.06.94zm-11 1L8.5 8.5l.94-2.06 2.06-.94-2.06-.94L8.5 2.5l-.94 2.06-2.06.94zm10 10l.94 2.06.94-2.06 2.06-.94-2.06-.94-.94-2.06-.94 2.06-2.06.94z\"/><path d=\"M17.41 7.96l-1.37-1.37c-.4-.4-.92-.59-1.43-.59-.52 0-1.04.2-1.43.59L10.3 9.45l-7.72 7.72c-.78.78-.78 2.05 0 2.83L4 21.41c.39.39.9.59 1.41.59.51 0 1.02-.2 1.41-.59l7.78-7.78 2.81-2.81c.8-.78.8-2.07 0-2.86zM5.41 20L4 18.59l7.72-7.72 1.47 1.35L5.41 20z\"/>\n",
              "  </svg>\n",
              "      </button>\n",
              "      \n",
              "  <style>\n",
              "    .colab-df-container {\n",
              "      display:flex;\n",
              "      flex-wrap:wrap;\n",
              "      gap: 12px;\n",
              "    }\n",
              "\n",
              "    .colab-df-convert {\n",
              "      background-color: #E8F0FE;\n",
              "      border: none;\n",
              "      border-radius: 50%;\n",
              "      cursor: pointer;\n",
              "      display: none;\n",
              "      fill: #1967D2;\n",
              "      height: 32px;\n",
              "      padding: 0 0 0 0;\n",
              "      width: 32px;\n",
              "    }\n",
              "\n",
              "    .colab-df-convert:hover {\n",
              "      background-color: #E2EBFA;\n",
              "      box-shadow: 0px 1px 2px rgba(60, 64, 67, 0.3), 0px 1px 3px 1px rgba(60, 64, 67, 0.15);\n",
              "      fill: #174EA6;\n",
              "    }\n",
              "\n",
              "    [theme=dark] .colab-df-convert {\n",
              "      background-color: #3B4455;\n",
              "      fill: #D2E3FC;\n",
              "    }\n",
              "\n",
              "    [theme=dark] .colab-df-convert:hover {\n",
              "      background-color: #434B5C;\n",
              "      box-shadow: 0px 1px 3px 1px rgba(0, 0, 0, 0.15);\n",
              "      filter: drop-shadow(0px 1px 2px rgba(0, 0, 0, 0.3));\n",
              "      fill: #FFFFFF;\n",
              "    }\n",
              "  </style>\n",
              "\n",
              "      <script>\n",
              "        const buttonEl =\n",
              "          document.querySelector('#df-f7dc05d5-c4a4-4632-970e-7d0b3ddbbb1b button.colab-df-convert');\n",
              "        buttonEl.style.display =\n",
              "          google.colab.kernel.accessAllowed ? 'block' : 'none';\n",
              "\n",
              "        async function convertToInteractive(key) {\n",
              "          const element = document.querySelector('#df-f7dc05d5-c4a4-4632-970e-7d0b3ddbbb1b');\n",
              "          const dataTable =\n",
              "            await google.colab.kernel.invokeFunction('convertToInteractive',\n",
              "                                                     [key], {});\n",
              "          if (!dataTable) return;\n",
              "\n",
              "          const docLinkHtml = 'Like what you see? Visit the ' +\n",
              "            '<a target=\"_blank\" href=https://colab.research.google.com/notebooks/data_table.ipynb>data table notebook</a>'\n",
              "            + ' to learn more about interactive tables.';\n",
              "          element.innerHTML = '';\n",
              "          dataTable['output_type'] = 'display_data';\n",
              "          await google.colab.output.renderOutput(dataTable, element);\n",
              "          const docLink = document.createElement('div');\n",
              "          docLink.innerHTML = docLinkHtml;\n",
              "          element.appendChild(docLink);\n",
              "        }\n",
              "      </script>\n",
              "    </div>\n",
              "  </div>\n",
              "  "
            ]
          },
          "metadata": {},
          "execution_count": 34
        }
      ]
    },
    {
      "cell_type": "code",
      "source": [
        "data_test = data\n",
        "print(len(data_test))\n",
        "print(len(data_test)==len(data))\n",
        "print(len(diff))\n",
        "data_test=data_test.append(diff)\n",
        "print(len(data_test))\n",
        "data_test.tail(3)"
      ],
      "metadata": {
        "id": "JvMoqPkgtGY2",
        "outputId": "ca6cd24e-3e0a-4da5-f422-95ed68dc953c",
        "colab": {
          "base_uri": "https://localhost:8080/",
          "height": 464
        }
      },
      "execution_count": 35,
      "outputs": [
        {
          "output_type": "stream",
          "name": "stdout",
          "text": [
            "114613\n",
            "True\n",
            "43\n",
            "114656\n"
          ]
        },
        {
          "output_type": "execute_result",
          "data": {
            "text/plain": [
              "     sequenceNumber corporateNumber process correct  updateDate  changeDate  \\\n",
              "2159           2160   9080401024929      01       0  2021-04-01  2021-04-01   \n",
              "2160           2161   9080402007726      01       1  2021-04-01  2015-10-05   \n",
              "2161           2162   9080402021917      21       0  2021-04-01  2021-03-30   \n",
              "\n",
              "          name nameImageId kind prefectureName  ... successorCorporateNumber  \\\n",
              "2159  株式会社リガーレ         NaN  301            静岡県  ...                      NaN   \n",
              "2160  有限会社丸信商店         NaN  302            静岡県  ...                      NaN   \n",
              "2161  有限会社岡本商会         NaN  302            静岡県  ...                      NaN   \n",
              "\n",
              "     changeCause assignmentDate latest enName enPrefectureName enCityName  \\\n",
              "2159         NaN     2021-04-01      1    NaN              NaN        NaN   \n",
              "2160         NaN     2015-10-05      1    NaN              NaN        NaN   \n",
              "2161         NaN     2015-10-05      1    NaN              NaN        NaN   \n",
              "\n",
              "     enAddressOutside   furigana hihyoji  \n",
              "2159              NaN       リガーレ       0  \n",
              "2160              NaN  マルシンショウテン       0  \n",
              "2161              NaN  オカモトショウカイ       0  \n",
              "\n",
              "[3 rows x 30 columns]"
            ],
            "text/html": [
              "\n",
              "  <div id=\"df-dd17dd90-83dc-4da0-852b-78f6708395a6\">\n",
              "    <div class=\"colab-df-container\">\n",
              "      <div>\n",
              "<style scoped>\n",
              "    .dataframe tbody tr th:only-of-type {\n",
              "        vertical-align: middle;\n",
              "    }\n",
              "\n",
              "    .dataframe tbody tr th {\n",
              "        vertical-align: top;\n",
              "    }\n",
              "\n",
              "    .dataframe thead th {\n",
              "        text-align: right;\n",
              "    }\n",
              "</style>\n",
              "<table border=\"1\" class=\"dataframe\">\n",
              "  <thead>\n",
              "    <tr style=\"text-align: right;\">\n",
              "      <th></th>\n",
              "      <th>sequenceNumber</th>\n",
              "      <th>corporateNumber</th>\n",
              "      <th>process</th>\n",
              "      <th>correct</th>\n",
              "      <th>updateDate</th>\n",
              "      <th>changeDate</th>\n",
              "      <th>name</th>\n",
              "      <th>nameImageId</th>\n",
              "      <th>kind</th>\n",
              "      <th>prefectureName</th>\n",
              "      <th>...</th>\n",
              "      <th>successorCorporateNumber</th>\n",
              "      <th>changeCause</th>\n",
              "      <th>assignmentDate</th>\n",
              "      <th>latest</th>\n",
              "      <th>enName</th>\n",
              "      <th>enPrefectureName</th>\n",
              "      <th>enCityName</th>\n",
              "      <th>enAddressOutside</th>\n",
              "      <th>furigana</th>\n",
              "      <th>hihyoji</th>\n",
              "    </tr>\n",
              "  </thead>\n",
              "  <tbody>\n",
              "    <tr>\n",
              "      <th>2159</th>\n",
              "      <td>2160</td>\n",
              "      <td>9080401024929</td>\n",
              "      <td>01</td>\n",
              "      <td>0</td>\n",
              "      <td>2021-04-01</td>\n",
              "      <td>2021-04-01</td>\n",
              "      <td>株式会社リガーレ</td>\n",
              "      <td>NaN</td>\n",
              "      <td>301</td>\n",
              "      <td>静岡県</td>\n",
              "      <td>...</td>\n",
              "      <td>NaN</td>\n",
              "      <td>NaN</td>\n",
              "      <td>2021-04-01</td>\n",
              "      <td>1</td>\n",
              "      <td>NaN</td>\n",
              "      <td>NaN</td>\n",
              "      <td>NaN</td>\n",
              "      <td>NaN</td>\n",
              "      <td>リガーレ</td>\n",
              "      <td>0</td>\n",
              "    </tr>\n",
              "    <tr>\n",
              "      <th>2160</th>\n",
              "      <td>2161</td>\n",
              "      <td>9080402007726</td>\n",
              "      <td>01</td>\n",
              "      <td>1</td>\n",
              "      <td>2021-04-01</td>\n",
              "      <td>2015-10-05</td>\n",
              "      <td>有限会社丸信商店</td>\n",
              "      <td>NaN</td>\n",
              "      <td>302</td>\n",
              "      <td>静岡県</td>\n",
              "      <td>...</td>\n",
              "      <td>NaN</td>\n",
              "      <td>NaN</td>\n",
              "      <td>2015-10-05</td>\n",
              "      <td>1</td>\n",
              "      <td>NaN</td>\n",
              "      <td>NaN</td>\n",
              "      <td>NaN</td>\n",
              "      <td>NaN</td>\n",
              "      <td>マルシンショウテン</td>\n",
              "      <td>0</td>\n",
              "    </tr>\n",
              "    <tr>\n",
              "      <th>2161</th>\n",
              "      <td>2162</td>\n",
              "      <td>9080402021917</td>\n",
              "      <td>21</td>\n",
              "      <td>0</td>\n",
              "      <td>2021-04-01</td>\n",
              "      <td>2021-03-30</td>\n",
              "      <td>有限会社岡本商会</td>\n",
              "      <td>NaN</td>\n",
              "      <td>302</td>\n",
              "      <td>静岡県</td>\n",
              "      <td>...</td>\n",
              "      <td>NaN</td>\n",
              "      <td>NaN</td>\n",
              "      <td>2015-10-05</td>\n",
              "      <td>1</td>\n",
              "      <td>NaN</td>\n",
              "      <td>NaN</td>\n",
              "      <td>NaN</td>\n",
              "      <td>NaN</td>\n",
              "      <td>オカモトショウカイ</td>\n",
              "      <td>0</td>\n",
              "    </tr>\n",
              "  </tbody>\n",
              "</table>\n",
              "<p>3 rows × 30 columns</p>\n",
              "</div>\n",
              "      <button class=\"colab-df-convert\" onclick=\"convertToInteractive('df-dd17dd90-83dc-4da0-852b-78f6708395a6')\"\n",
              "              title=\"Convert this dataframe to an interactive table.\"\n",
              "              style=\"display:none;\">\n",
              "        \n",
              "  <svg xmlns=\"http://www.w3.org/2000/svg\" height=\"24px\"viewBox=\"0 0 24 24\"\n",
              "       width=\"24px\">\n",
              "    <path d=\"M0 0h24v24H0V0z\" fill=\"none\"/>\n",
              "    <path d=\"M18.56 5.44l.94 2.06.94-2.06 2.06-.94-2.06-.94-.94-2.06-.94 2.06-2.06.94zm-11 1L8.5 8.5l.94-2.06 2.06-.94-2.06-.94L8.5 2.5l-.94 2.06-2.06.94zm10 10l.94 2.06.94-2.06 2.06-.94-2.06-.94-.94-2.06-.94 2.06-2.06.94z\"/><path d=\"M17.41 7.96l-1.37-1.37c-.4-.4-.92-.59-1.43-.59-.52 0-1.04.2-1.43.59L10.3 9.45l-7.72 7.72c-.78.78-.78 2.05 0 2.83L4 21.41c.39.39.9.59 1.41.59.51 0 1.02-.2 1.41-.59l7.78-7.78 2.81-2.81c.8-.78.8-2.07 0-2.86zM5.41 20L4 18.59l7.72-7.72 1.47 1.35L5.41 20z\"/>\n",
              "  </svg>\n",
              "      </button>\n",
              "      \n",
              "  <style>\n",
              "    .colab-df-container {\n",
              "      display:flex;\n",
              "      flex-wrap:wrap;\n",
              "      gap: 12px;\n",
              "    }\n",
              "\n",
              "    .colab-df-convert {\n",
              "      background-color: #E8F0FE;\n",
              "      border: none;\n",
              "      border-radius: 50%;\n",
              "      cursor: pointer;\n",
              "      display: none;\n",
              "      fill: #1967D2;\n",
              "      height: 32px;\n",
              "      padding: 0 0 0 0;\n",
              "      width: 32px;\n",
              "    }\n",
              "\n",
              "    .colab-df-convert:hover {\n",
              "      background-color: #E2EBFA;\n",
              "      box-shadow: 0px 1px 2px rgba(60, 64, 67, 0.3), 0px 1px 3px 1px rgba(60, 64, 67, 0.15);\n",
              "      fill: #174EA6;\n",
              "    }\n",
              "\n",
              "    [theme=dark] .colab-df-convert {\n",
              "      background-color: #3B4455;\n",
              "      fill: #D2E3FC;\n",
              "    }\n",
              "\n",
              "    [theme=dark] .colab-df-convert:hover {\n",
              "      background-color: #434B5C;\n",
              "      box-shadow: 0px 1px 3px 1px rgba(0, 0, 0, 0.15);\n",
              "      filter: drop-shadow(0px 1px 2px rgba(0, 0, 0, 0.3));\n",
              "      fill: #FFFFFF;\n",
              "    }\n",
              "  </style>\n",
              "\n",
              "      <script>\n",
              "        const buttonEl =\n",
              "          document.querySelector('#df-dd17dd90-83dc-4da0-852b-78f6708395a6 button.colab-df-convert');\n",
              "        buttonEl.style.display =\n",
              "          google.colab.kernel.accessAllowed ? 'block' : 'none';\n",
              "\n",
              "        async function convertToInteractive(key) {\n",
              "          const element = document.querySelector('#df-dd17dd90-83dc-4da0-852b-78f6708395a6');\n",
              "          const dataTable =\n",
              "            await google.colab.kernel.invokeFunction('convertToInteractive',\n",
              "                                                     [key], {});\n",
              "          if (!dataTable) return;\n",
              "\n",
              "          const docLinkHtml = 'Like what you see? Visit the ' +\n",
              "            '<a target=\"_blank\" href=https://colab.research.google.com/notebooks/data_table.ipynb>data table notebook</a>'\n",
              "            + ' to learn more about interactive tables.';\n",
              "          element.innerHTML = '';\n",
              "          dataTable['output_type'] = 'display_data';\n",
              "          await google.colab.output.renderOutput(dataTable, element);\n",
              "          const docLink = document.createElement('div');\n",
              "          docLink.innerHTML = docLinkHtml;\n",
              "          element.appendChild(docLink);\n",
              "        }\n",
              "      </script>\n",
              "    </div>\n",
              "  </div>\n",
              "  "
            ]
          },
          "metadata": {},
          "execution_count": 35
        }
      ]
    },
    {
      "cell_type": "code",
      "source": [
        "for f in diff_files:\n",
        "  diff = pd.read_csv(f,encoding='shift-jis',header=None,dtype=object)\n",
        "  diff.columns=columns\n",
        "  diff = diff.loc[diff['prefectureName']=='静岡県']\n",
        "  data = data.append(diff)\n",
        "data"
      ],
      "metadata": {
        "id": "nMxuBQY2vu0t",
        "outputId": "3ce2e195-9f2d-491c-acf1-eb51fd863a69",
        "colab": {
          "base_uri": "https://localhost:8080/",
          "height": 1000
        }
      },
      "execution_count": 41,
      "outputs": [
        {
          "output_type": "execute_result",
          "data": {
            "text/plain": [
              "     sequenceNumber corporateNumber process correct  updateDate  changeDate  \\\n",
              "0                 1   1000013040008      01       1  2018-04-02  2015-10-05   \n",
              "1                 2   1000013050072      01       1  2018-04-02  2015-10-05   \n",
              "2                 3   1000013050080      01       1  2018-04-02  2015-10-05   \n",
              "3                 4   1000020222119      01       1  2018-04-05  2015-10-05   \n",
              "4                 5   1000020222127      01       1  2018-04-05  2015-10-05   \n",
              "...             ...             ...     ...     ...         ...         ...   \n",
              "3194           3195   9080001021673      01       1  2021-04-09  2017-07-07   \n",
              "3195           3196   9080101022431      01       0  2021-04-09  2021-04-09   \n",
              "3196           3197   9080102008933      01       1  2021-04-09  2015-10-05   \n",
              "3197           3198   9080402002859      21       0  2021-04-09  2021-04-01   \n",
              "3198           3199   9080402015836      12       0  2021-04-09  2021-04-01   \n",
              "\n",
              "            name nameImageId kind prefectureName  ...  \\\n",
              "0        静岡家庭裁判所         NaN  101            静岡県  ...   \n",
              "1        清水簡易裁判所         NaN  101            静岡県  ...   \n",
              "2        浜松簡易裁判所         NaN  101            静岡県  ...   \n",
              "3            磐田市         NaN  201            静岡県  ...   \n",
              "4            焼津市         NaN  201            静岡県  ...   \n",
              "...          ...         ...  ...            ...  ...   \n",
              "3194     株式会社ＡＣＴ         NaN  301            静岡県  ...   \n",
              "3195  株式会社ＬＥＳＱＵＡ         NaN  301            静岡県  ...   \n",
              "3196   有限会社サクラ急送         NaN  302            静岡県  ...   \n",
              "3197      有限会社弘法         NaN  302            静岡県  ...   \n",
              "3198  有限会社エコワークス         NaN  302            静岡県  ...   \n",
              "\n",
              "     successorCorporateNumber  \\\n",
              "0                         NaN   \n",
              "1                         NaN   \n",
              "2                         NaN   \n",
              "3                         NaN   \n",
              "4                         NaN   \n",
              "...                       ...   \n",
              "3194                      NaN   \n",
              "3195                      NaN   \n",
              "3196                      NaN   \n",
              "3197            8080401016019   \n",
              "3198                      NaN   \n",
              "\n",
              "                                            changeCause assignmentDate latest  \\\n",
              "0                                                   NaN     2015-10-05      1   \n",
              "1                                                   NaN     2015-10-05      1   \n",
              "2                                                   NaN     2015-10-05      1   \n",
              "3                                                   NaN     2015-10-05      1   \n",
              "4                                                   NaN     2015-10-05      1   \n",
              "...                                                 ...            ...    ...   \n",
              "3194                                                NaN     2017-07-07      1   \n",
              "3195                                                NaN     2021-04-09      1   \n",
              "3196                                                NaN     2015-10-05      1   \n",
              "3197  令和３年４月１日静岡県磐田市安久路二丁目２番地の２まごころ株式会社（808040101601...     2015-10-05      1   \n",
              "3198                                                NaN     2015-10-05      1   \n",
              "\n",
              "                       enName enPrefectureName  \\\n",
              "0       Shizuoka Family Court         Shizuoka   \n",
              "1       Shimizu Summary Court         Shizuoka   \n",
              "2     Hamamatsu Summary Court         Shizuoka   \n",
              "3                  Iwata City         Shizuoka   \n",
              "4                  Yaizu city         Shizuoka   \n",
              "...                       ...              ...   \n",
              "3194                      NaN              NaN   \n",
              "3195                      NaN              NaN   \n",
              "3196                      NaN              NaN   \n",
              "3197                      NaN              NaN   \n",
              "3198                      NaN              NaN   \n",
              "\n",
              "                                    enCityName enAddressOutside  \\\n",
              "0         1-20, Jonaicho, Aoi ku, Shizuoka shi              NaN   \n",
              "1     1-6-15, Tenjin, Shimizu ku, Shizuoka shi              NaN   \n",
              "2         1-12-5, Chuo, Naka ku, Hamamatsu shi              NaN   \n",
              "3                      3-1,Kounodai, Iwata shi              NaN   \n",
              "4                  2-16-32 Honmachi, Yaizu shi              NaN   \n",
              "...                                        ...              ...   \n",
              "3194                                       NaN              NaN   \n",
              "3195                                       NaN              NaN   \n",
              "3196                                       NaN              NaN   \n",
              "3197                                       NaN              NaN   \n",
              "3198                                       NaN              NaN   \n",
              "\n",
              "           furigana hihyoji  \n",
              "0     シズオカカテイサイバンショ       0  \n",
              "1      シミズカンイサイバンショ       0  \n",
              "2     ハママツカンイサイバンショ       0  \n",
              "3              イワタシ       0  \n",
              "4              ヤイヅシ       0  \n",
              "...             ...     ...  \n",
              "3194            アクト       0  \n",
              "3195            レスカ       0  \n",
              "3196       サクラキュウソウ       0  \n",
              "3197           コウボウ       0  \n",
              "3198         エコワークス       0  \n",
              "\n",
              "[115165 rows x 30 columns]"
            ],
            "text/html": [
              "\n",
              "  <div id=\"df-67d2cf1e-c41f-4f77-92c2-f2895d8b1aea\">\n",
              "    <div class=\"colab-df-container\">\n",
              "      <div>\n",
              "<style scoped>\n",
              "    .dataframe tbody tr th:only-of-type {\n",
              "        vertical-align: middle;\n",
              "    }\n",
              "\n",
              "    .dataframe tbody tr th {\n",
              "        vertical-align: top;\n",
              "    }\n",
              "\n",
              "    .dataframe thead th {\n",
              "        text-align: right;\n",
              "    }\n",
              "</style>\n",
              "<table border=\"1\" class=\"dataframe\">\n",
              "  <thead>\n",
              "    <tr style=\"text-align: right;\">\n",
              "      <th></th>\n",
              "      <th>sequenceNumber</th>\n",
              "      <th>corporateNumber</th>\n",
              "      <th>process</th>\n",
              "      <th>correct</th>\n",
              "      <th>updateDate</th>\n",
              "      <th>changeDate</th>\n",
              "      <th>name</th>\n",
              "      <th>nameImageId</th>\n",
              "      <th>kind</th>\n",
              "      <th>prefectureName</th>\n",
              "      <th>...</th>\n",
              "      <th>successorCorporateNumber</th>\n",
              "      <th>changeCause</th>\n",
              "      <th>assignmentDate</th>\n",
              "      <th>latest</th>\n",
              "      <th>enName</th>\n",
              "      <th>enPrefectureName</th>\n",
              "      <th>enCityName</th>\n",
              "      <th>enAddressOutside</th>\n",
              "      <th>furigana</th>\n",
              "      <th>hihyoji</th>\n",
              "    </tr>\n",
              "  </thead>\n",
              "  <tbody>\n",
              "    <tr>\n",
              "      <th>0</th>\n",
              "      <td>1</td>\n",
              "      <td>1000013040008</td>\n",
              "      <td>01</td>\n",
              "      <td>1</td>\n",
              "      <td>2018-04-02</td>\n",
              "      <td>2015-10-05</td>\n",
              "      <td>静岡家庭裁判所</td>\n",
              "      <td>NaN</td>\n",
              "      <td>101</td>\n",
              "      <td>静岡県</td>\n",
              "      <td>...</td>\n",
              "      <td>NaN</td>\n",
              "      <td>NaN</td>\n",
              "      <td>2015-10-05</td>\n",
              "      <td>1</td>\n",
              "      <td>Shizuoka Family Court</td>\n",
              "      <td>Shizuoka</td>\n",
              "      <td>1-20, Jonaicho, Aoi ku, Shizuoka shi</td>\n",
              "      <td>NaN</td>\n",
              "      <td>シズオカカテイサイバンショ</td>\n",
              "      <td>0</td>\n",
              "    </tr>\n",
              "    <tr>\n",
              "      <th>1</th>\n",
              "      <td>2</td>\n",
              "      <td>1000013050072</td>\n",
              "      <td>01</td>\n",
              "      <td>1</td>\n",
              "      <td>2018-04-02</td>\n",
              "      <td>2015-10-05</td>\n",
              "      <td>清水簡易裁判所</td>\n",
              "      <td>NaN</td>\n",
              "      <td>101</td>\n",
              "      <td>静岡県</td>\n",
              "      <td>...</td>\n",
              "      <td>NaN</td>\n",
              "      <td>NaN</td>\n",
              "      <td>2015-10-05</td>\n",
              "      <td>1</td>\n",
              "      <td>Shimizu Summary Court</td>\n",
              "      <td>Shizuoka</td>\n",
              "      <td>1-6-15, Tenjin, Shimizu ku, Shizuoka shi</td>\n",
              "      <td>NaN</td>\n",
              "      <td>シミズカンイサイバンショ</td>\n",
              "      <td>0</td>\n",
              "    </tr>\n",
              "    <tr>\n",
              "      <th>2</th>\n",
              "      <td>3</td>\n",
              "      <td>1000013050080</td>\n",
              "      <td>01</td>\n",
              "      <td>1</td>\n",
              "      <td>2018-04-02</td>\n",
              "      <td>2015-10-05</td>\n",
              "      <td>浜松簡易裁判所</td>\n",
              "      <td>NaN</td>\n",
              "      <td>101</td>\n",
              "      <td>静岡県</td>\n",
              "      <td>...</td>\n",
              "      <td>NaN</td>\n",
              "      <td>NaN</td>\n",
              "      <td>2015-10-05</td>\n",
              "      <td>1</td>\n",
              "      <td>Hamamatsu Summary Court</td>\n",
              "      <td>Shizuoka</td>\n",
              "      <td>1-12-5, Chuo, Naka ku, Hamamatsu shi</td>\n",
              "      <td>NaN</td>\n",
              "      <td>ハママツカンイサイバンショ</td>\n",
              "      <td>0</td>\n",
              "    </tr>\n",
              "    <tr>\n",
              "      <th>3</th>\n",
              "      <td>4</td>\n",
              "      <td>1000020222119</td>\n",
              "      <td>01</td>\n",
              "      <td>1</td>\n",
              "      <td>2018-04-05</td>\n",
              "      <td>2015-10-05</td>\n",
              "      <td>磐田市</td>\n",
              "      <td>NaN</td>\n",
              "      <td>201</td>\n",
              "      <td>静岡県</td>\n",
              "      <td>...</td>\n",
              "      <td>NaN</td>\n",
              "      <td>NaN</td>\n",
              "      <td>2015-10-05</td>\n",
              "      <td>1</td>\n",
              "      <td>Iwata City</td>\n",
              "      <td>Shizuoka</td>\n",
              "      <td>3-1,Kounodai, Iwata shi</td>\n",
              "      <td>NaN</td>\n",
              "      <td>イワタシ</td>\n",
              "      <td>0</td>\n",
              "    </tr>\n",
              "    <tr>\n",
              "      <th>4</th>\n",
              "      <td>5</td>\n",
              "      <td>1000020222127</td>\n",
              "      <td>01</td>\n",
              "      <td>1</td>\n",
              "      <td>2018-04-05</td>\n",
              "      <td>2015-10-05</td>\n",
              "      <td>焼津市</td>\n",
              "      <td>NaN</td>\n",
              "      <td>201</td>\n",
              "      <td>静岡県</td>\n",
              "      <td>...</td>\n",
              "      <td>NaN</td>\n",
              "      <td>NaN</td>\n",
              "      <td>2015-10-05</td>\n",
              "      <td>1</td>\n",
              "      <td>Yaizu city</td>\n",
              "      <td>Shizuoka</td>\n",
              "      <td>2-16-32 Honmachi, Yaizu shi</td>\n",
              "      <td>NaN</td>\n",
              "      <td>ヤイヅシ</td>\n",
              "      <td>0</td>\n",
              "    </tr>\n",
              "    <tr>\n",
              "      <th>...</th>\n",
              "      <td>...</td>\n",
              "      <td>...</td>\n",
              "      <td>...</td>\n",
              "      <td>...</td>\n",
              "      <td>...</td>\n",
              "      <td>...</td>\n",
              "      <td>...</td>\n",
              "      <td>...</td>\n",
              "      <td>...</td>\n",
              "      <td>...</td>\n",
              "      <td>...</td>\n",
              "      <td>...</td>\n",
              "      <td>...</td>\n",
              "      <td>...</td>\n",
              "      <td>...</td>\n",
              "      <td>...</td>\n",
              "      <td>...</td>\n",
              "      <td>...</td>\n",
              "      <td>...</td>\n",
              "      <td>...</td>\n",
              "      <td>...</td>\n",
              "    </tr>\n",
              "    <tr>\n",
              "      <th>3194</th>\n",
              "      <td>3195</td>\n",
              "      <td>9080001021673</td>\n",
              "      <td>01</td>\n",
              "      <td>1</td>\n",
              "      <td>2021-04-09</td>\n",
              "      <td>2017-07-07</td>\n",
              "      <td>株式会社ＡＣＴ</td>\n",
              "      <td>NaN</td>\n",
              "      <td>301</td>\n",
              "      <td>静岡県</td>\n",
              "      <td>...</td>\n",
              "      <td>NaN</td>\n",
              "      <td>NaN</td>\n",
              "      <td>2017-07-07</td>\n",
              "      <td>1</td>\n",
              "      <td>NaN</td>\n",
              "      <td>NaN</td>\n",
              "      <td>NaN</td>\n",
              "      <td>NaN</td>\n",
              "      <td>アクト</td>\n",
              "      <td>0</td>\n",
              "    </tr>\n",
              "    <tr>\n",
              "      <th>3195</th>\n",
              "      <td>3196</td>\n",
              "      <td>9080101022431</td>\n",
              "      <td>01</td>\n",
              "      <td>0</td>\n",
              "      <td>2021-04-09</td>\n",
              "      <td>2021-04-09</td>\n",
              "      <td>株式会社ＬＥＳＱＵＡ</td>\n",
              "      <td>NaN</td>\n",
              "      <td>301</td>\n",
              "      <td>静岡県</td>\n",
              "      <td>...</td>\n",
              "      <td>NaN</td>\n",
              "      <td>NaN</td>\n",
              "      <td>2021-04-09</td>\n",
              "      <td>1</td>\n",
              "      <td>NaN</td>\n",
              "      <td>NaN</td>\n",
              "      <td>NaN</td>\n",
              "      <td>NaN</td>\n",
              "      <td>レスカ</td>\n",
              "      <td>0</td>\n",
              "    </tr>\n",
              "    <tr>\n",
              "      <th>3196</th>\n",
              "      <td>3197</td>\n",
              "      <td>9080102008933</td>\n",
              "      <td>01</td>\n",
              "      <td>1</td>\n",
              "      <td>2021-04-09</td>\n",
              "      <td>2015-10-05</td>\n",
              "      <td>有限会社サクラ急送</td>\n",
              "      <td>NaN</td>\n",
              "      <td>302</td>\n",
              "      <td>静岡県</td>\n",
              "      <td>...</td>\n",
              "      <td>NaN</td>\n",
              "      <td>NaN</td>\n",
              "      <td>2015-10-05</td>\n",
              "      <td>1</td>\n",
              "      <td>NaN</td>\n",
              "      <td>NaN</td>\n",
              "      <td>NaN</td>\n",
              "      <td>NaN</td>\n",
              "      <td>サクラキュウソウ</td>\n",
              "      <td>0</td>\n",
              "    </tr>\n",
              "    <tr>\n",
              "      <th>3197</th>\n",
              "      <td>3198</td>\n",
              "      <td>9080402002859</td>\n",
              "      <td>21</td>\n",
              "      <td>0</td>\n",
              "      <td>2021-04-09</td>\n",
              "      <td>2021-04-01</td>\n",
              "      <td>有限会社弘法</td>\n",
              "      <td>NaN</td>\n",
              "      <td>302</td>\n",
              "      <td>静岡県</td>\n",
              "      <td>...</td>\n",
              "      <td>8080401016019</td>\n",
              "      <td>令和３年４月１日静岡県磐田市安久路二丁目２番地の２まごころ株式会社（808040101601...</td>\n",
              "      <td>2015-10-05</td>\n",
              "      <td>1</td>\n",
              "      <td>NaN</td>\n",
              "      <td>NaN</td>\n",
              "      <td>NaN</td>\n",
              "      <td>NaN</td>\n",
              "      <td>コウボウ</td>\n",
              "      <td>0</td>\n",
              "    </tr>\n",
              "    <tr>\n",
              "      <th>3198</th>\n",
              "      <td>3199</td>\n",
              "      <td>9080402015836</td>\n",
              "      <td>12</td>\n",
              "      <td>0</td>\n",
              "      <td>2021-04-09</td>\n",
              "      <td>2021-04-01</td>\n",
              "      <td>有限会社エコワークス</td>\n",
              "      <td>NaN</td>\n",
              "      <td>302</td>\n",
              "      <td>静岡県</td>\n",
              "      <td>...</td>\n",
              "      <td>NaN</td>\n",
              "      <td>NaN</td>\n",
              "      <td>2015-10-05</td>\n",
              "      <td>1</td>\n",
              "      <td>NaN</td>\n",
              "      <td>NaN</td>\n",
              "      <td>NaN</td>\n",
              "      <td>NaN</td>\n",
              "      <td>エコワークス</td>\n",
              "      <td>0</td>\n",
              "    </tr>\n",
              "  </tbody>\n",
              "</table>\n",
              "<p>115165 rows × 30 columns</p>\n",
              "</div>\n",
              "      <button class=\"colab-df-convert\" onclick=\"convertToInteractive('df-67d2cf1e-c41f-4f77-92c2-f2895d8b1aea')\"\n",
              "              title=\"Convert this dataframe to an interactive table.\"\n",
              "              style=\"display:none;\">\n",
              "        \n",
              "  <svg xmlns=\"http://www.w3.org/2000/svg\" height=\"24px\"viewBox=\"0 0 24 24\"\n",
              "       width=\"24px\">\n",
              "    <path d=\"M0 0h24v24H0V0z\" fill=\"none\"/>\n",
              "    <path d=\"M18.56 5.44l.94 2.06.94-2.06 2.06-.94-2.06-.94-.94-2.06-.94 2.06-2.06.94zm-11 1L8.5 8.5l.94-2.06 2.06-.94-2.06-.94L8.5 2.5l-.94 2.06-2.06.94zm10 10l.94 2.06.94-2.06 2.06-.94-2.06-.94-.94-2.06-.94 2.06-2.06.94z\"/><path d=\"M17.41 7.96l-1.37-1.37c-.4-.4-.92-.59-1.43-.59-.52 0-1.04.2-1.43.59L10.3 9.45l-7.72 7.72c-.78.78-.78 2.05 0 2.83L4 21.41c.39.39.9.59 1.41.59.51 0 1.02-.2 1.41-.59l7.78-7.78 2.81-2.81c.8-.78.8-2.07 0-2.86zM5.41 20L4 18.59l7.72-7.72 1.47 1.35L5.41 20z\"/>\n",
              "  </svg>\n",
              "      </button>\n",
              "      \n",
              "  <style>\n",
              "    .colab-df-container {\n",
              "      display:flex;\n",
              "      flex-wrap:wrap;\n",
              "      gap: 12px;\n",
              "    }\n",
              "\n",
              "    .colab-df-convert {\n",
              "      background-color: #E8F0FE;\n",
              "      border: none;\n",
              "      border-radius: 50%;\n",
              "      cursor: pointer;\n",
              "      display: none;\n",
              "      fill: #1967D2;\n",
              "      height: 32px;\n",
              "      padding: 0 0 0 0;\n",
              "      width: 32px;\n",
              "    }\n",
              "\n",
              "    .colab-df-convert:hover {\n",
              "      background-color: #E2EBFA;\n",
              "      box-shadow: 0px 1px 2px rgba(60, 64, 67, 0.3), 0px 1px 3px 1px rgba(60, 64, 67, 0.15);\n",
              "      fill: #174EA6;\n",
              "    }\n",
              "\n",
              "    [theme=dark] .colab-df-convert {\n",
              "      background-color: #3B4455;\n",
              "      fill: #D2E3FC;\n",
              "    }\n",
              "\n",
              "    [theme=dark] .colab-df-convert:hover {\n",
              "      background-color: #434B5C;\n",
              "      box-shadow: 0px 1px 3px 1px rgba(0, 0, 0, 0.15);\n",
              "      filter: drop-shadow(0px 1px 2px rgba(0, 0, 0, 0.3));\n",
              "      fill: #FFFFFF;\n",
              "    }\n",
              "  </style>\n",
              "\n",
              "      <script>\n",
              "        const buttonEl =\n",
              "          document.querySelector('#df-67d2cf1e-c41f-4f77-92c2-f2895d8b1aea button.colab-df-convert');\n",
              "        buttonEl.style.display =\n",
              "          google.colab.kernel.accessAllowed ? 'block' : 'none';\n",
              "\n",
              "        async function convertToInteractive(key) {\n",
              "          const element = document.querySelector('#df-67d2cf1e-c41f-4f77-92c2-f2895d8b1aea');\n",
              "          const dataTable =\n",
              "            await google.colab.kernel.invokeFunction('convertToInteractive',\n",
              "                                                     [key], {});\n",
              "          if (!dataTable) return;\n",
              "\n",
              "          const docLinkHtml = 'Like what you see? Visit the ' +\n",
              "            '<a target=\"_blank\" href=https://colab.research.google.com/notebooks/data_table.ipynb>data table notebook</a>'\n",
              "            + ' to learn more about interactive tables.';\n",
              "          element.innerHTML = '';\n",
              "          dataTable['output_type'] = 'display_data';\n",
              "          await google.colab.output.renderOutput(dataTable, element);\n",
              "          const docLink = document.createElement('div');\n",
              "          docLink.innerHTML = docLinkHtml;\n",
              "          element.appendChild(docLink);\n",
              "        }\n",
              "      </script>\n",
              "    </div>\n",
              "  </div>\n",
              "  "
            ]
          },
          "metadata": {},
          "execution_count": 41
        }
      ]
    },
    {
      "cell_type": "code",
      "source": [
        "data.describe()"
      ],
      "metadata": {
        "id": "djHO4gn7xE9x",
        "outputId": "6ed5ab0a-4d93-41a0-8714-90c5144f0454",
        "colab": {
          "base_uri": "https://localhost:8080/",
          "height": 389
        }
      },
      "execution_count": 42,
      "outputs": [
        {
          "output_type": "execute_result",
          "data": {
            "text/plain": [
              "       sequenceNumber corporateNumber process correct  updateDate  changeDate  \\\n",
              "count          115165          115165  115165  115165      115165      115165   \n",
              "unique         114388          114758       6       2        1322        1351   \n",
              "top              3032   7080402010509      01       0  2015-11-13  2015-10-05   \n",
              "freq                7               5   94448   81026       55849       83337   \n",
              "\n",
              "          name nameImageId    kind prefectureName  ...  \\\n",
              "count   115165        1248  115165         115165  ...   \n",
              "unique  105995        1245       9              1  ...   \n",
              "top       八幡神社    00067824     301            静岡県  ...   \n",
              "freq       171           2   51576         115165  ...   \n",
              "\n",
              "       successorCorporateNumber  \\\n",
              "count                       690   \n",
              "unique                      581   \n",
              "top               8080001004480   \n",
              "freq                         12   \n",
              "\n",
              "                                              changeCause assignmentDate  \\\n",
              "count                                                1148         115165   \n",
              "unique                                               1066           1334   \n",
              "top     平成２９年１２月１日静岡市駿河区富士見台一丁目２１番２２号富士見工業株式会社（8080001...     2015-10-05   \n",
              "freq                                                   12         101549   \n",
              "\n",
              "        latest        enName enPrefectureName                enCityName  \\\n",
              "count   115165           234              232                       232   \n",
              "unique       2           232                1                       130   \n",
              "top          1  FSP Co.,Ltd.         Shizuoka  212-2,Tanaka, Kawazu cho   \n",
              "freq    115129             2              232                        10   \n",
              "\n",
              "       enAddressOutside furigana hihyoji  \n",
              "count                 0    47298  115165  \n",
              "unique                0    41560       2  \n",
              "top                 NaN   ハチマングウ       0  \n",
              "freq                NaN       30  114940  \n",
              "\n",
              "[4 rows x 30 columns]"
            ],
            "text/html": [
              "\n",
              "  <div id=\"df-fbb168b6-7d1f-4b9e-a8d9-e12850662776\">\n",
              "    <div class=\"colab-df-container\">\n",
              "      <div>\n",
              "<style scoped>\n",
              "    .dataframe tbody tr th:only-of-type {\n",
              "        vertical-align: middle;\n",
              "    }\n",
              "\n",
              "    .dataframe tbody tr th {\n",
              "        vertical-align: top;\n",
              "    }\n",
              "\n",
              "    .dataframe thead th {\n",
              "        text-align: right;\n",
              "    }\n",
              "</style>\n",
              "<table border=\"1\" class=\"dataframe\">\n",
              "  <thead>\n",
              "    <tr style=\"text-align: right;\">\n",
              "      <th></th>\n",
              "      <th>sequenceNumber</th>\n",
              "      <th>corporateNumber</th>\n",
              "      <th>process</th>\n",
              "      <th>correct</th>\n",
              "      <th>updateDate</th>\n",
              "      <th>changeDate</th>\n",
              "      <th>name</th>\n",
              "      <th>nameImageId</th>\n",
              "      <th>kind</th>\n",
              "      <th>prefectureName</th>\n",
              "      <th>...</th>\n",
              "      <th>successorCorporateNumber</th>\n",
              "      <th>changeCause</th>\n",
              "      <th>assignmentDate</th>\n",
              "      <th>latest</th>\n",
              "      <th>enName</th>\n",
              "      <th>enPrefectureName</th>\n",
              "      <th>enCityName</th>\n",
              "      <th>enAddressOutside</th>\n",
              "      <th>furigana</th>\n",
              "      <th>hihyoji</th>\n",
              "    </tr>\n",
              "  </thead>\n",
              "  <tbody>\n",
              "    <tr>\n",
              "      <th>count</th>\n",
              "      <td>115165</td>\n",
              "      <td>115165</td>\n",
              "      <td>115165</td>\n",
              "      <td>115165</td>\n",
              "      <td>115165</td>\n",
              "      <td>115165</td>\n",
              "      <td>115165</td>\n",
              "      <td>1248</td>\n",
              "      <td>115165</td>\n",
              "      <td>115165</td>\n",
              "      <td>...</td>\n",
              "      <td>690</td>\n",
              "      <td>1148</td>\n",
              "      <td>115165</td>\n",
              "      <td>115165</td>\n",
              "      <td>234</td>\n",
              "      <td>232</td>\n",
              "      <td>232</td>\n",
              "      <td>0</td>\n",
              "      <td>47298</td>\n",
              "      <td>115165</td>\n",
              "    </tr>\n",
              "    <tr>\n",
              "      <th>unique</th>\n",
              "      <td>114388</td>\n",
              "      <td>114758</td>\n",
              "      <td>6</td>\n",
              "      <td>2</td>\n",
              "      <td>1322</td>\n",
              "      <td>1351</td>\n",
              "      <td>105995</td>\n",
              "      <td>1245</td>\n",
              "      <td>9</td>\n",
              "      <td>1</td>\n",
              "      <td>...</td>\n",
              "      <td>581</td>\n",
              "      <td>1066</td>\n",
              "      <td>1334</td>\n",
              "      <td>2</td>\n",
              "      <td>232</td>\n",
              "      <td>1</td>\n",
              "      <td>130</td>\n",
              "      <td>0</td>\n",
              "      <td>41560</td>\n",
              "      <td>2</td>\n",
              "    </tr>\n",
              "    <tr>\n",
              "      <th>top</th>\n",
              "      <td>3032</td>\n",
              "      <td>7080402010509</td>\n",
              "      <td>01</td>\n",
              "      <td>0</td>\n",
              "      <td>2015-11-13</td>\n",
              "      <td>2015-10-05</td>\n",
              "      <td>八幡神社</td>\n",
              "      <td>00067824</td>\n",
              "      <td>301</td>\n",
              "      <td>静岡県</td>\n",
              "      <td>...</td>\n",
              "      <td>8080001004480</td>\n",
              "      <td>平成２９年１２月１日静岡市駿河区富士見台一丁目２１番２２号富士見工業株式会社（8080001...</td>\n",
              "      <td>2015-10-05</td>\n",
              "      <td>1</td>\n",
              "      <td>FSP Co.,Ltd.</td>\n",
              "      <td>Shizuoka</td>\n",
              "      <td>212-2,Tanaka, Kawazu cho</td>\n",
              "      <td>NaN</td>\n",
              "      <td>ハチマングウ</td>\n",
              "      <td>0</td>\n",
              "    </tr>\n",
              "    <tr>\n",
              "      <th>freq</th>\n",
              "      <td>7</td>\n",
              "      <td>5</td>\n",
              "      <td>94448</td>\n",
              "      <td>81026</td>\n",
              "      <td>55849</td>\n",
              "      <td>83337</td>\n",
              "      <td>171</td>\n",
              "      <td>2</td>\n",
              "      <td>51576</td>\n",
              "      <td>115165</td>\n",
              "      <td>...</td>\n",
              "      <td>12</td>\n",
              "      <td>12</td>\n",
              "      <td>101549</td>\n",
              "      <td>115129</td>\n",
              "      <td>2</td>\n",
              "      <td>232</td>\n",
              "      <td>10</td>\n",
              "      <td>NaN</td>\n",
              "      <td>30</td>\n",
              "      <td>114940</td>\n",
              "    </tr>\n",
              "  </tbody>\n",
              "</table>\n",
              "<p>4 rows × 30 columns</p>\n",
              "</div>\n",
              "      <button class=\"colab-df-convert\" onclick=\"convertToInteractive('df-fbb168b6-7d1f-4b9e-a8d9-e12850662776')\"\n",
              "              title=\"Convert this dataframe to an interactive table.\"\n",
              "              style=\"display:none;\">\n",
              "        \n",
              "  <svg xmlns=\"http://www.w3.org/2000/svg\" height=\"24px\"viewBox=\"0 0 24 24\"\n",
              "       width=\"24px\">\n",
              "    <path d=\"M0 0h24v24H0V0z\" fill=\"none\"/>\n",
              "    <path d=\"M18.56 5.44l.94 2.06.94-2.06 2.06-.94-2.06-.94-.94-2.06-.94 2.06-2.06.94zm-11 1L8.5 8.5l.94-2.06 2.06-.94-2.06-.94L8.5 2.5l-.94 2.06-2.06.94zm10 10l.94 2.06.94-2.06 2.06-.94-2.06-.94-.94-2.06-.94 2.06-2.06.94z\"/><path d=\"M17.41 7.96l-1.37-1.37c-.4-.4-.92-.59-1.43-.59-.52 0-1.04.2-1.43.59L10.3 9.45l-7.72 7.72c-.78.78-.78 2.05 0 2.83L4 21.41c.39.39.9.59 1.41.59.51 0 1.02-.2 1.41-.59l7.78-7.78 2.81-2.81c.8-.78.8-2.07 0-2.86zM5.41 20L4 18.59l7.72-7.72 1.47 1.35L5.41 20z\"/>\n",
              "  </svg>\n",
              "      </button>\n",
              "      \n",
              "  <style>\n",
              "    .colab-df-container {\n",
              "      display:flex;\n",
              "      flex-wrap:wrap;\n",
              "      gap: 12px;\n",
              "    }\n",
              "\n",
              "    .colab-df-convert {\n",
              "      background-color: #E8F0FE;\n",
              "      border: none;\n",
              "      border-radius: 50%;\n",
              "      cursor: pointer;\n",
              "      display: none;\n",
              "      fill: #1967D2;\n",
              "      height: 32px;\n",
              "      padding: 0 0 0 0;\n",
              "      width: 32px;\n",
              "    }\n",
              "\n",
              "    .colab-df-convert:hover {\n",
              "      background-color: #E2EBFA;\n",
              "      box-shadow: 0px 1px 2px rgba(60, 64, 67, 0.3), 0px 1px 3px 1px rgba(60, 64, 67, 0.15);\n",
              "      fill: #174EA6;\n",
              "    }\n",
              "\n",
              "    [theme=dark] .colab-df-convert {\n",
              "      background-color: #3B4455;\n",
              "      fill: #D2E3FC;\n",
              "    }\n",
              "\n",
              "    [theme=dark] .colab-df-convert:hover {\n",
              "      background-color: #434B5C;\n",
              "      box-shadow: 0px 1px 3px 1px rgba(0, 0, 0, 0.15);\n",
              "      filter: drop-shadow(0px 1px 2px rgba(0, 0, 0, 0.3));\n",
              "      fill: #FFFFFF;\n",
              "    }\n",
              "  </style>\n",
              "\n",
              "      <script>\n",
              "        const buttonEl =\n",
              "          document.querySelector('#df-fbb168b6-7d1f-4b9e-a8d9-e12850662776 button.colab-df-convert');\n",
              "        buttonEl.style.display =\n",
              "          google.colab.kernel.accessAllowed ? 'block' : 'none';\n",
              "\n",
              "        async function convertToInteractive(key) {\n",
              "          const element = document.querySelector('#df-fbb168b6-7d1f-4b9e-a8d9-e12850662776');\n",
              "          const dataTable =\n",
              "            await google.colab.kernel.invokeFunction('convertToInteractive',\n",
              "                                                     [key], {});\n",
              "          if (!dataTable) return;\n",
              "\n",
              "          const docLinkHtml = 'Like what you see? Visit the ' +\n",
              "            '<a target=\"_blank\" href=https://colab.research.google.com/notebooks/data_table.ipynb>data table notebook</a>'\n",
              "            + ' to learn more about interactive tables.';\n",
              "          element.innerHTML = '';\n",
              "          dataTable['output_type'] = 'display_data';\n",
              "          await google.colab.output.renderOutput(dataTable, element);\n",
              "          const docLink = document.createElement('div');\n",
              "          docLink.innerHTML = docLinkHtml;\n",
              "          element.appendChild(docLink);\n",
              "        }\n",
              "      </script>\n",
              "    </div>\n",
              "  </div>\n",
              "  "
            ]
          },
          "metadata": {},
          "execution_count": 42
        }
      ]
    },
    {
      "cell_type": "code",
      "source": [
        "print(data[data[\"corporateNumber\"].duplicated()])"
      ],
      "metadata": {
        "id": "uXrlRAyByXut",
        "outputId": "050093c5-7140-4a45-93ba-4e532fa2f85d",
        "colab": {
          "base_uri": "https://localhost:8080/"
        }
      },
      "execution_count": 43,
      "outputs": [
        {
          "output_type": "stream",
          "name": "stdout",
          "text": [
            "     sequenceNumber corporateNumber process correct  updateDate  changeDate  \\\n",
            "107             108   1080001015906      01       1  2021-04-01  2015-10-05   \n",
            "108             109   1080001015906      12       1  2021-04-01  2021-03-30   \n",
            "109             110   1080002015434      01       1  2021-04-01  2015-10-05   \n",
            "110             111   1080105005588      12       0  2021-04-01  2021-03-25   \n",
            "111             112   1080401024928      01       0  2021-04-01  2021-04-01   \n",
            "...             ...             ...     ...     ...         ...         ...   \n",
            "3194           3195   9080001021673      01       1  2021-04-09  2017-07-07   \n",
            "3195           3196   9080101022431      01       0  2021-04-09  2021-04-09   \n",
            "3196           3197   9080102008933      01       1  2021-04-09  2015-10-05   \n",
            "3197           3198   9080402002859      21       0  2021-04-09  2021-04-01   \n",
            "3198           3199   9080402015836      12       0  2021-04-09  2021-04-01   \n",
            "\n",
            "                        name nameImageId kind prefectureName  ...  \\\n",
            "107              株式会社エムケイテック         NaN  301            静岡県  ...   \n",
            "108              株式会社エムケイテック         NaN  301            静岡県  ...   \n",
            "109               有限会社ハイナンＤＣ         NaN  302            静岡県  ...   \n",
            "110   認定特定非営利活動法人ＲＥＡＬＥ　ＷＯＲＬＤ         NaN  399            静岡県  ...   \n",
            "111            ＡＧＡＩＮＮＴ’Ｓ株式会社         NaN  301            静岡県  ...   \n",
            "...                      ...         ...  ...            ...  ...   \n",
            "3194                 株式会社ＡＣＴ         NaN  301            静岡県  ...   \n",
            "3195              株式会社ＬＥＳＱＵＡ         NaN  301            静岡県  ...   \n",
            "3196               有限会社サクラ急送         NaN  302            静岡県  ...   \n",
            "3197                  有限会社弘法         NaN  302            静岡県  ...   \n",
            "3198              有限会社エコワークス         NaN  302            静岡県  ...   \n",
            "\n",
            "     successorCorporateNumber  \\\n",
            "107                       NaN   \n",
            "108                       NaN   \n",
            "109                       NaN   \n",
            "110                       NaN   \n",
            "111                       NaN   \n",
            "...                       ...   \n",
            "3194                      NaN   \n",
            "3195                      NaN   \n",
            "3196                      NaN   \n",
            "3197            8080401016019   \n",
            "3198                      NaN   \n",
            "\n",
            "                                            changeCause assignmentDate latest  \\\n",
            "107                                                 NaN     2015-10-05      0   \n",
            "108                                                 NaN     2015-10-05      1   \n",
            "109                                                 NaN     2015-10-05      1   \n",
            "110                                                 NaN     2015-12-11      1   \n",
            "111                                                 NaN     2021-04-01      1   \n",
            "...                                                 ...            ...    ...   \n",
            "3194                                                NaN     2017-07-07      1   \n",
            "3195                                                NaN     2021-04-09      1   \n",
            "3196                                                NaN     2015-10-05      1   \n",
            "3197  令和３年４月１日静岡県磐田市安久路二丁目２番地の２まごころ株式会社（808040101601...     2015-10-05      1   \n",
            "3198                                                NaN     2015-10-05      1   \n",
            "\n",
            "     enName enPrefectureName enCityName enAddressOutside   furigana hihyoji  \n",
            "107     NaN              NaN        NaN              NaN    エムケイテック       0  \n",
            "108     NaN              NaN        NaN              NaN    エムケイテック       0  \n",
            "109     NaN              NaN        NaN              NaN  ハイナンディーシー       0  \n",
            "110     NaN              NaN        NaN              NaN   レアーレワールド       0  \n",
            "111     NaN              NaN        NaN              NaN      アゲインツ       0  \n",
            "...     ...              ...        ...              ...        ...     ...  \n",
            "3194    NaN              NaN        NaN              NaN        アクト       0  \n",
            "3195    NaN              NaN        NaN              NaN        レスカ       0  \n",
            "3196    NaN              NaN        NaN              NaN   サクラキュウソウ       0  \n",
            "3197    NaN              NaN        NaN              NaN       コウボウ       0  \n",
            "3198    NaN              NaN        NaN              NaN     エコワークス       0  \n",
            "\n",
            "[407 rows x 30 columns]\n"
          ]
        }
      ]
    },
    {
      "cell_type": "code",
      "source": [
        ""
      ],
      "metadata": {
        "id": "cVlWEDCFyUzh"
      },
      "execution_count": null,
      "outputs": []
    },
    {
      "cell_type": "code",
      "source": [
        "data.drop_duplicates(subset='corporateNumber', keep='last', inplace=True)"
      ],
      "metadata": {
        "id": "Uj9zleVcxr0N"
      },
      "execution_count": 44,
      "outputs": []
    },
    {
      "cell_type": "code",
      "source": [
        "data.describe()"
      ],
      "metadata": {
        "id": "LkFY6Xa5yxSv",
        "outputId": "8393ffef-c947-4ce1-e8f1-f471aa6eab8f",
        "colab": {
          "base_uri": "https://localhost:8080/",
          "height": 389
        }
      },
      "execution_count": 45,
      "outputs": [
        {
          "output_type": "execute_result",
          "data": {
            "text/plain": [
              "       sequenceNumber corporateNumber process correct  updateDate  changeDate  \\\n",
              "count          114758          114758  114758  114758      114758      114758   \n",
              "unique         114388          114758       6       2        1322        1351   \n",
              "top              3032   1000013040008      01       0  2015-11-13  2015-10-05   \n",
              "freq                4               1   94176   80781       55849       83217   \n",
              "\n",
              "          name nameImageId    kind prefectureName  ...  \\\n",
              "count   114758        1245  114758         114758  ...   \n",
              "unique  105992        1245       9              1  ...   \n",
              "top       八幡神社    00067214     301            静岡県  ...   \n",
              "freq       171           1   51331         114758  ...   \n",
              "\n",
              "       successorCorporateNumber  \\\n",
              "count                       678   \n",
              "unique                      581   \n",
              "top               8080001004480   \n",
              "freq                         12   \n",
              "\n",
              "                                              changeCause assignmentDate  \\\n",
              "count                                                1129         114758   \n",
              "unique                                               1066           1334   \n",
              "top     平成２９年１２月１日静岡市駿河区富士見台一丁目２１番２２号富士見工業株式会社（8080001...     2015-10-05   \n",
              "freq                                                   12         101319   \n",
              "\n",
              "        latest                  enName enPrefectureName  \\\n",
              "count   114758                     233              231   \n",
              "unique       2                     232                1   \n",
              "top          1  Kamiide financial ward         Shizuoka   \n",
              "freq    114757                       2              231   \n",
              "\n",
              "                   enCityName enAddressOutside furigana hihyoji  \n",
              "count                     231                0    46900  114758  \n",
              "unique                    130                0    41559       2  \n",
              "top     2-1-1,oohara, Ito shi              NaN   ハチマングウ       0  \n",
              "freq                       10              NaN       30  114533  \n",
              "\n",
              "[4 rows x 30 columns]"
            ],
            "text/html": [
              "\n",
              "  <div id=\"df-13a15bf9-d4c6-47fd-8735-7393f50f0ba7\">\n",
              "    <div class=\"colab-df-container\">\n",
              "      <div>\n",
              "<style scoped>\n",
              "    .dataframe tbody tr th:only-of-type {\n",
              "        vertical-align: middle;\n",
              "    }\n",
              "\n",
              "    .dataframe tbody tr th {\n",
              "        vertical-align: top;\n",
              "    }\n",
              "\n",
              "    .dataframe thead th {\n",
              "        text-align: right;\n",
              "    }\n",
              "</style>\n",
              "<table border=\"1\" class=\"dataframe\">\n",
              "  <thead>\n",
              "    <tr style=\"text-align: right;\">\n",
              "      <th></th>\n",
              "      <th>sequenceNumber</th>\n",
              "      <th>corporateNumber</th>\n",
              "      <th>process</th>\n",
              "      <th>correct</th>\n",
              "      <th>updateDate</th>\n",
              "      <th>changeDate</th>\n",
              "      <th>name</th>\n",
              "      <th>nameImageId</th>\n",
              "      <th>kind</th>\n",
              "      <th>prefectureName</th>\n",
              "      <th>...</th>\n",
              "      <th>successorCorporateNumber</th>\n",
              "      <th>changeCause</th>\n",
              "      <th>assignmentDate</th>\n",
              "      <th>latest</th>\n",
              "      <th>enName</th>\n",
              "      <th>enPrefectureName</th>\n",
              "      <th>enCityName</th>\n",
              "      <th>enAddressOutside</th>\n",
              "      <th>furigana</th>\n",
              "      <th>hihyoji</th>\n",
              "    </tr>\n",
              "  </thead>\n",
              "  <tbody>\n",
              "    <tr>\n",
              "      <th>count</th>\n",
              "      <td>114758</td>\n",
              "      <td>114758</td>\n",
              "      <td>114758</td>\n",
              "      <td>114758</td>\n",
              "      <td>114758</td>\n",
              "      <td>114758</td>\n",
              "      <td>114758</td>\n",
              "      <td>1245</td>\n",
              "      <td>114758</td>\n",
              "      <td>114758</td>\n",
              "      <td>...</td>\n",
              "      <td>678</td>\n",
              "      <td>1129</td>\n",
              "      <td>114758</td>\n",
              "      <td>114758</td>\n",
              "      <td>233</td>\n",
              "      <td>231</td>\n",
              "      <td>231</td>\n",
              "      <td>0</td>\n",
              "      <td>46900</td>\n",
              "      <td>114758</td>\n",
              "    </tr>\n",
              "    <tr>\n",
              "      <th>unique</th>\n",
              "      <td>114388</td>\n",
              "      <td>114758</td>\n",
              "      <td>6</td>\n",
              "      <td>2</td>\n",
              "      <td>1322</td>\n",
              "      <td>1351</td>\n",
              "      <td>105992</td>\n",
              "      <td>1245</td>\n",
              "      <td>9</td>\n",
              "      <td>1</td>\n",
              "      <td>...</td>\n",
              "      <td>581</td>\n",
              "      <td>1066</td>\n",
              "      <td>1334</td>\n",
              "      <td>2</td>\n",
              "      <td>232</td>\n",
              "      <td>1</td>\n",
              "      <td>130</td>\n",
              "      <td>0</td>\n",
              "      <td>41559</td>\n",
              "      <td>2</td>\n",
              "    </tr>\n",
              "    <tr>\n",
              "      <th>top</th>\n",
              "      <td>3032</td>\n",
              "      <td>1000013040008</td>\n",
              "      <td>01</td>\n",
              "      <td>0</td>\n",
              "      <td>2015-11-13</td>\n",
              "      <td>2015-10-05</td>\n",
              "      <td>八幡神社</td>\n",
              "      <td>00067214</td>\n",
              "      <td>301</td>\n",
              "      <td>静岡県</td>\n",
              "      <td>...</td>\n",
              "      <td>8080001004480</td>\n",
              "      <td>平成２９年１２月１日静岡市駿河区富士見台一丁目２１番２２号富士見工業株式会社（8080001...</td>\n",
              "      <td>2015-10-05</td>\n",
              "      <td>1</td>\n",
              "      <td>Kamiide financial ward</td>\n",
              "      <td>Shizuoka</td>\n",
              "      <td>2-1-1,oohara, Ito shi</td>\n",
              "      <td>NaN</td>\n",
              "      <td>ハチマングウ</td>\n",
              "      <td>0</td>\n",
              "    </tr>\n",
              "    <tr>\n",
              "      <th>freq</th>\n",
              "      <td>4</td>\n",
              "      <td>1</td>\n",
              "      <td>94176</td>\n",
              "      <td>80781</td>\n",
              "      <td>55849</td>\n",
              "      <td>83217</td>\n",
              "      <td>171</td>\n",
              "      <td>1</td>\n",
              "      <td>51331</td>\n",
              "      <td>114758</td>\n",
              "      <td>...</td>\n",
              "      <td>12</td>\n",
              "      <td>12</td>\n",
              "      <td>101319</td>\n",
              "      <td>114757</td>\n",
              "      <td>2</td>\n",
              "      <td>231</td>\n",
              "      <td>10</td>\n",
              "      <td>NaN</td>\n",
              "      <td>30</td>\n",
              "      <td>114533</td>\n",
              "    </tr>\n",
              "  </tbody>\n",
              "</table>\n",
              "<p>4 rows × 30 columns</p>\n",
              "</div>\n",
              "      <button class=\"colab-df-convert\" onclick=\"convertToInteractive('df-13a15bf9-d4c6-47fd-8735-7393f50f0ba7')\"\n",
              "              title=\"Convert this dataframe to an interactive table.\"\n",
              "              style=\"display:none;\">\n",
              "        \n",
              "  <svg xmlns=\"http://www.w3.org/2000/svg\" height=\"24px\"viewBox=\"0 0 24 24\"\n",
              "       width=\"24px\">\n",
              "    <path d=\"M0 0h24v24H0V0z\" fill=\"none\"/>\n",
              "    <path d=\"M18.56 5.44l.94 2.06.94-2.06 2.06-.94-2.06-.94-.94-2.06-.94 2.06-2.06.94zm-11 1L8.5 8.5l.94-2.06 2.06-.94-2.06-.94L8.5 2.5l-.94 2.06-2.06.94zm10 10l.94 2.06.94-2.06 2.06-.94-2.06-.94-.94-2.06-.94 2.06-2.06.94z\"/><path d=\"M17.41 7.96l-1.37-1.37c-.4-.4-.92-.59-1.43-.59-.52 0-1.04.2-1.43.59L10.3 9.45l-7.72 7.72c-.78.78-.78 2.05 0 2.83L4 21.41c.39.39.9.59 1.41.59.51 0 1.02-.2 1.41-.59l7.78-7.78 2.81-2.81c.8-.78.8-2.07 0-2.86zM5.41 20L4 18.59l7.72-7.72 1.47 1.35L5.41 20z\"/>\n",
              "  </svg>\n",
              "      </button>\n",
              "      \n",
              "  <style>\n",
              "    .colab-df-container {\n",
              "      display:flex;\n",
              "      flex-wrap:wrap;\n",
              "      gap: 12px;\n",
              "    }\n",
              "\n",
              "    .colab-df-convert {\n",
              "      background-color: #E8F0FE;\n",
              "      border: none;\n",
              "      border-radius: 50%;\n",
              "      cursor: pointer;\n",
              "      display: none;\n",
              "      fill: #1967D2;\n",
              "      height: 32px;\n",
              "      padding: 0 0 0 0;\n",
              "      width: 32px;\n",
              "    }\n",
              "\n",
              "    .colab-df-convert:hover {\n",
              "      background-color: #E2EBFA;\n",
              "      box-shadow: 0px 1px 2px rgba(60, 64, 67, 0.3), 0px 1px 3px 1px rgba(60, 64, 67, 0.15);\n",
              "      fill: #174EA6;\n",
              "    }\n",
              "\n",
              "    [theme=dark] .colab-df-convert {\n",
              "      background-color: #3B4455;\n",
              "      fill: #D2E3FC;\n",
              "    }\n",
              "\n",
              "    [theme=dark] .colab-df-convert:hover {\n",
              "      background-color: #434B5C;\n",
              "      box-shadow: 0px 1px 3px 1px rgba(0, 0, 0, 0.15);\n",
              "      filter: drop-shadow(0px 1px 2px rgba(0, 0, 0, 0.3));\n",
              "      fill: #FFFFFF;\n",
              "    }\n",
              "  </style>\n",
              "\n",
              "      <script>\n",
              "        const buttonEl =\n",
              "          document.querySelector('#df-13a15bf9-d4c6-47fd-8735-7393f50f0ba7 button.colab-df-convert');\n",
              "        buttonEl.style.display =\n",
              "          google.colab.kernel.accessAllowed ? 'block' : 'none';\n",
              "\n",
              "        async function convertToInteractive(key) {\n",
              "          const element = document.querySelector('#df-13a15bf9-d4c6-47fd-8735-7393f50f0ba7');\n",
              "          const dataTable =\n",
              "            await google.colab.kernel.invokeFunction('convertToInteractive',\n",
              "                                                     [key], {});\n",
              "          if (!dataTable) return;\n",
              "\n",
              "          const docLinkHtml = 'Like what you see? Visit the ' +\n",
              "            '<a target=\"_blank\" href=https://colab.research.google.com/notebooks/data_table.ipynb>data table notebook</a>'\n",
              "            + ' to learn more about interactive tables.';\n",
              "          element.innerHTML = '';\n",
              "          dataTable['output_type'] = 'display_data';\n",
              "          await google.colab.output.renderOutput(dataTable, element);\n",
              "          const docLink = document.createElement('div');\n",
              "          docLink.innerHTML = docLinkHtml;\n",
              "          element.appendChild(docLink);\n",
              "        }\n",
              "      </script>\n",
              "    </div>\n",
              "  </div>\n",
              "  "
            ]
          },
          "metadata": {},
          "execution_count": 45
        }
      ]
    },
    {
      "cell_type": "code",
      "source": [
        "data.isna().sum()"
      ],
      "metadata": {
        "id": "CJ1rkg-uzJJn",
        "outputId": "1ad13c22-e8f1-43af-9702-2fa8983784b6",
        "colab": {
          "base_uri": "https://localhost:8080/"
        }
      },
      "execution_count": 46,
      "outputs": [
        {
          "output_type": "execute_result",
          "data": {
            "text/plain": [
              "sequenceNumber                   0\n",
              "corporateNumber                  0\n",
              "process                          0\n",
              "correct                          0\n",
              "updateDate                       0\n",
              "changeDate                       0\n",
              "name                             0\n",
              "nameImageId                 113513\n",
              "kind                             0\n",
              "prefectureName                   0\n",
              "cityName                         0\n",
              "streetNumber                    17\n",
              "addressImageId              113563\n",
              "prefectureCode                   0\n",
              "cityCode                         0\n",
              "postCode                       173\n",
              "addressOutside              114758\n",
              "addressOutsideImageId       114758\n",
              "closeDate                   104650\n",
              "closeCause                  104650\n",
              "successorCorporateNumber    114080\n",
              "changeCause                 113629\n",
              "assignmentDate                   0\n",
              "latest                           0\n",
              "enName                      114525\n",
              "enPrefectureName            114527\n",
              "enCityName                  114527\n",
              "enAddressOutside            114758\n",
              "furigana                     67858\n",
              "hihyoji                          0\n",
              "dtype: int64"
            ]
          },
          "metadata": {},
          "execution_count": 46
        }
      ]
    },
    {
      "cell_type": "markdown",
      "metadata": {
        "id": "0FrKeZvUrFKn"
      },
      "source": [
        "## ノック２：読み込んだデータを確認しよう"
      ]
    },
    {
      "cell_type": "code",
      "metadata": {
        "id": "dQeuZrhAROgy"
      },
      "source": [
        ""
      ],
      "execution_count": null,
      "outputs": []
    },
    {
      "cell_type": "code",
      "metadata": {
        "id": "QkP4J0i5wuUQ"
      },
      "source": [
        ""
      ],
      "execution_count": null,
      "outputs": []
    },
    {
      "cell_type": "code",
      "metadata": {
        "id": "YjsTahEfUOPh"
      },
      "source": [
        ""
      ],
      "execution_count": null,
      "outputs": []
    },
    {
      "cell_type": "code",
      "metadata": {
        "id": "4cFKuOBExPI_"
      },
      "source": [
        ""
      ],
      "execution_count": null,
      "outputs": []
    },
    {
      "cell_type": "code",
      "metadata": {
        "id": "9Ei4rMoXYsDI"
      },
      "source": [
        ""
      ],
      "execution_count": null,
      "outputs": []
    },
    {
      "cell_type": "code",
      "metadata": {
        "id": "Y06igshtZutV"
      },
      "source": [
        ""
      ],
      "execution_count": null,
      "outputs": []
    },
    {
      "cell_type": "code",
      "metadata": {
        "id": "B5RI6J3OZNR9"
      },
      "source": [
        ""
      ],
      "execution_count": null,
      "outputs": []
    },
    {
      "cell_type": "markdown",
      "metadata": {
        "id": "M4by1Jywr4G2"
      },
      "source": [
        "## ノック３：ヘッダ用のテキストファイルを読み込もう"
      ]
    },
    {
      "cell_type": "code",
      "metadata": {
        "id": "7ogDQr2Kya4I"
      },
      "source": [
        ""
      ],
      "execution_count": null,
      "outputs": []
    },
    {
      "cell_type": "code",
      "metadata": {
        "id": "gG1lNXn-ya65"
      },
      "source": [
        ""
      ],
      "execution_count": null,
      "outputs": []
    },
    {
      "cell_type": "code",
      "metadata": {
        "id": "Z5be3u4kz5iH"
      },
      "source": [
        ""
      ],
      "execution_count": null,
      "outputs": []
    },
    {
      "cell_type": "code",
      "metadata": {
        "id": "l00v3lF_PM8k"
      },
      "source": [
        ""
      ],
      "execution_count": null,
      "outputs": []
    },
    {
      "cell_type": "markdown",
      "metadata": {
        "id": "XueV-vtPwMY7"
      },
      "source": [
        "## ノック４：ヘッダ行を追加しよう"
      ]
    },
    {
      "cell_type": "code",
      "metadata": {
        "id": "yl6UHFMX0Gvq"
      },
      "source": [
        ""
      ],
      "execution_count": null,
      "outputs": []
    },
    {
      "cell_type": "code",
      "metadata": {
        "id": "IdQIr8vOG-14"
      },
      "source": [
        ""
      ],
      "execution_count": null,
      "outputs": []
    },
    {
      "cell_type": "code",
      "metadata": {
        "id": "CKedAXnp0Jop"
      },
      "source": [
        ""
      ],
      "execution_count": null,
      "outputs": []
    },
    {
      "cell_type": "markdown",
      "metadata": {
        "id": "nrlLRoaExgGP"
      },
      "source": [
        "## ノック５：統計量や欠損値を確認しよう"
      ]
    },
    {
      "cell_type": "code",
      "metadata": {
        "id": "zVoqN0NSxw2S"
      },
      "source": [
        ""
      ],
      "execution_count": null,
      "outputs": []
    },
    {
      "cell_type": "code",
      "metadata": {
        "id": "UPF1Inj8X3j5"
      },
      "source": [
        ""
      ],
      "execution_count": null,
      "outputs": []
    },
    {
      "cell_type": "code",
      "metadata": {
        "id": "BWJGrOBJxz1F"
      },
      "source": [
        ""
      ],
      "execution_count": null,
      "outputs": []
    },
    {
      "cell_type": "markdown",
      "metadata": {
        "id": "1Z8rwT646g7X"
      },
      "source": [
        "## ノック６：データの追加（繰り返し・読込・抽出・結合）"
      ]
    },
    {
      "cell_type": "code",
      "metadata": {
        "id": "_6ESyddb0lha"
      },
      "source": [
        ""
      ],
      "execution_count": null,
      "outputs": []
    },
    {
      "cell_type": "code",
      "metadata": {
        "id": "lN3unz0ZNh4x"
      },
      "source": [
        ""
      ],
      "execution_count": null,
      "outputs": []
    },
    {
      "cell_type": "code",
      "metadata": {
        "id": "oyzaHgbP0lxI"
      },
      "source": [
        ""
      ],
      "execution_count": null,
      "outputs": []
    },
    {
      "cell_type": "code",
      "metadata": {
        "id": "9l-ZzTWnaHLR"
      },
      "source": [
        ""
      ],
      "execution_count": null,
      "outputs": []
    },
    {
      "cell_type": "code",
      "metadata": {
        "id": "QmO-WGYfatBA"
      },
      "source": [
        ""
      ],
      "execution_count": null,
      "outputs": []
    },
    {
      "cell_type": "code",
      "metadata": {
        "id": "jews9WyY2pU6"
      },
      "source": [
        ""
      ],
      "execution_count": null,
      "outputs": []
    },
    {
      "cell_type": "code",
      "metadata": {
        "id": "1wsUlE5wPpfY"
      },
      "source": [
        ""
      ],
      "execution_count": null,
      "outputs": []
    },
    {
      "cell_type": "code",
      "metadata": {
        "id": "4Yxyb8yYOVN5"
      },
      "source": [
        ""
      ],
      "execution_count": null,
      "outputs": []
    },
    {
      "cell_type": "code",
      "metadata": {
        "id": "UyaZcj3WY59P"
      },
      "source": [
        ""
      ],
      "execution_count": null,
      "outputs": []
    },
    {
      "cell_type": "code",
      "metadata": {
        "id": "FB0jcpNbh7L7"
      },
      "source": [
        ""
      ],
      "execution_count": null,
      "outputs": []
    },
    {
      "cell_type": "code",
      "metadata": {
        "id": "NR6s7J-lPr4L"
      },
      "source": [
        ""
      ],
      "execution_count": null,
      "outputs": []
    },
    {
      "cell_type": "markdown",
      "metadata": {
        "id": "EmMEqFfNwdYB"
      },
      "source": [
        "## ノック７：マスタを読み込んで項目を横に繋げよう"
      ]
    },
    {
      "cell_type": "code",
      "metadata": {
        "id": "D8lyUCQ6QtY-"
      },
      "source": [
        ""
      ],
      "execution_count": null,
      "outputs": []
    },
    {
      "cell_type": "code",
      "metadata": {
        "id": "x77F4mLe7i2e"
      },
      "source": [
        ""
      ],
      "execution_count": null,
      "outputs": []
    },
    {
      "cell_type": "code",
      "metadata": {
        "id": "WxiLuvtM7jB5"
      },
      "source": [
        ""
      ],
      "execution_count": null,
      "outputs": []
    },
    {
      "cell_type": "code",
      "metadata": {
        "id": "PpAJDJwc7sBy"
      },
      "source": [
        ""
      ],
      "execution_count": null,
      "outputs": []
    },
    {
      "cell_type": "code",
      "metadata": {
        "id": "ETz0LwEkiLaN"
      },
      "source": [
        ""
      ],
      "execution_count": null,
      "outputs": []
    },
    {
      "cell_type": "code",
      "metadata": {
        "id": "pb30UGboVvLj"
      },
      "source": [
        ""
      ],
      "execution_count": null,
      "outputs": []
    },
    {
      "cell_type": "code",
      "metadata": {
        "id": "CjgQzboxiLWz"
      },
      "source": [
        ""
      ],
      "execution_count": null,
      "outputs": []
    },
    {
      "cell_type": "code",
      "metadata": {
        "id": "HqfXFSaoWGTx"
      },
      "source": [
        ""
      ],
      "execution_count": null,
      "outputs": []
    },
    {
      "cell_type": "code",
      "metadata": {
        "id": "6CJqDq2iQtf2"
      },
      "source": [
        ""
      ],
      "execution_count": null,
      "outputs": []
    },
    {
      "cell_type": "code",
      "metadata": {
        "id": "gQC3_PosiLTD"
      },
      "source": [
        ""
      ],
      "execution_count": null,
      "outputs": []
    },
    {
      "cell_type": "code",
      "metadata": {
        "id": "5fqJ4wDIi6Oe"
      },
      "source": [
        ""
      ],
      "execution_count": null,
      "outputs": []
    },
    {
      "cell_type": "code",
      "metadata": {
        "id": "dmW_80f__Uqa"
      },
      "source": [
        ""
      ],
      "execution_count": null,
      "outputs": []
    },
    {
      "cell_type": "code",
      "metadata": {
        "id": "rqEjlChui6L6"
      },
      "source": [
        ""
      ],
      "execution_count": null,
      "outputs": []
    },
    {
      "cell_type": "code",
      "metadata": {
        "id": "KzDF_WOH-3iH"
      },
      "source": [
        ""
      ],
      "execution_count": null,
      "outputs": []
    },
    {
      "cell_type": "markdown",
      "metadata": {
        "id": "9K0jraNW615H"
      },
      "source": [
        "## ノック８：テキストの連結や分割をしよう"
      ]
    },
    {
      "cell_type": "code",
      "metadata": {
        "id": "tAY0PgnG7Two"
      },
      "source": [
        ""
      ],
      "execution_count": null,
      "outputs": []
    },
    {
      "cell_type": "code",
      "metadata": {
        "id": "L5X2wDCPws7j"
      },
      "source": [
        ""
      ],
      "execution_count": null,
      "outputs": []
    },
    {
      "cell_type": "code",
      "metadata": {
        "id": "ExieiuWXxrAX"
      },
      "source": [
        ""
      ],
      "execution_count": null,
      "outputs": []
    },
    {
      "cell_type": "code",
      "metadata": {
        "id": "Rssx-kkDxrEl"
      },
      "source": [
        ""
      ],
      "execution_count": null,
      "outputs": []
    },
    {
      "cell_type": "code",
      "metadata": {
        "id": "V9JeCiW0yaKx"
      },
      "source": [
        ""
      ],
      "execution_count": null,
      "outputs": []
    },
    {
      "cell_type": "code",
      "metadata": {
        "id": "czPeOvRpC0q-"
      },
      "source": [
        ""
      ],
      "execution_count": null,
      "outputs": []
    },
    {
      "cell_type": "code",
      "metadata": {
        "id": "KbYfrW_vJ3fi"
      },
      "source": [
        ""
      ],
      "execution_count": null,
      "outputs": []
    },
    {
      "cell_type": "code",
      "metadata": {
        "id": "B5Hn_XxOJ3ph"
      },
      "source": [
        ""
      ],
      "execution_count": null,
      "outputs": []
    },
    {
      "cell_type": "markdown",
      "metadata": {
        "id": "T6n7m5TJ7AkB"
      },
      "source": [
        "## ノック９：日付を加工しよう"
      ]
    },
    {
      "cell_type": "code",
      "metadata": {
        "id": "Hh4voaK5EWIy"
      },
      "source": [
        ""
      ],
      "execution_count": null,
      "outputs": []
    },
    {
      "cell_type": "code",
      "metadata": {
        "id": "pp4IM35pEWNx"
      },
      "source": [
        ""
      ],
      "execution_count": null,
      "outputs": []
    },
    {
      "cell_type": "code",
      "metadata": {
        "id": "PYcrAHBXEWXy"
      },
      "source": [
        ""
      ],
      "execution_count": null,
      "outputs": []
    },
    {
      "cell_type": "code",
      "metadata": {
        "id": "SQ5WXWwLKe6G"
      },
      "source": [
        ""
      ],
      "execution_count": null,
      "outputs": []
    },
    {
      "cell_type": "code",
      "metadata": {
        "id": "DrSSIdr-EWer"
      },
      "source": [
        ""
      ],
      "execution_count": null,
      "outputs": []
    },
    {
      "cell_type": "code",
      "metadata": {
        "id": "NmkV16LBKHYz"
      },
      "source": [
        ""
      ],
      "execution_count": null,
      "outputs": []
    },
    {
      "cell_type": "code",
      "metadata": {
        "id": "HYCFhKdNxE0o"
      },
      "source": [
        ""
      ],
      "execution_count": null,
      "outputs": []
    },
    {
      "cell_type": "code",
      "metadata": {
        "id": "pxB5wykkKHdL"
      },
      "source": [
        ""
      ],
      "execution_count": null,
      "outputs": []
    },
    {
      "cell_type": "code",
      "metadata": {
        "id": "HkpTWI6VLKzs"
      },
      "source": [
        ""
      ],
      "execution_count": null,
      "outputs": []
    },
    {
      "cell_type": "code",
      "metadata": {
        "id": "NhtPdrAmLqf6"
      },
      "source": [
        ""
      ],
      "execution_count": null,
      "outputs": []
    },
    {
      "cell_type": "code",
      "metadata": {
        "id": "_-nKto7YL7Bm"
      },
      "source": [
        ""
      ],
      "execution_count": null,
      "outputs": []
    },
    {
      "cell_type": "markdown",
      "metadata": {
        "id": "XMwFLVzu-CZC"
      },
      "source": [
        "## ノック１０：年度を設定しよう"
      ]
    },
    {
      "cell_type": "code",
      "metadata": {
        "id": "8Qm0lSGh-eXC"
      },
      "source": [
        ""
      ],
      "execution_count": null,
      "outputs": []
    },
    {
      "cell_type": "code",
      "metadata": {
        "id": "yd-2BV8CbXqf"
      },
      "source": [
        ""
      ],
      "execution_count": null,
      "outputs": []
    },
    {
      "cell_type": "code",
      "metadata": {
        "id": "DNZpbuhvX2QD"
      },
      "source": [
        ""
      ],
      "execution_count": null,
      "outputs": []
    },
    {
      "cell_type": "markdown",
      "metadata": {
        "id": "QPEBK5A47IFZ"
      },
      "source": [
        "## ノック１１：加工したデータをファイルに出力しよう"
      ]
    },
    {
      "cell_type": "code",
      "metadata": {
        "id": "DmJe35nRzIYT"
      },
      "source": [
        ""
      ],
      "execution_count": null,
      "outputs": []
    },
    {
      "cell_type": "code",
      "metadata": {
        "id": "oFrIz626NtRx"
      },
      "source": [
        ""
      ],
      "execution_count": null,
      "outputs": []
    },
    {
      "cell_type": "code",
      "metadata": {
        "id": "4jBHTfcRNtWK"
      },
      "source": [
        ""
      ],
      "execution_count": null,
      "outputs": []
    },
    {
      "cell_type": "markdown",
      "metadata": {
        "id": "3adikQ_m65BI"
      },
      "source": [
        "## ノック１２：不要な項目の削除と並べ替えをしよう"
      ]
    },
    {
      "cell_type": "code",
      "metadata": {
        "id": "d8kal8_4w0vQ"
      },
      "source": [
        ""
      ],
      "execution_count": null,
      "outputs": []
    },
    {
      "cell_type": "code",
      "metadata": {
        "id": "WIHn2hG4w0yw"
      },
      "source": [
        ""
      ],
      "execution_count": null,
      "outputs": []
    },
    {
      "cell_type": "code",
      "metadata": {
        "id": "v1sp97Bow041"
      },
      "source": [
        ""
      ],
      "execution_count": null,
      "outputs": []
    },
    {
      "cell_type": "code",
      "metadata": {
        "id": "aXfxDIbJPYcS"
      },
      "source": [
        ""
      ],
      "execution_count": null,
      "outputs": []
    },
    {
      "cell_type": "markdown",
      "metadata": {
        "id": "m87Vuvjb69bU"
      },
      "source": [
        "## ノック１３：まとまった単位で集計しよう"
      ]
    },
    {
      "cell_type": "code",
      "metadata": {
        "id": "3yC1LA6Gosp0"
      },
      "source": [
        ""
      ],
      "execution_count": null,
      "outputs": []
    },
    {
      "cell_type": "code",
      "metadata": {
        "id": "LebTq01-hwjW"
      },
      "source": [
        ""
      ],
      "execution_count": null,
      "outputs": []
    },
    {
      "cell_type": "code",
      "metadata": {
        "id": "SB7cpmJflhPW"
      },
      "source": [
        ""
      ],
      "execution_count": null,
      "outputs": []
    },
    {
      "cell_type": "code",
      "metadata": {
        "id": "Zk1k3xaQjyX7"
      },
      "source": [
        ""
      ],
      "execution_count": null,
      "outputs": []
    },
    {
      "cell_type": "code",
      "metadata": {
        "id": "Uc_fFgydqhNj"
      },
      "source": [
        ""
      ],
      "execution_count": null,
      "outputs": []
    },
    {
      "cell_type": "markdown",
      "metadata": {
        "id": "ChDnISx2McsC"
      },
      "source": [
        "## ノック１４：市区町村別の法人数を可視化しよう"
      ]
    },
    {
      "cell_type": "code",
      "metadata": {
        "id": "ltr0lIZ7YnVF"
      },
      "source": [
        ""
      ],
      "execution_count": null,
      "outputs": []
    },
    {
      "cell_type": "code",
      "metadata": {
        "id": "EIF1Jx8nHlzu"
      },
      "source": [
        ""
      ],
      "execution_count": null,
      "outputs": []
    },
    {
      "cell_type": "code",
      "metadata": {
        "id": "otM88RmMYU1t"
      },
      "source": [
        ""
      ],
      "execution_count": null,
      "outputs": []
    },
    {
      "cell_type": "code",
      "metadata": {
        "id": "JLjaeA5SBYzu"
      },
      "source": [
        ""
      ],
      "execution_count": null,
      "outputs": []
    },
    {
      "cell_type": "markdown",
      "metadata": {
        "id": "xZUzoupPKyHu"
      },
      "source": [
        "## ノック１５：グラフの縦横と表示順を変えてみよう"
      ]
    },
    {
      "cell_type": "code",
      "metadata": {
        "id": "56cZ_GCFLeC-"
      },
      "source": [
        ""
      ],
      "execution_count": null,
      "outputs": []
    },
    {
      "cell_type": "code",
      "metadata": {
        "id": "1Roi13s5U6Tv"
      },
      "source": [
        ""
      ],
      "execution_count": null,
      "outputs": []
    },
    {
      "cell_type": "markdown",
      "metadata": {
        "id": "3rjir-OYMuSC"
      },
      "source": [
        "## ノック１６：グラフのタイトルとラベルを設定しよう"
      ]
    },
    {
      "cell_type": "code",
      "metadata": {
        "id": "3Sn0LaQjXs36"
      },
      "source": [
        ""
      ],
      "execution_count": null,
      "outputs": []
    },
    {
      "cell_type": "code",
      "metadata": {
        "id": "SCFxrkPIJ89L"
      },
      "source": [
        ""
      ],
      "execution_count": null,
      "outputs": []
    },
    {
      "cell_type": "markdown",
      "metadata": {
        "id": "ZVbB0ORNMuce"
      },
      "source": [
        "## ノック１７：グラフの見た目をもっと変えてみよう"
      ]
    },
    {
      "cell_type": "code",
      "metadata": {
        "id": "Imo1pjuQcDMT"
      },
      "source": [
        ""
      ],
      "execution_count": null,
      "outputs": []
    },
    {
      "cell_type": "markdown",
      "metadata": {
        "id": "MPSnLkD0Mkly"
      },
      "source": [
        "## ノック１８：９０日以内に新規登録された法人数を可視化してみよう"
      ]
    },
    {
      "cell_type": "code",
      "metadata": {
        "id": "Gm9PR3GwM4F8"
      },
      "source": [
        ""
      ],
      "execution_count": null,
      "outputs": []
    },
    {
      "cell_type": "code",
      "metadata": {
        "id": "79WyMnMEVTK4"
      },
      "source": [
        ""
      ],
      "execution_count": null,
      "outputs": []
    },
    {
      "cell_type": "code",
      "metadata": {
        "id": "aHPDh73iNATi"
      },
      "source": [
        ""
      ],
      "execution_count": null,
      "outputs": []
    },
    {
      "cell_type": "code",
      "metadata": {
        "id": "pWDrnaBIqck0"
      },
      "source": [
        ""
      ],
      "execution_count": null,
      "outputs": []
    },
    {
      "cell_type": "code",
      "metadata": {
        "id": "FV_zIHl0EGQb"
      },
      "source": [
        ""
      ],
      "execution_count": null,
      "outputs": []
    },
    {
      "cell_type": "code",
      "metadata": {
        "id": "oIIvA-vHEGTO"
      },
      "source": [
        ""
      ],
      "execution_count": null,
      "outputs": []
    },
    {
      "cell_type": "code",
      "metadata": {
        "id": "fZZlKIRpEGV7"
      },
      "source": [
        ""
      ],
      "execution_count": null,
      "outputs": []
    },
    {
      "cell_type": "markdown",
      "metadata": {
        "id": "MitoEhNPM5s1"
      },
      "source": [
        "## ノック１９：年度別の推移を可視化しよう"
      ]
    },
    {
      "cell_type": "code",
      "metadata": {
        "id": "NBcoQ9bnLaWW"
      },
      "source": [
        ""
      ],
      "execution_count": null,
      "outputs": []
    },
    {
      "cell_type": "code",
      "metadata": {
        "id": "YrytswQ5xVhc"
      },
      "source": [
        ""
      ],
      "execution_count": null,
      "outputs": []
    },
    {
      "cell_type": "code",
      "metadata": {
        "id": "LTNolgJoGN3q"
      },
      "source": [
        ""
      ],
      "execution_count": null,
      "outputs": []
    },
    {
      "cell_type": "code",
      "metadata": {
        "id": "NMh07RKdxUWQ"
      },
      "source": [
        ""
      ],
      "execution_count": null,
      "outputs": []
    },
    {
      "cell_type": "markdown",
      "metadata": {
        "id": "20F9WmchGlfL"
      },
      "source": [
        "## ノック２０：データとグラフを出力しよう"
      ]
    },
    {
      "cell_type": "code",
      "metadata": {
        "id": "RKR4X1so6XQW"
      },
      "source": [
        ""
      ],
      "execution_count": null,
      "outputs": []
    },
    {
      "cell_type": "code",
      "metadata": {
        "id": "LXQIkSZY2Zys"
      },
      "source": [
        ""
      ],
      "execution_count": null,
      "outputs": []
    }
  ]
}