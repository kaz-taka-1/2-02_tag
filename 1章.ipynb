{
  "nbformat": 4,
  "nbformat_minor": 0,
  "metadata": {
    "kernelspec": {
      "display_name": "Python 3",
      "language": "python",
      "name": "python3"
    },
    "language_info": {
      "codemirror_mode": {
        "name": "ipython",
        "version": 3
      },
      "file_extension": ".py",
      "mimetype": "text/x-python",
      "name": "python",
      "nbconvert_exporter": "python",
      "pygments_lexer": "ipython3",
      "version": "3.6.9"
    },
    "colab": {
      "name": "1章.ipynb",
      "provenance": [],
      "collapsed_sections": [],
      "include_colab_link": true
    }
  },
  "cells": [
    {
      "cell_type": "markdown",
      "metadata": {
        "id": "view-in-github",
        "colab_type": "text"
      },
      "source": [
        "<a href=\"https://colab.research.google.com/github/kaz-taka-1/2-02_tag/blob/main/1%E7%AB%A0.ipynb\" target=\"_parent\"><img src=\"https://colab.research.google.com/assets/colab-badge.svg\" alt=\"Open In Colab\"/></a>"
      ]
    },
    {
      "cell_type": "code",
      "metadata": {
        "id": "HB3mviwv25Jc",
        "colab": {
          "base_uri": "https://localhost:8080/"
        },
        "outputId": "b1cf4a25-d318-4360-e2df-3ff20244ab2f"
      },
      "source": [
        "# 下記セルを実行すると、authorization codeの入力を求められます。\n",
        "# 出力されたリンク先をクリックし、Googleアカウントにログインし、\n",
        "# authorization codeをコピーし、貼り付けをおこなってください。\n",
        "from google.colab import drive\n",
        "drive.mount('/content/drive')"
      ],
      "execution_count": 1,
      "outputs": [
        {
          "output_type": "stream",
          "name": "stdout",
          "text": [
            "Mounted at /content/drive\n"
          ]
        }
      ]
    },
    {
      "cell_type": "code",
      "metadata": {
        "id": "HcOU_u4l25Jd"
      },
      "source": [
        "import os \n",
        "project = '100knock-process-visualization'\n",
        "chapter = 2\n",
        "os.chdir(f'/content/drive/MyDrive/{project}/chapter-{chapter}/')"
      ],
      "execution_count": 2,
      "outputs": []
    },
    {
      "cell_type": "markdown",
      "metadata": {
        "id": "pCbOP-x725Jd"
      },
      "source": [
        "# １章 システムデータの加工・可視化を行う２０本ノック"
      ]
    },
    {
      "cell_type": "markdown",
      "metadata": {
        "id": "OrJw1o3ZAf2z"
      },
      "source": [
        "## ノック１：法人情報データを読み込んでみよう"
      ]
    },
    {
      "cell_type": "code",
      "metadata": {
        "id": "Kxb1fvmCv_4a"
      },
      "source": [
        "import pandas as pd"
      ],
      "execution_count": 3,
      "outputs": []
    },
    {
      "cell_type": "code",
      "metadata": {
        "id": "Vn9gtsmwv_9u",
        "colab": {
          "base_uri": "https://localhost:8080/",
          "height": 321
        },
        "outputId": "8d8cd066-ea54-496b-a908-f6e19f4312dd"
      },
      "source": [
        "data = pd.read_csv('data/22_shizuoka_all_20210331.csv',encoding='shift-jis',header=None)"
      ],
      "execution_count": 4,
      "outputs": [
        {
          "output_type": "error",
          "ename": "FileNotFoundError",
          "evalue": "ignored",
          "traceback": [
            "\u001b[0;31m---------------------------------------------------------------------------\u001b[0m",
            "\u001b[0;31mFileNotFoundError\u001b[0m                         Traceback (most recent call last)",
            "\u001b[0;32m<ipython-input-4-bff7a5020269>\u001b[0m in \u001b[0;36m<module>\u001b[0;34m()\u001b[0m\n\u001b[0;32m----> 1\u001b[0;31m \u001b[0mdata\u001b[0m \u001b[0;34m=\u001b[0m \u001b[0mpd\u001b[0m\u001b[0;34m.\u001b[0m\u001b[0mread_csv\u001b[0m\u001b[0;34m(\u001b[0m\u001b[0;34m'data/22_shizuoka_all_20210331.csv'\u001b[0m\u001b[0;34m,\u001b[0m\u001b[0mencoding\u001b[0m\u001b[0;34m=\u001b[0m\u001b[0;34m'shift-jis'\u001b[0m\u001b[0;34m,\u001b[0m\u001b[0mheader\u001b[0m\u001b[0;34m=\u001b[0m\u001b[0;32mNone\u001b[0m\u001b[0;34m)\u001b[0m\u001b[0;34m\u001b[0m\u001b[0;34m\u001b[0m\u001b[0m\n\u001b[0m",
            "\u001b[0;32m/usr/local/lib/python3.7/dist-packages/pandas/util/_decorators.py\u001b[0m in \u001b[0;36mwrapper\u001b[0;34m(*args, **kwargs)\u001b[0m\n\u001b[1;32m    309\u001b[0m                     \u001b[0mstacklevel\u001b[0m\u001b[0;34m=\u001b[0m\u001b[0mstacklevel\u001b[0m\u001b[0;34m,\u001b[0m\u001b[0;34m\u001b[0m\u001b[0;34m\u001b[0m\u001b[0m\n\u001b[1;32m    310\u001b[0m                 )\n\u001b[0;32m--> 311\u001b[0;31m             \u001b[0;32mreturn\u001b[0m \u001b[0mfunc\u001b[0m\u001b[0;34m(\u001b[0m\u001b[0;34m*\u001b[0m\u001b[0margs\u001b[0m\u001b[0;34m,\u001b[0m \u001b[0;34m**\u001b[0m\u001b[0mkwargs\u001b[0m\u001b[0;34m)\u001b[0m\u001b[0;34m\u001b[0m\u001b[0;34m\u001b[0m\u001b[0m\n\u001b[0m\u001b[1;32m    312\u001b[0m \u001b[0;34m\u001b[0m\u001b[0m\n\u001b[1;32m    313\u001b[0m         \u001b[0;32mreturn\u001b[0m \u001b[0mwrapper\u001b[0m\u001b[0;34m\u001b[0m\u001b[0;34m\u001b[0m\u001b[0m\n",
            "\u001b[0;32m/usr/local/lib/python3.7/dist-packages/pandas/io/parsers/readers.py\u001b[0m in \u001b[0;36mread_csv\u001b[0;34m(filepath_or_buffer, sep, delimiter, header, names, index_col, usecols, squeeze, prefix, mangle_dupe_cols, dtype, engine, converters, true_values, false_values, skipinitialspace, skiprows, skipfooter, nrows, na_values, keep_default_na, na_filter, verbose, skip_blank_lines, parse_dates, infer_datetime_format, keep_date_col, date_parser, dayfirst, cache_dates, iterator, chunksize, compression, thousands, decimal, lineterminator, quotechar, quoting, doublequote, escapechar, comment, encoding, encoding_errors, dialect, error_bad_lines, warn_bad_lines, on_bad_lines, delim_whitespace, low_memory, memory_map, float_precision, storage_options)\u001b[0m\n\u001b[1;32m    584\u001b[0m     \u001b[0mkwds\u001b[0m\u001b[0;34m.\u001b[0m\u001b[0mupdate\u001b[0m\u001b[0;34m(\u001b[0m\u001b[0mkwds_defaults\u001b[0m\u001b[0;34m)\u001b[0m\u001b[0;34m\u001b[0m\u001b[0;34m\u001b[0m\u001b[0m\n\u001b[1;32m    585\u001b[0m \u001b[0;34m\u001b[0m\u001b[0m\n\u001b[0;32m--> 586\u001b[0;31m     \u001b[0;32mreturn\u001b[0m \u001b[0m_read\u001b[0m\u001b[0;34m(\u001b[0m\u001b[0mfilepath_or_buffer\u001b[0m\u001b[0;34m,\u001b[0m \u001b[0mkwds\u001b[0m\u001b[0;34m)\u001b[0m\u001b[0;34m\u001b[0m\u001b[0;34m\u001b[0m\u001b[0m\n\u001b[0m\u001b[1;32m    587\u001b[0m \u001b[0;34m\u001b[0m\u001b[0m\n\u001b[1;32m    588\u001b[0m \u001b[0;34m\u001b[0m\u001b[0m\n",
            "\u001b[0;32m/usr/local/lib/python3.7/dist-packages/pandas/io/parsers/readers.py\u001b[0m in \u001b[0;36m_read\u001b[0;34m(filepath_or_buffer, kwds)\u001b[0m\n\u001b[1;32m    480\u001b[0m \u001b[0;34m\u001b[0m\u001b[0m\n\u001b[1;32m    481\u001b[0m     \u001b[0;31m# Create the parser.\u001b[0m\u001b[0;34m\u001b[0m\u001b[0;34m\u001b[0m\u001b[0;34m\u001b[0m\u001b[0m\n\u001b[0;32m--> 482\u001b[0;31m     \u001b[0mparser\u001b[0m \u001b[0;34m=\u001b[0m \u001b[0mTextFileReader\u001b[0m\u001b[0;34m(\u001b[0m\u001b[0mfilepath_or_buffer\u001b[0m\u001b[0;34m,\u001b[0m \u001b[0;34m**\u001b[0m\u001b[0mkwds\u001b[0m\u001b[0;34m)\u001b[0m\u001b[0;34m\u001b[0m\u001b[0;34m\u001b[0m\u001b[0m\n\u001b[0m\u001b[1;32m    483\u001b[0m \u001b[0;34m\u001b[0m\u001b[0m\n\u001b[1;32m    484\u001b[0m     \u001b[0;32mif\u001b[0m \u001b[0mchunksize\u001b[0m \u001b[0;32mor\u001b[0m \u001b[0miterator\u001b[0m\u001b[0;34m:\u001b[0m\u001b[0;34m\u001b[0m\u001b[0;34m\u001b[0m\u001b[0m\n",
            "\u001b[0;32m/usr/local/lib/python3.7/dist-packages/pandas/io/parsers/readers.py\u001b[0m in \u001b[0;36m__init__\u001b[0;34m(self, f, engine, **kwds)\u001b[0m\n\u001b[1;32m    809\u001b[0m             \u001b[0mself\u001b[0m\u001b[0;34m.\u001b[0m\u001b[0moptions\u001b[0m\u001b[0;34m[\u001b[0m\u001b[0;34m\"has_index_names\"\u001b[0m\u001b[0;34m]\u001b[0m \u001b[0;34m=\u001b[0m \u001b[0mkwds\u001b[0m\u001b[0;34m[\u001b[0m\u001b[0;34m\"has_index_names\"\u001b[0m\u001b[0;34m]\u001b[0m\u001b[0;34m\u001b[0m\u001b[0;34m\u001b[0m\u001b[0m\n\u001b[1;32m    810\u001b[0m \u001b[0;34m\u001b[0m\u001b[0m\n\u001b[0;32m--> 811\u001b[0;31m         \u001b[0mself\u001b[0m\u001b[0;34m.\u001b[0m\u001b[0m_engine\u001b[0m \u001b[0;34m=\u001b[0m \u001b[0mself\u001b[0m\u001b[0;34m.\u001b[0m\u001b[0m_make_engine\u001b[0m\u001b[0;34m(\u001b[0m\u001b[0mself\u001b[0m\u001b[0;34m.\u001b[0m\u001b[0mengine\u001b[0m\u001b[0;34m)\u001b[0m\u001b[0;34m\u001b[0m\u001b[0;34m\u001b[0m\u001b[0m\n\u001b[0m\u001b[1;32m    812\u001b[0m \u001b[0;34m\u001b[0m\u001b[0m\n\u001b[1;32m    813\u001b[0m     \u001b[0;32mdef\u001b[0m \u001b[0mclose\u001b[0m\u001b[0;34m(\u001b[0m\u001b[0mself\u001b[0m\u001b[0;34m)\u001b[0m\u001b[0;34m:\u001b[0m\u001b[0;34m\u001b[0m\u001b[0;34m\u001b[0m\u001b[0m\n",
            "\u001b[0;32m/usr/local/lib/python3.7/dist-packages/pandas/io/parsers/readers.py\u001b[0m in \u001b[0;36m_make_engine\u001b[0;34m(self, engine)\u001b[0m\n\u001b[1;32m   1038\u001b[0m             )\n\u001b[1;32m   1039\u001b[0m         \u001b[0;31m# error: Too many arguments for \"ParserBase\"\u001b[0m\u001b[0;34m\u001b[0m\u001b[0;34m\u001b[0m\u001b[0;34m\u001b[0m\u001b[0m\n\u001b[0;32m-> 1040\u001b[0;31m         \u001b[0;32mreturn\u001b[0m \u001b[0mmapping\u001b[0m\u001b[0;34m[\u001b[0m\u001b[0mengine\u001b[0m\u001b[0;34m]\u001b[0m\u001b[0;34m(\u001b[0m\u001b[0mself\u001b[0m\u001b[0;34m.\u001b[0m\u001b[0mf\u001b[0m\u001b[0;34m,\u001b[0m \u001b[0;34m**\u001b[0m\u001b[0mself\u001b[0m\u001b[0;34m.\u001b[0m\u001b[0moptions\u001b[0m\u001b[0;34m)\u001b[0m  \u001b[0;31m# type: ignore[call-arg]\u001b[0m\u001b[0;34m\u001b[0m\u001b[0;34m\u001b[0m\u001b[0m\n\u001b[0m\u001b[1;32m   1041\u001b[0m \u001b[0;34m\u001b[0m\u001b[0m\n\u001b[1;32m   1042\u001b[0m     \u001b[0;32mdef\u001b[0m \u001b[0m_failover_to_python\u001b[0m\u001b[0;34m(\u001b[0m\u001b[0mself\u001b[0m\u001b[0;34m)\u001b[0m\u001b[0;34m:\u001b[0m\u001b[0;34m\u001b[0m\u001b[0;34m\u001b[0m\u001b[0m\n",
            "\u001b[0;32m/usr/local/lib/python3.7/dist-packages/pandas/io/parsers/c_parser_wrapper.py\u001b[0m in \u001b[0;36m__init__\u001b[0;34m(self, src, **kwds)\u001b[0m\n\u001b[1;32m     49\u001b[0m \u001b[0;34m\u001b[0m\u001b[0m\n\u001b[1;32m     50\u001b[0m         \u001b[0;31m# open handles\u001b[0m\u001b[0;34m\u001b[0m\u001b[0;34m\u001b[0m\u001b[0;34m\u001b[0m\u001b[0m\n\u001b[0;32m---> 51\u001b[0;31m         \u001b[0mself\u001b[0m\u001b[0;34m.\u001b[0m\u001b[0m_open_handles\u001b[0m\u001b[0;34m(\u001b[0m\u001b[0msrc\u001b[0m\u001b[0;34m,\u001b[0m \u001b[0mkwds\u001b[0m\u001b[0;34m)\u001b[0m\u001b[0;34m\u001b[0m\u001b[0;34m\u001b[0m\u001b[0m\n\u001b[0m\u001b[1;32m     52\u001b[0m         \u001b[0;32massert\u001b[0m \u001b[0mself\u001b[0m\u001b[0;34m.\u001b[0m\u001b[0mhandles\u001b[0m \u001b[0;32mis\u001b[0m \u001b[0;32mnot\u001b[0m \u001b[0;32mNone\u001b[0m\u001b[0;34m\u001b[0m\u001b[0;34m\u001b[0m\u001b[0m\n\u001b[1;32m     53\u001b[0m \u001b[0;34m\u001b[0m\u001b[0m\n",
            "\u001b[0;32m/usr/local/lib/python3.7/dist-packages/pandas/io/parsers/base_parser.py\u001b[0m in \u001b[0;36m_open_handles\u001b[0;34m(self, src, kwds)\u001b[0m\n\u001b[1;32m    227\u001b[0m             \u001b[0mmemory_map\u001b[0m\u001b[0;34m=\u001b[0m\u001b[0mkwds\u001b[0m\u001b[0;34m.\u001b[0m\u001b[0mget\u001b[0m\u001b[0;34m(\u001b[0m\u001b[0;34m\"memory_map\"\u001b[0m\u001b[0;34m,\u001b[0m \u001b[0;32mFalse\u001b[0m\u001b[0;34m)\u001b[0m\u001b[0;34m,\u001b[0m\u001b[0;34m\u001b[0m\u001b[0;34m\u001b[0m\u001b[0m\n\u001b[1;32m    228\u001b[0m             \u001b[0mstorage_options\u001b[0m\u001b[0;34m=\u001b[0m\u001b[0mkwds\u001b[0m\u001b[0;34m.\u001b[0m\u001b[0mget\u001b[0m\u001b[0;34m(\u001b[0m\u001b[0;34m\"storage_options\"\u001b[0m\u001b[0;34m,\u001b[0m \u001b[0;32mNone\u001b[0m\u001b[0;34m)\u001b[0m\u001b[0;34m,\u001b[0m\u001b[0;34m\u001b[0m\u001b[0;34m\u001b[0m\u001b[0m\n\u001b[0;32m--> 229\u001b[0;31m             \u001b[0merrors\u001b[0m\u001b[0;34m=\u001b[0m\u001b[0mkwds\u001b[0m\u001b[0;34m.\u001b[0m\u001b[0mget\u001b[0m\u001b[0;34m(\u001b[0m\u001b[0;34m\"encoding_errors\"\u001b[0m\u001b[0;34m,\u001b[0m \u001b[0;34m\"strict\"\u001b[0m\u001b[0;34m)\u001b[0m\u001b[0;34m,\u001b[0m\u001b[0;34m\u001b[0m\u001b[0;34m\u001b[0m\u001b[0m\n\u001b[0m\u001b[1;32m    230\u001b[0m         )\n\u001b[1;32m    231\u001b[0m \u001b[0;34m\u001b[0m\u001b[0m\n",
            "\u001b[0;32m/usr/local/lib/python3.7/dist-packages/pandas/io/common.py\u001b[0m in \u001b[0;36mget_handle\u001b[0;34m(path_or_buf, mode, encoding, compression, memory_map, is_text, errors, storage_options)\u001b[0m\n\u001b[1;32m    705\u001b[0m                 \u001b[0mencoding\u001b[0m\u001b[0;34m=\u001b[0m\u001b[0mioargs\u001b[0m\u001b[0;34m.\u001b[0m\u001b[0mencoding\u001b[0m\u001b[0;34m,\u001b[0m\u001b[0;34m\u001b[0m\u001b[0;34m\u001b[0m\u001b[0m\n\u001b[1;32m    706\u001b[0m                 \u001b[0merrors\u001b[0m\u001b[0;34m=\u001b[0m\u001b[0merrors\u001b[0m\u001b[0;34m,\u001b[0m\u001b[0;34m\u001b[0m\u001b[0;34m\u001b[0m\u001b[0m\n\u001b[0;32m--> 707\u001b[0;31m                 \u001b[0mnewline\u001b[0m\u001b[0;34m=\u001b[0m\u001b[0;34m\"\"\u001b[0m\u001b[0;34m,\u001b[0m\u001b[0;34m\u001b[0m\u001b[0;34m\u001b[0m\u001b[0m\n\u001b[0m\u001b[1;32m    708\u001b[0m             )\n\u001b[1;32m    709\u001b[0m         \u001b[0;32melse\u001b[0m\u001b[0;34m:\u001b[0m\u001b[0;34m\u001b[0m\u001b[0;34m\u001b[0m\u001b[0m\n",
            "\u001b[0;31mFileNotFoundError\u001b[0m: [Errno 2] No such file or directory: 'data/22_shizuoka_all_20210331.csv'"
          ]
        }
      ]
    },
    {
      "cell_type": "code",
      "metadata": {
        "id": "QvwXkOiQxWjP"
      },
      "source": [
        "data.head()"
      ],
      "execution_count": null,
      "outputs": []
    },
    {
      "cell_type": "code",
      "metadata": {
        "id": "4_tpsKnw4nr1"
      },
      "source": [
        "len(data.columns)"
      ],
      "execution_count": null,
      "outputs": []
    },
    {
      "cell_type": "code",
      "source": [
        "data"
      ],
      "metadata": {
        "id": "Kqj-Zm4DVZGi"
      },
      "execution_count": null,
      "outputs": []
    },
    {
      "cell_type": "code",
      "metadata": {
        "id": "XKjiB1s94qf8"
      },
      "source": [
        "data = pd.read_csv('data/22_shizuoka_all_20210331.csv',encoding='shift-jis',header=None,dtype=object)"
      ],
      "execution_count": null,
      "outputs": []
    },
    {
      "cell_type": "code",
      "metadata": {
        "id": "KPKVCG9U4qmB"
      },
      "source": [
        "data.head()"
      ],
      "execution_count": null,
      "outputs": []
    },
    {
      "cell_type": "code",
      "metadata": {
        "id": "287m2voK4qi0"
      },
      "source": [
        "data.dtypes"
      ],
      "execution_count": null,
      "outputs": []
    },
    {
      "cell_type": "code",
      "source": [
        "data=pd.read_csv('data/22_shizuoka_all_20210331.csv',encoding='shift-jis',header=None,dtype=object)"
      ],
      "metadata": {
        "id": "E7BZFar4Vpae"
      },
      "execution_count": null,
      "outputs": []
    },
    {
      "cell_type": "code",
      "source": [
        "data.head()"
      ],
      "metadata": {
        "id": "g3PcdX0RWu_i"
      },
      "execution_count": null,
      "outputs": []
    },
    {
      "cell_type": "code",
      "source": [
        "data.dtypes"
      ],
      "metadata": {
        "id": "-Z7qrtmvW1bg"
      },
      "execution_count": null,
      "outputs": []
    },
    {
      "cell_type": "code",
      "source": [
        "mst = pd.read_csv('data/mst_column_name.txt',encoding='shift-jis',sep='\\t')"
      ],
      "metadata": {
        "id": "MeVM8HZXOp4U"
      },
      "execution_count": null,
      "outputs": []
    },
    {
      "cell_type": "code",
      "source": [
        "mst.head()"
      ],
      "metadata": {
        "id": "Kc73Hx89PEzc"
      },
      "execution_count": null,
      "outputs": []
    },
    {
      "cell_type": "code",
      "source": [
        "len(mst) == len(data.columns)"
      ],
      "metadata": {
        "id": "5ygS-ONNQ00n"
      },
      "execution_count": null,
      "outputs": []
    },
    {
      "cell_type": "code",
      "source": [
        "columns=mst.column_name_en.values"
      ],
      "metadata": {
        "id": "i69aNBIRZ1xg"
      },
      "execution_count": null,
      "outputs": []
    },
    {
      "cell_type": "code",
      "source": [
        "columns"
      ],
      "metadata": {
        "id": "b5s2dVNPeauH"
      },
      "execution_count": null,
      "outputs": []
    },
    {
      "cell_type": "code",
      "source": [
        "data.columns = columns"
      ],
      "metadata": {
        "id": "MEj1pHyEesiC"
      },
      "execution_count": null,
      "outputs": []
    },
    {
      "cell_type": "code",
      "source": [
        "data.head()"
      ],
      "metadata": {
        "id": "lDdZREI0e5Id"
      },
      "execution_count": null,
      "outputs": []
    },
    {
      "cell_type": "code",
      "source": [
        "data.describe()"
      ],
      "metadata": {
        "id": "fpiDqssRiSC9"
      },
      "execution_count": null,
      "outputs": []
    },
    {
      "cell_type": "code",
      "source": [
        "data.isna()"
      ],
      "metadata": {
        "id": "T6d5ek1AXZuV"
      },
      "execution_count": null,
      "outputs": []
    },
    {
      "cell_type": "code",
      "source": [
        "data.isna().sum()"
      ],
      "metadata": {
        "id": "wZI3lZgPnfYt"
      },
      "execution_count": null,
      "outputs": []
    },
    {
      "cell_type": "code",
      "source": [
        "import os\n",
        "os.listdir('data')"
      ],
      "metadata": {
        "id": "Vp8u8vGyobpP"
      },
      "execution_count": null,
      "outputs": []
    },
    {
      "cell_type": "code",
      "source": [
        "from glob import glob\n",
        "diff_files = glob('data/diff*.csv')\n",
        "diff_files"
      ],
      "metadata": {
        "id": "JlaB3HlTo4F_"
      },
      "execution_count": null,
      "outputs": []
    },
    {
      "cell_type": "code",
      "source": [
        "diff_files.sort()\n",
        "diff = pd.read_csv(diff_files[0],encoding='shift-jis',header=None,dtype=object)\n",
        "print(len(diff))\n",
        "diff.head(3)"
      ],
      "metadata": {
        "id": "JLorLLY0pV9W"
      },
      "execution_count": null,
      "outputs": []
    },
    {
      "cell_type": "code",
      "source": [
        "diff.columns = columns\n",
        "diff=diff.loc[diff['prefectureName']=='静岡県']\n",
        "print(len(diff))\n",
        "diff.head(3)"
      ],
      "metadata": {
        "id": "6vlodSY5r1Ph"
      },
      "execution_count": null,
      "outputs": []
    },
    {
      "cell_type": "code",
      "source": [
        "data_test = data\n",
        "print(len(data_test))\n",
        "print(len(data_test)==len(data))\n",
        "print(len(diff))\n",
        "data_test=data_test.append(diff)\n",
        "print(len(data_test))\n",
        "data_test.tail(3)"
      ],
      "metadata": {
        "id": "JvMoqPkgtGY2"
      },
      "execution_count": null,
      "outputs": []
    },
    {
      "cell_type": "code",
      "source": [
        "for f in diff_files:\n",
        "  diff = pd.read_csv(f,encoding='shift-jis',header=None,dtype=object)\n",
        "  diff.columns=columns\n",
        "  diff = diff.loc[diff['prefectureName']=='静岡県']\n",
        "  data = data.append(diff)\n",
        "data"
      ],
      "metadata": {
        "id": "nMxuBQY2vu0t"
      },
      "execution_count": null,
      "outputs": []
    },
    {
      "cell_type": "code",
      "source": [
        "data.describe()"
      ],
      "metadata": {
        "id": "djHO4gn7xE9x"
      },
      "execution_count": null,
      "outputs": []
    },
    {
      "cell_type": "code",
      "source": [
        "print(data[data[\"corporateNumber\"].duplicated()])"
      ],
      "metadata": {
        "id": "uXrlRAyByXut"
      },
      "execution_count": null,
      "outputs": []
    },
    {
      "cell_type": "code",
      "source": [
        "data.drop_duplicates(subset='corporateNumber', keep='last', inplace=True)"
      ],
      "metadata": {
        "id": "Uj9zleVcxr0N"
      },
      "execution_count": null,
      "outputs": []
    },
    {
      "cell_type": "code",
      "source": [
        "data.describe()"
      ],
      "metadata": {
        "id": "LkFY6Xa5yxSv"
      },
      "execution_count": null,
      "outputs": []
    },
    {
      "cell_type": "code",
      "source": [
        "data.isna().sum()"
      ],
      "metadata": {
        "id": "CJ1rkg-uzJJn"
      },
      "execution_count": null,
      "outputs": []
    },
    {
      "cell_type": "code",
      "source": [
        "os.listdir('data')"
      ],
      "metadata": {
        "id": "ssXwhcJNtyOa"
      },
      "execution_count": null,
      "outputs": []
    },
    {
      "cell_type": "code",
      "source": [
        "mst_process_kbn=pd.read_csv('data/mst_process_kbn.csv',dtype=object)\n",
        "mst_process_kbn"
      ],
      "metadata": {
        "id": "2EegHPgVxZaP"
      },
      "execution_count": null,
      "outputs": []
    },
    {
      "cell_type": "code",
      "source": [
        "data=data.merge(mst_process_kbn,on='process', how='left')"
      ],
      "metadata": {
        "id": "Oj0ndyhY0Bxe"
      },
      "execution_count": null,
      "outputs": []
    },
    {
      "cell_type": "code",
      "source": [
        "print(len(data.columns))\n",
        "data.head(3)"
      ],
      "metadata": {
        "id": "V_yT_v8K1xj1"
      },
      "execution_count": null,
      "outputs": []
    },
    {
      "cell_type": "code",
      "source": [
        "mst_correct_kbn=pd.read_csv('data/mst_correct_kbn.csv',encoding='shift-jis', dtype=object)\n",
        "mst_correct_kbn"
      ],
      "metadata": {
        "id": "KJcu0sDJLjT8"
      },
      "execution_count": null,
      "outputs": []
    },
    {
      "cell_type": "code",
      "source": [
        "data=data.merge(mst_correct_kbn,on='correct', how='left')\n",
        "print(len(data.columns))\n",
        "data.head(3)"
      ],
      "metadata": {
        "id": "2_npJ5pmMFsI"
      },
      "execution_count": null,
      "outputs": []
    },
    {
      "cell_type": "code",
      "source": [
        "mst_corp_kind=pd.read_csv('data/mst_corp_kind.csv',dtype=object)\n",
        "mst_corp_kind"
      ],
      "metadata": {
        "id": "E6MxHm2XamYF"
      },
      "execution_count": null,
      "outputs": []
    },
    {
      "cell_type": "code",
      "source": [
        "data=data.merge(mst_corp_kind,on='kind',how='left')\n",
        "print(len(data.columns))\n",
        "data.head(3)"
      ],
      "metadata": {
        "id": "Sys245VWa7V2"
      },
      "execution_count": null,
      "outputs": []
    },
    {
      "cell_type": "code",
      "source": [
        "mst_close_cause=pd.read_csv('data/mst_closeCause.csv',dtype=object)\n",
        "mst_close_cause"
      ],
      "metadata": {
        "id": "R8w_73lUbZV9"
      },
      "execution_count": null,
      "outputs": []
    },
    {
      "cell_type": "code",
      "source": [
        "data=data.merge(mst_close_cause, on='closeCause', how='left')\n",
        "print(len(data.columns))\n",
        "data.head(3)"
      ],
      "metadata": {
        "id": "QWlJX3S7bvpv"
      },
      "execution_count": null,
      "outputs": []
    },
    {
      "cell_type": "code",
      "source": [
        "mst_latest=pd.read_csv('data/mst_latest.csv',dtype=object)\n",
        "mst_latest"
      ],
      "metadata": {
        "id": "EgytiB3iM42L"
      },
      "execution_count": null,
      "outputs": []
    },
    {
      "cell_type": "code",
      "source": [
        "data=data.merge(mst_latest, on='latest', how='left')\n",
        "print(len(data.columns))\n",
        "data.head(3)"
      ],
      "metadata": {
        "id": "odvYjZDfPumW"
      },
      "execution_count": null,
      "outputs": []
    },
    {
      "cell_type": "code",
      "source": [
        "mst_hihyoji=pd.read_csv('data/mst_hihyoji.csv',dtype=object)\n",
        "mst_hihyoji"
      ],
      "metadata": {
        "id": "lpRIbmvBQUM5"
      },
      "execution_count": null,
      "outputs": []
    },
    {
      "cell_type": "code",
      "source": [
        "data=data.merge(mst_hihyoji,on='hihyoji',how='left')\n",
        "print(len(data.columns))\n",
        "data.head(3)"
      ],
      "metadata": {
        "id": "hv77K3vRRbJn"
      },
      "execution_count": null,
      "outputs": []
    },
    {
      "cell_type": "code",
      "source": [
        "data[['prefectureName','cityName','streetNumber']].isna().sum()"
      ],
      "metadata": {
        "id": "Oc5ilNxXEpMU"
      },
      "execution_count": null,
      "outputs": []
    },
    {
      "cell_type": "code",
      "source": [
        "data['address']=data['prefectureName']+data['cityName']+data['streetNumber']\n",
        "print(len(data.columns))\n",
        "data.head(3)"
      ],
      "metadata": {
        "id": "LdjSg36VFv3A"
      },
      "execution_count": null,
      "outputs": []
    },
    {
      "cell_type": "code",
      "source": [
        "data.loc[data['streetNumber'].isna()].head(3)"
      ],
      "metadata": {
        "id": "53msKN0lGqYZ"
      },
      "execution_count": null,
      "outputs": []
    },
    {
      "cell_type": "code",
      "source": [
        "data['address'].loc[data['streetNumber'].isna()]=data['prefectureName']+data['cityName']"
      ],
      "metadata": {
        "id": "xpw1zrYWUDqb"
      },
      "execution_count": null,
      "outputs": []
    },
    {
      "cell_type": "code",
      "source": [
        "print(data['address'].isna().sum())\n",
        "data.loc[data['streetNumber'].isna()].head(3)"
      ],
      "metadata": {
        "id": "P64Pub-bWbq4"
      },
      "execution_count": null,
      "outputs": []
    },
    {
      "cell_type": "code",
      "source": [
        "data.head(3)"
      ],
      "metadata": {
        "id": "9BDE7mZ5Zv_n"
      },
      "execution_count": null,
      "outputs": []
    },
    {
      "cell_type": "code",
      "source": [
        "data['postCode_head']=data['postCode'].str[:3]\n",
        "print(len(data.columns))\n",
        "data.head(3)"
      ],
      "metadata": {
        "id": "2SDmn_4pWvPv"
      },
      "execution_count": null,
      "outputs": []
    },
    {
      "cell_type": "code",
      "source": [
        "data['postCode_tail']=data['postCode'].str[-4:]\n",
        "print(len(data.columns))\n",
        "data.head(3)"
      ],
      "metadata": {
        "id": "yP3cZNxEa1sA"
      },
      "execution_count": null,
      "outputs": []
    },
    {
      "cell_type": "code",
      "source": [
        "tmp=pd.to_datetime(data['closeDate'])\n",
        "tmp.dtypes"
      ],
      "metadata": {
        "id": "iTkt40VYBL2R"
      },
      "execution_count": null,
      "outputs": []
    },
    {
      "cell_type": "code",
      "source": [
        "dt_columns=['updateDate','changeDate','closeDate','assignmentDate']\n",
        "for col in dt_columns:\n",
        "  data[col]=pd.to_datetime(data[col]) "
      ],
      "metadata": {
        "id": "nIsRikqVJsnO"
      },
      "execution_count": null,
      "outputs": []
    },
    {
      "cell_type": "code",
      "source": [
        "data.dtypes"
      ],
      "metadata": {
        "id": "t6YWe0NdMQTz"
      },
      "execution_count": null,
      "outputs": []
    },
    {
      "cell_type": "code",
      "source": [
        "data['corporate_life']=data['closeDate']-data['assignmentDate']\n",
        "print(len(data.columns))\n",
        "data.head(3)"
      ],
      "metadata": {
        "id": "YjoROQ34QYi_"
      },
      "execution_count": null,
      "outputs": []
    },
    {
      "cell_type": "code",
      "source": [
        "tep=data.loc[data['closeDate'].notna()]\n",
        "print(len(tmp))\n",
        "tep.head(3)"
      ],
      "metadata": {
        "id": "dwSHRSFrQ7S3"
      },
      "execution_count": null,
      "outputs": []
    },
    {
      "cell_type": "code",
      "source": [
        "len(data.loc[data['closeCause'].notna()])==len(data.loc[data['closeDate'].notna()])"
      ],
      "metadata": {
        "id": "lH-OZn8TZwjh"
      },
      "execution_count": null,
      "outputs": []
    },
    {
      "cell_type": "code",
      "source": [
        ""
      ],
      "metadata": {
        "id": "Ql4qHNUgPFhp"
      },
      "execution_count": null,
      "outputs": []
    },
    {
      "cell_type": "code",
      "source": [
        "data['update_YM']=data['updateDate'].dt.to_period('M')\n",
        "print(len(data.columns))\n",
        "data.head()"
      ],
      "metadata": {
        "id": "70gEpdgyb_XB"
      },
      "execution_count": null,
      "outputs": []
    },
    {
      "cell_type": "code",
      "source": [
        "dt_prefixes=['assignment','change','update','close']\n",
        "for pre in dt_prefixes:\n",
        "  data[f'{pre}_YM']=data[f'{pre}Date'].dt.to_period('M')"
      ],
      "metadata": {
        "id": "Kn_GovumdEH4"
      },
      "execution_count": null,
      "outputs": []
    },
    {
      "cell_type": "code",
      "source": [
        "data.head()"
      ],
      "metadata": {
        "id": "rApHkvOXeZCV"
      },
      "execution_count": null,
      "outputs": []
    },
    {
      "cell_type": "code",
      "source": [
        "data.dtypes"
      ],
      "metadata": {
        "id": "svUxlqcWedXE"
      },
      "execution_count": null,
      "outputs": []
    },
    {
      "cell_type": "code",
      "source": [
        "data['update_year']=pd.DatetimeIndex(data['updateDate']).year\n",
        "data['update_month']=pd.DatetimeIndex(data['updateDate']).month\n",
        "data['update_fiscal_year']=pd.DatetimeIndex(data['updateDate']).year\n",
        "data.loc[data['update_month']<4,'update_fiscal_year'] -=1"
      ],
      "metadata": {
        "id": "PfAFFImZqGMg"
      },
      "execution_count": null,
      "outputs": []
    },
    {
      "cell_type": "code",
      "source": [
        "print(len(data.columns))\n",
        "data.head(3)"
      ],
      "metadata": {
        "id": "K0lSWxlmt3ui"
      },
      "execution_count": null,
      "outputs": []
    },
    {
      "cell_type": "code",
      "source": [
        "for i in range(12):\n",
        "  display(data[['update_YM','update_fiscal_year']].loc[data['update_month']==i+1][:1])"
      ],
      "metadata": {
        "id": "8NTUCMlXyav_"
      },
      "execution_count": null,
      "outputs": []
    },
    {
      "cell_type": "code",
      "source": [
        "output_dir='data/output'\n",
        "os.makedirs(output_dir,exist_ok=True)"
      ],
      "metadata": {
        "id": "eWSXVwQ_3Meb"
      },
      "execution_count": null,
      "outputs": []
    },
    {
      "cell_type": "code",
      "source": [
        "output_file='processed_shizuoka.csv'\n",
        "data.to_csv(os.path.join(output_dir,output_file),index=False)"
      ],
      "metadata": {
        "id": "tyecPgpw5RAJ"
      },
      "execution_count": null,
      "outputs": []
    },
    {
      "cell_type": "code",
      "source": [
        "output_file = output_file.replace('.csv','.xlsx')\n",
        "data.to_excel(os.path.join(output_dir,output_file),index=False)"
      ],
      "metadata": {
        "id": "bTjI3U_Q9l1-"
      },
      "execution_count": null,
      "outputs": []
    },
    {
      "cell_type": "code",
      "source": [
        "print(len(data.columns))\n",
        "print(data.columns)\n",
        "data.head(3)"
      ],
      "metadata": {
        "id": "Cx2ilH9w0So-"
      },
      "execution_count": null,
      "outputs": []
    },
    {
      "cell_type": "code",
      "source": [
        "print(len(data.columns))\n",
        "print(data.columns)\n",
        "data.head(3)"
      ],
      "metadata": {
        "id": "-JbTsHYz1A9h"
      },
      "execution_count": null,
      "outputs": []
    },
    {
      "cell_type": "code",
      "source": [
        "data=data[['cityName','corporateNumber','name','corp_kind_name','process','process_kbn_name','assignmentDate','updateDate','update_fiscal_year','update_YM']]"
      ],
      "metadata": {
        "id": "p880RA3Rpfu-"
      },
      "execution_count": null,
      "outputs": []
    },
    {
      "cell_type": "code",
      "source": [
        "print(len(data.columns))\n",
        "print(data.columns)\n",
        "data.head(3)"
      ],
      "metadata": {
        "id": "xkxNfJYls4WE"
      },
      "execution_count": null,
      "outputs": []
    },
    {
      "cell_type": "code",
      "source": [
        ""
      ],
      "metadata": {
        "id": "3fhsss7DvEzV"
      },
      "execution_count": null,
      "outputs": []
    },
    {
      "cell_type": "code",
      "source": [
        "data = data.drop(columns='process')\n",
        "print(data.columns)\n",
        "data.head(3)"
      ],
      "metadata": {
        "id": "GljEA-YDulEw"
      },
      "execution_count": null,
      "outputs": []
    },
    {
      "cell_type": "code",
      "source": [
        "tmp = data.groupby('corp_kind_name').size()\n",
        "tmp"
      ],
      "metadata": {
        "id": "-SyrwaovdA0P"
      },
      "execution_count": null,
      "outputs": []
    },
    {
      "cell_type": "code",
      "source": [
        "tmp.sort_values(inplace=True,ascending=False)\n",
        "tmp"
      ],
      "metadata": {
        "id": "AlrC8oKYeadj"
      },
      "execution_count": null,
      "outputs": []
    },
    {
      "cell_type": "code",
      "source": [
        "tmp=data.groupby('update_fiscal_year').size()\n",
        "tmp"
      ],
      "metadata": {
        "id": "qwwrd7Gte5GI"
      },
      "execution_count": null,
      "outputs": []
    },
    {
      "cell_type": "code",
      "source": [
        "tmp=data.groupby(['update_fiscal_year','corp_kind_name']).size()\n",
        "tmp"
      ],
      "metadata": {
        "id": "prw8AlKSfRAY"
      },
      "execution_count": null,
      "outputs": []
    },
    {
      "cell_type": "code",
      "source": [
        "pt_data=pd.pivot_table(data,index='corp_kind_name',columns='update_fiscal_year',aggfunc='size')\n",
        "pt_data"
      ],
      "metadata": {
        "id": "hgXWtV4qf0eU"
      },
      "execution_count": null,
      "outputs": []
    },
    {
      "cell_type": "code",
      "source": [
        "%%bash\n",
        "pip install -q japanize-matplotlib"
      ],
      "metadata": {
        "id": "67OLOkOX2icl"
      },
      "execution_count": null,
      "outputs": []
    },
    {
      "cell_type": "code",
      "source": [
        "tmp = data.groupby('cityName').size()\n",
        "tmp.head()"
      ],
      "metadata": {
        "id": "jHAX0dEB445d"
      },
      "execution_count": null,
      "outputs": []
    },
    {
      "cell_type": "code",
      "source": [
        "import matplotlib.pyplot as plt\n",
        "import japanize_matplotlib\n",
        "\n",
        "x = tmp.index\n",
        "y = tmp.values\n",
        "plt.bar(x,y)"
      ],
      "metadata": {
        "id": "rVxvHsH85Fzb"
      },
      "execution_count": null,
      "outputs": []
    },
    {
      "cell_type": "code",
      "source": [
        "plt.figure(figsize = (20,10))\n",
        "plt.bar(x,y)"
      ],
      "metadata": {
        "id": "LdbZArXZ5zet"
      },
      "execution_count": null,
      "outputs": []
    },
    {
      "cell_type": "code",
      "source": [
        "tmp.sort_values(inplace=True,ascending=True)\n",
        "tmp"
      ],
      "metadata": {
        "id": "BdAgOC166oRb"
      },
      "execution_count": null,
      "outputs": []
    },
    {
      "cell_type": "code",
      "source": [
        "plt.figure(figsize=(10,15))\n",
        "x = tmp.index\n",
        "y = tmp.values\n",
        "plt.barh(x,y)"
      ],
      "metadata": {
        "id": "oi1fRA957E9z"
      },
      "execution_count": null,
      "outputs": []
    },
    {
      "cell_type": "code",
      "source": [
        "tmp.sort_values(inplace=True,ascending=False)\n",
        "plt.figure(figsize=(20,10))\n",
        "x=tmp[:10].index\n",
        "y=tmp[:10].values\n",
        "plt.bar(x,y)"
      ],
      "metadata": {
        "id": "qx1eZxUN7hPJ"
      },
      "execution_count": null,
      "outputs": []
    },
    {
      "cell_type": "code",
      "source": [
        "plt.figure(figsize=(20,10))\n",
        "plt.bar(x,y)\n",
        "plt.title('市区町村別の法人数',fontsize=20)\n",
        "plt.xlabel('市区町村名',fontsize=15)\n",
        "plt.ylabel('法人数')"
      ],
      "metadata": {
        "id": "mN9uFUPS-pjI"
      },
      "execution_count": null,
      "outputs": []
    },
    {
      "cell_type": "code",
      "source": [
        "tmp.sort_values(inplace=True,ascending=False)\n",
        "tmp = tmp[:10]\n",
        "x=tmp.index\n",
        "y=tmp.values\n",
        "fig,ax=plt.subplots(figsize=(20,10))\n",
        "bar_list=ax.bar(x,y,color='lightgray')\n",
        "bar_list[4].set_color('blue')\n",
        "ax.set_title('自治体別法人数における富士市の位置付け',fontsize=20);\n",
        "ax.set_ylabel('法人数',fontsize=15)\n",
        "ax.text(7.5,9000,'上位10の自治体を抜粋して表示',fontsize=15)"
      ],
      "metadata": {
        "id": "_fl0Kx-oAsmB"
      },
      "execution_count": null,
      "outputs": []
    },
    {
      "cell_type": "code",
      "source": [
        "base_time=pd.Timestamp.now(tz='Asia/Tokyo')\n",
        "base_time"
      ],
      "metadata": {
        "id": "W67zlF2mfESK"
      },
      "execution_count": null,
      "outputs": []
    },
    {
      "cell_type": "code",
      "source": [
        "print(len(data))\n",
        "data.head()"
      ],
      "metadata": {
        "id": "UrRS5Wp5iKZX"
      },
      "execution_count": null,
      "outputs": []
    },
    {
      "cell_type": "code",
      "source": [
        "data['assignmentDate']=data['assignmentDate'].dt.tz_localize('Asia/Tokyo')\n",
        "data.head()"
      ],
      "metadata": {
        "id": "bBQwkbVDkN8E"
      },
      "execution_count": null,
      "outputs": []
    },
    {
      "cell_type": "code",
      "source": [
        "delta=pd.Timedelta(393, 'days')\n",
        "tmp=data.loc[(data['process_kbn_name']=='新規') & (base_time - data['assignmentDate'] <= delta)]\n",
        "print(len(tmp))\n",
        "tmp.head()"
      ],
      "metadata": {
        "id": "BKjMILPTltdz"
      },
      "execution_count": null,
      "outputs": []
    },
    {
      "cell_type": "code",
      "source": [
        "tmp=tmp.groupby('cityName').size()\n",
        "tmp.sort_values(inplace=True,ascending=False)\n",
        "tmp=tmp[:10]\n",
        "x=tmp.index\n",
        "y=tmp.values\n",
        "plt.figure(figsize=(20,10))\n",
        "plt.bar(x,y)"
      ],
      "metadata": {
        "id": "_J7c_OTRpVXA"
      },
      "execution_count": null,
      "outputs": []
    },
    {
      "cell_type": "code",
      "source": [
        "base_time=pd.Timestamp('2020-04-16',tz='Asia/Tokyo')\n",
        "tmp=data.loc[(data['process_kbn_name']=='新規') & (base_time - data['assignmentDate'] <= delta)]\n",
        "print(len(tmp))\n",
        "tmp.head()"
      ],
      "metadata": {
        "id": "2X5leaV5o24F"
      },
      "execution_count": null,
      "outputs": []
    },
    {
      "cell_type": "code",
      "source": [
        "tmp=tmp.groupby('cityName').size()\n",
        "tmp.sort_values(inplace=True,ascending=False)\n",
        "tmp=tmp[:10]\n",
        "x=tmp.index\n",
        "y=tmp.values\n",
        "plt.figure(figsize=(20,10))\n",
        "plt.bar(x,y)"
      ],
      "metadata": {
        "id": "xSzJMd9QyvnN"
      },
      "execution_count": null,
      "outputs": []
    },
    {
      "cell_type": "code",
      "source": [
        "tmp=data.dropna(subset=['cityName'])\n",
        "tmp=tmp.loc[tmp['cityName'].str.match('^.*区$')]\n",
        "print(len(tmp))\n",
        "tmp.head()"
      ],
      "metadata": {
        "id": "W48ZQLTpLgvi"
      },
      "execution_count": null,
      "outputs": []
    },
    {
      "cell_type": "code",
      "source": [
        "tmp=tmp.loc[(tmp['update_fiscal_year'] >=2016)&(tmp['update_fiscal_year']<2021)]\n",
        "print(len(tmp))\n",
        "tmp.head()"
      ],
      "metadata": {
        "id": "b1AEWaXFM1cX"
      },
      "execution_count": null,
      "outputs": []
    },
    {
      "cell_type": "code",
      "source": [
        "tmp=tmp.groupby(['cityName','update_fiscal_year']).size()\n",
        "tmp.name='count'\n",
        "tmp=tmp.reset_index()\n",
        "print(len(tmp))\n",
        "tmp.head(6)"
      ],
      "metadata": {
        "id": "ULKhqgBMN_HI"
      },
      "execution_count": null,
      "outputs": []
    },
    {
      "cell_type": "code",
      "source": [
        "import seaborn as sns\n",
        "from matplotlib.ticker import MaxNLocator\n",
        "plt.figure(figsize=(20,10))\n",
        "plt.gca().xaxis.set_major_locator(MaxNLocator(integer=True))\n",
        "img=sns.lineplot(x=tmp['update_fiscal_year'],y=tmp['count'],hue=tmp['cityName'])"
      ],
      "metadata": {
        "id": "guY5Btc5P9fB"
      },
      "execution_count": null,
      "outputs": []
    },
    {
      "cell_type": "code",
      "source": [
        "data_file='knock20_graphdata.csv'\n",
        "data.to_csv(os.path.join(output_dir,data_file),index=False)\n",
        "graph_file='knock20_graph.png'\n",
        "fig=img.get_figure()\n",
        "fig.savefig(os.path.join(output_dir,graph_file))"
      ],
      "metadata": {
        "id": "fbjQkrYtRwlR"
      },
      "execution_count": null,
      "outputs": []
    },
    {
      "cell_type": "markdown",
      "metadata": {
        "id": "0FrKeZvUrFKn"
      },
      "source": [
        "## ノック２：読み込んだデータを確認しよう"
      ]
    },
    {
      "cell_type": "code",
      "metadata": {
        "id": "dQeuZrhAROgy",
        "colab": {
          "base_uri": "https://localhost:8080/",
          "height": 629
        },
        "outputId": "7cfe265e-e3b2-42a5-b5a1-f3b1bdea53b2"
      },
      "source": [
        "import pandas as pd\n",
        "data = pd.read_excel('data/1-2-2020.xlsx')\n",
        "data.head()"
      ],
      "execution_count": 5,
      "outputs": [
        {
          "output_type": "execute_result",
          "data": {
            "text/plain": [
              "  １－（２）．都道府県別発電所数、出力数　（２０２０年４月） Unnamed: 1 Unnamed: 2 Unnamed: 3 Unnamed: 4  \\\n",
              "0                          都道府県      水力発電所        NaN      火力発電所        NaN   \n",
              "1                           NaN        NaN        NaN        NaN        NaN   \n",
              "2                           NaN       発電所数      最大出力計       発電所数      最大出力計   \n",
              "3                           北海道         98  2032077.6         32    6176880   \n",
              "4                           青森県         19     128750         10     655750   \n",
              "\n",
              "  Unnamed: 5 Unnamed: 6  Unnamed: 7 Unnamed: 8 Unnamed: 9  ... Unnamed: 13  \\\n",
              "0     原子力発電所        NaN  新エネルギー等発電所        NaN        NaN  ...         NaN   \n",
              "1        NaN        NaN          風力        NaN        太陽光  ...     〔バイオマス〕   \n",
              "2       発電所数      最大出力計        発電所数      最大出力計       発電所数  ...        発電所数   \n",
              "3          1    2070000          56     428134        127  ...           3   \n",
              "4          1    1100000          24     593870         35  ...           4   \n",
              "\n",
              "  Unnamed: 14 Unnamed: 15 Unnamed: 16 Unnamed: 17 Unnamed: 18 Unnamed: 19  \\\n",
              "0         NaN         NaN         NaN         NaN         NaN         その他   \n",
              "1         NaN       〔廃棄物〕         NaN           計         NaN         NaN   \n",
              "2       最大出力計        発電所数       最大出力計        発電所数       最大出力計        発電所数   \n",
              "3       96650           3       49920         184   1128885.1           0   \n",
              "4      134850           1       18800          59      993867           0   \n",
              "\n",
              "  ２０２０年　８月３日公表時点 Unnamed: 21     （単位：kW）  \n",
              "0            NaN          合計         NaN  \n",
              "1            NaN         NaN         NaN  \n",
              "2          最大出力計        発電所数       最大出力計  \n",
              "3              0         315  11407842.7  \n",
              "4              0          89     2878367  \n",
              "\n",
              "[5 rows x 23 columns]"
            ],
            "text/html": [
              "\n",
              "  <div id=\"df-9c9aa243-2c63-4bac-b236-f213c1b0d151\">\n",
              "    <div class=\"colab-df-container\">\n",
              "      <div>\n",
              "<style scoped>\n",
              "    .dataframe tbody tr th:only-of-type {\n",
              "        vertical-align: middle;\n",
              "    }\n",
              "\n",
              "    .dataframe tbody tr th {\n",
              "        vertical-align: top;\n",
              "    }\n",
              "\n",
              "    .dataframe thead th {\n",
              "        text-align: right;\n",
              "    }\n",
              "</style>\n",
              "<table border=\"1\" class=\"dataframe\">\n",
              "  <thead>\n",
              "    <tr style=\"text-align: right;\">\n",
              "      <th></th>\n",
              "      <th>１－（２）．都道府県別発電所数、出力数　（２０２０年４月）</th>\n",
              "      <th>Unnamed: 1</th>\n",
              "      <th>Unnamed: 2</th>\n",
              "      <th>Unnamed: 3</th>\n",
              "      <th>Unnamed: 4</th>\n",
              "      <th>Unnamed: 5</th>\n",
              "      <th>Unnamed: 6</th>\n",
              "      <th>Unnamed: 7</th>\n",
              "      <th>Unnamed: 8</th>\n",
              "      <th>Unnamed: 9</th>\n",
              "      <th>...</th>\n",
              "      <th>Unnamed: 13</th>\n",
              "      <th>Unnamed: 14</th>\n",
              "      <th>Unnamed: 15</th>\n",
              "      <th>Unnamed: 16</th>\n",
              "      <th>Unnamed: 17</th>\n",
              "      <th>Unnamed: 18</th>\n",
              "      <th>Unnamed: 19</th>\n",
              "      <th>２０２０年　８月３日公表時点</th>\n",
              "      <th>Unnamed: 21</th>\n",
              "      <th>（単位：kW）</th>\n",
              "    </tr>\n",
              "  </thead>\n",
              "  <tbody>\n",
              "    <tr>\n",
              "      <th>0</th>\n",
              "      <td>都道府県</td>\n",
              "      <td>水力発電所</td>\n",
              "      <td>NaN</td>\n",
              "      <td>火力発電所</td>\n",
              "      <td>NaN</td>\n",
              "      <td>原子力発電所</td>\n",
              "      <td>NaN</td>\n",
              "      <td>新エネルギー等発電所</td>\n",
              "      <td>NaN</td>\n",
              "      <td>NaN</td>\n",
              "      <td>...</td>\n",
              "      <td>NaN</td>\n",
              "      <td>NaN</td>\n",
              "      <td>NaN</td>\n",
              "      <td>NaN</td>\n",
              "      <td>NaN</td>\n",
              "      <td>NaN</td>\n",
              "      <td>その他</td>\n",
              "      <td>NaN</td>\n",
              "      <td>合計</td>\n",
              "      <td>NaN</td>\n",
              "    </tr>\n",
              "    <tr>\n",
              "      <th>1</th>\n",
              "      <td>NaN</td>\n",
              "      <td>NaN</td>\n",
              "      <td>NaN</td>\n",
              "      <td>NaN</td>\n",
              "      <td>NaN</td>\n",
              "      <td>NaN</td>\n",
              "      <td>NaN</td>\n",
              "      <td>風力</td>\n",
              "      <td>NaN</td>\n",
              "      <td>太陽光</td>\n",
              "      <td>...</td>\n",
              "      <td>〔バイオマス〕</td>\n",
              "      <td>NaN</td>\n",
              "      <td>〔廃棄物〕</td>\n",
              "      <td>NaN</td>\n",
              "      <td>計</td>\n",
              "      <td>NaN</td>\n",
              "      <td>NaN</td>\n",
              "      <td>NaN</td>\n",
              "      <td>NaN</td>\n",
              "      <td>NaN</td>\n",
              "    </tr>\n",
              "    <tr>\n",
              "      <th>2</th>\n",
              "      <td>NaN</td>\n",
              "      <td>発電所数</td>\n",
              "      <td>最大出力計</td>\n",
              "      <td>発電所数</td>\n",
              "      <td>最大出力計</td>\n",
              "      <td>発電所数</td>\n",
              "      <td>最大出力計</td>\n",
              "      <td>発電所数</td>\n",
              "      <td>最大出力計</td>\n",
              "      <td>発電所数</td>\n",
              "      <td>...</td>\n",
              "      <td>発電所数</td>\n",
              "      <td>最大出力計</td>\n",
              "      <td>発電所数</td>\n",
              "      <td>最大出力計</td>\n",
              "      <td>発電所数</td>\n",
              "      <td>最大出力計</td>\n",
              "      <td>発電所数</td>\n",
              "      <td>最大出力計</td>\n",
              "      <td>発電所数</td>\n",
              "      <td>最大出力計</td>\n",
              "    </tr>\n",
              "    <tr>\n",
              "      <th>3</th>\n",
              "      <td>北海道</td>\n",
              "      <td>98</td>\n",
              "      <td>2032077.6</td>\n",
              "      <td>32</td>\n",
              "      <td>6176880</td>\n",
              "      <td>1</td>\n",
              "      <td>2070000</td>\n",
              "      <td>56</td>\n",
              "      <td>428134</td>\n",
              "      <td>127</td>\n",
              "      <td>...</td>\n",
              "      <td>3</td>\n",
              "      <td>96650</td>\n",
              "      <td>3</td>\n",
              "      <td>49920</td>\n",
              "      <td>184</td>\n",
              "      <td>1128885.1</td>\n",
              "      <td>0</td>\n",
              "      <td>0</td>\n",
              "      <td>315</td>\n",
              "      <td>11407842.7</td>\n",
              "    </tr>\n",
              "    <tr>\n",
              "      <th>4</th>\n",
              "      <td>青森県</td>\n",
              "      <td>19</td>\n",
              "      <td>128750</td>\n",
              "      <td>10</td>\n",
              "      <td>655750</td>\n",
              "      <td>1</td>\n",
              "      <td>1100000</td>\n",
              "      <td>24</td>\n",
              "      <td>593870</td>\n",
              "      <td>35</td>\n",
              "      <td>...</td>\n",
              "      <td>4</td>\n",
              "      <td>134850</td>\n",
              "      <td>1</td>\n",
              "      <td>18800</td>\n",
              "      <td>59</td>\n",
              "      <td>993867</td>\n",
              "      <td>0</td>\n",
              "      <td>0</td>\n",
              "      <td>89</td>\n",
              "      <td>2878367</td>\n",
              "    </tr>\n",
              "  </tbody>\n",
              "</table>\n",
              "<p>5 rows × 23 columns</p>\n",
              "</div>\n",
              "      <button class=\"colab-df-convert\" onclick=\"convertToInteractive('df-9c9aa243-2c63-4bac-b236-f213c1b0d151')\"\n",
              "              title=\"Convert this dataframe to an interactive table.\"\n",
              "              style=\"display:none;\">\n",
              "        \n",
              "  <svg xmlns=\"http://www.w3.org/2000/svg\" height=\"24px\"viewBox=\"0 0 24 24\"\n",
              "       width=\"24px\">\n",
              "    <path d=\"M0 0h24v24H0V0z\" fill=\"none\"/>\n",
              "    <path d=\"M18.56 5.44l.94 2.06.94-2.06 2.06-.94-2.06-.94-.94-2.06-.94 2.06-2.06.94zm-11 1L8.5 8.5l.94-2.06 2.06-.94-2.06-.94L8.5 2.5l-.94 2.06-2.06.94zm10 10l.94 2.06.94-2.06 2.06-.94-2.06-.94-.94-2.06-.94 2.06-2.06.94z\"/><path d=\"M17.41 7.96l-1.37-1.37c-.4-.4-.92-.59-1.43-.59-.52 0-1.04.2-1.43.59L10.3 9.45l-7.72 7.72c-.78.78-.78 2.05 0 2.83L4 21.41c.39.39.9.59 1.41.59.51 0 1.02-.2 1.41-.59l7.78-7.78 2.81-2.81c.8-.78.8-2.07 0-2.86zM5.41 20L4 18.59l7.72-7.72 1.47 1.35L5.41 20z\"/>\n",
              "  </svg>\n",
              "      </button>\n",
              "      \n",
              "  <style>\n",
              "    .colab-df-container {\n",
              "      display:flex;\n",
              "      flex-wrap:wrap;\n",
              "      gap: 12px;\n",
              "    }\n",
              "\n",
              "    .colab-df-convert {\n",
              "      background-color: #E8F0FE;\n",
              "      border: none;\n",
              "      border-radius: 50%;\n",
              "      cursor: pointer;\n",
              "      display: none;\n",
              "      fill: #1967D2;\n",
              "      height: 32px;\n",
              "      padding: 0 0 0 0;\n",
              "      width: 32px;\n",
              "    }\n",
              "\n",
              "    .colab-df-convert:hover {\n",
              "      background-color: #E2EBFA;\n",
              "      box-shadow: 0px 1px 2px rgba(60, 64, 67, 0.3), 0px 1px 3px 1px rgba(60, 64, 67, 0.15);\n",
              "      fill: #174EA6;\n",
              "    }\n",
              "\n",
              "    [theme=dark] .colab-df-convert {\n",
              "      background-color: #3B4455;\n",
              "      fill: #D2E3FC;\n",
              "    }\n",
              "\n",
              "    [theme=dark] .colab-df-convert:hover {\n",
              "      background-color: #434B5C;\n",
              "      box-shadow: 0px 1px 3px 1px rgba(0, 0, 0, 0.15);\n",
              "      filter: drop-shadow(0px 1px 2px rgba(0, 0, 0, 0.3));\n",
              "      fill: #FFFFFF;\n",
              "    }\n",
              "  </style>\n",
              "\n",
              "      <script>\n",
              "        const buttonEl =\n",
              "          document.querySelector('#df-9c9aa243-2c63-4bac-b236-f213c1b0d151 button.colab-df-convert');\n",
              "        buttonEl.style.display =\n",
              "          google.colab.kernel.accessAllowed ? 'block' : 'none';\n",
              "\n",
              "        async function convertToInteractive(key) {\n",
              "          const element = document.querySelector('#df-9c9aa243-2c63-4bac-b236-f213c1b0d151');\n",
              "          const dataTable =\n",
              "            await google.colab.kernel.invokeFunction('convertToInteractive',\n",
              "                                                     [key], {});\n",
              "          if (!dataTable) return;\n",
              "\n",
              "          const docLinkHtml = 'Like what you see? Visit the ' +\n",
              "            '<a target=\"_blank\" href=https://colab.research.google.com/notebooks/data_table.ipynb>data table notebook</a>'\n",
              "            + ' to learn more about interactive tables.';\n",
              "          element.innerHTML = '';\n",
              "          dataTable['output_type'] = 'display_data';\n",
              "          await google.colab.output.renderOutput(dataTable, element);\n",
              "          const docLink = document.createElement('div');\n",
              "          docLink.innerHTML = docLinkHtml;\n",
              "          element.appendChild(docLink);\n",
              "        }\n",
              "      </script>\n",
              "    </div>\n",
              "  </div>\n",
              "  "
            ]
          },
          "metadata": {},
          "execution_count": 5
        }
      ]
    },
    {
      "cell_type": "code",
      "source": [
        "data.tail()"
      ],
      "metadata": {
        "colab": {
          "base_uri": "https://localhost:8080/",
          "height": 924
        },
        "id": "k5DyMc_PRE7U",
        "outputId": "a71e7c7a-a681-4002-8f4b-4f55ef0f35c8"
      },
      "execution_count": 6,
      "outputs": [
        {
          "output_type": "execute_result",
          "data": {
            "text/plain": [
              "   １－（２）．都道府県別発電所数、出力数　（２０２０年４月）  \\\n",
              "49                           沖縄県   \n",
              "50                           合　計   \n",
              "51                           NaN   \n",
              "52                         　備考     \n",
              "53                           NaN   \n",
              "\n",
              "                                           Unnamed: 1  Unnamed: 2 Unnamed: 3  \\\n",
              "49                                                  0           0         26   \n",
              "50                                               1748  49638035.6        461   \n",
              "51                                                NaN         NaN        NaN   \n",
              "52  １　バイオマスまたは廃棄物の欄には、専ら又は主として使用する燃料がバイオマス又は廃棄物の場合...         NaN        NaN   \n",
              "53  ２　一つの発電所内に複数の発電機が存在し、電源種別が異なる場合には、発電所数は最大出力が最大...         NaN        NaN   \n",
              "\n",
              "   Unnamed: 4 Unnamed: 5 Unnamed: 6 Unnamed: 7 Unnamed: 8 Unnamed: 9  ...  \\\n",
              "49    2470080          0          0         13      18130          1  ...   \n",
              "50  169249967         15   33083000        315  3647239.2       2562  ...   \n",
              "51        NaN        NaN        NaN        NaN        NaN        NaN  ...   \n",
              "52        NaN        NaN        NaN        NaN        NaN        NaN  ...   \n",
              "53        NaN        NaN        NaN        NaN        NaN        NaN  ...   \n",
              "\n",
              "   Unnamed: 13 Unnamed: 14 Unnamed: 15 Unnamed: 16 Unnamed: 17 Unnamed: 18  \\\n",
              "49           0           0           0           0          14       30130   \n",
              "50          78     2483852          61      971126        2893  14865055.2   \n",
              "51         NaN         NaN         NaN         NaN         NaN         NaN   \n",
              "52         NaN         NaN         NaN         NaN         NaN         NaN   \n",
              "53         NaN         NaN         NaN         NaN         NaN         NaN   \n",
              "\n",
              "   Unnamed: 19 ２０２０年　８月３日公表時点 Unnamed: 21      （単位：kW）  \n",
              "49           0              0          40      2500210  \n",
              "50           2          42910        5119  266878967.8  \n",
              "51         NaN            NaN         NaN          NaN  \n",
              "52         NaN            NaN         NaN          NaN  \n",
              "53         NaN            NaN         NaN          NaN  \n",
              "\n",
              "[5 rows x 23 columns]"
            ],
            "text/html": [
              "\n",
              "  <div id=\"df-7b9a323a-753a-4a95-9142-cbdd8ead565a\">\n",
              "    <div class=\"colab-df-container\">\n",
              "      <div>\n",
              "<style scoped>\n",
              "    .dataframe tbody tr th:only-of-type {\n",
              "        vertical-align: middle;\n",
              "    }\n",
              "\n",
              "    .dataframe tbody tr th {\n",
              "        vertical-align: top;\n",
              "    }\n",
              "\n",
              "    .dataframe thead th {\n",
              "        text-align: right;\n",
              "    }\n",
              "</style>\n",
              "<table border=\"1\" class=\"dataframe\">\n",
              "  <thead>\n",
              "    <tr style=\"text-align: right;\">\n",
              "      <th></th>\n",
              "      <th>１－（２）．都道府県別発電所数、出力数　（２０２０年４月）</th>\n",
              "      <th>Unnamed: 1</th>\n",
              "      <th>Unnamed: 2</th>\n",
              "      <th>Unnamed: 3</th>\n",
              "      <th>Unnamed: 4</th>\n",
              "      <th>Unnamed: 5</th>\n",
              "      <th>Unnamed: 6</th>\n",
              "      <th>Unnamed: 7</th>\n",
              "      <th>Unnamed: 8</th>\n",
              "      <th>Unnamed: 9</th>\n",
              "      <th>...</th>\n",
              "      <th>Unnamed: 13</th>\n",
              "      <th>Unnamed: 14</th>\n",
              "      <th>Unnamed: 15</th>\n",
              "      <th>Unnamed: 16</th>\n",
              "      <th>Unnamed: 17</th>\n",
              "      <th>Unnamed: 18</th>\n",
              "      <th>Unnamed: 19</th>\n",
              "      <th>２０２０年　８月３日公表時点</th>\n",
              "      <th>Unnamed: 21</th>\n",
              "      <th>（単位：kW）</th>\n",
              "    </tr>\n",
              "  </thead>\n",
              "  <tbody>\n",
              "    <tr>\n",
              "      <th>49</th>\n",
              "      <td>沖縄県</td>\n",
              "      <td>0</td>\n",
              "      <td>0</td>\n",
              "      <td>26</td>\n",
              "      <td>2470080</td>\n",
              "      <td>0</td>\n",
              "      <td>0</td>\n",
              "      <td>13</td>\n",
              "      <td>18130</td>\n",
              "      <td>1</td>\n",
              "      <td>...</td>\n",
              "      <td>0</td>\n",
              "      <td>0</td>\n",
              "      <td>0</td>\n",
              "      <td>0</td>\n",
              "      <td>14</td>\n",
              "      <td>30130</td>\n",
              "      <td>0</td>\n",
              "      <td>0</td>\n",
              "      <td>40</td>\n",
              "      <td>2500210</td>\n",
              "    </tr>\n",
              "    <tr>\n",
              "      <th>50</th>\n",
              "      <td>合　計</td>\n",
              "      <td>1748</td>\n",
              "      <td>49638035.6</td>\n",
              "      <td>461</td>\n",
              "      <td>169249967</td>\n",
              "      <td>15</td>\n",
              "      <td>33083000</td>\n",
              "      <td>315</td>\n",
              "      <td>3647239.2</td>\n",
              "      <td>2562</td>\n",
              "      <td>...</td>\n",
              "      <td>78</td>\n",
              "      <td>2483852</td>\n",
              "      <td>61</td>\n",
              "      <td>971126</td>\n",
              "      <td>2893</td>\n",
              "      <td>14865055.2</td>\n",
              "      <td>2</td>\n",
              "      <td>42910</td>\n",
              "      <td>5119</td>\n",
              "      <td>266878967.8</td>\n",
              "    </tr>\n",
              "    <tr>\n",
              "      <th>51</th>\n",
              "      <td>NaN</td>\n",
              "      <td>NaN</td>\n",
              "      <td>NaN</td>\n",
              "      <td>NaN</td>\n",
              "      <td>NaN</td>\n",
              "      <td>NaN</td>\n",
              "      <td>NaN</td>\n",
              "      <td>NaN</td>\n",
              "      <td>NaN</td>\n",
              "      <td>NaN</td>\n",
              "      <td>...</td>\n",
              "      <td>NaN</td>\n",
              "      <td>NaN</td>\n",
              "      <td>NaN</td>\n",
              "      <td>NaN</td>\n",
              "      <td>NaN</td>\n",
              "      <td>NaN</td>\n",
              "      <td>NaN</td>\n",
              "      <td>NaN</td>\n",
              "      <td>NaN</td>\n",
              "      <td>NaN</td>\n",
              "    </tr>\n",
              "    <tr>\n",
              "      <th>52</th>\n",
              "      <td>備考</td>\n",
              "      <td>１　バイオマスまたは廃棄物の欄には、専ら又は主として使用する燃料がバイオマス又は廃棄物の場合...</td>\n",
              "      <td>NaN</td>\n",
              "      <td>NaN</td>\n",
              "      <td>NaN</td>\n",
              "      <td>NaN</td>\n",
              "      <td>NaN</td>\n",
              "      <td>NaN</td>\n",
              "      <td>NaN</td>\n",
              "      <td>NaN</td>\n",
              "      <td>...</td>\n",
              "      <td>NaN</td>\n",
              "      <td>NaN</td>\n",
              "      <td>NaN</td>\n",
              "      <td>NaN</td>\n",
              "      <td>NaN</td>\n",
              "      <td>NaN</td>\n",
              "      <td>NaN</td>\n",
              "      <td>NaN</td>\n",
              "      <td>NaN</td>\n",
              "      <td>NaN</td>\n",
              "    </tr>\n",
              "    <tr>\n",
              "      <th>53</th>\n",
              "      <td>NaN</td>\n",
              "      <td>２　一つの発電所内に複数の発電機が存在し、電源種別が異なる場合には、発電所数は最大出力が最大...</td>\n",
              "      <td>NaN</td>\n",
              "      <td>NaN</td>\n",
              "      <td>NaN</td>\n",
              "      <td>NaN</td>\n",
              "      <td>NaN</td>\n",
              "      <td>NaN</td>\n",
              "      <td>NaN</td>\n",
              "      <td>NaN</td>\n",
              "      <td>...</td>\n",
              "      <td>NaN</td>\n",
              "      <td>NaN</td>\n",
              "      <td>NaN</td>\n",
              "      <td>NaN</td>\n",
              "      <td>NaN</td>\n",
              "      <td>NaN</td>\n",
              "      <td>NaN</td>\n",
              "      <td>NaN</td>\n",
              "      <td>NaN</td>\n",
              "      <td>NaN</td>\n",
              "    </tr>\n",
              "  </tbody>\n",
              "</table>\n",
              "<p>5 rows × 23 columns</p>\n",
              "</div>\n",
              "      <button class=\"colab-df-convert\" onclick=\"convertToInteractive('df-7b9a323a-753a-4a95-9142-cbdd8ead565a')\"\n",
              "              title=\"Convert this dataframe to an interactive table.\"\n",
              "              style=\"display:none;\">\n",
              "        \n",
              "  <svg xmlns=\"http://www.w3.org/2000/svg\" height=\"24px\"viewBox=\"0 0 24 24\"\n",
              "       width=\"24px\">\n",
              "    <path d=\"M0 0h24v24H0V0z\" fill=\"none\"/>\n",
              "    <path d=\"M18.56 5.44l.94 2.06.94-2.06 2.06-.94-2.06-.94-.94-2.06-.94 2.06-2.06.94zm-11 1L8.5 8.5l.94-2.06 2.06-.94-2.06-.94L8.5 2.5l-.94 2.06-2.06.94zm10 10l.94 2.06.94-2.06 2.06-.94-2.06-.94-.94-2.06-.94 2.06-2.06.94z\"/><path d=\"M17.41 7.96l-1.37-1.37c-.4-.4-.92-.59-1.43-.59-.52 0-1.04.2-1.43.59L10.3 9.45l-7.72 7.72c-.78.78-.78 2.05 0 2.83L4 21.41c.39.39.9.59 1.41.59.51 0 1.02-.2 1.41-.59l7.78-7.78 2.81-2.81c.8-.78.8-2.07 0-2.86zM5.41 20L4 18.59l7.72-7.72 1.47 1.35L5.41 20z\"/>\n",
              "  </svg>\n",
              "      </button>\n",
              "      \n",
              "  <style>\n",
              "    .colab-df-container {\n",
              "      display:flex;\n",
              "      flex-wrap:wrap;\n",
              "      gap: 12px;\n",
              "    }\n",
              "\n",
              "    .colab-df-convert {\n",
              "      background-color: #E8F0FE;\n",
              "      border: none;\n",
              "      border-radius: 50%;\n",
              "      cursor: pointer;\n",
              "      display: none;\n",
              "      fill: #1967D2;\n",
              "      height: 32px;\n",
              "      padding: 0 0 0 0;\n",
              "      width: 32px;\n",
              "    }\n",
              "\n",
              "    .colab-df-convert:hover {\n",
              "      background-color: #E2EBFA;\n",
              "      box-shadow: 0px 1px 2px rgba(60, 64, 67, 0.3), 0px 1px 3px 1px rgba(60, 64, 67, 0.15);\n",
              "      fill: #174EA6;\n",
              "    }\n",
              "\n",
              "    [theme=dark] .colab-df-convert {\n",
              "      background-color: #3B4455;\n",
              "      fill: #D2E3FC;\n",
              "    }\n",
              "\n",
              "    [theme=dark] .colab-df-convert:hover {\n",
              "      background-color: #434B5C;\n",
              "      box-shadow: 0px 1px 3px 1px rgba(0, 0, 0, 0.15);\n",
              "      filter: drop-shadow(0px 1px 2px rgba(0, 0, 0, 0.3));\n",
              "      fill: #FFFFFF;\n",
              "    }\n",
              "  </style>\n",
              "\n",
              "      <script>\n",
              "        const buttonEl =\n",
              "          document.querySelector('#df-7b9a323a-753a-4a95-9142-cbdd8ead565a button.colab-df-convert');\n",
              "        buttonEl.style.display =\n",
              "          google.colab.kernel.accessAllowed ? 'block' : 'none';\n",
              "\n",
              "        async function convertToInteractive(key) {\n",
              "          const element = document.querySelector('#df-7b9a323a-753a-4a95-9142-cbdd8ead565a');\n",
              "          const dataTable =\n",
              "            await google.colab.kernel.invokeFunction('convertToInteractive',\n",
              "                                                     [key], {});\n",
              "          if (!dataTable) return;\n",
              "\n",
              "          const docLinkHtml = 'Like what you see? Visit the ' +\n",
              "            '<a target=\"_blank\" href=https://colab.research.google.com/notebooks/data_table.ipynb>data table notebook</a>'\n",
              "            + ' to learn more about interactive tables.';\n",
              "          element.innerHTML = '';\n",
              "          dataTable['output_type'] = 'display_data';\n",
              "          await google.colab.output.renderOutput(dataTable, element);\n",
              "          const docLink = document.createElement('div');\n",
              "          docLink.innerHTML = docLinkHtml;\n",
              "          element.appendChild(docLink);\n",
              "        }\n",
              "      </script>\n",
              "    </div>\n",
              "  </div>\n",
              "  "
            ]
          },
          "metadata": {},
          "execution_count": 6
        }
      ]
    },
    {
      "cell_type": "code",
      "source": [
        "data=pd.read_excel('data/1-2-2020.xlsx',skiprows=4, header=None)\n",
        "data.head()"
      ],
      "metadata": {
        "colab": {
          "base_uri": "https://localhost:8080/",
          "height": 235
        },
        "id": "SZBGuSzBQzC1",
        "outputId": "a2396f04-bd25-4b0e-892e-b26169025d9f"
      },
      "execution_count": 7,
      "outputs": [
        {
          "output_type": "execute_result",
          "data": {
            "text/plain": [
              "    0   1          2     3          4    5          6     7         8      9   \\\n",
              "0  北海道  98  2032077.6  32.0  6176880.0  1.0  2070000.0  56.0  428134.0  127.0   \n",
              "1  青森県  19   128750.0  10.0   655750.0  1.0  1100000.0  24.0  593870.0   35.0   \n",
              "2  岩手県  40   274661.0   3.0   238000.0  0.0        0.0   5.0  109180.0   27.0   \n",
              "3  宮城県  22    63915.0  10.0  2211050.0  1.0  1650000.0   1.0   20400.0   75.0   \n",
              "4  秋田県  42   287863.0   4.0  2497550.0  0.0        0.0  24.0  422518.6   24.0   \n",
              "\n",
              "   ...   13        14   15       16     17         18   19   20     21  \\\n",
              "0  ...  3.0   96650.0  3.0  49920.0  184.0  1128885.1  0.0  0.0  315.0   \n",
              "1  ...  4.0  134850.0  1.0  18800.0   59.0   993867.0  0.0  0.0   89.0   \n",
              "2  ...  2.0   89000.0  0.0      0.0   34.0   451113.4  0.0  0.0   77.0   \n",
              "3  ...  0.0   12900.0  4.0  35850.0   76.0   454812.0  0.0  0.0  109.0   \n",
              "4  ...  1.0   20500.0  0.0  15000.0   51.0   627939.2  0.0  0.0   97.0   \n",
              "\n",
              "           22  \n",
              "0  11407842.7  \n",
              "1   2878367.0  \n",
              "2    963774.4  \n",
              "3   4379777.0  \n",
              "4   3413352.2  \n",
              "\n",
              "[5 rows x 23 columns]"
            ],
            "text/html": [
              "\n",
              "  <div id=\"df-0bd87eb3-28b7-4bda-9d74-a516743347eb\">\n",
              "    <div class=\"colab-df-container\">\n",
              "      <div>\n",
              "<style scoped>\n",
              "    .dataframe tbody tr th:only-of-type {\n",
              "        vertical-align: middle;\n",
              "    }\n",
              "\n",
              "    .dataframe tbody tr th {\n",
              "        vertical-align: top;\n",
              "    }\n",
              "\n",
              "    .dataframe thead th {\n",
              "        text-align: right;\n",
              "    }\n",
              "</style>\n",
              "<table border=\"1\" class=\"dataframe\">\n",
              "  <thead>\n",
              "    <tr style=\"text-align: right;\">\n",
              "      <th></th>\n",
              "      <th>0</th>\n",
              "      <th>1</th>\n",
              "      <th>2</th>\n",
              "      <th>3</th>\n",
              "      <th>4</th>\n",
              "      <th>5</th>\n",
              "      <th>6</th>\n",
              "      <th>7</th>\n",
              "      <th>8</th>\n",
              "      <th>9</th>\n",
              "      <th>...</th>\n",
              "      <th>13</th>\n",
              "      <th>14</th>\n",
              "      <th>15</th>\n",
              "      <th>16</th>\n",
              "      <th>17</th>\n",
              "      <th>18</th>\n",
              "      <th>19</th>\n",
              "      <th>20</th>\n",
              "      <th>21</th>\n",
              "      <th>22</th>\n",
              "    </tr>\n",
              "  </thead>\n",
              "  <tbody>\n",
              "    <tr>\n",
              "      <th>0</th>\n",
              "      <td>北海道</td>\n",
              "      <td>98</td>\n",
              "      <td>2032077.6</td>\n",
              "      <td>32.0</td>\n",
              "      <td>6176880.0</td>\n",
              "      <td>1.0</td>\n",
              "      <td>2070000.0</td>\n",
              "      <td>56.0</td>\n",
              "      <td>428134.0</td>\n",
              "      <td>127.0</td>\n",
              "      <td>...</td>\n",
              "      <td>3.0</td>\n",
              "      <td>96650.0</td>\n",
              "      <td>3.0</td>\n",
              "      <td>49920.0</td>\n",
              "      <td>184.0</td>\n",
              "      <td>1128885.1</td>\n",
              "      <td>0.0</td>\n",
              "      <td>0.0</td>\n",
              "      <td>315.0</td>\n",
              "      <td>11407842.7</td>\n",
              "    </tr>\n",
              "    <tr>\n",
              "      <th>1</th>\n",
              "      <td>青森県</td>\n",
              "      <td>19</td>\n",
              "      <td>128750.0</td>\n",
              "      <td>10.0</td>\n",
              "      <td>655750.0</td>\n",
              "      <td>1.0</td>\n",
              "      <td>1100000.0</td>\n",
              "      <td>24.0</td>\n",
              "      <td>593870.0</td>\n",
              "      <td>35.0</td>\n",
              "      <td>...</td>\n",
              "      <td>4.0</td>\n",
              "      <td>134850.0</td>\n",
              "      <td>1.0</td>\n",
              "      <td>18800.0</td>\n",
              "      <td>59.0</td>\n",
              "      <td>993867.0</td>\n",
              "      <td>0.0</td>\n",
              "      <td>0.0</td>\n",
              "      <td>89.0</td>\n",
              "      <td>2878367.0</td>\n",
              "    </tr>\n",
              "    <tr>\n",
              "      <th>2</th>\n",
              "      <td>岩手県</td>\n",
              "      <td>40</td>\n",
              "      <td>274661.0</td>\n",
              "      <td>3.0</td>\n",
              "      <td>238000.0</td>\n",
              "      <td>0.0</td>\n",
              "      <td>0.0</td>\n",
              "      <td>5.0</td>\n",
              "      <td>109180.0</td>\n",
              "      <td>27.0</td>\n",
              "      <td>...</td>\n",
              "      <td>2.0</td>\n",
              "      <td>89000.0</td>\n",
              "      <td>0.0</td>\n",
              "      <td>0.0</td>\n",
              "      <td>34.0</td>\n",
              "      <td>451113.4</td>\n",
              "      <td>0.0</td>\n",
              "      <td>0.0</td>\n",
              "      <td>77.0</td>\n",
              "      <td>963774.4</td>\n",
              "    </tr>\n",
              "    <tr>\n",
              "      <th>3</th>\n",
              "      <td>宮城県</td>\n",
              "      <td>22</td>\n",
              "      <td>63915.0</td>\n",
              "      <td>10.0</td>\n",
              "      <td>2211050.0</td>\n",
              "      <td>1.0</td>\n",
              "      <td>1650000.0</td>\n",
              "      <td>1.0</td>\n",
              "      <td>20400.0</td>\n",
              "      <td>75.0</td>\n",
              "      <td>...</td>\n",
              "      <td>0.0</td>\n",
              "      <td>12900.0</td>\n",
              "      <td>4.0</td>\n",
              "      <td>35850.0</td>\n",
              "      <td>76.0</td>\n",
              "      <td>454812.0</td>\n",
              "      <td>0.0</td>\n",
              "      <td>0.0</td>\n",
              "      <td>109.0</td>\n",
              "      <td>4379777.0</td>\n",
              "    </tr>\n",
              "    <tr>\n",
              "      <th>4</th>\n",
              "      <td>秋田県</td>\n",
              "      <td>42</td>\n",
              "      <td>287863.0</td>\n",
              "      <td>4.0</td>\n",
              "      <td>2497550.0</td>\n",
              "      <td>0.0</td>\n",
              "      <td>0.0</td>\n",
              "      <td>24.0</td>\n",
              "      <td>422518.6</td>\n",
              "      <td>24.0</td>\n",
              "      <td>...</td>\n",
              "      <td>1.0</td>\n",
              "      <td>20500.0</td>\n",
              "      <td>0.0</td>\n",
              "      <td>15000.0</td>\n",
              "      <td>51.0</td>\n",
              "      <td>627939.2</td>\n",
              "      <td>0.0</td>\n",
              "      <td>0.0</td>\n",
              "      <td>97.0</td>\n",
              "      <td>3413352.2</td>\n",
              "    </tr>\n",
              "  </tbody>\n",
              "</table>\n",
              "<p>5 rows × 23 columns</p>\n",
              "</div>\n",
              "      <button class=\"colab-df-convert\" onclick=\"convertToInteractive('df-0bd87eb3-28b7-4bda-9d74-a516743347eb')\"\n",
              "              title=\"Convert this dataframe to an interactive table.\"\n",
              "              style=\"display:none;\">\n",
              "        \n",
              "  <svg xmlns=\"http://www.w3.org/2000/svg\" height=\"24px\"viewBox=\"0 0 24 24\"\n",
              "       width=\"24px\">\n",
              "    <path d=\"M0 0h24v24H0V0z\" fill=\"none\"/>\n",
              "    <path d=\"M18.56 5.44l.94 2.06.94-2.06 2.06-.94-2.06-.94-.94-2.06-.94 2.06-2.06.94zm-11 1L8.5 8.5l.94-2.06 2.06-.94-2.06-.94L8.5 2.5l-.94 2.06-2.06.94zm10 10l.94 2.06.94-2.06 2.06-.94-2.06-.94-.94-2.06-.94 2.06-2.06.94z\"/><path d=\"M17.41 7.96l-1.37-1.37c-.4-.4-.92-.59-1.43-.59-.52 0-1.04.2-1.43.59L10.3 9.45l-7.72 7.72c-.78.78-.78 2.05 0 2.83L4 21.41c.39.39.9.59 1.41.59.51 0 1.02-.2 1.41-.59l7.78-7.78 2.81-2.81c.8-.78.8-2.07 0-2.86zM5.41 20L4 18.59l7.72-7.72 1.47 1.35L5.41 20z\"/>\n",
              "  </svg>\n",
              "      </button>\n",
              "      \n",
              "  <style>\n",
              "    .colab-df-container {\n",
              "      display:flex;\n",
              "      flex-wrap:wrap;\n",
              "      gap: 12px;\n",
              "    }\n",
              "\n",
              "    .colab-df-convert {\n",
              "      background-color: #E8F0FE;\n",
              "      border: none;\n",
              "      border-radius: 50%;\n",
              "      cursor: pointer;\n",
              "      display: none;\n",
              "      fill: #1967D2;\n",
              "      height: 32px;\n",
              "      padding: 0 0 0 0;\n",
              "      width: 32px;\n",
              "    }\n",
              "\n",
              "    .colab-df-convert:hover {\n",
              "      background-color: #E2EBFA;\n",
              "      box-shadow: 0px 1px 2px rgba(60, 64, 67, 0.3), 0px 1px 3px 1px rgba(60, 64, 67, 0.15);\n",
              "      fill: #174EA6;\n",
              "    }\n",
              "\n",
              "    [theme=dark] .colab-df-convert {\n",
              "      background-color: #3B4455;\n",
              "      fill: #D2E3FC;\n",
              "    }\n",
              "\n",
              "    [theme=dark] .colab-df-convert:hover {\n",
              "      background-color: #434B5C;\n",
              "      box-shadow: 0px 1px 3px 1px rgba(0, 0, 0, 0.15);\n",
              "      filter: drop-shadow(0px 1px 2px rgba(0, 0, 0, 0.3));\n",
              "      fill: #FFFFFF;\n",
              "    }\n",
              "  </style>\n",
              "\n",
              "      <script>\n",
              "        const buttonEl =\n",
              "          document.querySelector('#df-0bd87eb3-28b7-4bda-9d74-a516743347eb button.colab-df-convert');\n",
              "        buttonEl.style.display =\n",
              "          google.colab.kernel.accessAllowed ? 'block' : 'none';\n",
              "\n",
              "        async function convertToInteractive(key) {\n",
              "          const element = document.querySelector('#df-0bd87eb3-28b7-4bda-9d74-a516743347eb');\n",
              "          const dataTable =\n",
              "            await google.colab.kernel.invokeFunction('convertToInteractive',\n",
              "                                                     [key], {});\n",
              "          if (!dataTable) return;\n",
              "\n",
              "          const docLinkHtml = 'Like what you see? Visit the ' +\n",
              "            '<a target=\"_blank\" href=https://colab.research.google.com/notebooks/data_table.ipynb>data table notebook</a>'\n",
              "            + ' to learn more about interactive tables.';\n",
              "          element.innerHTML = '';\n",
              "          dataTable['output_type'] = 'display_data';\n",
              "          await google.colab.output.renderOutput(dataTable, element);\n",
              "          const docLink = document.createElement('div');\n",
              "          docLink.innerHTML = docLinkHtml;\n",
              "          element.appendChild(docLink);\n",
              "        }\n",
              "      </script>\n",
              "    </div>\n",
              "  </div>\n",
              "  "
            ]
          },
          "metadata": {},
          "execution_count": 7
        }
      ]
    },
    {
      "cell_type": "code",
      "metadata": {
        "id": "QkP4J0i5wuUQ",
        "colab": {
          "base_uri": "https://localhost:8080/",
          "height": 279
        },
        "outputId": "ba17e90e-e90c-43d7-cb64-776182d15bd4"
      },
      "source": [
        "data.drop(data.tail(4).index, inplace=True)\n",
        "data.tail()"
      ],
      "execution_count": 8,
      "outputs": [
        {
          "output_type": "execute_result",
          "data": {
            "text/plain": [
              "      0   1          2     3          4    5          6     7         8   \\\n",
              "42   熊本県  49   803395.0   5.0  1562280.0  0.0        0.0   2.0   26000.0   \n",
              "43   大分県  38   300520.0   9.0  4111600.0  0.0        0.0   1.0   11000.0   \n",
              "44   宮崎県  48  2158730.0   4.0   204940.0  0.0        0.0   1.0   16000.0   \n",
              "45  鹿児島県  35   195808.0  30.0  1307600.0  1.0  1780000.0  18.0  225470.0   \n",
              "46   沖縄県   0        0.0  26.0  2470080.0  0.0        0.0  13.0   18130.0   \n",
              "\n",
              "       9   ...   13        14   15       16     17        18   19   20     21  \\\n",
              "42   81.0  ...  1.0   76780.0  2.0  10500.0   83.0  258540.0  0.0  0.0  137.0   \n",
              "43   53.0  ...  4.0  118200.0  0.0      0.0   60.0  558694.6  0.0  0.0  107.0   \n",
              "44   35.0  ...  3.0   76700.0  0.0      0.0   36.0  264774.5  0.0  0.0   88.0   \n",
              "45  143.0  ...  2.0   72700.0  0.0      0.0  164.0  877953.0  0.0  0.0  230.0   \n",
              "46    1.0  ...  0.0       0.0  0.0      0.0   14.0   30130.0  0.0  0.0   40.0   \n",
              "\n",
              "           22  \n",
              "42  2624215.0  \n",
              "43  4970814.6  \n",
              "44  2628444.5  \n",
              "45  4161361.0  \n",
              "46  2500210.0  \n",
              "\n",
              "[5 rows x 23 columns]"
            ],
            "text/html": [
              "\n",
              "  <div id=\"df-58f02324-a723-408b-a6ff-2faa7e898c1e\">\n",
              "    <div class=\"colab-df-container\">\n",
              "      <div>\n",
              "<style scoped>\n",
              "    .dataframe tbody tr th:only-of-type {\n",
              "        vertical-align: middle;\n",
              "    }\n",
              "\n",
              "    .dataframe tbody tr th {\n",
              "        vertical-align: top;\n",
              "    }\n",
              "\n",
              "    .dataframe thead th {\n",
              "        text-align: right;\n",
              "    }\n",
              "</style>\n",
              "<table border=\"1\" class=\"dataframe\">\n",
              "  <thead>\n",
              "    <tr style=\"text-align: right;\">\n",
              "      <th></th>\n",
              "      <th>0</th>\n",
              "      <th>1</th>\n",
              "      <th>2</th>\n",
              "      <th>3</th>\n",
              "      <th>4</th>\n",
              "      <th>5</th>\n",
              "      <th>6</th>\n",
              "      <th>7</th>\n",
              "      <th>8</th>\n",
              "      <th>9</th>\n",
              "      <th>...</th>\n",
              "      <th>13</th>\n",
              "      <th>14</th>\n",
              "      <th>15</th>\n",
              "      <th>16</th>\n",
              "      <th>17</th>\n",
              "      <th>18</th>\n",
              "      <th>19</th>\n",
              "      <th>20</th>\n",
              "      <th>21</th>\n",
              "      <th>22</th>\n",
              "    </tr>\n",
              "  </thead>\n",
              "  <tbody>\n",
              "    <tr>\n",
              "      <th>42</th>\n",
              "      <td>熊本県</td>\n",
              "      <td>49</td>\n",
              "      <td>803395.0</td>\n",
              "      <td>5.0</td>\n",
              "      <td>1562280.0</td>\n",
              "      <td>0.0</td>\n",
              "      <td>0.0</td>\n",
              "      <td>2.0</td>\n",
              "      <td>26000.0</td>\n",
              "      <td>81.0</td>\n",
              "      <td>...</td>\n",
              "      <td>1.0</td>\n",
              "      <td>76780.0</td>\n",
              "      <td>2.0</td>\n",
              "      <td>10500.0</td>\n",
              "      <td>83.0</td>\n",
              "      <td>258540.0</td>\n",
              "      <td>0.0</td>\n",
              "      <td>0.0</td>\n",
              "      <td>137.0</td>\n",
              "      <td>2624215.0</td>\n",
              "    </tr>\n",
              "    <tr>\n",
              "      <th>43</th>\n",
              "      <td>大分県</td>\n",
              "      <td>38</td>\n",
              "      <td>300520.0</td>\n",
              "      <td>9.0</td>\n",
              "      <td>4111600.0</td>\n",
              "      <td>0.0</td>\n",
              "      <td>0.0</td>\n",
              "      <td>1.0</td>\n",
              "      <td>11000.0</td>\n",
              "      <td>53.0</td>\n",
              "      <td>...</td>\n",
              "      <td>4.0</td>\n",
              "      <td>118200.0</td>\n",
              "      <td>0.0</td>\n",
              "      <td>0.0</td>\n",
              "      <td>60.0</td>\n",
              "      <td>558694.6</td>\n",
              "      <td>0.0</td>\n",
              "      <td>0.0</td>\n",
              "      <td>107.0</td>\n",
              "      <td>4970814.6</td>\n",
              "    </tr>\n",
              "    <tr>\n",
              "      <th>44</th>\n",
              "      <td>宮崎県</td>\n",
              "      <td>48</td>\n",
              "      <td>2158730.0</td>\n",
              "      <td>4.0</td>\n",
              "      <td>204940.0</td>\n",
              "      <td>0.0</td>\n",
              "      <td>0.0</td>\n",
              "      <td>1.0</td>\n",
              "      <td>16000.0</td>\n",
              "      <td>35.0</td>\n",
              "      <td>...</td>\n",
              "      <td>3.0</td>\n",
              "      <td>76700.0</td>\n",
              "      <td>0.0</td>\n",
              "      <td>0.0</td>\n",
              "      <td>36.0</td>\n",
              "      <td>264774.5</td>\n",
              "      <td>0.0</td>\n",
              "      <td>0.0</td>\n",
              "      <td>88.0</td>\n",
              "      <td>2628444.5</td>\n",
              "    </tr>\n",
              "    <tr>\n",
              "      <th>45</th>\n",
              "      <td>鹿児島県</td>\n",
              "      <td>35</td>\n",
              "      <td>195808.0</td>\n",
              "      <td>30.0</td>\n",
              "      <td>1307600.0</td>\n",
              "      <td>1.0</td>\n",
              "      <td>1780000.0</td>\n",
              "      <td>18.0</td>\n",
              "      <td>225470.0</td>\n",
              "      <td>143.0</td>\n",
              "      <td>...</td>\n",
              "      <td>2.0</td>\n",
              "      <td>72700.0</td>\n",
              "      <td>0.0</td>\n",
              "      <td>0.0</td>\n",
              "      <td>164.0</td>\n",
              "      <td>877953.0</td>\n",
              "      <td>0.0</td>\n",
              "      <td>0.0</td>\n",
              "      <td>230.0</td>\n",
              "      <td>4161361.0</td>\n",
              "    </tr>\n",
              "    <tr>\n",
              "      <th>46</th>\n",
              "      <td>沖縄県</td>\n",
              "      <td>0</td>\n",
              "      <td>0.0</td>\n",
              "      <td>26.0</td>\n",
              "      <td>2470080.0</td>\n",
              "      <td>0.0</td>\n",
              "      <td>0.0</td>\n",
              "      <td>13.0</td>\n",
              "      <td>18130.0</td>\n",
              "      <td>1.0</td>\n",
              "      <td>...</td>\n",
              "      <td>0.0</td>\n",
              "      <td>0.0</td>\n",
              "      <td>0.0</td>\n",
              "      <td>0.0</td>\n",
              "      <td>14.0</td>\n",
              "      <td>30130.0</td>\n",
              "      <td>0.0</td>\n",
              "      <td>0.0</td>\n",
              "      <td>40.0</td>\n",
              "      <td>2500210.0</td>\n",
              "    </tr>\n",
              "  </tbody>\n",
              "</table>\n",
              "<p>5 rows × 23 columns</p>\n",
              "</div>\n",
              "      <button class=\"colab-df-convert\" onclick=\"convertToInteractive('df-58f02324-a723-408b-a6ff-2faa7e898c1e')\"\n",
              "              title=\"Convert this dataframe to an interactive table.\"\n",
              "              style=\"display:none;\">\n",
              "        \n",
              "  <svg xmlns=\"http://www.w3.org/2000/svg\" height=\"24px\"viewBox=\"0 0 24 24\"\n",
              "       width=\"24px\">\n",
              "    <path d=\"M0 0h24v24H0V0z\" fill=\"none\"/>\n",
              "    <path d=\"M18.56 5.44l.94 2.06.94-2.06 2.06-.94-2.06-.94-.94-2.06-.94 2.06-2.06.94zm-11 1L8.5 8.5l.94-2.06 2.06-.94-2.06-.94L8.5 2.5l-.94 2.06-2.06.94zm10 10l.94 2.06.94-2.06 2.06-.94-2.06-.94-.94-2.06-.94 2.06-2.06.94z\"/><path d=\"M17.41 7.96l-1.37-1.37c-.4-.4-.92-.59-1.43-.59-.52 0-1.04.2-1.43.59L10.3 9.45l-7.72 7.72c-.78.78-.78 2.05 0 2.83L4 21.41c.39.39.9.59 1.41.59.51 0 1.02-.2 1.41-.59l7.78-7.78 2.81-2.81c.8-.78.8-2.07 0-2.86zM5.41 20L4 18.59l7.72-7.72 1.47 1.35L5.41 20z\"/>\n",
              "  </svg>\n",
              "      </button>\n",
              "      \n",
              "  <style>\n",
              "    .colab-df-container {\n",
              "      display:flex;\n",
              "      flex-wrap:wrap;\n",
              "      gap: 12px;\n",
              "    }\n",
              "\n",
              "    .colab-df-convert {\n",
              "      background-color: #E8F0FE;\n",
              "      border: none;\n",
              "      border-radius: 50%;\n",
              "      cursor: pointer;\n",
              "      display: none;\n",
              "      fill: #1967D2;\n",
              "      height: 32px;\n",
              "      padding: 0 0 0 0;\n",
              "      width: 32px;\n",
              "    }\n",
              "\n",
              "    .colab-df-convert:hover {\n",
              "      background-color: #E2EBFA;\n",
              "      box-shadow: 0px 1px 2px rgba(60, 64, 67, 0.3), 0px 1px 3px 1px rgba(60, 64, 67, 0.15);\n",
              "      fill: #174EA6;\n",
              "    }\n",
              "\n",
              "    [theme=dark] .colab-df-convert {\n",
              "      background-color: #3B4455;\n",
              "      fill: #D2E3FC;\n",
              "    }\n",
              "\n",
              "    [theme=dark] .colab-df-convert:hover {\n",
              "      background-color: #434B5C;\n",
              "      box-shadow: 0px 1px 3px 1px rgba(0, 0, 0, 0.15);\n",
              "      filter: drop-shadow(0px 1px 2px rgba(0, 0, 0, 0.3));\n",
              "      fill: #FFFFFF;\n",
              "    }\n",
              "  </style>\n",
              "\n",
              "      <script>\n",
              "        const buttonEl =\n",
              "          document.querySelector('#df-58f02324-a723-408b-a6ff-2faa7e898c1e button.colab-df-convert');\n",
              "        buttonEl.style.display =\n",
              "          google.colab.kernel.accessAllowed ? 'block' : 'none';\n",
              "\n",
              "        async function convertToInteractive(key) {\n",
              "          const element = document.querySelector('#df-58f02324-a723-408b-a6ff-2faa7e898c1e');\n",
              "          const dataTable =\n",
              "            await google.colab.kernel.invokeFunction('convertToInteractive',\n",
              "                                                     [key], {});\n",
              "          if (!dataTable) return;\n",
              "\n",
              "          const docLinkHtml = 'Like what you see? Visit the ' +\n",
              "            '<a target=\"_blank\" href=https://colab.research.google.com/notebooks/data_table.ipynb>data table notebook</a>'\n",
              "            + ' to learn more about interactive tables.';\n",
              "          element.innerHTML = '';\n",
              "          dataTable['output_type'] = 'display_data';\n",
              "          await google.colab.output.renderOutput(dataTable, element);\n",
              "          const docLink = document.createElement('div');\n",
              "          docLink.innerHTML = docLinkHtml;\n",
              "          element.appendChild(docLink);\n",
              "        }\n",
              "      </script>\n",
              "    </div>\n",
              "  </div>\n",
              "  "
            ]
          },
          "metadata": {},
          "execution_count": 8
        }
      ]
    },
    {
      "cell_type": "code",
      "source": [
        "col_data = pd.read_excel('data/1-2-2020.xlsx',skiprows=1,header=None)\n",
        "col_data=col_data.head(3)\n",
        "col_data"
      ],
      "metadata": {
        "colab": {
          "base_uri": "https://localhost:8080/",
          "height": 269
        },
        "id": "TkOuZHqlstXq",
        "outputId": "b878a8ea-1356-4092-d889-6d966629709d"
      },
      "execution_count": 10,
      "outputs": [
        {
          "output_type": "execute_result",
          "data": {
            "text/plain": [
              "     0      1      2      3      4       5      6           7      8     9   \\\n",
              "0  都道府県  水力発電所    NaN  火力発電所    NaN  原子力発電所    NaN  新エネルギー等発電所    NaN   NaN   \n",
              "1   NaN    NaN    NaN    NaN    NaN     NaN    NaN          風力    NaN   太陽光   \n",
              "2   NaN   発電所数  最大出力計   発電所数  最大出力計    発電所数  最大出力計        発電所数  最大出力計  発電所数   \n",
              "\n",
              "   ...       13     14     15     16    17     18    19     20    21     22  \n",
              "0  ...      NaN    NaN    NaN    NaN   NaN    NaN   その他    NaN    合計    NaN  \n",
              "1  ...  〔バイオマス〕    NaN  〔廃棄物〕    NaN     計    NaN   NaN    NaN   NaN    NaN  \n",
              "2  ...     発電所数  最大出力計   発電所数  最大出力計  発電所数  最大出力計  発電所数  最大出力計  発電所数  最大出力計  \n",
              "\n",
              "[3 rows x 23 columns]"
            ],
            "text/html": [
              "\n",
              "  <div id=\"df-4f7d59f2-d471-46ef-abec-5967e4461695\">\n",
              "    <div class=\"colab-df-container\">\n",
              "      <div>\n",
              "<style scoped>\n",
              "    .dataframe tbody tr th:only-of-type {\n",
              "        vertical-align: middle;\n",
              "    }\n",
              "\n",
              "    .dataframe tbody tr th {\n",
              "        vertical-align: top;\n",
              "    }\n",
              "\n",
              "    .dataframe thead th {\n",
              "        text-align: right;\n",
              "    }\n",
              "</style>\n",
              "<table border=\"1\" class=\"dataframe\">\n",
              "  <thead>\n",
              "    <tr style=\"text-align: right;\">\n",
              "      <th></th>\n",
              "      <th>0</th>\n",
              "      <th>1</th>\n",
              "      <th>2</th>\n",
              "      <th>3</th>\n",
              "      <th>4</th>\n",
              "      <th>5</th>\n",
              "      <th>6</th>\n",
              "      <th>7</th>\n",
              "      <th>8</th>\n",
              "      <th>9</th>\n",
              "      <th>...</th>\n",
              "      <th>13</th>\n",
              "      <th>14</th>\n",
              "      <th>15</th>\n",
              "      <th>16</th>\n",
              "      <th>17</th>\n",
              "      <th>18</th>\n",
              "      <th>19</th>\n",
              "      <th>20</th>\n",
              "      <th>21</th>\n",
              "      <th>22</th>\n",
              "    </tr>\n",
              "  </thead>\n",
              "  <tbody>\n",
              "    <tr>\n",
              "      <th>0</th>\n",
              "      <td>都道府県</td>\n",
              "      <td>水力発電所</td>\n",
              "      <td>NaN</td>\n",
              "      <td>火力発電所</td>\n",
              "      <td>NaN</td>\n",
              "      <td>原子力発電所</td>\n",
              "      <td>NaN</td>\n",
              "      <td>新エネルギー等発電所</td>\n",
              "      <td>NaN</td>\n",
              "      <td>NaN</td>\n",
              "      <td>...</td>\n",
              "      <td>NaN</td>\n",
              "      <td>NaN</td>\n",
              "      <td>NaN</td>\n",
              "      <td>NaN</td>\n",
              "      <td>NaN</td>\n",
              "      <td>NaN</td>\n",
              "      <td>その他</td>\n",
              "      <td>NaN</td>\n",
              "      <td>合計</td>\n",
              "      <td>NaN</td>\n",
              "    </tr>\n",
              "    <tr>\n",
              "      <th>1</th>\n",
              "      <td>NaN</td>\n",
              "      <td>NaN</td>\n",
              "      <td>NaN</td>\n",
              "      <td>NaN</td>\n",
              "      <td>NaN</td>\n",
              "      <td>NaN</td>\n",
              "      <td>NaN</td>\n",
              "      <td>風力</td>\n",
              "      <td>NaN</td>\n",
              "      <td>太陽光</td>\n",
              "      <td>...</td>\n",
              "      <td>〔バイオマス〕</td>\n",
              "      <td>NaN</td>\n",
              "      <td>〔廃棄物〕</td>\n",
              "      <td>NaN</td>\n",
              "      <td>計</td>\n",
              "      <td>NaN</td>\n",
              "      <td>NaN</td>\n",
              "      <td>NaN</td>\n",
              "      <td>NaN</td>\n",
              "      <td>NaN</td>\n",
              "    </tr>\n",
              "    <tr>\n",
              "      <th>2</th>\n",
              "      <td>NaN</td>\n",
              "      <td>発電所数</td>\n",
              "      <td>最大出力計</td>\n",
              "      <td>発電所数</td>\n",
              "      <td>最大出力計</td>\n",
              "      <td>発電所数</td>\n",
              "      <td>最大出力計</td>\n",
              "      <td>発電所数</td>\n",
              "      <td>最大出力計</td>\n",
              "      <td>発電所数</td>\n",
              "      <td>...</td>\n",
              "      <td>発電所数</td>\n",
              "      <td>最大出力計</td>\n",
              "      <td>発電所数</td>\n",
              "      <td>最大出力計</td>\n",
              "      <td>発電所数</td>\n",
              "      <td>最大出力計</td>\n",
              "      <td>発電所数</td>\n",
              "      <td>最大出力計</td>\n",
              "      <td>発電所数</td>\n",
              "      <td>最大出力計</td>\n",
              "    </tr>\n",
              "  </tbody>\n",
              "</table>\n",
              "<p>3 rows × 23 columns</p>\n",
              "</div>\n",
              "      <button class=\"colab-df-convert\" onclick=\"convertToInteractive('df-4f7d59f2-d471-46ef-abec-5967e4461695')\"\n",
              "              title=\"Convert this dataframe to an interactive table.\"\n",
              "              style=\"display:none;\">\n",
              "        \n",
              "  <svg xmlns=\"http://www.w3.org/2000/svg\" height=\"24px\"viewBox=\"0 0 24 24\"\n",
              "       width=\"24px\">\n",
              "    <path d=\"M0 0h24v24H0V0z\" fill=\"none\"/>\n",
              "    <path d=\"M18.56 5.44l.94 2.06.94-2.06 2.06-.94-2.06-.94-.94-2.06-.94 2.06-2.06.94zm-11 1L8.5 8.5l.94-2.06 2.06-.94-2.06-.94L8.5 2.5l-.94 2.06-2.06.94zm10 10l.94 2.06.94-2.06 2.06-.94-2.06-.94-.94-2.06-.94 2.06-2.06.94z\"/><path d=\"M17.41 7.96l-1.37-1.37c-.4-.4-.92-.59-1.43-.59-.52 0-1.04.2-1.43.59L10.3 9.45l-7.72 7.72c-.78.78-.78 2.05 0 2.83L4 21.41c.39.39.9.59 1.41.59.51 0 1.02-.2 1.41-.59l7.78-7.78 2.81-2.81c.8-.78.8-2.07 0-2.86zM5.41 20L4 18.59l7.72-7.72 1.47 1.35L5.41 20z\"/>\n",
              "  </svg>\n",
              "      </button>\n",
              "      \n",
              "  <style>\n",
              "    .colab-df-container {\n",
              "      display:flex;\n",
              "      flex-wrap:wrap;\n",
              "      gap: 12px;\n",
              "    }\n",
              "\n",
              "    .colab-df-convert {\n",
              "      background-color: #E8F0FE;\n",
              "      border: none;\n",
              "      border-radius: 50%;\n",
              "      cursor: pointer;\n",
              "      display: none;\n",
              "      fill: #1967D2;\n",
              "      height: 32px;\n",
              "      padding: 0 0 0 0;\n",
              "      width: 32px;\n",
              "    }\n",
              "\n",
              "    .colab-df-convert:hover {\n",
              "      background-color: #E2EBFA;\n",
              "      box-shadow: 0px 1px 2px rgba(60, 64, 67, 0.3), 0px 1px 3px 1px rgba(60, 64, 67, 0.15);\n",
              "      fill: #174EA6;\n",
              "    }\n",
              "\n",
              "    [theme=dark] .colab-df-convert {\n",
              "      background-color: #3B4455;\n",
              "      fill: #D2E3FC;\n",
              "    }\n",
              "\n",
              "    [theme=dark] .colab-df-convert:hover {\n",
              "      background-color: #434B5C;\n",
              "      box-shadow: 0px 1px 3px 1px rgba(0, 0, 0, 0.15);\n",
              "      filter: drop-shadow(0px 1px 2px rgba(0, 0, 0, 0.3));\n",
              "      fill: #FFFFFF;\n",
              "    }\n",
              "  </style>\n",
              "\n",
              "      <script>\n",
              "        const buttonEl =\n",
              "          document.querySelector('#df-4f7d59f2-d471-46ef-abec-5967e4461695 button.colab-df-convert');\n",
              "        buttonEl.style.display =\n",
              "          google.colab.kernel.accessAllowed ? 'block' : 'none';\n",
              "\n",
              "        async function convertToInteractive(key) {\n",
              "          const element = document.querySelector('#df-4f7d59f2-d471-46ef-abec-5967e4461695');\n",
              "          const dataTable =\n",
              "            await google.colab.kernel.invokeFunction('convertToInteractive',\n",
              "                                                     [key], {});\n",
              "          if (!dataTable) return;\n",
              "\n",
              "          const docLinkHtml = 'Like what you see? Visit the ' +\n",
              "            '<a target=\"_blank\" href=https://colab.research.google.com/notebooks/data_table.ipynb>data table notebook</a>'\n",
              "            + ' to learn more about interactive tables.';\n",
              "          element.innerHTML = '';\n",
              "          dataTable['output_type'] = 'display_data';\n",
              "          await google.colab.output.renderOutput(dataTable, element);\n",
              "          const docLink = document.createElement('div');\n",
              "          docLink.innerHTML = docLinkHtml;\n",
              "          element.appendChild(docLink);\n",
              "        }\n",
              "      </script>\n",
              "    </div>\n",
              "  </div>\n",
              "  "
            ]
          },
          "metadata": {},
          "execution_count": 10
        }
      ]
    },
    {
      "cell_type": "code",
      "source": [
        "col_data.iloc[1,1:].fillna(col_data.iloc[0,1:],inplace=True)\n",
        "col_data.iloc[1,1:]=col_data.iloc[1,1:].str.replace('発電所','')\n",
        "col_data"
      ],
      "metadata": {
        "colab": {
          "base_uri": "https://localhost:8080/",
          "height": 269
        },
        "id": "uuWZA_oJwY6o",
        "outputId": "eceda86a-f3f8-460d-d277-0e42449e8c57"
      },
      "execution_count": 11,
      "outputs": [
        {
          "output_type": "execute_result",
          "data": {
            "text/plain": [
              "     0      1      2      3      4       5      6           7      8     9   \\\n",
              "0  都道府県  水力発電所    NaN  火力発電所    NaN  原子力発電所    NaN  新エネルギー等発電所    NaN   NaN   \n",
              "1   NaN     水力    NaN     火力    NaN     原子力    NaN          風力    NaN   太陽光   \n",
              "2   NaN   発電所数  最大出力計   発電所数  最大出力計    発電所数  最大出力計        発電所数  最大出力計  発電所数   \n",
              "\n",
              "   ...       13     14     15     16    17     18    19     20    21     22  \n",
              "0  ...      NaN    NaN    NaN    NaN   NaN    NaN   その他    NaN    合計    NaN  \n",
              "1  ...  〔バイオマス〕    NaN  〔廃棄物〕    NaN     計    NaN   その他    NaN    合計    NaN  \n",
              "2  ...     発電所数  最大出力計   発電所数  最大出力計  発電所数  最大出力計  発電所数  最大出力計  発電所数  最大出力計  \n",
              "\n",
              "[3 rows x 23 columns]"
            ],
            "text/html": [
              "\n",
              "  <div id=\"df-74b0c83e-6bee-4d97-a4a4-0faa923f5698\">\n",
              "    <div class=\"colab-df-container\">\n",
              "      <div>\n",
              "<style scoped>\n",
              "    .dataframe tbody tr th:only-of-type {\n",
              "        vertical-align: middle;\n",
              "    }\n",
              "\n",
              "    .dataframe tbody tr th {\n",
              "        vertical-align: top;\n",
              "    }\n",
              "\n",
              "    .dataframe thead th {\n",
              "        text-align: right;\n",
              "    }\n",
              "</style>\n",
              "<table border=\"1\" class=\"dataframe\">\n",
              "  <thead>\n",
              "    <tr style=\"text-align: right;\">\n",
              "      <th></th>\n",
              "      <th>0</th>\n",
              "      <th>1</th>\n",
              "      <th>2</th>\n",
              "      <th>3</th>\n",
              "      <th>4</th>\n",
              "      <th>5</th>\n",
              "      <th>6</th>\n",
              "      <th>7</th>\n",
              "      <th>8</th>\n",
              "      <th>9</th>\n",
              "      <th>...</th>\n",
              "      <th>13</th>\n",
              "      <th>14</th>\n",
              "      <th>15</th>\n",
              "      <th>16</th>\n",
              "      <th>17</th>\n",
              "      <th>18</th>\n",
              "      <th>19</th>\n",
              "      <th>20</th>\n",
              "      <th>21</th>\n",
              "      <th>22</th>\n",
              "    </tr>\n",
              "  </thead>\n",
              "  <tbody>\n",
              "    <tr>\n",
              "      <th>0</th>\n",
              "      <td>都道府県</td>\n",
              "      <td>水力発電所</td>\n",
              "      <td>NaN</td>\n",
              "      <td>火力発電所</td>\n",
              "      <td>NaN</td>\n",
              "      <td>原子力発電所</td>\n",
              "      <td>NaN</td>\n",
              "      <td>新エネルギー等発電所</td>\n",
              "      <td>NaN</td>\n",
              "      <td>NaN</td>\n",
              "      <td>...</td>\n",
              "      <td>NaN</td>\n",
              "      <td>NaN</td>\n",
              "      <td>NaN</td>\n",
              "      <td>NaN</td>\n",
              "      <td>NaN</td>\n",
              "      <td>NaN</td>\n",
              "      <td>その他</td>\n",
              "      <td>NaN</td>\n",
              "      <td>合計</td>\n",
              "      <td>NaN</td>\n",
              "    </tr>\n",
              "    <tr>\n",
              "      <th>1</th>\n",
              "      <td>NaN</td>\n",
              "      <td>水力</td>\n",
              "      <td>NaN</td>\n",
              "      <td>火力</td>\n",
              "      <td>NaN</td>\n",
              "      <td>原子力</td>\n",
              "      <td>NaN</td>\n",
              "      <td>風力</td>\n",
              "      <td>NaN</td>\n",
              "      <td>太陽光</td>\n",
              "      <td>...</td>\n",
              "      <td>〔バイオマス〕</td>\n",
              "      <td>NaN</td>\n",
              "      <td>〔廃棄物〕</td>\n",
              "      <td>NaN</td>\n",
              "      <td>計</td>\n",
              "      <td>NaN</td>\n",
              "      <td>その他</td>\n",
              "      <td>NaN</td>\n",
              "      <td>合計</td>\n",
              "      <td>NaN</td>\n",
              "    </tr>\n",
              "    <tr>\n",
              "      <th>2</th>\n",
              "      <td>NaN</td>\n",
              "      <td>発電所数</td>\n",
              "      <td>最大出力計</td>\n",
              "      <td>発電所数</td>\n",
              "      <td>最大出力計</td>\n",
              "      <td>発電所数</td>\n",
              "      <td>最大出力計</td>\n",
              "      <td>発電所数</td>\n",
              "      <td>最大出力計</td>\n",
              "      <td>発電所数</td>\n",
              "      <td>...</td>\n",
              "      <td>発電所数</td>\n",
              "      <td>最大出力計</td>\n",
              "      <td>発電所数</td>\n",
              "      <td>最大出力計</td>\n",
              "      <td>発電所数</td>\n",
              "      <td>最大出力計</td>\n",
              "      <td>発電所数</td>\n",
              "      <td>最大出力計</td>\n",
              "      <td>発電所数</td>\n",
              "      <td>最大出力計</td>\n",
              "    </tr>\n",
              "  </tbody>\n",
              "</table>\n",
              "<p>3 rows × 23 columns</p>\n",
              "</div>\n",
              "      <button class=\"colab-df-convert\" onclick=\"convertToInteractive('df-74b0c83e-6bee-4d97-a4a4-0faa923f5698')\"\n",
              "              title=\"Convert this dataframe to an interactive table.\"\n",
              "              style=\"display:none;\">\n",
              "        \n",
              "  <svg xmlns=\"http://www.w3.org/2000/svg\" height=\"24px\"viewBox=\"0 0 24 24\"\n",
              "       width=\"24px\">\n",
              "    <path d=\"M0 0h24v24H0V0z\" fill=\"none\"/>\n",
              "    <path d=\"M18.56 5.44l.94 2.06.94-2.06 2.06-.94-2.06-.94-.94-2.06-.94 2.06-2.06.94zm-11 1L8.5 8.5l.94-2.06 2.06-.94-2.06-.94L8.5 2.5l-.94 2.06-2.06.94zm10 10l.94 2.06.94-2.06 2.06-.94-2.06-.94-.94-2.06-.94 2.06-2.06.94z\"/><path d=\"M17.41 7.96l-1.37-1.37c-.4-.4-.92-.59-1.43-.59-.52 0-1.04.2-1.43.59L10.3 9.45l-7.72 7.72c-.78.78-.78 2.05 0 2.83L4 21.41c.39.39.9.59 1.41.59.51 0 1.02-.2 1.41-.59l7.78-7.78 2.81-2.81c.8-.78.8-2.07 0-2.86zM5.41 20L4 18.59l7.72-7.72 1.47 1.35L5.41 20z\"/>\n",
              "  </svg>\n",
              "      </button>\n",
              "      \n",
              "  <style>\n",
              "    .colab-df-container {\n",
              "      display:flex;\n",
              "      flex-wrap:wrap;\n",
              "      gap: 12px;\n",
              "    }\n",
              "\n",
              "    .colab-df-convert {\n",
              "      background-color: #E8F0FE;\n",
              "      border: none;\n",
              "      border-radius: 50%;\n",
              "      cursor: pointer;\n",
              "      display: none;\n",
              "      fill: #1967D2;\n",
              "      height: 32px;\n",
              "      padding: 0 0 0 0;\n",
              "      width: 32px;\n",
              "    }\n",
              "\n",
              "    .colab-df-convert:hover {\n",
              "      background-color: #E2EBFA;\n",
              "      box-shadow: 0px 1px 2px rgba(60, 64, 67, 0.3), 0px 1px 3px 1px rgba(60, 64, 67, 0.15);\n",
              "      fill: #174EA6;\n",
              "    }\n",
              "\n",
              "    [theme=dark] .colab-df-convert {\n",
              "      background-color: #3B4455;\n",
              "      fill: #D2E3FC;\n",
              "    }\n",
              "\n",
              "    [theme=dark] .colab-df-convert:hover {\n",
              "      background-color: #434B5C;\n",
              "      box-shadow: 0px 1px 3px 1px rgba(0, 0, 0, 0.15);\n",
              "      filter: drop-shadow(0px 1px 2px rgba(0, 0, 0, 0.3));\n",
              "      fill: #FFFFFF;\n",
              "    }\n",
              "  </style>\n",
              "\n",
              "      <script>\n",
              "        const buttonEl =\n",
              "          document.querySelector('#df-74b0c83e-6bee-4d97-a4a4-0faa923f5698 button.colab-df-convert');\n",
              "        buttonEl.style.display =\n",
              "          google.colab.kernel.accessAllowed ? 'block' : 'none';\n",
              "\n",
              "        async function convertToInteractive(key) {\n",
              "          const element = document.querySelector('#df-74b0c83e-6bee-4d97-a4a4-0faa923f5698');\n",
              "          const dataTable =\n",
              "            await google.colab.kernel.invokeFunction('convertToInteractive',\n",
              "                                                     [key], {});\n",
              "          if (!dataTable) return;\n",
              "\n",
              "          const docLinkHtml = 'Like what you see? Visit the ' +\n",
              "            '<a target=\"_blank\" href=https://colab.research.google.com/notebooks/data_table.ipynb>data table notebook</a>'\n",
              "            + ' to learn more about interactive tables.';\n",
              "          element.innerHTML = '';\n",
              "          dataTable['output_type'] = 'display_data';\n",
              "          await google.colab.output.renderOutput(dataTable, element);\n",
              "          const docLink = document.createElement('div');\n",
              "          docLink.innerHTML = docLinkHtml;\n",
              "          element.appendChild(docLink);\n",
              "        }\n",
              "      </script>\n",
              "    </div>\n",
              "  </div>\n",
              "  "
            ]
          },
          "metadata": {},
          "execution_count": 11
        }
      ]
    },
    {
      "cell_type": "code",
      "source": [
        "for i in col_data.columns:\n",
        "  if i < col_data.columns.max():\n",
        "    col_data[i + 1].fillna(col_data[i], inplace=True)\n",
        "col_data"
      ],
      "metadata": {
        "colab": {
          "base_uri": "https://localhost:8080/",
          "height": 303
        },
        "id": "CBMUo6oW0J7n",
        "outputId": "00a5d3ef-5342-47a8-d8b8-8b6365220a6d"
      },
      "execution_count": 12,
      "outputs": [
        {
          "output_type": "execute_result",
          "data": {
            "text/plain": [
              "     0      1      2      3      4       5       6           7           8   \\\n",
              "0  都道府県  水力発電所  水力発電所  火力発電所  火力発電所  原子力発電所  原子力発電所  新エネルギー等発電所  新エネルギー等発電所   \n",
              "1   NaN     水力     水力     火力     火力     原子力     原子力          風力          風力   \n",
              "2   NaN   発電所数  最大出力計   発電所数  最大出力計    発電所数   最大出力計        発電所数       最大出力計   \n",
              "\n",
              "           9   ...          13          14          15          16  \\\n",
              "0  新エネルギー等発電所  ...  新エネルギー等発電所  新エネルギー等発電所  新エネルギー等発電所  新エネルギー等発電所   \n",
              "1         太陽光  ...     〔バイオマス〕     〔バイオマス〕       〔廃棄物〕       〔廃棄物〕   \n",
              "2        発電所数  ...        発電所数       最大出力計        発電所数       最大出力計   \n",
              "\n",
              "           17          18    19     20    21     22  \n",
              "0  新エネルギー等発電所  新エネルギー等発電所   その他    その他    合計     合計  \n",
              "1           計           計   その他    その他    合計     合計  \n",
              "2        発電所数       最大出力計  発電所数  最大出力計  発電所数  最大出力計  \n",
              "\n",
              "[3 rows x 23 columns]"
            ],
            "text/html": [
              "\n",
              "  <div id=\"df-22b2ed38-927f-4b30-ad7a-fbad716706c9\">\n",
              "    <div class=\"colab-df-container\">\n",
              "      <div>\n",
              "<style scoped>\n",
              "    .dataframe tbody tr th:only-of-type {\n",
              "        vertical-align: middle;\n",
              "    }\n",
              "\n",
              "    .dataframe tbody tr th {\n",
              "        vertical-align: top;\n",
              "    }\n",
              "\n",
              "    .dataframe thead th {\n",
              "        text-align: right;\n",
              "    }\n",
              "</style>\n",
              "<table border=\"1\" class=\"dataframe\">\n",
              "  <thead>\n",
              "    <tr style=\"text-align: right;\">\n",
              "      <th></th>\n",
              "      <th>0</th>\n",
              "      <th>1</th>\n",
              "      <th>2</th>\n",
              "      <th>3</th>\n",
              "      <th>4</th>\n",
              "      <th>5</th>\n",
              "      <th>6</th>\n",
              "      <th>7</th>\n",
              "      <th>8</th>\n",
              "      <th>9</th>\n",
              "      <th>...</th>\n",
              "      <th>13</th>\n",
              "      <th>14</th>\n",
              "      <th>15</th>\n",
              "      <th>16</th>\n",
              "      <th>17</th>\n",
              "      <th>18</th>\n",
              "      <th>19</th>\n",
              "      <th>20</th>\n",
              "      <th>21</th>\n",
              "      <th>22</th>\n",
              "    </tr>\n",
              "  </thead>\n",
              "  <tbody>\n",
              "    <tr>\n",
              "      <th>0</th>\n",
              "      <td>都道府県</td>\n",
              "      <td>水力発電所</td>\n",
              "      <td>水力発電所</td>\n",
              "      <td>火力発電所</td>\n",
              "      <td>火力発電所</td>\n",
              "      <td>原子力発電所</td>\n",
              "      <td>原子力発電所</td>\n",
              "      <td>新エネルギー等発電所</td>\n",
              "      <td>新エネルギー等発電所</td>\n",
              "      <td>新エネルギー等発電所</td>\n",
              "      <td>...</td>\n",
              "      <td>新エネルギー等発電所</td>\n",
              "      <td>新エネルギー等発電所</td>\n",
              "      <td>新エネルギー等発電所</td>\n",
              "      <td>新エネルギー等発電所</td>\n",
              "      <td>新エネルギー等発電所</td>\n",
              "      <td>新エネルギー等発電所</td>\n",
              "      <td>その他</td>\n",
              "      <td>その他</td>\n",
              "      <td>合計</td>\n",
              "      <td>合計</td>\n",
              "    </tr>\n",
              "    <tr>\n",
              "      <th>1</th>\n",
              "      <td>NaN</td>\n",
              "      <td>水力</td>\n",
              "      <td>水力</td>\n",
              "      <td>火力</td>\n",
              "      <td>火力</td>\n",
              "      <td>原子力</td>\n",
              "      <td>原子力</td>\n",
              "      <td>風力</td>\n",
              "      <td>風力</td>\n",
              "      <td>太陽光</td>\n",
              "      <td>...</td>\n",
              "      <td>〔バイオマス〕</td>\n",
              "      <td>〔バイオマス〕</td>\n",
              "      <td>〔廃棄物〕</td>\n",
              "      <td>〔廃棄物〕</td>\n",
              "      <td>計</td>\n",
              "      <td>計</td>\n",
              "      <td>その他</td>\n",
              "      <td>その他</td>\n",
              "      <td>合計</td>\n",
              "      <td>合計</td>\n",
              "    </tr>\n",
              "    <tr>\n",
              "      <th>2</th>\n",
              "      <td>NaN</td>\n",
              "      <td>発電所数</td>\n",
              "      <td>最大出力計</td>\n",
              "      <td>発電所数</td>\n",
              "      <td>最大出力計</td>\n",
              "      <td>発電所数</td>\n",
              "      <td>最大出力計</td>\n",
              "      <td>発電所数</td>\n",
              "      <td>最大出力計</td>\n",
              "      <td>発電所数</td>\n",
              "      <td>...</td>\n",
              "      <td>発電所数</td>\n",
              "      <td>最大出力計</td>\n",
              "      <td>発電所数</td>\n",
              "      <td>最大出力計</td>\n",
              "      <td>発電所数</td>\n",
              "      <td>最大出力計</td>\n",
              "      <td>発電所数</td>\n",
              "      <td>最大出力計</td>\n",
              "      <td>発電所数</td>\n",
              "      <td>最大出力計</td>\n",
              "    </tr>\n",
              "  </tbody>\n",
              "</table>\n",
              "<p>3 rows × 23 columns</p>\n",
              "</div>\n",
              "      <button class=\"colab-df-convert\" onclick=\"convertToInteractive('df-22b2ed38-927f-4b30-ad7a-fbad716706c9')\"\n",
              "              title=\"Convert this dataframe to an interactive table.\"\n",
              "              style=\"display:none;\">\n",
              "        \n",
              "  <svg xmlns=\"http://www.w3.org/2000/svg\" height=\"24px\"viewBox=\"0 0 24 24\"\n",
              "       width=\"24px\">\n",
              "    <path d=\"M0 0h24v24H0V0z\" fill=\"none\"/>\n",
              "    <path d=\"M18.56 5.44l.94 2.06.94-2.06 2.06-.94-2.06-.94-.94-2.06-.94 2.06-2.06.94zm-11 1L8.5 8.5l.94-2.06 2.06-.94-2.06-.94L8.5 2.5l-.94 2.06-2.06.94zm10 10l.94 2.06.94-2.06 2.06-.94-2.06-.94-.94-2.06-.94 2.06-2.06.94z\"/><path d=\"M17.41 7.96l-1.37-1.37c-.4-.4-.92-.59-1.43-.59-.52 0-1.04.2-1.43.59L10.3 9.45l-7.72 7.72c-.78.78-.78 2.05 0 2.83L4 21.41c.39.39.9.59 1.41.59.51 0 1.02-.2 1.41-.59l7.78-7.78 2.81-2.81c.8-.78.8-2.07 0-2.86zM5.41 20L4 18.59l7.72-7.72 1.47 1.35L5.41 20z\"/>\n",
              "  </svg>\n",
              "      </button>\n",
              "      \n",
              "  <style>\n",
              "    .colab-df-container {\n",
              "      display:flex;\n",
              "      flex-wrap:wrap;\n",
              "      gap: 12px;\n",
              "    }\n",
              "\n",
              "    .colab-df-convert {\n",
              "      background-color: #E8F0FE;\n",
              "      border: none;\n",
              "      border-radius: 50%;\n",
              "      cursor: pointer;\n",
              "      display: none;\n",
              "      fill: #1967D2;\n",
              "      height: 32px;\n",
              "      padding: 0 0 0 0;\n",
              "      width: 32px;\n",
              "    }\n",
              "\n",
              "    .colab-df-convert:hover {\n",
              "      background-color: #E2EBFA;\n",
              "      box-shadow: 0px 1px 2px rgba(60, 64, 67, 0.3), 0px 1px 3px 1px rgba(60, 64, 67, 0.15);\n",
              "      fill: #174EA6;\n",
              "    }\n",
              "\n",
              "    [theme=dark] .colab-df-convert {\n",
              "      background-color: #3B4455;\n",
              "      fill: #D2E3FC;\n",
              "    }\n",
              "\n",
              "    [theme=dark] .colab-df-convert:hover {\n",
              "      background-color: #434B5C;\n",
              "      box-shadow: 0px 1px 3px 1px rgba(0, 0, 0, 0.15);\n",
              "      filter: drop-shadow(0px 1px 2px rgba(0, 0, 0, 0.3));\n",
              "      fill: #FFFFFF;\n",
              "    }\n",
              "  </style>\n",
              "\n",
              "      <script>\n",
              "        const buttonEl =\n",
              "          document.querySelector('#df-22b2ed38-927f-4b30-ad7a-fbad716706c9 button.colab-df-convert');\n",
              "        buttonEl.style.display =\n",
              "          google.colab.kernel.accessAllowed ? 'block' : 'none';\n",
              "\n",
              "        async function convertToInteractive(key) {\n",
              "          const element = document.querySelector('#df-22b2ed38-927f-4b30-ad7a-fbad716706c9');\n",
              "          const dataTable =\n",
              "            await google.colab.kernel.invokeFunction('convertToInteractive',\n",
              "                                                     [key], {});\n",
              "          if (!dataTable) return;\n",
              "\n",
              "          const docLinkHtml = 'Like what you see? Visit the ' +\n",
              "            '<a target=\"_blank\" href=https://colab.research.google.com/notebooks/data_table.ipynb>data table notebook</a>'\n",
              "            + ' to learn more about interactive tables.';\n",
              "          element.innerHTML = '';\n",
              "          dataTable['output_type'] = 'display_data';\n",
              "          await google.colab.output.renderOutput(dataTable, element);\n",
              "          const docLink = document.createElement('div');\n",
              "          docLink.innerHTML = docLinkHtml;\n",
              "          element.appendChild(docLink);\n",
              "        }\n",
              "      </script>\n",
              "    </div>\n",
              "  </div>\n",
              "  "
            ]
          },
          "metadata": {},
          "execution_count": 12
        }
      ]
    },
    {
      "cell_type": "code",
      "metadata": {
        "id": "YjsTahEfUOPh",
        "colab": {
          "base_uri": "https://localhost:8080/",
          "height": 303
        },
        "outputId": "1853aec2-5574-4104-e030-f31fe5add9c4"
      },
      "source": [
        "col_data.replace('〔バイオマス〕','バイオマス',inplace=True)\n",
        "col_data.replace('〔廃棄物〕','廃棄物',inplace=True)\n",
        "col_data"
      ],
      "execution_count": 13,
      "outputs": [
        {
          "output_type": "execute_result",
          "data": {
            "text/plain": [
              "     0      1      2      3      4       5       6           7           8   \\\n",
              "0  都道府県  水力発電所  水力発電所  火力発電所  火力発電所  原子力発電所  原子力発電所  新エネルギー等発電所  新エネルギー等発電所   \n",
              "1   NaN     水力     水力     火力     火力     原子力     原子力          風力          風力   \n",
              "2   NaN   発電所数  最大出力計   発電所数  最大出力計    発電所数   最大出力計        発電所数       最大出力計   \n",
              "\n",
              "           9   ...          13          14          15          16  \\\n",
              "0  新エネルギー等発電所  ...  新エネルギー等発電所  新エネルギー等発電所  新エネルギー等発電所  新エネルギー等発電所   \n",
              "1         太陽光  ...       バイオマス       バイオマス         廃棄物         廃棄物   \n",
              "2        発電所数  ...        発電所数       最大出力計        発電所数       最大出力計   \n",
              "\n",
              "           17          18    19     20    21     22  \n",
              "0  新エネルギー等発電所  新エネルギー等発電所   その他    その他    合計     合計  \n",
              "1           計           計   その他    その他    合計     合計  \n",
              "2        発電所数       最大出力計  発電所数  最大出力計  発電所数  最大出力計  \n",
              "\n",
              "[3 rows x 23 columns]"
            ],
            "text/html": [
              "\n",
              "  <div id=\"df-63e315ca-607a-479e-b123-1d4efde587ec\">\n",
              "    <div class=\"colab-df-container\">\n",
              "      <div>\n",
              "<style scoped>\n",
              "    .dataframe tbody tr th:only-of-type {\n",
              "        vertical-align: middle;\n",
              "    }\n",
              "\n",
              "    .dataframe tbody tr th {\n",
              "        vertical-align: top;\n",
              "    }\n",
              "\n",
              "    .dataframe thead th {\n",
              "        text-align: right;\n",
              "    }\n",
              "</style>\n",
              "<table border=\"1\" class=\"dataframe\">\n",
              "  <thead>\n",
              "    <tr style=\"text-align: right;\">\n",
              "      <th></th>\n",
              "      <th>0</th>\n",
              "      <th>1</th>\n",
              "      <th>2</th>\n",
              "      <th>3</th>\n",
              "      <th>4</th>\n",
              "      <th>5</th>\n",
              "      <th>6</th>\n",
              "      <th>7</th>\n",
              "      <th>8</th>\n",
              "      <th>9</th>\n",
              "      <th>...</th>\n",
              "      <th>13</th>\n",
              "      <th>14</th>\n",
              "      <th>15</th>\n",
              "      <th>16</th>\n",
              "      <th>17</th>\n",
              "      <th>18</th>\n",
              "      <th>19</th>\n",
              "      <th>20</th>\n",
              "      <th>21</th>\n",
              "      <th>22</th>\n",
              "    </tr>\n",
              "  </thead>\n",
              "  <tbody>\n",
              "    <tr>\n",
              "      <th>0</th>\n",
              "      <td>都道府県</td>\n",
              "      <td>水力発電所</td>\n",
              "      <td>水力発電所</td>\n",
              "      <td>火力発電所</td>\n",
              "      <td>火力発電所</td>\n",
              "      <td>原子力発電所</td>\n",
              "      <td>原子力発電所</td>\n",
              "      <td>新エネルギー等発電所</td>\n",
              "      <td>新エネルギー等発電所</td>\n",
              "      <td>新エネルギー等発電所</td>\n",
              "      <td>...</td>\n",
              "      <td>新エネルギー等発電所</td>\n",
              "      <td>新エネルギー等発電所</td>\n",
              "      <td>新エネルギー等発電所</td>\n",
              "      <td>新エネルギー等発電所</td>\n",
              "      <td>新エネルギー等発電所</td>\n",
              "      <td>新エネルギー等発電所</td>\n",
              "      <td>その他</td>\n",
              "      <td>その他</td>\n",
              "      <td>合計</td>\n",
              "      <td>合計</td>\n",
              "    </tr>\n",
              "    <tr>\n",
              "      <th>1</th>\n",
              "      <td>NaN</td>\n",
              "      <td>水力</td>\n",
              "      <td>水力</td>\n",
              "      <td>火力</td>\n",
              "      <td>火力</td>\n",
              "      <td>原子力</td>\n",
              "      <td>原子力</td>\n",
              "      <td>風力</td>\n",
              "      <td>風力</td>\n",
              "      <td>太陽光</td>\n",
              "      <td>...</td>\n",
              "      <td>バイオマス</td>\n",
              "      <td>バイオマス</td>\n",
              "      <td>廃棄物</td>\n",
              "      <td>廃棄物</td>\n",
              "      <td>計</td>\n",
              "      <td>計</td>\n",
              "      <td>その他</td>\n",
              "      <td>その他</td>\n",
              "      <td>合計</td>\n",
              "      <td>合計</td>\n",
              "    </tr>\n",
              "    <tr>\n",
              "      <th>2</th>\n",
              "      <td>NaN</td>\n",
              "      <td>発電所数</td>\n",
              "      <td>最大出力計</td>\n",
              "      <td>発電所数</td>\n",
              "      <td>最大出力計</td>\n",
              "      <td>発電所数</td>\n",
              "      <td>最大出力計</td>\n",
              "      <td>発電所数</td>\n",
              "      <td>最大出力計</td>\n",
              "      <td>発電所数</td>\n",
              "      <td>...</td>\n",
              "      <td>発電所数</td>\n",
              "      <td>最大出力計</td>\n",
              "      <td>発電所数</td>\n",
              "      <td>最大出力計</td>\n",
              "      <td>発電所数</td>\n",
              "      <td>最大出力計</td>\n",
              "      <td>発電所数</td>\n",
              "      <td>最大出力計</td>\n",
              "      <td>発電所数</td>\n",
              "      <td>最大出力計</td>\n",
              "    </tr>\n",
              "  </tbody>\n",
              "</table>\n",
              "<p>3 rows × 23 columns</p>\n",
              "</div>\n",
              "      <button class=\"colab-df-convert\" onclick=\"convertToInteractive('df-63e315ca-607a-479e-b123-1d4efde587ec')\"\n",
              "              title=\"Convert this dataframe to an interactive table.\"\n",
              "              style=\"display:none;\">\n",
              "        \n",
              "  <svg xmlns=\"http://www.w3.org/2000/svg\" height=\"24px\"viewBox=\"0 0 24 24\"\n",
              "       width=\"24px\">\n",
              "    <path d=\"M0 0h24v24H0V0z\" fill=\"none\"/>\n",
              "    <path d=\"M18.56 5.44l.94 2.06.94-2.06 2.06-.94-2.06-.94-.94-2.06-.94 2.06-2.06.94zm-11 1L8.5 8.5l.94-2.06 2.06-.94-2.06-.94L8.5 2.5l-.94 2.06-2.06.94zm10 10l.94 2.06.94-2.06 2.06-.94-2.06-.94-.94-2.06-.94 2.06-2.06.94z\"/><path d=\"M17.41 7.96l-1.37-1.37c-.4-.4-.92-.59-1.43-.59-.52 0-1.04.2-1.43.59L10.3 9.45l-7.72 7.72c-.78.78-.78 2.05 0 2.83L4 21.41c.39.39.9.59 1.41.59.51 0 1.02-.2 1.41-.59l7.78-7.78 2.81-2.81c.8-.78.8-2.07 0-2.86zM5.41 20L4 18.59l7.72-7.72 1.47 1.35L5.41 20z\"/>\n",
              "  </svg>\n",
              "      </button>\n",
              "      \n",
              "  <style>\n",
              "    .colab-df-container {\n",
              "      display:flex;\n",
              "      flex-wrap:wrap;\n",
              "      gap: 12px;\n",
              "    }\n",
              "\n",
              "    .colab-df-convert {\n",
              "      background-color: #E8F0FE;\n",
              "      border: none;\n",
              "      border-radius: 50%;\n",
              "      cursor: pointer;\n",
              "      display: none;\n",
              "      fill: #1967D2;\n",
              "      height: 32px;\n",
              "      padding: 0 0 0 0;\n",
              "      width: 32px;\n",
              "    }\n",
              "\n",
              "    .colab-df-convert:hover {\n",
              "      background-color: #E2EBFA;\n",
              "      box-shadow: 0px 1px 2px rgba(60, 64, 67, 0.3), 0px 1px 3px 1px rgba(60, 64, 67, 0.15);\n",
              "      fill: #174EA6;\n",
              "    }\n",
              "\n",
              "    [theme=dark] .colab-df-convert {\n",
              "      background-color: #3B4455;\n",
              "      fill: #D2E3FC;\n",
              "    }\n",
              "\n",
              "    [theme=dark] .colab-df-convert:hover {\n",
              "      background-color: #434B5C;\n",
              "      box-shadow: 0px 1px 3px 1px rgba(0, 0, 0, 0.15);\n",
              "      filter: drop-shadow(0px 1px 2px rgba(0, 0, 0, 0.3));\n",
              "      fill: #FFFFFF;\n",
              "    }\n",
              "  </style>\n",
              "\n",
              "      <script>\n",
              "        const buttonEl =\n",
              "          document.querySelector('#df-63e315ca-607a-479e-b123-1d4efde587ec button.colab-df-convert');\n",
              "        buttonEl.style.display =\n",
              "          google.colab.kernel.accessAllowed ? 'block' : 'none';\n",
              "\n",
              "        async function convertToInteractive(key) {\n",
              "          const element = document.querySelector('#df-63e315ca-607a-479e-b123-1d4efde587ec');\n",
              "          const dataTable =\n",
              "            await google.colab.kernel.invokeFunction('convertToInteractive',\n",
              "                                                     [key], {});\n",
              "          if (!dataTable) return;\n",
              "\n",
              "          const docLinkHtml = 'Like what you see? Visit the ' +\n",
              "            '<a target=\"_blank\" href=https://colab.research.google.com/notebooks/data_table.ipynb>data table notebook</a>'\n",
              "            + ' to learn more about interactive tables.';\n",
              "          element.innerHTML = '';\n",
              "          dataTable['output_type'] = 'display_data';\n",
              "          await google.colab.output.renderOutput(dataTable, element);\n",
              "          const docLink = document.createElement('div');\n",
              "          docLink.innerHTML = docLinkHtml;\n",
              "          element.appendChild(docLink);\n",
              "        }\n",
              "      </script>\n",
              "    </div>\n",
              "  </div>\n",
              "  "
            ]
          },
          "metadata": {},
          "execution_count": 13
        }
      ]
    },
    {
      "cell_type": "code",
      "metadata": {
        "id": "4cFKuOBExPI_",
        "colab": {
          "base_uri": "https://localhost:8080/"
        },
        "outputId": "cafb27b9-0d90-44db-d419-7a2f43baba49"
      },
      "source": [
        "tg_col='_'.join(list(col_data[0].dropna()))\n",
        "print(tg_col)\n",
        "tg_col = '_'.join(list(col_data[1].dropna()))\n",
        "print(tg_col)"
      ],
      "execution_count": 14,
      "outputs": [
        {
          "output_type": "stream",
          "name": "stdout",
          "text": [
            "都道府県\n",
            "水力発電所_水力_発電所数\n"
          ]
        }
      ]
    },
    {
      "cell_type": "code",
      "source": [
        "cols=[]\n",
        "for i in col_data.columns:\n",
        "  tg_col = '_'.join(list(col_data[i].dropna()))\n",
        "  cols.append(tg_col)\n",
        "cols"
      ],
      "metadata": {
        "colab": {
          "base_uri": "https://localhost:8080/"
        },
        "id": "OlNnrtd46_uV",
        "outputId": "e3eb523f-2eb0-48c7-aec0-69ec20165bf1"
      },
      "execution_count": 15,
      "outputs": [
        {
          "output_type": "execute_result",
          "data": {
            "text/plain": [
              "['都道府県',\n",
              " '水力発電所_水力_発電所数',\n",
              " '水力発電所_水力_最大出力計',\n",
              " '火力発電所_火力_発電所数',\n",
              " '火力発電所_火力_最大出力計',\n",
              " '原子力発電所_原子力_発電所数',\n",
              " '原子力発電所_原子力_最大出力計',\n",
              " '新エネルギー等発電所_風力_発電所数',\n",
              " '新エネルギー等発電所_風力_最大出力計',\n",
              " '新エネルギー等発電所_太陽光_発電所数',\n",
              " '新エネルギー等発電所_太陽光_最大出力計',\n",
              " '新エネルギー等発電所_地熱_発電所数',\n",
              " '新エネルギー等発電所_地熱_最大出力計',\n",
              " '新エネルギー等発電所_バイオマス_発電所数',\n",
              " '新エネルギー等発電所_バイオマス_最大出力計',\n",
              " '新エネルギー等発電所_廃棄物_発電所数',\n",
              " '新エネルギー等発電所_廃棄物_最大出力計',\n",
              " '新エネルギー等発電所_計_発電所数',\n",
              " '新エネルギー等発電所_計_最大出力計',\n",
              " 'その他_その他_発電所数',\n",
              " 'その他_その他_最大出力計',\n",
              " '合計_合計_発電所数',\n",
              " '合計_合計_最大出力計']"
            ]
          },
          "metadata": {},
          "execution_count": 15
        }
      ]
    },
    {
      "cell_type": "code",
      "metadata": {
        "id": "9Ei4rMoXYsDI",
        "colab": {
          "base_uri": "https://localhost:8080/",
          "height": 679
        },
        "outputId": "22975c7f-147b-4175-fe31-45094b6bb2d0"
      },
      "source": [
        "data.columns=cols\n",
        "data.head()"
      ],
      "execution_count": 17,
      "outputs": [
        {
          "output_type": "execute_result",
          "data": {
            "text/plain": [
              "  都道府県 水力発電所_水力_発電所数  水力発電所_水力_最大出力計  火力発電所_火力_発電所数  火力発電所_火力_最大出力計  \\\n",
              "0  北海道            98       2032077.6           32.0       6176880.0   \n",
              "1  青森県            19        128750.0           10.0        655750.0   \n",
              "2  岩手県            40        274661.0            3.0        238000.0   \n",
              "3  宮城県            22         63915.0           10.0       2211050.0   \n",
              "4  秋田県            42        287863.0            4.0       2497550.0   \n",
              "\n",
              "   原子力発電所_原子力_発電所数  原子力発電所_原子力_最大出力計  新エネルギー等発電所_風力_発電所数  新エネルギー等発電所_風力_最大出力計  \\\n",
              "0              1.0         2070000.0                56.0             428134.0   \n",
              "1              1.0         1100000.0                24.0             593870.0   \n",
              "2              0.0               0.0                 5.0             109180.0   \n",
              "3              1.0         1650000.0                 1.0              20400.0   \n",
              "4              0.0               0.0                24.0             422518.6   \n",
              "\n",
              "   新エネルギー等発電所_太陽光_発電所数  ...  新エネルギー等発電所_バイオマス_発電所数  新エネルギー等発電所_バイオマス_最大出力計  \\\n",
              "0                127.0  ...                    3.0                 96650.0   \n",
              "1                 35.0  ...                    4.0                134850.0   \n",
              "2                 27.0  ...                    2.0                 89000.0   \n",
              "3                 75.0  ...                    0.0                 12900.0   \n",
              "4                 24.0  ...                    1.0                 20500.0   \n",
              "\n",
              "   新エネルギー等発電所_廃棄物_発電所数  新エネルギー等発電所_廃棄物_最大出力計  新エネルギー等発電所_計_発電所数  \\\n",
              "0                  3.0               49920.0              184.0   \n",
              "1                  1.0               18800.0               59.0   \n",
              "2                  0.0                   0.0               34.0   \n",
              "3                  4.0               35850.0               76.0   \n",
              "4                  0.0               15000.0               51.0   \n",
              "\n",
              "   新エネルギー等発電所_計_最大出力計  その他_その他_発電所数  その他_その他_最大出力計  合計_合計_発電所数  合計_合計_最大出力計  \n",
              "0           1128885.1           0.0            0.0       315.0   11407842.7  \n",
              "1            993867.0           0.0            0.0        89.0    2878367.0  \n",
              "2            451113.4           0.0            0.0        77.0     963774.4  \n",
              "3            454812.0           0.0            0.0       109.0    4379777.0  \n",
              "4            627939.2           0.0            0.0        97.0    3413352.2  \n",
              "\n",
              "[5 rows x 23 columns]"
            ],
            "text/html": [
              "\n",
              "  <div id=\"df-7717153b-bf84-43b0-8a7f-43abe5f860ee\">\n",
              "    <div class=\"colab-df-container\">\n",
              "      <div>\n",
              "<style scoped>\n",
              "    .dataframe tbody tr th:only-of-type {\n",
              "        vertical-align: middle;\n",
              "    }\n",
              "\n",
              "    .dataframe tbody tr th {\n",
              "        vertical-align: top;\n",
              "    }\n",
              "\n",
              "    .dataframe thead th {\n",
              "        text-align: right;\n",
              "    }\n",
              "</style>\n",
              "<table border=\"1\" class=\"dataframe\">\n",
              "  <thead>\n",
              "    <tr style=\"text-align: right;\">\n",
              "      <th></th>\n",
              "      <th>都道府県</th>\n",
              "      <th>水力発電所_水力_発電所数</th>\n",
              "      <th>水力発電所_水力_最大出力計</th>\n",
              "      <th>火力発電所_火力_発電所数</th>\n",
              "      <th>火力発電所_火力_最大出力計</th>\n",
              "      <th>原子力発電所_原子力_発電所数</th>\n",
              "      <th>原子力発電所_原子力_最大出力計</th>\n",
              "      <th>新エネルギー等発電所_風力_発電所数</th>\n",
              "      <th>新エネルギー等発電所_風力_最大出力計</th>\n",
              "      <th>新エネルギー等発電所_太陽光_発電所数</th>\n",
              "      <th>...</th>\n",
              "      <th>新エネルギー等発電所_バイオマス_発電所数</th>\n",
              "      <th>新エネルギー等発電所_バイオマス_最大出力計</th>\n",
              "      <th>新エネルギー等発電所_廃棄物_発電所数</th>\n",
              "      <th>新エネルギー等発電所_廃棄物_最大出力計</th>\n",
              "      <th>新エネルギー等発電所_計_発電所数</th>\n",
              "      <th>新エネルギー等発電所_計_最大出力計</th>\n",
              "      <th>その他_その他_発電所数</th>\n",
              "      <th>その他_その他_最大出力計</th>\n",
              "      <th>合計_合計_発電所数</th>\n",
              "      <th>合計_合計_最大出力計</th>\n",
              "    </tr>\n",
              "  </thead>\n",
              "  <tbody>\n",
              "    <tr>\n",
              "      <th>0</th>\n",
              "      <td>北海道</td>\n",
              "      <td>98</td>\n",
              "      <td>2032077.6</td>\n",
              "      <td>32.0</td>\n",
              "      <td>6176880.0</td>\n",
              "      <td>1.0</td>\n",
              "      <td>2070000.0</td>\n",
              "      <td>56.0</td>\n",
              "      <td>428134.0</td>\n",
              "      <td>127.0</td>\n",
              "      <td>...</td>\n",
              "      <td>3.0</td>\n",
              "      <td>96650.0</td>\n",
              "      <td>3.0</td>\n",
              "      <td>49920.0</td>\n",
              "      <td>184.0</td>\n",
              "      <td>1128885.1</td>\n",
              "      <td>0.0</td>\n",
              "      <td>0.0</td>\n",
              "      <td>315.0</td>\n",
              "      <td>11407842.7</td>\n",
              "    </tr>\n",
              "    <tr>\n",
              "      <th>1</th>\n",
              "      <td>青森県</td>\n",
              "      <td>19</td>\n",
              "      <td>128750.0</td>\n",
              "      <td>10.0</td>\n",
              "      <td>655750.0</td>\n",
              "      <td>1.0</td>\n",
              "      <td>1100000.0</td>\n",
              "      <td>24.0</td>\n",
              "      <td>593870.0</td>\n",
              "      <td>35.0</td>\n",
              "      <td>...</td>\n",
              "      <td>4.0</td>\n",
              "      <td>134850.0</td>\n",
              "      <td>1.0</td>\n",
              "      <td>18800.0</td>\n",
              "      <td>59.0</td>\n",
              "      <td>993867.0</td>\n",
              "      <td>0.0</td>\n",
              "      <td>0.0</td>\n",
              "      <td>89.0</td>\n",
              "      <td>2878367.0</td>\n",
              "    </tr>\n",
              "    <tr>\n",
              "      <th>2</th>\n",
              "      <td>岩手県</td>\n",
              "      <td>40</td>\n",
              "      <td>274661.0</td>\n",
              "      <td>3.0</td>\n",
              "      <td>238000.0</td>\n",
              "      <td>0.0</td>\n",
              "      <td>0.0</td>\n",
              "      <td>5.0</td>\n",
              "      <td>109180.0</td>\n",
              "      <td>27.0</td>\n",
              "      <td>...</td>\n",
              "      <td>2.0</td>\n",
              "      <td>89000.0</td>\n",
              "      <td>0.0</td>\n",
              "      <td>0.0</td>\n",
              "      <td>34.0</td>\n",
              "      <td>451113.4</td>\n",
              "      <td>0.0</td>\n",
              "      <td>0.0</td>\n",
              "      <td>77.0</td>\n",
              "      <td>963774.4</td>\n",
              "    </tr>\n",
              "    <tr>\n",
              "      <th>3</th>\n",
              "      <td>宮城県</td>\n",
              "      <td>22</td>\n",
              "      <td>63915.0</td>\n",
              "      <td>10.0</td>\n",
              "      <td>2211050.0</td>\n",
              "      <td>1.0</td>\n",
              "      <td>1650000.0</td>\n",
              "      <td>1.0</td>\n",
              "      <td>20400.0</td>\n",
              "      <td>75.0</td>\n",
              "      <td>...</td>\n",
              "      <td>0.0</td>\n",
              "      <td>12900.0</td>\n",
              "      <td>4.0</td>\n",
              "      <td>35850.0</td>\n",
              "      <td>76.0</td>\n",
              "      <td>454812.0</td>\n",
              "      <td>0.0</td>\n",
              "      <td>0.0</td>\n",
              "      <td>109.0</td>\n",
              "      <td>4379777.0</td>\n",
              "    </tr>\n",
              "    <tr>\n",
              "      <th>4</th>\n",
              "      <td>秋田県</td>\n",
              "      <td>42</td>\n",
              "      <td>287863.0</td>\n",
              "      <td>4.0</td>\n",
              "      <td>2497550.0</td>\n",
              "      <td>0.0</td>\n",
              "      <td>0.0</td>\n",
              "      <td>24.0</td>\n",
              "      <td>422518.6</td>\n",
              "      <td>24.0</td>\n",
              "      <td>...</td>\n",
              "      <td>1.0</td>\n",
              "      <td>20500.0</td>\n",
              "      <td>0.0</td>\n",
              "      <td>15000.0</td>\n",
              "      <td>51.0</td>\n",
              "      <td>627939.2</td>\n",
              "      <td>0.0</td>\n",
              "      <td>0.0</td>\n",
              "      <td>97.0</td>\n",
              "      <td>3413352.2</td>\n",
              "    </tr>\n",
              "  </tbody>\n",
              "</table>\n",
              "<p>5 rows × 23 columns</p>\n",
              "</div>\n",
              "      <button class=\"colab-df-convert\" onclick=\"convertToInteractive('df-7717153b-bf84-43b0-8a7f-43abe5f860ee')\"\n",
              "              title=\"Convert this dataframe to an interactive table.\"\n",
              "              style=\"display:none;\">\n",
              "        \n",
              "  <svg xmlns=\"http://www.w3.org/2000/svg\" height=\"24px\"viewBox=\"0 0 24 24\"\n",
              "       width=\"24px\">\n",
              "    <path d=\"M0 0h24v24H0V0z\" fill=\"none\"/>\n",
              "    <path d=\"M18.56 5.44l.94 2.06.94-2.06 2.06-.94-2.06-.94-.94-2.06-.94 2.06-2.06.94zm-11 1L8.5 8.5l.94-2.06 2.06-.94-2.06-.94L8.5 2.5l-.94 2.06-2.06.94zm10 10l.94 2.06.94-2.06 2.06-.94-2.06-.94-.94-2.06-.94 2.06-2.06.94z\"/><path d=\"M17.41 7.96l-1.37-1.37c-.4-.4-.92-.59-1.43-.59-.52 0-1.04.2-1.43.59L10.3 9.45l-7.72 7.72c-.78.78-.78 2.05 0 2.83L4 21.41c.39.39.9.59 1.41.59.51 0 1.02-.2 1.41-.59l7.78-7.78 2.81-2.81c.8-.78.8-2.07 0-2.86zM5.41 20L4 18.59l7.72-7.72 1.47 1.35L5.41 20z\"/>\n",
              "  </svg>\n",
              "      </button>\n",
              "      \n",
              "  <style>\n",
              "    .colab-df-container {\n",
              "      display:flex;\n",
              "      flex-wrap:wrap;\n",
              "      gap: 12px;\n",
              "    }\n",
              "\n",
              "    .colab-df-convert {\n",
              "      background-color: #E8F0FE;\n",
              "      border: none;\n",
              "      border-radius: 50%;\n",
              "      cursor: pointer;\n",
              "      display: none;\n",
              "      fill: #1967D2;\n",
              "      height: 32px;\n",
              "      padding: 0 0 0 0;\n",
              "      width: 32px;\n",
              "    }\n",
              "\n",
              "    .colab-df-convert:hover {\n",
              "      background-color: #E2EBFA;\n",
              "      box-shadow: 0px 1px 2px rgba(60, 64, 67, 0.3), 0px 1px 3px 1px rgba(60, 64, 67, 0.15);\n",
              "      fill: #174EA6;\n",
              "    }\n",
              "\n",
              "    [theme=dark] .colab-df-convert {\n",
              "      background-color: #3B4455;\n",
              "      fill: #D2E3FC;\n",
              "    }\n",
              "\n",
              "    [theme=dark] .colab-df-convert:hover {\n",
              "      background-color: #434B5C;\n",
              "      box-shadow: 0px 1px 3px 1px rgba(0, 0, 0, 0.15);\n",
              "      filter: drop-shadow(0px 1px 2px rgba(0, 0, 0, 0.3));\n",
              "      fill: #FFFFFF;\n",
              "    }\n",
              "  </style>\n",
              "\n",
              "      <script>\n",
              "        const buttonEl =\n",
              "          document.querySelector('#df-7717153b-bf84-43b0-8a7f-43abe5f860ee button.colab-df-convert');\n",
              "        buttonEl.style.display =\n",
              "          google.colab.kernel.accessAllowed ? 'block' : 'none';\n",
              "\n",
              "        async function convertToInteractive(key) {\n",
              "          const element = document.querySelector('#df-7717153b-bf84-43b0-8a7f-43abe5f860ee');\n",
              "          const dataTable =\n",
              "            await google.colab.kernel.invokeFunction('convertToInteractive',\n",
              "                                                     [key], {});\n",
              "          if (!dataTable) return;\n",
              "\n",
              "          const docLinkHtml = 'Like what you see? Visit the ' +\n",
              "            '<a target=\"_blank\" href=https://colab.research.google.com/notebooks/data_table.ipynb>data table notebook</a>'\n",
              "            + ' to learn more about interactive tables.';\n",
              "          element.innerHTML = '';\n",
              "          dataTable['output_type'] = 'display_data';\n",
              "          await google.colab.output.renderOutput(dataTable, element);\n",
              "          const docLink = document.createElement('div');\n",
              "          docLink.innerHTML = docLinkHtml;\n",
              "          element.appendChild(docLink);\n",
              "        }\n",
              "      </script>\n",
              "    </div>\n",
              "  </div>\n",
              "  "
            ]
          },
          "metadata": {},
          "execution_count": 17
        }
      ]
    },
    {
      "cell_type": "code",
      "source": [
        ""
      ],
      "metadata": {
        "id": "IQz0jYzk7szF"
      },
      "execution_count": null,
      "outputs": []
    },
    {
      "cell_type": "code",
      "metadata": {
        "id": "Y06igshtZutV"
      },
      "source": [
        ""
      ],
      "execution_count": null,
      "outputs": []
    },
    {
      "cell_type": "code",
      "metadata": {
        "id": "B5RI6J3OZNR9"
      },
      "source": [
        ""
      ],
      "execution_count": null,
      "outputs": []
    },
    {
      "cell_type": "markdown",
      "metadata": {
        "id": "M4by1Jywr4G2"
      },
      "source": [
        "## ノック３：ヘッダ用のテキストファイルを読み込もう"
      ]
    },
    {
      "cell_type": "code",
      "metadata": {
        "id": "7ogDQr2Kya4I"
      },
      "source": [
        ""
      ],
      "execution_count": null,
      "outputs": []
    },
    {
      "cell_type": "code",
      "metadata": {
        "id": "gG1lNXn-ya65"
      },
      "source": [
        ""
      ],
      "execution_count": null,
      "outputs": []
    },
    {
      "cell_type": "code",
      "metadata": {
        "id": "Z5be3u4kz5iH"
      },
      "source": [
        ""
      ],
      "execution_count": null,
      "outputs": []
    },
    {
      "cell_type": "code",
      "metadata": {
        "id": "l00v3lF_PM8k"
      },
      "source": [
        ""
      ],
      "execution_count": null,
      "outputs": []
    },
    {
      "cell_type": "markdown",
      "metadata": {
        "id": "XueV-vtPwMY7"
      },
      "source": [
        "## ノック４：ヘッダ行を追加しよう"
      ]
    },
    {
      "cell_type": "code",
      "metadata": {
        "id": "yl6UHFMX0Gvq"
      },
      "source": [
        ""
      ],
      "execution_count": null,
      "outputs": []
    },
    {
      "cell_type": "code",
      "metadata": {
        "id": "IdQIr8vOG-14"
      },
      "source": [
        ""
      ],
      "execution_count": null,
      "outputs": []
    },
    {
      "cell_type": "code",
      "metadata": {
        "id": "CKedAXnp0Jop"
      },
      "source": [
        ""
      ],
      "execution_count": null,
      "outputs": []
    },
    {
      "cell_type": "markdown",
      "metadata": {
        "id": "nrlLRoaExgGP"
      },
      "source": [
        "## ノック５：統計量や欠損値を確認しよう"
      ]
    },
    {
      "cell_type": "code",
      "metadata": {
        "id": "zVoqN0NSxw2S"
      },
      "source": [
        ""
      ],
      "execution_count": null,
      "outputs": []
    },
    {
      "cell_type": "code",
      "metadata": {
        "id": "UPF1Inj8X3j5"
      },
      "source": [
        ""
      ],
      "execution_count": null,
      "outputs": []
    },
    {
      "cell_type": "code",
      "metadata": {
        "id": "BWJGrOBJxz1F"
      },
      "source": [
        ""
      ],
      "execution_count": null,
      "outputs": []
    },
    {
      "cell_type": "markdown",
      "metadata": {
        "id": "1Z8rwT646g7X"
      },
      "source": [
        "## ノック６：データの追加（繰り返し・読込・抽出・結合）"
      ]
    },
    {
      "cell_type": "code",
      "metadata": {
        "id": "_6ESyddb0lha"
      },
      "source": [
        ""
      ],
      "execution_count": null,
      "outputs": []
    },
    {
      "cell_type": "code",
      "metadata": {
        "id": "lN3unz0ZNh4x"
      },
      "source": [
        ""
      ],
      "execution_count": null,
      "outputs": []
    },
    {
      "cell_type": "code",
      "metadata": {
        "id": "oyzaHgbP0lxI"
      },
      "source": [
        ""
      ],
      "execution_count": null,
      "outputs": []
    },
    {
      "cell_type": "code",
      "metadata": {
        "id": "9l-ZzTWnaHLR"
      },
      "source": [
        ""
      ],
      "execution_count": null,
      "outputs": []
    },
    {
      "cell_type": "code",
      "metadata": {
        "id": "QmO-WGYfatBA"
      },
      "source": [
        ""
      ],
      "execution_count": null,
      "outputs": []
    },
    {
      "cell_type": "code",
      "metadata": {
        "id": "jews9WyY2pU6"
      },
      "source": [
        ""
      ],
      "execution_count": null,
      "outputs": []
    },
    {
      "cell_type": "code",
      "metadata": {
        "id": "1wsUlE5wPpfY"
      },
      "source": [
        ""
      ],
      "execution_count": null,
      "outputs": []
    },
    {
      "cell_type": "code",
      "metadata": {
        "id": "4Yxyb8yYOVN5"
      },
      "source": [
        ""
      ],
      "execution_count": null,
      "outputs": []
    },
    {
      "cell_type": "code",
      "metadata": {
        "id": "UyaZcj3WY59P"
      },
      "source": [
        ""
      ],
      "execution_count": null,
      "outputs": []
    },
    {
      "cell_type": "code",
      "metadata": {
        "id": "FB0jcpNbh7L7"
      },
      "source": [
        ""
      ],
      "execution_count": null,
      "outputs": []
    },
    {
      "cell_type": "code",
      "metadata": {
        "id": "NR6s7J-lPr4L"
      },
      "source": [
        ""
      ],
      "execution_count": null,
      "outputs": []
    },
    {
      "cell_type": "markdown",
      "metadata": {
        "id": "EmMEqFfNwdYB"
      },
      "source": [
        "## ノック７：マスタを読み込んで項目を横に繋げよう"
      ]
    },
    {
      "cell_type": "code",
      "metadata": {
        "id": "D8lyUCQ6QtY-"
      },
      "source": [
        ""
      ],
      "execution_count": null,
      "outputs": []
    },
    {
      "cell_type": "code",
      "metadata": {
        "id": "x77F4mLe7i2e"
      },
      "source": [
        ""
      ],
      "execution_count": null,
      "outputs": []
    },
    {
      "cell_type": "code",
      "metadata": {
        "id": "WxiLuvtM7jB5"
      },
      "source": [
        ""
      ],
      "execution_count": null,
      "outputs": []
    },
    {
      "cell_type": "code",
      "metadata": {
        "id": "PpAJDJwc7sBy"
      },
      "source": [
        ""
      ],
      "execution_count": null,
      "outputs": []
    },
    {
      "cell_type": "code",
      "metadata": {
        "id": "ETz0LwEkiLaN"
      },
      "source": [
        ""
      ],
      "execution_count": null,
      "outputs": []
    },
    {
      "cell_type": "code",
      "metadata": {
        "id": "pb30UGboVvLj"
      },
      "source": [
        ""
      ],
      "execution_count": null,
      "outputs": []
    },
    {
      "cell_type": "code",
      "metadata": {
        "id": "CjgQzboxiLWz"
      },
      "source": [
        ""
      ],
      "execution_count": null,
      "outputs": []
    },
    {
      "cell_type": "code",
      "metadata": {
        "id": "HqfXFSaoWGTx"
      },
      "source": [
        ""
      ],
      "execution_count": null,
      "outputs": []
    },
    {
      "cell_type": "code",
      "metadata": {
        "id": "6CJqDq2iQtf2"
      },
      "source": [
        ""
      ],
      "execution_count": null,
      "outputs": []
    },
    {
      "cell_type": "code",
      "metadata": {
        "id": "gQC3_PosiLTD"
      },
      "source": [
        ""
      ],
      "execution_count": null,
      "outputs": []
    },
    {
      "cell_type": "code",
      "metadata": {
        "id": "5fqJ4wDIi6Oe"
      },
      "source": [
        ""
      ],
      "execution_count": null,
      "outputs": []
    },
    {
      "cell_type": "code",
      "metadata": {
        "id": "dmW_80f__Uqa"
      },
      "source": [
        ""
      ],
      "execution_count": null,
      "outputs": []
    },
    {
      "cell_type": "code",
      "metadata": {
        "id": "rqEjlChui6L6"
      },
      "source": [
        ""
      ],
      "execution_count": null,
      "outputs": []
    },
    {
      "cell_type": "code",
      "metadata": {
        "id": "KzDF_WOH-3iH"
      },
      "source": [
        ""
      ],
      "execution_count": null,
      "outputs": []
    },
    {
      "cell_type": "markdown",
      "metadata": {
        "id": "9K0jraNW615H"
      },
      "source": [
        "## ノック８：テキストの連結や分割をしよう"
      ]
    },
    {
      "cell_type": "code",
      "metadata": {
        "id": "tAY0PgnG7Two"
      },
      "source": [
        ""
      ],
      "execution_count": null,
      "outputs": []
    },
    {
      "cell_type": "code",
      "metadata": {
        "id": "L5X2wDCPws7j"
      },
      "source": [
        ""
      ],
      "execution_count": null,
      "outputs": []
    },
    {
      "cell_type": "code",
      "metadata": {
        "id": "ExieiuWXxrAX"
      },
      "source": [
        ""
      ],
      "execution_count": null,
      "outputs": []
    },
    {
      "cell_type": "code",
      "metadata": {
        "id": "Rssx-kkDxrEl"
      },
      "source": [
        ""
      ],
      "execution_count": null,
      "outputs": []
    },
    {
      "cell_type": "code",
      "metadata": {
        "id": "V9JeCiW0yaKx"
      },
      "source": [
        ""
      ],
      "execution_count": null,
      "outputs": []
    },
    {
      "cell_type": "code",
      "metadata": {
        "id": "czPeOvRpC0q-"
      },
      "source": [
        ""
      ],
      "execution_count": null,
      "outputs": []
    },
    {
      "cell_type": "code",
      "metadata": {
        "id": "KbYfrW_vJ3fi"
      },
      "source": [
        ""
      ],
      "execution_count": null,
      "outputs": []
    },
    {
      "cell_type": "code",
      "metadata": {
        "id": "B5Hn_XxOJ3ph"
      },
      "source": [
        ""
      ],
      "execution_count": null,
      "outputs": []
    },
    {
      "cell_type": "markdown",
      "metadata": {
        "id": "T6n7m5TJ7AkB"
      },
      "source": [
        "## ノック９：日付を加工しよう"
      ]
    },
    {
      "cell_type": "code",
      "metadata": {
        "id": "Hh4voaK5EWIy"
      },
      "source": [
        ""
      ],
      "execution_count": null,
      "outputs": []
    },
    {
      "cell_type": "code",
      "metadata": {
        "id": "pp4IM35pEWNx"
      },
      "source": [
        ""
      ],
      "execution_count": null,
      "outputs": []
    },
    {
      "cell_type": "code",
      "metadata": {
        "id": "PYcrAHBXEWXy"
      },
      "source": [
        ""
      ],
      "execution_count": null,
      "outputs": []
    },
    {
      "cell_type": "code",
      "metadata": {
        "id": "SQ5WXWwLKe6G"
      },
      "source": [
        ""
      ],
      "execution_count": null,
      "outputs": []
    },
    {
      "cell_type": "code",
      "metadata": {
        "id": "DrSSIdr-EWer"
      },
      "source": [
        ""
      ],
      "execution_count": null,
      "outputs": []
    },
    {
      "cell_type": "code",
      "metadata": {
        "id": "NmkV16LBKHYz"
      },
      "source": [
        ""
      ],
      "execution_count": null,
      "outputs": []
    },
    {
      "cell_type": "code",
      "metadata": {
        "id": "HYCFhKdNxE0o"
      },
      "source": [
        ""
      ],
      "execution_count": null,
      "outputs": []
    },
    {
      "cell_type": "code",
      "metadata": {
        "id": "pxB5wykkKHdL"
      },
      "source": [
        ""
      ],
      "execution_count": null,
      "outputs": []
    },
    {
      "cell_type": "code",
      "metadata": {
        "id": "HkpTWI6VLKzs"
      },
      "source": [
        ""
      ],
      "execution_count": null,
      "outputs": []
    },
    {
      "cell_type": "code",
      "metadata": {
        "id": "NhtPdrAmLqf6"
      },
      "source": [
        ""
      ],
      "execution_count": null,
      "outputs": []
    },
    {
      "cell_type": "code",
      "metadata": {
        "id": "_-nKto7YL7Bm"
      },
      "source": [
        ""
      ],
      "execution_count": null,
      "outputs": []
    },
    {
      "cell_type": "markdown",
      "metadata": {
        "id": "XMwFLVzu-CZC"
      },
      "source": [
        "## ノック１０：年度を設定しよう"
      ]
    },
    {
      "cell_type": "code",
      "metadata": {
        "id": "8Qm0lSGh-eXC"
      },
      "source": [
        ""
      ],
      "execution_count": null,
      "outputs": []
    },
    {
      "cell_type": "code",
      "metadata": {
        "id": "yd-2BV8CbXqf"
      },
      "source": [
        ""
      ],
      "execution_count": null,
      "outputs": []
    },
    {
      "cell_type": "code",
      "metadata": {
        "id": "DNZpbuhvX2QD"
      },
      "source": [
        ""
      ],
      "execution_count": null,
      "outputs": []
    },
    {
      "cell_type": "markdown",
      "metadata": {
        "id": "QPEBK5A47IFZ"
      },
      "source": [
        "## ノック１１：加工したデータをファイルに出力しよう"
      ]
    },
    {
      "cell_type": "code",
      "metadata": {
        "id": "DmJe35nRzIYT"
      },
      "source": [
        ""
      ],
      "execution_count": null,
      "outputs": []
    },
    {
      "cell_type": "code",
      "metadata": {
        "id": "oFrIz626NtRx"
      },
      "source": [
        ""
      ],
      "execution_count": null,
      "outputs": []
    },
    {
      "cell_type": "code",
      "metadata": {
        "id": "4jBHTfcRNtWK"
      },
      "source": [
        ""
      ],
      "execution_count": null,
      "outputs": []
    },
    {
      "cell_type": "markdown",
      "metadata": {
        "id": "3adikQ_m65BI"
      },
      "source": [
        "## ノック１２：不要な項目の削除と並べ替えをしよう"
      ]
    },
    {
      "cell_type": "code",
      "metadata": {
        "id": "d8kal8_4w0vQ"
      },
      "source": [
        ""
      ],
      "execution_count": null,
      "outputs": []
    },
    {
      "cell_type": "code",
      "metadata": {
        "id": "WIHn2hG4w0yw"
      },
      "source": [
        ""
      ],
      "execution_count": null,
      "outputs": []
    },
    {
      "cell_type": "code",
      "metadata": {
        "id": "v1sp97Bow041"
      },
      "source": [
        ""
      ],
      "execution_count": null,
      "outputs": []
    },
    {
      "cell_type": "code",
      "metadata": {
        "id": "aXfxDIbJPYcS"
      },
      "source": [
        ""
      ],
      "execution_count": null,
      "outputs": []
    },
    {
      "cell_type": "markdown",
      "metadata": {
        "id": "m87Vuvjb69bU"
      },
      "source": [
        "## ノック１３：まとまった単位で集計しよう"
      ]
    },
    {
      "cell_type": "code",
      "metadata": {
        "id": "3yC1LA6Gosp0"
      },
      "source": [
        ""
      ],
      "execution_count": null,
      "outputs": []
    },
    {
      "cell_type": "code",
      "metadata": {
        "id": "LebTq01-hwjW"
      },
      "source": [
        ""
      ],
      "execution_count": null,
      "outputs": []
    },
    {
      "cell_type": "code",
      "metadata": {
        "id": "SB7cpmJflhPW"
      },
      "source": [
        ""
      ],
      "execution_count": null,
      "outputs": []
    },
    {
      "cell_type": "code",
      "metadata": {
        "id": "Zk1k3xaQjyX7"
      },
      "source": [
        ""
      ],
      "execution_count": null,
      "outputs": []
    },
    {
      "cell_type": "code",
      "metadata": {
        "id": "Uc_fFgydqhNj"
      },
      "source": [
        ""
      ],
      "execution_count": null,
      "outputs": []
    },
    {
      "cell_type": "markdown",
      "metadata": {
        "id": "ChDnISx2McsC"
      },
      "source": [
        "## ノック１４：市区町村別の法人数を可視化しよう"
      ]
    },
    {
      "cell_type": "code",
      "metadata": {
        "id": "ltr0lIZ7YnVF"
      },
      "source": [
        ""
      ],
      "execution_count": null,
      "outputs": []
    },
    {
      "cell_type": "code",
      "metadata": {
        "id": "EIF1Jx8nHlzu"
      },
      "source": [
        ""
      ],
      "execution_count": null,
      "outputs": []
    },
    {
      "cell_type": "code",
      "metadata": {
        "id": "otM88RmMYU1t"
      },
      "source": [
        ""
      ],
      "execution_count": null,
      "outputs": []
    },
    {
      "cell_type": "code",
      "metadata": {
        "id": "JLjaeA5SBYzu"
      },
      "source": [
        ""
      ],
      "execution_count": null,
      "outputs": []
    },
    {
      "cell_type": "markdown",
      "metadata": {
        "id": "xZUzoupPKyHu"
      },
      "source": [
        "## ノック１５：グラフの縦横と表示順を変えてみよう"
      ]
    },
    {
      "cell_type": "code",
      "metadata": {
        "id": "56cZ_GCFLeC-"
      },
      "source": [
        ""
      ],
      "execution_count": null,
      "outputs": []
    },
    {
      "cell_type": "code",
      "metadata": {
        "id": "1Roi13s5U6Tv"
      },
      "source": [
        ""
      ],
      "execution_count": null,
      "outputs": []
    },
    {
      "cell_type": "markdown",
      "metadata": {
        "id": "3rjir-OYMuSC"
      },
      "source": [
        "## ノック１６：グラフのタイトルとラベルを設定しよう"
      ]
    },
    {
      "cell_type": "code",
      "metadata": {
        "id": "3Sn0LaQjXs36"
      },
      "source": [
        ""
      ],
      "execution_count": null,
      "outputs": []
    },
    {
      "cell_type": "code",
      "metadata": {
        "id": "SCFxrkPIJ89L"
      },
      "source": [
        ""
      ],
      "execution_count": null,
      "outputs": []
    },
    {
      "cell_type": "markdown",
      "metadata": {
        "id": "ZVbB0ORNMuce"
      },
      "source": [
        "## ノック１７：グラフの見た目をもっと変えてみよう"
      ]
    },
    {
      "cell_type": "code",
      "metadata": {
        "id": "Imo1pjuQcDMT"
      },
      "source": [
        ""
      ],
      "execution_count": null,
      "outputs": []
    },
    {
      "cell_type": "markdown",
      "metadata": {
        "id": "MPSnLkD0Mkly"
      },
      "source": [
        "## ノック１８：９０日以内に新規登録された法人数を可視化してみよう"
      ]
    },
    {
      "cell_type": "code",
      "metadata": {
        "id": "Gm9PR3GwM4F8"
      },
      "source": [
        ""
      ],
      "execution_count": null,
      "outputs": []
    },
    {
      "cell_type": "code",
      "metadata": {
        "id": "79WyMnMEVTK4"
      },
      "source": [
        ""
      ],
      "execution_count": null,
      "outputs": []
    },
    {
      "cell_type": "code",
      "metadata": {
        "id": "aHPDh73iNATi"
      },
      "source": [
        ""
      ],
      "execution_count": null,
      "outputs": []
    },
    {
      "cell_type": "code",
      "metadata": {
        "id": "pWDrnaBIqck0"
      },
      "source": [
        ""
      ],
      "execution_count": null,
      "outputs": []
    },
    {
      "cell_type": "code",
      "metadata": {
        "id": "FV_zIHl0EGQb"
      },
      "source": [
        ""
      ],
      "execution_count": null,
      "outputs": []
    },
    {
      "cell_type": "code",
      "metadata": {
        "id": "oIIvA-vHEGTO"
      },
      "source": [
        ""
      ],
      "execution_count": null,
      "outputs": []
    },
    {
      "cell_type": "code",
      "metadata": {
        "id": "fZZlKIRpEGV7"
      },
      "source": [
        ""
      ],
      "execution_count": null,
      "outputs": []
    },
    {
      "cell_type": "markdown",
      "metadata": {
        "id": "MitoEhNPM5s1"
      },
      "source": [
        "## ノック１９：年度別の推移を可視化しよう"
      ]
    },
    {
      "cell_type": "code",
      "metadata": {
        "id": "NBcoQ9bnLaWW"
      },
      "source": [
        ""
      ],
      "execution_count": null,
      "outputs": []
    },
    {
      "cell_type": "code",
      "metadata": {
        "id": "YrytswQ5xVhc"
      },
      "source": [
        ""
      ],
      "execution_count": null,
      "outputs": []
    },
    {
      "cell_type": "code",
      "metadata": {
        "id": "LTNolgJoGN3q"
      },
      "source": [
        ""
      ],
      "execution_count": null,
      "outputs": []
    },
    {
      "cell_type": "code",
      "metadata": {
        "id": "NMh07RKdxUWQ"
      },
      "source": [
        ""
      ],
      "execution_count": null,
      "outputs": []
    },
    {
      "cell_type": "markdown",
      "metadata": {
        "id": "20F9WmchGlfL"
      },
      "source": [
        "## ノック２０：データとグラフを出力しよう"
      ]
    },
    {
      "cell_type": "code",
      "metadata": {
        "id": "RKR4X1so6XQW"
      },
      "source": [
        ""
      ],
      "execution_count": null,
      "outputs": []
    },
    {
      "cell_type": "code",
      "metadata": {
        "id": "LXQIkSZY2Zys"
      },
      "source": [
        ""
      ],
      "execution_count": null,
      "outputs": []
    }
  ]
}