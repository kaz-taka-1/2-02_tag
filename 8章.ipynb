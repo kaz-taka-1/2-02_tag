{
  "nbformat": 4,
  "nbformat_minor": 0,
  "metadata": {
    "colab": {
      "provenance": [],
      "include_colab_link": true
    },
    "kernelspec": {
      "display_name": "Python 3",
      "name": "python3"
    },
    "language_info": {
      "name": "python"
    }
  },
  "cells": [
    {
      "cell_type": "markdown",
      "metadata": {
        "id": "view-in-github",
        "colab_type": "text"
      },
      "source": [
        "<a href=\"https://colab.research.google.com/github/kaz-taka-1/2-02_tag/blob/main/8%E7%AB%A0.ipynb\" target=\"_parent\"><img src=\"https://colab.research.google.com/assets/colab-badge.svg\" alt=\"Open In Colab\"/></a>"
      ]
    },
    {
      "cell_type": "code",
      "metadata": {
        "id": "GWGqPwoi_j-W",
        "colab": {
          "base_uri": "https://localhost:8080/"
        },
        "outputId": "ad3c769c-8d43-4c70-f61a-58d31f120beb"
      },
      "source": [
        "# 下記セルを実行すると、authorization codeの入力を求められます。\n",
        "# 出力されたリンク先をクリックし、Googleアカウントにログインし、\n",
        "# authorization codeをコピーし、貼り付けをおこなってください。\n",
        "from google.colab import drive\n",
        "drive.mount('/content/drive')"
      ],
      "execution_count": null,
      "outputs": [
        {
          "output_type": "stream",
          "name": "stdout",
          "text": [
            "Mounted at /content/drive\n"
          ]
        }
      ]
    },
    {
      "cell_type": "code",
      "metadata": {
        "id": "HrlLUr2Q_kWL"
      },
      "source": [
        "import os\n",
        "project = '100knock-process-visualization'\n",
        "chapter = 8\n",
        "os.chdir(f'/content/drive/MyDrive/{project}/chapter-{chapter}/')"
      ],
      "execution_count": null,
      "outputs": []
    },
    {
      "cell_type": "markdown",
      "metadata": {
        "id": "T-BX9hFf_zFy"
      },
      "source": [
        "# chapter 8 特殊なデータ加工・可視化10ノック\n"
      ]
    },
    {
      "cell_type": "markdown",
      "metadata": {
        "id": "DKGiRw4B0cuR"
      },
      "source": [
        "## ノック91: 大容量CSVデータを扱ってみよう"
      ]
    },
    {
      "cell_type": "code",
      "metadata": {
        "id": "K0Bqkb0S02l2",
        "colab": {
          "base_uri": "https://localhost:8080/",
          "height": 424
        },
        "outputId": "53b5eb02-65a2-4e6a-8c55-20a98f16409d"
      },
      "source": [
        "import pandas as pd\n",
        "df =pd.read_csv('data/person_count_out_0001_2021011509.csv')\n",
        "df"
      ],
      "execution_count": null,
      "outputs": [
        {
          "output_type": "execute_result",
          "data": {
            "text/plain": [
              "        id  place             receive_time  sensor_num  in1  out1  state1  \\\n",
              "0        0      1  2021-01-15 09:00:00.144           2  508    73       0   \n",
              "1        1      1  2021-01-15 09:00:01.146           2  508    73       0   \n",
              "2        2      1  2021-01-15 09:00:02.161           2  508    73       0   \n",
              "3        3      1  2021-01-15 09:00:03.176           2  508    73       0   \n",
              "4        4      1  2021-01-15 09:00:04.192           2  508    73       0   \n",
              "...    ...    ...                      ...         ...  ...   ...     ...   \n",
              "3535  3535      1  2021-01-15 09:59:55.054           2  782   156       0   \n",
              "3536  3536      1   2021-01-15 09:59:56.07           2  782   156       0   \n",
              "3537  3537      1  2021-01-15 09:59:57.085           2  782   156       0   \n",
              "3538  3538      1  2021-01-15 09:59:58.101           2  782   156       0   \n",
              "3539  3539      1  2021-01-15 09:59:59.116           2  782   156       0   \n",
              "\n",
              "      in2  out2  state2  \n",
              "0      73   508       0  \n",
              "1      73   508       0  \n",
              "2      73   508       0  \n",
              "3      73   508       0  \n",
              "4      73   508       0  \n",
              "...   ...   ...     ...  \n",
              "3535  156   782       0  \n",
              "3536  156   782       0  \n",
              "3537  156   782       0  \n",
              "3538  156   782       0  \n",
              "3539  156   782       0  \n",
              "\n",
              "[3540 rows x 10 columns]"
            ],
            "text/html": [
              "\n",
              "  <div id=\"df-eb2155f0-dffc-4aa1-9957-acf4003c4571\">\n",
              "    <div class=\"colab-df-container\">\n",
              "      <div>\n",
              "<style scoped>\n",
              "    .dataframe tbody tr th:only-of-type {\n",
              "        vertical-align: middle;\n",
              "    }\n",
              "\n",
              "    .dataframe tbody tr th {\n",
              "        vertical-align: top;\n",
              "    }\n",
              "\n",
              "    .dataframe thead th {\n",
              "        text-align: right;\n",
              "    }\n",
              "</style>\n",
              "<table border=\"1\" class=\"dataframe\">\n",
              "  <thead>\n",
              "    <tr style=\"text-align: right;\">\n",
              "      <th></th>\n",
              "      <th>id</th>\n",
              "      <th>place</th>\n",
              "      <th>receive_time</th>\n",
              "      <th>sensor_num</th>\n",
              "      <th>in1</th>\n",
              "      <th>out1</th>\n",
              "      <th>state1</th>\n",
              "      <th>in2</th>\n",
              "      <th>out2</th>\n",
              "      <th>state2</th>\n",
              "    </tr>\n",
              "  </thead>\n",
              "  <tbody>\n",
              "    <tr>\n",
              "      <th>0</th>\n",
              "      <td>0</td>\n",
              "      <td>1</td>\n",
              "      <td>2021-01-15 09:00:00.144</td>\n",
              "      <td>2</td>\n",
              "      <td>508</td>\n",
              "      <td>73</td>\n",
              "      <td>0</td>\n",
              "      <td>73</td>\n",
              "      <td>508</td>\n",
              "      <td>0</td>\n",
              "    </tr>\n",
              "    <tr>\n",
              "      <th>1</th>\n",
              "      <td>1</td>\n",
              "      <td>1</td>\n",
              "      <td>2021-01-15 09:00:01.146</td>\n",
              "      <td>2</td>\n",
              "      <td>508</td>\n",
              "      <td>73</td>\n",
              "      <td>0</td>\n",
              "      <td>73</td>\n",
              "      <td>508</td>\n",
              "      <td>0</td>\n",
              "    </tr>\n",
              "    <tr>\n",
              "      <th>2</th>\n",
              "      <td>2</td>\n",
              "      <td>1</td>\n",
              "      <td>2021-01-15 09:00:02.161</td>\n",
              "      <td>2</td>\n",
              "      <td>508</td>\n",
              "      <td>73</td>\n",
              "      <td>0</td>\n",
              "      <td>73</td>\n",
              "      <td>508</td>\n",
              "      <td>0</td>\n",
              "    </tr>\n",
              "    <tr>\n",
              "      <th>3</th>\n",
              "      <td>3</td>\n",
              "      <td>1</td>\n",
              "      <td>2021-01-15 09:00:03.176</td>\n",
              "      <td>2</td>\n",
              "      <td>508</td>\n",
              "      <td>73</td>\n",
              "      <td>0</td>\n",
              "      <td>73</td>\n",
              "      <td>508</td>\n",
              "      <td>0</td>\n",
              "    </tr>\n",
              "    <tr>\n",
              "      <th>4</th>\n",
              "      <td>4</td>\n",
              "      <td>1</td>\n",
              "      <td>2021-01-15 09:00:04.192</td>\n",
              "      <td>2</td>\n",
              "      <td>508</td>\n",
              "      <td>73</td>\n",
              "      <td>0</td>\n",
              "      <td>73</td>\n",
              "      <td>508</td>\n",
              "      <td>0</td>\n",
              "    </tr>\n",
              "    <tr>\n",
              "      <th>...</th>\n",
              "      <td>...</td>\n",
              "      <td>...</td>\n",
              "      <td>...</td>\n",
              "      <td>...</td>\n",
              "      <td>...</td>\n",
              "      <td>...</td>\n",
              "      <td>...</td>\n",
              "      <td>...</td>\n",
              "      <td>...</td>\n",
              "      <td>...</td>\n",
              "    </tr>\n",
              "    <tr>\n",
              "      <th>3535</th>\n",
              "      <td>3535</td>\n",
              "      <td>1</td>\n",
              "      <td>2021-01-15 09:59:55.054</td>\n",
              "      <td>2</td>\n",
              "      <td>782</td>\n",
              "      <td>156</td>\n",
              "      <td>0</td>\n",
              "      <td>156</td>\n",
              "      <td>782</td>\n",
              "      <td>0</td>\n",
              "    </tr>\n",
              "    <tr>\n",
              "      <th>3536</th>\n",
              "      <td>3536</td>\n",
              "      <td>1</td>\n",
              "      <td>2021-01-15 09:59:56.07</td>\n",
              "      <td>2</td>\n",
              "      <td>782</td>\n",
              "      <td>156</td>\n",
              "      <td>0</td>\n",
              "      <td>156</td>\n",
              "      <td>782</td>\n",
              "      <td>0</td>\n",
              "    </tr>\n",
              "    <tr>\n",
              "      <th>3537</th>\n",
              "      <td>3537</td>\n",
              "      <td>1</td>\n",
              "      <td>2021-01-15 09:59:57.085</td>\n",
              "      <td>2</td>\n",
              "      <td>782</td>\n",
              "      <td>156</td>\n",
              "      <td>0</td>\n",
              "      <td>156</td>\n",
              "      <td>782</td>\n",
              "      <td>0</td>\n",
              "    </tr>\n",
              "    <tr>\n",
              "      <th>3538</th>\n",
              "      <td>3538</td>\n",
              "      <td>1</td>\n",
              "      <td>2021-01-15 09:59:58.101</td>\n",
              "      <td>2</td>\n",
              "      <td>782</td>\n",
              "      <td>156</td>\n",
              "      <td>0</td>\n",
              "      <td>156</td>\n",
              "      <td>782</td>\n",
              "      <td>0</td>\n",
              "    </tr>\n",
              "    <tr>\n",
              "      <th>3539</th>\n",
              "      <td>3539</td>\n",
              "      <td>1</td>\n",
              "      <td>2021-01-15 09:59:59.116</td>\n",
              "      <td>2</td>\n",
              "      <td>782</td>\n",
              "      <td>156</td>\n",
              "      <td>0</td>\n",
              "      <td>156</td>\n",
              "      <td>782</td>\n",
              "      <td>0</td>\n",
              "    </tr>\n",
              "  </tbody>\n",
              "</table>\n",
              "<p>3540 rows × 10 columns</p>\n",
              "</div>\n",
              "      <button class=\"colab-df-convert\" onclick=\"convertToInteractive('df-eb2155f0-dffc-4aa1-9957-acf4003c4571')\"\n",
              "              title=\"Convert this dataframe to an interactive table.\"\n",
              "              style=\"display:none;\">\n",
              "        \n",
              "  <svg xmlns=\"http://www.w3.org/2000/svg\" height=\"24px\"viewBox=\"0 0 24 24\"\n",
              "       width=\"24px\">\n",
              "    <path d=\"M0 0h24v24H0V0z\" fill=\"none\"/>\n",
              "    <path d=\"M18.56 5.44l.94 2.06.94-2.06 2.06-.94-2.06-.94-.94-2.06-.94 2.06-2.06.94zm-11 1L8.5 8.5l.94-2.06 2.06-.94-2.06-.94L8.5 2.5l-.94 2.06-2.06.94zm10 10l.94 2.06.94-2.06 2.06-.94-2.06-.94-.94-2.06-.94 2.06-2.06.94z\"/><path d=\"M17.41 7.96l-1.37-1.37c-.4-.4-.92-.59-1.43-.59-.52 0-1.04.2-1.43.59L10.3 9.45l-7.72 7.72c-.78.78-.78 2.05 0 2.83L4 21.41c.39.39.9.59 1.41.59.51 0 1.02-.2 1.41-.59l7.78-7.78 2.81-2.81c.8-.78.8-2.07 0-2.86zM5.41 20L4 18.59l7.72-7.72 1.47 1.35L5.41 20z\"/>\n",
              "  </svg>\n",
              "      </button>\n",
              "      \n",
              "  <style>\n",
              "    .colab-df-container {\n",
              "      display:flex;\n",
              "      flex-wrap:wrap;\n",
              "      gap: 12px;\n",
              "    }\n",
              "\n",
              "    .colab-df-convert {\n",
              "      background-color: #E8F0FE;\n",
              "      border: none;\n",
              "      border-radius: 50%;\n",
              "      cursor: pointer;\n",
              "      display: none;\n",
              "      fill: #1967D2;\n",
              "      height: 32px;\n",
              "      padding: 0 0 0 0;\n",
              "      width: 32px;\n",
              "    }\n",
              "\n",
              "    .colab-df-convert:hover {\n",
              "      background-color: #E2EBFA;\n",
              "      box-shadow: 0px 1px 2px rgba(60, 64, 67, 0.3), 0px 1px 3px 1px rgba(60, 64, 67, 0.15);\n",
              "      fill: #174EA6;\n",
              "    }\n",
              "\n",
              "    [theme=dark] .colab-df-convert {\n",
              "      background-color: #3B4455;\n",
              "      fill: #D2E3FC;\n",
              "    }\n",
              "\n",
              "    [theme=dark] .colab-df-convert:hover {\n",
              "      background-color: #434B5C;\n",
              "      box-shadow: 0px 1px 3px 1px rgba(0, 0, 0, 0.15);\n",
              "      filter: drop-shadow(0px 1px 2px rgba(0, 0, 0, 0.3));\n",
              "      fill: #FFFFFF;\n",
              "    }\n",
              "  </style>\n",
              "\n",
              "      <script>\n",
              "        const buttonEl =\n",
              "          document.querySelector('#df-eb2155f0-dffc-4aa1-9957-acf4003c4571 button.colab-df-convert');\n",
              "        buttonEl.style.display =\n",
              "          google.colab.kernel.accessAllowed ? 'block' : 'none';\n",
              "\n",
              "        async function convertToInteractive(key) {\n",
              "          const element = document.querySelector('#df-eb2155f0-dffc-4aa1-9957-acf4003c4571');\n",
              "          const dataTable =\n",
              "            await google.colab.kernel.invokeFunction('convertToInteractive',\n",
              "                                                     [key], {});\n",
              "          if (!dataTable) return;\n",
              "\n",
              "          const docLinkHtml = 'Like what you see? Visit the ' +\n",
              "            '<a target=\"_blank\" href=https://colab.research.google.com/notebooks/data_table.ipynb>data table notebook</a>'\n",
              "            + ' to learn more about interactive tables.';\n",
              "          element.innerHTML = '';\n",
              "          dataTable['output_type'] = 'display_data';\n",
              "          await google.colab.output.renderOutput(dataTable, element);\n",
              "          const docLink = document.createElement('div');\n",
              "          docLink.innerHTML = docLinkHtml;\n",
              "          element.appendChild(docLink);\n",
              "        }\n",
              "      </script>\n",
              "    </div>\n",
              "  </div>\n",
              "  "
            ]
          },
          "metadata": {},
          "execution_count": 3
        }
      ]
    },
    {
      "cell_type": "code",
      "metadata": {
        "id": "SJstiALV1CM8",
        "colab": {
          "base_uri": "https://localhost:8080/"
        },
        "outputId": "bd24557d-70c2-4955-f294-ad0cc3248e35"
      },
      "source": [
        "for df in pd.read_csv('data/person_count_out_0001_2021011509.csv',chunksize=512):\n",
        "  print(df.shape)"
      ],
      "execution_count": null,
      "outputs": [
        {
          "output_type": "stream",
          "name": "stdout",
          "text": [
            "(512, 10)\n",
            "(512, 10)\n",
            "(512, 10)\n",
            "(512, 10)\n",
            "(512, 10)\n",
            "(512, 10)\n",
            "(468, 10)\n"
          ]
        }
      ]
    },
    {
      "cell_type": "code",
      "metadata": {
        "id": "uuetyAgO1CQf"
      },
      "source": [
        "i=0\n",
        "for df in pd.read_csv('data/person_count_out_0001_2021011509.csv',chunksize=64):\n",
        "  df['processd_per_chunk']=True\n",
        "  df.to_csv('data/processed_big_data.csv',mode='a',index=False,header=i==0)\n",
        "  i+=1"
      ],
      "execution_count": null,
      "outputs": []
    },
    {
      "cell_type": "code",
      "metadata": {
        "id": "3pd2V3SZ27_Y",
        "colab": {
          "base_uri": "https://localhost:8080/",
          "height": 424
        },
        "outputId": "4a9ad467-7320-4dc6-ad09-68119a60bbe0"
      },
      "source": [
        "df =pd.read_csv('data/person_count_out_0001_2021011509.csv')\n",
        "df"
      ],
      "execution_count": null,
      "outputs": [
        {
          "output_type": "execute_result",
          "data": {
            "text/plain": [
              "        id  place             receive_time  sensor_num  in1  out1  state1  \\\n",
              "0        0      1  2021-01-15 09:00:00.144           2  508    73       0   \n",
              "1        1      1  2021-01-15 09:00:01.146           2  508    73       0   \n",
              "2        2      1  2021-01-15 09:00:02.161           2  508    73       0   \n",
              "3        3      1  2021-01-15 09:00:03.176           2  508    73       0   \n",
              "4        4      1  2021-01-15 09:00:04.192           2  508    73       0   \n",
              "...    ...    ...                      ...         ...  ...   ...     ...   \n",
              "3535  3535      1  2021-01-15 09:59:55.054           2  782   156       0   \n",
              "3536  3536      1   2021-01-15 09:59:56.07           2  782   156       0   \n",
              "3537  3537      1  2021-01-15 09:59:57.085           2  782   156       0   \n",
              "3538  3538      1  2021-01-15 09:59:58.101           2  782   156       0   \n",
              "3539  3539      1  2021-01-15 09:59:59.116           2  782   156       0   \n",
              "\n",
              "      in2  out2  state2  \n",
              "0      73   508       0  \n",
              "1      73   508       0  \n",
              "2      73   508       0  \n",
              "3      73   508       0  \n",
              "4      73   508       0  \n",
              "...   ...   ...     ...  \n",
              "3535  156   782       0  \n",
              "3536  156   782       0  \n",
              "3537  156   782       0  \n",
              "3538  156   782       0  \n",
              "3539  156   782       0  \n",
              "\n",
              "[3540 rows x 10 columns]"
            ],
            "text/html": [
              "\n",
              "  <div id=\"df-18a9222f-5e88-45c3-b3a8-099be16d8ef8\">\n",
              "    <div class=\"colab-df-container\">\n",
              "      <div>\n",
              "<style scoped>\n",
              "    .dataframe tbody tr th:only-of-type {\n",
              "        vertical-align: middle;\n",
              "    }\n",
              "\n",
              "    .dataframe tbody tr th {\n",
              "        vertical-align: top;\n",
              "    }\n",
              "\n",
              "    .dataframe thead th {\n",
              "        text-align: right;\n",
              "    }\n",
              "</style>\n",
              "<table border=\"1\" class=\"dataframe\">\n",
              "  <thead>\n",
              "    <tr style=\"text-align: right;\">\n",
              "      <th></th>\n",
              "      <th>id</th>\n",
              "      <th>place</th>\n",
              "      <th>receive_time</th>\n",
              "      <th>sensor_num</th>\n",
              "      <th>in1</th>\n",
              "      <th>out1</th>\n",
              "      <th>state1</th>\n",
              "      <th>in2</th>\n",
              "      <th>out2</th>\n",
              "      <th>state2</th>\n",
              "    </tr>\n",
              "  </thead>\n",
              "  <tbody>\n",
              "    <tr>\n",
              "      <th>0</th>\n",
              "      <td>0</td>\n",
              "      <td>1</td>\n",
              "      <td>2021-01-15 09:00:00.144</td>\n",
              "      <td>2</td>\n",
              "      <td>508</td>\n",
              "      <td>73</td>\n",
              "      <td>0</td>\n",
              "      <td>73</td>\n",
              "      <td>508</td>\n",
              "      <td>0</td>\n",
              "    </tr>\n",
              "    <tr>\n",
              "      <th>1</th>\n",
              "      <td>1</td>\n",
              "      <td>1</td>\n",
              "      <td>2021-01-15 09:00:01.146</td>\n",
              "      <td>2</td>\n",
              "      <td>508</td>\n",
              "      <td>73</td>\n",
              "      <td>0</td>\n",
              "      <td>73</td>\n",
              "      <td>508</td>\n",
              "      <td>0</td>\n",
              "    </tr>\n",
              "    <tr>\n",
              "      <th>2</th>\n",
              "      <td>2</td>\n",
              "      <td>1</td>\n",
              "      <td>2021-01-15 09:00:02.161</td>\n",
              "      <td>2</td>\n",
              "      <td>508</td>\n",
              "      <td>73</td>\n",
              "      <td>0</td>\n",
              "      <td>73</td>\n",
              "      <td>508</td>\n",
              "      <td>0</td>\n",
              "    </tr>\n",
              "    <tr>\n",
              "      <th>3</th>\n",
              "      <td>3</td>\n",
              "      <td>1</td>\n",
              "      <td>2021-01-15 09:00:03.176</td>\n",
              "      <td>2</td>\n",
              "      <td>508</td>\n",
              "      <td>73</td>\n",
              "      <td>0</td>\n",
              "      <td>73</td>\n",
              "      <td>508</td>\n",
              "      <td>0</td>\n",
              "    </tr>\n",
              "    <tr>\n",
              "      <th>4</th>\n",
              "      <td>4</td>\n",
              "      <td>1</td>\n",
              "      <td>2021-01-15 09:00:04.192</td>\n",
              "      <td>2</td>\n",
              "      <td>508</td>\n",
              "      <td>73</td>\n",
              "      <td>0</td>\n",
              "      <td>73</td>\n",
              "      <td>508</td>\n",
              "      <td>0</td>\n",
              "    </tr>\n",
              "    <tr>\n",
              "      <th>...</th>\n",
              "      <td>...</td>\n",
              "      <td>...</td>\n",
              "      <td>...</td>\n",
              "      <td>...</td>\n",
              "      <td>...</td>\n",
              "      <td>...</td>\n",
              "      <td>...</td>\n",
              "      <td>...</td>\n",
              "      <td>...</td>\n",
              "      <td>...</td>\n",
              "    </tr>\n",
              "    <tr>\n",
              "      <th>3535</th>\n",
              "      <td>3535</td>\n",
              "      <td>1</td>\n",
              "      <td>2021-01-15 09:59:55.054</td>\n",
              "      <td>2</td>\n",
              "      <td>782</td>\n",
              "      <td>156</td>\n",
              "      <td>0</td>\n",
              "      <td>156</td>\n",
              "      <td>782</td>\n",
              "      <td>0</td>\n",
              "    </tr>\n",
              "    <tr>\n",
              "      <th>3536</th>\n",
              "      <td>3536</td>\n",
              "      <td>1</td>\n",
              "      <td>2021-01-15 09:59:56.07</td>\n",
              "      <td>2</td>\n",
              "      <td>782</td>\n",
              "      <td>156</td>\n",
              "      <td>0</td>\n",
              "      <td>156</td>\n",
              "      <td>782</td>\n",
              "      <td>0</td>\n",
              "    </tr>\n",
              "    <tr>\n",
              "      <th>3537</th>\n",
              "      <td>3537</td>\n",
              "      <td>1</td>\n",
              "      <td>2021-01-15 09:59:57.085</td>\n",
              "      <td>2</td>\n",
              "      <td>782</td>\n",
              "      <td>156</td>\n",
              "      <td>0</td>\n",
              "      <td>156</td>\n",
              "      <td>782</td>\n",
              "      <td>0</td>\n",
              "    </tr>\n",
              "    <tr>\n",
              "      <th>3538</th>\n",
              "      <td>3538</td>\n",
              "      <td>1</td>\n",
              "      <td>2021-01-15 09:59:58.101</td>\n",
              "      <td>2</td>\n",
              "      <td>782</td>\n",
              "      <td>156</td>\n",
              "      <td>0</td>\n",
              "      <td>156</td>\n",
              "      <td>782</td>\n",
              "      <td>0</td>\n",
              "    </tr>\n",
              "    <tr>\n",
              "      <th>3539</th>\n",
              "      <td>3539</td>\n",
              "      <td>1</td>\n",
              "      <td>2021-01-15 09:59:59.116</td>\n",
              "      <td>2</td>\n",
              "      <td>782</td>\n",
              "      <td>156</td>\n",
              "      <td>0</td>\n",
              "      <td>156</td>\n",
              "      <td>782</td>\n",
              "      <td>0</td>\n",
              "    </tr>\n",
              "  </tbody>\n",
              "</table>\n",
              "<p>3540 rows × 10 columns</p>\n",
              "</div>\n",
              "      <button class=\"colab-df-convert\" onclick=\"convertToInteractive('df-18a9222f-5e88-45c3-b3a8-099be16d8ef8')\"\n",
              "              title=\"Convert this dataframe to an interactive table.\"\n",
              "              style=\"display:none;\">\n",
              "        \n",
              "  <svg xmlns=\"http://www.w3.org/2000/svg\" height=\"24px\"viewBox=\"0 0 24 24\"\n",
              "       width=\"24px\">\n",
              "    <path d=\"M0 0h24v24H0V0z\" fill=\"none\"/>\n",
              "    <path d=\"M18.56 5.44l.94 2.06.94-2.06 2.06-.94-2.06-.94-.94-2.06-.94 2.06-2.06.94zm-11 1L8.5 8.5l.94-2.06 2.06-.94-2.06-.94L8.5 2.5l-.94 2.06-2.06.94zm10 10l.94 2.06.94-2.06 2.06-.94-2.06-.94-.94-2.06-.94 2.06-2.06.94z\"/><path d=\"M17.41 7.96l-1.37-1.37c-.4-.4-.92-.59-1.43-.59-.52 0-1.04.2-1.43.59L10.3 9.45l-7.72 7.72c-.78.78-.78 2.05 0 2.83L4 21.41c.39.39.9.59 1.41.59.51 0 1.02-.2 1.41-.59l7.78-7.78 2.81-2.81c.8-.78.8-2.07 0-2.86zM5.41 20L4 18.59l7.72-7.72 1.47 1.35L5.41 20z\"/>\n",
              "  </svg>\n",
              "      </button>\n",
              "      \n",
              "  <style>\n",
              "    .colab-df-container {\n",
              "      display:flex;\n",
              "      flex-wrap:wrap;\n",
              "      gap: 12px;\n",
              "    }\n",
              "\n",
              "    .colab-df-convert {\n",
              "      background-color: #E8F0FE;\n",
              "      border: none;\n",
              "      border-radius: 50%;\n",
              "      cursor: pointer;\n",
              "      display: none;\n",
              "      fill: #1967D2;\n",
              "      height: 32px;\n",
              "      padding: 0 0 0 0;\n",
              "      width: 32px;\n",
              "    }\n",
              "\n",
              "    .colab-df-convert:hover {\n",
              "      background-color: #E2EBFA;\n",
              "      box-shadow: 0px 1px 2px rgba(60, 64, 67, 0.3), 0px 1px 3px 1px rgba(60, 64, 67, 0.15);\n",
              "      fill: #174EA6;\n",
              "    }\n",
              "\n",
              "    [theme=dark] .colab-df-convert {\n",
              "      background-color: #3B4455;\n",
              "      fill: #D2E3FC;\n",
              "    }\n",
              "\n",
              "    [theme=dark] .colab-df-convert:hover {\n",
              "      background-color: #434B5C;\n",
              "      box-shadow: 0px 1px 3px 1px rgba(0, 0, 0, 0.15);\n",
              "      filter: drop-shadow(0px 1px 2px rgba(0, 0, 0, 0.3));\n",
              "      fill: #FFFFFF;\n",
              "    }\n",
              "  </style>\n",
              "\n",
              "      <script>\n",
              "        const buttonEl =\n",
              "          document.querySelector('#df-18a9222f-5e88-45c3-b3a8-099be16d8ef8 button.colab-df-convert');\n",
              "        buttonEl.style.display =\n",
              "          google.colab.kernel.accessAllowed ? 'block' : 'none';\n",
              "\n",
              "        async function convertToInteractive(key) {\n",
              "          const element = document.querySelector('#df-18a9222f-5e88-45c3-b3a8-099be16d8ef8');\n",
              "          const dataTable =\n",
              "            await google.colab.kernel.invokeFunction('convertToInteractive',\n",
              "                                                     [key], {});\n",
              "          if (!dataTable) return;\n",
              "\n",
              "          const docLinkHtml = 'Like what you see? Visit the ' +\n",
              "            '<a target=\"_blank\" href=https://colab.research.google.com/notebooks/data_table.ipynb>data table notebook</a>'\n",
              "            + ' to learn more about interactive tables.';\n",
              "          element.innerHTML = '';\n",
              "          dataTable['output_type'] = 'display_data';\n",
              "          await google.colab.output.renderOutput(dataTable, element);\n",
              "          const docLink = document.createElement('div');\n",
              "          docLink.innerHTML = docLinkHtml;\n",
              "          element.appendChild(docLink);\n",
              "        }\n",
              "      </script>\n",
              "    </div>\n",
              "  </div>\n",
              "  "
            ]
          },
          "metadata": {},
          "execution_count": 6
        }
      ]
    },
    {
      "cell_type": "markdown",
      "metadata": {
        "id": "idWPtCboD_Nf"
      },
      "source": [
        "## ノック92: Json形式のファイルを扱ってみよう"
      ]
    },
    {
      "cell_type": "code",
      "metadata": {
        "id": "Bt-D9KK5h7Zt",
        "colab": {
          "base_uri": "https://localhost:8080/",
          "height": 143
        },
        "outputId": "700a0537-e923-4d6d-9ae0-9068149bae69"
      },
      "source": [
        "pd.read_json('data/column_oriented.json')"
      ],
      "execution_count": null,
      "outputs": [
        {
          "output_type": "execute_result",
          "data": {
            "text/plain": [
              "   id  value\n",
              "0   1      1\n",
              "1   2     10\n",
              "2   3    100"
            ],
            "text/html": [
              "\n",
              "  <div id=\"df-efbaac8b-fd51-4582-8ed7-ba6cc2608da3\">\n",
              "    <div class=\"colab-df-container\">\n",
              "      <div>\n",
              "<style scoped>\n",
              "    .dataframe tbody tr th:only-of-type {\n",
              "        vertical-align: middle;\n",
              "    }\n",
              "\n",
              "    .dataframe tbody tr th {\n",
              "        vertical-align: top;\n",
              "    }\n",
              "\n",
              "    .dataframe thead th {\n",
              "        text-align: right;\n",
              "    }\n",
              "</style>\n",
              "<table border=\"1\" class=\"dataframe\">\n",
              "  <thead>\n",
              "    <tr style=\"text-align: right;\">\n",
              "      <th></th>\n",
              "      <th>id</th>\n",
              "      <th>value</th>\n",
              "    </tr>\n",
              "  </thead>\n",
              "  <tbody>\n",
              "    <tr>\n",
              "      <th>0</th>\n",
              "      <td>1</td>\n",
              "      <td>1</td>\n",
              "    </tr>\n",
              "    <tr>\n",
              "      <th>1</th>\n",
              "      <td>2</td>\n",
              "      <td>10</td>\n",
              "    </tr>\n",
              "    <tr>\n",
              "      <th>2</th>\n",
              "      <td>3</td>\n",
              "      <td>100</td>\n",
              "    </tr>\n",
              "  </tbody>\n",
              "</table>\n",
              "</div>\n",
              "      <button class=\"colab-df-convert\" onclick=\"convertToInteractive('df-efbaac8b-fd51-4582-8ed7-ba6cc2608da3')\"\n",
              "              title=\"Convert this dataframe to an interactive table.\"\n",
              "              style=\"display:none;\">\n",
              "        \n",
              "  <svg xmlns=\"http://www.w3.org/2000/svg\" height=\"24px\"viewBox=\"0 0 24 24\"\n",
              "       width=\"24px\">\n",
              "    <path d=\"M0 0h24v24H0V0z\" fill=\"none\"/>\n",
              "    <path d=\"M18.56 5.44l.94 2.06.94-2.06 2.06-.94-2.06-.94-.94-2.06-.94 2.06-2.06.94zm-11 1L8.5 8.5l.94-2.06 2.06-.94-2.06-.94L8.5 2.5l-.94 2.06-2.06.94zm10 10l.94 2.06.94-2.06 2.06-.94-2.06-.94-.94-2.06-.94 2.06-2.06.94z\"/><path d=\"M17.41 7.96l-1.37-1.37c-.4-.4-.92-.59-1.43-.59-.52 0-1.04.2-1.43.59L10.3 9.45l-7.72 7.72c-.78.78-.78 2.05 0 2.83L4 21.41c.39.39.9.59 1.41.59.51 0 1.02-.2 1.41-.59l7.78-7.78 2.81-2.81c.8-.78.8-2.07 0-2.86zM5.41 20L4 18.59l7.72-7.72 1.47 1.35L5.41 20z\"/>\n",
              "  </svg>\n",
              "      </button>\n",
              "      \n",
              "  <style>\n",
              "    .colab-df-container {\n",
              "      display:flex;\n",
              "      flex-wrap:wrap;\n",
              "      gap: 12px;\n",
              "    }\n",
              "\n",
              "    .colab-df-convert {\n",
              "      background-color: #E8F0FE;\n",
              "      border: none;\n",
              "      border-radius: 50%;\n",
              "      cursor: pointer;\n",
              "      display: none;\n",
              "      fill: #1967D2;\n",
              "      height: 32px;\n",
              "      padding: 0 0 0 0;\n",
              "      width: 32px;\n",
              "    }\n",
              "\n",
              "    .colab-df-convert:hover {\n",
              "      background-color: #E2EBFA;\n",
              "      box-shadow: 0px 1px 2px rgba(60, 64, 67, 0.3), 0px 1px 3px 1px rgba(60, 64, 67, 0.15);\n",
              "      fill: #174EA6;\n",
              "    }\n",
              "\n",
              "    [theme=dark] .colab-df-convert {\n",
              "      background-color: #3B4455;\n",
              "      fill: #D2E3FC;\n",
              "    }\n",
              "\n",
              "    [theme=dark] .colab-df-convert:hover {\n",
              "      background-color: #434B5C;\n",
              "      box-shadow: 0px 1px 3px 1px rgba(0, 0, 0, 0.15);\n",
              "      filter: drop-shadow(0px 1px 2px rgba(0, 0, 0, 0.3));\n",
              "      fill: #FFFFFF;\n",
              "    }\n",
              "  </style>\n",
              "\n",
              "      <script>\n",
              "        const buttonEl =\n",
              "          document.querySelector('#df-efbaac8b-fd51-4582-8ed7-ba6cc2608da3 button.colab-df-convert');\n",
              "        buttonEl.style.display =\n",
              "          google.colab.kernel.accessAllowed ? 'block' : 'none';\n",
              "\n",
              "        async function convertToInteractive(key) {\n",
              "          const element = document.querySelector('#df-efbaac8b-fd51-4582-8ed7-ba6cc2608da3');\n",
              "          const dataTable =\n",
              "            await google.colab.kernel.invokeFunction('convertToInteractive',\n",
              "                                                     [key], {});\n",
              "          if (!dataTable) return;\n",
              "\n",
              "          const docLinkHtml = 'Like what you see? Visit the ' +\n",
              "            '<a target=\"_blank\" href=https://colab.research.google.com/notebooks/data_table.ipynb>data table notebook</a>'\n",
              "            + ' to learn more about interactive tables.';\n",
              "          element.innerHTML = '';\n",
              "          dataTable['output_type'] = 'display_data';\n",
              "          await google.colab.output.renderOutput(dataTable, element);\n",
              "          const docLink = document.createElement('div');\n",
              "          docLink.innerHTML = docLinkHtml;\n",
              "          element.appendChild(docLink);\n",
              "        }\n",
              "      </script>\n",
              "    </div>\n",
              "  </div>\n",
              "  "
            ]
          },
          "metadata": {},
          "execution_count": 7
        }
      ]
    },
    {
      "cell_type": "code",
      "metadata": {
        "id": "MSZdO49HIA39",
        "colab": {
          "base_uri": "https://localhost:8080/"
        },
        "outputId": "5632ca24-1dcf-4fe7-c90f-4a2d9c324a3a"
      },
      "source": [
        "!cat data/column_oriented.json"
      ],
      "execution_count": null,
      "outputs": [
        {
          "output_type": "stream",
          "name": "stdout",
          "text": [
            "{\"id\":{\"0\":1,\"1\":2,\"2\":3},\"value\":{\"0\":1,\"1\":10,\"2\":100}}"
          ]
        }
      ]
    },
    {
      "cell_type": "code",
      "metadata": {
        "id": "Djta2UbqjZa5",
        "colab": {
          "base_uri": "https://localhost:8080/"
        },
        "outputId": "35e085bb-659f-4f49-edbb-74e11774947f"
      },
      "source": [
        "!cat data/index_oriented.json"
      ],
      "execution_count": null,
      "outputs": [
        {
          "output_type": "stream",
          "name": "stdout",
          "text": [
            "{\"0\":{\"id\":1,\"value\":1},\"1\":{\"id\":2,\"value\":10},\"2\":{\"id\":3,\"value\":100}}"
          ]
        }
      ]
    },
    {
      "cell_type": "code",
      "metadata": {
        "id": "kxw3OK3sIHDW",
        "colab": {
          "base_uri": "https://localhost:8080/",
          "height": 143
        },
        "outputId": "d0f07bfe-863b-44df-e6fc-7822c822f039"
      },
      "source": [
        "pd.read_json('data/index_oriented.json',orient='index')"
      ],
      "execution_count": null,
      "outputs": [
        {
          "output_type": "execute_result",
          "data": {
            "text/plain": [
              "   id  value\n",
              "0   1      1\n",
              "1   2     10\n",
              "2   3    100"
            ],
            "text/html": [
              "\n",
              "  <div id=\"df-45235a0a-9c17-411f-997a-a89bab013898\">\n",
              "    <div class=\"colab-df-container\">\n",
              "      <div>\n",
              "<style scoped>\n",
              "    .dataframe tbody tr th:only-of-type {\n",
              "        vertical-align: middle;\n",
              "    }\n",
              "\n",
              "    .dataframe tbody tr th {\n",
              "        vertical-align: top;\n",
              "    }\n",
              "\n",
              "    .dataframe thead th {\n",
              "        text-align: right;\n",
              "    }\n",
              "</style>\n",
              "<table border=\"1\" class=\"dataframe\">\n",
              "  <thead>\n",
              "    <tr style=\"text-align: right;\">\n",
              "      <th></th>\n",
              "      <th>id</th>\n",
              "      <th>value</th>\n",
              "    </tr>\n",
              "  </thead>\n",
              "  <tbody>\n",
              "    <tr>\n",
              "      <th>0</th>\n",
              "      <td>1</td>\n",
              "      <td>1</td>\n",
              "    </tr>\n",
              "    <tr>\n",
              "      <th>1</th>\n",
              "      <td>2</td>\n",
              "      <td>10</td>\n",
              "    </tr>\n",
              "    <tr>\n",
              "      <th>2</th>\n",
              "      <td>3</td>\n",
              "      <td>100</td>\n",
              "    </tr>\n",
              "  </tbody>\n",
              "</table>\n",
              "</div>\n",
              "      <button class=\"colab-df-convert\" onclick=\"convertToInteractive('df-45235a0a-9c17-411f-997a-a89bab013898')\"\n",
              "              title=\"Convert this dataframe to an interactive table.\"\n",
              "              style=\"display:none;\">\n",
              "        \n",
              "  <svg xmlns=\"http://www.w3.org/2000/svg\" height=\"24px\"viewBox=\"0 0 24 24\"\n",
              "       width=\"24px\">\n",
              "    <path d=\"M0 0h24v24H0V0z\" fill=\"none\"/>\n",
              "    <path d=\"M18.56 5.44l.94 2.06.94-2.06 2.06-.94-2.06-.94-.94-2.06-.94 2.06-2.06.94zm-11 1L8.5 8.5l.94-2.06 2.06-.94-2.06-.94L8.5 2.5l-.94 2.06-2.06.94zm10 10l.94 2.06.94-2.06 2.06-.94-2.06-.94-.94-2.06-.94 2.06-2.06.94z\"/><path d=\"M17.41 7.96l-1.37-1.37c-.4-.4-.92-.59-1.43-.59-.52 0-1.04.2-1.43.59L10.3 9.45l-7.72 7.72c-.78.78-.78 2.05 0 2.83L4 21.41c.39.39.9.59 1.41.59.51 0 1.02-.2 1.41-.59l7.78-7.78 2.81-2.81c.8-.78.8-2.07 0-2.86zM5.41 20L4 18.59l7.72-7.72 1.47 1.35L5.41 20z\"/>\n",
              "  </svg>\n",
              "      </button>\n",
              "      \n",
              "  <style>\n",
              "    .colab-df-container {\n",
              "      display:flex;\n",
              "      flex-wrap:wrap;\n",
              "      gap: 12px;\n",
              "    }\n",
              "\n",
              "    .colab-df-convert {\n",
              "      background-color: #E8F0FE;\n",
              "      border: none;\n",
              "      border-radius: 50%;\n",
              "      cursor: pointer;\n",
              "      display: none;\n",
              "      fill: #1967D2;\n",
              "      height: 32px;\n",
              "      padding: 0 0 0 0;\n",
              "      width: 32px;\n",
              "    }\n",
              "\n",
              "    .colab-df-convert:hover {\n",
              "      background-color: #E2EBFA;\n",
              "      box-shadow: 0px 1px 2px rgba(60, 64, 67, 0.3), 0px 1px 3px 1px rgba(60, 64, 67, 0.15);\n",
              "      fill: #174EA6;\n",
              "    }\n",
              "\n",
              "    [theme=dark] .colab-df-convert {\n",
              "      background-color: #3B4455;\n",
              "      fill: #D2E3FC;\n",
              "    }\n",
              "\n",
              "    [theme=dark] .colab-df-convert:hover {\n",
              "      background-color: #434B5C;\n",
              "      box-shadow: 0px 1px 3px 1px rgba(0, 0, 0, 0.15);\n",
              "      filter: drop-shadow(0px 1px 2px rgba(0, 0, 0, 0.3));\n",
              "      fill: #FFFFFF;\n",
              "    }\n",
              "  </style>\n",
              "\n",
              "      <script>\n",
              "        const buttonEl =\n",
              "          document.querySelector('#df-45235a0a-9c17-411f-997a-a89bab013898 button.colab-df-convert');\n",
              "        buttonEl.style.display =\n",
              "          google.colab.kernel.accessAllowed ? 'block' : 'none';\n",
              "\n",
              "        async function convertToInteractive(key) {\n",
              "          const element = document.querySelector('#df-45235a0a-9c17-411f-997a-a89bab013898');\n",
              "          const dataTable =\n",
              "            await google.colab.kernel.invokeFunction('convertToInteractive',\n",
              "                                                     [key], {});\n",
              "          if (!dataTable) return;\n",
              "\n",
              "          const docLinkHtml = 'Like what you see? Visit the ' +\n",
              "            '<a target=\"_blank\" href=https://colab.research.google.com/notebooks/data_table.ipynb>data table notebook</a>'\n",
              "            + ' to learn more about interactive tables.';\n",
              "          element.innerHTML = '';\n",
              "          dataTable['output_type'] = 'display_data';\n",
              "          await google.colab.output.renderOutput(dataTable, element);\n",
              "          const docLink = document.createElement('div');\n",
              "          docLink.innerHTML = docLinkHtml;\n",
              "          element.appendChild(docLink);\n",
              "        }\n",
              "      </script>\n",
              "    </div>\n",
              "  </div>\n",
              "  "
            ]
          },
          "metadata": {},
          "execution_count": 10
        }
      ]
    },
    {
      "cell_type": "code",
      "metadata": {
        "id": "BQUBXBaCIsWK",
        "colab": {
          "base_uri": "https://localhost:8080/",
          "height": 112
        },
        "outputId": "9e8fdcfe-7817-47d2-8a3a-5023f9b6fdab"
      },
      "source": [
        "pd.read_json('data/index_oriented.json')"
      ],
      "execution_count": null,
      "outputs": [
        {
          "output_type": "execute_result",
          "data": {
            "text/plain": [
              "       0   1    2\n",
              "id     1   2    3\n",
              "value  1  10  100"
            ],
            "text/html": [
              "\n",
              "  <div id=\"df-4c06cd4a-b95f-4154-ab1f-d6f09344a023\">\n",
              "    <div class=\"colab-df-container\">\n",
              "      <div>\n",
              "<style scoped>\n",
              "    .dataframe tbody tr th:only-of-type {\n",
              "        vertical-align: middle;\n",
              "    }\n",
              "\n",
              "    .dataframe tbody tr th {\n",
              "        vertical-align: top;\n",
              "    }\n",
              "\n",
              "    .dataframe thead th {\n",
              "        text-align: right;\n",
              "    }\n",
              "</style>\n",
              "<table border=\"1\" class=\"dataframe\">\n",
              "  <thead>\n",
              "    <tr style=\"text-align: right;\">\n",
              "      <th></th>\n",
              "      <th>0</th>\n",
              "      <th>1</th>\n",
              "      <th>2</th>\n",
              "    </tr>\n",
              "  </thead>\n",
              "  <tbody>\n",
              "    <tr>\n",
              "      <th>id</th>\n",
              "      <td>1</td>\n",
              "      <td>2</td>\n",
              "      <td>3</td>\n",
              "    </tr>\n",
              "    <tr>\n",
              "      <th>value</th>\n",
              "      <td>1</td>\n",
              "      <td>10</td>\n",
              "      <td>100</td>\n",
              "    </tr>\n",
              "  </tbody>\n",
              "</table>\n",
              "</div>\n",
              "      <button class=\"colab-df-convert\" onclick=\"convertToInteractive('df-4c06cd4a-b95f-4154-ab1f-d6f09344a023')\"\n",
              "              title=\"Convert this dataframe to an interactive table.\"\n",
              "              style=\"display:none;\">\n",
              "        \n",
              "  <svg xmlns=\"http://www.w3.org/2000/svg\" height=\"24px\"viewBox=\"0 0 24 24\"\n",
              "       width=\"24px\">\n",
              "    <path d=\"M0 0h24v24H0V0z\" fill=\"none\"/>\n",
              "    <path d=\"M18.56 5.44l.94 2.06.94-2.06 2.06-.94-2.06-.94-.94-2.06-.94 2.06-2.06.94zm-11 1L8.5 8.5l.94-2.06 2.06-.94-2.06-.94L8.5 2.5l-.94 2.06-2.06.94zm10 10l.94 2.06.94-2.06 2.06-.94-2.06-.94-.94-2.06-.94 2.06-2.06.94z\"/><path d=\"M17.41 7.96l-1.37-1.37c-.4-.4-.92-.59-1.43-.59-.52 0-1.04.2-1.43.59L10.3 9.45l-7.72 7.72c-.78.78-.78 2.05 0 2.83L4 21.41c.39.39.9.59 1.41.59.51 0 1.02-.2 1.41-.59l7.78-7.78 2.81-2.81c.8-.78.8-2.07 0-2.86zM5.41 20L4 18.59l7.72-7.72 1.47 1.35L5.41 20z\"/>\n",
              "  </svg>\n",
              "      </button>\n",
              "      \n",
              "  <style>\n",
              "    .colab-df-container {\n",
              "      display:flex;\n",
              "      flex-wrap:wrap;\n",
              "      gap: 12px;\n",
              "    }\n",
              "\n",
              "    .colab-df-convert {\n",
              "      background-color: #E8F0FE;\n",
              "      border: none;\n",
              "      border-radius: 50%;\n",
              "      cursor: pointer;\n",
              "      display: none;\n",
              "      fill: #1967D2;\n",
              "      height: 32px;\n",
              "      padding: 0 0 0 0;\n",
              "      width: 32px;\n",
              "    }\n",
              "\n",
              "    .colab-df-convert:hover {\n",
              "      background-color: #E2EBFA;\n",
              "      box-shadow: 0px 1px 2px rgba(60, 64, 67, 0.3), 0px 1px 3px 1px rgba(60, 64, 67, 0.15);\n",
              "      fill: #174EA6;\n",
              "    }\n",
              "\n",
              "    [theme=dark] .colab-df-convert {\n",
              "      background-color: #3B4455;\n",
              "      fill: #D2E3FC;\n",
              "    }\n",
              "\n",
              "    [theme=dark] .colab-df-convert:hover {\n",
              "      background-color: #434B5C;\n",
              "      box-shadow: 0px 1px 3px 1px rgba(0, 0, 0, 0.15);\n",
              "      filter: drop-shadow(0px 1px 2px rgba(0, 0, 0, 0.3));\n",
              "      fill: #FFFFFF;\n",
              "    }\n",
              "  </style>\n",
              "\n",
              "      <script>\n",
              "        const buttonEl =\n",
              "          document.querySelector('#df-4c06cd4a-b95f-4154-ab1f-d6f09344a023 button.colab-df-convert');\n",
              "        buttonEl.style.display =\n",
              "          google.colab.kernel.accessAllowed ? 'block' : 'none';\n",
              "\n",
              "        async function convertToInteractive(key) {\n",
              "          const element = document.querySelector('#df-4c06cd4a-b95f-4154-ab1f-d6f09344a023');\n",
              "          const dataTable =\n",
              "            await google.colab.kernel.invokeFunction('convertToInteractive',\n",
              "                                                     [key], {});\n",
              "          if (!dataTable) return;\n",
              "\n",
              "          const docLinkHtml = 'Like what you see? Visit the ' +\n",
              "            '<a target=\"_blank\" href=https://colab.research.google.com/notebooks/data_table.ipynb>data table notebook</a>'\n",
              "            + ' to learn more about interactive tables.';\n",
              "          element.innerHTML = '';\n",
              "          dataTable['output_type'] = 'display_data';\n",
              "          await google.colab.output.renderOutput(dataTable, element);\n",
              "          const docLink = document.createElement('div');\n",
              "          docLink.innerHTML = docLinkHtml;\n",
              "          element.appendChild(docLink);\n",
              "        }\n",
              "      </script>\n",
              "    </div>\n",
              "  </div>\n",
              "  "
            ]
          },
          "metadata": {},
          "execution_count": 11
        }
      ]
    },
    {
      "cell_type": "code",
      "metadata": {
        "id": "Xj1lVAAiiLER",
        "colab": {
          "base_uri": "https://localhost:8080/",
          "height": 143
        },
        "outputId": "91fddbbd-30e0-4ced-8079-47b8595c0ecb"
      },
      "source": [
        "pd.read_json('data/index_oriented.json',orient='index')"
      ],
      "execution_count": null,
      "outputs": [
        {
          "output_type": "execute_result",
          "data": {
            "text/plain": [
              "   id  value\n",
              "0   1      1\n",
              "1   2     10\n",
              "2   3    100"
            ],
            "text/html": [
              "\n",
              "  <div id=\"df-28a99392-19d8-4de2-b1f6-8fac5bc75be0\">\n",
              "    <div class=\"colab-df-container\">\n",
              "      <div>\n",
              "<style scoped>\n",
              "    .dataframe tbody tr th:only-of-type {\n",
              "        vertical-align: middle;\n",
              "    }\n",
              "\n",
              "    .dataframe tbody tr th {\n",
              "        vertical-align: top;\n",
              "    }\n",
              "\n",
              "    .dataframe thead th {\n",
              "        text-align: right;\n",
              "    }\n",
              "</style>\n",
              "<table border=\"1\" class=\"dataframe\">\n",
              "  <thead>\n",
              "    <tr style=\"text-align: right;\">\n",
              "      <th></th>\n",
              "      <th>id</th>\n",
              "      <th>value</th>\n",
              "    </tr>\n",
              "  </thead>\n",
              "  <tbody>\n",
              "    <tr>\n",
              "      <th>0</th>\n",
              "      <td>1</td>\n",
              "      <td>1</td>\n",
              "    </tr>\n",
              "    <tr>\n",
              "      <th>1</th>\n",
              "      <td>2</td>\n",
              "      <td>10</td>\n",
              "    </tr>\n",
              "    <tr>\n",
              "      <th>2</th>\n",
              "      <td>3</td>\n",
              "      <td>100</td>\n",
              "    </tr>\n",
              "  </tbody>\n",
              "</table>\n",
              "</div>\n",
              "      <button class=\"colab-df-convert\" onclick=\"convertToInteractive('df-28a99392-19d8-4de2-b1f6-8fac5bc75be0')\"\n",
              "              title=\"Convert this dataframe to an interactive table.\"\n",
              "              style=\"display:none;\">\n",
              "        \n",
              "  <svg xmlns=\"http://www.w3.org/2000/svg\" height=\"24px\"viewBox=\"0 0 24 24\"\n",
              "       width=\"24px\">\n",
              "    <path d=\"M0 0h24v24H0V0z\" fill=\"none\"/>\n",
              "    <path d=\"M18.56 5.44l.94 2.06.94-2.06 2.06-.94-2.06-.94-.94-2.06-.94 2.06-2.06.94zm-11 1L8.5 8.5l.94-2.06 2.06-.94-2.06-.94L8.5 2.5l-.94 2.06-2.06.94zm10 10l.94 2.06.94-2.06 2.06-.94-2.06-.94-.94-2.06-.94 2.06-2.06.94z\"/><path d=\"M17.41 7.96l-1.37-1.37c-.4-.4-.92-.59-1.43-.59-.52 0-1.04.2-1.43.59L10.3 9.45l-7.72 7.72c-.78.78-.78 2.05 0 2.83L4 21.41c.39.39.9.59 1.41.59.51 0 1.02-.2 1.41-.59l7.78-7.78 2.81-2.81c.8-.78.8-2.07 0-2.86zM5.41 20L4 18.59l7.72-7.72 1.47 1.35L5.41 20z\"/>\n",
              "  </svg>\n",
              "      </button>\n",
              "      \n",
              "  <style>\n",
              "    .colab-df-container {\n",
              "      display:flex;\n",
              "      flex-wrap:wrap;\n",
              "      gap: 12px;\n",
              "    }\n",
              "\n",
              "    .colab-df-convert {\n",
              "      background-color: #E8F0FE;\n",
              "      border: none;\n",
              "      border-radius: 50%;\n",
              "      cursor: pointer;\n",
              "      display: none;\n",
              "      fill: #1967D2;\n",
              "      height: 32px;\n",
              "      padding: 0 0 0 0;\n",
              "      width: 32px;\n",
              "    }\n",
              "\n",
              "    .colab-df-convert:hover {\n",
              "      background-color: #E2EBFA;\n",
              "      box-shadow: 0px 1px 2px rgba(60, 64, 67, 0.3), 0px 1px 3px 1px rgba(60, 64, 67, 0.15);\n",
              "      fill: #174EA6;\n",
              "    }\n",
              "\n",
              "    [theme=dark] .colab-df-convert {\n",
              "      background-color: #3B4455;\n",
              "      fill: #D2E3FC;\n",
              "    }\n",
              "\n",
              "    [theme=dark] .colab-df-convert:hover {\n",
              "      background-color: #434B5C;\n",
              "      box-shadow: 0px 1px 3px 1px rgba(0, 0, 0, 0.15);\n",
              "      filter: drop-shadow(0px 1px 2px rgba(0, 0, 0, 0.3));\n",
              "      fill: #FFFFFF;\n",
              "    }\n",
              "  </style>\n",
              "\n",
              "      <script>\n",
              "        const buttonEl =\n",
              "          document.querySelector('#df-28a99392-19d8-4de2-b1f6-8fac5bc75be0 button.colab-df-convert');\n",
              "        buttonEl.style.display =\n",
              "          google.colab.kernel.accessAllowed ? 'block' : 'none';\n",
              "\n",
              "        async function convertToInteractive(key) {\n",
              "          const element = document.querySelector('#df-28a99392-19d8-4de2-b1f6-8fac5bc75be0');\n",
              "          const dataTable =\n",
              "            await google.colab.kernel.invokeFunction('convertToInteractive',\n",
              "                                                     [key], {});\n",
              "          if (!dataTable) return;\n",
              "\n",
              "          const docLinkHtml = 'Like what you see? Visit the ' +\n",
              "            '<a target=\"_blank\" href=https://colab.research.google.com/notebooks/data_table.ipynb>data table notebook</a>'\n",
              "            + ' to learn more about interactive tables.';\n",
              "          element.innerHTML = '';\n",
              "          dataTable['output_type'] = 'display_data';\n",
              "          await google.colab.output.renderOutput(dataTable, element);\n",
              "          const docLink = document.createElement('div');\n",
              "          docLink.innerHTML = docLinkHtml;\n",
              "          element.appendChild(docLink);\n",
              "        }\n",
              "      </script>\n",
              "    </div>\n",
              "  </div>\n",
              "  "
            ]
          },
          "metadata": {},
          "execution_count": 12
        }
      ]
    },
    {
      "cell_type": "code",
      "metadata": {
        "id": "OSrKr7VKfbl3",
        "colab": {
          "base_uri": "https://localhost:8080/"
        },
        "outputId": "e720bd2e-97aa-4ca5-b853-a56e3c365fbc"
      },
      "source": [
        "!cat data/table_oriented.json"
      ],
      "execution_count": null,
      "outputs": [
        {
          "output_type": "stream",
          "name": "stdout",
          "text": [
            "{\"schema\":{\"fields\":[{\"name\":\"index\",\"type\":\"integer\"},{\"name\":\"id\",\"type\":\"integer\"},{\"name\":\"value\",\"type\":\"integer\"}],\"primaryKey\":[\"index\"],\"pandas_version\":\"0.20.0\"},\"data\":[{\"index\":0,\"id\":1,\"value\":1},{\"index\":1,\"id\":2,\"value\":10},{\"index\":2,\"id\":3,\"value\":100}]}"
          ]
        }
      ]
    },
    {
      "cell_type": "code",
      "metadata": {
        "id": "ufVrieCJk4lT",
        "colab": {
          "base_uri": "https://localhost:8080/",
          "height": 143
        },
        "outputId": "173eca06-4433-4dbc-80fb-6752f97e47f3"
      },
      "source": [
        "pd.read_json('data/table_oriented.json',orient='table')"
      ],
      "execution_count": null,
      "outputs": [
        {
          "output_type": "execute_result",
          "data": {
            "text/plain": [
              "   id  value\n",
              "0   1      1\n",
              "1   2     10\n",
              "2   3    100"
            ],
            "text/html": [
              "\n",
              "  <div id=\"df-54dbcf87-13f4-4604-8978-e9d6c66acd47\">\n",
              "    <div class=\"colab-df-container\">\n",
              "      <div>\n",
              "<style scoped>\n",
              "    .dataframe tbody tr th:only-of-type {\n",
              "        vertical-align: middle;\n",
              "    }\n",
              "\n",
              "    .dataframe tbody tr th {\n",
              "        vertical-align: top;\n",
              "    }\n",
              "\n",
              "    .dataframe thead th {\n",
              "        text-align: right;\n",
              "    }\n",
              "</style>\n",
              "<table border=\"1\" class=\"dataframe\">\n",
              "  <thead>\n",
              "    <tr style=\"text-align: right;\">\n",
              "      <th></th>\n",
              "      <th>id</th>\n",
              "      <th>value</th>\n",
              "    </tr>\n",
              "  </thead>\n",
              "  <tbody>\n",
              "    <tr>\n",
              "      <th>0</th>\n",
              "      <td>1</td>\n",
              "      <td>1</td>\n",
              "    </tr>\n",
              "    <tr>\n",
              "      <th>1</th>\n",
              "      <td>2</td>\n",
              "      <td>10</td>\n",
              "    </tr>\n",
              "    <tr>\n",
              "      <th>2</th>\n",
              "      <td>3</td>\n",
              "      <td>100</td>\n",
              "    </tr>\n",
              "  </tbody>\n",
              "</table>\n",
              "</div>\n",
              "      <button class=\"colab-df-convert\" onclick=\"convertToInteractive('df-54dbcf87-13f4-4604-8978-e9d6c66acd47')\"\n",
              "              title=\"Convert this dataframe to an interactive table.\"\n",
              "              style=\"display:none;\">\n",
              "        \n",
              "  <svg xmlns=\"http://www.w3.org/2000/svg\" height=\"24px\"viewBox=\"0 0 24 24\"\n",
              "       width=\"24px\">\n",
              "    <path d=\"M0 0h24v24H0V0z\" fill=\"none\"/>\n",
              "    <path d=\"M18.56 5.44l.94 2.06.94-2.06 2.06-.94-2.06-.94-.94-2.06-.94 2.06-2.06.94zm-11 1L8.5 8.5l.94-2.06 2.06-.94-2.06-.94L8.5 2.5l-.94 2.06-2.06.94zm10 10l.94 2.06.94-2.06 2.06-.94-2.06-.94-.94-2.06-.94 2.06-2.06.94z\"/><path d=\"M17.41 7.96l-1.37-1.37c-.4-.4-.92-.59-1.43-.59-.52 0-1.04.2-1.43.59L10.3 9.45l-7.72 7.72c-.78.78-.78 2.05 0 2.83L4 21.41c.39.39.9.59 1.41.59.51 0 1.02-.2 1.41-.59l7.78-7.78 2.81-2.81c.8-.78.8-2.07 0-2.86zM5.41 20L4 18.59l7.72-7.72 1.47 1.35L5.41 20z\"/>\n",
              "  </svg>\n",
              "      </button>\n",
              "      \n",
              "  <style>\n",
              "    .colab-df-container {\n",
              "      display:flex;\n",
              "      flex-wrap:wrap;\n",
              "      gap: 12px;\n",
              "    }\n",
              "\n",
              "    .colab-df-convert {\n",
              "      background-color: #E8F0FE;\n",
              "      border: none;\n",
              "      border-radius: 50%;\n",
              "      cursor: pointer;\n",
              "      display: none;\n",
              "      fill: #1967D2;\n",
              "      height: 32px;\n",
              "      padding: 0 0 0 0;\n",
              "      width: 32px;\n",
              "    }\n",
              "\n",
              "    .colab-df-convert:hover {\n",
              "      background-color: #E2EBFA;\n",
              "      box-shadow: 0px 1px 2px rgba(60, 64, 67, 0.3), 0px 1px 3px 1px rgba(60, 64, 67, 0.15);\n",
              "      fill: #174EA6;\n",
              "    }\n",
              "\n",
              "    [theme=dark] .colab-df-convert {\n",
              "      background-color: #3B4455;\n",
              "      fill: #D2E3FC;\n",
              "    }\n",
              "\n",
              "    [theme=dark] .colab-df-convert:hover {\n",
              "      background-color: #434B5C;\n",
              "      box-shadow: 0px 1px 3px 1px rgba(0, 0, 0, 0.15);\n",
              "      filter: drop-shadow(0px 1px 2px rgba(0, 0, 0, 0.3));\n",
              "      fill: #FFFFFF;\n",
              "    }\n",
              "  </style>\n",
              "\n",
              "      <script>\n",
              "        const buttonEl =\n",
              "          document.querySelector('#df-54dbcf87-13f4-4604-8978-e9d6c66acd47 button.colab-df-convert');\n",
              "        buttonEl.style.display =\n",
              "          google.colab.kernel.accessAllowed ? 'block' : 'none';\n",
              "\n",
              "        async function convertToInteractive(key) {\n",
              "          const element = document.querySelector('#df-54dbcf87-13f4-4604-8978-e9d6c66acd47');\n",
              "          const dataTable =\n",
              "            await google.colab.kernel.invokeFunction('convertToInteractive',\n",
              "                                                     [key], {});\n",
              "          if (!dataTable) return;\n",
              "\n",
              "          const docLinkHtml = 'Like what you see? Visit the ' +\n",
              "            '<a target=\"_blank\" href=https://colab.research.google.com/notebooks/data_table.ipynb>data table notebook</a>'\n",
              "            + ' to learn more about interactive tables.';\n",
              "          element.innerHTML = '';\n",
              "          dataTable['output_type'] = 'display_data';\n",
              "          await google.colab.output.renderOutput(dataTable, element);\n",
              "          const docLink = document.createElement('div');\n",
              "          docLink.innerHTML = docLinkHtml;\n",
              "          element.appendChild(docLink);\n",
              "        }\n",
              "      </script>\n",
              "    </div>\n",
              "  </div>\n",
              "  "
            ]
          },
          "metadata": {},
          "execution_count": 14
        }
      ]
    },
    {
      "cell_type": "markdown",
      "metadata": {
        "id": "m42FQngblPsr"
      },
      "source": [
        "## ノック93: *Webからデータを取得してみよう*"
      ]
    },
    {
      "cell_type": "code",
      "metadata": {
        "id": "Zbht7TVflh5u",
        "colab": {
          "base_uri": "https://localhost:8080/"
        },
        "outputId": "19068fac-1de4-47aa-e15d-b87d57641f66"
      },
      "source": [
        "import requests\n",
        "response = requests.get('https://worldtimeapi.org/api/timezone/Asia/Tokyo')\n",
        "response.content"
      ],
      "execution_count": null,
      "outputs": [
        {
          "output_type": "execute_result",
          "data": {
            "text/plain": [
              "b'{\"abbreviation\":\"JST\",\"client_ip\":\"34.125.89.0\",\"datetime\":\"2022-10-16T21:48:41.896841+09:00\",\"day_of_week\":0,\"day_of_year\":289,\"dst\":false,\"dst_from\":null,\"dst_offset\":0,\"dst_until\":null,\"raw_offset\":32400,\"timezone\":\"Asia/Tokyo\",\"unixtime\":1665924521,\"utc_datetime\":\"2022-10-16T12:48:41.896841+00:00\",\"utc_offset\":\"+09:00\",\"week_number\":41}'"
            ]
          },
          "metadata": {},
          "execution_count": 15
        }
      ]
    },
    {
      "cell_type": "code",
      "metadata": {
        "id": "D0mCffAyljDn"
      },
      "source": [
        "result=response.content"
      ],
      "execution_count": null,
      "outputs": []
    },
    {
      "cell_type": "code",
      "metadata": {
        "id": "N8LLDikIljH6",
        "colab": {
          "base_uri": "https://localhost:8080/"
        },
        "outputId": "b4feb398-031a-49a2-da23-3bbe6a1db0f2"
      },
      "source": [
        "result=response.json()\n",
        "result"
      ],
      "execution_count": null,
      "outputs": [
        {
          "output_type": "execute_result",
          "data": {
            "text/plain": [
              "{'abbreviation': 'JST',\n",
              " 'client_ip': '34.125.89.0',\n",
              " 'datetime': '2022-10-16T21:48:41.896841+09:00',\n",
              " 'day_of_week': 0,\n",
              " 'day_of_year': 289,\n",
              " 'dst': False,\n",
              " 'dst_from': None,\n",
              " 'dst_offset': 0,\n",
              " 'dst_until': None,\n",
              " 'raw_offset': 32400,\n",
              " 'timezone': 'Asia/Tokyo',\n",
              " 'unixtime': 1665924521,\n",
              " 'utc_datetime': '2022-10-16T12:48:41.896841+00:00',\n",
              " 'utc_offset': '+09:00',\n",
              " 'week_number': 41}"
            ]
          },
          "metadata": {},
          "execution_count": 17
        }
      ]
    },
    {
      "cell_type": "code",
      "metadata": {
        "id": "6ogasK2PmDlG",
        "colab": {
          "base_uri": "https://localhost:8080/"
        },
        "outputId": "199da177-f0db-4e53-cdd9-3b30e8863142"
      },
      "source": [
        "pd.Series(result)"
      ],
      "execution_count": null,
      "outputs": [
        {
          "output_type": "execute_result",
          "data": {
            "text/plain": [
              "abbreviation                                 JST\n",
              "client_ip                            34.125.89.0\n",
              "datetime        2022-10-16T21:48:41.896841+09:00\n",
              "day_of_week                                    0\n",
              "day_of_year                                  289\n",
              "dst                                        False\n",
              "dst_from                                    None\n",
              "dst_offset                                     0\n",
              "dst_until                                   None\n",
              "raw_offset                                 32400\n",
              "timezone                              Asia/Tokyo\n",
              "unixtime                              1665924521\n",
              "utc_datetime    2022-10-16T12:48:41.896841+00:00\n",
              "utc_offset                                +09:00\n",
              "week_number                                   41\n",
              "dtype: object"
            ]
          },
          "metadata": {},
          "execution_count": 18
        }
      ]
    },
    {
      "cell_type": "code",
      "metadata": {
        "id": "TVKygaWdmDni"
      },
      "source": [
        "import json\n",
        "\n",
        "with open('data/response.json',mode='w') as f:\n",
        "  json.dump(result,f)"
      ],
      "execution_count": null,
      "outputs": []
    },
    {
      "cell_type": "code",
      "metadata": {
        "id": "pp7Cezt-oYNI"
      },
      "source": [
        "import time\n",
        "for _ in range(4):\n",
        "  response = requests.get('https://worldtimeapi.org/api/timezone/Asia/Tokyo')\n",
        "with open('data/response.txt',mode='a') as f:\n",
        "  res=response.json()\n",
        "  f.write(f'{json.dumps(res)}\\n')\n",
        "  time.sleep(1)"
      ],
      "execution_count": null,
      "outputs": []
    },
    {
      "cell_type": "code",
      "source": [
        "!cat data/response.txt"
      ],
      "metadata": {
        "colab": {
          "base_uri": "https://localhost:8080/"
        },
        "id": "qXSaXFpEnohS",
        "outputId": "19f03bce-6121-4a84-9db3-7f935da0370a"
      },
      "execution_count": null,
      "outputs": [
        {
          "output_type": "stream",
          "name": "stdout",
          "text": [
            "{\"abbreviation\": \"JST\", \"client_ip\": \"34.74.168.16\", \"datetime\": \"2022-10-16T16:07:04.564647+09:00\", \"day_of_week\": 0, \"day_of_year\": 289, \"dst\": false, \"dst_from\": null, \"dst_offset\": 0, \"dst_until\": null, \"raw_offset\": 32400, \"timezone\": \"Asia/Tokyo\", \"unixtime\": 1665904024, \"utc_datetime\": \"2022-10-16T07:07:04.564647+00:00\", \"utc_offset\": \"+09:00\", \"week_number\": 41}¥n{\"abbreviation\": \"JST\", \"client_ip\": \"34.74.168.16\", \"datetime\": \"2022-10-16T16:08:47.137967+09:00\", \"day_of_week\": 0, \"day_of_year\": 289, \"dst\": false, \"dst_from\": null, \"dst_offset\": 0, \"dst_until\": null, \"raw_offset\": 32400, \"timezone\": \"Asia/Tokyo\", \"unixtime\": 1665904127, \"utc_datetime\": \"2022-10-16T07:08:47.137967+00:00\", \"utc_offset\": \"+09:00\", \"week_number\": 41}\n",
            "{\"abbreviation\": \"JST\", \"client_ip\": \"34.74.168.16\", \"datetime\": \"2022-10-16T16:09:37.848652+09:00\", \"day_of_week\": 0, \"day_of_year\": 289, \"dst\": false, \"dst_from\": null, \"dst_offset\": 0, \"dst_until\": null, \"raw_offset\": 32400, \"timezone\": \"Asia/Tokyo\", \"unixtime\": 1665904177, \"utc_datetime\": \"2022-10-16T07:09:37.848652+00:00\", \"utc_offset\": \"+09:00\", \"week_number\": 41}\n",
            "{\"abbreviation\": \"JST\", \"client_ip\": \"34.74.168.16\", \"datetime\": \"2022-10-16T16:09:47.047954+09:00\", \"day_of_week\": 0, \"day_of_year\": 289, \"dst\": false, \"dst_from\": null, \"dst_offset\": 0, \"dst_until\": null, \"raw_offset\": 32400, \"timezone\": \"Asia/Tokyo\", \"unixtime\": 1665904187, \"utc_datetime\": \"2022-10-16T07:09:47.047954+00:00\", \"utc_offset\": \"+09:00\", \"week_number\": 41}\n",
            "{\"abbreviation\": \"JST\", \"client_ip\": \"34.74.168.16\", \"datetime\": \"2022-10-16T16:18:08.753870+09:00\", \"day_of_week\": 0, \"day_of_year\": 289, \"dst\": false, \"dst_from\": null, \"dst_offset\": 0, \"dst_until\": null, \"raw_offset\": 32400, \"timezone\": \"Asia/Tokyo\", \"unixtime\": 1665904688, \"utc_datetime\": \"2022-10-16T07:18:08.753870+00:00\", \"utc_offset\": \"+09:00\", \"week_number\": 41}\n",
            "{\"abbreviation\": \"JST\", \"client_ip\": \"34.125.89.0\", \"datetime\": \"2022-10-16T21:48:44.069720+09:00\", \"day_of_week\": 0, \"day_of_year\": 289, \"dst\": false, \"dst_from\": null, \"dst_offset\": 0, \"dst_until\": null, \"raw_offset\": 32400, \"timezone\": \"Asia/Tokyo\", \"unixtime\": 1665924524, \"utc_datetime\": \"2022-10-16T12:48:44.069720+00:00\", \"utc_offset\": \"+09:00\", \"week_number\": 41}\n"
          ]
        }
      ]
    },
    {
      "cell_type": "markdown",
      "metadata": {
        "id": "W8eX27Yco0kL"
      },
      "source": [
        "## ノック94: configファイルを扱ってみよう"
      ]
    },
    {
      "cell_type": "code",
      "metadata": {
        "id": "XhyzoZRHp1xH",
        "colab": {
          "base_uri": "https://localhost:8080/"
        },
        "outputId": "c32cb3e9-1ade-49cf-d280-fc3ce857e4a8"
      },
      "source": [
        "!cat config.yml"
      ],
      "execution_count": null,
      "outputs": [
        {
          "output_type": "stream",
          "name": "stdout",
          "text": [
            "dataset:\n",
            "  name: pseudo\n",
            "  path: data/images_by_py/\n",
            "use_gpu: true\n"
          ]
        }
      ]
    },
    {
      "cell_type": "code",
      "metadata": {
        "id": "1ZOf2jNPqDPr",
        "colab": {
          "base_uri": "https://localhost:8080/",
          "height": 226
        },
        "outputId": "03cbe93e-c860-4346-8372-fb3eda740cc6"
      },
      "source": [
        "import yaml\n",
        "with open('config.yml', mode='r') as f:\n",
        "  config = yaml.load(f)\n",
        "config"
      ],
      "execution_count": null,
      "outputs": [
        {
          "output_type": "error",
          "ename": "TypeError",
          "evalue": "ignored",
          "traceback": [
            "\u001b[0;31m---------------------------------------------------------------------------\u001b[0m",
            "\u001b[0;31mTypeError\u001b[0m                                 Traceback (most recent call last)",
            "\u001b[0;32m<ipython-input-23-f86144756afe>\u001b[0m in \u001b[0;36m<module>\u001b[0;34m\u001b[0m\n\u001b[1;32m      1\u001b[0m \u001b[0;32mimport\u001b[0m \u001b[0myaml\u001b[0m\u001b[0;34m\u001b[0m\u001b[0;34m\u001b[0m\u001b[0m\n\u001b[1;32m      2\u001b[0m \u001b[0;32mwith\u001b[0m \u001b[0mopen\u001b[0m\u001b[0;34m(\u001b[0m\u001b[0;34m'config.yml'\u001b[0m\u001b[0;34m,\u001b[0m \u001b[0mmode\u001b[0m\u001b[0;34m=\u001b[0m\u001b[0;34m'r'\u001b[0m\u001b[0;34m)\u001b[0m \u001b[0;32mas\u001b[0m \u001b[0mf\u001b[0m\u001b[0;34m:\u001b[0m\u001b[0;34m\u001b[0m\u001b[0;34m\u001b[0m\u001b[0m\n\u001b[0;32m----> 3\u001b[0;31m   \u001b[0mconfig\u001b[0m \u001b[0;34m=\u001b[0m \u001b[0myaml\u001b[0m\u001b[0;34m.\u001b[0m\u001b[0mload\u001b[0m\u001b[0;34m(\u001b[0m\u001b[0mf\u001b[0m\u001b[0;34m)\u001b[0m\u001b[0;34m\u001b[0m\u001b[0;34m\u001b[0m\u001b[0m\n\u001b[0m\u001b[1;32m      4\u001b[0m \u001b[0mconfig\u001b[0m\u001b[0;34m\u001b[0m\u001b[0;34m\u001b[0m\u001b[0m\n",
            "\u001b[0;31mTypeError\u001b[0m: load() missing 1 required positional argument: 'Loader'"
          ]
        }
      ]
    },
    {
      "cell_type": "code",
      "metadata": {
        "id": "iGr3UTawqGyG"
      },
      "source": [
        "!cat config.toml"
      ],
      "execution_count": null,
      "outputs": []
    },
    {
      "cell_type": "code",
      "metadata": {
        "id": "kOxXxIG7qIzV"
      },
      "source": [
        "import toml\n",
        "with open('config.toml', mode='r') as f:\n",
        "  config = toml.load(f)\n",
        "config"
      ],
      "execution_count": null,
      "outputs": []
    },
    {
      "cell_type": "markdown",
      "metadata": {
        "id": "UkZ3RGvyyEZg"
      },
      "source": [
        "## ノック95 : 動画ファイルを音声ファイルへ変換してみよう"
      ]
    },
    {
      "cell_type": "code",
      "metadata": {
        "id": "rdoCfQNCyJeB",
        "colab": {
          "base_uri": "https://localhost:8080/",
          "height": 375
        },
        "outputId": "b8fdae79-0005-4aab-96d8-6af2a4cb122f"
      },
      "source": [
        "from moviepy.editor import VideoFileClip\n",
        "\n",
        "video_clip = VideoFileClip('data/sample_video.mp4')\n",
        "video_clip.audio.write_audiofile('data/audio_by_py.mp3')"
      ],
      "execution_count": null,
      "outputs": [
        {
          "output_type": "error",
          "ename": "RuntimeError",
          "evalue": "ignored",
          "traceback": [
            "\u001b[0;31m---------------------------------------------------------------------------\u001b[0m",
            "\u001b[0;31mRuntimeError\u001b[0m                              Traceback (most recent call last)",
            "\u001b[0;32m<ipython-input-25-9f9e8267647a>\u001b[0m in \u001b[0;36m<module>\u001b[0;34m\u001b[0m\n\u001b[0;32m----> 1\u001b[0;31m \u001b[0;32mfrom\u001b[0m \u001b[0mmoviepy\u001b[0m\u001b[0;34m.\u001b[0m\u001b[0meditor\u001b[0m \u001b[0;32mimport\u001b[0m \u001b[0mVideoFileClip\u001b[0m\u001b[0;34m\u001b[0m\u001b[0;34m\u001b[0m\u001b[0m\n\u001b[0m\u001b[1;32m      2\u001b[0m \u001b[0;34m\u001b[0m\u001b[0m\n\u001b[1;32m      3\u001b[0m \u001b[0mvideo_clip\u001b[0m \u001b[0;34m=\u001b[0m \u001b[0mVideoFileClip\u001b[0m\u001b[0;34m(\u001b[0m\u001b[0;34m'data/sample_video.mp4'\u001b[0m\u001b[0;34m)\u001b[0m\u001b[0;34m\u001b[0m\u001b[0;34m\u001b[0m\u001b[0m\n\u001b[1;32m      4\u001b[0m \u001b[0mvideo_clip\u001b[0m\u001b[0;34m.\u001b[0m\u001b[0maudio\u001b[0m\u001b[0;34m.\u001b[0m\u001b[0mwrite_audiofile\u001b[0m\u001b[0;34m(\u001b[0m\u001b[0;34m'data/audio_by_py.mp3'\u001b[0m\u001b[0;34m)\u001b[0m\u001b[0;34m\u001b[0m\u001b[0;34m\u001b[0m\u001b[0m\n",
            "\u001b[0;32m/usr/local/lib/python3.7/dist-packages/moviepy/editor.py\u001b[0m in \u001b[0;36m<module>\u001b[0;34m\u001b[0m\n\u001b[1;32m     24\u001b[0m \u001b[0;31m# Checks to see if the user has set a place for their own version of ffmpeg\u001b[0m\u001b[0;34m\u001b[0m\u001b[0;34m\u001b[0m\u001b[0;34m\u001b[0m\u001b[0m\n\u001b[1;32m     25\u001b[0m \u001b[0;32mif\u001b[0m \u001b[0mos\u001b[0m\u001b[0;34m.\u001b[0m\u001b[0mgetenv\u001b[0m\u001b[0;34m(\u001b[0m\u001b[0;34m'FFMPEG_BINARY'\u001b[0m\u001b[0;34m,\u001b[0m \u001b[0;34m'ffmpeg-imageio'\u001b[0m\u001b[0;34m)\u001b[0m \u001b[0;34m==\u001b[0m \u001b[0;34m'ffmpeg-imageio'\u001b[0m\u001b[0;34m:\u001b[0m\u001b[0;34m\u001b[0m\u001b[0;34m\u001b[0m\u001b[0m\n\u001b[0;32m---> 26\u001b[0;31m     \u001b[0mimageio\u001b[0m\u001b[0;34m.\u001b[0m\u001b[0mplugins\u001b[0m\u001b[0;34m.\u001b[0m\u001b[0mffmpeg\u001b[0m\u001b[0;34m.\u001b[0m\u001b[0mdownload\u001b[0m\u001b[0;34m(\u001b[0m\u001b[0;34m)\u001b[0m\u001b[0;34m\u001b[0m\u001b[0;34m\u001b[0m\u001b[0m\n\u001b[0m\u001b[1;32m     27\u001b[0m \u001b[0;34m\u001b[0m\u001b[0m\n\u001b[1;32m     28\u001b[0m \u001b[0;31m# Clips\u001b[0m\u001b[0;34m\u001b[0m\u001b[0;34m\u001b[0m\u001b[0;34m\u001b[0m\u001b[0m\n",
            "\u001b[0;32m/usr/local/lib/python3.7/dist-packages/imageio/plugins/ffmpeg.py\u001b[0m in \u001b[0;36mdownload\u001b[0;34m(directory, force_download)\u001b[0m\n\u001b[1;32m     36\u001b[0m \u001b[0;32mdef\u001b[0m \u001b[0mdownload\u001b[0m\u001b[0;34m(\u001b[0m\u001b[0mdirectory\u001b[0m\u001b[0;34m=\u001b[0m\u001b[0;32mNone\u001b[0m\u001b[0;34m,\u001b[0m \u001b[0mforce_download\u001b[0m\u001b[0;34m=\u001b[0m\u001b[0;32mFalse\u001b[0m\u001b[0;34m)\u001b[0m\u001b[0;34m:\u001b[0m  \u001b[0;31m# pragma: no cover\u001b[0m\u001b[0;34m\u001b[0m\u001b[0;34m\u001b[0m\u001b[0m\n\u001b[1;32m     37\u001b[0m     raise RuntimeError(\n\u001b[0;32m---> 38\u001b[0;31m         \u001b[0;34m\"imageio.ffmpeg.download() has been deprecated. \"\u001b[0m\u001b[0;34m\u001b[0m\u001b[0;34m\u001b[0m\u001b[0m\n\u001b[0m\u001b[1;32m     39\u001b[0m         \u001b[0;34m\"Use 'pip install imageio-ffmpeg' instead.'\"\u001b[0m\u001b[0;34m\u001b[0m\u001b[0;34m\u001b[0m\u001b[0m\n\u001b[1;32m     40\u001b[0m     )\n",
            "\u001b[0;31mRuntimeError\u001b[0m: imageio.ffmpeg.download() has been deprecated. Use 'pip install imageio-ffmpeg' instead.'"
          ]
        }
      ]
    },
    {
      "cell_type": "code",
      "metadata": {
        "id": "026HT78043O5"
      },
      "source": [
        "!ffmeg -i data/sample_video.mp4 -y -hide_banner -loglevel error data/audio_by_ffmeg.mp3"
      ],
      "execution_count": null,
      "outputs": []
    },
    {
      "cell_type": "code",
      "metadata": {
        "id": "PzeBI_fQ5lEu"
      },
      "source": [
        "!ls data/*.mp3"
      ],
      "execution_count": null,
      "outputs": []
    },
    {
      "cell_type": "markdown",
      "metadata": {
        "id": "i_L4Ch3s47fb"
      },
      "source": [
        "##ノック96 : 動画ファイルを画像ファイルへ分割してみよう"
      ]
    },
    {
      "cell_type": "code",
      "metadata": {
        "colab": {
          "base_uri": "https://localhost:8080/"
        },
        "id": "XDKpjcXE47fb",
        "outputId": "97899f00-29bc-4a58-be49-d96a0b0d3cb6"
      },
      "source": [
        "import cv2\n",
        "from tqdm import trange\n",
        "import os\n",
        "\n",
        "cap = cv2.VideoCapture('data/sample_video.mp4')\n",
        "img_dir = 'data/images_by_py/'\n",
        "os.makedirs(img_dir, exist_ok=1)\n",
        "n = int(cap.get(cv2.CAP_PROP_FRAME_COUNT))\n",
        "\n",
        "for i in trange(n):\n",
        "  success, img = cap.read()\n",
        "  if not success:\n",
        "    continue\n",
        "  cv2.imwrite(f'{img_dir}/{i:04}.png', img)"
      ],
      "execution_count": null,
      "outputs": [
        {
          "output_type": "stream",
          "name": "stderr",
          "text": [
            "100%|██████████| 389/389 [00:08<00:00, 43.32it/s]\n"
          ]
        }
      ]
    },
    {
      "cell_type": "code",
      "metadata": {
        "colab": {
          "base_uri": "https://localhost:8080/"
        },
        "id": "SDn0XZsP47fb",
        "outputId": "c0c6f971-7dc0-46cc-d174-7f055526b8ca"
      },
      "source": [
        "ls data/images_by_py"
      ],
      "execution_count": null,
      "outputs": [
        {
          "output_type": "stream",
          "name": "stdout",
          "text": [
            "0000.png  0049.png  0098.png  0147.png  0196.png  0245.png  0294.png  0343.png\n",
            "0001.png  0050.png  0099.png  0148.png  0197.png  0246.png  0295.png  0344.png\n",
            "0002.png  0051.png  0100.png  0149.png  0198.png  0247.png  0296.png  0345.png\n",
            "0003.png  0052.png  0101.png  0150.png  0199.png  0248.png  0297.png  0346.png\n",
            "0004.png  0053.png  0102.png  0151.png  0200.png  0249.png  0298.png  0347.png\n",
            "0005.png  0054.png  0103.png  0152.png  0201.png  0250.png  0299.png  0348.png\n",
            "0006.png  0055.png  0104.png  0153.png  0202.png  0251.png  0300.png  0349.png\n",
            "0007.png  0056.png  0105.png  0154.png  0203.png  0252.png  0301.png  0350.png\n",
            "0008.png  0057.png  0106.png  0155.png  0204.png  0253.png  0302.png  0351.png\n",
            "0009.png  0058.png  0107.png  0156.png  0205.png  0254.png  0303.png  0352.png\n",
            "0010.png  0059.png  0108.png  0157.png  0206.png  0255.png  0304.png  0353.png\n",
            "0011.png  0060.png  0109.png  0158.png  0207.png  0256.png  0305.png  0354.png\n",
            "0012.png  0061.png  0110.png  0159.png  0208.png  0257.png  0306.png  0355.png\n",
            "0013.png  0062.png  0111.png  0160.png  0209.png  0258.png  0307.png  0356.png\n",
            "0014.png  0063.png  0112.png  0161.png  0210.png  0259.png  0308.png  0357.png\n",
            "0015.png  0064.png  0113.png  0162.png  0211.png  0260.png  0309.png  0358.png\n",
            "0016.png  0065.png  0114.png  0163.png  0212.png  0261.png  0310.png  0359.png\n",
            "0017.png  0066.png  0115.png  0164.png  0213.png  0262.png  0311.png  0360.png\n",
            "0018.png  0067.png  0116.png  0165.png  0214.png  0263.png  0312.png  0361.png\n",
            "0019.png  0068.png  0117.png  0166.png  0215.png  0264.png  0313.png  0362.png\n",
            "0020.png  0069.png  0118.png  0167.png  0216.png  0265.png  0314.png  0363.png\n",
            "0021.png  0070.png  0119.png  0168.png  0217.png  0266.png  0315.png  0364.png\n",
            "0022.png  0071.png  0120.png  0169.png  0218.png  0267.png  0316.png  0365.png\n",
            "0023.png  0072.png  0121.png  0170.png  0219.png  0268.png  0317.png  0366.png\n",
            "0024.png  0073.png  0122.png  0171.png  0220.png  0269.png  0318.png  0367.png\n",
            "0025.png  0074.png  0123.png  0172.png  0221.png  0270.png  0319.png  0368.png\n",
            "0026.png  0075.png  0124.png  0173.png  0222.png  0271.png  0320.png  0369.png\n",
            "0027.png  0076.png  0125.png  0174.png  0223.png  0272.png  0321.png  0370.png\n",
            "0028.png  0077.png  0126.png  0175.png  0224.png  0273.png  0322.png  0371.png\n",
            "0029.png  0078.png  0127.png  0176.png  0225.png  0274.png  0323.png  0372.png\n",
            "0030.png  0079.png  0128.png  0177.png  0226.png  0275.png  0324.png  0373.png\n",
            "0031.png  0080.png  0129.png  0178.png  0227.png  0276.png  0325.png  0374.png\n",
            "0032.png  0081.png  0130.png  0179.png  0228.png  0277.png  0326.png  0375.png\n",
            "0033.png  0082.png  0131.png  0180.png  0229.png  0278.png  0327.png  0376.png\n",
            "0034.png  0083.png  0132.png  0181.png  0230.png  0279.png  0328.png  0377.png\n",
            "0035.png  0084.png  0133.png  0182.png  0231.png  0280.png  0329.png  0378.png\n",
            "0036.png  0085.png  0134.png  0183.png  0232.png  0281.png  0330.png  0379.png\n",
            "0037.png  0086.png  0135.png  0184.png  0233.png  0282.png  0331.png  0380.png\n",
            "0038.png  0087.png  0136.png  0185.png  0234.png  0283.png  0332.png  0381.png\n",
            "0039.png  0088.png  0137.png  0186.png  0235.png  0284.png  0333.png  0382.png\n",
            "0040.png  0089.png  0138.png  0187.png  0236.png  0285.png  0334.png  0383.png\n",
            "0041.png  0090.png  0139.png  0188.png  0237.png  0286.png  0335.png  0384.png\n",
            "0042.png  0091.png  0140.png  0189.png  0238.png  0287.png  0336.png  0385.png\n",
            "0043.png  0092.png  0141.png  0190.png  0239.png  0288.png  0337.png  0386.png\n",
            "0044.png  0093.png  0142.png  0191.png  0240.png  0289.png  0338.png  0387.png\n",
            "0045.png  0094.png  0143.png  0192.png  0241.png  0290.png  0339.png  0388.png\n",
            "0046.png  0095.png  0144.png  0193.png  0242.png  0291.png  0340.png\n",
            "0047.png  0096.png  0145.png  0194.png  0243.png  0292.png  0341.png\n",
            "0048.png  0097.png  0146.png  0195.png  0244.png  0293.png  0342.png\n"
          ]
        }
      ]
    },
    {
      "cell_type": "code",
      "metadata": {
        "id": "a32BSvkj47fb"
      },
      "source": [
        "!mkdir data/images_by_ffmpeg\n",
        "!ffmpeg -i data/sample_video.mp4 -y -hide_banner -loglevel error data/images_by_ffmpeg/%04d.png"
      ],
      "execution_count": null,
      "outputs": []
    },
    {
      "cell_type": "code",
      "metadata": {
        "colab": {
          "base_uri": "https://localhost:8080/"
        },
        "id": "PaTmmsNd47fc",
        "outputId": "d6efef59-4e0d-483b-db55-6e2a0ca95214"
      },
      "source": [
        "!ls data/images_by_ffmpeg/"
      ],
      "execution_count": null,
      "outputs": [
        {
          "output_type": "stream",
          "name": "stdout",
          "text": [
            "0001.png  0050.png  0099.png  0148.png\t0197.png  0246.png  0295.png  0344.png\n",
            "0002.png  0051.png  0100.png  0149.png\t0198.png  0247.png  0296.png  0345.png\n",
            "0003.png  0052.png  0101.png  0150.png\t0199.png  0248.png  0297.png  0346.png\n",
            "0004.png  0053.png  0102.png  0151.png\t0200.png  0249.png  0298.png  0347.png\n",
            "0005.png  0054.png  0103.png  0152.png\t0201.png  0250.png  0299.png  0348.png\n",
            "0006.png  0055.png  0104.png  0153.png\t0202.png  0251.png  0300.png  0349.png\n",
            "0007.png  0056.png  0105.png  0154.png\t0203.png  0252.png  0301.png  0350.png\n",
            "0008.png  0057.png  0106.png  0155.png\t0204.png  0253.png  0302.png  0351.png\n",
            "0009.png  0058.png  0107.png  0156.png\t0205.png  0254.png  0303.png  0352.png\n",
            "0010.png  0059.png  0108.png  0157.png\t0206.png  0255.png  0304.png  0353.png\n",
            "0011.png  0060.png  0109.png  0158.png\t0207.png  0256.png  0305.png  0354.png\n",
            "0012.png  0061.png  0110.png  0159.png\t0208.png  0257.png  0306.png  0355.png\n",
            "0013.png  0062.png  0111.png  0160.png\t0209.png  0258.png  0307.png  0356.png\n",
            "0014.png  0063.png  0112.png  0161.png\t0210.png  0259.png  0308.png  0357.png\n",
            "0015.png  0064.png  0113.png  0162.png\t0211.png  0260.png  0309.png  0358.png\n",
            "0016.png  0065.png  0114.png  0163.png\t0212.png  0261.png  0310.png  0359.png\n",
            "0017.png  0066.png  0115.png  0164.png\t0213.png  0262.png  0311.png  0360.png\n",
            "0018.png  0067.png  0116.png  0165.png\t0214.png  0263.png  0312.png  0361.png\n",
            "0019.png  0068.png  0117.png  0166.png\t0215.png  0264.png  0313.png  0362.png\n",
            "0020.png  0069.png  0118.png  0167.png\t0216.png  0265.png  0314.png  0363.png\n",
            "0021.png  0070.png  0119.png  0168.png\t0217.png  0266.png  0315.png  0364.png\n",
            "0022.png  0071.png  0120.png  0169.png\t0218.png  0267.png  0316.png  0365.png\n",
            "0023.png  0072.png  0121.png  0170.png\t0219.png  0268.png  0317.png  0366.png\n",
            "0024.png  0073.png  0122.png  0171.png\t0220.png  0269.png  0318.png  0367.png\n",
            "0025.png  0074.png  0123.png  0172.png\t0221.png  0270.png  0319.png  0368.png\n",
            "0026.png  0075.png  0124.png  0173.png\t0222.png  0271.png  0320.png  0369.png\n",
            "0027.png  0076.png  0125.png  0174.png\t0223.png  0272.png  0321.png  0370.png\n",
            "0028.png  0077.png  0126.png  0175.png\t0224.png  0273.png  0322.png  0371.png\n",
            "0029.png  0078.png  0127.png  0176.png\t0225.png  0274.png  0323.png  0372.png\n",
            "0030.png  0079.png  0128.png  0177.png\t0226.png  0275.png  0324.png  0373.png\n",
            "0031.png  0080.png  0129.png  0178.png\t0227.png  0276.png  0325.png  0374.png\n",
            "0032.png  0081.png  0130.png  0179.png\t0228.png  0277.png  0326.png  0375.png\n",
            "0033.png  0082.png  0131.png  0180.png\t0229.png  0278.png  0327.png  0376.png\n",
            "0034.png  0083.png  0132.png  0181.png\t0230.png  0279.png  0328.png  0377.png\n",
            "0035.png  0084.png  0133.png  0182.png\t0231.png  0280.png  0329.png  0378.png\n",
            "0036.png  0085.png  0134.png  0183.png\t0232.png  0281.png  0330.png  0379.png\n",
            "0037.png  0086.png  0135.png  0184.png\t0233.png  0282.png  0331.png  0380.png\n",
            "0038.png  0087.png  0136.png  0185.png\t0234.png  0283.png  0332.png  0381.png\n",
            "0039.png  0088.png  0137.png  0186.png\t0235.png  0284.png  0333.png  0382.png\n",
            "0040.png  0089.png  0138.png  0187.png\t0236.png  0285.png  0334.png  0383.png\n",
            "0041.png  0090.png  0139.png  0188.png\t0237.png  0286.png  0335.png  0384.png\n",
            "0042.png  0091.png  0140.png  0189.png\t0238.png  0287.png  0336.png  0385.png\n",
            "0043.png  0092.png  0141.png  0190.png\t0239.png  0288.png  0337.png  0386.png\n",
            "0044.png  0093.png  0142.png  0191.png\t0240.png  0289.png  0338.png  0387.png\n",
            "0045.png  0094.png  0143.png  0192.png\t0241.png  0290.png  0339.png  0388.png\n",
            "0046.png  0095.png  0144.png  0193.png\t0242.png  0291.png  0340.png  0389.png\n",
            "0047.png  0096.png  0145.png  0194.png\t0243.png  0292.png  0341.png\n",
            "0048.png  0097.png  0146.png  0195.png\t0244.png  0293.png  0342.png\n",
            "0049.png  0098.png  0147.png  0196.png\t0245.png  0294.png  0343.png\n"
          ]
        }
      ]
    },
    {
      "cell_type": "markdown",
      "metadata": {
        "id": "PWF_3wPT47fc"
      },
      "source": [
        "##ノック97 : PowerPointやWordファイルを読み込んでみよう"
      ]
    },
    {
      "cell_type": "code",
      "metadata": {
        "id": "dOoUjhMr47fc"
      },
      "source": [
        "!pip install python-pptx\n",
        "!pip install python-docx"
      ],
      "execution_count": null,
      "outputs": []
    },
    {
      "cell_type": "code",
      "metadata": {
        "id": "g0uRNims47fc"
      },
      "source": [
        "import pptx\n",
        "pptx_data = pptx.Presentation('data/サンプル_PowerPoint.pptx')\n",
        "len(pptx_data.slides)"
      ],
      "execution_count": null,
      "outputs": []
    },
    {
      "cell_type": "code",
      "metadata": {
        "id": "xAv_7gB047fc"
      },
      "source": [
        "sld_0 = pptx_data.slides[0]\n",
        "shp_sld_0 = sld_0.shapes\n",
        "len(shp_sld_0)"
      ],
      "execution_count": null,
      "outputs": []
    },
    {
      "cell_type": "code",
      "metadata": {
        "id": "_QKxzZGt47fc"
      },
      "source": [
        "print(shp_sld_0[0].text)\n",
        "print(shp_sld_0[0].has_text_frame)"
      ],
      "execution_count": null,
      "outputs": []
    },
    {
      "cell_type": "code",
      "metadata": {
        "id": "IO5yqNHW47fc"
      },
      "source": [
        "pptx_data = pptx.Presentation('data/サンプル_PowerPoint.pptx')\n",
        "texts = []\n",
        "for slide in pptx_data.slides:\n",
        "    for shape in slide.shapes:\n",
        "        if shape.has_text_frame:\n",
        "          texts.append(shape.text)\n",
        "print(texts)"
      ],
      "execution_count": null,
      "outputs": []
    },
    {
      "cell_type": "code",
      "metadata": {
        "id": "QEV2eT_d47fc"
      },
      "source": [
        "import docx\n",
        "docx_data = docx.Document('data/サンプル_Word.docx')\n",
        "len(docx_data.paragraphs)"
      ],
      "execution_count": null,
      "outputs": []
    },
    {
      "cell_type": "code",
      "metadata": {
        "id": "SNjbw56x47fd"
      },
      "source": [
        "docx_data.paragraphs[0].text"
      ],
      "execution_count": null,
      "outputs": []
    },
    {
      "cell_type": "code",
      "metadata": {
        "id": "7JzgUk2Y47fd"
      },
      "source": [
        "texts = []\n",
        "for paragraph in docx_data.paragraphs:\n",
        "  texts.append(paragraph.text)\n",
        "print(texts)"
      ],
      "execution_count": null,
      "outputs": []
    },
    {
      "cell_type": "markdown",
      "metadata": {
        "id": "D3D-9LN747fd"
      },
      "source": [
        "##ノック98 : PDFデータを読み込んでみよう"
      ]
    },
    {
      "cell_type": "code",
      "metadata": {
        "colab": {
          "base_uri": "https://localhost:8080/"
        },
        "id": "oRUa4jaA47fd",
        "outputId": "2a8c4c73-c7f0-42d2-ad29-3e16b77b8863"
      },
      "source": [
        "!pip install pdfminer.six"
      ],
      "execution_count": null,
      "outputs": [
        {
          "output_type": "stream",
          "name": "stdout",
          "text": [
            "Looking in indexes: https://pypi.org/simple, https://us-python.pkg.dev/colab-wheels/public/simple/\n",
            "Collecting pdfminer.six\n",
            "  Downloading pdfminer.six-20220524-py3-none-any.whl (5.6 MB)\n",
            "\u001b[K     |████████████████████████████████| 5.6 MB 7.6 MB/s \n",
            "\u001b[?25hRequirement already satisfied: charset-normalizer>=2.0.0 in /usr/local/lib/python3.7/dist-packages (from pdfminer.six) (2.1.1)\n",
            "Collecting cryptography>=36.0.0\n",
            "  Downloading cryptography-38.0.1-cp36-abi3-manylinux_2_24_x86_64.whl (4.0 MB)\n",
            "\u001b[K     |████████████████████████████████| 4.0 MB 40.5 MB/s \n",
            "\u001b[?25hRequirement already satisfied: cffi>=1.12 in /usr/local/lib/python3.7/dist-packages (from cryptography>=36.0.0->pdfminer.six) (1.15.1)\n",
            "Requirement already satisfied: pycparser in /usr/local/lib/python3.7/dist-packages (from cffi>=1.12->cryptography>=36.0.0->pdfminer.six) (2.21)\n",
            "Installing collected packages: cryptography, pdfminer.six\n",
            "Successfully installed cryptography-38.0.1 pdfminer.six-20220524\n"
          ]
        }
      ]
    },
    {
      "cell_type": "code",
      "metadata": {
        "id": "tENYvhJR47fd"
      },
      "source": [
        "from pdfminer.pdfinterp import PDFResourceManager, PDFPageInterpreter\n",
        "from pdfminer.converter import TextConverter\n",
        "from pdfminer.pdfpage import PDFPage\n",
        "from pdfminer.layout import LAParams"
      ],
      "execution_count": null,
      "outputs": []
    },
    {
      "cell_type": "code",
      "metadata": {
        "id": "VahUTMi247fd"
      },
      "source": [
        "pdf_data = open('data/サンプル_PDF.pdf', 'rb')\n",
        "txt_file = 'data/サンプル_PDF.txt'\n",
        "out_data = open(txt_file, mode='w')\n",
        "\n",
        "rscmgr = PDFResourceManager()\n",
        "laprms = LAParams()\n",
        "device = TextConverter(rscmgr, out_data, laparams=laprms)\n",
        "itprtr = PDFPageInterpreter(rscmgr, device)\n",
        "\n",
        "for page in PDFPage.get_pages(pdf_data):\n",
        "    itprtr.process_page(page)\n",
        "\n",
        "out_data.close()\n",
        "device.close()\n",
        "pdf_data.close()"
      ],
      "execution_count": null,
      "outputs": []
    },
    {
      "cell_type": "code",
      "metadata": {
        "colab": {
          "base_uri": "https://localhost:8080/"
        },
        "id": "-BitqQxH47fd",
        "outputId": "fa16e471-be10-49f0-cdb0-80ff85ad7ea3"
      },
      "source": [
        "with open('data/サンプル_PDF.txt', mode='r') as f:\n",
        "  content = f.read()\n",
        "print(content)"
      ],
      "execution_count": null,
      "outputs": [
        {
          "output_type": "stream",
          "name": "stdout",
          "text": [
            "これは、サンプルテキストです。そして、これが一つめの段落になっています。いろいろ\n",
            "\n",
            "読み込んでいきましょう。 \n",
            "\n",
            "続いて、これが二つ目の段落になっています。 \n",
            "\n",
            "これが三つめの段落です。 \n",
            "\n",
            " \n",
            " \n",
            "\fここから 2 ページ目です。 \n",
            "\n",
            "2 ページ目二つ目の段落です。 \n",
            "\n",
            "\f\n"
          ]
        }
      ]
    },
    {
      "cell_type": "markdown",
      "metadata": {
        "id": "3QAEcOtd47fd"
      },
      "source": [
        "## ノック99 : インタラクティブなグラフを作成してみよう"
      ]
    },
    {
      "cell_type": "code",
      "metadata": {
        "colab": {
          "base_uri": "https://localhost:8080/",
          "height": 206
        },
        "id": "_-mSG7fR47fd",
        "outputId": "527385f8-07f5-42bf-b866-49799f5e2e9b"
      },
      "source": [
        "import pandas as pd\n",
        "df = pd.read_csv('data/person_count_out_0001_2021011509.csv')\n",
        "df.head()"
      ],
      "execution_count": null,
      "outputs": [
        {
          "output_type": "execute_result",
          "data": {
            "text/plain": [
              "   id  place             receive_time  sensor_num  in1  out1  state1  in2  \\\n",
              "0   0      1  2021-01-15 09:00:00.144           2  508    73       0   73   \n",
              "1   1      1  2021-01-15 09:00:01.146           2  508    73       0   73   \n",
              "2   2      1  2021-01-15 09:00:02.161           2  508    73       0   73   \n",
              "3   3      1  2021-01-15 09:00:03.176           2  508    73       0   73   \n",
              "4   4      1  2021-01-15 09:00:04.192           2  508    73       0   73   \n",
              "\n",
              "   out2  state2  \n",
              "0   508       0  \n",
              "1   508       0  \n",
              "2   508       0  \n",
              "3   508       0  \n",
              "4   508       0  "
            ],
            "text/html": [
              "\n",
              "  <div id=\"df-5d94d468-867f-46fd-b288-626068750147\">\n",
              "    <div class=\"colab-df-container\">\n",
              "      <div>\n",
              "<style scoped>\n",
              "    .dataframe tbody tr th:only-of-type {\n",
              "        vertical-align: middle;\n",
              "    }\n",
              "\n",
              "    .dataframe tbody tr th {\n",
              "        vertical-align: top;\n",
              "    }\n",
              "\n",
              "    .dataframe thead th {\n",
              "        text-align: right;\n",
              "    }\n",
              "</style>\n",
              "<table border=\"1\" class=\"dataframe\">\n",
              "  <thead>\n",
              "    <tr style=\"text-align: right;\">\n",
              "      <th></th>\n",
              "      <th>id</th>\n",
              "      <th>place</th>\n",
              "      <th>receive_time</th>\n",
              "      <th>sensor_num</th>\n",
              "      <th>in1</th>\n",
              "      <th>out1</th>\n",
              "      <th>state1</th>\n",
              "      <th>in2</th>\n",
              "      <th>out2</th>\n",
              "      <th>state2</th>\n",
              "    </tr>\n",
              "  </thead>\n",
              "  <tbody>\n",
              "    <tr>\n",
              "      <th>0</th>\n",
              "      <td>0</td>\n",
              "      <td>1</td>\n",
              "      <td>2021-01-15 09:00:00.144</td>\n",
              "      <td>2</td>\n",
              "      <td>508</td>\n",
              "      <td>73</td>\n",
              "      <td>0</td>\n",
              "      <td>73</td>\n",
              "      <td>508</td>\n",
              "      <td>0</td>\n",
              "    </tr>\n",
              "    <tr>\n",
              "      <th>1</th>\n",
              "      <td>1</td>\n",
              "      <td>1</td>\n",
              "      <td>2021-01-15 09:00:01.146</td>\n",
              "      <td>2</td>\n",
              "      <td>508</td>\n",
              "      <td>73</td>\n",
              "      <td>0</td>\n",
              "      <td>73</td>\n",
              "      <td>508</td>\n",
              "      <td>0</td>\n",
              "    </tr>\n",
              "    <tr>\n",
              "      <th>2</th>\n",
              "      <td>2</td>\n",
              "      <td>1</td>\n",
              "      <td>2021-01-15 09:00:02.161</td>\n",
              "      <td>2</td>\n",
              "      <td>508</td>\n",
              "      <td>73</td>\n",
              "      <td>0</td>\n",
              "      <td>73</td>\n",
              "      <td>508</td>\n",
              "      <td>0</td>\n",
              "    </tr>\n",
              "    <tr>\n",
              "      <th>3</th>\n",
              "      <td>3</td>\n",
              "      <td>1</td>\n",
              "      <td>2021-01-15 09:00:03.176</td>\n",
              "      <td>2</td>\n",
              "      <td>508</td>\n",
              "      <td>73</td>\n",
              "      <td>0</td>\n",
              "      <td>73</td>\n",
              "      <td>508</td>\n",
              "      <td>0</td>\n",
              "    </tr>\n",
              "    <tr>\n",
              "      <th>4</th>\n",
              "      <td>4</td>\n",
              "      <td>1</td>\n",
              "      <td>2021-01-15 09:00:04.192</td>\n",
              "      <td>2</td>\n",
              "      <td>508</td>\n",
              "      <td>73</td>\n",
              "      <td>0</td>\n",
              "      <td>73</td>\n",
              "      <td>508</td>\n",
              "      <td>0</td>\n",
              "    </tr>\n",
              "  </tbody>\n",
              "</table>\n",
              "</div>\n",
              "      <button class=\"colab-df-convert\" onclick=\"convertToInteractive('df-5d94d468-867f-46fd-b288-626068750147')\"\n",
              "              title=\"Convert this dataframe to an interactive table.\"\n",
              "              style=\"display:none;\">\n",
              "        \n",
              "  <svg xmlns=\"http://www.w3.org/2000/svg\" height=\"24px\"viewBox=\"0 0 24 24\"\n",
              "       width=\"24px\">\n",
              "    <path d=\"M0 0h24v24H0V0z\" fill=\"none\"/>\n",
              "    <path d=\"M18.56 5.44l.94 2.06.94-2.06 2.06-.94-2.06-.94-.94-2.06-.94 2.06-2.06.94zm-11 1L8.5 8.5l.94-2.06 2.06-.94-2.06-.94L8.5 2.5l-.94 2.06-2.06.94zm10 10l.94 2.06.94-2.06 2.06-.94-2.06-.94-.94-2.06-.94 2.06-2.06.94z\"/><path d=\"M17.41 7.96l-1.37-1.37c-.4-.4-.92-.59-1.43-.59-.52 0-1.04.2-1.43.59L10.3 9.45l-7.72 7.72c-.78.78-.78 2.05 0 2.83L4 21.41c.39.39.9.59 1.41.59.51 0 1.02-.2 1.41-.59l7.78-7.78 2.81-2.81c.8-.78.8-2.07 0-2.86zM5.41 20L4 18.59l7.72-7.72 1.47 1.35L5.41 20z\"/>\n",
              "  </svg>\n",
              "      </button>\n",
              "      \n",
              "  <style>\n",
              "    .colab-df-container {\n",
              "      display:flex;\n",
              "      flex-wrap:wrap;\n",
              "      gap: 12px;\n",
              "    }\n",
              "\n",
              "    .colab-df-convert {\n",
              "      background-color: #E8F0FE;\n",
              "      border: none;\n",
              "      border-radius: 50%;\n",
              "      cursor: pointer;\n",
              "      display: none;\n",
              "      fill: #1967D2;\n",
              "      height: 32px;\n",
              "      padding: 0 0 0 0;\n",
              "      width: 32px;\n",
              "    }\n",
              "\n",
              "    .colab-df-convert:hover {\n",
              "      background-color: #E2EBFA;\n",
              "      box-shadow: 0px 1px 2px rgba(60, 64, 67, 0.3), 0px 1px 3px 1px rgba(60, 64, 67, 0.15);\n",
              "      fill: #174EA6;\n",
              "    }\n",
              "\n",
              "    [theme=dark] .colab-df-convert {\n",
              "      background-color: #3B4455;\n",
              "      fill: #D2E3FC;\n",
              "    }\n",
              "\n",
              "    [theme=dark] .colab-df-convert:hover {\n",
              "      background-color: #434B5C;\n",
              "      box-shadow: 0px 1px 3px 1px rgba(0, 0, 0, 0.15);\n",
              "      filter: drop-shadow(0px 1px 2px rgba(0, 0, 0, 0.3));\n",
              "      fill: #FFFFFF;\n",
              "    }\n",
              "  </style>\n",
              "\n",
              "      <script>\n",
              "        const buttonEl =\n",
              "          document.querySelector('#df-5d94d468-867f-46fd-b288-626068750147 button.colab-df-convert');\n",
              "        buttonEl.style.display =\n",
              "          google.colab.kernel.accessAllowed ? 'block' : 'none';\n",
              "\n",
              "        async function convertToInteractive(key) {\n",
              "          const element = document.querySelector('#df-5d94d468-867f-46fd-b288-626068750147');\n",
              "          const dataTable =\n",
              "            await google.colab.kernel.invokeFunction('convertToInteractive',\n",
              "                                                     [key], {});\n",
              "          if (!dataTable) return;\n",
              "\n",
              "          const docLinkHtml = 'Like what you see? Visit the ' +\n",
              "            '<a target=\"_blank\" href=https://colab.research.google.com/notebooks/data_table.ipynb>data table notebook</a>'\n",
              "            + ' to learn more about interactive tables.';\n",
              "          element.innerHTML = '';\n",
              "          dataTable['output_type'] = 'display_data';\n",
              "          await google.colab.output.renderOutput(dataTable, element);\n",
              "          const docLink = document.createElement('div');\n",
              "          docLink.innerHTML = docLinkHtml;\n",
              "          element.appendChild(docLink);\n",
              "        }\n",
              "      </script>\n",
              "    </div>\n",
              "  </div>\n",
              "  "
            ]
          },
          "metadata": {},
          "execution_count": 34
        }
      ]
    },
    {
      "cell_type": "code",
      "metadata": {
        "colab": {
          "base_uri": "https://localhost:8080/",
          "height": 542
        },
        "id": "B3FagU3747fd",
        "outputId": "158d9175-8f97-46c2-c88a-949830844c8f"
      },
      "source": [
        "import plotly.express as px\n",
        "fig = px.line(x=df['receive_time'], y=df['in1'])\n",
        "fig.show()"
      ],
      "execution_count": null,
      "outputs": [
        {
          "output_type": "display_data",
          "data": {
            "text/html": [
              "<html>\n",
              "<head><meta charset=\"utf-8\" /></head>\n",
              "<body>\n",
              "    <div>            <script src=\"https://cdnjs.cloudflare.com/ajax/libs/mathjax/2.7.5/MathJax.js?config=TeX-AMS-MML_SVG\"></script><script type=\"text/javascript\">if (window.MathJax) {MathJax.Hub.Config({SVG: {font: \"STIX-Web\"}});}</script>                <script type=\"text/javascript\">window.PlotlyConfig = {MathJaxConfig: 'local'};</script>\n",
              "        <script src=\"https://cdn.plot.ly/plotly-2.8.3.min.js\"></script>                <div id=\"7aa8c02e-7716-4fb0-9416-729d7c621166\" class=\"plotly-graph-div\" style=\"height:525px; width:100%;\"></div>            <script type=\"text/javascript\">                                    window.PLOTLYENV=window.PLOTLYENV || {};                                    if (document.getElementById(\"7aa8c02e-7716-4fb0-9416-729d7c621166\")) {                    Plotly.newPlot(                        \"7aa8c02e-7716-4fb0-9416-729d7c621166\",                        [{\"hovertemplate\":\"x=%{x}<br>y=%{y}<extra></extra>\",\"legendgroup\":\"\",\"line\":{\"color\":\"#636efa\",\"dash\":\"solid\"},\"marker\":{\"symbol\":\"circle\"},\"mode\":\"lines\",\"name\":\"\",\"showlegend\":false,\"x\":[\"2021-01-15 09:00:00.144\",\"2021-01-15 09:00:01.146\",\"2021-01-15 09:00:02.161\",\"2021-01-15 09:00:03.176\",\"2021-01-15 09:00:04.192\",\"2021-01-15 09:00:05.207\",\"2021-01-15 09:00:06.222\",\"2021-01-15 09:00:07.238\",\"2021-01-15 09:00:08.253\",\"2021-01-15 09:00:09.269\",\"2021-01-15 09:00:10.284\",\"2021-01-15 09:00:11.3\",\"2021-01-15 09:00:12.315\",\"2021-01-15 09:00:13.33\",\"2021-01-15 09:00:14.346\",\"2021-01-15 09:00:15.347\",\"2021-01-15 09:00:16.363\",\"2021-01-15 09:00:17.378\",\"2021-01-15 09:00:18.393\",\"2021-01-15 09:00:19.409\",\"2021-01-15 09:00:20.424\",\"2021-01-15 09:00:21.44\",\"2021-01-15 09:00:22.455\",\"2021-01-15 09:00:23.47\",\"2021-01-15 09:00:24.486\",\"2021-01-15 09:00:25.501\",\"2021-01-15 09:00:26.517\",\"2021-01-15 09:00:27.532\",\"2021-01-15 09:00:28.547\",\"2021-01-15 09:00:29.563\",\"2021-01-15 09:00:30.564\",\"2021-01-15 09:00:31.579\",\"2021-01-15 09:00:32.595\",\"2021-01-15 09:00:33.61\",\"2021-01-15 09:00:34.626\",\"2021-01-15 09:00:35.641\",\"2021-01-15 09:00:36.656\",\"2021-01-15 09:00:37.672\",\"2021-01-15 09:00:38.687\",\"2021-01-15 09:00:39.702\",\"2021-01-15 09:00:40.718\",\"2021-01-15 09:00:41.733\",\"2021-01-15 09:00:42.749\",\"2021-01-15 09:00:43.764\",\"2021-01-15 09:00:44.779\",\"2021-01-15 09:00:45.78\",\"2021-01-15 09:00:46.796\",\"2021-01-15 09:00:47.811\",\"2021-01-15 09:00:48.827\",\"2021-01-15 09:00:49.842\",\"2021-01-15 09:00:50.858\",\"2021-01-15 09:00:51.873\",\"2021-01-15 09:00:52.888\",\"2021-01-15 09:00:53.904\",\"2021-01-15 09:00:54.919\",\"2021-01-15 09:00:55.934\",\"2021-01-15 09:00:56.95\",\"2021-01-15 09:00:57.965\",\"2021-01-15 09:00:58.981\",\"2021-01-15 09:00:59.996\",\"2021-01-15 09:01:00.997\",\"2021-01-15 09:01:02.013\",\"2021-01-15 09:01:03.028\",\"2021-01-15 09:01:04.044\",\"2021-01-15 09:01:05.059\",\"2021-01-15 09:01:06.074\",\"2021-01-15 09:01:07.09\",\"2021-01-15 09:01:08.105\",\"2021-01-15 09:01:09.12\",\"2021-01-15 09:01:10.136\",\"2021-01-15 09:01:11.151\",\"2021-01-15 09:01:12.167\",\"2021-01-15 09:01:13.182\",\"2021-01-15 09:01:14.197\",\"2021-01-15 09:01:15.199\",\"2021-01-15 09:01:16.214\",\"2021-01-15 09:01:17.229\",\"2021-01-15 09:01:18.245\",\"2021-01-15 09:01:19.26\",\"2021-01-15 09:01:20.275\",\"2021-01-15 09:01:21.291\",\"2021-01-15 09:01:22.306\",\"2021-01-15 09:01:23.322\",\"2021-01-15 09:01:24.337\",\"2021-01-15 09:01:25.352\",\"2021-01-15 09:01:26.368\",\"2021-01-15 09:01:27.383\",\"2021-01-15 09:01:28.398\",\"2021-01-15 09:01:29.414\",\"2021-01-15 09:01:30.415\",\"2021-01-15 09:01:31.431\",\"2021-01-15 09:01:32.446\",\"2021-01-15 09:01:33.461\",\"2021-01-15 09:01:34.477\",\"2021-01-15 09:01:35.492\",\"2021-01-15 09:01:36.508\",\"2021-01-15 09:01:37.523\",\"2021-01-15 09:01:38.538\",\"2021-01-15 09:01:39.554\",\"2021-01-15 09:01:40.569\",\"2021-01-15 09:01:41.585\",\"2021-01-15 09:01:42.6\",\"2021-01-15 09:01:43.615\",\"2021-01-15 09:01:44.631\",\"2021-01-15 09:01:45.637\",\"2021-01-15 09:01:46.653\",\"2021-01-15 09:01:47.668\",\"2021-01-15 09:01:48.683\",\"2021-01-15 09:01:49.699\",\"2021-01-15 09:01:50.714\",\"2021-01-15 09:01:51.73\",\"2021-01-15 09:01:52.745\",\"2021-01-15 09:01:53.76\",\"2021-01-15 09:01:54.775\",\"2021-01-15 09:01:55.791\",\"2021-01-15 09:01:56.806\",\"2021-01-15 09:01:57.822\",\"2021-01-15 09:01:58.837\",\"2021-01-15 09:01:59.853\",\"2021-01-15 09:02:00.854\",\"2021-01-15 09:02:02.885\",\"2021-01-15 09:02:03.9\",\"2021-01-15 09:02:04.916\",\"2021-01-15 09:02:05.931\",\"2021-01-15 09:02:06.946\",\"2021-01-15 09:02:07.962\",\"2021-01-15 09:02:08.977\",\"2021-01-15 09:02:09.992\",\"2021-01-15 09:02:11.008\",\"2021-01-15 09:02:12.023\",\"2021-01-15 09:02:13.038\",\"2021-01-15 09:02:14.054\",\"2021-01-15 09:02:15.069\",\"2021-01-15 09:02:16.071\",\"2021-01-15 09:02:17.086\",\"2021-01-15 09:02:18.101\",\"2021-01-15 09:02:19.117\",\"2021-01-15 09:02:20.132\",\"2021-01-15 09:02:21.148\",\"2021-01-15 09:02:22.163\",\"2021-01-15 09:02:23.178\",\"2021-01-15 09:02:24.194\",\"2021-01-15 09:02:25.209\",\"2021-01-15 09:02:26.224\",\"2021-01-15 09:02:27.24\",\"2021-01-15 09:02:28.255\",\"2021-01-15 09:02:29.271\",\"2021-01-15 09:02:30.272\",\"2021-01-15 09:02:31.287\",\"2021-01-15 09:02:32.303\",\"2021-01-15 09:02:33.318\",\"2021-01-15 09:02:34.334\",\"2021-01-15 09:02:35.349\",\"2021-01-15 09:02:36.364\",\"2021-01-15 09:02:37.38\",\"2021-01-15 09:02:38.395\",\"2021-01-15 09:02:39.41\",\"2021-01-15 09:02:40.426\",\"2021-01-15 09:02:41.441\",\"2021-01-15 09:02:42.456\",\"2021-01-15 09:02:43.472\",\"2021-01-15 09:02:44.487\",\"2021-01-15 09:02:45.489\",\"2021-01-15 09:02:46.504\",\"2021-01-15 09:02:47.519\",\"2021-01-15 09:02:48.535\",\"2021-01-15 09:02:49.55\",\"2021-01-15 09:02:50.566\",\"2021-01-15 09:02:51.581\",\"2021-01-15 09:02:52.597\",\"2021-01-15 09:02:53.612\",\"2021-01-15 09:02:54.627\",\"2021-01-15 09:02:55.642\",\"2021-01-15 09:02:56.658\",\"2021-01-15 09:02:57.673\",\"2021-01-15 09:02:58.689\",\"2021-01-15 09:02:59.704\",\"2021-01-15 09:03:00.705\",\"2021-01-15 09:03:01.721\",\"2021-01-15 09:03:02.736\",\"2021-01-15 09:03:03.751\",\"2021-01-15 09:03:04.767\",\"2021-01-15 09:03:05.782\",\"2021-01-15 09:03:06.797\",\"2021-01-15 09:03:07.813\",\"2021-01-15 09:03:08.828\",\"2021-01-15 09:03:09.844\",\"2021-01-15 09:03:10.859\",\"2021-01-15 09:03:11.874\",\"2021-01-15 09:03:12.89\",\"2021-01-15 09:03:13.905\",\"2021-01-15 09:03:14.921\",\"2021-01-15 09:03:15.922\",\"2021-01-15 09:03:16.937\",\"2021-01-15 09:03:17.952\",\"2021-01-15 09:03:18.968\",\"2021-01-15 09:03:19.983\",\"2021-01-15 09:03:20.999\",\"2021-01-15 09:03:22.014\",\"2021-01-15 09:03:23.029\",\"2021-01-15 09:03:24.045\",\"2021-01-15 09:03:25.06\",\"2021-01-15 09:03:26.076\",\"2021-01-15 09:03:27.091\",\"2021-01-15 09:03:28.106\",\"2021-01-15 09:03:29.122\",\"2021-01-15 09:03:30.137\",\"2021-01-15 09:03:31.138\",\"2021-01-15 09:03:32.153\",\"2021-01-15 09:03:33.169\",\"2021-01-15 09:03:34.184\",\"2021-01-15 09:03:35.199\",\"2021-01-15 09:03:36.215\",\"2021-01-15 09:03:37.23\",\"2021-01-15 09:03:38.246\",\"2021-01-15 09:03:39.261\",\"2021-01-15 09:03:40.277\",\"2021-01-15 09:03:41.292\",\"2021-01-15 09:03:42.307\",\"2021-01-15 09:03:43.323\",\"2021-01-15 09:03:44.338\",\"2021-01-15 09:03:45.34\",\"2021-01-15 09:03:46.355\",\"2021-01-15 09:03:47.37\",\"2021-01-15 09:03:48.386\",\"2021-01-15 09:03:49.401\",\"2021-01-15 09:03:50.417\",\"2021-01-15 09:03:51.432\",\"2021-01-15 09:03:52.447\",\"2021-01-15 09:03:53.463\",\"2021-01-15 09:03:54.478\",\"2021-01-15 09:03:55.493\",\"2021-01-15 09:03:56.509\",\"2021-01-15 09:03:57.524\",\"2021-01-15 09:03:58.54\",\"2021-01-15 09:03:59.555\",\"2021-01-15 09:04:00.563\",\"2021-01-15 09:04:01.579\",\"2021-01-15 09:04:02.594\",\"2021-01-15 09:04:03.609\",\"2021-01-15 09:04:04.623\",\"2021-01-15 09:04:05.638\",\"2021-01-15 09:04:06.653\",\"2021-01-15 09:04:07.669\",\"2021-01-15 09:04:08.684\",\"2021-01-15 09:04:09.699\",\"2021-01-15 09:04:10.715\",\"2021-01-15 09:04:11.73\",\"2021-01-15 09:04:12.746\",\"2021-01-15 09:04:13.761\",\"2021-01-15 09:04:14.776\",\"2021-01-15 09:04:15.778\",\"2021-01-15 09:04:16.793\",\"2021-01-15 09:04:17.808\",\"2021-01-15 09:04:18.824\",\"2021-01-15 09:04:19.839\",\"2021-01-15 09:04:20.855\",\"2021-01-15 09:04:21.87\",\"2021-01-15 09:04:22.885\",\"2021-01-15 09:04:23.901\",\"2021-01-15 09:04:24.916\",\"2021-01-15 09:04:25.931\",\"2021-01-15 09:04:26.947\",\"2021-01-15 09:04:27.962\",\"2021-01-15 09:04:28.977\",\"2021-01-15 09:04:29.993\",\"2021-01-15 09:04:30.994\",\"2021-01-15 09:04:32.01\",\"2021-01-15 09:04:33.025\",\"2021-01-15 09:04:34.041\",\"2021-01-15 09:04:35.056\",\"2021-01-15 09:04:36.071\",\"2021-01-15 09:04:37.087\",\"2021-01-15 09:04:38.102\",\"2021-01-15 09:04:39.118\",\"2021-01-15 09:04:40.133\",\"2021-01-15 09:04:41.148\",\"2021-01-15 09:04:42.164\",\"2021-01-15 09:04:43.179\",\"2021-01-15 09:04:44.194\",\"2021-01-15 09:04:45.196\",\"2021-01-15 09:04:46.211\",\"2021-01-15 09:04:47.226\",\"2021-01-15 09:04:48.242\",\"2021-01-15 09:04:49.257\",\"2021-01-15 09:04:50.273\",\"2021-01-15 09:04:51.288\",\"2021-01-15 09:04:52.303\",\"2021-01-15 09:04:53.319\",\"2021-01-15 09:04:54.334\",\"2021-01-15 09:04:55.349\",\"2021-01-15 09:04:56.365\",\"2021-01-15 09:04:57.38\",\"2021-01-15 09:04:58.396\",\"2021-01-15 09:04:59.411\",\"2021-01-15 09:05:00.413\",\"2021-01-15 09:05:01.429\",\"2021-01-15 09:05:02.444\",\"2021-01-15 09:05:03.459\",\"2021-01-15 09:05:04.475\",\"2021-01-15 09:05:05.49\",\"2021-01-15 09:05:06.505\",\"2021-01-15 09:05:07.521\",\"2021-01-15 09:05:08.536\",\"2021-01-15 09:05:09.552\",\"2021-01-15 09:05:10.567\",\"2021-01-15 09:05:11.583\",\"2021-01-15 09:05:12.598\",\"2021-01-15 09:05:13.613\",\"2021-01-15 09:05:14.629\",\"2021-01-15 09:05:15.63\",\"2021-01-15 09:05:16.645\",\"2021-01-15 09:05:17.661\",\"2021-01-15 09:05:18.676\",\"2021-01-15 09:05:19.692\",\"2021-01-15 09:05:20.707\",\"2021-01-15 09:05:21.722\",\"2021-01-15 09:05:22.738\",\"2021-01-15 09:05:23.753\",\"2021-01-15 09:05:24.768\",\"2021-01-15 09:05:25.784\",\"2021-01-15 09:05:26.799\",\"2021-01-15 09:05:27.815\",\"2021-01-15 09:05:28.83\",\"2021-01-15 09:05:29.845\",\"2021-01-15 09:05:30.847\",\"2021-01-15 09:05:31.862\",\"2021-01-15 09:05:32.878\",\"2021-01-15 09:05:33.893\",\"2021-01-15 09:05:34.908\",\"2021-01-15 09:05:35.924\",\"2021-01-15 09:05:36.939\",\"2021-01-15 09:05:37.955\",\"2021-01-15 09:05:38.97\",\"2021-01-15 09:05:39.985\",\"2021-01-15 09:05:41.001\",\"2021-01-15 09:05:42.016\",\"2021-01-15 09:05:43.032\",\"2021-01-15 09:05:44.047\",\"2021-01-15 09:05:45.062\",\"2021-01-15 09:05:46.064\",\"2021-01-15 09:05:47.079\",\"2021-01-15 09:05:48.094\",\"2021-01-15 09:05:49.11\",\"2021-01-15 09:05:50.125\",\"2021-01-15 09:05:51.141\",\"2021-01-15 09:05:52.156\",\"2021-01-15 09:05:53.172\",\"2021-01-15 09:05:54.187\",\"2021-01-15 09:05:55.202\",\"2021-01-15 09:05:56.218\",\"2021-01-15 09:05:57.233\",\"2021-01-15 09:05:58.249\",\"2021-01-15 09:05:59.264\",\"2021-01-15 09:06:00.265\",\"2021-01-15 09:06:01.281\",\"2021-01-15 09:06:02.296\",\"2021-01-15 09:06:03.312\",\"2021-01-15 09:06:04.327\",\"2021-01-15 09:06:05.342\",\"2021-01-15 09:06:06.357\",\"2021-01-15 09:06:07.373\",\"2021-01-15 09:06:08.388\",\"2021-01-15 09:06:09.404\",\"2021-01-15 09:06:10.419\",\"2021-01-15 09:06:11.435\",\"2021-01-15 09:06:12.45\",\"2021-01-15 09:06:13.465\",\"2021-01-15 09:06:14.481\",\"2021-01-15 09:06:15.49\",\"2021-01-15 09:06:16.505\",\"2021-01-15 09:06:17.521\",\"2021-01-15 09:06:18.536\",\"2021-01-15 09:06:19.552\",\"2021-01-15 09:06:20.567\",\"2021-01-15 09:06:21.582\",\"2021-01-15 09:06:22.598\",\"2021-01-15 09:06:23.613\",\"2021-01-15 09:06:24.628\",\"2021-01-15 09:06:25.644\",\"2021-01-15 09:06:26.659\",\"2021-01-15 09:06:27.675\",\"2021-01-15 09:06:28.69\",\"2021-01-15 09:06:29.705\",\"2021-01-15 09:06:30.707\",\"2021-01-15 09:06:31.722\",\"2021-01-15 09:06:32.737\",\"2021-01-15 09:06:33.753\",\"2021-01-15 09:06:34.768\",\"2021-01-15 09:06:35.784\",\"2021-01-15 09:06:36.799\",\"2021-01-15 09:06:37.814\",\"2021-01-15 09:06:38.83\",\"2021-01-15 09:06:39.845\",\"2021-01-15 09:06:40.861\",\"2021-01-15 09:06:41.876\",\"2021-01-15 09:06:42.891\",\"2021-01-15 09:06:43.907\",\"2021-01-15 09:06:44.922\",\"2021-01-15 09:06:45.923\",\"2021-01-15 09:06:46.939\",\"2021-01-15 09:06:47.954\",\"2021-01-15 09:06:48.969\",\"2021-01-15 09:06:49.985\",\"2021-01-15 09:06:51\",\"2021-01-15 09:06:52.016\",\"2021-01-15 09:06:53.031\",\"2021-01-15 09:06:54.046\",\"2021-01-15 09:06:55.062\",\"2021-01-15 09:06:57.093\",\"2021-01-15 09:06:58.108\",\"2021-01-15 09:06:59.123\",\"2021-01-15 09:07:00.139\",\"2021-01-15 09:07:01.14\",\"2021-01-15 09:07:02.156\",\"2021-01-15 09:07:03.171\",\"2021-01-15 09:07:04.187\",\"2021-01-15 09:07:05.202\",\"2021-01-15 09:07:06.217\",\"2021-01-15 09:07:07.233\",\"2021-01-15 09:07:08.248\",\"2021-01-15 09:07:09.263\",\"2021-01-15 09:07:10.279\",\"2021-01-15 09:07:11.294\",\"2021-01-15 09:07:12.31\",\"2021-01-15 09:07:13.325\",\"2021-01-15 09:07:14.34\",\"2021-01-15 09:07:15.343\",\"2021-01-15 09:07:16.358\",\"2021-01-15 09:07:17.36\",\"2021-01-15 09:07:18.375\",\"2021-01-15 09:07:19.377\",\"2021-01-15 09:07:20.389\",\"2021-01-15 09:07:21.391\",\"2021-01-15 09:07:22.406\",\"2021-01-15 09:07:23.421\",\"2021-01-15 09:07:24.437\",\"2021-01-15 09:07:25.438\",\"2021-01-15 09:07:26.453\",\"2021-01-15 09:07:27.469\",\"2021-01-15 09:07:28.484\",\"2021-01-15 09:07:29.5\",\"2021-01-15 09:07:30.501\",\"2021-01-15 09:07:31.516\",\"2021-01-15 09:07:32.532\",\"2021-01-15 09:07:33.547\",\"2021-01-15 09:07:34.563\",\"2021-01-15 09:07:35.578\",\"2021-01-15 09:07:36.593\",\"2021-01-15 09:07:37.609\",\"2021-01-15 09:07:38.624\",\"2021-01-15 09:07:39.639\",\"2021-01-15 09:07:40.655\",\"2021-01-15 09:07:41.67\",\"2021-01-15 09:07:42.686\",\"2021-01-15 09:07:43.701\",\"2021-01-15 09:07:44.716\",\"2021-01-15 09:07:45.718\",\"2021-01-15 09:07:46.733\",\"2021-01-15 09:07:47.749\",\"2021-01-15 09:07:48.764\",\"2021-01-15 09:07:49.779\",\"2021-01-15 09:07:50.795\",\"2021-01-15 09:07:51.81\",\"2021-01-15 09:07:52.826\",\"2021-01-15 09:07:53.841\",\"2021-01-15 09:07:54.856\",\"2021-01-15 09:07:55.872\",\"2021-01-15 09:07:56.887\",\"2021-01-15 09:07:57.902\",\"2021-01-15 09:07:58.918\",\"2021-01-15 09:07:59.933\",\"2021-01-15 09:08:00.935\",\"2021-01-15 09:08:01.95\",\"2021-01-15 09:08:02.966\",\"2021-01-15 09:08:03.981\",\"2021-01-15 09:08:04.996\",\"2021-01-15 09:08:06.012\",\"2021-01-15 09:08:07.027\",\"2021-01-15 09:08:08.042\",\"2021-01-15 09:08:09.058\",\"2021-01-15 09:08:10.073\",\"2021-01-15 09:08:11.089\",\"2021-01-15 09:08:12.104\",\"2021-01-15 09:08:13.119\",\"2021-01-15 09:08:14.135\",\"2021-01-15 09:08:15.15\",\"2021-01-15 09:08:16.152\",\"2021-01-15 09:08:17.167\",\"2021-01-15 09:08:18.182\",\"2021-01-15 09:08:19.198\",\"2021-01-15 09:08:20.213\",\"2021-01-15 09:08:21.229\",\"2021-01-15 09:08:22.244\",\"2021-01-15 09:08:23.259\",\"2021-01-15 09:08:24.275\",\"2021-01-15 09:08:25.29\",\"2021-01-15 09:08:26.306\",\"2021-01-15 09:08:27.321\",\"2021-01-15 09:08:28.336\",\"2021-01-15 09:08:29.352\",\"2021-01-15 09:08:30.36\",\"2021-01-15 09:08:31.376\",\"2021-01-15 09:08:32.391\",\"2021-01-15 09:08:33.406\",\"2021-01-15 09:08:34.422\",\"2021-01-15 09:08:35.437\",\"2021-01-15 09:08:36.452\",\"2021-01-15 09:08:37.468\",\"2021-01-15 09:08:38.483\",\"2021-01-15 09:08:39.499\",\"2021-01-15 09:08:40.514\",\"2021-01-15 09:08:41.529\",\"2021-01-15 09:08:42.545\",\"2021-01-15 09:08:43.56\",\"2021-01-15 09:08:44.575\",\"2021-01-15 09:08:45.577\",\"2021-01-15 09:08:46.592\",\"2021-01-15 09:08:47.608\",\"2021-01-15 09:08:48.623\",\"2021-01-15 09:08:49.638\",\"2021-01-15 09:08:50.654\",\"2021-01-15 09:08:51.669\",\"2021-01-15 09:08:52.685\",\"2021-01-15 09:08:53.7\",\"2021-01-15 09:08:54.715\",\"2021-01-15 09:08:55.731\",\"2021-01-15 09:08:56.746\",\"2021-01-15 09:08:57.762\",\"2021-01-15 09:08:58.777\",\"2021-01-15 09:08:59.792\",\"2021-01-15 09:09:00.794\",\"2021-01-15 09:09:01.809\",\"2021-01-15 09:09:02.824\",\"2021-01-15 09:09:03.84\",\"2021-01-15 09:09:04.855\",\"2021-01-15 09:09:05.871\",\"2021-01-15 09:09:06.886\",\"2021-01-15 09:09:07.901\",\"2021-01-15 09:09:08.917\",\"2021-01-15 09:09:09.932\",\"2021-01-15 09:09:10.948\",\"2021-01-15 09:09:11.963\",\"2021-01-15 09:09:12.978\",\"2021-01-15 09:09:13.994\",\"2021-01-15 09:09:15.009\",\"2021-01-15 09:09:16.011\",\"2021-01-15 09:09:17.026\",\"2021-01-15 09:09:18.041\",\"2021-01-15 09:09:19.057\",\"2021-01-15 09:09:20.072\",\"2021-01-15 09:09:21.087\",\"2021-01-15 09:09:22.103\",\"2021-01-15 09:09:23.118\",\"2021-01-15 09:09:24.134\",\"2021-01-15 09:09:25.149\",\"2021-01-15 09:09:26.164\",\"2021-01-15 09:09:27.18\",\"2021-01-15 09:09:28.195\",\"2021-01-15 09:09:29.21\",\"2021-01-15 09:09:30.212\",\"2021-01-15 09:09:31.227\",\"2021-01-15 09:09:32.242\",\"2021-01-15 09:09:33.258\",\"2021-01-15 09:09:34.273\",\"2021-01-15 09:09:35.288\",\"2021-01-15 09:09:36.304\",\"2021-01-15 09:09:37.32\",\"2021-01-15 09:09:38.335\",\"2021-01-15 09:09:39.35\",\"2021-01-15 09:09:40.366\",\"2021-01-15 09:09:41.381\",\"2021-01-15 09:09:42.396\",\"2021-01-15 09:09:43.412\",\"2021-01-15 09:09:44.427\",\"2021-01-15 09:09:45.428\",\"2021-01-15 09:09:46.444\",\"2021-01-15 09:09:47.459\",\"2021-01-15 09:09:48.474\",\"2021-01-15 09:09:49.49\",\"2021-01-15 09:09:50.505\",\"2021-01-15 09:09:51.521\",\"2021-01-15 09:09:52.536\",\"2021-01-15 09:09:53.551\",\"2021-01-15 09:09:54.567\",\"2021-01-15 09:09:55.582\",\"2021-01-15 09:09:56.598\",\"2021-01-15 09:09:57.613\",\"2021-01-15 09:09:58.628\",\"2021-01-15 09:09:59.644\",\"2021-01-15 09:10:00.645\",\"2021-01-15 09:10:01.661\",\"2021-01-15 09:10:02.676\",\"2021-01-15 09:10:03.691\",\"2021-01-15 09:10:04.707\",\"2021-01-15 09:10:05.722\",\"2021-01-15 09:10:06.737\",\"2021-01-15 09:10:07.753\",\"2021-01-15 09:10:08.768\",\"2021-01-15 09:10:09.784\",\"2021-01-15 09:10:10.799\",\"2021-01-15 09:10:11.814\",\"2021-01-15 09:10:12.83\",\"2021-01-15 09:10:13.845\",\"2021-01-15 09:10:14.86\",\"2021-01-15 09:10:15.862\",\"2021-01-15 09:10:16.877\",\"2021-01-15 09:10:17.893\",\"2021-01-15 09:10:18.908\",\"2021-01-15 09:10:19.923\",\"2021-01-15 09:10:20.939\",\"2021-01-15 09:10:21.954\",\"2021-01-15 09:10:22.97\",\"2021-01-15 09:10:23.985\",\"2021-01-15 09:10:25\",\"2021-01-15 09:10:26.016\",\"2021-01-15 09:10:27.031\",\"2021-01-15 09:10:28.047\",\"2021-01-15 09:10:29.062\",\"2021-01-15 09:10:30.077\",\"2021-01-15 09:10:31.079\",\"2021-01-15 09:10:32.094\",\"2021-01-15 09:10:33.11\",\"2021-01-15 09:10:34.125\",\"2021-01-15 09:10:35.14\",\"2021-01-15 09:10:36.156\",\"2021-01-15 09:10:37.171\",\"2021-01-15 09:10:38.187\",\"2021-01-15 09:10:39.202\",\"2021-01-15 09:10:40.217\",\"2021-01-15 09:10:41.233\",\"2021-01-15 09:10:42.248\",\"2021-01-15 09:10:43.264\",\"2021-01-15 09:10:44.279\",\"2021-01-15 09:10:45.287\",\"2021-01-15 09:10:46.303\",\"2021-01-15 09:10:47.318\",\"2021-01-15 09:10:48.334\",\"2021-01-15 09:10:49.349\",\"2021-01-15 09:10:50.364\",\"2021-01-15 09:10:51.38\",\"2021-01-15 09:10:52.395\",\"2021-01-15 09:10:53.41\",\"2021-01-15 09:10:54.426\",\"2021-01-15 09:10:55.441\",\"2021-01-15 09:10:56.457\",\"2021-01-15 09:10:57.472\",\"2021-01-15 09:10:58.487\",\"2021-01-15 09:10:59.503\",\"2021-01-15 09:11:00.504\",\"2021-01-15 09:11:01.52\",\"2021-01-15 09:11:02.535\",\"2021-01-15 09:11:03.55\",\"2021-01-15 09:11:04.565\",\"2021-01-15 09:11:05.581\",\"2021-01-15 09:11:06.597\",\"2021-01-15 09:11:07.612\",\"2021-01-15 09:11:08.627\",\"2021-01-15 09:11:09.643\",\"2021-01-15 09:11:10.658\",\"2021-01-15 09:11:11.673\",\"2021-01-15 09:11:12.689\",\"2021-01-15 09:11:13.704\",\"2021-01-15 09:11:14.72\",\"2021-01-15 09:11:15.721\",\"2021-01-15 09:11:16.736\",\"2021-01-15 09:11:17.752\",\"2021-01-15 09:11:18.767\",\"2021-01-15 09:11:19.783\",\"2021-01-15 09:11:20.798\",\"2021-01-15 09:11:21.813\",\"2021-01-15 09:11:22.829\",\"2021-01-15 09:11:23.844\",\"2021-01-15 09:11:24.859\",\"2021-01-15 09:11:25.875\",\"2021-01-15 09:11:26.89\",\"2021-01-15 09:11:27.906\",\"2021-01-15 09:11:28.921\",\"2021-01-15 09:11:29.936\",\"2021-01-15 09:11:30.938\",\"2021-01-15 09:11:31.953\",\"2021-01-15 09:11:32.968\",\"2021-01-15 09:11:33.984\",\"2021-01-15 09:11:34.999\",\"2021-01-15 09:11:36.014\",\"2021-01-15 09:11:37.03\",\"2021-01-15 09:11:38.045\",\"2021-01-15 09:11:39.061\",\"2021-01-15 09:11:40.076\",\"2021-01-15 09:11:41.092\",\"2021-01-15 09:11:42.107\",\"2021-01-15 09:11:43.122\",\"2021-01-15 09:11:44.138\",\"2021-01-15 09:11:45.153\",\"2021-01-15 09:11:46.155\",\"2021-01-15 09:11:47.17\",\"2021-01-15 09:11:48.185\",\"2021-01-15 09:11:49.201\",\"2021-01-15 09:11:50.216\",\"2021-01-15 09:11:51.232\",\"2021-01-15 09:11:52.247\",\"2021-01-15 09:11:53.262\",\"2021-01-15 09:11:54.278\",\"2021-01-15 09:11:55.293\",\"2021-01-15 09:11:56.309\",\"2021-01-15 09:11:57.324\",\"2021-01-15 09:11:58.339\",\"2021-01-15 09:11:59.355\",\"2021-01-15 09:12:00.356\",\"2021-01-15 09:12:01.371\",\"2021-01-15 09:12:02.387\",\"2021-01-15 09:12:03.402\",\"2021-01-15 09:12:04.417\",\"2021-01-15 09:12:05.433\",\"2021-01-15 09:12:06.448\",\"2021-01-15 09:12:08.479\",\"2021-01-15 09:12:09.494\",\"2021-01-15 09:12:10.51\",\"2021-01-15 09:12:11.525\",\"2021-01-15 09:12:12.541\",\"2021-01-15 09:12:13.556\",\"2021-01-15 09:12:14.571\",\"2021-01-15 09:12:15.573\",\"2021-01-15 09:12:16.588\",\"2021-01-15 09:12:17.603\",\"2021-01-15 09:12:18.619\",\"2021-01-15 09:12:19.634\",\"2021-01-15 09:12:20.65\",\"2021-01-15 09:12:21.665\",\"2021-01-15 09:12:22.68\",\"2021-01-15 09:12:23.696\",\"2021-01-15 09:12:24.711\",\"2021-01-15 09:12:25.726\",\"2021-01-15 09:12:26.742\",\"2021-01-15 09:12:27.757\",\"2021-01-15 09:12:28.772\",\"2021-01-15 09:12:29.788\",\"2021-01-15 09:12:30.789\",\"2021-01-15 09:12:31.805\",\"2021-01-15 09:12:32.82\",\"2021-01-15 09:12:33.835\",\"2021-01-15 09:12:34.851\",\"2021-01-15 09:12:35.866\",\"2021-01-15 09:12:36.882\",\"2021-01-15 09:12:37.897\",\"2021-01-15 09:12:38.897\",\"2021-01-15 09:12:39.912\",\"2021-01-15 09:12:40.928\",\"2021-01-15 09:12:41.943\",\"2021-01-15 09:12:42.958\",\"2021-01-15 09:12:43.974\",\"2021-01-15 09:12:44.989\",\"2021-01-15 09:12:45.998\",\"2021-01-15 09:12:47.014\",\"2021-01-15 09:12:48.029\",\"2021-01-15 09:12:49.045\",\"2021-01-15 09:12:50.06\",\"2021-01-15 09:12:51.075\",\"2021-01-15 09:12:52.091\",\"2021-01-15 09:12:53.106\",\"2021-01-15 09:12:54.121\",\"2021-01-15 09:12:55.137\",\"2021-01-15 09:12:56.152\",\"2021-01-15 09:12:57.168\",\"2021-01-15 09:12:58.183\",\"2021-01-15 09:12:59.198\",\"2021-01-15 09:13:00.2\",\"2021-01-15 09:13:01.215\",\"2021-01-15 09:13:02.23\",\"2021-01-15 09:13:03.246\",\"2021-01-15 09:13:04.261\",\"2021-01-15 09:13:05.277\",\"2021-01-15 09:13:06.292\",\"2021-01-15 09:13:07.307\",\"2021-01-15 09:13:08.323\",\"2021-01-15 09:13:09.338\",\"2021-01-15 09:13:10.354\",\"2021-01-15 09:13:11.369\",\"2021-01-15 09:13:12.384\",\"2021-01-15 09:13:13.4\",\"2021-01-15 09:13:14.415\",\"2021-01-15 09:13:15.416\",\"2021-01-15 09:13:16.432\",\"2021-01-15 09:13:17.447\",\"2021-01-15 09:13:18.463\",\"2021-01-15 09:13:19.478\",\"2021-01-15 09:13:20.493\",\"2021-01-15 09:13:21.509\",\"2021-01-15 09:13:22.524\",\"2021-01-15 09:13:23.54\",\"2021-01-15 09:13:24.555\",\"2021-01-15 09:13:25.57\",\"2021-01-15 09:13:26.586\",\"2021-01-15 09:13:27.601\",\"2021-01-15 09:13:28.616\",\"2021-01-15 09:13:29.632\",\"2021-01-15 09:13:30.633\",\"2021-01-15 09:13:31.648\",\"2021-01-15 09:13:32.664\",\"2021-01-15 09:13:33.679\",\"2021-01-15 09:13:34.695\",\"2021-01-15 09:13:35.71\",\"2021-01-15 09:13:36.726\",\"2021-01-15 09:13:37.741\",\"2021-01-15 09:13:38.756\",\"2021-01-15 09:13:39.772\",\"2021-01-15 09:13:40.787\",\"2021-01-15 09:13:41.803\",\"2021-01-15 09:13:42.818\",\"2021-01-15 09:13:43.833\",\"2021-01-15 09:13:44.849\",\"2021-01-15 09:13:45.85\",\"2021-01-15 09:13:46.865\",\"2021-01-15 09:13:47.881\",\"2021-01-15 09:13:48.896\",\"2021-01-15 09:13:49.912\",\"2021-01-15 09:13:50.927\",\"2021-01-15 09:13:51.942\",\"2021-01-15 09:13:52.957\",\"2021-01-15 09:13:53.973\",\"2021-01-15 09:13:54.988\",\"2021-01-15 09:13:56.004\",\"2021-01-15 09:13:57.019\",\"2021-01-15 09:13:58.034\",\"2021-01-15 09:13:59.05\",\"2021-01-15 09:14:00.065\",\"2021-01-15 09:14:01.067\",\"2021-01-15 09:14:02.082\",\"2021-01-15 09:14:03.097\",\"2021-01-15 09:14:04.113\",\"2021-01-15 09:14:05.126\",\"2021-01-15 09:14:06.141\",\"2021-01-15 09:14:07.156\",\"2021-01-15 09:14:08.172\",\"2021-01-15 09:14:09.187\",\"2021-01-15 09:14:10.203\",\"2021-01-15 09:14:11.218\",\"2021-01-15 09:14:12.233\",\"2021-01-15 09:14:13.249\",\"2021-01-15 09:14:14.264\",\"2021-01-15 09:14:15.266\",\"2021-01-15 09:14:16.281\",\"2021-01-15 09:14:17.296\",\"2021-01-15 09:14:18.312\",\"2021-01-15 09:14:19.327\",\"2021-01-15 09:14:20.342\",\"2021-01-15 09:14:21.358\",\"2021-01-15 09:14:22.373\",\"2021-01-15 09:14:23.389\",\"2021-01-15 09:14:24.404\",\"2021-01-15 09:14:25.419\",\"2021-01-15 09:14:26.434\",\"2021-01-15 09:14:27.45\",\"2021-01-15 09:14:28.465\",\"2021-01-15 09:14:29.481\",\"2021-01-15 09:14:30.482\",\"2021-01-15 09:14:31.498\",\"2021-01-15 09:14:32.513\",\"2021-01-15 09:14:33.528\",\"2021-01-15 09:14:34.544\",\"2021-01-15 09:14:35.559\",\"2021-01-15 09:14:36.574\",\"2021-01-15 09:14:37.59\",\"2021-01-15 09:14:38.605\",\"2021-01-15 09:14:39.621\",\"2021-01-15 09:14:40.636\",\"2021-01-15 09:14:41.651\",\"2021-01-15 09:14:42.667\",\"2021-01-15 09:14:43.682\",\"2021-01-15 09:14:44.698\",\"2021-01-15 09:14:45.699\",\"2021-01-15 09:14:46.714\",\"2021-01-15 09:14:47.73\",\"2021-01-15 09:14:48.745\",\"2021-01-15 09:14:49.76\",\"2021-01-15 09:14:50.776\",\"2021-01-15 09:14:51.791\",\"2021-01-15 09:14:52.807\",\"2021-01-15 09:14:53.822\",\"2021-01-15 09:14:54.837\",\"2021-01-15 09:14:55.853\",\"2021-01-15 09:14:56.868\",\"2021-01-15 09:14:57.884\",\"2021-01-15 09:14:58.899\",\"2021-01-15 09:14:59.914\",\"2021-01-15 09:15:00.922\",\"2021-01-15 09:15:01.938\",\"2021-01-15 09:15:02.953\",\"2021-01-15 09:15:03.969\",\"2021-01-15 09:15:04.984\",\"2021-01-15 09:15:05.999\",\"2021-01-15 09:15:07.015\",\"2021-01-15 09:15:08.03\",\"2021-01-15 09:15:09.046\",\"2021-01-15 09:15:10.061\",\"2021-01-15 09:15:11.076\",\"2021-01-15 09:15:12.092\",\"2021-01-15 09:15:13.107\",\"2021-01-15 09:15:14.122\",\"2021-01-15 09:15:15.138\",\"2021-01-15 09:15:16.139\",\"2021-01-15 09:15:17.154\",\"2021-01-15 09:15:18.17\",\"2021-01-15 09:15:19.185\",\"2021-01-15 09:15:20.201\",\"2021-01-15 09:15:21.216\",\"2021-01-15 09:15:22.232\",\"2021-01-15 09:15:23.247\",\"2021-01-15 09:15:24.262\",\"2021-01-15 09:15:25.278\",\"2021-01-15 09:15:26.293\",\"2021-01-15 09:15:27.308\",\"2021-01-15 09:15:28.324\",\"2021-01-15 09:15:29.339\",\"2021-01-15 09:15:30.34\",\"2021-01-15 09:15:31.356\",\"2021-01-15 09:15:32.371\",\"2021-01-15 09:15:33.387\",\"2021-01-15 09:15:34.402\",\"2021-01-15 09:15:35.417\",\"2021-01-15 09:15:36.433\",\"2021-01-15 09:15:37.448\",\"2021-01-15 09:15:38.464\",\"2021-01-15 09:15:39.479\",\"2021-01-15 09:15:40.495\",\"2021-01-15 09:15:41.51\",\"2021-01-15 09:15:42.525\",\"2021-01-15 09:15:43.54\",\"2021-01-15 09:15:44.556\",\"2021-01-15 09:15:45.558\",\"2021-01-15 09:15:46.573\",\"2021-01-15 09:15:47.588\",\"2021-01-15 09:15:48.604\",\"2021-01-15 09:15:49.619\",\"2021-01-15 09:15:50.634\",\"2021-01-15 09:15:51.65\",\"2021-01-15 09:15:52.665\",\"2021-01-15 09:15:53.68\",\"2021-01-15 09:15:54.696\",\"2021-01-15 09:15:55.711\",\"2021-01-15 09:15:56.727\",\"2021-01-15 09:15:57.742\",\"2021-01-15 09:15:58.757\",\"2021-01-15 09:15:59.773\",\"2021-01-15 09:16:00.774\",\"2021-01-15 09:16:01.79\",\"2021-01-15 09:16:02.805\",\"2021-01-15 09:16:03.82\",\"2021-01-15 09:16:04.836\",\"2021-01-15 09:16:05.851\",\"2021-01-15 09:16:06.867\",\"2021-01-15 09:16:07.882\",\"2021-01-15 09:16:08.897\",\"2021-01-15 09:16:09.913\",\"2021-01-15 09:16:10.928\",\"2021-01-15 09:16:11.944\",\"2021-01-15 09:16:12.959\",\"2021-01-15 09:16:13.974\",\"2021-01-15 09:16:14.99\",\"2021-01-15 09:16:15.991\",\"2021-01-15 09:16:17.007\",\"2021-01-15 09:16:18.022\",\"2021-01-15 09:16:19.037\",\"2021-01-15 09:16:20.053\",\"2021-01-15 09:16:21.068\",\"2021-01-15 09:16:22.083\",\"2021-01-15 09:16:23.099\",\"2021-01-15 09:16:24.114\",\"2021-01-15 09:16:25.13\",\"2021-01-15 09:16:26.145\",\"2021-01-15 09:16:27.16\",\"2021-01-15 09:16:28.176\",\"2021-01-15 09:16:29.191\",\"2021-01-15 09:16:30.192\",\"2021-01-15 09:16:31.208\",\"2021-01-15 09:16:32.223\",\"2021-01-15 09:16:33.239\",\"2021-01-15 09:16:34.254\",\"2021-01-15 09:16:35.269\",\"2021-01-15 09:16:36.285\",\"2021-01-15 09:16:37.3\",\"2021-01-15 09:16:38.315\",\"2021-01-15 09:16:39.331\",\"2021-01-15 09:16:40.346\",\"2021-01-15 09:16:41.362\",\"2021-01-15 09:16:42.377\",\"2021-01-15 09:16:43.392\",\"2021-01-15 09:16:44.408\",\"2021-01-15 09:16:45.409\",\"2021-01-15 09:16:46.424\",\"2021-01-15 09:16:47.439\",\"2021-01-15 09:16:48.455\",\"2021-01-15 09:16:49.47\",\"2021-01-15 09:16:50.486\",\"2021-01-15 09:16:51.501\",\"2021-01-15 09:16:52.516\",\"2021-01-15 09:16:53.532\",\"2021-01-15 09:16:54.547\",\"2021-01-15 09:16:55.563\",\"2021-01-15 09:16:56.578\",\"2021-01-15 09:16:57.593\",\"2021-01-15 09:16:58.609\",\"2021-01-15 09:16:59.624\",\"2021-01-15 09:17:00.626\",\"2021-01-15 09:17:01.641\",\"2021-01-15 09:17:02.656\",\"2021-01-15 09:17:03.672\",\"2021-01-15 09:17:04.687\",\"2021-01-15 09:17:05.702\",\"2021-01-15 09:17:06.718\",\"2021-01-15 09:17:07.733\",\"2021-01-15 09:17:08.749\",\"2021-01-15 09:17:09.764\",\"2021-01-15 09:17:10.779\",\"2021-01-15 09:17:11.795\",\"2021-01-15 09:17:12.81\",\"2021-01-15 09:17:13.826\",\"2021-01-15 09:17:14.841\",\"2021-01-15 09:17:16.86\",\"2021-01-15 09:17:17.861\",\"2021-01-15 09:17:18.876\",\"2021-01-15 09:17:19.878\",\"2021-01-15 09:17:20.879\",\"2021-01-15 09:17:21.88\",\"2021-01-15 09:17:22.895\",\"2021-01-15 09:17:23.911\",\"2021-01-15 09:17:24.926\",\"2021-01-15 09:17:25.928\",\"2021-01-15 09:17:26.943\",\"2021-01-15 09:17:27.958\",\"2021-01-15 09:17:28.974\",\"2021-01-15 09:17:29.989\",\"2021-01-15 09:17:30.991\",\"2021-01-15 09:17:32.006\",\"2021-01-15 09:17:33.021\",\"2021-01-15 09:17:34.037\",\"2021-01-15 09:17:35.052\",\"2021-01-15 09:17:36.068\",\"2021-01-15 09:17:37.083\",\"2021-01-15 09:17:38.098\",\"2021-01-15 09:17:39.114\",\"2021-01-15 09:17:40.129\",\"2021-01-15 09:17:41.145\",\"2021-01-15 09:17:42.16\",\"2021-01-15 09:17:43.175\",\"2021-01-15 09:17:44.191\",\"2021-01-15 09:17:45.192\",\"2021-01-15 09:17:46.207\",\"2021-01-15 09:17:47.223\",\"2021-01-15 09:17:48.238\",\"2021-01-15 09:17:49.254\",\"2021-01-15 09:17:50.269\",\"2021-01-15 09:17:51.284\",\"2021-01-15 09:17:52.3\",\"2021-01-15 09:17:53.315\",\"2021-01-15 09:17:54.33\",\"2021-01-15 09:17:55.346\",\"2021-01-15 09:17:56.361\",\"2021-01-15 09:17:57.377\",\"2021-01-15 09:17:58.392\",\"2021-01-15 09:17:59.407\",\"2021-01-15 09:18:00.408\",\"2021-01-15 09:18:01.424\",\"2021-01-15 09:18:02.439\",\"2021-01-15 09:18:03.454\",\"2021-01-15 09:18:04.47\",\"2021-01-15 09:18:05.485\",\"2021-01-15 09:18:06.501\",\"2021-01-15 09:18:07.516\",\"2021-01-15 09:18:08.531\",\"2021-01-15 09:18:09.547\",\"2021-01-15 09:18:10.562\",\"2021-01-15 09:18:11.578\",\"2021-01-15 09:18:12.593\",\"2021-01-15 09:18:13.608\",\"2021-01-15 09:18:14.624\",\"2021-01-15 09:18:15.625\",\"2021-01-15 09:18:16.64\",\"2021-01-15 09:18:17.656\",\"2021-01-15 09:18:18.671\",\"2021-01-15 09:18:19.686\",\"2021-01-15 09:18:20.702\",\"2021-01-15 09:18:21.717\",\"2021-01-15 09:18:22.732\",\"2021-01-15 09:18:23.748\",\"2021-01-15 09:18:24.763\",\"2021-01-15 09:18:25.779\",\"2021-01-15 09:18:26.794\",\"2021-01-15 09:18:27.81\",\"2021-01-15 09:18:28.825\",\"2021-01-15 09:18:29.84\",\"2021-01-15 09:18:30.842\",\"2021-01-15 09:18:31.857\",\"2021-01-15 09:18:32.872\",\"2021-01-15 09:18:33.888\",\"2021-01-15 09:18:34.903\",\"2021-01-15 09:18:35.919\",\"2021-01-15 09:18:36.934\",\"2021-01-15 09:18:37.949\",\"2021-01-15 09:18:38.965\",\"2021-01-15 09:18:39.98\",\"2021-01-15 09:18:40.995\",\"2021-01-15 09:18:42.011\",\"2021-01-15 09:18:43.026\",\"2021-01-15 09:18:44.042\",\"2021-01-15 09:18:45.057\",\"2021-01-15 09:18:46.058\",\"2021-01-15 09:18:47.074\",\"2021-01-15 09:18:48.089\",\"2021-01-15 09:18:49.105\",\"2021-01-15 09:18:50.12\",\"2021-01-15 09:18:51.135\",\"2021-01-15 09:18:52.151\",\"2021-01-15 09:18:53.166\",\"2021-01-15 09:18:54.181\",\"2021-01-15 09:18:55.197\",\"2021-01-15 09:18:56.212\",\"2021-01-15 09:18:57.228\",\"2021-01-15 09:18:58.243\",\"2021-01-15 09:18:59.258\",\"2021-01-15 09:19:00.26\",\"2021-01-15 09:19:01.275\",\"2021-01-15 09:19:02.291\",\"2021-01-15 09:19:03.306\",\"2021-01-15 09:19:04.321\",\"2021-01-15 09:19:05.337\",\"2021-01-15 09:19:06.352\",\"2021-01-15 09:19:07.368\",\"2021-01-15 09:19:08.383\",\"2021-01-15 09:19:09.398\",\"2021-01-15 09:19:10.414\",\"2021-01-15 09:19:11.429\",\"2021-01-15 09:19:12.445\",\"2021-01-15 09:19:13.46\",\"2021-01-15 09:19:14.475\",\"2021-01-15 09:19:15.485\",\"2021-01-15 09:19:16.5\",\"2021-01-15 09:19:17.516\",\"2021-01-15 09:19:18.531\",\"2021-01-15 09:19:19.546\",\"2021-01-15 09:19:20.562\",\"2021-01-15 09:19:21.577\",\"2021-01-15 09:19:22.592\",\"2021-01-15 09:19:23.608\",\"2021-01-15 09:19:24.623\",\"2021-01-15 09:19:25.638\",\"2021-01-15 09:19:26.654\",\"2021-01-15 09:19:27.669\",\"2021-01-15 09:19:28.685\",\"2021-01-15 09:19:29.7\",\"2021-01-15 09:19:30.701\",\"2021-01-15 09:19:31.717\",\"2021-01-15 09:19:32.732\",\"2021-01-15 09:19:33.747\",\"2021-01-15 09:19:34.763\",\"2021-01-15 09:19:35.778\",\"2021-01-15 09:19:36.794\",\"2021-01-15 09:19:37.809\",\"2021-01-15 09:19:38.824\",\"2021-01-15 09:19:39.84\",\"2021-01-15 09:19:40.855\",\"2021-01-15 09:19:41.87\",\"2021-01-15 09:19:42.886\",\"2021-01-15 09:19:43.901\",\"2021-01-15 09:19:44.916\",\"2021-01-15 09:19:45.918\",\"2021-01-15 09:19:46.933\",\"2021-01-15 09:19:47.948\",\"2021-01-15 09:19:48.964\",\"2021-01-15 09:19:49.979\",\"2021-01-15 09:19:50.995\",\"2021-01-15 09:19:52.01\",\"2021-01-15 09:19:53.025\",\"2021-01-15 09:19:54.041\",\"2021-01-15 09:19:55.056\",\"2021-01-15 09:19:56.072\",\"2021-01-15 09:19:57.087\",\"2021-01-15 09:19:58.102\",\"2021-01-15 09:19:59.118\",\"2021-01-15 09:20:00.133\",\"2021-01-15 09:20:01.135\",\"2021-01-15 09:20:02.15\",\"2021-01-15 09:20:03.165\",\"2021-01-15 09:20:04.181\",\"2021-01-15 09:20:05.196\",\"2021-01-15 09:20:06.212\",\"2021-01-15 09:20:07.227\",\"2021-01-15 09:20:08.242\",\"2021-01-15 09:20:09.258\",\"2021-01-15 09:20:10.273\",\"2021-01-15 09:20:11.289\",\"2021-01-15 09:20:12.304\",\"2021-01-15 09:20:13.319\",\"2021-01-15 09:20:14.335\",\"2021-01-15 09:20:15.336\",\"2021-01-15 09:20:16.351\",\"2021-01-15 09:20:17.366\",\"2021-01-15 09:20:18.382\",\"2021-01-15 09:20:19.398\",\"2021-01-15 09:20:20.413\",\"2021-01-15 09:20:21.428\",\"2021-01-15 09:20:22.444\",\"2021-01-15 09:20:23.459\",\"2021-01-15 09:20:24.474\",\"2021-01-15 09:20:25.49\",\"2021-01-15 09:20:26.505\",\"2021-01-15 09:20:27.521\",\"2021-01-15 09:20:28.536\",\"2021-01-15 09:20:29.551\",\"2021-01-15 09:20:30.553\",\"2021-01-15 09:20:31.568\",\"2021-01-15 09:20:32.584\",\"2021-01-15 09:20:33.599\",\"2021-01-15 09:20:34.614\",\"2021-01-15 09:20:35.63\",\"2021-01-15 09:20:36.645\",\"2021-01-15 09:20:37.661\",\"2021-01-15 09:20:38.676\",\"2021-01-15 09:20:39.691\",\"2021-01-15 09:20:40.706\",\"2021-01-15 09:20:41.722\",\"2021-01-15 09:20:42.737\",\"2021-01-15 09:20:43.753\",\"2021-01-15 09:20:44.768\",\"2021-01-15 09:20:45.77\",\"2021-01-15 09:20:46.785\",\"2021-01-15 09:20:47.8\",\"2021-01-15 09:20:48.816\",\"2021-01-15 09:20:49.831\",\"2021-01-15 09:20:50.846\",\"2021-01-15 09:20:51.862\",\"2021-01-15 09:20:52.877\",\"2021-01-15 09:20:53.893\",\"2021-01-15 09:20:54.908\",\"2021-01-15 09:20:55.923\",\"2021-01-15 09:20:56.939\",\"2021-01-15 09:20:57.954\",\"2021-01-15 09:20:58.97\",\"2021-01-15 09:20:59.985\",\"2021-01-15 09:21:00.986\",\"2021-01-15 09:21:02.001\",\"2021-01-15 09:21:03.017\",\"2021-01-15 09:21:04.032\",\"2021-01-15 09:21:05.048\",\"2021-01-15 09:21:06.063\",\"2021-01-15 09:21:07.078\",\"2021-01-15 09:21:08.094\",\"2021-01-15 09:21:09.109\",\"2021-01-15 09:21:10.125\",\"2021-01-15 09:21:11.14\",\"2021-01-15 09:21:12.155\",\"2021-01-15 09:21:13.171\",\"2021-01-15 09:21:14.186\",\"2021-01-15 09:21:15.188\",\"2021-01-15 09:21:16.203\",\"2021-01-15 09:21:17.218\",\"2021-01-15 09:21:18.234\",\"2021-01-15 09:21:19.249\",\"2021-01-15 09:21:20.264\",\"2021-01-15 09:21:21.28\",\"2021-01-15 09:21:22.295\",\"2021-01-15 09:21:23.311\",\"2021-01-15 09:21:24.326\",\"2021-01-15 09:21:25.341\",\"2021-01-15 09:21:26.357\",\"2021-01-15 09:21:27.372\",\"2021-01-15 09:21:28.388\",\"2021-01-15 09:21:29.403\",\"2021-01-15 09:21:30.409\",\"2021-01-15 09:21:31.425\",\"2021-01-15 09:21:32.44\",\"2021-01-15 09:21:33.456\",\"2021-01-15 09:21:34.471\",\"2021-01-15 09:21:35.486\",\"2021-01-15 09:21:36.502\",\"2021-01-15 09:21:37.517\",\"2021-01-15 09:21:38.533\",\"2021-01-15 09:21:39.548\",\"2021-01-15 09:21:40.563\",\"2021-01-15 09:21:41.579\",\"2021-01-15 09:21:42.594\",\"2021-01-15 09:21:43.61\",\"2021-01-15 09:21:44.625\",\"2021-01-15 09:21:45.626\",\"2021-01-15 09:21:46.642\",\"2021-01-15 09:21:47.657\",\"2021-01-15 09:21:48.672\",\"2021-01-15 09:21:49.688\",\"2021-01-15 09:21:50.703\",\"2021-01-15 09:21:51.719\",\"2021-01-15 09:21:52.734\",\"2021-01-15 09:21:53.749\",\"2021-01-15 09:21:54.765\",\"2021-01-15 09:21:55.78\",\"2021-01-15 09:21:56.795\",\"2021-01-15 09:21:57.811\",\"2021-01-15 09:21:58.826\",\"2021-01-15 09:21:59.842\",\"2021-01-15 09:22:00.843\",\"2021-01-15 09:22:01.858\",\"2021-01-15 09:22:02.874\",\"2021-01-15 09:22:03.889\",\"2021-01-15 09:22:04.904\",\"2021-01-15 09:22:05.92\",\"2021-01-15 09:22:06.935\",\"2021-01-15 09:22:07.951\",\"2021-01-15 09:22:08.966\",\"2021-01-15 09:22:09.981\",\"2021-01-15 09:22:10.997\",\"2021-01-15 09:22:12.012\",\"2021-01-15 09:22:13.027\",\"2021-01-15 09:22:14.043\",\"2021-01-15 09:22:15.058\",\"2021-01-15 09:22:16.06\",\"2021-01-15 09:22:17.075\",\"2021-01-15 09:22:18.09\",\"2021-01-15 09:22:19.106\",\"2021-01-15 09:22:20.121\",\"2021-01-15 09:22:21.136\",\"2021-01-15 09:22:22.152\",\"2021-01-15 09:22:23.167\",\"2021-01-15 09:22:24.183\",\"2021-01-15 09:22:25.198\",\"2021-01-15 09:22:26.213\",\"2021-01-15 09:22:27.229\",\"2021-01-15 09:22:28.244\",\"2021-01-15 09:22:29.26\",\"2021-01-15 09:22:30.261\",\"2021-01-15 09:22:31.276\",\"2021-01-15 09:22:32.292\",\"2021-01-15 09:22:33.307\",\"2021-01-15 09:22:34.323\",\"2021-01-15 09:22:35.338\",\"2021-01-15 09:22:36.353\",\"2021-01-15 09:22:37.369\",\"2021-01-15 09:22:38.384\",\"2021-01-15 09:22:39.399\",\"2021-01-15 09:22:40.415\",\"2021-01-15 09:22:41.43\",\"2021-01-15 09:22:42.446\",\"2021-01-15 09:22:43.461\",\"2021-01-15 09:22:44.476\",\"2021-01-15 09:22:45.478\",\"2021-01-15 09:22:46.493\",\"2021-01-15 09:22:47.508\",\"2021-01-15 09:22:48.524\",\"2021-01-15 09:22:49.539\",\"2021-01-15 09:22:50.554\",\"2021-01-15 09:22:51.57\",\"2021-01-15 09:22:52.585\",\"2021-01-15 09:22:53.601\",\"2021-01-15 09:22:54.616\",\"2021-01-15 09:22:55.632\",\"2021-01-15 09:22:56.647\",\"2021-01-15 09:22:57.662\",\"2021-01-15 09:22:58.678\",\"2021-01-15 09:22:59.693\",\"2021-01-15 09:23:00.694\",\"2021-01-15 09:23:01.71\",\"2021-01-15 09:23:02.725\",\"2021-01-15 09:23:03.74\",\"2021-01-15 09:23:04.756\",\"2021-01-15 09:23:05.771\",\"2021-01-15 09:23:06.787\",\"2021-01-15 09:23:07.802\",\"2021-01-15 09:23:08.817\",\"2021-01-15 09:23:09.833\",\"2021-01-15 09:23:10.848\",\"2021-01-15 09:23:11.864\",\"2021-01-15 09:23:12.879\",\"2021-01-15 09:23:13.894\",\"2021-01-15 09:23:14.91\",\"2021-01-15 09:23:15.911\",\"2021-01-15 09:23:16.926\",\"2021-01-15 09:23:17.942\",\"2021-01-15 09:23:18.957\",\"2021-01-15 09:23:19.973\",\"2021-01-15 09:23:20.988\",\"2021-01-15 09:23:22.003\",\"2021-01-15 09:23:23.019\",\"2021-01-15 09:23:24.034\",\"2021-01-15 09:23:25.049\",\"2021-01-15 09:23:26.065\",\"2021-01-15 09:23:27.08\",\"2021-01-15 09:23:28.096\",\"2021-01-15 09:23:29.111\",\"2021-01-15 09:23:30.126\",\"2021-01-15 09:23:31.132\",\"2021-01-15 09:23:32.147\",\"2021-01-15 09:23:33.163\",\"2021-01-15 09:23:34.178\",\"2021-01-15 09:23:35.193\",\"2021-01-15 09:23:36.209\",\"2021-01-15 09:23:37.224\",\"2021-01-15 09:23:38.24\",\"2021-01-15 09:23:39.255\",\"2021-01-15 09:23:40.27\",\"2021-01-15 09:23:41.286\",\"2021-01-15 09:23:42.301\",\"2021-01-15 09:23:43.317\",\"2021-01-15 09:23:44.332\",\"2021-01-15 09:23:45.333\",\"2021-01-15 09:23:46.349\",\"2021-01-15 09:23:47.364\",\"2021-01-15 09:23:48.379\",\"2021-01-15 09:23:49.395\",\"2021-01-15 09:23:50.41\",\"2021-01-15 09:23:51.426\",\"2021-01-15 09:23:52.441\",\"2021-01-15 09:23:53.456\",\"2021-01-15 09:23:54.472\",\"2021-01-15 09:23:55.487\",\"2021-01-15 09:23:56.502\",\"2021-01-15 09:23:57.518\",\"2021-01-15 09:23:58.533\",\"2021-01-15 09:23:59.549\",\"2021-01-15 09:24:00.55\",\"2021-01-15 09:24:01.565\",\"2021-01-15 09:24:02.58\",\"2021-01-15 09:24:03.596\",\"2021-01-15 09:24:04.608\",\"2021-01-15 09:24:05.624\",\"2021-01-15 09:24:06.639\",\"2021-01-15 09:24:07.654\",\"2021-01-15 09:24:08.67\",\"2021-01-15 09:24:09.685\",\"2021-01-15 09:24:10.701\",\"2021-01-15 09:24:11.716\",\"2021-01-15 09:24:12.731\",\"2021-01-15 09:24:13.746\",\"2021-01-15 09:24:14.762\",\"2021-01-15 09:24:15.764\",\"2021-01-15 09:24:16.779\",\"2021-01-15 09:24:17.794\",\"2021-01-15 09:24:18.81\",\"2021-01-15 09:24:19.825\",\"2021-01-15 09:24:20.84\",\"2021-01-15 09:24:21.856\",\"2021-01-15 09:24:22.871\",\"2021-01-15 09:24:23.887\",\"2021-01-15 09:24:24.902\",\"2021-01-15 09:24:25.917\",\"2021-01-15 09:24:26.933\",\"2021-01-15 09:24:27.948\",\"2021-01-15 09:24:28.964\",\"2021-01-15 09:24:29.979\",\"2021-01-15 09:24:30.98\",\"2021-01-15 09:24:31.996\",\"2021-01-15 09:24:33.011\",\"2021-01-15 09:24:34.026\",\"2021-01-15 09:24:35.042\",\"2021-01-15 09:24:36.057\",\"2021-01-15 09:24:37.072\",\"2021-01-15 09:24:38.088\",\"2021-01-15 09:24:39.103\",\"2021-01-15 09:24:40.118\",\"2021-01-15 09:24:41.134\",\"2021-01-15 09:24:42.149\",\"2021-01-15 09:24:43.165\",\"2021-01-15 09:24:44.18\",\"2021-01-15 09:24:45.181\",\"2021-01-15 09:24:46.197\",\"2021-01-15 09:24:47.212\",\"2021-01-15 09:24:48.228\",\"2021-01-15 09:24:49.243\",\"2021-01-15 09:24:50.258\",\"2021-01-15 09:24:51.274\",\"2021-01-15 09:24:52.289\",\"2021-01-15 09:24:53.305\",\"2021-01-15 09:24:54.32\",\"2021-01-15 09:24:55.335\",\"2021-01-15 09:24:56.35\",\"2021-01-15 09:24:57.366\",\"2021-01-15 09:24:58.381\",\"2021-01-15 09:24:59.397\",\"2021-01-15 09:25:00.398\",\"2021-01-15 09:25:01.413\",\"2021-01-15 09:25:02.429\",\"2021-01-15 09:25:03.444\",\"2021-01-15 09:25:04.46\",\"2021-01-15 09:25:05.475\",\"2021-01-15 09:25:06.49\",\"2021-01-15 09:25:07.506\",\"2021-01-15 09:25:08.521\",\"2021-01-15 09:25:09.537\",\"2021-01-15 09:25:10.552\",\"2021-01-15 09:25:11.567\",\"2021-01-15 09:25:12.583\",\"2021-01-15 09:25:13.598\",\"2021-01-15 09:25:14.613\",\"2021-01-15 09:25:15.615\",\"2021-01-15 09:25:16.63\",\"2021-01-15 09:25:17.646\",\"2021-01-15 09:25:18.661\",\"2021-01-15 09:25:19.677\",\"2021-01-15 09:25:20.692\",\"2021-01-15 09:25:21.707\",\"2021-01-15 09:25:22.723\",\"2021-01-15 09:25:23.738\",\"2021-01-15 09:25:24.753\",\"2021-01-15 09:25:25.769\",\"2021-01-15 09:25:26.784\",\"2021-01-15 09:25:27.8\",\"2021-01-15 09:25:28.815\",\"2021-01-15 09:25:29.83\",\"2021-01-15 09:25:30.831\",\"2021-01-15 09:25:31.847\",\"2021-01-15 09:25:32.862\",\"2021-01-15 09:25:33.878\",\"2021-01-15 09:25:34.893\",\"2021-01-15 09:25:35.909\",\"2021-01-15 09:25:36.924\",\"2021-01-15 09:25:37.939\",\"2021-01-15 09:25:38.955\",\"2021-01-15 09:25:39.97\",\"2021-01-15 09:25:40.985\",\"2021-01-15 09:25:42.001\",\"2021-01-15 09:25:43.016\",\"2021-01-15 09:25:44.032\",\"2021-01-15 09:25:45.047\",\"2021-01-15 09:25:46.056\",\"2021-01-15 09:25:47.072\",\"2021-01-15 09:25:48.087\",\"2021-01-15 09:25:49.102\",\"2021-01-15 09:25:50.118\",\"2021-01-15 09:25:51.133\",\"2021-01-15 09:25:52.149\",\"2021-01-15 09:25:53.164\",\"2021-01-15 09:25:54.179\",\"2021-01-15 09:25:55.195\",\"2021-01-15 09:25:56.21\",\"2021-01-15 09:25:57.225\",\"2021-01-15 09:25:58.241\",\"2021-01-15 09:25:59.256\",\"2021-01-15 09:26:00.258\",\"2021-01-15 09:26:01.273\",\"2021-01-15 09:26:02.288\",\"2021-01-15 09:26:03.304\",\"2021-01-15 09:26:04.319\",\"2021-01-15 09:26:05.335\",\"2021-01-15 09:26:06.35\",\"2021-01-15 09:26:07.365\",\"2021-01-15 09:26:08.381\",\"2021-01-15 09:26:09.396\",\"2021-01-15 09:26:10.411\",\"2021-01-15 09:26:11.427\",\"2021-01-15 09:26:12.442\",\"2021-01-15 09:26:13.458\",\"2021-01-15 09:26:14.473\",\"2021-01-15 09:26:15.478\",\"2021-01-15 09:26:16.494\",\"2021-01-15 09:26:17.509\",\"2021-01-15 09:26:18.524\",\"2021-01-15 09:26:19.54\",\"2021-01-15 09:26:20.555\",\"2021-01-15 09:26:21.571\",\"2021-01-15 09:26:22.586\",\"2021-01-15 09:26:23.601\",\"2021-01-15 09:26:24.617\",\"2021-01-15 09:26:25.632\",\"2021-01-15 09:26:26.648\",\"2021-01-15 09:26:27.663\",\"2021-01-15 09:26:28.678\",\"2021-01-15 09:26:29.694\",\"2021-01-15 09:26:30.695\",\"2021-01-15 09:26:31.71\",\"2021-01-15 09:26:32.726\",\"2021-01-15 09:26:33.741\",\"2021-01-15 09:26:34.756\",\"2021-01-15 09:26:35.772\",\"2021-01-15 09:26:36.788\",\"2021-01-15 09:26:37.803\",\"2021-01-15 09:26:38.818\",\"2021-01-15 09:26:39.834\",\"2021-01-15 09:26:40.849\",\"2021-01-15 09:26:41.864\",\"2021-01-15 09:26:42.88\",\"2021-01-15 09:26:43.895\",\"2021-01-15 09:26:44.911\",\"2021-01-15 09:26:45.912\",\"2021-01-15 09:26:46.927\",\"2021-01-15 09:26:47.942\",\"2021-01-15 09:26:48.958\",\"2021-01-15 09:26:49.973\",\"2021-01-15 09:26:50.989\",\"2021-01-15 09:26:52.004\",\"2021-01-15 09:26:53.02\",\"2021-01-15 09:26:54.035\",\"2021-01-15 09:26:55.05\",\"2021-01-15 09:26:56.066\",\"2021-01-15 09:26:57.081\",\"2021-01-15 09:26:58.096\",\"2021-01-15 09:26:59.112\",\"2021-01-15 09:27:00.127\",\"2021-01-15 09:27:01.128\",\"2021-01-15 09:27:02.144\",\"2021-01-15 09:27:03.159\",\"2021-01-15 09:27:04.175\",\"2021-01-15 09:27:05.19\",\"2021-01-15 09:27:06.205\",\"2021-01-15 09:27:07.221\",\"2021-01-15 09:27:08.236\",\"2021-01-15 09:27:09.251\",\"2021-01-15 09:27:10.267\",\"2021-01-15 09:27:11.282\",\"2021-01-15 09:27:12.298\",\"2021-01-15 09:27:13.313\",\"2021-01-15 09:27:14.328\",\"2021-01-15 09:27:15.332\",\"2021-01-15 09:27:16.347\",\"2021-01-15 09:27:17.348\",\"2021-01-15 09:27:18.364\",\"2021-01-15 09:27:19.365\",\"2021-01-15 09:27:20.378\",\"2021-01-15 09:27:21.379\",\"2021-01-15 09:27:22.394\",\"2021-01-15 09:27:23.41\",\"2021-01-15 09:27:24.425\",\"2021-01-15 09:27:25.426\",\"2021-01-15 09:27:26.442\",\"2021-01-15 09:27:27.457\",\"2021-01-15 09:27:28.472\",\"2021-01-15 09:27:29.488\",\"2021-01-15 09:27:30.489\",\"2021-01-15 09:27:31.505\",\"2021-01-15 09:27:32.52\",\"2021-01-15 09:27:33.535\",\"2021-01-15 09:27:34.551\",\"2021-01-15 09:27:35.566\",\"2021-01-15 09:27:36.581\",\"2021-01-15 09:27:37.597\",\"2021-01-15 09:27:38.612\",\"2021-01-15 09:27:39.628\",\"2021-01-15 09:27:40.643\",\"2021-01-15 09:27:41.658\",\"2021-01-15 09:27:42.674\",\"2021-01-15 09:27:43.689\",\"2021-01-15 09:27:44.705\",\"2021-01-15 09:27:45.706\",\"2021-01-15 09:27:46.721\",\"2021-01-15 09:27:47.737\",\"2021-01-15 09:27:48.752\",\"2021-01-15 09:27:49.768\",\"2021-01-15 09:27:50.783\",\"2021-01-15 09:27:51.798\",\"2021-01-15 09:27:52.814\",\"2021-01-15 09:27:53.829\",\"2021-01-15 09:27:54.844\",\"2021-01-15 09:27:55.86\",\"2021-01-15 09:27:56.875\",\"2021-01-15 09:27:57.891\",\"2021-01-15 09:27:58.906\",\"2021-01-15 09:27:59.921\",\"2021-01-15 09:28:00.93\",\"2021-01-15 09:28:01.945\",\"2021-01-15 09:28:02.96\",\"2021-01-15 09:28:03.976\",\"2021-01-15 09:28:04.991\",\"2021-01-15 09:28:06.007\",\"2021-01-15 09:28:07.022\",\"2021-01-15 09:28:08.038\",\"2021-01-15 09:28:09.053\",\"2021-01-15 09:28:10.068\",\"2021-01-15 09:28:11.084\",\"2021-01-15 09:28:12.099\",\"2021-01-15 09:28:13.115\",\"2021-01-15 09:28:14.13\",\"2021-01-15 09:28:15.145\",\"2021-01-15 09:28:16.147\",\"2021-01-15 09:28:17.162\",\"2021-01-15 09:28:18.178\",\"2021-01-15 09:28:19.193\",\"2021-01-15 09:28:20.208\",\"2021-01-15 09:28:21.224\",\"2021-01-15 09:28:22.239\",\"2021-01-15 09:28:23.255\",\"2021-01-15 09:28:24.27\",\"2021-01-15 09:28:25.285\",\"2021-01-15 09:28:26.301\",\"2021-01-15 09:28:27.316\",\"2021-01-15 09:28:28.331\",\"2021-01-15 09:28:29.347\",\"2021-01-15 09:28:30.348\",\"2021-01-15 09:28:31.364\",\"2021-01-15 09:28:32.379\",\"2021-01-15 09:28:33.394\",\"2021-01-15 09:28:34.409\",\"2021-01-15 09:28:35.425\",\"2021-01-15 09:28:36.441\",\"2021-01-15 09:28:37.456\",\"2021-01-15 09:28:38.471\",\"2021-01-15 09:28:39.487\",\"2021-01-15 09:28:40.502\",\"2021-01-15 09:28:41.517\",\"2021-01-15 09:28:42.533\",\"2021-01-15 09:28:43.548\",\"2021-01-15 09:28:44.563\",\"2021-01-15 09:28:45.565\",\"2021-01-15 09:28:46.58\",\"2021-01-15 09:28:47.596\",\"2021-01-15 09:28:48.611\",\"2021-01-15 09:28:49.627\",\"2021-01-15 09:28:50.642\",\"2021-01-15 09:28:51.657\",\"2021-01-15 09:28:52.673\",\"2021-01-15 09:28:53.688\",\"2021-01-15 09:28:54.703\",\"2021-01-15 09:28:55.719\",\"2021-01-15 09:28:56.734\",\"2021-01-15 09:28:57.75\",\"2021-01-15 09:28:58.765\",\"2021-01-15 09:28:59.78\",\"2021-01-15 09:29:00.782\",\"2021-01-15 09:29:01.797\",\"2021-01-15 09:29:02.812\",\"2021-01-15 09:29:03.828\",\"2021-01-15 09:29:04.843\",\"2021-01-15 09:29:05.859\",\"2021-01-15 09:29:06.874\",\"2021-01-15 09:29:07.889\",\"2021-01-15 09:29:08.905\",\"2021-01-15 09:29:09.92\",\"2021-01-15 09:29:10.936\",\"2021-01-15 09:29:11.951\",\"2021-01-15 09:29:12.966\",\"2021-01-15 09:29:13.982\",\"2021-01-15 09:29:14.997\",\"2021-01-15 09:29:15.998\",\"2021-01-15 09:29:17.014\",\"2021-01-15 09:29:18.029\",\"2021-01-15 09:29:19.045\",\"2021-01-15 09:29:20.06\",\"2021-01-15 09:29:21.075\",\"2021-01-15 09:29:22.091\",\"2021-01-15 09:29:23.106\",\"2021-01-15 09:29:24.122\",\"2021-01-15 09:29:25.137\",\"2021-01-15 09:29:26.152\",\"2021-01-15 09:29:27.168\",\"2021-01-15 09:29:28.183\",\"2021-01-15 09:29:29.198\",\"2021-01-15 09:29:30.2\",\"2021-01-15 09:29:31.215\",\"2021-01-15 09:29:32.231\",\"2021-01-15 09:29:33.246\",\"2021-01-15 09:29:34.261\",\"2021-01-15 09:29:35.277\",\"2021-01-15 09:29:36.292\",\"2021-01-15 09:29:37.307\",\"2021-01-15 09:29:38.323\",\"2021-01-15 09:29:39.338\",\"2021-01-15 09:29:40.354\",\"2021-01-15 09:29:41.369\",\"2021-01-15 09:29:42.384\",\"2021-01-15 09:29:43.4\",\"2021-01-15 09:29:44.415\",\"2021-01-15 09:29:45.417\",\"2021-01-15 09:29:46.432\",\"2021-01-15 09:29:47.447\",\"2021-01-15 09:29:48.463\",\"2021-01-15 09:29:49.478\",\"2021-01-15 09:29:50.493\",\"2021-01-15 09:29:51.509\",\"2021-01-15 09:29:52.524\",\"2021-01-15 09:29:53.54\",\"2021-01-15 09:29:54.555\",\"2021-01-15 09:29:55.571\",\"2021-01-15 09:29:56.586\",\"2021-01-15 09:29:57.601\",\"2021-01-15 09:29:58.617\",\"2021-01-15 09:29:59.632\",\"2021-01-15 09:30:00.64\",\"2021-01-15 09:30:01.655\",\"2021-01-15 09:30:02.67\",\"2021-01-15 09:30:03.686\",\"2021-01-15 09:30:04.701\",\"2021-01-15 09:30:05.716\",\"2021-01-15 09:30:06.732\",\"2021-01-15 09:30:07.747\",\"2021-01-15 09:30:08.763\",\"2021-01-15 09:30:09.778\",\"2021-01-15 09:30:10.793\",\"2021-01-15 09:30:11.809\",\"2021-01-15 09:30:12.824\",\"2021-01-15 09:30:13.839\",\"2021-01-15 09:30:14.855\",\"2021-01-15 09:30:15.856\",\"2021-01-15 09:30:16.872\",\"2021-01-15 09:30:17.887\",\"2021-01-15 09:30:18.902\",\"2021-01-15 09:30:19.918\",\"2021-01-15 09:30:20.933\",\"2021-01-15 09:30:21.949\",\"2021-01-15 09:30:22.964\",\"2021-01-15 09:30:23.979\",\"2021-01-15 09:30:24.995\",\"2021-01-15 09:30:26.01\",\"2021-01-15 09:30:27.025\",\"2021-01-15 09:30:28.041\",\"2021-01-15 09:30:29.056\",\"2021-01-15 09:30:30.072\",\"2021-01-15 09:30:31.073\",\"2021-01-15 09:30:32.088\",\"2021-01-15 09:30:33.104\",\"2021-01-15 09:30:34.119\",\"2021-01-15 09:30:35.134\",\"2021-01-15 09:30:36.15\",\"2021-01-15 09:30:37.165\",\"2021-01-15 09:30:38.181\",\"2021-01-15 09:30:39.196\",\"2021-01-15 09:30:40.211\",\"2021-01-15 09:30:41.227\",\"2021-01-15 09:30:42.242\",\"2021-01-15 09:30:43.258\",\"2021-01-15 09:30:44.273\",\"2021-01-15 09:30:45.274\",\"2021-01-15 09:30:46.29\",\"2021-01-15 09:30:47.305\",\"2021-01-15 09:30:48.32\",\"2021-01-15 09:30:49.336\",\"2021-01-15 09:30:50.351\",\"2021-01-15 09:30:51.367\",\"2021-01-15 09:30:52.382\",\"2021-01-15 09:30:53.397\",\"2021-01-15 09:30:54.413\",\"2021-01-15 09:30:55.428\",\"2021-01-15 09:30:56.443\",\"2021-01-15 09:30:57.459\",\"2021-01-15 09:30:58.474\",\"2021-01-15 09:30:59.49\",\"2021-01-15 09:31:00.491\",\"2021-01-15 09:31:01.506\",\"2021-01-15 09:31:02.522\",\"2021-01-15 09:31:03.537\",\"2021-01-15 09:31:04.552\",\"2021-01-15 09:31:05.568\",\"2021-01-15 09:31:06.583\",\"2021-01-15 09:31:07.599\",\"2021-01-15 09:31:08.614\",\"2021-01-15 09:31:09.629\",\"2021-01-15 09:31:10.645\",\"2021-01-15 09:31:11.66\",\"2021-01-15 09:31:12.675\",\"2021-01-15 09:31:13.691\",\"2021-01-15 09:31:14.706\",\"2021-01-15 09:31:15.708\",\"2021-01-15 09:31:16.723\",\"2021-01-15 09:31:17.738\",\"2021-01-15 09:31:18.754\",\"2021-01-15 09:31:19.769\",\"2021-01-15 09:31:20.784\",\"2021-01-15 09:31:21.8\",\"2021-01-15 09:31:22.815\",\"2021-01-15 09:31:23.831\",\"2021-01-15 09:31:24.846\",\"2021-01-15 09:31:25.861\",\"2021-01-15 09:31:26.877\",\"2021-01-15 09:31:27.892\",\"2021-01-15 09:31:28.908\",\"2021-01-15 09:31:29.923\",\"2021-01-15 09:31:30.924\",\"2021-01-15 09:31:31.939\",\"2021-01-15 09:31:32.955\",\"2021-01-15 09:31:33.97\",\"2021-01-15 09:31:34.986\",\"2021-01-15 09:31:36.001\",\"2021-01-15 09:31:37.017\",\"2021-01-15 09:31:38.032\",\"2021-01-15 09:31:39.047\",\"2021-01-15 09:31:40.063\",\"2021-01-15 09:31:41.078\",\"2021-01-15 09:31:42.093\",\"2021-01-15 09:31:43.109\",\"2021-01-15 09:31:44.124\",\"2021-01-15 09:31:45.14\",\"2021-01-15 09:31:48.172\",\"2021-01-15 09:31:49.187\",\"2021-01-15 09:31:50.202\",\"2021-01-15 09:31:51.218\",\"2021-01-15 09:31:52.233\",\"2021-01-15 09:31:53.248\",\"2021-01-15 09:31:54.264\",\"2021-01-15 09:31:55.279\",\"2021-01-15 09:31:56.294\",\"2021-01-15 09:31:57.31\",\"2021-01-15 09:31:58.325\",\"2021-01-15 09:31:59.341\",\"2021-01-15 09:32:00.342\",\"2021-01-15 09:32:01.358\",\"2021-01-15 09:32:02.373\",\"2021-01-15 09:32:03.389\",\"2021-01-15 09:32:04.404\",\"2021-01-15 09:32:05.419\",\"2021-01-15 09:32:06.435\",\"2021-01-15 09:32:07.45\",\"2021-01-15 09:32:08.465\",\"2021-01-15 09:32:09.481\",\"2021-01-15 09:32:10.496\",\"2021-01-15 09:32:11.512\",\"2021-01-15 09:32:12.527\",\"2021-01-15 09:32:13.542\",\"2021-01-15 09:32:14.558\",\"2021-01-15 09:32:15.566\",\"2021-01-15 09:32:16.582\",\"2021-01-15 09:32:17.597\",\"2021-01-15 09:32:18.612\",\"2021-01-15 09:32:19.628\",\"2021-01-15 09:32:20.643\",\"2021-01-15 09:32:21.658\",\"2021-01-15 09:32:22.674\",\"2021-01-15 09:32:23.689\",\"2021-01-15 09:32:24.705\",\"2021-01-15 09:32:25.72\",\"2021-01-15 09:32:26.735\",\"2021-01-15 09:32:27.751\",\"2021-01-15 09:32:28.766\",\"2021-01-15 09:32:29.782\",\"2021-01-15 09:32:30.783\",\"2021-01-15 09:32:31.798\",\"2021-01-15 09:32:32.814\",\"2021-01-15 09:32:33.829\",\"2021-01-15 09:32:34.844\",\"2021-01-15 09:32:35.86\",\"2021-01-15 09:32:36.875\",\"2021-01-15 09:32:37.89\",\"2021-01-15 09:32:38.906\",\"2021-01-15 09:32:39.921\",\"2021-01-15 09:32:40.937\",\"2021-01-15 09:32:41.952\",\"2021-01-15 09:32:42.967\",\"2021-01-15 09:32:43.983\",\"2021-01-15 09:32:44.998\",\"2021-01-15 09:32:45.999\",\"2021-01-15 09:32:47.015\",\"2021-01-15 09:32:48.03\",\"2021-01-15 09:32:49.046\",\"2021-01-15 09:32:50.061\",\"2021-01-15 09:32:51.076\",\"2021-01-15 09:32:52.092\",\"2021-01-15 09:32:53.107\",\"2021-01-15 09:32:54.123\",\"2021-01-15 09:32:55.138\",\"2021-01-15 09:32:56.153\",\"2021-01-15 09:32:57.169\",\"2021-01-15 09:32:58.184\",\"2021-01-15 09:32:59.199\",\"2021-01-15 09:33:00.201\",\"2021-01-15 09:33:01.216\",\"2021-01-15 09:33:02.232\",\"2021-01-15 09:33:03.247\",\"2021-01-15 09:33:04.262\",\"2021-01-15 09:33:05.278\",\"2021-01-15 09:33:06.293\",\"2021-01-15 09:33:07.308\",\"2021-01-15 09:33:08.324\",\"2021-01-15 09:33:09.339\",\"2021-01-15 09:33:10.355\",\"2021-01-15 09:33:11.37\",\"2021-01-15 09:33:12.385\",\"2021-01-15 09:33:13.401\",\"2021-01-15 09:33:14.416\",\"2021-01-15 09:33:15.417\",\"2021-01-15 09:33:16.433\",\"2021-01-15 09:33:17.448\",\"2021-01-15 09:33:18.464\",\"2021-01-15 09:33:19.479\",\"2021-01-15 09:33:20.494\",\"2021-01-15 09:33:21.51\",\"2021-01-15 09:33:22.525\",\"2021-01-15 09:33:23.54\",\"2021-01-15 09:33:24.556\",\"2021-01-15 09:33:25.571\",\"2021-01-15 09:33:26.587\",\"2021-01-15 09:33:27.602\",\"2021-01-15 09:33:28.617\",\"2021-01-15 09:33:29.633\",\"2021-01-15 09:33:30.634\",\"2021-01-15 09:33:31.649\",\"2021-01-15 09:33:32.665\",\"2021-01-15 09:33:33.68\",\"2021-01-15 09:33:34.696\",\"2021-01-15 09:33:35.711\",\"2021-01-15 09:33:36.726\",\"2021-01-15 09:33:37.742\",\"2021-01-15 09:33:38.757\",\"2021-01-15 09:33:39.773\",\"2021-01-15 09:33:40.788\",\"2021-01-15 09:33:41.803\",\"2021-01-15 09:33:42.819\",\"2021-01-15 09:33:43.834\",\"2021-01-15 09:33:44.85\",\"2021-01-15 09:33:45.851\",\"2021-01-15 09:33:46.866\",\"2021-01-15 09:33:47.882\",\"2021-01-15 09:33:48.897\",\"2021-01-15 09:33:49.912\",\"2021-01-15 09:33:50.928\",\"2021-01-15 09:33:51.943\",\"2021-01-15 09:33:52.959\",\"2021-01-15 09:33:53.974\",\"2021-01-15 09:33:54.989\",\"2021-01-15 09:33:56.005\",\"2021-01-15 09:33:57.02\",\"2021-01-15 09:33:58.036\",\"2021-01-15 09:33:59.051\",\"2021-01-15 09:34:00.066\",\"2021-01-15 09:34:01.068\",\"2021-01-15 09:34:02.083\",\"2021-01-15 09:34:03.098\",\"2021-01-15 09:34:04.114\",\"2021-01-15 09:34:05.126\",\"2021-01-15 09:34:06.142\",\"2021-01-15 09:34:07.157\",\"2021-01-15 09:34:08.173\",\"2021-01-15 09:34:09.188\",\"2021-01-15 09:34:10.203\",\"2021-01-15 09:34:11.219\",\"2021-01-15 09:34:12.234\",\"2021-01-15 09:34:13.25\",\"2021-01-15 09:34:14.265\",\"2021-01-15 09:34:15.266\",\"2021-01-15 09:34:16.282\",\"2021-01-15 09:34:17.297\",\"2021-01-15 09:34:18.313\",\"2021-01-15 09:34:19.328\",\"2021-01-15 09:34:20.343\",\"2021-01-15 09:34:21.359\",\"2021-01-15 09:34:22.374\",\"2021-01-15 09:34:23.389\",\"2021-01-15 09:34:24.405\",\"2021-01-15 09:34:25.42\",\"2021-01-15 09:34:26.435\",\"2021-01-15 09:34:27.451\",\"2021-01-15 09:34:28.466\",\"2021-01-15 09:34:29.482\",\"2021-01-15 09:34:30.49\",\"2021-01-15 09:34:31.506\",\"2021-01-15 09:34:32.521\",\"2021-01-15 09:34:33.537\",\"2021-01-15 09:34:34.552\",\"2021-01-15 09:34:35.567\",\"2021-01-15 09:34:36.583\",\"2021-01-15 09:34:37.598\",\"2021-01-15 09:34:38.613\",\"2021-01-15 09:34:39.629\",\"2021-01-15 09:34:40.644\",\"2021-01-15 09:34:41.66\",\"2021-01-15 09:34:42.675\",\"2021-01-15 09:34:43.691\",\"2021-01-15 09:34:44.706\",\"2021-01-15 09:34:45.707\",\"2021-01-15 09:34:46.722\",\"2021-01-15 09:34:47.738\",\"2021-01-15 09:34:48.753\",\"2021-01-15 09:34:49.769\",\"2021-01-15 09:34:50.784\",\"2021-01-15 09:34:51.799\",\"2021-01-15 09:34:52.815\",\"2021-01-15 09:34:53.83\",\"2021-01-15 09:34:54.846\",\"2021-01-15 09:34:55.861\",\"2021-01-15 09:34:56.876\",\"2021-01-15 09:34:57.892\",\"2021-01-15 09:34:58.907\",\"2021-01-15 09:34:59.923\",\"2021-01-15 09:35:00.924\",\"2021-01-15 09:35:01.939\",\"2021-01-15 09:35:02.954\",\"2021-01-15 09:35:03.97\",\"2021-01-15 09:35:04.985\",\"2021-01-15 09:35:06.001\",\"2021-01-15 09:35:07.016\",\"2021-01-15 09:35:08.031\",\"2021-01-15 09:35:09.047\",\"2021-01-15 09:35:10.062\",\"2021-01-15 09:35:11.078\",\"2021-01-15 09:35:12.093\",\"2021-01-15 09:35:13.108\",\"2021-01-15 09:35:14.124\",\"2021-01-15 09:35:15.139\",\"2021-01-15 09:35:16.14\",\"2021-01-15 09:35:17.156\",\"2021-01-15 09:35:18.171\",\"2021-01-15 09:35:19.186\",\"2021-01-15 09:35:20.202\",\"2021-01-15 09:35:21.217\",\"2021-01-15 09:35:22.233\",\"2021-01-15 09:35:23.248\",\"2021-01-15 09:35:24.263\",\"2021-01-15 09:35:25.279\",\"2021-01-15 09:35:26.294\",\"2021-01-15 09:35:27.31\",\"2021-01-15 09:35:28.325\",\"2021-01-15 09:35:29.34\",\"2021-01-15 09:35:30.342\",\"2021-01-15 09:35:31.357\",\"2021-01-15 09:35:32.372\",\"2021-01-15 09:35:33.388\",\"2021-01-15 09:35:34.403\",\"2021-01-15 09:35:35.418\",\"2021-01-15 09:35:36.434\",\"2021-01-15 09:35:37.449\",\"2021-01-15 09:35:38.465\",\"2021-01-15 09:35:39.48\",\"2021-01-15 09:35:40.495\",\"2021-01-15 09:35:41.511\",\"2021-01-15 09:35:42.526\",\"2021-01-15 09:35:43.542\",\"2021-01-15 09:35:44.557\",\"2021-01-15 09:35:45.558\",\"2021-01-15 09:35:46.574\",\"2021-01-15 09:35:47.589\",\"2021-01-15 09:35:48.604\",\"2021-01-15 09:35:49.62\",\"2021-01-15 09:35:50.635\",\"2021-01-15 09:35:51.651\",\"2021-01-15 09:35:52.666\",\"2021-01-15 09:35:53.681\",\"2021-01-15 09:35:54.697\",\"2021-01-15 09:35:55.712\",\"2021-01-15 09:35:56.728\",\"2021-01-15 09:35:57.743\",\"2021-01-15 09:35:58.758\",\"2021-01-15 09:35:59.774\",\"2021-01-15 09:36:00.775\",\"2021-01-15 09:36:01.79\",\"2021-01-15 09:36:02.806\",\"2021-01-15 09:36:03.821\",\"2021-01-15 09:36:04.837\",\"2021-01-15 09:36:05.852\",\"2021-01-15 09:36:06.867\",\"2021-01-15 09:36:07.883\",\"2021-01-15 09:36:08.898\",\"2021-01-15 09:36:09.913\",\"2021-01-15 09:36:10.929\",\"2021-01-15 09:36:11.944\",\"2021-01-15 09:36:12.96\",\"2021-01-15 09:36:13.975\",\"2021-01-15 09:36:14.99\",\"2021-01-15 09:36:15.992\",\"2021-01-15 09:36:18.022\",\"2021-01-15 09:36:19.038\",\"2021-01-15 09:36:20.053\",\"2021-01-15 09:36:21.069\",\"2021-01-15 09:36:22.084\",\"2021-01-15 09:36:23.099\",\"2021-01-15 09:36:24.115\",\"2021-01-15 09:36:25.13\",\"2021-01-15 09:36:27.161\",\"2021-01-15 09:36:28.176\",\"2021-01-15 09:36:29.192\",\"2021-01-15 09:36:30.193\",\"2021-01-15 09:36:31.209\",\"2021-01-15 09:36:32.224\",\"2021-01-15 09:36:33.239\",\"2021-01-15 09:36:34.255\",\"2021-01-15 09:36:35.27\",\"2021-01-15 09:36:36.286\",\"2021-01-15 09:36:37.301\",\"2021-01-15 09:36:38.316\",\"2021-01-15 09:36:39.332\",\"2021-01-15 09:36:40.347\",\"2021-01-15 09:36:41.362\",\"2021-01-15 09:36:42.378\",\"2021-01-15 09:36:43.393\",\"2021-01-15 09:36:44.409\",\"2021-01-15 09:36:45.415\",\"2021-01-15 09:36:46.431\",\"2021-01-15 09:36:47.446\",\"2021-01-15 09:36:48.461\",\"2021-01-15 09:36:49.477\",\"2021-01-15 09:36:50.492\",\"2021-01-15 09:36:51.507\",\"2021-01-15 09:36:52.523\",\"2021-01-15 09:36:53.538\",\"2021-01-15 09:36:54.554\",\"2021-01-15 09:36:55.569\",\"2021-01-15 09:36:56.584\",\"2021-01-15 09:36:57.6\",\"2021-01-15 09:36:58.615\",\"2021-01-15 09:36:59.631\",\"2021-01-15 09:37:00.632\",\"2021-01-15 09:37:01.648\",\"2021-01-15 09:37:02.663\",\"2021-01-15 09:37:03.679\",\"2021-01-15 09:37:04.694\",\"2021-01-15 09:37:05.709\",\"2021-01-15 09:37:06.725\",\"2021-01-15 09:37:07.74\",\"2021-01-15 09:37:08.756\",\"2021-01-15 09:37:09.771\",\"2021-01-15 09:37:10.786\",\"2021-01-15 09:37:11.802\",\"2021-01-15 09:37:12.817\",\"2021-01-15 09:37:13.833\",\"2021-01-15 09:37:14.848\",\"2021-01-15 09:37:15.849\",\"2021-01-15 09:37:16.864\",\"2021-01-15 09:37:17.865\",\"2021-01-15 09:37:18.88\",\"2021-01-15 09:37:19.882\",\"2021-01-15 09:37:20.894\",\"2021-01-15 09:37:21.896\",\"2021-01-15 09:37:22.911\",\"2021-01-15 09:37:23.927\",\"2021-01-15 09:37:24.942\",\"2021-01-15 09:37:25.943\",\"2021-01-15 09:37:26.959\",\"2021-01-15 09:37:27.974\",\"2021-01-15 09:37:28.989\",\"2021-01-15 09:37:30.005\",\"2021-01-15 09:37:31.006\",\"2021-01-15 09:37:32.021\",\"2021-01-15 09:37:33.037\",\"2021-01-15 09:37:34.052\",\"2021-01-15 09:37:35.068\",\"2021-01-15 09:37:36.083\",\"2021-01-15 09:37:37.098\",\"2021-01-15 09:37:38.114\",\"2021-01-15 09:37:39.129\",\"2021-01-15 09:37:40.144\",\"2021-01-15 09:37:41.16\",\"2021-01-15 09:37:42.175\",\"2021-01-15 09:37:43.191\",\"2021-01-15 09:37:44.206\",\"2021-01-15 09:37:45.207\",\"2021-01-15 09:37:46.223\",\"2021-01-15 09:37:47.238\",\"2021-01-15 09:37:48.254\",\"2021-01-15 09:37:49.269\",\"2021-01-15 09:37:50.284\",\"2021-01-15 09:37:51.3\",\"2021-01-15 09:37:52.315\",\"2021-01-15 09:37:53.331\",\"2021-01-15 09:37:54.346\",\"2021-01-15 09:37:55.361\",\"2021-01-15 09:37:56.377\",\"2021-01-15 09:37:57.392\",\"2021-01-15 09:37:58.408\",\"2021-01-15 09:37:59.423\",\"2021-01-15 09:38:00.424\",\"2021-01-15 09:38:01.44\",\"2021-01-15 09:38:02.455\",\"2021-01-15 09:38:03.47\",\"2021-01-15 09:38:04.486\",\"2021-01-15 09:38:05.501\",\"2021-01-15 09:38:06.516\",\"2021-01-15 09:38:07.532\",\"2021-01-15 09:38:08.547\",\"2021-01-15 09:38:09.562\",\"2021-01-15 09:38:10.578\",\"2021-01-15 09:38:11.593\",\"2021-01-15 09:38:12.608\",\"2021-01-15 09:38:13.624\",\"2021-01-15 09:38:14.639\",\"2021-01-15 09:38:15.641\",\"2021-01-15 09:38:16.656\",\"2021-01-15 09:38:17.672\",\"2021-01-15 09:38:18.687\",\"2021-01-15 09:38:19.702\",\"2021-01-15 09:38:20.718\",\"2021-01-15 09:38:21.733\",\"2021-01-15 09:38:22.749\",\"2021-01-15 09:38:23.764\",\"2021-01-15 09:38:24.779\",\"2021-01-15 09:38:25.795\",\"2021-01-15 09:38:26.81\",\"2021-01-15 09:38:27.825\",\"2021-01-15 09:38:28.841\",\"2021-01-15 09:38:29.856\",\"2021-01-15 09:38:30.857\",\"2021-01-15 09:38:31.873\",\"2021-01-15 09:38:32.888\",\"2021-01-15 09:38:33.904\",\"2021-01-15 09:38:34.919\",\"2021-01-15 09:38:35.934\",\"2021-01-15 09:38:36.95\",\"2021-01-15 09:38:37.965\",\"2021-01-15 09:38:38.981\",\"2021-01-15 09:38:39.996\",\"2021-01-15 09:38:41.011\",\"2021-01-15 09:38:42.027\",\"2021-01-15 09:38:43.042\",\"2021-01-15 09:38:44.058\",\"2021-01-15 09:38:45.073\",\"2021-01-15 09:38:46.074\",\"2021-01-15 09:38:47.09\",\"2021-01-15 09:38:48.105\",\"2021-01-15 09:38:49.12\",\"2021-01-15 09:38:50.136\",\"2021-01-15 09:38:51.151\",\"2021-01-15 09:38:52.167\",\"2021-01-15 09:38:53.182\",\"2021-01-15 09:38:54.197\",\"2021-01-15 09:38:55.213\",\"2021-01-15 09:38:56.228\",\"2021-01-15 09:38:57.244\",\"2021-01-15 09:38:58.259\",\"2021-01-15 09:38:59.274\",\"2021-01-15 09:39:00.284\",\"2021-01-15 09:39:01.299\",\"2021-01-15 09:39:02.315\",\"2021-01-15 09:39:03.33\",\"2021-01-15 09:39:04.345\",\"2021-01-15 09:39:05.36\",\"2021-01-15 09:39:06.376\",\"2021-01-15 09:39:07.391\",\"2021-01-15 09:39:08.407\",\"2021-01-15 09:39:09.422\",\"2021-01-15 09:39:10.438\",\"2021-01-15 09:39:11.453\",\"2021-01-15 09:39:12.468\",\"2021-01-15 09:39:13.484\",\"2021-01-15 09:39:14.499\",\"2021-01-15 09:39:15.501\",\"2021-01-15 09:39:16.516\",\"2021-01-15 09:39:17.531\",\"2021-01-15 09:39:18.547\",\"2021-01-15 09:39:19.562\",\"2021-01-15 09:39:20.578\",\"2021-01-15 09:39:21.593\",\"2021-01-15 09:39:22.608\",\"2021-01-15 09:39:23.624\",\"2021-01-15 09:39:24.639\",\"2021-01-15 09:39:25.655\",\"2021-01-15 09:39:26.67\",\"2021-01-15 09:39:27.685\",\"2021-01-15 09:39:28.701\",\"2021-01-15 09:39:29.716\",\"2021-01-15 09:39:30.718\",\"2021-01-15 09:39:31.733\",\"2021-01-15 09:39:32.748\",\"2021-01-15 09:39:33.764\",\"2021-01-15 09:39:34.779\",\"2021-01-15 09:39:35.795\",\"2021-01-15 09:39:36.81\",\"2021-01-15 09:39:37.825\",\"2021-01-15 09:39:38.841\",\"2021-01-15 09:39:39.856\",\"2021-01-15 09:39:40.871\",\"2021-01-15 09:39:41.887\",\"2021-01-15 09:39:42.902\",\"2021-01-15 09:39:43.918\",\"2021-01-15 09:39:44.933\",\"2021-01-15 09:39:45.934\",\"2021-01-15 09:39:46.95\",\"2021-01-15 09:39:47.965\",\"2021-01-15 09:39:48.981\",\"2021-01-15 09:39:49.996\",\"2021-01-15 09:39:51.011\",\"2021-01-15 09:39:52.027\",\"2021-01-15 09:39:53.042\",\"2021-01-15 09:39:54.058\",\"2021-01-15 09:39:55.073\",\"2021-01-15 09:39:56.088\",\"2021-01-15 09:39:57.104\",\"2021-01-15 09:39:58.119\",\"2021-01-15 09:39:59.134\",\"2021-01-15 09:40:00.15\",\"2021-01-15 09:40:01.151\",\"2021-01-15 09:40:02.167\",\"2021-01-15 09:40:03.182\",\"2021-01-15 09:40:04.197\",\"2021-01-15 09:40:05.213\",\"2021-01-15 09:40:06.228\",\"2021-01-15 09:40:07.244\",\"2021-01-15 09:40:08.259\",\"2021-01-15 09:40:09.274\",\"2021-01-15 09:40:10.29\",\"2021-01-15 09:40:11.305\",\"2021-01-15 09:40:12.321\",\"2021-01-15 09:40:13.336\",\"2021-01-15 09:40:14.351\",\"2021-01-15 09:40:15.353\",\"2021-01-15 09:40:16.368\",\"2021-01-15 09:40:17.383\",\"2021-01-15 09:40:18.399\",\"2021-01-15 09:40:19.414\",\"2021-01-15 09:40:20.429\",\"2021-01-15 09:40:21.445\",\"2021-01-15 09:40:22.46\",\"2021-01-15 09:40:23.476\",\"2021-01-15 09:40:24.491\",\"2021-01-15 09:40:25.506\",\"2021-01-15 09:40:26.522\",\"2021-01-15 09:40:27.537\",\"2021-01-15 09:40:28.553\",\"2021-01-15 09:40:29.568\",\"2021-01-15 09:40:30.569\",\"2021-01-15 09:40:31.585\",\"2021-01-15 09:40:32.6\",\"2021-01-15 09:40:33.615\",\"2021-01-15 09:40:34.631\",\"2021-01-15 09:40:35.646\",\"2021-01-15 09:40:36.662\",\"2021-01-15 09:40:37.677\",\"2021-01-15 09:40:38.692\",\"2021-01-15 09:40:39.708\",\"2021-01-15 09:40:40.723\",\"2021-01-15 09:40:41.738\",\"2021-01-15 09:40:42.754\",\"2021-01-15 09:40:43.769\",\"2021-01-15 09:40:44.785\",\"2021-01-15 09:40:45.786\",\"2021-01-15 09:40:46.801\",\"2021-01-15 09:40:47.817\",\"2021-01-15 09:40:48.832\",\"2021-01-15 09:40:49.847\",\"2021-01-15 09:40:50.863\",\"2021-01-15 09:40:51.878\",\"2021-01-15 09:40:52.894\",\"2021-01-15 09:40:53.909\",\"2021-01-15 09:40:54.924\",\"2021-01-15 09:40:55.94\",\"2021-01-15 09:40:56.955\",\"2021-01-15 09:40:57.971\",\"2021-01-15 09:40:58.986\",\"2021-01-15 09:41:00.001\",\"2021-01-15 09:41:01.003\",\"2021-01-15 09:41:02.018\",\"2021-01-15 09:41:03.034\",\"2021-01-15 09:41:04.049\",\"2021-01-15 09:41:05.064\",\"2021-01-15 09:41:06.08\",\"2021-01-15 09:41:07.095\",\"2021-01-15 09:41:08.11\",\"2021-01-15 09:41:09.126\",\"2021-01-15 09:41:10.141\",\"2021-01-15 09:41:11.157\",\"2021-01-15 09:41:12.172\",\"2021-01-15 09:41:13.187\",\"2021-01-15 09:41:14.203\",\"2021-01-15 09:41:15.211\",\"2021-01-15 09:41:16.226\",\"2021-01-15 09:41:17.242\",\"2021-01-15 09:41:18.257\",\"2021-01-15 09:41:19.273\",\"2021-01-15 09:41:20.288\",\"2021-01-15 09:41:21.303\",\"2021-01-15 09:41:22.318\",\"2021-01-15 09:41:23.334\",\"2021-01-15 09:41:24.35\",\"2021-01-15 09:41:25.365\",\"2021-01-15 09:41:26.38\",\"2021-01-15 09:41:27.396\",\"2021-01-15 09:41:28.411\",\"2021-01-15 09:41:29.426\",\"2021-01-15 09:41:30.428\",\"2021-01-15 09:41:31.443\",\"2021-01-15 09:41:32.459\",\"2021-01-15 09:41:33.474\",\"2021-01-15 09:41:34.489\",\"2021-01-15 09:41:35.505\",\"2021-01-15 09:41:36.52\",\"2021-01-15 09:41:37.536\",\"2021-01-15 09:41:38.551\",\"2021-01-15 09:41:39.566\",\"2021-01-15 09:41:40.582\",\"2021-01-15 09:41:41.597\",\"2021-01-15 09:41:42.613\",\"2021-01-15 09:41:43.628\",\"2021-01-15 09:41:44.643\",\"2021-01-15 09:41:45.645\",\"2021-01-15 09:41:46.66\",\"2021-01-15 09:41:47.675\",\"2021-01-15 09:41:48.691\",\"2021-01-15 09:41:49.706\",\"2021-01-15 09:41:50.721\",\"2021-01-15 09:41:51.737\",\"2021-01-15 09:41:52.752\",\"2021-01-15 09:41:53.768\",\"2021-01-15 09:41:54.783\",\"2021-01-15 09:41:55.798\",\"2021-01-15 09:41:56.814\",\"2021-01-15 09:41:57.829\",\"2021-01-15 09:41:58.845\",\"2021-01-15 09:41:59.86\",\"2021-01-15 09:42:00.861\",\"2021-01-15 09:42:01.877\",\"2021-01-15 09:42:02.892\",\"2021-01-15 09:42:03.907\",\"2021-01-15 09:42:04.923\",\"2021-01-15 09:42:05.938\",\"2021-01-15 09:42:06.954\",\"2021-01-15 09:42:07.969\",\"2021-01-15 09:42:08.984\",\"2021-01-15 09:42:10\",\"2021-01-15 09:42:11.015\",\"2021-01-15 09:42:12.031\",\"2021-01-15 09:42:13.046\",\"2021-01-15 09:42:14.061\",\"2021-01-15 09:42:15.077\",\"2021-01-15 09:42:16.078\",\"2021-01-15 09:42:17.093\",\"2021-01-15 09:42:18.109\",\"2021-01-15 09:42:19.124\",\"2021-01-15 09:42:20.14\",\"2021-01-15 09:42:21.155\",\"2021-01-15 09:42:22.17\",\"2021-01-15 09:42:23.186\",\"2021-01-15 09:42:24.201\",\"2021-01-15 09:42:25.216\",\"2021-01-15 09:42:26.232\",\"2021-01-15 09:42:27.247\",\"2021-01-15 09:42:28.263\",\"2021-01-15 09:42:29.278\",\"2021-01-15 09:42:30.28\",\"2021-01-15 09:42:31.295\",\"2021-01-15 09:42:32.31\",\"2021-01-15 09:42:33.326\",\"2021-01-15 09:42:34.341\",\"2021-01-15 09:42:35.356\",\"2021-01-15 09:42:36.372\",\"2021-01-15 09:42:37.387\",\"2021-01-15 09:42:38.403\",\"2021-01-15 09:42:39.418\",\"2021-01-15 09:42:40.433\",\"2021-01-15 09:42:41.449\",\"2021-01-15 09:42:42.464\",\"2021-01-15 09:42:43.48\",\"2021-01-15 09:42:44.495\",\"2021-01-15 09:42:45.496\",\"2021-01-15 09:42:46.512\",\"2021-01-15 09:42:47.527\",\"2021-01-15 09:42:48.543\",\"2021-01-15 09:42:49.558\",\"2021-01-15 09:42:50.573\",\"2021-01-15 09:42:51.589\",\"2021-01-15 09:42:52.604\",\"2021-01-15 09:42:53.62\",\"2021-01-15 09:42:54.635\",\"2021-01-15 09:42:55.65\",\"2021-01-15 09:42:56.666\",\"2021-01-15 09:42:57.681\",\"2021-01-15 09:42:58.696\",\"2021-01-15 09:42:59.712\",\"2021-01-15 09:43:00.713\",\"2021-01-15 09:43:01.729\",\"2021-01-15 09:43:02.744\",\"2021-01-15 09:43:03.759\",\"2021-01-15 09:43:04.775\",\"2021-01-15 09:43:05.79\",\"2021-01-15 09:43:06.806\",\"2021-01-15 09:43:07.821\",\"2021-01-15 09:43:08.836\",\"2021-01-15 09:43:09.852\",\"2021-01-15 09:43:10.867\",\"2021-01-15 09:43:11.882\",\"2021-01-15 09:43:12.898\",\"2021-01-15 09:43:13.913\",\"2021-01-15 09:43:14.929\",\"2021-01-15 09:43:15.936\",\"2021-01-15 09:43:16.951\",\"2021-01-15 09:43:17.967\",\"2021-01-15 09:43:18.982\",\"2021-01-15 09:43:19.997\",\"2021-01-15 09:43:21.013\",\"2021-01-15 09:43:22.028\",\"2021-01-15 09:43:23.043\",\"2021-01-15 09:43:24.059\",\"2021-01-15 09:43:25.074\",\"2021-01-15 09:43:26.09\",\"2021-01-15 09:43:27.105\",\"2021-01-15 09:43:28.12\",\"2021-01-15 09:43:29.136\",\"2021-01-15 09:43:30.151\",\"2021-01-15 09:43:31.153\",\"2021-01-15 09:43:32.168\",\"2021-01-15 09:43:33.183\",\"2021-01-15 09:43:34.198\",\"2021-01-15 09:43:35.214\",\"2021-01-15 09:43:36.229\",\"2021-01-15 09:43:37.245\",\"2021-01-15 09:43:38.26\",\"2021-01-15 09:43:39.276\",\"2021-01-15 09:43:40.291\",\"2021-01-15 09:43:41.307\",\"2021-01-15 09:43:42.322\",\"2021-01-15 09:43:43.337\",\"2021-01-15 09:43:44.353\",\"2021-01-15 09:43:45.354\",\"2021-01-15 09:43:46.369\",\"2021-01-15 09:43:47.385\",\"2021-01-15 09:43:48.4\",\"2021-01-15 09:43:49.415\",\"2021-01-15 09:43:50.431\",\"2021-01-15 09:43:51.446\",\"2021-01-15 09:43:52.462\",\"2021-01-15 09:43:53.477\",\"2021-01-15 09:43:54.492\",\"2021-01-15 09:43:55.508\",\"2021-01-15 09:43:56.523\",\"2021-01-15 09:43:57.538\",\"2021-01-15 09:43:58.554\",\"2021-01-15 09:43:59.569\",\"2021-01-15 09:44:00.57\",\"2021-01-15 09:44:01.586\",\"2021-01-15 09:44:02.601\",\"2021-01-15 09:44:03.617\",\"2021-01-15 09:44:04.629\",\"2021-01-15 09:44:05.644\",\"2021-01-15 09:44:06.66\",\"2021-01-15 09:44:07.675\",\"2021-01-15 09:44:08.691\",\"2021-01-15 09:44:09.706\",\"2021-01-15 09:44:10.721\",\"2021-01-15 09:44:11.737\",\"2021-01-15 09:44:12.752\",\"2021-01-15 09:44:13.768\",\"2021-01-15 09:44:14.783\",\"2021-01-15 09:44:15.784\",\"2021-01-15 09:44:16.8\",\"2021-01-15 09:44:17.815\",\"2021-01-15 09:44:18.83\",\"2021-01-15 09:44:19.846\",\"2021-01-15 09:44:20.861\",\"2021-01-15 09:44:21.877\",\"2021-01-15 09:44:22.892\",\"2021-01-15 09:44:23.907\",\"2021-01-15 09:44:24.923\",\"2021-01-15 09:44:25.938\",\"2021-01-15 09:44:26.954\",\"2021-01-15 09:44:27.969\",\"2021-01-15 09:44:28.984\",\"2021-01-15 09:44:30\",\"2021-01-15 09:44:31.001\",\"2021-01-15 09:44:32.016\",\"2021-01-15 09:44:33.032\",\"2021-01-15 09:44:34.047\",\"2021-01-15 09:44:35.062\",\"2021-01-15 09:44:36.078\",\"2021-01-15 09:44:37.093\",\"2021-01-15 09:44:38.109\",\"2021-01-15 09:44:39.124\",\"2021-01-15 09:44:40.139\",\"2021-01-15 09:44:41.155\",\"2021-01-15 09:44:42.17\",\"2021-01-15 09:44:43.185\",\"2021-01-15 09:44:44.201\",\"2021-01-15 09:44:45.202\",\"2021-01-15 09:44:46.218\",\"2021-01-15 09:44:47.233\",\"2021-01-15 09:44:48.248\",\"2021-01-15 09:44:49.264\",\"2021-01-15 09:44:50.279\",\"2021-01-15 09:44:51.294\",\"2021-01-15 09:44:52.31\",\"2021-01-15 09:44:53.325\",\"2021-01-15 09:44:54.341\",\"2021-01-15 09:44:55.356\",\"2021-01-15 09:44:56.371\",\"2021-01-15 09:44:57.387\",\"2021-01-15 09:44:58.402\",\"2021-01-15 09:44:59.418\",\"2021-01-15 09:45:00.419\",\"2021-01-15 09:45:01.434\",\"2021-01-15 09:45:02.45\",\"2021-01-15 09:45:03.465\",\"2021-01-15 09:45:04.481\",\"2021-01-15 09:45:05.496\",\"2021-01-15 09:45:06.511\",\"2021-01-15 09:45:07.527\",\"2021-01-15 09:45:08.542\",\"2021-01-15 09:45:09.557\",\"2021-01-15 09:45:10.573\",\"2021-01-15 09:45:11.588\",\"2021-01-15 09:45:12.604\",\"2021-01-15 09:45:13.619\",\"2021-01-15 09:45:14.634\",\"2021-01-15 09:45:15.636\",\"2021-01-15 09:45:16.651\",\"2021-01-15 09:45:17.666\",\"2021-01-15 09:45:18.682\",\"2021-01-15 09:45:19.697\",\"2021-01-15 09:45:20.713\",\"2021-01-15 09:45:21.728\",\"2021-01-15 09:45:22.743\",\"2021-01-15 09:45:23.759\",\"2021-01-15 09:45:24.774\",\"2021-01-15 09:45:25.789\",\"2021-01-15 09:45:26.805\",\"2021-01-15 09:45:27.82\",\"2021-01-15 09:45:28.836\",\"2021-01-15 09:45:29.851\",\"2021-01-15 09:45:30.859\",\"2021-01-15 09:45:31.874\",\"2021-01-15 09:45:32.889\",\"2021-01-15 09:45:33.905\",\"2021-01-15 09:45:34.92\",\"2021-01-15 09:45:35.935\",\"2021-01-15 09:45:36.951\",\"2021-01-15 09:45:37.966\",\"2021-01-15 09:45:38.982\",\"2021-01-15 09:45:39.997\",\"2021-01-15 09:45:41.012\",\"2021-01-15 09:45:42.028\",\"2021-01-15 09:45:43.043\",\"2021-01-15 09:45:44.059\",\"2021-01-15 09:45:45.074\",\"2021-01-15 09:45:46.075\",\"2021-01-15 09:45:47.09\",\"2021-01-15 09:45:48.106\",\"2021-01-15 09:45:49.121\",\"2021-01-15 09:45:50.137\",\"2021-01-15 09:45:51.152\",\"2021-01-15 09:45:52.167\",\"2021-01-15 09:45:53.183\",\"2021-01-15 09:45:54.198\",\"2021-01-15 09:45:55.213\",\"2021-01-15 09:45:56.229\",\"2021-01-15 09:45:57.244\",\"2021-01-15 09:45:58.259\",\"2021-01-15 09:45:59.275\",\"2021-01-15 09:46:00.276\",\"2021-01-15 09:46:01.291\",\"2021-01-15 09:46:02.307\",\"2021-01-15 09:46:03.322\",\"2021-01-15 09:46:04.338\",\"2021-01-15 09:46:05.353\",\"2021-01-15 09:46:06.369\",\"2021-01-15 09:46:07.384\",\"2021-01-15 09:46:08.399\",\"2021-01-15 09:46:09.415\",\"2021-01-15 09:46:10.43\",\"2021-01-15 09:46:11.446\",\"2021-01-15 09:46:12.461\",\"2021-01-15 09:46:13.477\",\"2021-01-15 09:46:14.492\",\"2021-01-15 09:46:15.493\",\"2021-01-15 09:46:16.508\",\"2021-01-15 09:46:17.524\",\"2021-01-15 09:46:18.539\",\"2021-01-15 09:46:19.555\",\"2021-01-15 09:46:20.57\",\"2021-01-15 09:46:21.585\",\"2021-01-15 09:46:22.601\",\"2021-01-15 09:46:23.616\",\"2021-01-15 09:46:24.632\",\"2021-01-15 09:46:25.647\",\"2021-01-15 09:46:26.662\",\"2021-01-15 09:46:27.678\",\"2021-01-15 09:46:28.693\",\"2021-01-15 09:46:29.709\",\"2021-01-15 09:46:30.71\",\"2021-01-15 09:46:31.725\",\"2021-01-15 09:46:32.725\",\"2021-01-15 09:46:33.74\",\"2021-01-15 09:46:34.756\",\"2021-01-15 09:46:35.771\",\"2021-01-15 09:46:36.786\",\"2021-01-15 09:46:37.802\",\"2021-01-15 09:46:38.817\",\"2021-01-15 09:46:39.833\",\"2021-01-15 09:46:40.848\",\"2021-01-15 09:46:41.864\",\"2021-01-15 09:46:42.879\",\"2021-01-15 09:46:43.894\",\"2021-01-15 09:46:44.91\",\"2021-01-15 09:46:45.911\",\"2021-01-15 09:46:46.926\",\"2021-01-15 09:46:47.942\",\"2021-01-15 09:46:48.957\",\"2021-01-15 09:46:49.973\",\"2021-01-15 09:46:50.988\",\"2021-01-15 09:46:52.003\",\"2021-01-15 09:46:53.019\",\"2021-01-15 09:46:54.034\",\"2021-01-15 09:46:55.049\",\"2021-01-15 09:46:56.065\",\"2021-01-15 09:46:57.08\",\"2021-01-15 09:46:58.096\",\"2021-01-15 09:46:59.111\",\"2021-01-15 09:47:00.126\",\"2021-01-15 09:47:01.128\",\"2021-01-15 09:47:02.143\",\"2021-01-15 09:47:03.158\",\"2021-01-15 09:47:04.174\",\"2021-01-15 09:47:05.189\",\"2021-01-15 09:47:06.205\",\"2021-01-15 09:47:07.22\",\"2021-01-15 09:47:08.235\",\"2021-01-15 09:47:09.251\",\"2021-01-15 09:47:10.266\",\"2021-01-15 09:47:11.281\",\"2021-01-15 09:47:12.297\",\"2021-01-15 09:47:13.312\",\"2021-01-15 09:47:14.328\",\"2021-01-15 09:47:15.333\",\"2021-01-15 09:47:16.349\",\"2021-01-15 09:47:17.35\",\"2021-01-15 09:47:18.365\",\"2021-01-15 09:47:19.367\",\"2021-01-15 09:47:20.379\",\"2021-01-15 09:47:21.38\",\"2021-01-15 09:47:22.396\",\"2021-01-15 09:47:23.411\",\"2021-01-15 09:47:24.426\",\"2021-01-15 09:47:25.428\",\"2021-01-15 09:47:26.443\",\"2021-01-15 09:47:27.458\",\"2021-01-15 09:47:28.474\",\"2021-01-15 09:47:29.489\",\"2021-01-15 09:47:30.491\",\"2021-01-15 09:47:31.506\",\"2021-01-15 09:47:32.522\",\"2021-01-15 09:47:33.537\",\"2021-01-15 09:47:34.552\",\"2021-01-15 09:47:35.567\",\"2021-01-15 09:47:36.568\",\"2021-01-15 09:47:37.583\",\"2021-01-15 09:47:38.598\",\"2021-01-15 09:47:39.614\",\"2021-01-15 09:47:40.629\",\"2021-01-15 09:47:41.644\",\"2021-01-15 09:47:42.66\",\"2021-01-15 09:47:43.675\",\"2021-01-15 09:47:44.69\",\"2021-01-15 09:47:45.7\",\"2021-01-15 09:47:46.715\",\"2021-01-15 09:47:47.731\",\"2021-01-15 09:47:48.746\",\"2021-01-15 09:47:49.762\",\"2021-01-15 09:47:50.777\",\"2021-01-15 09:47:51.792\",\"2021-01-15 09:47:52.808\",\"2021-01-15 09:47:53.823\",\"2021-01-15 09:47:54.839\",\"2021-01-15 09:47:55.854\",\"2021-01-15 09:47:56.869\",\"2021-01-15 09:47:57.884\",\"2021-01-15 09:47:58.9\",\"2021-01-15 09:47:59.915\",\"2021-01-15 09:48:00.917\",\"2021-01-15 09:48:01.932\",\"2021-01-15 09:48:02.948\",\"2021-01-15 09:48:03.963\",\"2021-01-15 09:48:04.978\",\"2021-01-15 09:48:05.994\",\"2021-01-15 09:48:07.009\",\"2021-01-15 09:48:08.025\",\"2021-01-15 09:48:09.04\",\"2021-01-15 09:48:10.055\",\"2021-01-15 09:48:11.071\",\"2021-01-15 09:48:12.086\",\"2021-01-15 09:48:13.101\",\"2021-01-15 09:48:14.117\",\"2021-01-15 09:48:15.132\",\"2021-01-15 09:48:16.133\",\"2021-01-15 09:48:17.149\",\"2021-01-15 09:48:18.164\",\"2021-01-15 09:48:19.179\",\"2021-01-15 09:48:20.195\",\"2021-01-15 09:48:21.21\",\"2021-01-15 09:48:22.226\",\"2021-01-15 09:48:23.241\",\"2021-01-15 09:48:24.257\",\"2021-01-15 09:48:25.272\",\"2021-01-15 09:48:26.287\",\"2021-01-15 09:48:27.303\",\"2021-01-15 09:48:28.318\",\"2021-01-15 09:48:29.334\",\"2021-01-15 09:48:30.335\",\"2021-01-15 09:48:31.35\",\"2021-01-15 09:48:32.366\",\"2021-01-15 09:48:33.381\",\"2021-01-15 09:48:34.396\",\"2021-01-15 09:48:35.412\",\"2021-01-15 09:48:36.427\",\"2021-01-15 09:48:37.443\",\"2021-01-15 09:48:38.458\",\"2021-01-15 09:48:39.473\",\"2021-01-15 09:48:40.489\",\"2021-01-15 09:48:41.504\",\"2021-01-15 09:48:42.52\",\"2021-01-15 09:48:43.535\",\"2021-01-15 09:48:44.55\",\"2021-01-15 09:48:45.552\",\"2021-01-15 09:48:46.567\",\"2021-01-15 09:48:47.582\",\"2021-01-15 09:48:48.598\",\"2021-01-15 09:48:49.613\",\"2021-01-15 09:48:50.629\",\"2021-01-15 09:48:51.644\",\"2021-01-15 09:48:52.659\",\"2021-01-15 09:48:53.675\",\"2021-01-15 09:48:54.69\",\"2021-01-15 09:48:55.706\",\"2021-01-15 09:48:56.721\",\"2021-01-15 09:48:57.736\",\"2021-01-15 09:48:58.752\",\"2021-01-15 09:48:59.767\",\"2021-01-15 09:49:00.768\",\"2021-01-15 09:49:01.784\",\"2021-01-15 09:49:02.799\",\"2021-01-15 09:49:03.815\",\"2021-01-15 09:49:04.83\",\"2021-01-15 09:49:05.845\",\"2021-01-15 09:49:06.861\",\"2021-01-15 09:49:07.876\",\"2021-01-15 09:49:08.892\",\"2021-01-15 09:49:09.907\",\"2021-01-15 09:49:10.922\",\"2021-01-15 09:49:11.938\",\"2021-01-15 09:49:12.953\",\"2021-01-15 09:49:13.968\",\"2021-01-15 09:49:14.984\",\"2021-01-15 09:49:15.985\",\"2021-01-15 09:49:17\",\"2021-01-15 09:49:18.016\",\"2021-01-15 09:49:19.031\",\"2021-01-15 09:49:20.047\",\"2021-01-15 09:49:21.062\",\"2021-01-15 09:49:22.077\",\"2021-01-15 09:49:23.093\",\"2021-01-15 09:49:24.108\",\"2021-01-15 09:49:25.124\",\"2021-01-15 09:49:26.139\",\"2021-01-15 09:49:27.154\",\"2021-01-15 09:49:28.17\",\"2021-01-15 09:49:29.185\",\"2021-01-15 09:49:30.187\",\"2021-01-15 09:49:31.202\",\"2021-01-15 09:49:32.218\",\"2021-01-15 09:49:33.233\",\"2021-01-15 09:49:34.248\",\"2021-01-15 09:49:35.264\",\"2021-01-15 09:49:36.279\",\"2021-01-15 09:49:37.294\",\"2021-01-15 09:49:38.31\",\"2021-01-15 09:49:39.325\",\"2021-01-15 09:49:40.341\",\"2021-01-15 09:49:41.356\",\"2021-01-15 09:49:42.371\",\"2021-01-15 09:49:43.387\",\"2021-01-15 09:49:44.402\",\"2021-01-15 09:49:45.403\",\"2021-01-15 09:49:46.419\",\"2021-01-15 09:49:47.434\",\"2021-01-15 09:49:48.449\",\"2021-01-15 09:49:49.465\",\"2021-01-15 09:49:50.48\",\"2021-01-15 09:49:51.496\",\"2021-01-15 09:49:52.511\",\"2021-01-15 09:49:53.526\",\"2021-01-15 09:49:54.541\",\"2021-01-15 09:49:55.557\",\"2021-01-15 09:49:56.572\",\"2021-01-15 09:49:57.588\",\"2021-01-15 09:49:58.603\",\"2021-01-15 09:49:59.619\",\"2021-01-15 09:50:00.626\",\"2021-01-15 09:50:01.641\",\"2021-01-15 09:50:02.657\",\"2021-01-15 09:50:03.672\",\"2021-01-15 09:50:04.688\",\"2021-01-15 09:50:05.703\",\"2021-01-15 09:50:06.718\",\"2021-01-15 09:50:07.734\",\"2021-01-15 09:50:08.749\",\"2021-01-15 09:50:09.765\",\"2021-01-15 09:50:10.78\",\"2021-01-15 09:50:11.795\",\"2021-01-15 09:50:12.811\",\"2021-01-15 09:50:13.826\",\"2021-01-15 09:50:14.842\",\"2021-01-15 09:50:15.843\",\"2021-01-15 09:50:16.858\",\"2021-01-15 09:50:17.874\",\"2021-01-15 09:50:18.889\",\"2021-01-15 09:50:19.904\",\"2021-01-15 09:50:20.92\",\"2021-01-15 09:50:21.935\",\"2021-01-15 09:50:22.951\",\"2021-01-15 09:50:23.966\",\"2021-01-15 09:50:24.981\",\"2021-01-15 09:50:25.997\",\"2021-01-15 09:50:27.012\",\"2021-01-15 09:50:28.027\",\"2021-01-15 09:50:29.043\",\"2021-01-15 09:50:30.058\",\"2021-01-15 09:50:31.06\",\"2021-01-15 09:50:32.075\",\"2021-01-15 09:50:33.09\",\"2021-01-15 09:50:34.106\",\"2021-01-15 09:50:35.121\",\"2021-01-15 09:50:36.137\",\"2021-01-15 09:50:37.152\",\"2021-01-15 09:50:38.167\",\"2021-01-15 09:50:39.183\",\"2021-01-15 09:50:40.198\",\"2021-01-15 09:50:41.213\",\"2021-01-15 09:50:42.229\",\"2021-01-15 09:50:43.244\",\"2021-01-15 09:50:44.26\",\"2021-01-15 09:50:45.261\",\"2021-01-15 09:50:46.276\",\"2021-01-15 09:50:47.292\",\"2021-01-15 09:50:48.307\",\"2021-01-15 09:50:49.322\",\"2021-01-15 09:50:50.338\",\"2021-01-15 09:50:51.353\",\"2021-01-15 09:50:52.369\",\"2021-01-15 09:50:53.384\",\"2021-01-15 09:50:54.399\",\"2021-01-15 09:50:55.415\",\"2021-01-15 09:50:56.43\",\"2021-01-15 09:50:57.445\",\"2021-01-15 09:50:58.461\",\"2021-01-15 09:50:59.476\",\"2021-01-15 09:51:00.478\",\"2021-01-15 09:51:01.493\",\"2021-01-15 09:51:02.508\",\"2021-01-15 09:51:03.524\",\"2021-01-15 09:51:04.539\",\"2021-01-15 09:51:05.555\",\"2021-01-15 09:51:06.57\",\"2021-01-15 09:51:07.585\",\"2021-01-15 09:51:08.601\",\"2021-01-15 09:51:09.616\",\"2021-01-15 09:51:10.632\",\"2021-01-15 09:51:11.647\",\"2021-01-15 09:51:12.662\",\"2021-01-15 09:51:13.678\",\"2021-01-15 09:51:14.693\",\"2021-01-15 09:51:15.694\",\"2021-01-15 09:51:16.71\",\"2021-01-15 09:51:17.725\",\"2021-01-15 09:51:18.741\",\"2021-01-15 09:51:19.756\",\"2021-01-15 09:51:20.771\",\"2021-01-15 09:51:21.787\",\"2021-01-15 09:51:22.802\",\"2021-01-15 09:51:23.818\",\"2021-01-15 09:51:24.833\",\"2021-01-15 09:51:25.848\",\"2021-01-15 09:51:26.864\",\"2021-01-15 09:51:27.879\",\"2021-01-15 09:51:28.894\",\"2021-01-15 09:51:29.91\",\"2021-01-15 09:51:30.911\",\"2021-01-15 09:51:31.927\",\"2021-01-15 09:51:32.942\",\"2021-01-15 09:51:33.957\",\"2021-01-15 09:51:34.973\",\"2021-01-15 09:51:35.988\",\"2021-01-15 09:51:37.003\",\"2021-01-15 09:51:38.019\",\"2021-01-15 09:51:39.034\",\"2021-01-15 09:51:40.05\",\"2021-01-15 09:51:41.065\",\"2021-01-15 09:51:42.081\",\"2021-01-15 09:51:43.096\",\"2021-01-15 09:51:44.111\",\"2021-01-15 09:51:45.127\",\"2021-01-15 09:51:46.127\",\"2021-01-15 09:51:47.143\",\"2021-01-15 09:51:48.158\",\"2021-01-15 09:51:49.174\",\"2021-01-15 09:51:50.189\",\"2021-01-15 09:51:51.204\",\"2021-01-15 09:51:52.22\",\"2021-01-15 09:51:53.235\",\"2021-01-15 09:51:54.251\",\"2021-01-15 09:51:55.266\",\"2021-01-15 09:51:56.281\",\"2021-01-15 09:51:57.297\",\"2021-01-15 09:51:58.312\",\"2021-01-15 09:51:59.328\",\"2021-01-15 09:52:00.329\",\"2021-01-15 09:52:01.344\",\"2021-01-15 09:52:02.36\",\"2021-01-15 09:52:03.375\",\"2021-01-15 09:52:04.39\",\"2021-01-15 09:52:05.406\",\"2021-01-15 09:52:06.421\",\"2021-01-15 09:52:07.436\",\"2021-01-15 09:52:08.452\",\"2021-01-15 09:52:09.467\",\"2021-01-15 09:52:10.483\",\"2021-01-15 09:52:11.498\",\"2021-01-15 09:52:12.513\",\"2021-01-15 09:52:13.529\",\"2021-01-15 09:52:14.544\",\"2021-01-15 09:52:15.553\",\"2021-01-15 09:52:16.568\",\"2021-01-15 09:52:17.583\",\"2021-01-15 09:52:18.599\",\"2021-01-15 09:52:19.614\",\"2021-01-15 09:52:20.629\",\"2021-01-15 09:52:21.645\",\"2021-01-15 09:52:22.66\",\"2021-01-15 09:52:23.676\",\"2021-01-15 09:52:24.691\",\"2021-01-15 09:52:25.706\",\"2021-01-15 09:52:26.721\",\"2021-01-15 09:52:27.737\",\"2021-01-15 09:52:28.752\",\"2021-01-15 09:52:29.768\",\"2021-01-15 09:52:30.769\",\"2021-01-15 09:52:31.785\",\"2021-01-15 09:52:32.8\",\"2021-01-15 09:52:33.815\",\"2021-01-15 09:52:34.83\",\"2021-01-15 09:52:35.846\",\"2021-01-15 09:52:36.862\",\"2021-01-15 09:52:37.877\",\"2021-01-15 09:52:38.892\",\"2021-01-15 09:52:39.908\",\"2021-01-15 09:52:40.923\",\"2021-01-15 09:52:41.938\",\"2021-01-15 09:52:43.969\",\"2021-01-15 09:52:44.985\",\"2021-01-15 09:52:45.986\",\"2021-01-15 09:52:47.001\",\"2021-01-15 09:52:48.016\",\"2021-01-15 09:52:49.032\",\"2021-01-15 09:52:50.047\",\"2021-01-15 09:52:51.063\",\"2021-01-15 09:52:52.078\",\"2021-01-15 09:52:53.093\",\"2021-01-15 09:52:54.109\",\"2021-01-15 09:52:55.124\",\"2021-01-15 09:52:56.14\",\"2021-01-15 09:52:57.155\",\"2021-01-15 09:52:58.17\",\"2021-01-15 09:52:59.186\",\"2021-01-15 09:53:00.187\",\"2021-01-15 09:53:01.202\",\"2021-01-15 09:53:02.218\",\"2021-01-15 09:53:03.233\",\"2021-01-15 09:53:04.249\",\"2021-01-15 09:53:05.264\",\"2021-01-15 09:53:06.279\",\"2021-01-15 09:53:07.295\",\"2021-01-15 09:53:08.31\",\"2021-01-15 09:53:09.326\",\"2021-01-15 09:53:10.341\",\"2021-01-15 09:53:11.356\",\"2021-01-15 09:53:12.372\",\"2021-01-15 09:53:13.387\",\"2021-01-15 09:53:14.402\",\"2021-01-15 09:53:15.404\",\"2021-01-15 09:53:16.419\",\"2021-01-15 09:53:17.434\",\"2021-01-15 09:53:18.45\",\"2021-01-15 09:53:19.465\",\"2021-01-15 09:53:20.481\",\"2021-01-15 09:53:21.496\",\"2021-01-15 09:53:22.511\",\"2021-01-15 09:53:23.527\",\"2021-01-15 09:53:24.542\",\"2021-01-15 09:53:25.558\",\"2021-01-15 09:53:26.573\",\"2021-01-15 09:53:27.588\",\"2021-01-15 09:53:28.604\",\"2021-01-15 09:53:29.619\",\"2021-01-15 09:53:30.62\",\"2021-01-15 09:53:31.636\",\"2021-01-15 09:53:32.651\",\"2021-01-15 09:53:33.667\",\"2021-01-15 09:53:34.682\",\"2021-01-15 09:53:35.697\",\"2021-01-15 09:53:36.713\",\"2021-01-15 09:53:37.728\",\"2021-01-15 09:53:38.743\",\"2021-01-15 09:53:39.759\",\"2021-01-15 09:53:40.774\",\"2021-01-15 09:53:41.79\",\"2021-01-15 09:53:42.805\",\"2021-01-15 09:53:43.82\",\"2021-01-15 09:53:44.836\",\"2021-01-15 09:53:45.837\",\"2021-01-15 09:53:46.852\",\"2021-01-15 09:53:47.868\",\"2021-01-15 09:53:48.883\",\"2021-01-15 09:53:49.898\",\"2021-01-15 09:53:50.914\",\"2021-01-15 09:53:51.929\",\"2021-01-15 09:53:52.945\",\"2021-01-15 09:53:53.96\",\"2021-01-15 09:53:54.975\",\"2021-01-15 09:53:55.991\",\"2021-01-15 09:53:57.006\",\"2021-01-15 09:53:58.022\",\"2021-01-15 09:53:59.037\",\"2021-01-15 09:54:00.052\",\"2021-01-15 09:54:01.054\",\"2021-01-15 09:54:02.069\",\"2021-01-15 09:54:03.084\",\"2021-01-15 09:54:04.1\",\"2021-01-15 09:54:05.111\",\"2021-01-15 09:54:06.127\",\"2021-01-15 09:54:07.142\",\"2021-01-15 09:54:08.157\",\"2021-01-15 09:54:09.173\",\"2021-01-15 09:54:10.188\",\"2021-01-15 09:54:11.204\",\"2021-01-15 09:54:12.219\",\"2021-01-15 09:54:13.234\",\"2021-01-15 09:54:14.25\",\"2021-01-15 09:54:15.251\",\"2021-01-15 09:54:16.267\",\"2021-01-15 09:54:17.282\",\"2021-01-15 09:54:18.297\",\"2021-01-15 09:54:19.313\",\"2021-01-15 09:54:20.328\",\"2021-01-15 09:54:21.343\",\"2021-01-15 09:54:22.359\",\"2021-01-15 09:54:23.374\",\"2021-01-15 09:54:24.39\",\"2021-01-15 09:54:25.405\",\"2021-01-15 09:54:26.42\",\"2021-01-15 09:54:27.436\",\"2021-01-15 09:54:28.451\",\"2021-01-15 09:54:29.467\",\"2021-01-15 09:54:30.472\",\"2021-01-15 09:54:31.487\",\"2021-01-15 09:54:32.502\",\"2021-01-15 09:54:33.518\",\"2021-01-15 09:54:34.533\",\"2021-01-15 09:54:35.548\",\"2021-01-15 09:54:36.564\",\"2021-01-15 09:54:37.579\",\"2021-01-15 09:54:38.595\",\"2021-01-15 09:54:39.61\",\"2021-01-15 09:54:40.626\",\"2021-01-15 09:54:41.641\",\"2021-01-15 09:54:42.656\",\"2021-01-15 09:54:43.672\",\"2021-01-15 09:54:44.687\",\"2021-01-15 09:54:45.688\",\"2021-01-15 09:54:46.704\",\"2021-01-15 09:54:47.719\",\"2021-01-15 09:54:48.734\",\"2021-01-15 09:54:49.75\",\"2021-01-15 09:54:50.765\",\"2021-01-15 09:54:51.781\",\"2021-01-15 09:54:52.796\",\"2021-01-15 09:54:53.812\",\"2021-01-15 09:54:54.827\",\"2021-01-15 09:54:55.842\",\"2021-01-15 09:54:56.858\",\"2021-01-15 09:54:57.873\",\"2021-01-15 09:54:58.888\",\"2021-01-15 09:54:59.904\",\"2021-01-15 09:55:00.905\",\"2021-01-15 09:55:01.92\",\"2021-01-15 09:55:02.936\",\"2021-01-15 09:55:03.951\",\"2021-01-15 09:55:04.967\",\"2021-01-15 09:55:05.982\",\"2021-01-15 09:55:06.997\",\"2021-01-15 09:55:08.013\",\"2021-01-15 09:55:09.028\",\"2021-01-15 09:55:10.044\",\"2021-01-15 09:55:11.059\",\"2021-01-15 09:55:12.074\",\"2021-01-15 09:55:13.089\",\"2021-01-15 09:55:14.105\",\"2021-01-15 09:55:15.12\",\"2021-01-15 09:55:16.122\",\"2021-01-15 09:55:17.137\",\"2021-01-15 09:55:18.153\",\"2021-01-15 09:55:19.168\",\"2021-01-15 09:55:20.183\",\"2021-01-15 09:55:21.199\",\"2021-01-15 09:55:22.214\",\"2021-01-15 09:55:23.229\",\"2021-01-15 09:55:24.245\",\"2021-01-15 09:55:25.26\",\"2021-01-15 09:55:26.276\",\"2021-01-15 09:55:27.291\",\"2021-01-15 09:55:28.307\",\"2021-01-15 09:55:29.322\",\"2021-01-15 09:55:30.323\",\"2021-01-15 09:55:31.339\",\"2021-01-15 09:55:32.354\",\"2021-01-15 09:55:33.369\",\"2021-01-15 09:55:34.385\",\"2021-01-15 09:55:35.4\",\"2021-01-15 09:55:36.416\",\"2021-01-15 09:55:37.431\",\"2021-01-15 09:55:38.446\",\"2021-01-15 09:55:39.462\",\"2021-01-15 09:55:40.477\",\"2021-01-15 09:55:41.492\",\"2021-01-15 09:55:42.508\",\"2021-01-15 09:55:43.523\",\"2021-01-15 09:55:44.539\",\"2021-01-15 09:55:45.54\",\"2021-01-15 09:55:46.556\",\"2021-01-15 09:55:47.571\",\"2021-01-15 09:55:48.586\",\"2021-01-15 09:55:49.602\",\"2021-01-15 09:55:50.617\",\"2021-01-15 09:55:51.632\",\"2021-01-15 09:55:52.648\",\"2021-01-15 09:55:53.663\",\"2021-01-15 09:55:54.679\",\"2021-01-15 09:55:55.694\",\"2021-01-15 09:55:56.709\",\"2021-01-15 09:55:57.725\",\"2021-01-15 09:55:58.74\",\"2021-01-15 09:55:59.756\",\"2021-01-15 09:56:00.757\",\"2021-01-15 09:56:01.772\",\"2021-01-15 09:56:02.788\",\"2021-01-15 09:56:03.803\",\"2021-01-15 09:56:04.818\",\"2021-01-15 09:56:05.834\",\"2021-01-15 09:56:06.849\",\"2021-01-15 09:56:07.865\",\"2021-01-15 09:56:08.88\",\"2021-01-15 09:56:09.895\",\"2021-01-15 09:56:10.911\",\"2021-01-15 09:56:11.926\",\"2021-01-15 09:56:12.942\",\"2021-01-15 09:56:13.957\",\"2021-01-15 09:56:14.972\",\"2021-01-15 09:56:15.974\",\"2021-01-15 09:56:16.989\",\"2021-01-15 09:56:18.004\",\"2021-01-15 09:56:19.02\",\"2021-01-15 09:56:20.035\",\"2021-01-15 09:56:21.05\",\"2021-01-15 09:56:22.066\",\"2021-01-15 09:56:23.081\",\"2021-01-15 09:56:24.097\",\"2021-01-15 09:56:25.112\",\"2021-01-15 09:56:26.127\",\"2021-01-15 09:56:27.143\",\"2021-01-15 09:56:28.158\",\"2021-01-15 09:56:29.173\",\"2021-01-15 09:56:30.182\",\"2021-01-15 09:56:31.198\",\"2021-01-15 09:56:32.213\",\"2021-01-15 09:56:33.228\",\"2021-01-15 09:56:34.244\",\"2021-01-15 09:56:35.259\",\"2021-01-15 09:56:36.275\",\"2021-01-15 09:56:37.29\",\"2021-01-15 09:56:38.305\",\"2021-01-15 09:56:39.321\",\"2021-01-15 09:56:40.336\",\"2021-01-15 09:56:41.352\",\"2021-01-15 09:56:42.367\",\"2021-01-15 09:56:43.382\",\"2021-01-15 09:56:44.398\",\"2021-01-15 09:56:45.399\",\"2021-01-15 09:56:46.415\",\"2021-01-15 09:56:47.43\",\"2021-01-15 09:56:48.446\",\"2021-01-15 09:56:49.461\",\"2021-01-15 09:56:50.476\",\"2021-01-15 09:56:51.492\",\"2021-01-15 09:56:52.507\",\"2021-01-15 09:56:53.522\",\"2021-01-15 09:56:54.538\",\"2021-01-15 09:56:55.553\",\"2021-01-15 09:56:56.569\",\"2021-01-15 09:56:57.584\",\"2021-01-15 09:56:58.599\",\"2021-01-15 09:56:59.615\",\"2021-01-15 09:57:00.616\",\"2021-01-15 09:57:01.632\",\"2021-01-15 09:57:02.647\",\"2021-01-15 09:57:03.662\",\"2021-01-15 09:57:04.678\",\"2021-01-15 09:57:05.693\",\"2021-01-15 09:57:06.708\",\"2021-01-15 09:57:07.724\",\"2021-01-15 09:57:08.739\",\"2021-01-15 09:57:09.755\",\"2021-01-15 09:57:10.77\",\"2021-01-15 09:57:11.785\",\"2021-01-15 09:57:12.801\",\"2021-01-15 09:57:13.816\",\"2021-01-15 09:57:14.831\",\"2021-01-15 09:57:15.833\",\"2021-01-15 09:57:16.849\",\"2021-01-15 09:57:17.85\",\"2021-01-15 09:57:18.865\",\"2021-01-15 09:57:19.866\",\"2021-01-15 09:57:20.868\",\"2021-01-15 09:57:21.869\",\"2021-01-15 09:57:22.884\",\"2021-01-15 09:57:23.9\",\"2021-01-15 09:57:24.915\",\"2021-01-15 09:57:25.916\",\"2021-01-15 09:57:26.932\",\"2021-01-15 09:57:27.947\",\"2021-01-15 09:57:28.962\",\"2021-01-15 09:57:29.978\",\"2021-01-15 09:57:30.99\",\"2021-01-15 09:57:32.005\",\"2021-01-15 09:57:33.021\",\"2021-01-15 09:57:34.036\",\"2021-01-15 09:57:35.051\",\"2021-01-15 09:57:36.067\",\"2021-01-15 09:57:37.082\",\"2021-01-15 09:57:38.098\",\"2021-01-15 09:57:39.113\",\"2021-01-15 09:57:40.128\",\"2021-01-15 09:57:41.144\",\"2021-01-15 09:57:42.159\",\"2021-01-15 09:57:43.175\",\"2021-01-15 09:57:44.19\",\"2021-01-15 09:57:45.191\",\"2021-01-15 09:57:46.206\",\"2021-01-15 09:57:47.222\",\"2021-01-15 09:57:48.237\",\"2021-01-15 09:57:49.253\",\"2021-01-15 09:57:50.268\",\"2021-01-15 09:57:51.283\",\"2021-01-15 09:57:52.299\",\"2021-01-15 09:57:53.314\",\"2021-01-15 09:57:54.33\",\"2021-01-15 09:57:55.345\",\"2021-01-15 09:57:56.36\",\"2021-01-15 09:57:57.376\",\"2021-01-15 09:57:58.391\",\"2021-01-15 09:57:59.406\",\"2021-01-15 09:58:00.408\",\"2021-01-15 09:58:01.423\",\"2021-01-15 09:58:02.439\",\"2021-01-15 09:58:03.454\",\"2021-01-15 09:58:04.469\",\"2021-01-15 09:58:05.485\",\"2021-01-15 09:58:06.5\",\"2021-01-15 09:58:07.516\",\"2021-01-15 09:58:08.531\",\"2021-01-15 09:58:09.546\",\"2021-01-15 09:58:10.562\",\"2021-01-15 09:58:11.577\",\"2021-01-15 09:58:12.592\",\"2021-01-15 09:58:13.607\",\"2021-01-15 09:58:14.623\",\"2021-01-15 09:58:15.625\",\"2021-01-15 09:58:16.64\",\"2021-01-15 09:58:17.655\",\"2021-01-15 09:58:18.671\",\"2021-01-15 09:58:19.686\",\"2021-01-15 09:58:20.701\",\"2021-01-15 09:58:21.717\",\"2021-01-15 09:58:22.732\",\"2021-01-15 09:58:23.748\",\"2021-01-15 09:58:24.763\",\"2021-01-15 09:58:25.778\",\"2021-01-15 09:58:26.794\",\"2021-01-15 09:58:27.809\",\"2021-01-15 09:58:28.825\",\"2021-01-15 09:58:29.84\",\"2021-01-15 09:58:30.841\",\"2021-01-15 09:58:31.856\",\"2021-01-15 09:58:32.872\",\"2021-01-15 09:58:33.887\",\"2021-01-15 09:58:34.902\",\"2021-01-15 09:58:35.918\",\"2021-01-15 09:58:36.933\",\"2021-01-15 09:58:37.948\",\"2021-01-15 09:58:38.964\",\"2021-01-15 09:58:39.979\",\"2021-01-15 09:58:40.995\",\"2021-01-15 09:58:42.01\",\"2021-01-15 09:58:43.026\",\"2021-01-15 09:58:44.041\",\"2021-01-15 09:58:45.056\",\"2021-01-15 09:58:46.065\",\"2021-01-15 09:58:47.08\",\"2021-01-15 09:58:48.095\",\"2021-01-15 09:58:49.111\",\"2021-01-15 09:58:50.126\",\"2021-01-15 09:58:51.142\",\"2021-01-15 09:58:52.157\",\"2021-01-15 09:58:53.172\",\"2021-01-15 09:58:54.188\",\"2021-01-15 09:58:55.203\",\"2021-01-15 09:58:56.218\",\"2021-01-15 09:58:57.234\",\"2021-01-15 09:58:58.249\",\"2021-01-15 09:58:59.265\",\"2021-01-15 09:59:00.266\",\"2021-01-15 09:59:01.281\",\"2021-01-15 09:59:02.297\",\"2021-01-15 09:59:03.312\",\"2021-01-15 09:59:04.327\",\"2021-01-15 09:59:05.343\",\"2021-01-15 09:59:06.358\",\"2021-01-15 09:59:07.373\",\"2021-01-15 09:59:08.389\",\"2021-01-15 09:59:09.404\",\"2021-01-15 09:59:10.419\",\"2021-01-15 09:59:11.435\",\"2021-01-15 09:59:12.45\",\"2021-01-15 09:59:13.466\",\"2021-01-15 09:59:14.481\",\"2021-01-15 09:59:15.482\",\"2021-01-15 09:59:16.498\",\"2021-01-15 09:59:17.513\",\"2021-01-15 09:59:18.529\",\"2021-01-15 09:59:19.544\",\"2021-01-15 09:59:20.559\",\"2021-01-15 09:59:21.575\",\"2021-01-15 09:59:22.59\",\"2021-01-15 09:59:23.606\",\"2021-01-15 09:59:24.621\",\"2021-01-15 09:59:25.636\",\"2021-01-15 09:59:26.652\",\"2021-01-15 09:59:27.667\",\"2021-01-15 09:59:28.683\",\"2021-01-15 09:59:29.698\",\"2021-01-15 09:59:30.699\",\"2021-01-15 09:59:31.715\",\"2021-01-15 09:59:32.73\",\"2021-01-15 09:59:33.745\",\"2021-01-15 09:59:34.761\",\"2021-01-15 09:59:35.776\",\"2021-01-15 09:59:36.792\",\"2021-01-15 09:59:37.807\",\"2021-01-15 09:59:38.822\",\"2021-01-15 09:59:39.838\",\"2021-01-15 09:59:40.853\",\"2021-01-15 09:59:41.869\",\"2021-01-15 09:59:42.884\",\"2021-01-15 09:59:43.899\",\"2021-01-15 09:59:44.915\",\"2021-01-15 09:59:45.916\",\"2021-01-15 09:59:46.931\",\"2021-01-15 09:59:47.947\",\"2021-01-15 09:59:48.962\",\"2021-01-15 09:59:49.978\",\"2021-01-15 09:59:50.993\",\"2021-01-15 09:59:52.008\",\"2021-01-15 09:59:53.024\",\"2021-01-15 09:59:54.039\",\"2021-01-15 09:59:55.054\",\"2021-01-15 09:59:56.07\",\"2021-01-15 09:59:57.085\",\"2021-01-15 09:59:58.101\",\"2021-01-15 09:59:59.116\"],\"xaxis\":\"x\",\"y\":[508,508,508,508,508,508,508,508,508,508,508,508,508,508,508,508,508,508,508,508,508,508,508,508,508,508,508,508,508,508,508,508,508,508,508,508,508,508,508,508,508,508,508,508,508,508,508,508,508,508,508,508,508,508,508,508,508,508,508,508,508,508,508,508,508,509,509,509,510,510,510,510,510,510,510,511,511,511,511,511,511,512,512,512,512,513,513,513,513,513,514,514,514,515,515,515,515,515,515,515,515,515,515,515,515,515,515,515,515,515,515,515,515,515,515,515,515,515,515,515,515,515,515,515,515,515,515,515,515,515,515,516,516,516,516,516,516,516,517,517,517,517,517,517,517,517,518,518,518,518,519,519,519,520,520,520,520,521,521,521,521,521,521,521,522,522,523,523,523,523,523,523,523,523,523,523,523,523,523,523,523,523,523,523,523,523,523,523,523,523,523,523,523,523,523,523,523,523,523,523,523,523,523,523,523,524,524,524,524,524,524,524,524,524,525,525,525,525,525,525,525,525,525,525,525,525,525,525,525,525,525,526,526,526,526,526,527,527,527,527,527,527,528,528,528,528,528,528,528,528,528,528,528,528,528,528,528,528,528,528,528,528,528,528,528,528,528,528,528,528,528,528,528,528,528,528,528,529,529,529,529,529,529,529,529,529,529,529,529,529,529,529,529,529,529,529,529,529,529,529,529,529,529,529,529,529,529,529,529,529,529,529,529,529,529,529,530,530,530,530,530,530,530,530,531,531,531,532,532,533,533,533,533,533,533,533,533,533,533,533,533,533,533,533,533,533,533,533,533,533,533,533,533,533,533,534,534,534,534,534,534,536,536,536,536,536,536,536,536,536,536,536,536,536,536,536,536,536,536,536,536,536,536,536,536,536,536,536,536,536,536,536,536,536,536,536,536,536,536,536,536,536,536,537,537,537,537,537,537,537,537,537,537,537,537,537,537,537,537,537,538,538,538,538,539,540,540,540,540,540,540,540,540,540,540,540,540,540,540,540,540,540,540,540,541,541,541,541,542,542,542,542,543,544,544,545,545,545,545,545,545,545,545,545,545,545,545,545,545,545,545,545,545,545,546,546,546,546,546,546,546,546,546,546,546,546,546,546,546,546,547,548,548,548,548,548,548,548,549,549,549,549,549,549,549,549,549,549,549,549,549,549,549,549,549,549,549,549,549,549,549,549,549,549,549,549,549,549,549,549,549,549,549,549,549,549,549,549,549,549,549,549,549,549,549,549,549,549,549,549,549,549,549,549,549,549,549,549,549,549,549,549,549,549,549,549,549,549,549,549,549,550,550,550,550,551,551,551,552,552,552,552,552,552,552,552,553,553,553,553,553,553,553,553,553,553,553,553,553,553,553,553,553,553,553,553,553,553,553,553,553,553,554,554,554,554,554,554,554,554,554,554,554,554,554,554,554,554,555,555,555,555,555,555,555,555,555,555,555,555,555,555,555,555,555,555,555,555,555,555,555,555,555,555,555,555,555,555,555,555,555,555,556,557,557,557,557,557,557,557,557,558,558,558,559,559,559,559,559,559,559,559,560,560,560,560,561,561,562,562,562,562,562,562,563,563,563,564,564,565,565,565,565,565,565,565,566,566,566,566,566,566,567,567,567,567,567,567,567,567,567,567,567,567,567,567,567,567,567,568,568,568,568,568,568,568,569,569,569,569,569,569,569,569,569,569,569,569,569,569,569,569,569,569,569,569,569,569,569,569,569,569,569,569,569,569,570,570,570,570,570,570,570,571,571,571,571,571,571,571,571,571,571,571,571,571,571,571,571,571,571,571,571,572,572,572,572,572,572,572,572,574,574,574,574,574,574,574,574,574,574,575,575,575,575,575,575,575,575,575,576,576,577,577,577,577,577,577,577,577,577,577,577,578,578,578,578,579,579,579,579,579,579,579,579,579,579,579,579,579,579,579,579,579,579,579,579,579,580,580,580,580,580,580,580,580,580,580,580,580,580,580,580,580,580,580,580,580,580,580,580,580,580,580,580,580,580,580,580,580,580,580,580,580,580,580,580,580,580,580,580,580,580,580,580,580,580,580,580,580,580,580,580,580,582,582,582,582,582,582,582,582,582,582,584,585,585,585,585,586,586,586,586,587,587,587,588,588,588,588,588,588,588,588,588,588,588,588,588,588,588,588,588,588,588,588,588,588,588,588,588,588,588,588,588,588,588,588,588,588,588,588,588,588,588,588,588,588,588,588,588,589,589,589,589,589,589,589,589,589,589,590,590,590,590,591,592,592,592,592,592,592,592,592,592,592,592,592,592,592,592,593,593,593,593,593,594,594,594,594,594,594,594,594,594,594,594,594,595,595,595,595,596,596,596,596,596,596,596,596,597,597,597,597,597,597,597,597,597,597,597,597,597,597,597,597,597,597,597,597,597,598,598,598,598,598,598,598,598,598,598,598,598,598,598,598,598,598,598,598,598,598,598,599,599,599,599,599,599,599,600,600,600,600,600,600,600,600,600,600,600,600,601,601,601,601,602,602,602,602,602,602,602,602,602,602,602,602,602,602,602,602,603,603,603,603,603,603,603,603,603,603,603,603,603,603,603,603,603,603,603,604,605,605,605,605,605,605,605,605,605,605,605,605,605,605,605,605,605,606,606,606,606,606,606,606,606,606,606,606,607,607,607,607,607,608,608,608,608,608,608,608,608,608,608,609,609,609,609,609,610,610,610,610,610,610,610,610,610,610,611,611,611,611,611,611,611,611,611,611,611,612,612,612,612,612,612,612,612,612,612,612,612,612,612,612,612,612,612,612,612,612,613,613,613,613,613,613,613,613,613,613,613,613,613,613,613,613,613,613,614,614,614,614,614,614,614,614,614,614,614,614,614,614,614,614,615,615,616,616,617,617,617,617,617,617,617,617,618,618,618,618,618,618,618,618,619,620,620,620,620,620,620,620,620,620,620,620,620,620,620,620,620,620,620,620,620,620,620,620,620,620,620,620,621,621,621,621,621,621,621,621,621,621,621,621,621,621,621,621,621,621,621,621,621,621,621,621,621,621,621,622,622,622,622,622,622,622,622,622,622,622,622,622,622,622,622,622,622,622,622,622,622,622,622,622,622,622,622,623,623,623,623,623,623,623,623,623,623,623,623,623,623,623,623,623,623,623,623,623,623,624,625,625,625,626,626,626,626,626,626,626,626,626,626,626,626,626,626,626,626,626,626,626,626,626,626,626,626,626,626,626,626,626,626,626,627,627,627,627,627,628,628,628,629,629,629,629,629,629,629,629,629,629,629,630,630,630,630,630,630,630,630,630,630,630,630,630,630,630,630,630,630,630,630,631,631,631,631,631,631,631,631,631,632,632,632,632,633,633,633,633,633,633,633,633,634,634,634,635,635,635,635,635,635,635,635,635,635,635,635,635,635,635,635,635,635,635,635,636,636,636,636,636,636,636,636,636,636,636,636,636,636,636,636,636,636,636,636,636,636,636,636,636,636,636,636,636,636,636,636,636,636,636,636,636,636,636,636,636,636,636,636,636,636,636,636,636,636,636,636,636,636,636,636,636,636,636,636,636,637,638,638,638,639,639,639,639,639,639,639,639,640,640,640,640,640,641,641,641,641,641,641,641,641,641,642,642,642,642,642,642,642,642,642,642,642,642,642,642,642,642,642,642,642,642,642,642,642,642,642,642,642,642,642,642,642,642,642,642,643,643,643,643,643,643,643,643,643,643,643,643,643,643,643,643,643,643,643,643,643,643,643,643,643,643,643,643,643,643,643,643,643,643,643,643,643,643,643,643,643,643,643,643,643,643,643,643,643,643,643,643,643,643,643,643,643,643,643,643,643,643,643,643,643,643,643,643,643,643,643,643,643,643,643,643,643,643,643,643,643,643,643,643,643,643,643,643,643,643,643,643,643,644,644,644,644,645,645,645,645,645,645,645,645,645,645,645,646,646,646,647,647,647,647,647,647,647,647,647,648,648,648,648,648,648,649,649,649,650,650,650,650,650,650,651,651,651,651,651,652,652,652,652,652,652,652,652,652,652,652,652,652,652,652,652,652,652,652,652,653,653,653,653,653,653,653,653,653,653,653,653,653,653,653,654,654,654,654,654,654,654,654,654,654,654,654,654,654,654,654,654,654,654,654,654,654,654,654,654,654,654,654,654,655,655,655,655,655,655,655,655,655,655,655,655,655,655,655,655,655,655,655,655,655,655,655,656,656,656,656,656,656,656,656,656,656,656,656,657,657,657,657,657,657,657,657,657,657,657,657,657,659,660,660,660,660,660,660,660,660,660,660,660,660,661,661,661,661,661,661,661,661,661,661,661,661,661,661,661,661,661,661,661,661,661,661,661,661,661,661,661,661,661,661,661,661,661,661,661,661,661,661,661,661,661,661,661,661,661,661,661,661,661,661,661,661,661,662,662,662,662,662,662,662,662,662,662,662,662,662,662,663,663,663,663,663,663,663,663,663,664,665,665,666,666,666,666,666,667,667,667,667,667,667,667,667,667,667,667,667,668,668,668,668,668,668,668,668,668,668,668,668,668,668,668,668,668,668,668,668,668,668,668,668,668,668,668,668,668,669,669,669,669,669,669,669,669,669,669,669,669,669,669,669,669,670,670,670,670,670,670,670,670,670,670,670,670,670,670,670,670,670,670,670,670,670,670,670,670,670,670,670,670,670,670,670,670,670,670,670,670,670,670,671,671,671,671,671,672,672,672,672,672,672,672,672,672,672,673,674,674,674,674,674,674,674,674,674,674,674,674,674,674,674,674,674,674,674,674,674,674,674,674,674,674,674,674,674,674,674,674,674,674,674,674,674,674,674,674,675,675,675,675,675,675,675,675,675,675,675,675,675,675,675,675,675,675,675,675,675,675,675,675,675,675,676,676,676,676,676,676,677,677,677,677,677,678,678,678,678,678,678,678,678,678,678,678,678,678,678,678,678,678,678,679,679,679,679,679,679,679,679,680,680,680,680,680,680,680,680,680,680,680,680,681,681,681,681,681,681,681,681,681,681,682,682,682,682,682,682,683,683,684,684,684,684,684,684,684,684,684,684,684,684,684,684,685,685,685,685,686,686,686,686,686,686,686,686,687,687,687,687,687,687,687,687,688,688,688,688,688,688,688,688,688,689,689,689,689,689,689,689,689,690,691,691,691,691,691,691,691,691,691,691,691,691,691,691,691,691,691,691,691,691,691,691,691,691,691,691,691,691,691,691,691,691,691,691,691,691,691,691,691,691,691,691,691,691,691,691,691,691,691,692,692,692,692,692,692,692,692,692,692,692,692,692,692,692,692,692,692,692,692,692,692,692,692,692,692,692,692,692,692,692,693,693,693,693,693,693,693,694,694,694,694,694,694,694,694,694,694,694,694,694,694,694,694,694,694,694,694,694,694,694,694,694,695,695,695,695,695,695,695,695,696,696,696,696,696,696,696,696,696,696,697,697,697,697,697,697,697,697,697,698,698,700,700,700,700,700,700,700,700,701,701,701,701,701,701,701,702,702,702,702,702,702,702,702,702,702,702,702,702,702,702,702,702,702,702,702,702,702,702,702,702,702,702,702,702,702,702,702,702,702,702,702,702,702,702,702,702,703,703,703,703,703,703,703,703,703,703,703,703,703,703,703,703,703,703,703,703,703,703,703,703,703,703,703,703,703,703,703,703,703,703,703,703,703,703,703,703,703,703,703,703,703,703,703,703,703,703,703,703,703,703,703,703,703,703,703,703,703,703,703,703,703,703,703,703,703,703,703,703,703,703,704,704,704,704,704,704,704,704,704,704,704,704,704,704,704,704,704,704,704,704,704,704,704,704,704,704,704,704,704,704,704,704,704,704,704,704,704,704,704,704,704,704,704,704,704,704,704,704,704,704,704,704,706,706,706,706,706,706,706,706,706,706,706,706,706,706,706,706,706,706,706,706,706,706,706,706,706,706,706,707,708,708,708,708,708,708,708,708,708,708,708,708,708,709,709,709,709,709,709,709,709,709,710,710,710,710,711,711,711,711,711,711,711,711,711,712,712,712,712,712,712,712,712,713,713,713,713,714,715,715,715,715,715,716,716,716,717,717,718,718,718,718,719,719,719,719,719,719,719,719,719,719,719,719,719,720,720,720,720,720,720,720,720,720,720,720,720,720,720,720,720,720,720,720,720,720,721,722,722,722,722,723,723,723,723,723,723,723,723,723,723,723,723,723,723,723,723,723,723,723,723,723,723,723,723,724,724,725,725,725,725,725,725,725,725,725,725,725,725,725,725,726,726,726,726,726,726,726,726,726,726,726,726,726,726,726,726,726,726,726,726,726,726,726,726,726,726,726,726,726,726,726,726,727,727,727,728,728,728,728,728,728,728,728,728,729,729,729,729,729,729,729,729,729,730,730,730,731,732,732,733,733,734,734,734,734,734,734,734,734,734,736,736,736,737,738,738,738,738,738,739,739,739,739,740,740,740,740,740,740,740,740,740,740,740,740,740,740,740,740,740,740,740,740,740,740,740,740,740,740,740,740,740,741,741,741,741,741,741,741,741,741,741,741,741,741,741,741,741,741,741,741,741,741,741,741,741,741,741,741,741,741,741,741,741,742,742,742,742,742,742,742,742,742,742,742,742,742,742,742,742,742,742,742,742,742,742,742,742,742,742,742,742,742,742,742,742,742,742,742,742,742,742,742,742,742,742,743,743,743,743,743,743,743,743,743,743,743,743,743,743,743,743,743,743,743,743,743,743,743,743,743,743,743,743,743,743,743,743,744,744,744,744,745,745,745,745,745,745,746,746,747,747,748,748,748,749,749,750,752,752,752,752,752,752,752,752,752,753,753,753,754,754,754,754,754,754,754,754,754,754,754,754,754,754,755,755,755,756,756,756,756,756,756,756,756,756,756,756,756,756,756,756,756,756,756,756,756,756,756,756,756,756,756,756,756,756,756,756,757,758,758,758,758,758,758,758,758,758,758,758,758,758,759,759,759,759,759,759,759,759,759,759,759,759,759,759,759,759,759,759,759,759,759,759,759,759,759,759,759,759,759,759,759,759,759,759,759,759,759,759,759,759,759,759,759,759,759,759,759,759,759,760,760,760,760,760,760,760,760,760,760,760,760,760,760,760,760,760,760,760,760,760,760,760,760,761,761,762,763,763,763,763,763,763,763,763,764,764,764,764,764,764,764,764,764,765,765,765,765,765,765,765,765,765,765,765,765,765,765,765,765,765,765,765,765,765,765,765,765,765,765,765,765,765,765,765,765,765,765,765,765,765,765,765,765,765,765,765,765,765,765,765,765,765,765,765,765,765,765,765,765,766,766,766,766,766,766,766,766,766,766,766,766,766,766,766,766,766,766,766,766,766,766,766,766,766,766,766,766,766,766,766,766,766,766,766,766,766,766,766,766,766,766,766,767,767,767,767,767,767,768,768,768,768,768,768,768,768,768,768,768,768,768,768,768,769,769,769,769,769,769,769,769,769,769,769,769,769,769,769,769,769,769,769,769,769,769,769,769,770,770,770,770,770,770,770,770,770,770,770,770,770,770,770,770,770,771,771,771,771,771,771,771,771,772,772,772,772,772,772,772,772,772,772,772,773,773,773,773,773,773,773,773,773,773,773,773,773,774,774,774,774,774,774,774,774,774,774,774,774,775,775,775,775,775,776,776,776,776,776,776,776,776,776,776,776,776,776,776,776,776,776,776,776,776,776,776,776,776,776,776,776,776,776,776,776,776,776,776,776,776,776,776,776,776,776,776,776,776,776,776,776,776,776,776,776,776,776,776,776,776,776,776,776,776,776,776,776,776,776,776,776,776,776,776,776,776,776,776,776,776,776,776,777,777,777,777,777,777,777,777,777,777,777,777,777,777,777,777,777,777,777,777,777,777,777,777,777,777,777,777,777,777,777,777,777,777,777,777,777,777,777,777,777,777,777,777,777,777,777,777,777,777,779,779,779,780,780,780,780,780,780,781,781,781,781,781,782,782,782,782,782,782,782,782,782,782,782,782,782,782,782,782],\"yaxis\":\"y\",\"type\":\"scattergl\"}],                        {\"template\":{\"data\":{\"bar\":[{\"error_x\":{\"color\":\"#2a3f5f\"},\"error_y\":{\"color\":\"#2a3f5f\"},\"marker\":{\"line\":{\"color\":\"#E5ECF6\",\"width\":0.5},\"pattern\":{\"fillmode\":\"overlay\",\"size\":10,\"solidity\":0.2}},\"type\":\"bar\"}],\"barpolar\":[{\"marker\":{\"line\":{\"color\":\"#E5ECF6\",\"width\":0.5},\"pattern\":{\"fillmode\":\"overlay\",\"size\":10,\"solidity\":0.2}},\"type\":\"barpolar\"}],\"carpet\":[{\"aaxis\":{\"endlinecolor\":\"#2a3f5f\",\"gridcolor\":\"white\",\"linecolor\":\"white\",\"minorgridcolor\":\"white\",\"startlinecolor\":\"#2a3f5f\"},\"baxis\":{\"endlinecolor\":\"#2a3f5f\",\"gridcolor\":\"white\",\"linecolor\":\"white\",\"minorgridcolor\":\"white\",\"startlinecolor\":\"#2a3f5f\"},\"type\":\"carpet\"}],\"choropleth\":[{\"colorbar\":{\"outlinewidth\":0,\"ticks\":\"\"},\"type\":\"choropleth\"}],\"contour\":[{\"colorbar\":{\"outlinewidth\":0,\"ticks\":\"\"},\"colorscale\":[[0.0,\"#0d0887\"],[0.1111111111111111,\"#46039f\"],[0.2222222222222222,\"#7201a8\"],[0.3333333333333333,\"#9c179e\"],[0.4444444444444444,\"#bd3786\"],[0.5555555555555556,\"#d8576b\"],[0.6666666666666666,\"#ed7953\"],[0.7777777777777778,\"#fb9f3a\"],[0.8888888888888888,\"#fdca26\"],[1.0,\"#f0f921\"]],\"type\":\"contour\"}],\"contourcarpet\":[{\"colorbar\":{\"outlinewidth\":0,\"ticks\":\"\"},\"type\":\"contourcarpet\"}],\"heatmap\":[{\"colorbar\":{\"outlinewidth\":0,\"ticks\":\"\"},\"colorscale\":[[0.0,\"#0d0887\"],[0.1111111111111111,\"#46039f\"],[0.2222222222222222,\"#7201a8\"],[0.3333333333333333,\"#9c179e\"],[0.4444444444444444,\"#bd3786\"],[0.5555555555555556,\"#d8576b\"],[0.6666666666666666,\"#ed7953\"],[0.7777777777777778,\"#fb9f3a\"],[0.8888888888888888,\"#fdca26\"],[1.0,\"#f0f921\"]],\"type\":\"heatmap\"}],\"heatmapgl\":[{\"colorbar\":{\"outlinewidth\":0,\"ticks\":\"\"},\"colorscale\":[[0.0,\"#0d0887\"],[0.1111111111111111,\"#46039f\"],[0.2222222222222222,\"#7201a8\"],[0.3333333333333333,\"#9c179e\"],[0.4444444444444444,\"#bd3786\"],[0.5555555555555556,\"#d8576b\"],[0.6666666666666666,\"#ed7953\"],[0.7777777777777778,\"#fb9f3a\"],[0.8888888888888888,\"#fdca26\"],[1.0,\"#f0f921\"]],\"type\":\"heatmapgl\"}],\"histogram\":[{\"marker\":{\"pattern\":{\"fillmode\":\"overlay\",\"size\":10,\"solidity\":0.2}},\"type\":\"histogram\"}],\"histogram2d\":[{\"colorbar\":{\"outlinewidth\":0,\"ticks\":\"\"},\"colorscale\":[[0.0,\"#0d0887\"],[0.1111111111111111,\"#46039f\"],[0.2222222222222222,\"#7201a8\"],[0.3333333333333333,\"#9c179e\"],[0.4444444444444444,\"#bd3786\"],[0.5555555555555556,\"#d8576b\"],[0.6666666666666666,\"#ed7953\"],[0.7777777777777778,\"#fb9f3a\"],[0.8888888888888888,\"#fdca26\"],[1.0,\"#f0f921\"]],\"type\":\"histogram2d\"}],\"histogram2dcontour\":[{\"colorbar\":{\"outlinewidth\":0,\"ticks\":\"\"},\"colorscale\":[[0.0,\"#0d0887\"],[0.1111111111111111,\"#46039f\"],[0.2222222222222222,\"#7201a8\"],[0.3333333333333333,\"#9c179e\"],[0.4444444444444444,\"#bd3786\"],[0.5555555555555556,\"#d8576b\"],[0.6666666666666666,\"#ed7953\"],[0.7777777777777778,\"#fb9f3a\"],[0.8888888888888888,\"#fdca26\"],[1.0,\"#f0f921\"]],\"type\":\"histogram2dcontour\"}],\"mesh3d\":[{\"colorbar\":{\"outlinewidth\":0,\"ticks\":\"\"},\"type\":\"mesh3d\"}],\"parcoords\":[{\"line\":{\"colorbar\":{\"outlinewidth\":0,\"ticks\":\"\"}},\"type\":\"parcoords\"}],\"pie\":[{\"automargin\":true,\"type\":\"pie\"}],\"scatter\":[{\"marker\":{\"colorbar\":{\"outlinewidth\":0,\"ticks\":\"\"}},\"type\":\"scatter\"}],\"scatter3d\":[{\"line\":{\"colorbar\":{\"outlinewidth\":0,\"ticks\":\"\"}},\"marker\":{\"colorbar\":{\"outlinewidth\":0,\"ticks\":\"\"}},\"type\":\"scatter3d\"}],\"scattercarpet\":[{\"marker\":{\"colorbar\":{\"outlinewidth\":0,\"ticks\":\"\"}},\"type\":\"scattercarpet\"}],\"scattergeo\":[{\"marker\":{\"colorbar\":{\"outlinewidth\":0,\"ticks\":\"\"}},\"type\":\"scattergeo\"}],\"scattergl\":[{\"marker\":{\"colorbar\":{\"outlinewidth\":0,\"ticks\":\"\"}},\"type\":\"scattergl\"}],\"scattermapbox\":[{\"marker\":{\"colorbar\":{\"outlinewidth\":0,\"ticks\":\"\"}},\"type\":\"scattermapbox\"}],\"scatterpolar\":[{\"marker\":{\"colorbar\":{\"outlinewidth\":0,\"ticks\":\"\"}},\"type\":\"scatterpolar\"}],\"scatterpolargl\":[{\"marker\":{\"colorbar\":{\"outlinewidth\":0,\"ticks\":\"\"}},\"type\":\"scatterpolargl\"}],\"scatterternary\":[{\"marker\":{\"colorbar\":{\"outlinewidth\":0,\"ticks\":\"\"}},\"type\":\"scatterternary\"}],\"surface\":[{\"colorbar\":{\"outlinewidth\":0,\"ticks\":\"\"},\"colorscale\":[[0.0,\"#0d0887\"],[0.1111111111111111,\"#46039f\"],[0.2222222222222222,\"#7201a8\"],[0.3333333333333333,\"#9c179e\"],[0.4444444444444444,\"#bd3786\"],[0.5555555555555556,\"#d8576b\"],[0.6666666666666666,\"#ed7953\"],[0.7777777777777778,\"#fb9f3a\"],[0.8888888888888888,\"#fdca26\"],[1.0,\"#f0f921\"]],\"type\":\"surface\"}],\"table\":[{\"cells\":{\"fill\":{\"color\":\"#EBF0F8\"},\"line\":{\"color\":\"white\"}},\"header\":{\"fill\":{\"color\":\"#C8D4E3\"},\"line\":{\"color\":\"white\"}},\"type\":\"table\"}]},\"layout\":{\"annotationdefaults\":{\"arrowcolor\":\"#2a3f5f\",\"arrowhead\":0,\"arrowwidth\":1},\"autotypenumbers\":\"strict\",\"coloraxis\":{\"colorbar\":{\"outlinewidth\":0,\"ticks\":\"\"}},\"colorscale\":{\"diverging\":[[0,\"#8e0152\"],[0.1,\"#c51b7d\"],[0.2,\"#de77ae\"],[0.3,\"#f1b6da\"],[0.4,\"#fde0ef\"],[0.5,\"#f7f7f7\"],[0.6,\"#e6f5d0\"],[0.7,\"#b8e186\"],[0.8,\"#7fbc41\"],[0.9,\"#4d9221\"],[1,\"#276419\"]],\"sequential\":[[0.0,\"#0d0887\"],[0.1111111111111111,\"#46039f\"],[0.2222222222222222,\"#7201a8\"],[0.3333333333333333,\"#9c179e\"],[0.4444444444444444,\"#bd3786\"],[0.5555555555555556,\"#d8576b\"],[0.6666666666666666,\"#ed7953\"],[0.7777777777777778,\"#fb9f3a\"],[0.8888888888888888,\"#fdca26\"],[1.0,\"#f0f921\"]],\"sequentialminus\":[[0.0,\"#0d0887\"],[0.1111111111111111,\"#46039f\"],[0.2222222222222222,\"#7201a8\"],[0.3333333333333333,\"#9c179e\"],[0.4444444444444444,\"#bd3786\"],[0.5555555555555556,\"#d8576b\"],[0.6666666666666666,\"#ed7953\"],[0.7777777777777778,\"#fb9f3a\"],[0.8888888888888888,\"#fdca26\"],[1.0,\"#f0f921\"]]},\"colorway\":[\"#636efa\",\"#EF553B\",\"#00cc96\",\"#ab63fa\",\"#FFA15A\",\"#19d3f3\",\"#FF6692\",\"#B6E880\",\"#FF97FF\",\"#FECB52\"],\"font\":{\"color\":\"#2a3f5f\"},\"geo\":{\"bgcolor\":\"white\",\"lakecolor\":\"white\",\"landcolor\":\"#E5ECF6\",\"showlakes\":true,\"showland\":true,\"subunitcolor\":\"white\"},\"hoverlabel\":{\"align\":\"left\"},\"hovermode\":\"closest\",\"mapbox\":{\"style\":\"light\"},\"paper_bgcolor\":\"white\",\"plot_bgcolor\":\"#E5ECF6\",\"polar\":{\"angularaxis\":{\"gridcolor\":\"white\",\"linecolor\":\"white\",\"ticks\":\"\"},\"bgcolor\":\"#E5ECF6\",\"radialaxis\":{\"gridcolor\":\"white\",\"linecolor\":\"white\",\"ticks\":\"\"}},\"scene\":{\"xaxis\":{\"backgroundcolor\":\"#E5ECF6\",\"gridcolor\":\"white\",\"gridwidth\":2,\"linecolor\":\"white\",\"showbackground\":true,\"ticks\":\"\",\"zerolinecolor\":\"white\"},\"yaxis\":{\"backgroundcolor\":\"#E5ECF6\",\"gridcolor\":\"white\",\"gridwidth\":2,\"linecolor\":\"white\",\"showbackground\":true,\"ticks\":\"\",\"zerolinecolor\":\"white\"},\"zaxis\":{\"backgroundcolor\":\"#E5ECF6\",\"gridcolor\":\"white\",\"gridwidth\":2,\"linecolor\":\"white\",\"showbackground\":true,\"ticks\":\"\",\"zerolinecolor\":\"white\"}},\"shapedefaults\":{\"line\":{\"color\":\"#2a3f5f\"}},\"ternary\":{\"aaxis\":{\"gridcolor\":\"white\",\"linecolor\":\"white\",\"ticks\":\"\"},\"baxis\":{\"gridcolor\":\"white\",\"linecolor\":\"white\",\"ticks\":\"\"},\"bgcolor\":\"#E5ECF6\",\"caxis\":{\"gridcolor\":\"white\",\"linecolor\":\"white\",\"ticks\":\"\"}},\"title\":{\"x\":0.05},\"xaxis\":{\"automargin\":true,\"gridcolor\":\"white\",\"linecolor\":\"white\",\"ticks\":\"\",\"title\":{\"standoff\":15},\"zerolinecolor\":\"white\",\"zerolinewidth\":2},\"yaxis\":{\"automargin\":true,\"gridcolor\":\"white\",\"linecolor\":\"white\",\"ticks\":\"\",\"title\":{\"standoff\":15},\"zerolinecolor\":\"white\",\"zerolinewidth\":2}}},\"xaxis\":{\"anchor\":\"y\",\"domain\":[0.0,1.0],\"title\":{\"text\":\"x\"}},\"yaxis\":{\"anchor\":\"x\",\"domain\":[0.0,1.0],\"title\":{\"text\":\"y\"}},\"legend\":{\"tracegroupgap\":0},\"margin\":{\"t\":60}},                        {\"responsive\": true}                    ).then(function(){\n",
              "                            \n",
              "var gd = document.getElementById('7aa8c02e-7716-4fb0-9416-729d7c621166');\n",
              "var x = new MutationObserver(function (mutations, observer) {{\n",
              "        var display = window.getComputedStyle(gd).display;\n",
              "        if (!display || display === 'none') {{\n",
              "            console.log([gd, 'removed!']);\n",
              "            Plotly.purge(gd);\n",
              "            observer.disconnect();\n",
              "        }}\n",
              "}});\n",
              "\n",
              "// Listen for the removal of the full notebook cells\n",
              "var notebookContainer = gd.closest('#notebook-container');\n",
              "if (notebookContainer) {{\n",
              "    x.observe(notebookContainer, {childList: true});\n",
              "}}\n",
              "\n",
              "// Listen for the clearing of the current output cell\n",
              "var outputEl = gd.closest('.output');\n",
              "if (outputEl) {{\n",
              "    x.observe(outputEl, {childList: true});\n",
              "}}\n",
              "\n",
              "                        })                };                            </script>        </div>\n",
              "</body>\n",
              "</html>"
            ]
          },
          "metadata": {}
        }
      ]
    },
    {
      "cell_type": "code",
      "metadata": {
        "colab": {
          "base_uri": "https://localhost:8080/",
          "height": 206
        },
        "id": "6tI_7W6x47fe",
        "outputId": "38caf62b-6595-41b4-c80f-fe22a03a74a2"
      },
      "source": [
        "df_v = pd.melt(df[['receive_time','in1','out1']], id_vars=['receive_time'], var_name=\"変数名\",value_name=\"値\")\n",
        "df_v.head()"
      ],
      "execution_count": null,
      "outputs": [
        {
          "output_type": "execute_result",
          "data": {
            "text/plain": [
              "              receive_time  変数名    値\n",
              "0  2021-01-15 09:00:00.144  in1  508\n",
              "1  2021-01-15 09:00:01.146  in1  508\n",
              "2  2021-01-15 09:00:02.161  in1  508\n",
              "3  2021-01-15 09:00:03.176  in1  508\n",
              "4  2021-01-15 09:00:04.192  in1  508"
            ],
            "text/html": [
              "\n",
              "  <div id=\"df-7887a7f4-fa39-4f43-af43-0c7d2e541af5\">\n",
              "    <div class=\"colab-df-container\">\n",
              "      <div>\n",
              "<style scoped>\n",
              "    .dataframe tbody tr th:only-of-type {\n",
              "        vertical-align: middle;\n",
              "    }\n",
              "\n",
              "    .dataframe tbody tr th {\n",
              "        vertical-align: top;\n",
              "    }\n",
              "\n",
              "    .dataframe thead th {\n",
              "        text-align: right;\n",
              "    }\n",
              "</style>\n",
              "<table border=\"1\" class=\"dataframe\">\n",
              "  <thead>\n",
              "    <tr style=\"text-align: right;\">\n",
              "      <th></th>\n",
              "      <th>receive_time</th>\n",
              "      <th>変数名</th>\n",
              "      <th>値</th>\n",
              "    </tr>\n",
              "  </thead>\n",
              "  <tbody>\n",
              "    <tr>\n",
              "      <th>0</th>\n",
              "      <td>2021-01-15 09:00:00.144</td>\n",
              "      <td>in1</td>\n",
              "      <td>508</td>\n",
              "    </tr>\n",
              "    <tr>\n",
              "      <th>1</th>\n",
              "      <td>2021-01-15 09:00:01.146</td>\n",
              "      <td>in1</td>\n",
              "      <td>508</td>\n",
              "    </tr>\n",
              "    <tr>\n",
              "      <th>2</th>\n",
              "      <td>2021-01-15 09:00:02.161</td>\n",
              "      <td>in1</td>\n",
              "      <td>508</td>\n",
              "    </tr>\n",
              "    <tr>\n",
              "      <th>3</th>\n",
              "      <td>2021-01-15 09:00:03.176</td>\n",
              "      <td>in1</td>\n",
              "      <td>508</td>\n",
              "    </tr>\n",
              "    <tr>\n",
              "      <th>4</th>\n",
              "      <td>2021-01-15 09:00:04.192</td>\n",
              "      <td>in1</td>\n",
              "      <td>508</td>\n",
              "    </tr>\n",
              "  </tbody>\n",
              "</table>\n",
              "</div>\n",
              "      <button class=\"colab-df-convert\" onclick=\"convertToInteractive('df-7887a7f4-fa39-4f43-af43-0c7d2e541af5')\"\n",
              "              title=\"Convert this dataframe to an interactive table.\"\n",
              "              style=\"display:none;\">\n",
              "        \n",
              "  <svg xmlns=\"http://www.w3.org/2000/svg\" height=\"24px\"viewBox=\"0 0 24 24\"\n",
              "       width=\"24px\">\n",
              "    <path d=\"M0 0h24v24H0V0z\" fill=\"none\"/>\n",
              "    <path d=\"M18.56 5.44l.94 2.06.94-2.06 2.06-.94-2.06-.94-.94-2.06-.94 2.06-2.06.94zm-11 1L8.5 8.5l.94-2.06 2.06-.94-2.06-.94L8.5 2.5l-.94 2.06-2.06.94zm10 10l.94 2.06.94-2.06 2.06-.94-2.06-.94-.94-2.06-.94 2.06-2.06.94z\"/><path d=\"M17.41 7.96l-1.37-1.37c-.4-.4-.92-.59-1.43-.59-.52 0-1.04.2-1.43.59L10.3 9.45l-7.72 7.72c-.78.78-.78 2.05 0 2.83L4 21.41c.39.39.9.59 1.41.59.51 0 1.02-.2 1.41-.59l7.78-7.78 2.81-2.81c.8-.78.8-2.07 0-2.86zM5.41 20L4 18.59l7.72-7.72 1.47 1.35L5.41 20z\"/>\n",
              "  </svg>\n",
              "      </button>\n",
              "      \n",
              "  <style>\n",
              "    .colab-df-container {\n",
              "      display:flex;\n",
              "      flex-wrap:wrap;\n",
              "      gap: 12px;\n",
              "    }\n",
              "\n",
              "    .colab-df-convert {\n",
              "      background-color: #E8F0FE;\n",
              "      border: none;\n",
              "      border-radius: 50%;\n",
              "      cursor: pointer;\n",
              "      display: none;\n",
              "      fill: #1967D2;\n",
              "      height: 32px;\n",
              "      padding: 0 0 0 0;\n",
              "      width: 32px;\n",
              "    }\n",
              "\n",
              "    .colab-df-convert:hover {\n",
              "      background-color: #E2EBFA;\n",
              "      box-shadow: 0px 1px 2px rgba(60, 64, 67, 0.3), 0px 1px 3px 1px rgba(60, 64, 67, 0.15);\n",
              "      fill: #174EA6;\n",
              "    }\n",
              "\n",
              "    [theme=dark] .colab-df-convert {\n",
              "      background-color: #3B4455;\n",
              "      fill: #D2E3FC;\n",
              "    }\n",
              "\n",
              "    [theme=dark] .colab-df-convert:hover {\n",
              "      background-color: #434B5C;\n",
              "      box-shadow: 0px 1px 3px 1px rgba(0, 0, 0, 0.15);\n",
              "      filter: drop-shadow(0px 1px 2px rgba(0, 0, 0, 0.3));\n",
              "      fill: #FFFFFF;\n",
              "    }\n",
              "  </style>\n",
              "\n",
              "      <script>\n",
              "        const buttonEl =\n",
              "          document.querySelector('#df-7887a7f4-fa39-4f43-af43-0c7d2e541af5 button.colab-df-convert');\n",
              "        buttonEl.style.display =\n",
              "          google.colab.kernel.accessAllowed ? 'block' : 'none';\n",
              "\n",
              "        async function convertToInteractive(key) {\n",
              "          const element = document.querySelector('#df-7887a7f4-fa39-4f43-af43-0c7d2e541af5');\n",
              "          const dataTable =\n",
              "            await google.colab.kernel.invokeFunction('convertToInteractive',\n",
              "                                                     [key], {});\n",
              "          if (!dataTable) return;\n",
              "\n",
              "          const docLinkHtml = 'Like what you see? Visit the ' +\n",
              "            '<a target=\"_blank\" href=https://colab.research.google.com/notebooks/data_table.ipynb>data table notebook</a>'\n",
              "            + ' to learn more about interactive tables.';\n",
              "          element.innerHTML = '';\n",
              "          dataTable['output_type'] = 'display_data';\n",
              "          await google.colab.output.renderOutput(dataTable, element);\n",
              "          const docLink = document.createElement('div');\n",
              "          docLink.innerHTML = docLinkHtml;\n",
              "          element.appendChild(docLink);\n",
              "        }\n",
              "      </script>\n",
              "    </div>\n",
              "  </div>\n",
              "  "
            ]
          },
          "metadata": {},
          "execution_count": 36
        }
      ]
    },
    {
      "cell_type": "code",
      "metadata": {
        "colab": {
          "base_uri": "https://localhost:8080/",
          "height": 542
        },
        "id": "hmxwfwGe47fe",
        "outputId": "c8df5069-f58f-4b26-c7fe-b6fd7cfa95ab"
      },
      "source": [
        "fig = px.line(df_v, x='receive_time', y='値', color='変数名')\n",
        "fig.show()"
      ],
      "execution_count": null,
      "outputs": [
        {
          "output_type": "display_data",
          "data": {
            "text/html": [
              "<html>\n",
              "<head><meta charset=\"utf-8\" /></head>\n",
              "<body>\n",
              "    <div>            <script src=\"https://cdnjs.cloudflare.com/ajax/libs/mathjax/2.7.5/MathJax.js?config=TeX-AMS-MML_SVG\"></script><script type=\"text/javascript\">if (window.MathJax) {MathJax.Hub.Config({SVG: {font: \"STIX-Web\"}});}</script>                <script type=\"text/javascript\">window.PlotlyConfig = {MathJaxConfig: 'local'};</script>\n",
              "        <script src=\"https://cdn.plot.ly/plotly-2.8.3.min.js\"></script>                <div id=\"cfee5302-e22e-4d37-89a1-c37ca8329997\" class=\"plotly-graph-div\" style=\"height:525px; width:100%;\"></div>            <script type=\"text/javascript\">                                    window.PLOTLYENV=window.PLOTLYENV || {};                                    if (document.getElementById(\"cfee5302-e22e-4d37-89a1-c37ca8329997\")) {                    Plotly.newPlot(                        \"cfee5302-e22e-4d37-89a1-c37ca8329997\",                        [{\"hovertemplate\":\"\\u5909\\u6570\\u540d=in1<br>receive_time=%{x}<br>\\u5024=%{y}<extra></extra>\",\"legendgroup\":\"in1\",\"line\":{\"color\":\"#636efa\",\"dash\":\"solid\"},\"marker\":{\"symbol\":\"circle\"},\"mode\":\"lines\",\"name\":\"in1\",\"showlegend\":true,\"x\":[\"2021-01-15 09:00:00.144\",\"2021-01-15 09:00:01.146\",\"2021-01-15 09:00:02.161\",\"2021-01-15 09:00:03.176\",\"2021-01-15 09:00:04.192\",\"2021-01-15 09:00:05.207\",\"2021-01-15 09:00:06.222\",\"2021-01-15 09:00:07.238\",\"2021-01-15 09:00:08.253\",\"2021-01-15 09:00:09.269\",\"2021-01-15 09:00:10.284\",\"2021-01-15 09:00:11.3\",\"2021-01-15 09:00:12.315\",\"2021-01-15 09:00:13.33\",\"2021-01-15 09:00:14.346\",\"2021-01-15 09:00:15.347\",\"2021-01-15 09:00:16.363\",\"2021-01-15 09:00:17.378\",\"2021-01-15 09:00:18.393\",\"2021-01-15 09:00:19.409\",\"2021-01-15 09:00:20.424\",\"2021-01-15 09:00:21.44\",\"2021-01-15 09:00:22.455\",\"2021-01-15 09:00:23.47\",\"2021-01-15 09:00:24.486\",\"2021-01-15 09:00:25.501\",\"2021-01-15 09:00:26.517\",\"2021-01-15 09:00:27.532\",\"2021-01-15 09:00:28.547\",\"2021-01-15 09:00:29.563\",\"2021-01-15 09:00:30.564\",\"2021-01-15 09:00:31.579\",\"2021-01-15 09:00:32.595\",\"2021-01-15 09:00:33.61\",\"2021-01-15 09:00:34.626\",\"2021-01-15 09:00:35.641\",\"2021-01-15 09:00:36.656\",\"2021-01-15 09:00:37.672\",\"2021-01-15 09:00:38.687\",\"2021-01-15 09:00:39.702\",\"2021-01-15 09:00:40.718\",\"2021-01-15 09:00:41.733\",\"2021-01-15 09:00:42.749\",\"2021-01-15 09:00:43.764\",\"2021-01-15 09:00:44.779\",\"2021-01-15 09:00:45.78\",\"2021-01-15 09:00:46.796\",\"2021-01-15 09:00:47.811\",\"2021-01-15 09:00:48.827\",\"2021-01-15 09:00:49.842\",\"2021-01-15 09:00:50.858\",\"2021-01-15 09:00:51.873\",\"2021-01-15 09:00:52.888\",\"2021-01-15 09:00:53.904\",\"2021-01-15 09:00:54.919\",\"2021-01-15 09:00:55.934\",\"2021-01-15 09:00:56.95\",\"2021-01-15 09:00:57.965\",\"2021-01-15 09:00:58.981\",\"2021-01-15 09:00:59.996\",\"2021-01-15 09:01:00.997\",\"2021-01-15 09:01:02.013\",\"2021-01-15 09:01:03.028\",\"2021-01-15 09:01:04.044\",\"2021-01-15 09:01:05.059\",\"2021-01-15 09:01:06.074\",\"2021-01-15 09:01:07.09\",\"2021-01-15 09:01:08.105\",\"2021-01-15 09:01:09.12\",\"2021-01-15 09:01:10.136\",\"2021-01-15 09:01:11.151\",\"2021-01-15 09:01:12.167\",\"2021-01-15 09:01:13.182\",\"2021-01-15 09:01:14.197\",\"2021-01-15 09:01:15.199\",\"2021-01-15 09:01:16.214\",\"2021-01-15 09:01:17.229\",\"2021-01-15 09:01:18.245\",\"2021-01-15 09:01:19.26\",\"2021-01-15 09:01:20.275\",\"2021-01-15 09:01:21.291\",\"2021-01-15 09:01:22.306\",\"2021-01-15 09:01:23.322\",\"2021-01-15 09:01:24.337\",\"2021-01-15 09:01:25.352\",\"2021-01-15 09:01:26.368\",\"2021-01-15 09:01:27.383\",\"2021-01-15 09:01:28.398\",\"2021-01-15 09:01:29.414\",\"2021-01-15 09:01:30.415\",\"2021-01-15 09:01:31.431\",\"2021-01-15 09:01:32.446\",\"2021-01-15 09:01:33.461\",\"2021-01-15 09:01:34.477\",\"2021-01-15 09:01:35.492\",\"2021-01-15 09:01:36.508\",\"2021-01-15 09:01:37.523\",\"2021-01-15 09:01:38.538\",\"2021-01-15 09:01:39.554\",\"2021-01-15 09:01:40.569\",\"2021-01-15 09:01:41.585\",\"2021-01-15 09:01:42.6\",\"2021-01-15 09:01:43.615\",\"2021-01-15 09:01:44.631\",\"2021-01-15 09:01:45.637\",\"2021-01-15 09:01:46.653\",\"2021-01-15 09:01:47.668\",\"2021-01-15 09:01:48.683\",\"2021-01-15 09:01:49.699\",\"2021-01-15 09:01:50.714\",\"2021-01-15 09:01:51.73\",\"2021-01-15 09:01:52.745\",\"2021-01-15 09:01:53.76\",\"2021-01-15 09:01:54.775\",\"2021-01-15 09:01:55.791\",\"2021-01-15 09:01:56.806\",\"2021-01-15 09:01:57.822\",\"2021-01-15 09:01:58.837\",\"2021-01-15 09:01:59.853\",\"2021-01-15 09:02:00.854\",\"2021-01-15 09:02:02.885\",\"2021-01-15 09:02:03.9\",\"2021-01-15 09:02:04.916\",\"2021-01-15 09:02:05.931\",\"2021-01-15 09:02:06.946\",\"2021-01-15 09:02:07.962\",\"2021-01-15 09:02:08.977\",\"2021-01-15 09:02:09.992\",\"2021-01-15 09:02:11.008\",\"2021-01-15 09:02:12.023\",\"2021-01-15 09:02:13.038\",\"2021-01-15 09:02:14.054\",\"2021-01-15 09:02:15.069\",\"2021-01-15 09:02:16.071\",\"2021-01-15 09:02:17.086\",\"2021-01-15 09:02:18.101\",\"2021-01-15 09:02:19.117\",\"2021-01-15 09:02:20.132\",\"2021-01-15 09:02:21.148\",\"2021-01-15 09:02:22.163\",\"2021-01-15 09:02:23.178\",\"2021-01-15 09:02:24.194\",\"2021-01-15 09:02:25.209\",\"2021-01-15 09:02:26.224\",\"2021-01-15 09:02:27.24\",\"2021-01-15 09:02:28.255\",\"2021-01-15 09:02:29.271\",\"2021-01-15 09:02:30.272\",\"2021-01-15 09:02:31.287\",\"2021-01-15 09:02:32.303\",\"2021-01-15 09:02:33.318\",\"2021-01-15 09:02:34.334\",\"2021-01-15 09:02:35.349\",\"2021-01-15 09:02:36.364\",\"2021-01-15 09:02:37.38\",\"2021-01-15 09:02:38.395\",\"2021-01-15 09:02:39.41\",\"2021-01-15 09:02:40.426\",\"2021-01-15 09:02:41.441\",\"2021-01-15 09:02:42.456\",\"2021-01-15 09:02:43.472\",\"2021-01-15 09:02:44.487\",\"2021-01-15 09:02:45.489\",\"2021-01-15 09:02:46.504\",\"2021-01-15 09:02:47.519\",\"2021-01-15 09:02:48.535\",\"2021-01-15 09:02:49.55\",\"2021-01-15 09:02:50.566\",\"2021-01-15 09:02:51.581\",\"2021-01-15 09:02:52.597\",\"2021-01-15 09:02:53.612\",\"2021-01-15 09:02:54.627\",\"2021-01-15 09:02:55.642\",\"2021-01-15 09:02:56.658\",\"2021-01-15 09:02:57.673\",\"2021-01-15 09:02:58.689\",\"2021-01-15 09:02:59.704\",\"2021-01-15 09:03:00.705\",\"2021-01-15 09:03:01.721\",\"2021-01-15 09:03:02.736\",\"2021-01-15 09:03:03.751\",\"2021-01-15 09:03:04.767\",\"2021-01-15 09:03:05.782\",\"2021-01-15 09:03:06.797\",\"2021-01-15 09:03:07.813\",\"2021-01-15 09:03:08.828\",\"2021-01-15 09:03:09.844\",\"2021-01-15 09:03:10.859\",\"2021-01-15 09:03:11.874\",\"2021-01-15 09:03:12.89\",\"2021-01-15 09:03:13.905\",\"2021-01-15 09:03:14.921\",\"2021-01-15 09:03:15.922\",\"2021-01-15 09:03:16.937\",\"2021-01-15 09:03:17.952\",\"2021-01-15 09:03:18.968\",\"2021-01-15 09:03:19.983\",\"2021-01-15 09:03:20.999\",\"2021-01-15 09:03:22.014\",\"2021-01-15 09:03:23.029\",\"2021-01-15 09:03:24.045\",\"2021-01-15 09:03:25.06\",\"2021-01-15 09:03:26.076\",\"2021-01-15 09:03:27.091\",\"2021-01-15 09:03:28.106\",\"2021-01-15 09:03:29.122\",\"2021-01-15 09:03:30.137\",\"2021-01-15 09:03:31.138\",\"2021-01-15 09:03:32.153\",\"2021-01-15 09:03:33.169\",\"2021-01-15 09:03:34.184\",\"2021-01-15 09:03:35.199\",\"2021-01-15 09:03:36.215\",\"2021-01-15 09:03:37.23\",\"2021-01-15 09:03:38.246\",\"2021-01-15 09:03:39.261\",\"2021-01-15 09:03:40.277\",\"2021-01-15 09:03:41.292\",\"2021-01-15 09:03:42.307\",\"2021-01-15 09:03:43.323\",\"2021-01-15 09:03:44.338\",\"2021-01-15 09:03:45.34\",\"2021-01-15 09:03:46.355\",\"2021-01-15 09:03:47.37\",\"2021-01-15 09:03:48.386\",\"2021-01-15 09:03:49.401\",\"2021-01-15 09:03:50.417\",\"2021-01-15 09:03:51.432\",\"2021-01-15 09:03:52.447\",\"2021-01-15 09:03:53.463\",\"2021-01-15 09:03:54.478\",\"2021-01-15 09:03:55.493\",\"2021-01-15 09:03:56.509\",\"2021-01-15 09:03:57.524\",\"2021-01-15 09:03:58.54\",\"2021-01-15 09:03:59.555\",\"2021-01-15 09:04:00.563\",\"2021-01-15 09:04:01.579\",\"2021-01-15 09:04:02.594\",\"2021-01-15 09:04:03.609\",\"2021-01-15 09:04:04.623\",\"2021-01-15 09:04:05.638\",\"2021-01-15 09:04:06.653\",\"2021-01-15 09:04:07.669\",\"2021-01-15 09:04:08.684\",\"2021-01-15 09:04:09.699\",\"2021-01-15 09:04:10.715\",\"2021-01-15 09:04:11.73\",\"2021-01-15 09:04:12.746\",\"2021-01-15 09:04:13.761\",\"2021-01-15 09:04:14.776\",\"2021-01-15 09:04:15.778\",\"2021-01-15 09:04:16.793\",\"2021-01-15 09:04:17.808\",\"2021-01-15 09:04:18.824\",\"2021-01-15 09:04:19.839\",\"2021-01-15 09:04:20.855\",\"2021-01-15 09:04:21.87\",\"2021-01-15 09:04:22.885\",\"2021-01-15 09:04:23.901\",\"2021-01-15 09:04:24.916\",\"2021-01-15 09:04:25.931\",\"2021-01-15 09:04:26.947\",\"2021-01-15 09:04:27.962\",\"2021-01-15 09:04:28.977\",\"2021-01-15 09:04:29.993\",\"2021-01-15 09:04:30.994\",\"2021-01-15 09:04:32.01\",\"2021-01-15 09:04:33.025\",\"2021-01-15 09:04:34.041\",\"2021-01-15 09:04:35.056\",\"2021-01-15 09:04:36.071\",\"2021-01-15 09:04:37.087\",\"2021-01-15 09:04:38.102\",\"2021-01-15 09:04:39.118\",\"2021-01-15 09:04:40.133\",\"2021-01-15 09:04:41.148\",\"2021-01-15 09:04:42.164\",\"2021-01-15 09:04:43.179\",\"2021-01-15 09:04:44.194\",\"2021-01-15 09:04:45.196\",\"2021-01-15 09:04:46.211\",\"2021-01-15 09:04:47.226\",\"2021-01-15 09:04:48.242\",\"2021-01-15 09:04:49.257\",\"2021-01-15 09:04:50.273\",\"2021-01-15 09:04:51.288\",\"2021-01-15 09:04:52.303\",\"2021-01-15 09:04:53.319\",\"2021-01-15 09:04:54.334\",\"2021-01-15 09:04:55.349\",\"2021-01-15 09:04:56.365\",\"2021-01-15 09:04:57.38\",\"2021-01-15 09:04:58.396\",\"2021-01-15 09:04:59.411\",\"2021-01-15 09:05:00.413\",\"2021-01-15 09:05:01.429\",\"2021-01-15 09:05:02.444\",\"2021-01-15 09:05:03.459\",\"2021-01-15 09:05:04.475\",\"2021-01-15 09:05:05.49\",\"2021-01-15 09:05:06.505\",\"2021-01-15 09:05:07.521\",\"2021-01-15 09:05:08.536\",\"2021-01-15 09:05:09.552\",\"2021-01-15 09:05:10.567\",\"2021-01-15 09:05:11.583\",\"2021-01-15 09:05:12.598\",\"2021-01-15 09:05:13.613\",\"2021-01-15 09:05:14.629\",\"2021-01-15 09:05:15.63\",\"2021-01-15 09:05:16.645\",\"2021-01-15 09:05:17.661\",\"2021-01-15 09:05:18.676\",\"2021-01-15 09:05:19.692\",\"2021-01-15 09:05:20.707\",\"2021-01-15 09:05:21.722\",\"2021-01-15 09:05:22.738\",\"2021-01-15 09:05:23.753\",\"2021-01-15 09:05:24.768\",\"2021-01-15 09:05:25.784\",\"2021-01-15 09:05:26.799\",\"2021-01-15 09:05:27.815\",\"2021-01-15 09:05:28.83\",\"2021-01-15 09:05:29.845\",\"2021-01-15 09:05:30.847\",\"2021-01-15 09:05:31.862\",\"2021-01-15 09:05:32.878\",\"2021-01-15 09:05:33.893\",\"2021-01-15 09:05:34.908\",\"2021-01-15 09:05:35.924\",\"2021-01-15 09:05:36.939\",\"2021-01-15 09:05:37.955\",\"2021-01-15 09:05:38.97\",\"2021-01-15 09:05:39.985\",\"2021-01-15 09:05:41.001\",\"2021-01-15 09:05:42.016\",\"2021-01-15 09:05:43.032\",\"2021-01-15 09:05:44.047\",\"2021-01-15 09:05:45.062\",\"2021-01-15 09:05:46.064\",\"2021-01-15 09:05:47.079\",\"2021-01-15 09:05:48.094\",\"2021-01-15 09:05:49.11\",\"2021-01-15 09:05:50.125\",\"2021-01-15 09:05:51.141\",\"2021-01-15 09:05:52.156\",\"2021-01-15 09:05:53.172\",\"2021-01-15 09:05:54.187\",\"2021-01-15 09:05:55.202\",\"2021-01-15 09:05:56.218\",\"2021-01-15 09:05:57.233\",\"2021-01-15 09:05:58.249\",\"2021-01-15 09:05:59.264\",\"2021-01-15 09:06:00.265\",\"2021-01-15 09:06:01.281\",\"2021-01-15 09:06:02.296\",\"2021-01-15 09:06:03.312\",\"2021-01-15 09:06:04.327\",\"2021-01-15 09:06:05.342\",\"2021-01-15 09:06:06.357\",\"2021-01-15 09:06:07.373\",\"2021-01-15 09:06:08.388\",\"2021-01-15 09:06:09.404\",\"2021-01-15 09:06:10.419\",\"2021-01-15 09:06:11.435\",\"2021-01-15 09:06:12.45\",\"2021-01-15 09:06:13.465\",\"2021-01-15 09:06:14.481\",\"2021-01-15 09:06:15.49\",\"2021-01-15 09:06:16.505\",\"2021-01-15 09:06:17.521\",\"2021-01-15 09:06:18.536\",\"2021-01-15 09:06:19.552\",\"2021-01-15 09:06:20.567\",\"2021-01-15 09:06:21.582\",\"2021-01-15 09:06:22.598\",\"2021-01-15 09:06:23.613\",\"2021-01-15 09:06:24.628\",\"2021-01-15 09:06:25.644\",\"2021-01-15 09:06:26.659\",\"2021-01-15 09:06:27.675\",\"2021-01-15 09:06:28.69\",\"2021-01-15 09:06:29.705\",\"2021-01-15 09:06:30.707\",\"2021-01-15 09:06:31.722\",\"2021-01-15 09:06:32.737\",\"2021-01-15 09:06:33.753\",\"2021-01-15 09:06:34.768\",\"2021-01-15 09:06:35.784\",\"2021-01-15 09:06:36.799\",\"2021-01-15 09:06:37.814\",\"2021-01-15 09:06:38.83\",\"2021-01-15 09:06:39.845\",\"2021-01-15 09:06:40.861\",\"2021-01-15 09:06:41.876\",\"2021-01-15 09:06:42.891\",\"2021-01-15 09:06:43.907\",\"2021-01-15 09:06:44.922\",\"2021-01-15 09:06:45.923\",\"2021-01-15 09:06:46.939\",\"2021-01-15 09:06:47.954\",\"2021-01-15 09:06:48.969\",\"2021-01-15 09:06:49.985\",\"2021-01-15 09:06:51\",\"2021-01-15 09:06:52.016\",\"2021-01-15 09:06:53.031\",\"2021-01-15 09:06:54.046\",\"2021-01-15 09:06:55.062\",\"2021-01-15 09:06:57.093\",\"2021-01-15 09:06:58.108\",\"2021-01-15 09:06:59.123\",\"2021-01-15 09:07:00.139\",\"2021-01-15 09:07:01.14\",\"2021-01-15 09:07:02.156\",\"2021-01-15 09:07:03.171\",\"2021-01-15 09:07:04.187\",\"2021-01-15 09:07:05.202\",\"2021-01-15 09:07:06.217\",\"2021-01-15 09:07:07.233\",\"2021-01-15 09:07:08.248\",\"2021-01-15 09:07:09.263\",\"2021-01-15 09:07:10.279\",\"2021-01-15 09:07:11.294\",\"2021-01-15 09:07:12.31\",\"2021-01-15 09:07:13.325\",\"2021-01-15 09:07:14.34\",\"2021-01-15 09:07:15.343\",\"2021-01-15 09:07:16.358\",\"2021-01-15 09:07:17.36\",\"2021-01-15 09:07:18.375\",\"2021-01-15 09:07:19.377\",\"2021-01-15 09:07:20.389\",\"2021-01-15 09:07:21.391\",\"2021-01-15 09:07:22.406\",\"2021-01-15 09:07:23.421\",\"2021-01-15 09:07:24.437\",\"2021-01-15 09:07:25.438\",\"2021-01-15 09:07:26.453\",\"2021-01-15 09:07:27.469\",\"2021-01-15 09:07:28.484\",\"2021-01-15 09:07:29.5\",\"2021-01-15 09:07:30.501\",\"2021-01-15 09:07:31.516\",\"2021-01-15 09:07:32.532\",\"2021-01-15 09:07:33.547\",\"2021-01-15 09:07:34.563\",\"2021-01-15 09:07:35.578\",\"2021-01-15 09:07:36.593\",\"2021-01-15 09:07:37.609\",\"2021-01-15 09:07:38.624\",\"2021-01-15 09:07:39.639\",\"2021-01-15 09:07:40.655\",\"2021-01-15 09:07:41.67\",\"2021-01-15 09:07:42.686\",\"2021-01-15 09:07:43.701\",\"2021-01-15 09:07:44.716\",\"2021-01-15 09:07:45.718\",\"2021-01-15 09:07:46.733\",\"2021-01-15 09:07:47.749\",\"2021-01-15 09:07:48.764\",\"2021-01-15 09:07:49.779\",\"2021-01-15 09:07:50.795\",\"2021-01-15 09:07:51.81\",\"2021-01-15 09:07:52.826\",\"2021-01-15 09:07:53.841\",\"2021-01-15 09:07:54.856\",\"2021-01-15 09:07:55.872\",\"2021-01-15 09:07:56.887\",\"2021-01-15 09:07:57.902\",\"2021-01-15 09:07:58.918\",\"2021-01-15 09:07:59.933\",\"2021-01-15 09:08:00.935\",\"2021-01-15 09:08:01.95\",\"2021-01-15 09:08:02.966\",\"2021-01-15 09:08:03.981\",\"2021-01-15 09:08:04.996\",\"2021-01-15 09:08:06.012\",\"2021-01-15 09:08:07.027\",\"2021-01-15 09:08:08.042\",\"2021-01-15 09:08:09.058\",\"2021-01-15 09:08:10.073\",\"2021-01-15 09:08:11.089\",\"2021-01-15 09:08:12.104\",\"2021-01-15 09:08:13.119\",\"2021-01-15 09:08:14.135\",\"2021-01-15 09:08:15.15\",\"2021-01-15 09:08:16.152\",\"2021-01-15 09:08:17.167\",\"2021-01-15 09:08:18.182\",\"2021-01-15 09:08:19.198\",\"2021-01-15 09:08:20.213\",\"2021-01-15 09:08:21.229\",\"2021-01-15 09:08:22.244\",\"2021-01-15 09:08:23.259\",\"2021-01-15 09:08:24.275\",\"2021-01-15 09:08:25.29\",\"2021-01-15 09:08:26.306\",\"2021-01-15 09:08:27.321\",\"2021-01-15 09:08:28.336\",\"2021-01-15 09:08:29.352\",\"2021-01-15 09:08:30.36\",\"2021-01-15 09:08:31.376\",\"2021-01-15 09:08:32.391\",\"2021-01-15 09:08:33.406\",\"2021-01-15 09:08:34.422\",\"2021-01-15 09:08:35.437\",\"2021-01-15 09:08:36.452\",\"2021-01-15 09:08:37.468\",\"2021-01-15 09:08:38.483\",\"2021-01-15 09:08:39.499\",\"2021-01-15 09:08:40.514\",\"2021-01-15 09:08:41.529\",\"2021-01-15 09:08:42.545\",\"2021-01-15 09:08:43.56\",\"2021-01-15 09:08:44.575\",\"2021-01-15 09:08:45.577\",\"2021-01-15 09:08:46.592\",\"2021-01-15 09:08:47.608\",\"2021-01-15 09:08:48.623\",\"2021-01-15 09:08:49.638\",\"2021-01-15 09:08:50.654\",\"2021-01-15 09:08:51.669\",\"2021-01-15 09:08:52.685\",\"2021-01-15 09:08:53.7\",\"2021-01-15 09:08:54.715\",\"2021-01-15 09:08:55.731\",\"2021-01-15 09:08:56.746\",\"2021-01-15 09:08:57.762\",\"2021-01-15 09:08:58.777\",\"2021-01-15 09:08:59.792\",\"2021-01-15 09:09:00.794\",\"2021-01-15 09:09:01.809\",\"2021-01-15 09:09:02.824\",\"2021-01-15 09:09:03.84\",\"2021-01-15 09:09:04.855\",\"2021-01-15 09:09:05.871\",\"2021-01-15 09:09:06.886\",\"2021-01-15 09:09:07.901\",\"2021-01-15 09:09:08.917\",\"2021-01-15 09:09:09.932\",\"2021-01-15 09:09:10.948\",\"2021-01-15 09:09:11.963\",\"2021-01-15 09:09:12.978\",\"2021-01-15 09:09:13.994\",\"2021-01-15 09:09:15.009\",\"2021-01-15 09:09:16.011\",\"2021-01-15 09:09:17.026\",\"2021-01-15 09:09:18.041\",\"2021-01-15 09:09:19.057\",\"2021-01-15 09:09:20.072\",\"2021-01-15 09:09:21.087\",\"2021-01-15 09:09:22.103\",\"2021-01-15 09:09:23.118\",\"2021-01-15 09:09:24.134\",\"2021-01-15 09:09:25.149\",\"2021-01-15 09:09:26.164\",\"2021-01-15 09:09:27.18\",\"2021-01-15 09:09:28.195\",\"2021-01-15 09:09:29.21\",\"2021-01-15 09:09:30.212\",\"2021-01-15 09:09:31.227\",\"2021-01-15 09:09:32.242\",\"2021-01-15 09:09:33.258\",\"2021-01-15 09:09:34.273\",\"2021-01-15 09:09:35.288\",\"2021-01-15 09:09:36.304\",\"2021-01-15 09:09:37.32\",\"2021-01-15 09:09:38.335\",\"2021-01-15 09:09:39.35\",\"2021-01-15 09:09:40.366\",\"2021-01-15 09:09:41.381\",\"2021-01-15 09:09:42.396\",\"2021-01-15 09:09:43.412\",\"2021-01-15 09:09:44.427\",\"2021-01-15 09:09:45.428\",\"2021-01-15 09:09:46.444\",\"2021-01-15 09:09:47.459\",\"2021-01-15 09:09:48.474\",\"2021-01-15 09:09:49.49\",\"2021-01-15 09:09:50.505\",\"2021-01-15 09:09:51.521\",\"2021-01-15 09:09:52.536\",\"2021-01-15 09:09:53.551\",\"2021-01-15 09:09:54.567\",\"2021-01-15 09:09:55.582\",\"2021-01-15 09:09:56.598\",\"2021-01-15 09:09:57.613\",\"2021-01-15 09:09:58.628\",\"2021-01-15 09:09:59.644\",\"2021-01-15 09:10:00.645\",\"2021-01-15 09:10:01.661\",\"2021-01-15 09:10:02.676\",\"2021-01-15 09:10:03.691\",\"2021-01-15 09:10:04.707\",\"2021-01-15 09:10:05.722\",\"2021-01-15 09:10:06.737\",\"2021-01-15 09:10:07.753\",\"2021-01-15 09:10:08.768\",\"2021-01-15 09:10:09.784\",\"2021-01-15 09:10:10.799\",\"2021-01-15 09:10:11.814\",\"2021-01-15 09:10:12.83\",\"2021-01-15 09:10:13.845\",\"2021-01-15 09:10:14.86\",\"2021-01-15 09:10:15.862\",\"2021-01-15 09:10:16.877\",\"2021-01-15 09:10:17.893\",\"2021-01-15 09:10:18.908\",\"2021-01-15 09:10:19.923\",\"2021-01-15 09:10:20.939\",\"2021-01-15 09:10:21.954\",\"2021-01-15 09:10:22.97\",\"2021-01-15 09:10:23.985\",\"2021-01-15 09:10:25\",\"2021-01-15 09:10:26.016\",\"2021-01-15 09:10:27.031\",\"2021-01-15 09:10:28.047\",\"2021-01-15 09:10:29.062\",\"2021-01-15 09:10:30.077\",\"2021-01-15 09:10:31.079\",\"2021-01-15 09:10:32.094\",\"2021-01-15 09:10:33.11\",\"2021-01-15 09:10:34.125\",\"2021-01-15 09:10:35.14\",\"2021-01-15 09:10:36.156\",\"2021-01-15 09:10:37.171\",\"2021-01-15 09:10:38.187\",\"2021-01-15 09:10:39.202\",\"2021-01-15 09:10:40.217\",\"2021-01-15 09:10:41.233\",\"2021-01-15 09:10:42.248\",\"2021-01-15 09:10:43.264\",\"2021-01-15 09:10:44.279\",\"2021-01-15 09:10:45.287\",\"2021-01-15 09:10:46.303\",\"2021-01-15 09:10:47.318\",\"2021-01-15 09:10:48.334\",\"2021-01-15 09:10:49.349\",\"2021-01-15 09:10:50.364\",\"2021-01-15 09:10:51.38\",\"2021-01-15 09:10:52.395\",\"2021-01-15 09:10:53.41\",\"2021-01-15 09:10:54.426\",\"2021-01-15 09:10:55.441\",\"2021-01-15 09:10:56.457\",\"2021-01-15 09:10:57.472\",\"2021-01-15 09:10:58.487\",\"2021-01-15 09:10:59.503\",\"2021-01-15 09:11:00.504\",\"2021-01-15 09:11:01.52\",\"2021-01-15 09:11:02.535\",\"2021-01-15 09:11:03.55\",\"2021-01-15 09:11:04.565\",\"2021-01-15 09:11:05.581\",\"2021-01-15 09:11:06.597\",\"2021-01-15 09:11:07.612\",\"2021-01-15 09:11:08.627\",\"2021-01-15 09:11:09.643\",\"2021-01-15 09:11:10.658\",\"2021-01-15 09:11:11.673\",\"2021-01-15 09:11:12.689\",\"2021-01-15 09:11:13.704\",\"2021-01-15 09:11:14.72\",\"2021-01-15 09:11:15.721\",\"2021-01-15 09:11:16.736\",\"2021-01-15 09:11:17.752\",\"2021-01-15 09:11:18.767\",\"2021-01-15 09:11:19.783\",\"2021-01-15 09:11:20.798\",\"2021-01-15 09:11:21.813\",\"2021-01-15 09:11:22.829\",\"2021-01-15 09:11:23.844\",\"2021-01-15 09:11:24.859\",\"2021-01-15 09:11:25.875\",\"2021-01-15 09:11:26.89\",\"2021-01-15 09:11:27.906\",\"2021-01-15 09:11:28.921\",\"2021-01-15 09:11:29.936\",\"2021-01-15 09:11:30.938\",\"2021-01-15 09:11:31.953\",\"2021-01-15 09:11:32.968\",\"2021-01-15 09:11:33.984\",\"2021-01-15 09:11:34.999\",\"2021-01-15 09:11:36.014\",\"2021-01-15 09:11:37.03\",\"2021-01-15 09:11:38.045\",\"2021-01-15 09:11:39.061\",\"2021-01-15 09:11:40.076\",\"2021-01-15 09:11:41.092\",\"2021-01-15 09:11:42.107\",\"2021-01-15 09:11:43.122\",\"2021-01-15 09:11:44.138\",\"2021-01-15 09:11:45.153\",\"2021-01-15 09:11:46.155\",\"2021-01-15 09:11:47.17\",\"2021-01-15 09:11:48.185\",\"2021-01-15 09:11:49.201\",\"2021-01-15 09:11:50.216\",\"2021-01-15 09:11:51.232\",\"2021-01-15 09:11:52.247\",\"2021-01-15 09:11:53.262\",\"2021-01-15 09:11:54.278\",\"2021-01-15 09:11:55.293\",\"2021-01-15 09:11:56.309\",\"2021-01-15 09:11:57.324\",\"2021-01-15 09:11:58.339\",\"2021-01-15 09:11:59.355\",\"2021-01-15 09:12:00.356\",\"2021-01-15 09:12:01.371\",\"2021-01-15 09:12:02.387\",\"2021-01-15 09:12:03.402\",\"2021-01-15 09:12:04.417\",\"2021-01-15 09:12:05.433\",\"2021-01-15 09:12:06.448\",\"2021-01-15 09:12:08.479\",\"2021-01-15 09:12:09.494\",\"2021-01-15 09:12:10.51\",\"2021-01-15 09:12:11.525\",\"2021-01-15 09:12:12.541\",\"2021-01-15 09:12:13.556\",\"2021-01-15 09:12:14.571\",\"2021-01-15 09:12:15.573\",\"2021-01-15 09:12:16.588\",\"2021-01-15 09:12:17.603\",\"2021-01-15 09:12:18.619\",\"2021-01-15 09:12:19.634\",\"2021-01-15 09:12:20.65\",\"2021-01-15 09:12:21.665\",\"2021-01-15 09:12:22.68\",\"2021-01-15 09:12:23.696\",\"2021-01-15 09:12:24.711\",\"2021-01-15 09:12:25.726\",\"2021-01-15 09:12:26.742\",\"2021-01-15 09:12:27.757\",\"2021-01-15 09:12:28.772\",\"2021-01-15 09:12:29.788\",\"2021-01-15 09:12:30.789\",\"2021-01-15 09:12:31.805\",\"2021-01-15 09:12:32.82\",\"2021-01-15 09:12:33.835\",\"2021-01-15 09:12:34.851\",\"2021-01-15 09:12:35.866\",\"2021-01-15 09:12:36.882\",\"2021-01-15 09:12:37.897\",\"2021-01-15 09:12:38.897\",\"2021-01-15 09:12:39.912\",\"2021-01-15 09:12:40.928\",\"2021-01-15 09:12:41.943\",\"2021-01-15 09:12:42.958\",\"2021-01-15 09:12:43.974\",\"2021-01-15 09:12:44.989\",\"2021-01-15 09:12:45.998\",\"2021-01-15 09:12:47.014\",\"2021-01-15 09:12:48.029\",\"2021-01-15 09:12:49.045\",\"2021-01-15 09:12:50.06\",\"2021-01-15 09:12:51.075\",\"2021-01-15 09:12:52.091\",\"2021-01-15 09:12:53.106\",\"2021-01-15 09:12:54.121\",\"2021-01-15 09:12:55.137\",\"2021-01-15 09:12:56.152\",\"2021-01-15 09:12:57.168\",\"2021-01-15 09:12:58.183\",\"2021-01-15 09:12:59.198\",\"2021-01-15 09:13:00.2\",\"2021-01-15 09:13:01.215\",\"2021-01-15 09:13:02.23\",\"2021-01-15 09:13:03.246\",\"2021-01-15 09:13:04.261\",\"2021-01-15 09:13:05.277\",\"2021-01-15 09:13:06.292\",\"2021-01-15 09:13:07.307\",\"2021-01-15 09:13:08.323\",\"2021-01-15 09:13:09.338\",\"2021-01-15 09:13:10.354\",\"2021-01-15 09:13:11.369\",\"2021-01-15 09:13:12.384\",\"2021-01-15 09:13:13.4\",\"2021-01-15 09:13:14.415\",\"2021-01-15 09:13:15.416\",\"2021-01-15 09:13:16.432\",\"2021-01-15 09:13:17.447\",\"2021-01-15 09:13:18.463\",\"2021-01-15 09:13:19.478\",\"2021-01-15 09:13:20.493\",\"2021-01-15 09:13:21.509\",\"2021-01-15 09:13:22.524\",\"2021-01-15 09:13:23.54\",\"2021-01-15 09:13:24.555\",\"2021-01-15 09:13:25.57\",\"2021-01-15 09:13:26.586\",\"2021-01-15 09:13:27.601\",\"2021-01-15 09:13:28.616\",\"2021-01-15 09:13:29.632\",\"2021-01-15 09:13:30.633\",\"2021-01-15 09:13:31.648\",\"2021-01-15 09:13:32.664\",\"2021-01-15 09:13:33.679\",\"2021-01-15 09:13:34.695\",\"2021-01-15 09:13:35.71\",\"2021-01-15 09:13:36.726\",\"2021-01-15 09:13:37.741\",\"2021-01-15 09:13:38.756\",\"2021-01-15 09:13:39.772\",\"2021-01-15 09:13:40.787\",\"2021-01-15 09:13:41.803\",\"2021-01-15 09:13:42.818\",\"2021-01-15 09:13:43.833\",\"2021-01-15 09:13:44.849\",\"2021-01-15 09:13:45.85\",\"2021-01-15 09:13:46.865\",\"2021-01-15 09:13:47.881\",\"2021-01-15 09:13:48.896\",\"2021-01-15 09:13:49.912\",\"2021-01-15 09:13:50.927\",\"2021-01-15 09:13:51.942\",\"2021-01-15 09:13:52.957\",\"2021-01-15 09:13:53.973\",\"2021-01-15 09:13:54.988\",\"2021-01-15 09:13:56.004\",\"2021-01-15 09:13:57.019\",\"2021-01-15 09:13:58.034\",\"2021-01-15 09:13:59.05\",\"2021-01-15 09:14:00.065\",\"2021-01-15 09:14:01.067\",\"2021-01-15 09:14:02.082\",\"2021-01-15 09:14:03.097\",\"2021-01-15 09:14:04.113\",\"2021-01-15 09:14:05.126\",\"2021-01-15 09:14:06.141\",\"2021-01-15 09:14:07.156\",\"2021-01-15 09:14:08.172\",\"2021-01-15 09:14:09.187\",\"2021-01-15 09:14:10.203\",\"2021-01-15 09:14:11.218\",\"2021-01-15 09:14:12.233\",\"2021-01-15 09:14:13.249\",\"2021-01-15 09:14:14.264\",\"2021-01-15 09:14:15.266\",\"2021-01-15 09:14:16.281\",\"2021-01-15 09:14:17.296\",\"2021-01-15 09:14:18.312\",\"2021-01-15 09:14:19.327\",\"2021-01-15 09:14:20.342\",\"2021-01-15 09:14:21.358\",\"2021-01-15 09:14:22.373\",\"2021-01-15 09:14:23.389\",\"2021-01-15 09:14:24.404\",\"2021-01-15 09:14:25.419\",\"2021-01-15 09:14:26.434\",\"2021-01-15 09:14:27.45\",\"2021-01-15 09:14:28.465\",\"2021-01-15 09:14:29.481\",\"2021-01-15 09:14:30.482\",\"2021-01-15 09:14:31.498\",\"2021-01-15 09:14:32.513\",\"2021-01-15 09:14:33.528\",\"2021-01-15 09:14:34.544\",\"2021-01-15 09:14:35.559\",\"2021-01-15 09:14:36.574\",\"2021-01-15 09:14:37.59\",\"2021-01-15 09:14:38.605\",\"2021-01-15 09:14:39.621\",\"2021-01-15 09:14:40.636\",\"2021-01-15 09:14:41.651\",\"2021-01-15 09:14:42.667\",\"2021-01-15 09:14:43.682\",\"2021-01-15 09:14:44.698\",\"2021-01-15 09:14:45.699\",\"2021-01-15 09:14:46.714\",\"2021-01-15 09:14:47.73\",\"2021-01-15 09:14:48.745\",\"2021-01-15 09:14:49.76\",\"2021-01-15 09:14:50.776\",\"2021-01-15 09:14:51.791\",\"2021-01-15 09:14:52.807\",\"2021-01-15 09:14:53.822\",\"2021-01-15 09:14:54.837\",\"2021-01-15 09:14:55.853\",\"2021-01-15 09:14:56.868\",\"2021-01-15 09:14:57.884\",\"2021-01-15 09:14:58.899\",\"2021-01-15 09:14:59.914\",\"2021-01-15 09:15:00.922\",\"2021-01-15 09:15:01.938\",\"2021-01-15 09:15:02.953\",\"2021-01-15 09:15:03.969\",\"2021-01-15 09:15:04.984\",\"2021-01-15 09:15:05.999\",\"2021-01-15 09:15:07.015\",\"2021-01-15 09:15:08.03\",\"2021-01-15 09:15:09.046\",\"2021-01-15 09:15:10.061\",\"2021-01-15 09:15:11.076\",\"2021-01-15 09:15:12.092\",\"2021-01-15 09:15:13.107\",\"2021-01-15 09:15:14.122\",\"2021-01-15 09:15:15.138\",\"2021-01-15 09:15:16.139\",\"2021-01-15 09:15:17.154\",\"2021-01-15 09:15:18.17\",\"2021-01-15 09:15:19.185\",\"2021-01-15 09:15:20.201\",\"2021-01-15 09:15:21.216\",\"2021-01-15 09:15:22.232\",\"2021-01-15 09:15:23.247\",\"2021-01-15 09:15:24.262\",\"2021-01-15 09:15:25.278\",\"2021-01-15 09:15:26.293\",\"2021-01-15 09:15:27.308\",\"2021-01-15 09:15:28.324\",\"2021-01-15 09:15:29.339\",\"2021-01-15 09:15:30.34\",\"2021-01-15 09:15:31.356\",\"2021-01-15 09:15:32.371\",\"2021-01-15 09:15:33.387\",\"2021-01-15 09:15:34.402\",\"2021-01-15 09:15:35.417\",\"2021-01-15 09:15:36.433\",\"2021-01-15 09:15:37.448\",\"2021-01-15 09:15:38.464\",\"2021-01-15 09:15:39.479\",\"2021-01-15 09:15:40.495\",\"2021-01-15 09:15:41.51\",\"2021-01-15 09:15:42.525\",\"2021-01-15 09:15:43.54\",\"2021-01-15 09:15:44.556\",\"2021-01-15 09:15:45.558\",\"2021-01-15 09:15:46.573\",\"2021-01-15 09:15:47.588\",\"2021-01-15 09:15:48.604\",\"2021-01-15 09:15:49.619\",\"2021-01-15 09:15:50.634\",\"2021-01-15 09:15:51.65\",\"2021-01-15 09:15:52.665\",\"2021-01-15 09:15:53.68\",\"2021-01-15 09:15:54.696\",\"2021-01-15 09:15:55.711\",\"2021-01-15 09:15:56.727\",\"2021-01-15 09:15:57.742\",\"2021-01-15 09:15:58.757\",\"2021-01-15 09:15:59.773\",\"2021-01-15 09:16:00.774\",\"2021-01-15 09:16:01.79\",\"2021-01-15 09:16:02.805\",\"2021-01-15 09:16:03.82\",\"2021-01-15 09:16:04.836\",\"2021-01-15 09:16:05.851\",\"2021-01-15 09:16:06.867\",\"2021-01-15 09:16:07.882\",\"2021-01-15 09:16:08.897\",\"2021-01-15 09:16:09.913\",\"2021-01-15 09:16:10.928\",\"2021-01-15 09:16:11.944\",\"2021-01-15 09:16:12.959\",\"2021-01-15 09:16:13.974\",\"2021-01-15 09:16:14.99\",\"2021-01-15 09:16:15.991\",\"2021-01-15 09:16:17.007\",\"2021-01-15 09:16:18.022\",\"2021-01-15 09:16:19.037\",\"2021-01-15 09:16:20.053\",\"2021-01-15 09:16:21.068\",\"2021-01-15 09:16:22.083\",\"2021-01-15 09:16:23.099\",\"2021-01-15 09:16:24.114\",\"2021-01-15 09:16:25.13\",\"2021-01-15 09:16:26.145\",\"2021-01-15 09:16:27.16\",\"2021-01-15 09:16:28.176\",\"2021-01-15 09:16:29.191\",\"2021-01-15 09:16:30.192\",\"2021-01-15 09:16:31.208\",\"2021-01-15 09:16:32.223\",\"2021-01-15 09:16:33.239\",\"2021-01-15 09:16:34.254\",\"2021-01-15 09:16:35.269\",\"2021-01-15 09:16:36.285\",\"2021-01-15 09:16:37.3\",\"2021-01-15 09:16:38.315\",\"2021-01-15 09:16:39.331\",\"2021-01-15 09:16:40.346\",\"2021-01-15 09:16:41.362\",\"2021-01-15 09:16:42.377\",\"2021-01-15 09:16:43.392\",\"2021-01-15 09:16:44.408\",\"2021-01-15 09:16:45.409\",\"2021-01-15 09:16:46.424\",\"2021-01-15 09:16:47.439\",\"2021-01-15 09:16:48.455\",\"2021-01-15 09:16:49.47\",\"2021-01-15 09:16:50.486\",\"2021-01-15 09:16:51.501\",\"2021-01-15 09:16:52.516\",\"2021-01-15 09:16:53.532\",\"2021-01-15 09:16:54.547\",\"2021-01-15 09:16:55.563\",\"2021-01-15 09:16:56.578\",\"2021-01-15 09:16:57.593\",\"2021-01-15 09:16:58.609\",\"2021-01-15 09:16:59.624\",\"2021-01-15 09:17:00.626\",\"2021-01-15 09:17:01.641\",\"2021-01-15 09:17:02.656\",\"2021-01-15 09:17:03.672\",\"2021-01-15 09:17:04.687\",\"2021-01-15 09:17:05.702\",\"2021-01-15 09:17:06.718\",\"2021-01-15 09:17:07.733\",\"2021-01-15 09:17:08.749\",\"2021-01-15 09:17:09.764\",\"2021-01-15 09:17:10.779\",\"2021-01-15 09:17:11.795\",\"2021-01-15 09:17:12.81\",\"2021-01-15 09:17:13.826\",\"2021-01-15 09:17:14.841\",\"2021-01-15 09:17:16.86\",\"2021-01-15 09:17:17.861\",\"2021-01-15 09:17:18.876\",\"2021-01-15 09:17:19.878\",\"2021-01-15 09:17:20.879\",\"2021-01-15 09:17:21.88\",\"2021-01-15 09:17:22.895\",\"2021-01-15 09:17:23.911\",\"2021-01-15 09:17:24.926\",\"2021-01-15 09:17:25.928\",\"2021-01-15 09:17:26.943\",\"2021-01-15 09:17:27.958\",\"2021-01-15 09:17:28.974\",\"2021-01-15 09:17:29.989\",\"2021-01-15 09:17:30.991\",\"2021-01-15 09:17:32.006\",\"2021-01-15 09:17:33.021\",\"2021-01-15 09:17:34.037\",\"2021-01-15 09:17:35.052\",\"2021-01-15 09:17:36.068\",\"2021-01-15 09:17:37.083\",\"2021-01-15 09:17:38.098\",\"2021-01-15 09:17:39.114\",\"2021-01-15 09:17:40.129\",\"2021-01-15 09:17:41.145\",\"2021-01-15 09:17:42.16\",\"2021-01-15 09:17:43.175\",\"2021-01-15 09:17:44.191\",\"2021-01-15 09:17:45.192\",\"2021-01-15 09:17:46.207\",\"2021-01-15 09:17:47.223\",\"2021-01-15 09:17:48.238\",\"2021-01-15 09:17:49.254\",\"2021-01-15 09:17:50.269\",\"2021-01-15 09:17:51.284\",\"2021-01-15 09:17:52.3\",\"2021-01-15 09:17:53.315\",\"2021-01-15 09:17:54.33\",\"2021-01-15 09:17:55.346\",\"2021-01-15 09:17:56.361\",\"2021-01-15 09:17:57.377\",\"2021-01-15 09:17:58.392\",\"2021-01-15 09:17:59.407\",\"2021-01-15 09:18:00.408\",\"2021-01-15 09:18:01.424\",\"2021-01-15 09:18:02.439\",\"2021-01-15 09:18:03.454\",\"2021-01-15 09:18:04.47\",\"2021-01-15 09:18:05.485\",\"2021-01-15 09:18:06.501\",\"2021-01-15 09:18:07.516\",\"2021-01-15 09:18:08.531\",\"2021-01-15 09:18:09.547\",\"2021-01-15 09:18:10.562\",\"2021-01-15 09:18:11.578\",\"2021-01-15 09:18:12.593\",\"2021-01-15 09:18:13.608\",\"2021-01-15 09:18:14.624\",\"2021-01-15 09:18:15.625\",\"2021-01-15 09:18:16.64\",\"2021-01-15 09:18:17.656\",\"2021-01-15 09:18:18.671\",\"2021-01-15 09:18:19.686\",\"2021-01-15 09:18:20.702\",\"2021-01-15 09:18:21.717\",\"2021-01-15 09:18:22.732\",\"2021-01-15 09:18:23.748\",\"2021-01-15 09:18:24.763\",\"2021-01-15 09:18:25.779\",\"2021-01-15 09:18:26.794\",\"2021-01-15 09:18:27.81\",\"2021-01-15 09:18:28.825\",\"2021-01-15 09:18:29.84\",\"2021-01-15 09:18:30.842\",\"2021-01-15 09:18:31.857\",\"2021-01-15 09:18:32.872\",\"2021-01-15 09:18:33.888\",\"2021-01-15 09:18:34.903\",\"2021-01-15 09:18:35.919\",\"2021-01-15 09:18:36.934\",\"2021-01-15 09:18:37.949\",\"2021-01-15 09:18:38.965\",\"2021-01-15 09:18:39.98\",\"2021-01-15 09:18:40.995\",\"2021-01-15 09:18:42.011\",\"2021-01-15 09:18:43.026\",\"2021-01-15 09:18:44.042\",\"2021-01-15 09:18:45.057\",\"2021-01-15 09:18:46.058\",\"2021-01-15 09:18:47.074\",\"2021-01-15 09:18:48.089\",\"2021-01-15 09:18:49.105\",\"2021-01-15 09:18:50.12\",\"2021-01-15 09:18:51.135\",\"2021-01-15 09:18:52.151\",\"2021-01-15 09:18:53.166\",\"2021-01-15 09:18:54.181\",\"2021-01-15 09:18:55.197\",\"2021-01-15 09:18:56.212\",\"2021-01-15 09:18:57.228\",\"2021-01-15 09:18:58.243\",\"2021-01-15 09:18:59.258\",\"2021-01-15 09:19:00.26\",\"2021-01-15 09:19:01.275\",\"2021-01-15 09:19:02.291\",\"2021-01-15 09:19:03.306\",\"2021-01-15 09:19:04.321\",\"2021-01-15 09:19:05.337\",\"2021-01-15 09:19:06.352\",\"2021-01-15 09:19:07.368\",\"2021-01-15 09:19:08.383\",\"2021-01-15 09:19:09.398\",\"2021-01-15 09:19:10.414\",\"2021-01-15 09:19:11.429\",\"2021-01-15 09:19:12.445\",\"2021-01-15 09:19:13.46\",\"2021-01-15 09:19:14.475\",\"2021-01-15 09:19:15.485\",\"2021-01-15 09:19:16.5\",\"2021-01-15 09:19:17.516\",\"2021-01-15 09:19:18.531\",\"2021-01-15 09:19:19.546\",\"2021-01-15 09:19:20.562\",\"2021-01-15 09:19:21.577\",\"2021-01-15 09:19:22.592\",\"2021-01-15 09:19:23.608\",\"2021-01-15 09:19:24.623\",\"2021-01-15 09:19:25.638\",\"2021-01-15 09:19:26.654\",\"2021-01-15 09:19:27.669\",\"2021-01-15 09:19:28.685\",\"2021-01-15 09:19:29.7\",\"2021-01-15 09:19:30.701\",\"2021-01-15 09:19:31.717\",\"2021-01-15 09:19:32.732\",\"2021-01-15 09:19:33.747\",\"2021-01-15 09:19:34.763\",\"2021-01-15 09:19:35.778\",\"2021-01-15 09:19:36.794\",\"2021-01-15 09:19:37.809\",\"2021-01-15 09:19:38.824\",\"2021-01-15 09:19:39.84\",\"2021-01-15 09:19:40.855\",\"2021-01-15 09:19:41.87\",\"2021-01-15 09:19:42.886\",\"2021-01-15 09:19:43.901\",\"2021-01-15 09:19:44.916\",\"2021-01-15 09:19:45.918\",\"2021-01-15 09:19:46.933\",\"2021-01-15 09:19:47.948\",\"2021-01-15 09:19:48.964\",\"2021-01-15 09:19:49.979\",\"2021-01-15 09:19:50.995\",\"2021-01-15 09:19:52.01\",\"2021-01-15 09:19:53.025\",\"2021-01-15 09:19:54.041\",\"2021-01-15 09:19:55.056\",\"2021-01-15 09:19:56.072\",\"2021-01-15 09:19:57.087\",\"2021-01-15 09:19:58.102\",\"2021-01-15 09:19:59.118\",\"2021-01-15 09:20:00.133\",\"2021-01-15 09:20:01.135\",\"2021-01-15 09:20:02.15\",\"2021-01-15 09:20:03.165\",\"2021-01-15 09:20:04.181\",\"2021-01-15 09:20:05.196\",\"2021-01-15 09:20:06.212\",\"2021-01-15 09:20:07.227\",\"2021-01-15 09:20:08.242\",\"2021-01-15 09:20:09.258\",\"2021-01-15 09:20:10.273\",\"2021-01-15 09:20:11.289\",\"2021-01-15 09:20:12.304\",\"2021-01-15 09:20:13.319\",\"2021-01-15 09:20:14.335\",\"2021-01-15 09:20:15.336\",\"2021-01-15 09:20:16.351\",\"2021-01-15 09:20:17.366\",\"2021-01-15 09:20:18.382\",\"2021-01-15 09:20:19.398\",\"2021-01-15 09:20:20.413\",\"2021-01-15 09:20:21.428\",\"2021-01-15 09:20:22.444\",\"2021-01-15 09:20:23.459\",\"2021-01-15 09:20:24.474\",\"2021-01-15 09:20:25.49\",\"2021-01-15 09:20:26.505\",\"2021-01-15 09:20:27.521\",\"2021-01-15 09:20:28.536\",\"2021-01-15 09:20:29.551\",\"2021-01-15 09:20:30.553\",\"2021-01-15 09:20:31.568\",\"2021-01-15 09:20:32.584\",\"2021-01-15 09:20:33.599\",\"2021-01-15 09:20:34.614\",\"2021-01-15 09:20:35.63\",\"2021-01-15 09:20:36.645\",\"2021-01-15 09:20:37.661\",\"2021-01-15 09:20:38.676\",\"2021-01-15 09:20:39.691\",\"2021-01-15 09:20:40.706\",\"2021-01-15 09:20:41.722\",\"2021-01-15 09:20:42.737\",\"2021-01-15 09:20:43.753\",\"2021-01-15 09:20:44.768\",\"2021-01-15 09:20:45.77\",\"2021-01-15 09:20:46.785\",\"2021-01-15 09:20:47.8\",\"2021-01-15 09:20:48.816\",\"2021-01-15 09:20:49.831\",\"2021-01-15 09:20:50.846\",\"2021-01-15 09:20:51.862\",\"2021-01-15 09:20:52.877\",\"2021-01-15 09:20:53.893\",\"2021-01-15 09:20:54.908\",\"2021-01-15 09:20:55.923\",\"2021-01-15 09:20:56.939\",\"2021-01-15 09:20:57.954\",\"2021-01-15 09:20:58.97\",\"2021-01-15 09:20:59.985\",\"2021-01-15 09:21:00.986\",\"2021-01-15 09:21:02.001\",\"2021-01-15 09:21:03.017\",\"2021-01-15 09:21:04.032\",\"2021-01-15 09:21:05.048\",\"2021-01-15 09:21:06.063\",\"2021-01-15 09:21:07.078\",\"2021-01-15 09:21:08.094\",\"2021-01-15 09:21:09.109\",\"2021-01-15 09:21:10.125\",\"2021-01-15 09:21:11.14\",\"2021-01-15 09:21:12.155\",\"2021-01-15 09:21:13.171\",\"2021-01-15 09:21:14.186\",\"2021-01-15 09:21:15.188\",\"2021-01-15 09:21:16.203\",\"2021-01-15 09:21:17.218\",\"2021-01-15 09:21:18.234\",\"2021-01-15 09:21:19.249\",\"2021-01-15 09:21:20.264\",\"2021-01-15 09:21:21.28\",\"2021-01-15 09:21:22.295\",\"2021-01-15 09:21:23.311\",\"2021-01-15 09:21:24.326\",\"2021-01-15 09:21:25.341\",\"2021-01-15 09:21:26.357\",\"2021-01-15 09:21:27.372\",\"2021-01-15 09:21:28.388\",\"2021-01-15 09:21:29.403\",\"2021-01-15 09:21:30.409\",\"2021-01-15 09:21:31.425\",\"2021-01-15 09:21:32.44\",\"2021-01-15 09:21:33.456\",\"2021-01-15 09:21:34.471\",\"2021-01-15 09:21:35.486\",\"2021-01-15 09:21:36.502\",\"2021-01-15 09:21:37.517\",\"2021-01-15 09:21:38.533\",\"2021-01-15 09:21:39.548\",\"2021-01-15 09:21:40.563\",\"2021-01-15 09:21:41.579\",\"2021-01-15 09:21:42.594\",\"2021-01-15 09:21:43.61\",\"2021-01-15 09:21:44.625\",\"2021-01-15 09:21:45.626\",\"2021-01-15 09:21:46.642\",\"2021-01-15 09:21:47.657\",\"2021-01-15 09:21:48.672\",\"2021-01-15 09:21:49.688\",\"2021-01-15 09:21:50.703\",\"2021-01-15 09:21:51.719\",\"2021-01-15 09:21:52.734\",\"2021-01-15 09:21:53.749\",\"2021-01-15 09:21:54.765\",\"2021-01-15 09:21:55.78\",\"2021-01-15 09:21:56.795\",\"2021-01-15 09:21:57.811\",\"2021-01-15 09:21:58.826\",\"2021-01-15 09:21:59.842\",\"2021-01-15 09:22:00.843\",\"2021-01-15 09:22:01.858\",\"2021-01-15 09:22:02.874\",\"2021-01-15 09:22:03.889\",\"2021-01-15 09:22:04.904\",\"2021-01-15 09:22:05.92\",\"2021-01-15 09:22:06.935\",\"2021-01-15 09:22:07.951\",\"2021-01-15 09:22:08.966\",\"2021-01-15 09:22:09.981\",\"2021-01-15 09:22:10.997\",\"2021-01-15 09:22:12.012\",\"2021-01-15 09:22:13.027\",\"2021-01-15 09:22:14.043\",\"2021-01-15 09:22:15.058\",\"2021-01-15 09:22:16.06\",\"2021-01-15 09:22:17.075\",\"2021-01-15 09:22:18.09\",\"2021-01-15 09:22:19.106\",\"2021-01-15 09:22:20.121\",\"2021-01-15 09:22:21.136\",\"2021-01-15 09:22:22.152\",\"2021-01-15 09:22:23.167\",\"2021-01-15 09:22:24.183\",\"2021-01-15 09:22:25.198\",\"2021-01-15 09:22:26.213\",\"2021-01-15 09:22:27.229\",\"2021-01-15 09:22:28.244\",\"2021-01-15 09:22:29.26\",\"2021-01-15 09:22:30.261\",\"2021-01-15 09:22:31.276\",\"2021-01-15 09:22:32.292\",\"2021-01-15 09:22:33.307\",\"2021-01-15 09:22:34.323\",\"2021-01-15 09:22:35.338\",\"2021-01-15 09:22:36.353\",\"2021-01-15 09:22:37.369\",\"2021-01-15 09:22:38.384\",\"2021-01-15 09:22:39.399\",\"2021-01-15 09:22:40.415\",\"2021-01-15 09:22:41.43\",\"2021-01-15 09:22:42.446\",\"2021-01-15 09:22:43.461\",\"2021-01-15 09:22:44.476\",\"2021-01-15 09:22:45.478\",\"2021-01-15 09:22:46.493\",\"2021-01-15 09:22:47.508\",\"2021-01-15 09:22:48.524\",\"2021-01-15 09:22:49.539\",\"2021-01-15 09:22:50.554\",\"2021-01-15 09:22:51.57\",\"2021-01-15 09:22:52.585\",\"2021-01-15 09:22:53.601\",\"2021-01-15 09:22:54.616\",\"2021-01-15 09:22:55.632\",\"2021-01-15 09:22:56.647\",\"2021-01-15 09:22:57.662\",\"2021-01-15 09:22:58.678\",\"2021-01-15 09:22:59.693\",\"2021-01-15 09:23:00.694\",\"2021-01-15 09:23:01.71\",\"2021-01-15 09:23:02.725\",\"2021-01-15 09:23:03.74\",\"2021-01-15 09:23:04.756\",\"2021-01-15 09:23:05.771\",\"2021-01-15 09:23:06.787\",\"2021-01-15 09:23:07.802\",\"2021-01-15 09:23:08.817\",\"2021-01-15 09:23:09.833\",\"2021-01-15 09:23:10.848\",\"2021-01-15 09:23:11.864\",\"2021-01-15 09:23:12.879\",\"2021-01-15 09:23:13.894\",\"2021-01-15 09:23:14.91\",\"2021-01-15 09:23:15.911\",\"2021-01-15 09:23:16.926\",\"2021-01-15 09:23:17.942\",\"2021-01-15 09:23:18.957\",\"2021-01-15 09:23:19.973\",\"2021-01-15 09:23:20.988\",\"2021-01-15 09:23:22.003\",\"2021-01-15 09:23:23.019\",\"2021-01-15 09:23:24.034\",\"2021-01-15 09:23:25.049\",\"2021-01-15 09:23:26.065\",\"2021-01-15 09:23:27.08\",\"2021-01-15 09:23:28.096\",\"2021-01-15 09:23:29.111\",\"2021-01-15 09:23:30.126\",\"2021-01-15 09:23:31.132\",\"2021-01-15 09:23:32.147\",\"2021-01-15 09:23:33.163\",\"2021-01-15 09:23:34.178\",\"2021-01-15 09:23:35.193\",\"2021-01-15 09:23:36.209\",\"2021-01-15 09:23:37.224\",\"2021-01-15 09:23:38.24\",\"2021-01-15 09:23:39.255\",\"2021-01-15 09:23:40.27\",\"2021-01-15 09:23:41.286\",\"2021-01-15 09:23:42.301\",\"2021-01-15 09:23:43.317\",\"2021-01-15 09:23:44.332\",\"2021-01-15 09:23:45.333\",\"2021-01-15 09:23:46.349\",\"2021-01-15 09:23:47.364\",\"2021-01-15 09:23:48.379\",\"2021-01-15 09:23:49.395\",\"2021-01-15 09:23:50.41\",\"2021-01-15 09:23:51.426\",\"2021-01-15 09:23:52.441\",\"2021-01-15 09:23:53.456\",\"2021-01-15 09:23:54.472\",\"2021-01-15 09:23:55.487\",\"2021-01-15 09:23:56.502\",\"2021-01-15 09:23:57.518\",\"2021-01-15 09:23:58.533\",\"2021-01-15 09:23:59.549\",\"2021-01-15 09:24:00.55\",\"2021-01-15 09:24:01.565\",\"2021-01-15 09:24:02.58\",\"2021-01-15 09:24:03.596\",\"2021-01-15 09:24:04.608\",\"2021-01-15 09:24:05.624\",\"2021-01-15 09:24:06.639\",\"2021-01-15 09:24:07.654\",\"2021-01-15 09:24:08.67\",\"2021-01-15 09:24:09.685\",\"2021-01-15 09:24:10.701\",\"2021-01-15 09:24:11.716\",\"2021-01-15 09:24:12.731\",\"2021-01-15 09:24:13.746\",\"2021-01-15 09:24:14.762\",\"2021-01-15 09:24:15.764\",\"2021-01-15 09:24:16.779\",\"2021-01-15 09:24:17.794\",\"2021-01-15 09:24:18.81\",\"2021-01-15 09:24:19.825\",\"2021-01-15 09:24:20.84\",\"2021-01-15 09:24:21.856\",\"2021-01-15 09:24:22.871\",\"2021-01-15 09:24:23.887\",\"2021-01-15 09:24:24.902\",\"2021-01-15 09:24:25.917\",\"2021-01-15 09:24:26.933\",\"2021-01-15 09:24:27.948\",\"2021-01-15 09:24:28.964\",\"2021-01-15 09:24:29.979\",\"2021-01-15 09:24:30.98\",\"2021-01-15 09:24:31.996\",\"2021-01-15 09:24:33.011\",\"2021-01-15 09:24:34.026\",\"2021-01-15 09:24:35.042\",\"2021-01-15 09:24:36.057\",\"2021-01-15 09:24:37.072\",\"2021-01-15 09:24:38.088\",\"2021-01-15 09:24:39.103\",\"2021-01-15 09:24:40.118\",\"2021-01-15 09:24:41.134\",\"2021-01-15 09:24:42.149\",\"2021-01-15 09:24:43.165\",\"2021-01-15 09:24:44.18\",\"2021-01-15 09:24:45.181\",\"2021-01-15 09:24:46.197\",\"2021-01-15 09:24:47.212\",\"2021-01-15 09:24:48.228\",\"2021-01-15 09:24:49.243\",\"2021-01-15 09:24:50.258\",\"2021-01-15 09:24:51.274\",\"2021-01-15 09:24:52.289\",\"2021-01-15 09:24:53.305\",\"2021-01-15 09:24:54.32\",\"2021-01-15 09:24:55.335\",\"2021-01-15 09:24:56.35\",\"2021-01-15 09:24:57.366\",\"2021-01-15 09:24:58.381\",\"2021-01-15 09:24:59.397\",\"2021-01-15 09:25:00.398\",\"2021-01-15 09:25:01.413\",\"2021-01-15 09:25:02.429\",\"2021-01-15 09:25:03.444\",\"2021-01-15 09:25:04.46\",\"2021-01-15 09:25:05.475\",\"2021-01-15 09:25:06.49\",\"2021-01-15 09:25:07.506\",\"2021-01-15 09:25:08.521\",\"2021-01-15 09:25:09.537\",\"2021-01-15 09:25:10.552\",\"2021-01-15 09:25:11.567\",\"2021-01-15 09:25:12.583\",\"2021-01-15 09:25:13.598\",\"2021-01-15 09:25:14.613\",\"2021-01-15 09:25:15.615\",\"2021-01-15 09:25:16.63\",\"2021-01-15 09:25:17.646\",\"2021-01-15 09:25:18.661\",\"2021-01-15 09:25:19.677\",\"2021-01-15 09:25:20.692\",\"2021-01-15 09:25:21.707\",\"2021-01-15 09:25:22.723\",\"2021-01-15 09:25:23.738\",\"2021-01-15 09:25:24.753\",\"2021-01-15 09:25:25.769\",\"2021-01-15 09:25:26.784\",\"2021-01-15 09:25:27.8\",\"2021-01-15 09:25:28.815\",\"2021-01-15 09:25:29.83\",\"2021-01-15 09:25:30.831\",\"2021-01-15 09:25:31.847\",\"2021-01-15 09:25:32.862\",\"2021-01-15 09:25:33.878\",\"2021-01-15 09:25:34.893\",\"2021-01-15 09:25:35.909\",\"2021-01-15 09:25:36.924\",\"2021-01-15 09:25:37.939\",\"2021-01-15 09:25:38.955\",\"2021-01-15 09:25:39.97\",\"2021-01-15 09:25:40.985\",\"2021-01-15 09:25:42.001\",\"2021-01-15 09:25:43.016\",\"2021-01-15 09:25:44.032\",\"2021-01-15 09:25:45.047\",\"2021-01-15 09:25:46.056\",\"2021-01-15 09:25:47.072\",\"2021-01-15 09:25:48.087\",\"2021-01-15 09:25:49.102\",\"2021-01-15 09:25:50.118\",\"2021-01-15 09:25:51.133\",\"2021-01-15 09:25:52.149\",\"2021-01-15 09:25:53.164\",\"2021-01-15 09:25:54.179\",\"2021-01-15 09:25:55.195\",\"2021-01-15 09:25:56.21\",\"2021-01-15 09:25:57.225\",\"2021-01-15 09:25:58.241\",\"2021-01-15 09:25:59.256\",\"2021-01-15 09:26:00.258\",\"2021-01-15 09:26:01.273\",\"2021-01-15 09:26:02.288\",\"2021-01-15 09:26:03.304\",\"2021-01-15 09:26:04.319\",\"2021-01-15 09:26:05.335\",\"2021-01-15 09:26:06.35\",\"2021-01-15 09:26:07.365\",\"2021-01-15 09:26:08.381\",\"2021-01-15 09:26:09.396\",\"2021-01-15 09:26:10.411\",\"2021-01-15 09:26:11.427\",\"2021-01-15 09:26:12.442\",\"2021-01-15 09:26:13.458\",\"2021-01-15 09:26:14.473\",\"2021-01-15 09:26:15.478\",\"2021-01-15 09:26:16.494\",\"2021-01-15 09:26:17.509\",\"2021-01-15 09:26:18.524\",\"2021-01-15 09:26:19.54\",\"2021-01-15 09:26:20.555\",\"2021-01-15 09:26:21.571\",\"2021-01-15 09:26:22.586\",\"2021-01-15 09:26:23.601\",\"2021-01-15 09:26:24.617\",\"2021-01-15 09:26:25.632\",\"2021-01-15 09:26:26.648\",\"2021-01-15 09:26:27.663\",\"2021-01-15 09:26:28.678\",\"2021-01-15 09:26:29.694\",\"2021-01-15 09:26:30.695\",\"2021-01-15 09:26:31.71\",\"2021-01-15 09:26:32.726\",\"2021-01-15 09:26:33.741\",\"2021-01-15 09:26:34.756\",\"2021-01-15 09:26:35.772\",\"2021-01-15 09:26:36.788\",\"2021-01-15 09:26:37.803\",\"2021-01-15 09:26:38.818\",\"2021-01-15 09:26:39.834\",\"2021-01-15 09:26:40.849\",\"2021-01-15 09:26:41.864\",\"2021-01-15 09:26:42.88\",\"2021-01-15 09:26:43.895\",\"2021-01-15 09:26:44.911\",\"2021-01-15 09:26:45.912\",\"2021-01-15 09:26:46.927\",\"2021-01-15 09:26:47.942\",\"2021-01-15 09:26:48.958\",\"2021-01-15 09:26:49.973\",\"2021-01-15 09:26:50.989\",\"2021-01-15 09:26:52.004\",\"2021-01-15 09:26:53.02\",\"2021-01-15 09:26:54.035\",\"2021-01-15 09:26:55.05\",\"2021-01-15 09:26:56.066\",\"2021-01-15 09:26:57.081\",\"2021-01-15 09:26:58.096\",\"2021-01-15 09:26:59.112\",\"2021-01-15 09:27:00.127\",\"2021-01-15 09:27:01.128\",\"2021-01-15 09:27:02.144\",\"2021-01-15 09:27:03.159\",\"2021-01-15 09:27:04.175\",\"2021-01-15 09:27:05.19\",\"2021-01-15 09:27:06.205\",\"2021-01-15 09:27:07.221\",\"2021-01-15 09:27:08.236\",\"2021-01-15 09:27:09.251\",\"2021-01-15 09:27:10.267\",\"2021-01-15 09:27:11.282\",\"2021-01-15 09:27:12.298\",\"2021-01-15 09:27:13.313\",\"2021-01-15 09:27:14.328\",\"2021-01-15 09:27:15.332\",\"2021-01-15 09:27:16.347\",\"2021-01-15 09:27:17.348\",\"2021-01-15 09:27:18.364\",\"2021-01-15 09:27:19.365\",\"2021-01-15 09:27:20.378\",\"2021-01-15 09:27:21.379\",\"2021-01-15 09:27:22.394\",\"2021-01-15 09:27:23.41\",\"2021-01-15 09:27:24.425\",\"2021-01-15 09:27:25.426\",\"2021-01-15 09:27:26.442\",\"2021-01-15 09:27:27.457\",\"2021-01-15 09:27:28.472\",\"2021-01-15 09:27:29.488\",\"2021-01-15 09:27:30.489\",\"2021-01-15 09:27:31.505\",\"2021-01-15 09:27:32.52\",\"2021-01-15 09:27:33.535\",\"2021-01-15 09:27:34.551\",\"2021-01-15 09:27:35.566\",\"2021-01-15 09:27:36.581\",\"2021-01-15 09:27:37.597\",\"2021-01-15 09:27:38.612\",\"2021-01-15 09:27:39.628\",\"2021-01-15 09:27:40.643\",\"2021-01-15 09:27:41.658\",\"2021-01-15 09:27:42.674\",\"2021-01-15 09:27:43.689\",\"2021-01-15 09:27:44.705\",\"2021-01-15 09:27:45.706\",\"2021-01-15 09:27:46.721\",\"2021-01-15 09:27:47.737\",\"2021-01-15 09:27:48.752\",\"2021-01-15 09:27:49.768\",\"2021-01-15 09:27:50.783\",\"2021-01-15 09:27:51.798\",\"2021-01-15 09:27:52.814\",\"2021-01-15 09:27:53.829\",\"2021-01-15 09:27:54.844\",\"2021-01-15 09:27:55.86\",\"2021-01-15 09:27:56.875\",\"2021-01-15 09:27:57.891\",\"2021-01-15 09:27:58.906\",\"2021-01-15 09:27:59.921\",\"2021-01-15 09:28:00.93\",\"2021-01-15 09:28:01.945\",\"2021-01-15 09:28:02.96\",\"2021-01-15 09:28:03.976\",\"2021-01-15 09:28:04.991\",\"2021-01-15 09:28:06.007\",\"2021-01-15 09:28:07.022\",\"2021-01-15 09:28:08.038\",\"2021-01-15 09:28:09.053\",\"2021-01-15 09:28:10.068\",\"2021-01-15 09:28:11.084\",\"2021-01-15 09:28:12.099\",\"2021-01-15 09:28:13.115\",\"2021-01-15 09:28:14.13\",\"2021-01-15 09:28:15.145\",\"2021-01-15 09:28:16.147\",\"2021-01-15 09:28:17.162\",\"2021-01-15 09:28:18.178\",\"2021-01-15 09:28:19.193\",\"2021-01-15 09:28:20.208\",\"2021-01-15 09:28:21.224\",\"2021-01-15 09:28:22.239\",\"2021-01-15 09:28:23.255\",\"2021-01-15 09:28:24.27\",\"2021-01-15 09:28:25.285\",\"2021-01-15 09:28:26.301\",\"2021-01-15 09:28:27.316\",\"2021-01-15 09:28:28.331\",\"2021-01-15 09:28:29.347\",\"2021-01-15 09:28:30.348\",\"2021-01-15 09:28:31.364\",\"2021-01-15 09:28:32.379\",\"2021-01-15 09:28:33.394\",\"2021-01-15 09:28:34.409\",\"2021-01-15 09:28:35.425\",\"2021-01-15 09:28:36.441\",\"2021-01-15 09:28:37.456\",\"2021-01-15 09:28:38.471\",\"2021-01-15 09:28:39.487\",\"2021-01-15 09:28:40.502\",\"2021-01-15 09:28:41.517\",\"2021-01-15 09:28:42.533\",\"2021-01-15 09:28:43.548\",\"2021-01-15 09:28:44.563\",\"2021-01-15 09:28:45.565\",\"2021-01-15 09:28:46.58\",\"2021-01-15 09:28:47.596\",\"2021-01-15 09:28:48.611\",\"2021-01-15 09:28:49.627\",\"2021-01-15 09:28:50.642\",\"2021-01-15 09:28:51.657\",\"2021-01-15 09:28:52.673\",\"2021-01-15 09:28:53.688\",\"2021-01-15 09:28:54.703\",\"2021-01-15 09:28:55.719\",\"2021-01-15 09:28:56.734\",\"2021-01-15 09:28:57.75\",\"2021-01-15 09:28:58.765\",\"2021-01-15 09:28:59.78\",\"2021-01-15 09:29:00.782\",\"2021-01-15 09:29:01.797\",\"2021-01-15 09:29:02.812\",\"2021-01-15 09:29:03.828\",\"2021-01-15 09:29:04.843\",\"2021-01-15 09:29:05.859\",\"2021-01-15 09:29:06.874\",\"2021-01-15 09:29:07.889\",\"2021-01-15 09:29:08.905\",\"2021-01-15 09:29:09.92\",\"2021-01-15 09:29:10.936\",\"2021-01-15 09:29:11.951\",\"2021-01-15 09:29:12.966\",\"2021-01-15 09:29:13.982\",\"2021-01-15 09:29:14.997\",\"2021-01-15 09:29:15.998\",\"2021-01-15 09:29:17.014\",\"2021-01-15 09:29:18.029\",\"2021-01-15 09:29:19.045\",\"2021-01-15 09:29:20.06\",\"2021-01-15 09:29:21.075\",\"2021-01-15 09:29:22.091\",\"2021-01-15 09:29:23.106\",\"2021-01-15 09:29:24.122\",\"2021-01-15 09:29:25.137\",\"2021-01-15 09:29:26.152\",\"2021-01-15 09:29:27.168\",\"2021-01-15 09:29:28.183\",\"2021-01-15 09:29:29.198\",\"2021-01-15 09:29:30.2\",\"2021-01-15 09:29:31.215\",\"2021-01-15 09:29:32.231\",\"2021-01-15 09:29:33.246\",\"2021-01-15 09:29:34.261\",\"2021-01-15 09:29:35.277\",\"2021-01-15 09:29:36.292\",\"2021-01-15 09:29:37.307\",\"2021-01-15 09:29:38.323\",\"2021-01-15 09:29:39.338\",\"2021-01-15 09:29:40.354\",\"2021-01-15 09:29:41.369\",\"2021-01-15 09:29:42.384\",\"2021-01-15 09:29:43.4\",\"2021-01-15 09:29:44.415\",\"2021-01-15 09:29:45.417\",\"2021-01-15 09:29:46.432\",\"2021-01-15 09:29:47.447\",\"2021-01-15 09:29:48.463\",\"2021-01-15 09:29:49.478\",\"2021-01-15 09:29:50.493\",\"2021-01-15 09:29:51.509\",\"2021-01-15 09:29:52.524\",\"2021-01-15 09:29:53.54\",\"2021-01-15 09:29:54.555\",\"2021-01-15 09:29:55.571\",\"2021-01-15 09:29:56.586\",\"2021-01-15 09:29:57.601\",\"2021-01-15 09:29:58.617\",\"2021-01-15 09:29:59.632\",\"2021-01-15 09:30:00.64\",\"2021-01-15 09:30:01.655\",\"2021-01-15 09:30:02.67\",\"2021-01-15 09:30:03.686\",\"2021-01-15 09:30:04.701\",\"2021-01-15 09:30:05.716\",\"2021-01-15 09:30:06.732\",\"2021-01-15 09:30:07.747\",\"2021-01-15 09:30:08.763\",\"2021-01-15 09:30:09.778\",\"2021-01-15 09:30:10.793\",\"2021-01-15 09:30:11.809\",\"2021-01-15 09:30:12.824\",\"2021-01-15 09:30:13.839\",\"2021-01-15 09:30:14.855\",\"2021-01-15 09:30:15.856\",\"2021-01-15 09:30:16.872\",\"2021-01-15 09:30:17.887\",\"2021-01-15 09:30:18.902\",\"2021-01-15 09:30:19.918\",\"2021-01-15 09:30:20.933\",\"2021-01-15 09:30:21.949\",\"2021-01-15 09:30:22.964\",\"2021-01-15 09:30:23.979\",\"2021-01-15 09:30:24.995\",\"2021-01-15 09:30:26.01\",\"2021-01-15 09:30:27.025\",\"2021-01-15 09:30:28.041\",\"2021-01-15 09:30:29.056\",\"2021-01-15 09:30:30.072\",\"2021-01-15 09:30:31.073\",\"2021-01-15 09:30:32.088\",\"2021-01-15 09:30:33.104\",\"2021-01-15 09:30:34.119\",\"2021-01-15 09:30:35.134\",\"2021-01-15 09:30:36.15\",\"2021-01-15 09:30:37.165\",\"2021-01-15 09:30:38.181\",\"2021-01-15 09:30:39.196\",\"2021-01-15 09:30:40.211\",\"2021-01-15 09:30:41.227\",\"2021-01-15 09:30:42.242\",\"2021-01-15 09:30:43.258\",\"2021-01-15 09:30:44.273\",\"2021-01-15 09:30:45.274\",\"2021-01-15 09:30:46.29\",\"2021-01-15 09:30:47.305\",\"2021-01-15 09:30:48.32\",\"2021-01-15 09:30:49.336\",\"2021-01-15 09:30:50.351\",\"2021-01-15 09:30:51.367\",\"2021-01-15 09:30:52.382\",\"2021-01-15 09:30:53.397\",\"2021-01-15 09:30:54.413\",\"2021-01-15 09:30:55.428\",\"2021-01-15 09:30:56.443\",\"2021-01-15 09:30:57.459\",\"2021-01-15 09:30:58.474\",\"2021-01-15 09:30:59.49\",\"2021-01-15 09:31:00.491\",\"2021-01-15 09:31:01.506\",\"2021-01-15 09:31:02.522\",\"2021-01-15 09:31:03.537\",\"2021-01-15 09:31:04.552\",\"2021-01-15 09:31:05.568\",\"2021-01-15 09:31:06.583\",\"2021-01-15 09:31:07.599\",\"2021-01-15 09:31:08.614\",\"2021-01-15 09:31:09.629\",\"2021-01-15 09:31:10.645\",\"2021-01-15 09:31:11.66\",\"2021-01-15 09:31:12.675\",\"2021-01-15 09:31:13.691\",\"2021-01-15 09:31:14.706\",\"2021-01-15 09:31:15.708\",\"2021-01-15 09:31:16.723\",\"2021-01-15 09:31:17.738\",\"2021-01-15 09:31:18.754\",\"2021-01-15 09:31:19.769\",\"2021-01-15 09:31:20.784\",\"2021-01-15 09:31:21.8\",\"2021-01-15 09:31:22.815\",\"2021-01-15 09:31:23.831\",\"2021-01-15 09:31:24.846\",\"2021-01-15 09:31:25.861\",\"2021-01-15 09:31:26.877\",\"2021-01-15 09:31:27.892\",\"2021-01-15 09:31:28.908\",\"2021-01-15 09:31:29.923\",\"2021-01-15 09:31:30.924\",\"2021-01-15 09:31:31.939\",\"2021-01-15 09:31:32.955\",\"2021-01-15 09:31:33.97\",\"2021-01-15 09:31:34.986\",\"2021-01-15 09:31:36.001\",\"2021-01-15 09:31:37.017\",\"2021-01-15 09:31:38.032\",\"2021-01-15 09:31:39.047\",\"2021-01-15 09:31:40.063\",\"2021-01-15 09:31:41.078\",\"2021-01-15 09:31:42.093\",\"2021-01-15 09:31:43.109\",\"2021-01-15 09:31:44.124\",\"2021-01-15 09:31:45.14\",\"2021-01-15 09:31:48.172\",\"2021-01-15 09:31:49.187\",\"2021-01-15 09:31:50.202\",\"2021-01-15 09:31:51.218\",\"2021-01-15 09:31:52.233\",\"2021-01-15 09:31:53.248\",\"2021-01-15 09:31:54.264\",\"2021-01-15 09:31:55.279\",\"2021-01-15 09:31:56.294\",\"2021-01-15 09:31:57.31\",\"2021-01-15 09:31:58.325\",\"2021-01-15 09:31:59.341\",\"2021-01-15 09:32:00.342\",\"2021-01-15 09:32:01.358\",\"2021-01-15 09:32:02.373\",\"2021-01-15 09:32:03.389\",\"2021-01-15 09:32:04.404\",\"2021-01-15 09:32:05.419\",\"2021-01-15 09:32:06.435\",\"2021-01-15 09:32:07.45\",\"2021-01-15 09:32:08.465\",\"2021-01-15 09:32:09.481\",\"2021-01-15 09:32:10.496\",\"2021-01-15 09:32:11.512\",\"2021-01-15 09:32:12.527\",\"2021-01-15 09:32:13.542\",\"2021-01-15 09:32:14.558\",\"2021-01-15 09:32:15.566\",\"2021-01-15 09:32:16.582\",\"2021-01-15 09:32:17.597\",\"2021-01-15 09:32:18.612\",\"2021-01-15 09:32:19.628\",\"2021-01-15 09:32:20.643\",\"2021-01-15 09:32:21.658\",\"2021-01-15 09:32:22.674\",\"2021-01-15 09:32:23.689\",\"2021-01-15 09:32:24.705\",\"2021-01-15 09:32:25.72\",\"2021-01-15 09:32:26.735\",\"2021-01-15 09:32:27.751\",\"2021-01-15 09:32:28.766\",\"2021-01-15 09:32:29.782\",\"2021-01-15 09:32:30.783\",\"2021-01-15 09:32:31.798\",\"2021-01-15 09:32:32.814\",\"2021-01-15 09:32:33.829\",\"2021-01-15 09:32:34.844\",\"2021-01-15 09:32:35.86\",\"2021-01-15 09:32:36.875\",\"2021-01-15 09:32:37.89\",\"2021-01-15 09:32:38.906\",\"2021-01-15 09:32:39.921\",\"2021-01-15 09:32:40.937\",\"2021-01-15 09:32:41.952\",\"2021-01-15 09:32:42.967\",\"2021-01-15 09:32:43.983\",\"2021-01-15 09:32:44.998\",\"2021-01-15 09:32:45.999\",\"2021-01-15 09:32:47.015\",\"2021-01-15 09:32:48.03\",\"2021-01-15 09:32:49.046\",\"2021-01-15 09:32:50.061\",\"2021-01-15 09:32:51.076\",\"2021-01-15 09:32:52.092\",\"2021-01-15 09:32:53.107\",\"2021-01-15 09:32:54.123\",\"2021-01-15 09:32:55.138\",\"2021-01-15 09:32:56.153\",\"2021-01-15 09:32:57.169\",\"2021-01-15 09:32:58.184\",\"2021-01-15 09:32:59.199\",\"2021-01-15 09:33:00.201\",\"2021-01-15 09:33:01.216\",\"2021-01-15 09:33:02.232\",\"2021-01-15 09:33:03.247\",\"2021-01-15 09:33:04.262\",\"2021-01-15 09:33:05.278\",\"2021-01-15 09:33:06.293\",\"2021-01-15 09:33:07.308\",\"2021-01-15 09:33:08.324\",\"2021-01-15 09:33:09.339\",\"2021-01-15 09:33:10.355\",\"2021-01-15 09:33:11.37\",\"2021-01-15 09:33:12.385\",\"2021-01-15 09:33:13.401\",\"2021-01-15 09:33:14.416\",\"2021-01-15 09:33:15.417\",\"2021-01-15 09:33:16.433\",\"2021-01-15 09:33:17.448\",\"2021-01-15 09:33:18.464\",\"2021-01-15 09:33:19.479\",\"2021-01-15 09:33:20.494\",\"2021-01-15 09:33:21.51\",\"2021-01-15 09:33:22.525\",\"2021-01-15 09:33:23.54\",\"2021-01-15 09:33:24.556\",\"2021-01-15 09:33:25.571\",\"2021-01-15 09:33:26.587\",\"2021-01-15 09:33:27.602\",\"2021-01-15 09:33:28.617\",\"2021-01-15 09:33:29.633\",\"2021-01-15 09:33:30.634\",\"2021-01-15 09:33:31.649\",\"2021-01-15 09:33:32.665\",\"2021-01-15 09:33:33.68\",\"2021-01-15 09:33:34.696\",\"2021-01-15 09:33:35.711\",\"2021-01-15 09:33:36.726\",\"2021-01-15 09:33:37.742\",\"2021-01-15 09:33:38.757\",\"2021-01-15 09:33:39.773\",\"2021-01-15 09:33:40.788\",\"2021-01-15 09:33:41.803\",\"2021-01-15 09:33:42.819\",\"2021-01-15 09:33:43.834\",\"2021-01-15 09:33:44.85\",\"2021-01-15 09:33:45.851\",\"2021-01-15 09:33:46.866\",\"2021-01-15 09:33:47.882\",\"2021-01-15 09:33:48.897\",\"2021-01-15 09:33:49.912\",\"2021-01-15 09:33:50.928\",\"2021-01-15 09:33:51.943\",\"2021-01-15 09:33:52.959\",\"2021-01-15 09:33:53.974\",\"2021-01-15 09:33:54.989\",\"2021-01-15 09:33:56.005\",\"2021-01-15 09:33:57.02\",\"2021-01-15 09:33:58.036\",\"2021-01-15 09:33:59.051\",\"2021-01-15 09:34:00.066\",\"2021-01-15 09:34:01.068\",\"2021-01-15 09:34:02.083\",\"2021-01-15 09:34:03.098\",\"2021-01-15 09:34:04.114\",\"2021-01-15 09:34:05.126\",\"2021-01-15 09:34:06.142\",\"2021-01-15 09:34:07.157\",\"2021-01-15 09:34:08.173\",\"2021-01-15 09:34:09.188\",\"2021-01-15 09:34:10.203\",\"2021-01-15 09:34:11.219\",\"2021-01-15 09:34:12.234\",\"2021-01-15 09:34:13.25\",\"2021-01-15 09:34:14.265\",\"2021-01-15 09:34:15.266\",\"2021-01-15 09:34:16.282\",\"2021-01-15 09:34:17.297\",\"2021-01-15 09:34:18.313\",\"2021-01-15 09:34:19.328\",\"2021-01-15 09:34:20.343\",\"2021-01-15 09:34:21.359\",\"2021-01-15 09:34:22.374\",\"2021-01-15 09:34:23.389\",\"2021-01-15 09:34:24.405\",\"2021-01-15 09:34:25.42\",\"2021-01-15 09:34:26.435\",\"2021-01-15 09:34:27.451\",\"2021-01-15 09:34:28.466\",\"2021-01-15 09:34:29.482\",\"2021-01-15 09:34:30.49\",\"2021-01-15 09:34:31.506\",\"2021-01-15 09:34:32.521\",\"2021-01-15 09:34:33.537\",\"2021-01-15 09:34:34.552\",\"2021-01-15 09:34:35.567\",\"2021-01-15 09:34:36.583\",\"2021-01-15 09:34:37.598\",\"2021-01-15 09:34:38.613\",\"2021-01-15 09:34:39.629\",\"2021-01-15 09:34:40.644\",\"2021-01-15 09:34:41.66\",\"2021-01-15 09:34:42.675\",\"2021-01-15 09:34:43.691\",\"2021-01-15 09:34:44.706\",\"2021-01-15 09:34:45.707\",\"2021-01-15 09:34:46.722\",\"2021-01-15 09:34:47.738\",\"2021-01-15 09:34:48.753\",\"2021-01-15 09:34:49.769\",\"2021-01-15 09:34:50.784\",\"2021-01-15 09:34:51.799\",\"2021-01-15 09:34:52.815\",\"2021-01-15 09:34:53.83\",\"2021-01-15 09:34:54.846\",\"2021-01-15 09:34:55.861\",\"2021-01-15 09:34:56.876\",\"2021-01-15 09:34:57.892\",\"2021-01-15 09:34:58.907\",\"2021-01-15 09:34:59.923\",\"2021-01-15 09:35:00.924\",\"2021-01-15 09:35:01.939\",\"2021-01-15 09:35:02.954\",\"2021-01-15 09:35:03.97\",\"2021-01-15 09:35:04.985\",\"2021-01-15 09:35:06.001\",\"2021-01-15 09:35:07.016\",\"2021-01-15 09:35:08.031\",\"2021-01-15 09:35:09.047\",\"2021-01-15 09:35:10.062\",\"2021-01-15 09:35:11.078\",\"2021-01-15 09:35:12.093\",\"2021-01-15 09:35:13.108\",\"2021-01-15 09:35:14.124\",\"2021-01-15 09:35:15.139\",\"2021-01-15 09:35:16.14\",\"2021-01-15 09:35:17.156\",\"2021-01-15 09:35:18.171\",\"2021-01-15 09:35:19.186\",\"2021-01-15 09:35:20.202\",\"2021-01-15 09:35:21.217\",\"2021-01-15 09:35:22.233\",\"2021-01-15 09:35:23.248\",\"2021-01-15 09:35:24.263\",\"2021-01-15 09:35:25.279\",\"2021-01-15 09:35:26.294\",\"2021-01-15 09:35:27.31\",\"2021-01-15 09:35:28.325\",\"2021-01-15 09:35:29.34\",\"2021-01-15 09:35:30.342\",\"2021-01-15 09:35:31.357\",\"2021-01-15 09:35:32.372\",\"2021-01-15 09:35:33.388\",\"2021-01-15 09:35:34.403\",\"2021-01-15 09:35:35.418\",\"2021-01-15 09:35:36.434\",\"2021-01-15 09:35:37.449\",\"2021-01-15 09:35:38.465\",\"2021-01-15 09:35:39.48\",\"2021-01-15 09:35:40.495\",\"2021-01-15 09:35:41.511\",\"2021-01-15 09:35:42.526\",\"2021-01-15 09:35:43.542\",\"2021-01-15 09:35:44.557\",\"2021-01-15 09:35:45.558\",\"2021-01-15 09:35:46.574\",\"2021-01-15 09:35:47.589\",\"2021-01-15 09:35:48.604\",\"2021-01-15 09:35:49.62\",\"2021-01-15 09:35:50.635\",\"2021-01-15 09:35:51.651\",\"2021-01-15 09:35:52.666\",\"2021-01-15 09:35:53.681\",\"2021-01-15 09:35:54.697\",\"2021-01-15 09:35:55.712\",\"2021-01-15 09:35:56.728\",\"2021-01-15 09:35:57.743\",\"2021-01-15 09:35:58.758\",\"2021-01-15 09:35:59.774\",\"2021-01-15 09:36:00.775\",\"2021-01-15 09:36:01.79\",\"2021-01-15 09:36:02.806\",\"2021-01-15 09:36:03.821\",\"2021-01-15 09:36:04.837\",\"2021-01-15 09:36:05.852\",\"2021-01-15 09:36:06.867\",\"2021-01-15 09:36:07.883\",\"2021-01-15 09:36:08.898\",\"2021-01-15 09:36:09.913\",\"2021-01-15 09:36:10.929\",\"2021-01-15 09:36:11.944\",\"2021-01-15 09:36:12.96\",\"2021-01-15 09:36:13.975\",\"2021-01-15 09:36:14.99\",\"2021-01-15 09:36:15.992\",\"2021-01-15 09:36:18.022\",\"2021-01-15 09:36:19.038\",\"2021-01-15 09:36:20.053\",\"2021-01-15 09:36:21.069\",\"2021-01-15 09:36:22.084\",\"2021-01-15 09:36:23.099\",\"2021-01-15 09:36:24.115\",\"2021-01-15 09:36:25.13\",\"2021-01-15 09:36:27.161\",\"2021-01-15 09:36:28.176\",\"2021-01-15 09:36:29.192\",\"2021-01-15 09:36:30.193\",\"2021-01-15 09:36:31.209\",\"2021-01-15 09:36:32.224\",\"2021-01-15 09:36:33.239\",\"2021-01-15 09:36:34.255\",\"2021-01-15 09:36:35.27\",\"2021-01-15 09:36:36.286\",\"2021-01-15 09:36:37.301\",\"2021-01-15 09:36:38.316\",\"2021-01-15 09:36:39.332\",\"2021-01-15 09:36:40.347\",\"2021-01-15 09:36:41.362\",\"2021-01-15 09:36:42.378\",\"2021-01-15 09:36:43.393\",\"2021-01-15 09:36:44.409\",\"2021-01-15 09:36:45.415\",\"2021-01-15 09:36:46.431\",\"2021-01-15 09:36:47.446\",\"2021-01-15 09:36:48.461\",\"2021-01-15 09:36:49.477\",\"2021-01-15 09:36:50.492\",\"2021-01-15 09:36:51.507\",\"2021-01-15 09:36:52.523\",\"2021-01-15 09:36:53.538\",\"2021-01-15 09:36:54.554\",\"2021-01-15 09:36:55.569\",\"2021-01-15 09:36:56.584\",\"2021-01-15 09:36:57.6\",\"2021-01-15 09:36:58.615\",\"2021-01-15 09:36:59.631\",\"2021-01-15 09:37:00.632\",\"2021-01-15 09:37:01.648\",\"2021-01-15 09:37:02.663\",\"2021-01-15 09:37:03.679\",\"2021-01-15 09:37:04.694\",\"2021-01-15 09:37:05.709\",\"2021-01-15 09:37:06.725\",\"2021-01-15 09:37:07.74\",\"2021-01-15 09:37:08.756\",\"2021-01-15 09:37:09.771\",\"2021-01-15 09:37:10.786\",\"2021-01-15 09:37:11.802\",\"2021-01-15 09:37:12.817\",\"2021-01-15 09:37:13.833\",\"2021-01-15 09:37:14.848\",\"2021-01-15 09:37:15.849\",\"2021-01-15 09:37:16.864\",\"2021-01-15 09:37:17.865\",\"2021-01-15 09:37:18.88\",\"2021-01-15 09:37:19.882\",\"2021-01-15 09:37:20.894\",\"2021-01-15 09:37:21.896\",\"2021-01-15 09:37:22.911\",\"2021-01-15 09:37:23.927\",\"2021-01-15 09:37:24.942\",\"2021-01-15 09:37:25.943\",\"2021-01-15 09:37:26.959\",\"2021-01-15 09:37:27.974\",\"2021-01-15 09:37:28.989\",\"2021-01-15 09:37:30.005\",\"2021-01-15 09:37:31.006\",\"2021-01-15 09:37:32.021\",\"2021-01-15 09:37:33.037\",\"2021-01-15 09:37:34.052\",\"2021-01-15 09:37:35.068\",\"2021-01-15 09:37:36.083\",\"2021-01-15 09:37:37.098\",\"2021-01-15 09:37:38.114\",\"2021-01-15 09:37:39.129\",\"2021-01-15 09:37:40.144\",\"2021-01-15 09:37:41.16\",\"2021-01-15 09:37:42.175\",\"2021-01-15 09:37:43.191\",\"2021-01-15 09:37:44.206\",\"2021-01-15 09:37:45.207\",\"2021-01-15 09:37:46.223\",\"2021-01-15 09:37:47.238\",\"2021-01-15 09:37:48.254\",\"2021-01-15 09:37:49.269\",\"2021-01-15 09:37:50.284\",\"2021-01-15 09:37:51.3\",\"2021-01-15 09:37:52.315\",\"2021-01-15 09:37:53.331\",\"2021-01-15 09:37:54.346\",\"2021-01-15 09:37:55.361\",\"2021-01-15 09:37:56.377\",\"2021-01-15 09:37:57.392\",\"2021-01-15 09:37:58.408\",\"2021-01-15 09:37:59.423\",\"2021-01-15 09:38:00.424\",\"2021-01-15 09:38:01.44\",\"2021-01-15 09:38:02.455\",\"2021-01-15 09:38:03.47\",\"2021-01-15 09:38:04.486\",\"2021-01-15 09:38:05.501\",\"2021-01-15 09:38:06.516\",\"2021-01-15 09:38:07.532\",\"2021-01-15 09:38:08.547\",\"2021-01-15 09:38:09.562\",\"2021-01-15 09:38:10.578\",\"2021-01-15 09:38:11.593\",\"2021-01-15 09:38:12.608\",\"2021-01-15 09:38:13.624\",\"2021-01-15 09:38:14.639\",\"2021-01-15 09:38:15.641\",\"2021-01-15 09:38:16.656\",\"2021-01-15 09:38:17.672\",\"2021-01-15 09:38:18.687\",\"2021-01-15 09:38:19.702\",\"2021-01-15 09:38:20.718\",\"2021-01-15 09:38:21.733\",\"2021-01-15 09:38:22.749\",\"2021-01-15 09:38:23.764\",\"2021-01-15 09:38:24.779\",\"2021-01-15 09:38:25.795\",\"2021-01-15 09:38:26.81\",\"2021-01-15 09:38:27.825\",\"2021-01-15 09:38:28.841\",\"2021-01-15 09:38:29.856\",\"2021-01-15 09:38:30.857\",\"2021-01-15 09:38:31.873\",\"2021-01-15 09:38:32.888\",\"2021-01-15 09:38:33.904\",\"2021-01-15 09:38:34.919\",\"2021-01-15 09:38:35.934\",\"2021-01-15 09:38:36.95\",\"2021-01-15 09:38:37.965\",\"2021-01-15 09:38:38.981\",\"2021-01-15 09:38:39.996\",\"2021-01-15 09:38:41.011\",\"2021-01-15 09:38:42.027\",\"2021-01-15 09:38:43.042\",\"2021-01-15 09:38:44.058\",\"2021-01-15 09:38:45.073\",\"2021-01-15 09:38:46.074\",\"2021-01-15 09:38:47.09\",\"2021-01-15 09:38:48.105\",\"2021-01-15 09:38:49.12\",\"2021-01-15 09:38:50.136\",\"2021-01-15 09:38:51.151\",\"2021-01-15 09:38:52.167\",\"2021-01-15 09:38:53.182\",\"2021-01-15 09:38:54.197\",\"2021-01-15 09:38:55.213\",\"2021-01-15 09:38:56.228\",\"2021-01-15 09:38:57.244\",\"2021-01-15 09:38:58.259\",\"2021-01-15 09:38:59.274\",\"2021-01-15 09:39:00.284\",\"2021-01-15 09:39:01.299\",\"2021-01-15 09:39:02.315\",\"2021-01-15 09:39:03.33\",\"2021-01-15 09:39:04.345\",\"2021-01-15 09:39:05.36\",\"2021-01-15 09:39:06.376\",\"2021-01-15 09:39:07.391\",\"2021-01-15 09:39:08.407\",\"2021-01-15 09:39:09.422\",\"2021-01-15 09:39:10.438\",\"2021-01-15 09:39:11.453\",\"2021-01-15 09:39:12.468\",\"2021-01-15 09:39:13.484\",\"2021-01-15 09:39:14.499\",\"2021-01-15 09:39:15.501\",\"2021-01-15 09:39:16.516\",\"2021-01-15 09:39:17.531\",\"2021-01-15 09:39:18.547\",\"2021-01-15 09:39:19.562\",\"2021-01-15 09:39:20.578\",\"2021-01-15 09:39:21.593\",\"2021-01-15 09:39:22.608\",\"2021-01-15 09:39:23.624\",\"2021-01-15 09:39:24.639\",\"2021-01-15 09:39:25.655\",\"2021-01-15 09:39:26.67\",\"2021-01-15 09:39:27.685\",\"2021-01-15 09:39:28.701\",\"2021-01-15 09:39:29.716\",\"2021-01-15 09:39:30.718\",\"2021-01-15 09:39:31.733\",\"2021-01-15 09:39:32.748\",\"2021-01-15 09:39:33.764\",\"2021-01-15 09:39:34.779\",\"2021-01-15 09:39:35.795\",\"2021-01-15 09:39:36.81\",\"2021-01-15 09:39:37.825\",\"2021-01-15 09:39:38.841\",\"2021-01-15 09:39:39.856\",\"2021-01-15 09:39:40.871\",\"2021-01-15 09:39:41.887\",\"2021-01-15 09:39:42.902\",\"2021-01-15 09:39:43.918\",\"2021-01-15 09:39:44.933\",\"2021-01-15 09:39:45.934\",\"2021-01-15 09:39:46.95\",\"2021-01-15 09:39:47.965\",\"2021-01-15 09:39:48.981\",\"2021-01-15 09:39:49.996\",\"2021-01-15 09:39:51.011\",\"2021-01-15 09:39:52.027\",\"2021-01-15 09:39:53.042\",\"2021-01-15 09:39:54.058\",\"2021-01-15 09:39:55.073\",\"2021-01-15 09:39:56.088\",\"2021-01-15 09:39:57.104\",\"2021-01-15 09:39:58.119\",\"2021-01-15 09:39:59.134\",\"2021-01-15 09:40:00.15\",\"2021-01-15 09:40:01.151\",\"2021-01-15 09:40:02.167\",\"2021-01-15 09:40:03.182\",\"2021-01-15 09:40:04.197\",\"2021-01-15 09:40:05.213\",\"2021-01-15 09:40:06.228\",\"2021-01-15 09:40:07.244\",\"2021-01-15 09:40:08.259\",\"2021-01-15 09:40:09.274\",\"2021-01-15 09:40:10.29\",\"2021-01-15 09:40:11.305\",\"2021-01-15 09:40:12.321\",\"2021-01-15 09:40:13.336\",\"2021-01-15 09:40:14.351\",\"2021-01-15 09:40:15.353\",\"2021-01-15 09:40:16.368\",\"2021-01-15 09:40:17.383\",\"2021-01-15 09:40:18.399\",\"2021-01-15 09:40:19.414\",\"2021-01-15 09:40:20.429\",\"2021-01-15 09:40:21.445\",\"2021-01-15 09:40:22.46\",\"2021-01-15 09:40:23.476\",\"2021-01-15 09:40:24.491\",\"2021-01-15 09:40:25.506\",\"2021-01-15 09:40:26.522\",\"2021-01-15 09:40:27.537\",\"2021-01-15 09:40:28.553\",\"2021-01-15 09:40:29.568\",\"2021-01-15 09:40:30.569\",\"2021-01-15 09:40:31.585\",\"2021-01-15 09:40:32.6\",\"2021-01-15 09:40:33.615\",\"2021-01-15 09:40:34.631\",\"2021-01-15 09:40:35.646\",\"2021-01-15 09:40:36.662\",\"2021-01-15 09:40:37.677\",\"2021-01-15 09:40:38.692\",\"2021-01-15 09:40:39.708\",\"2021-01-15 09:40:40.723\",\"2021-01-15 09:40:41.738\",\"2021-01-15 09:40:42.754\",\"2021-01-15 09:40:43.769\",\"2021-01-15 09:40:44.785\",\"2021-01-15 09:40:45.786\",\"2021-01-15 09:40:46.801\",\"2021-01-15 09:40:47.817\",\"2021-01-15 09:40:48.832\",\"2021-01-15 09:40:49.847\",\"2021-01-15 09:40:50.863\",\"2021-01-15 09:40:51.878\",\"2021-01-15 09:40:52.894\",\"2021-01-15 09:40:53.909\",\"2021-01-15 09:40:54.924\",\"2021-01-15 09:40:55.94\",\"2021-01-15 09:40:56.955\",\"2021-01-15 09:40:57.971\",\"2021-01-15 09:40:58.986\",\"2021-01-15 09:41:00.001\",\"2021-01-15 09:41:01.003\",\"2021-01-15 09:41:02.018\",\"2021-01-15 09:41:03.034\",\"2021-01-15 09:41:04.049\",\"2021-01-15 09:41:05.064\",\"2021-01-15 09:41:06.08\",\"2021-01-15 09:41:07.095\",\"2021-01-15 09:41:08.11\",\"2021-01-15 09:41:09.126\",\"2021-01-15 09:41:10.141\",\"2021-01-15 09:41:11.157\",\"2021-01-15 09:41:12.172\",\"2021-01-15 09:41:13.187\",\"2021-01-15 09:41:14.203\",\"2021-01-15 09:41:15.211\",\"2021-01-15 09:41:16.226\",\"2021-01-15 09:41:17.242\",\"2021-01-15 09:41:18.257\",\"2021-01-15 09:41:19.273\",\"2021-01-15 09:41:20.288\",\"2021-01-15 09:41:21.303\",\"2021-01-15 09:41:22.318\",\"2021-01-15 09:41:23.334\",\"2021-01-15 09:41:24.35\",\"2021-01-15 09:41:25.365\",\"2021-01-15 09:41:26.38\",\"2021-01-15 09:41:27.396\",\"2021-01-15 09:41:28.411\",\"2021-01-15 09:41:29.426\",\"2021-01-15 09:41:30.428\",\"2021-01-15 09:41:31.443\",\"2021-01-15 09:41:32.459\",\"2021-01-15 09:41:33.474\",\"2021-01-15 09:41:34.489\",\"2021-01-15 09:41:35.505\",\"2021-01-15 09:41:36.52\",\"2021-01-15 09:41:37.536\",\"2021-01-15 09:41:38.551\",\"2021-01-15 09:41:39.566\",\"2021-01-15 09:41:40.582\",\"2021-01-15 09:41:41.597\",\"2021-01-15 09:41:42.613\",\"2021-01-15 09:41:43.628\",\"2021-01-15 09:41:44.643\",\"2021-01-15 09:41:45.645\",\"2021-01-15 09:41:46.66\",\"2021-01-15 09:41:47.675\",\"2021-01-15 09:41:48.691\",\"2021-01-15 09:41:49.706\",\"2021-01-15 09:41:50.721\",\"2021-01-15 09:41:51.737\",\"2021-01-15 09:41:52.752\",\"2021-01-15 09:41:53.768\",\"2021-01-15 09:41:54.783\",\"2021-01-15 09:41:55.798\",\"2021-01-15 09:41:56.814\",\"2021-01-15 09:41:57.829\",\"2021-01-15 09:41:58.845\",\"2021-01-15 09:41:59.86\",\"2021-01-15 09:42:00.861\",\"2021-01-15 09:42:01.877\",\"2021-01-15 09:42:02.892\",\"2021-01-15 09:42:03.907\",\"2021-01-15 09:42:04.923\",\"2021-01-15 09:42:05.938\",\"2021-01-15 09:42:06.954\",\"2021-01-15 09:42:07.969\",\"2021-01-15 09:42:08.984\",\"2021-01-15 09:42:10\",\"2021-01-15 09:42:11.015\",\"2021-01-15 09:42:12.031\",\"2021-01-15 09:42:13.046\",\"2021-01-15 09:42:14.061\",\"2021-01-15 09:42:15.077\",\"2021-01-15 09:42:16.078\",\"2021-01-15 09:42:17.093\",\"2021-01-15 09:42:18.109\",\"2021-01-15 09:42:19.124\",\"2021-01-15 09:42:20.14\",\"2021-01-15 09:42:21.155\",\"2021-01-15 09:42:22.17\",\"2021-01-15 09:42:23.186\",\"2021-01-15 09:42:24.201\",\"2021-01-15 09:42:25.216\",\"2021-01-15 09:42:26.232\",\"2021-01-15 09:42:27.247\",\"2021-01-15 09:42:28.263\",\"2021-01-15 09:42:29.278\",\"2021-01-15 09:42:30.28\",\"2021-01-15 09:42:31.295\",\"2021-01-15 09:42:32.31\",\"2021-01-15 09:42:33.326\",\"2021-01-15 09:42:34.341\",\"2021-01-15 09:42:35.356\",\"2021-01-15 09:42:36.372\",\"2021-01-15 09:42:37.387\",\"2021-01-15 09:42:38.403\",\"2021-01-15 09:42:39.418\",\"2021-01-15 09:42:40.433\",\"2021-01-15 09:42:41.449\",\"2021-01-15 09:42:42.464\",\"2021-01-15 09:42:43.48\",\"2021-01-15 09:42:44.495\",\"2021-01-15 09:42:45.496\",\"2021-01-15 09:42:46.512\",\"2021-01-15 09:42:47.527\",\"2021-01-15 09:42:48.543\",\"2021-01-15 09:42:49.558\",\"2021-01-15 09:42:50.573\",\"2021-01-15 09:42:51.589\",\"2021-01-15 09:42:52.604\",\"2021-01-15 09:42:53.62\",\"2021-01-15 09:42:54.635\",\"2021-01-15 09:42:55.65\",\"2021-01-15 09:42:56.666\",\"2021-01-15 09:42:57.681\",\"2021-01-15 09:42:58.696\",\"2021-01-15 09:42:59.712\",\"2021-01-15 09:43:00.713\",\"2021-01-15 09:43:01.729\",\"2021-01-15 09:43:02.744\",\"2021-01-15 09:43:03.759\",\"2021-01-15 09:43:04.775\",\"2021-01-15 09:43:05.79\",\"2021-01-15 09:43:06.806\",\"2021-01-15 09:43:07.821\",\"2021-01-15 09:43:08.836\",\"2021-01-15 09:43:09.852\",\"2021-01-15 09:43:10.867\",\"2021-01-15 09:43:11.882\",\"2021-01-15 09:43:12.898\",\"2021-01-15 09:43:13.913\",\"2021-01-15 09:43:14.929\",\"2021-01-15 09:43:15.936\",\"2021-01-15 09:43:16.951\",\"2021-01-15 09:43:17.967\",\"2021-01-15 09:43:18.982\",\"2021-01-15 09:43:19.997\",\"2021-01-15 09:43:21.013\",\"2021-01-15 09:43:22.028\",\"2021-01-15 09:43:23.043\",\"2021-01-15 09:43:24.059\",\"2021-01-15 09:43:25.074\",\"2021-01-15 09:43:26.09\",\"2021-01-15 09:43:27.105\",\"2021-01-15 09:43:28.12\",\"2021-01-15 09:43:29.136\",\"2021-01-15 09:43:30.151\",\"2021-01-15 09:43:31.153\",\"2021-01-15 09:43:32.168\",\"2021-01-15 09:43:33.183\",\"2021-01-15 09:43:34.198\",\"2021-01-15 09:43:35.214\",\"2021-01-15 09:43:36.229\",\"2021-01-15 09:43:37.245\",\"2021-01-15 09:43:38.26\",\"2021-01-15 09:43:39.276\",\"2021-01-15 09:43:40.291\",\"2021-01-15 09:43:41.307\",\"2021-01-15 09:43:42.322\",\"2021-01-15 09:43:43.337\",\"2021-01-15 09:43:44.353\",\"2021-01-15 09:43:45.354\",\"2021-01-15 09:43:46.369\",\"2021-01-15 09:43:47.385\",\"2021-01-15 09:43:48.4\",\"2021-01-15 09:43:49.415\",\"2021-01-15 09:43:50.431\",\"2021-01-15 09:43:51.446\",\"2021-01-15 09:43:52.462\",\"2021-01-15 09:43:53.477\",\"2021-01-15 09:43:54.492\",\"2021-01-15 09:43:55.508\",\"2021-01-15 09:43:56.523\",\"2021-01-15 09:43:57.538\",\"2021-01-15 09:43:58.554\",\"2021-01-15 09:43:59.569\",\"2021-01-15 09:44:00.57\",\"2021-01-15 09:44:01.586\",\"2021-01-15 09:44:02.601\",\"2021-01-15 09:44:03.617\",\"2021-01-15 09:44:04.629\",\"2021-01-15 09:44:05.644\",\"2021-01-15 09:44:06.66\",\"2021-01-15 09:44:07.675\",\"2021-01-15 09:44:08.691\",\"2021-01-15 09:44:09.706\",\"2021-01-15 09:44:10.721\",\"2021-01-15 09:44:11.737\",\"2021-01-15 09:44:12.752\",\"2021-01-15 09:44:13.768\",\"2021-01-15 09:44:14.783\",\"2021-01-15 09:44:15.784\",\"2021-01-15 09:44:16.8\",\"2021-01-15 09:44:17.815\",\"2021-01-15 09:44:18.83\",\"2021-01-15 09:44:19.846\",\"2021-01-15 09:44:20.861\",\"2021-01-15 09:44:21.877\",\"2021-01-15 09:44:22.892\",\"2021-01-15 09:44:23.907\",\"2021-01-15 09:44:24.923\",\"2021-01-15 09:44:25.938\",\"2021-01-15 09:44:26.954\",\"2021-01-15 09:44:27.969\",\"2021-01-15 09:44:28.984\",\"2021-01-15 09:44:30\",\"2021-01-15 09:44:31.001\",\"2021-01-15 09:44:32.016\",\"2021-01-15 09:44:33.032\",\"2021-01-15 09:44:34.047\",\"2021-01-15 09:44:35.062\",\"2021-01-15 09:44:36.078\",\"2021-01-15 09:44:37.093\",\"2021-01-15 09:44:38.109\",\"2021-01-15 09:44:39.124\",\"2021-01-15 09:44:40.139\",\"2021-01-15 09:44:41.155\",\"2021-01-15 09:44:42.17\",\"2021-01-15 09:44:43.185\",\"2021-01-15 09:44:44.201\",\"2021-01-15 09:44:45.202\",\"2021-01-15 09:44:46.218\",\"2021-01-15 09:44:47.233\",\"2021-01-15 09:44:48.248\",\"2021-01-15 09:44:49.264\",\"2021-01-15 09:44:50.279\",\"2021-01-15 09:44:51.294\",\"2021-01-15 09:44:52.31\",\"2021-01-15 09:44:53.325\",\"2021-01-15 09:44:54.341\",\"2021-01-15 09:44:55.356\",\"2021-01-15 09:44:56.371\",\"2021-01-15 09:44:57.387\",\"2021-01-15 09:44:58.402\",\"2021-01-15 09:44:59.418\",\"2021-01-15 09:45:00.419\",\"2021-01-15 09:45:01.434\",\"2021-01-15 09:45:02.45\",\"2021-01-15 09:45:03.465\",\"2021-01-15 09:45:04.481\",\"2021-01-15 09:45:05.496\",\"2021-01-15 09:45:06.511\",\"2021-01-15 09:45:07.527\",\"2021-01-15 09:45:08.542\",\"2021-01-15 09:45:09.557\",\"2021-01-15 09:45:10.573\",\"2021-01-15 09:45:11.588\",\"2021-01-15 09:45:12.604\",\"2021-01-15 09:45:13.619\",\"2021-01-15 09:45:14.634\",\"2021-01-15 09:45:15.636\",\"2021-01-15 09:45:16.651\",\"2021-01-15 09:45:17.666\",\"2021-01-15 09:45:18.682\",\"2021-01-15 09:45:19.697\",\"2021-01-15 09:45:20.713\",\"2021-01-15 09:45:21.728\",\"2021-01-15 09:45:22.743\",\"2021-01-15 09:45:23.759\",\"2021-01-15 09:45:24.774\",\"2021-01-15 09:45:25.789\",\"2021-01-15 09:45:26.805\",\"2021-01-15 09:45:27.82\",\"2021-01-15 09:45:28.836\",\"2021-01-15 09:45:29.851\",\"2021-01-15 09:45:30.859\",\"2021-01-15 09:45:31.874\",\"2021-01-15 09:45:32.889\",\"2021-01-15 09:45:33.905\",\"2021-01-15 09:45:34.92\",\"2021-01-15 09:45:35.935\",\"2021-01-15 09:45:36.951\",\"2021-01-15 09:45:37.966\",\"2021-01-15 09:45:38.982\",\"2021-01-15 09:45:39.997\",\"2021-01-15 09:45:41.012\",\"2021-01-15 09:45:42.028\",\"2021-01-15 09:45:43.043\",\"2021-01-15 09:45:44.059\",\"2021-01-15 09:45:45.074\",\"2021-01-15 09:45:46.075\",\"2021-01-15 09:45:47.09\",\"2021-01-15 09:45:48.106\",\"2021-01-15 09:45:49.121\",\"2021-01-15 09:45:50.137\",\"2021-01-15 09:45:51.152\",\"2021-01-15 09:45:52.167\",\"2021-01-15 09:45:53.183\",\"2021-01-15 09:45:54.198\",\"2021-01-15 09:45:55.213\",\"2021-01-15 09:45:56.229\",\"2021-01-15 09:45:57.244\",\"2021-01-15 09:45:58.259\",\"2021-01-15 09:45:59.275\",\"2021-01-15 09:46:00.276\",\"2021-01-15 09:46:01.291\",\"2021-01-15 09:46:02.307\",\"2021-01-15 09:46:03.322\",\"2021-01-15 09:46:04.338\",\"2021-01-15 09:46:05.353\",\"2021-01-15 09:46:06.369\",\"2021-01-15 09:46:07.384\",\"2021-01-15 09:46:08.399\",\"2021-01-15 09:46:09.415\",\"2021-01-15 09:46:10.43\",\"2021-01-15 09:46:11.446\",\"2021-01-15 09:46:12.461\",\"2021-01-15 09:46:13.477\",\"2021-01-15 09:46:14.492\",\"2021-01-15 09:46:15.493\",\"2021-01-15 09:46:16.508\",\"2021-01-15 09:46:17.524\",\"2021-01-15 09:46:18.539\",\"2021-01-15 09:46:19.555\",\"2021-01-15 09:46:20.57\",\"2021-01-15 09:46:21.585\",\"2021-01-15 09:46:22.601\",\"2021-01-15 09:46:23.616\",\"2021-01-15 09:46:24.632\",\"2021-01-15 09:46:25.647\",\"2021-01-15 09:46:26.662\",\"2021-01-15 09:46:27.678\",\"2021-01-15 09:46:28.693\",\"2021-01-15 09:46:29.709\",\"2021-01-15 09:46:30.71\",\"2021-01-15 09:46:31.725\",\"2021-01-15 09:46:32.725\",\"2021-01-15 09:46:33.74\",\"2021-01-15 09:46:34.756\",\"2021-01-15 09:46:35.771\",\"2021-01-15 09:46:36.786\",\"2021-01-15 09:46:37.802\",\"2021-01-15 09:46:38.817\",\"2021-01-15 09:46:39.833\",\"2021-01-15 09:46:40.848\",\"2021-01-15 09:46:41.864\",\"2021-01-15 09:46:42.879\",\"2021-01-15 09:46:43.894\",\"2021-01-15 09:46:44.91\",\"2021-01-15 09:46:45.911\",\"2021-01-15 09:46:46.926\",\"2021-01-15 09:46:47.942\",\"2021-01-15 09:46:48.957\",\"2021-01-15 09:46:49.973\",\"2021-01-15 09:46:50.988\",\"2021-01-15 09:46:52.003\",\"2021-01-15 09:46:53.019\",\"2021-01-15 09:46:54.034\",\"2021-01-15 09:46:55.049\",\"2021-01-15 09:46:56.065\",\"2021-01-15 09:46:57.08\",\"2021-01-15 09:46:58.096\",\"2021-01-15 09:46:59.111\",\"2021-01-15 09:47:00.126\",\"2021-01-15 09:47:01.128\",\"2021-01-15 09:47:02.143\",\"2021-01-15 09:47:03.158\",\"2021-01-15 09:47:04.174\",\"2021-01-15 09:47:05.189\",\"2021-01-15 09:47:06.205\",\"2021-01-15 09:47:07.22\",\"2021-01-15 09:47:08.235\",\"2021-01-15 09:47:09.251\",\"2021-01-15 09:47:10.266\",\"2021-01-15 09:47:11.281\",\"2021-01-15 09:47:12.297\",\"2021-01-15 09:47:13.312\",\"2021-01-15 09:47:14.328\",\"2021-01-15 09:47:15.333\",\"2021-01-15 09:47:16.349\",\"2021-01-15 09:47:17.35\",\"2021-01-15 09:47:18.365\",\"2021-01-15 09:47:19.367\",\"2021-01-15 09:47:20.379\",\"2021-01-15 09:47:21.38\",\"2021-01-15 09:47:22.396\",\"2021-01-15 09:47:23.411\",\"2021-01-15 09:47:24.426\",\"2021-01-15 09:47:25.428\",\"2021-01-15 09:47:26.443\",\"2021-01-15 09:47:27.458\",\"2021-01-15 09:47:28.474\",\"2021-01-15 09:47:29.489\",\"2021-01-15 09:47:30.491\",\"2021-01-15 09:47:31.506\",\"2021-01-15 09:47:32.522\",\"2021-01-15 09:47:33.537\",\"2021-01-15 09:47:34.552\",\"2021-01-15 09:47:35.567\",\"2021-01-15 09:47:36.568\",\"2021-01-15 09:47:37.583\",\"2021-01-15 09:47:38.598\",\"2021-01-15 09:47:39.614\",\"2021-01-15 09:47:40.629\",\"2021-01-15 09:47:41.644\",\"2021-01-15 09:47:42.66\",\"2021-01-15 09:47:43.675\",\"2021-01-15 09:47:44.69\",\"2021-01-15 09:47:45.7\",\"2021-01-15 09:47:46.715\",\"2021-01-15 09:47:47.731\",\"2021-01-15 09:47:48.746\",\"2021-01-15 09:47:49.762\",\"2021-01-15 09:47:50.777\",\"2021-01-15 09:47:51.792\",\"2021-01-15 09:47:52.808\",\"2021-01-15 09:47:53.823\",\"2021-01-15 09:47:54.839\",\"2021-01-15 09:47:55.854\",\"2021-01-15 09:47:56.869\",\"2021-01-15 09:47:57.884\",\"2021-01-15 09:47:58.9\",\"2021-01-15 09:47:59.915\",\"2021-01-15 09:48:00.917\",\"2021-01-15 09:48:01.932\",\"2021-01-15 09:48:02.948\",\"2021-01-15 09:48:03.963\",\"2021-01-15 09:48:04.978\",\"2021-01-15 09:48:05.994\",\"2021-01-15 09:48:07.009\",\"2021-01-15 09:48:08.025\",\"2021-01-15 09:48:09.04\",\"2021-01-15 09:48:10.055\",\"2021-01-15 09:48:11.071\",\"2021-01-15 09:48:12.086\",\"2021-01-15 09:48:13.101\",\"2021-01-15 09:48:14.117\",\"2021-01-15 09:48:15.132\",\"2021-01-15 09:48:16.133\",\"2021-01-15 09:48:17.149\",\"2021-01-15 09:48:18.164\",\"2021-01-15 09:48:19.179\",\"2021-01-15 09:48:20.195\",\"2021-01-15 09:48:21.21\",\"2021-01-15 09:48:22.226\",\"2021-01-15 09:48:23.241\",\"2021-01-15 09:48:24.257\",\"2021-01-15 09:48:25.272\",\"2021-01-15 09:48:26.287\",\"2021-01-15 09:48:27.303\",\"2021-01-15 09:48:28.318\",\"2021-01-15 09:48:29.334\",\"2021-01-15 09:48:30.335\",\"2021-01-15 09:48:31.35\",\"2021-01-15 09:48:32.366\",\"2021-01-15 09:48:33.381\",\"2021-01-15 09:48:34.396\",\"2021-01-15 09:48:35.412\",\"2021-01-15 09:48:36.427\",\"2021-01-15 09:48:37.443\",\"2021-01-15 09:48:38.458\",\"2021-01-15 09:48:39.473\",\"2021-01-15 09:48:40.489\",\"2021-01-15 09:48:41.504\",\"2021-01-15 09:48:42.52\",\"2021-01-15 09:48:43.535\",\"2021-01-15 09:48:44.55\",\"2021-01-15 09:48:45.552\",\"2021-01-15 09:48:46.567\",\"2021-01-15 09:48:47.582\",\"2021-01-15 09:48:48.598\",\"2021-01-15 09:48:49.613\",\"2021-01-15 09:48:50.629\",\"2021-01-15 09:48:51.644\",\"2021-01-15 09:48:52.659\",\"2021-01-15 09:48:53.675\",\"2021-01-15 09:48:54.69\",\"2021-01-15 09:48:55.706\",\"2021-01-15 09:48:56.721\",\"2021-01-15 09:48:57.736\",\"2021-01-15 09:48:58.752\",\"2021-01-15 09:48:59.767\",\"2021-01-15 09:49:00.768\",\"2021-01-15 09:49:01.784\",\"2021-01-15 09:49:02.799\",\"2021-01-15 09:49:03.815\",\"2021-01-15 09:49:04.83\",\"2021-01-15 09:49:05.845\",\"2021-01-15 09:49:06.861\",\"2021-01-15 09:49:07.876\",\"2021-01-15 09:49:08.892\",\"2021-01-15 09:49:09.907\",\"2021-01-15 09:49:10.922\",\"2021-01-15 09:49:11.938\",\"2021-01-15 09:49:12.953\",\"2021-01-15 09:49:13.968\",\"2021-01-15 09:49:14.984\",\"2021-01-15 09:49:15.985\",\"2021-01-15 09:49:17\",\"2021-01-15 09:49:18.016\",\"2021-01-15 09:49:19.031\",\"2021-01-15 09:49:20.047\",\"2021-01-15 09:49:21.062\",\"2021-01-15 09:49:22.077\",\"2021-01-15 09:49:23.093\",\"2021-01-15 09:49:24.108\",\"2021-01-15 09:49:25.124\",\"2021-01-15 09:49:26.139\",\"2021-01-15 09:49:27.154\",\"2021-01-15 09:49:28.17\",\"2021-01-15 09:49:29.185\",\"2021-01-15 09:49:30.187\",\"2021-01-15 09:49:31.202\",\"2021-01-15 09:49:32.218\",\"2021-01-15 09:49:33.233\",\"2021-01-15 09:49:34.248\",\"2021-01-15 09:49:35.264\",\"2021-01-15 09:49:36.279\",\"2021-01-15 09:49:37.294\",\"2021-01-15 09:49:38.31\",\"2021-01-15 09:49:39.325\",\"2021-01-15 09:49:40.341\",\"2021-01-15 09:49:41.356\",\"2021-01-15 09:49:42.371\",\"2021-01-15 09:49:43.387\",\"2021-01-15 09:49:44.402\",\"2021-01-15 09:49:45.403\",\"2021-01-15 09:49:46.419\",\"2021-01-15 09:49:47.434\",\"2021-01-15 09:49:48.449\",\"2021-01-15 09:49:49.465\",\"2021-01-15 09:49:50.48\",\"2021-01-15 09:49:51.496\",\"2021-01-15 09:49:52.511\",\"2021-01-15 09:49:53.526\",\"2021-01-15 09:49:54.541\",\"2021-01-15 09:49:55.557\",\"2021-01-15 09:49:56.572\",\"2021-01-15 09:49:57.588\",\"2021-01-15 09:49:58.603\",\"2021-01-15 09:49:59.619\",\"2021-01-15 09:50:00.626\",\"2021-01-15 09:50:01.641\",\"2021-01-15 09:50:02.657\",\"2021-01-15 09:50:03.672\",\"2021-01-15 09:50:04.688\",\"2021-01-15 09:50:05.703\",\"2021-01-15 09:50:06.718\",\"2021-01-15 09:50:07.734\",\"2021-01-15 09:50:08.749\",\"2021-01-15 09:50:09.765\",\"2021-01-15 09:50:10.78\",\"2021-01-15 09:50:11.795\",\"2021-01-15 09:50:12.811\",\"2021-01-15 09:50:13.826\",\"2021-01-15 09:50:14.842\",\"2021-01-15 09:50:15.843\",\"2021-01-15 09:50:16.858\",\"2021-01-15 09:50:17.874\",\"2021-01-15 09:50:18.889\",\"2021-01-15 09:50:19.904\",\"2021-01-15 09:50:20.92\",\"2021-01-15 09:50:21.935\",\"2021-01-15 09:50:22.951\",\"2021-01-15 09:50:23.966\",\"2021-01-15 09:50:24.981\",\"2021-01-15 09:50:25.997\",\"2021-01-15 09:50:27.012\",\"2021-01-15 09:50:28.027\",\"2021-01-15 09:50:29.043\",\"2021-01-15 09:50:30.058\",\"2021-01-15 09:50:31.06\",\"2021-01-15 09:50:32.075\",\"2021-01-15 09:50:33.09\",\"2021-01-15 09:50:34.106\",\"2021-01-15 09:50:35.121\",\"2021-01-15 09:50:36.137\",\"2021-01-15 09:50:37.152\",\"2021-01-15 09:50:38.167\",\"2021-01-15 09:50:39.183\",\"2021-01-15 09:50:40.198\",\"2021-01-15 09:50:41.213\",\"2021-01-15 09:50:42.229\",\"2021-01-15 09:50:43.244\",\"2021-01-15 09:50:44.26\",\"2021-01-15 09:50:45.261\",\"2021-01-15 09:50:46.276\",\"2021-01-15 09:50:47.292\",\"2021-01-15 09:50:48.307\",\"2021-01-15 09:50:49.322\",\"2021-01-15 09:50:50.338\",\"2021-01-15 09:50:51.353\",\"2021-01-15 09:50:52.369\",\"2021-01-15 09:50:53.384\",\"2021-01-15 09:50:54.399\",\"2021-01-15 09:50:55.415\",\"2021-01-15 09:50:56.43\",\"2021-01-15 09:50:57.445\",\"2021-01-15 09:50:58.461\",\"2021-01-15 09:50:59.476\",\"2021-01-15 09:51:00.478\",\"2021-01-15 09:51:01.493\",\"2021-01-15 09:51:02.508\",\"2021-01-15 09:51:03.524\",\"2021-01-15 09:51:04.539\",\"2021-01-15 09:51:05.555\",\"2021-01-15 09:51:06.57\",\"2021-01-15 09:51:07.585\",\"2021-01-15 09:51:08.601\",\"2021-01-15 09:51:09.616\",\"2021-01-15 09:51:10.632\",\"2021-01-15 09:51:11.647\",\"2021-01-15 09:51:12.662\",\"2021-01-15 09:51:13.678\",\"2021-01-15 09:51:14.693\",\"2021-01-15 09:51:15.694\",\"2021-01-15 09:51:16.71\",\"2021-01-15 09:51:17.725\",\"2021-01-15 09:51:18.741\",\"2021-01-15 09:51:19.756\",\"2021-01-15 09:51:20.771\",\"2021-01-15 09:51:21.787\",\"2021-01-15 09:51:22.802\",\"2021-01-15 09:51:23.818\",\"2021-01-15 09:51:24.833\",\"2021-01-15 09:51:25.848\",\"2021-01-15 09:51:26.864\",\"2021-01-15 09:51:27.879\",\"2021-01-15 09:51:28.894\",\"2021-01-15 09:51:29.91\",\"2021-01-15 09:51:30.911\",\"2021-01-15 09:51:31.927\",\"2021-01-15 09:51:32.942\",\"2021-01-15 09:51:33.957\",\"2021-01-15 09:51:34.973\",\"2021-01-15 09:51:35.988\",\"2021-01-15 09:51:37.003\",\"2021-01-15 09:51:38.019\",\"2021-01-15 09:51:39.034\",\"2021-01-15 09:51:40.05\",\"2021-01-15 09:51:41.065\",\"2021-01-15 09:51:42.081\",\"2021-01-15 09:51:43.096\",\"2021-01-15 09:51:44.111\",\"2021-01-15 09:51:45.127\",\"2021-01-15 09:51:46.127\",\"2021-01-15 09:51:47.143\",\"2021-01-15 09:51:48.158\",\"2021-01-15 09:51:49.174\",\"2021-01-15 09:51:50.189\",\"2021-01-15 09:51:51.204\",\"2021-01-15 09:51:52.22\",\"2021-01-15 09:51:53.235\",\"2021-01-15 09:51:54.251\",\"2021-01-15 09:51:55.266\",\"2021-01-15 09:51:56.281\",\"2021-01-15 09:51:57.297\",\"2021-01-15 09:51:58.312\",\"2021-01-15 09:51:59.328\",\"2021-01-15 09:52:00.329\",\"2021-01-15 09:52:01.344\",\"2021-01-15 09:52:02.36\",\"2021-01-15 09:52:03.375\",\"2021-01-15 09:52:04.39\",\"2021-01-15 09:52:05.406\",\"2021-01-15 09:52:06.421\",\"2021-01-15 09:52:07.436\",\"2021-01-15 09:52:08.452\",\"2021-01-15 09:52:09.467\",\"2021-01-15 09:52:10.483\",\"2021-01-15 09:52:11.498\",\"2021-01-15 09:52:12.513\",\"2021-01-15 09:52:13.529\",\"2021-01-15 09:52:14.544\",\"2021-01-15 09:52:15.553\",\"2021-01-15 09:52:16.568\",\"2021-01-15 09:52:17.583\",\"2021-01-15 09:52:18.599\",\"2021-01-15 09:52:19.614\",\"2021-01-15 09:52:20.629\",\"2021-01-15 09:52:21.645\",\"2021-01-15 09:52:22.66\",\"2021-01-15 09:52:23.676\",\"2021-01-15 09:52:24.691\",\"2021-01-15 09:52:25.706\",\"2021-01-15 09:52:26.721\",\"2021-01-15 09:52:27.737\",\"2021-01-15 09:52:28.752\",\"2021-01-15 09:52:29.768\",\"2021-01-15 09:52:30.769\",\"2021-01-15 09:52:31.785\",\"2021-01-15 09:52:32.8\",\"2021-01-15 09:52:33.815\",\"2021-01-15 09:52:34.83\",\"2021-01-15 09:52:35.846\",\"2021-01-15 09:52:36.862\",\"2021-01-15 09:52:37.877\",\"2021-01-15 09:52:38.892\",\"2021-01-15 09:52:39.908\",\"2021-01-15 09:52:40.923\",\"2021-01-15 09:52:41.938\",\"2021-01-15 09:52:43.969\",\"2021-01-15 09:52:44.985\",\"2021-01-15 09:52:45.986\",\"2021-01-15 09:52:47.001\",\"2021-01-15 09:52:48.016\",\"2021-01-15 09:52:49.032\",\"2021-01-15 09:52:50.047\",\"2021-01-15 09:52:51.063\",\"2021-01-15 09:52:52.078\",\"2021-01-15 09:52:53.093\",\"2021-01-15 09:52:54.109\",\"2021-01-15 09:52:55.124\",\"2021-01-15 09:52:56.14\",\"2021-01-15 09:52:57.155\",\"2021-01-15 09:52:58.17\",\"2021-01-15 09:52:59.186\",\"2021-01-15 09:53:00.187\",\"2021-01-15 09:53:01.202\",\"2021-01-15 09:53:02.218\",\"2021-01-15 09:53:03.233\",\"2021-01-15 09:53:04.249\",\"2021-01-15 09:53:05.264\",\"2021-01-15 09:53:06.279\",\"2021-01-15 09:53:07.295\",\"2021-01-15 09:53:08.31\",\"2021-01-15 09:53:09.326\",\"2021-01-15 09:53:10.341\",\"2021-01-15 09:53:11.356\",\"2021-01-15 09:53:12.372\",\"2021-01-15 09:53:13.387\",\"2021-01-15 09:53:14.402\",\"2021-01-15 09:53:15.404\",\"2021-01-15 09:53:16.419\",\"2021-01-15 09:53:17.434\",\"2021-01-15 09:53:18.45\",\"2021-01-15 09:53:19.465\",\"2021-01-15 09:53:20.481\",\"2021-01-15 09:53:21.496\",\"2021-01-15 09:53:22.511\",\"2021-01-15 09:53:23.527\",\"2021-01-15 09:53:24.542\",\"2021-01-15 09:53:25.558\",\"2021-01-15 09:53:26.573\",\"2021-01-15 09:53:27.588\",\"2021-01-15 09:53:28.604\",\"2021-01-15 09:53:29.619\",\"2021-01-15 09:53:30.62\",\"2021-01-15 09:53:31.636\",\"2021-01-15 09:53:32.651\",\"2021-01-15 09:53:33.667\",\"2021-01-15 09:53:34.682\",\"2021-01-15 09:53:35.697\",\"2021-01-15 09:53:36.713\",\"2021-01-15 09:53:37.728\",\"2021-01-15 09:53:38.743\",\"2021-01-15 09:53:39.759\",\"2021-01-15 09:53:40.774\",\"2021-01-15 09:53:41.79\",\"2021-01-15 09:53:42.805\",\"2021-01-15 09:53:43.82\",\"2021-01-15 09:53:44.836\",\"2021-01-15 09:53:45.837\",\"2021-01-15 09:53:46.852\",\"2021-01-15 09:53:47.868\",\"2021-01-15 09:53:48.883\",\"2021-01-15 09:53:49.898\",\"2021-01-15 09:53:50.914\",\"2021-01-15 09:53:51.929\",\"2021-01-15 09:53:52.945\",\"2021-01-15 09:53:53.96\",\"2021-01-15 09:53:54.975\",\"2021-01-15 09:53:55.991\",\"2021-01-15 09:53:57.006\",\"2021-01-15 09:53:58.022\",\"2021-01-15 09:53:59.037\",\"2021-01-15 09:54:00.052\",\"2021-01-15 09:54:01.054\",\"2021-01-15 09:54:02.069\",\"2021-01-15 09:54:03.084\",\"2021-01-15 09:54:04.1\",\"2021-01-15 09:54:05.111\",\"2021-01-15 09:54:06.127\",\"2021-01-15 09:54:07.142\",\"2021-01-15 09:54:08.157\",\"2021-01-15 09:54:09.173\",\"2021-01-15 09:54:10.188\",\"2021-01-15 09:54:11.204\",\"2021-01-15 09:54:12.219\",\"2021-01-15 09:54:13.234\",\"2021-01-15 09:54:14.25\",\"2021-01-15 09:54:15.251\",\"2021-01-15 09:54:16.267\",\"2021-01-15 09:54:17.282\",\"2021-01-15 09:54:18.297\",\"2021-01-15 09:54:19.313\",\"2021-01-15 09:54:20.328\",\"2021-01-15 09:54:21.343\",\"2021-01-15 09:54:22.359\",\"2021-01-15 09:54:23.374\",\"2021-01-15 09:54:24.39\",\"2021-01-15 09:54:25.405\",\"2021-01-15 09:54:26.42\",\"2021-01-15 09:54:27.436\",\"2021-01-15 09:54:28.451\",\"2021-01-15 09:54:29.467\",\"2021-01-15 09:54:30.472\",\"2021-01-15 09:54:31.487\",\"2021-01-15 09:54:32.502\",\"2021-01-15 09:54:33.518\",\"2021-01-15 09:54:34.533\",\"2021-01-15 09:54:35.548\",\"2021-01-15 09:54:36.564\",\"2021-01-15 09:54:37.579\",\"2021-01-15 09:54:38.595\",\"2021-01-15 09:54:39.61\",\"2021-01-15 09:54:40.626\",\"2021-01-15 09:54:41.641\",\"2021-01-15 09:54:42.656\",\"2021-01-15 09:54:43.672\",\"2021-01-15 09:54:44.687\",\"2021-01-15 09:54:45.688\",\"2021-01-15 09:54:46.704\",\"2021-01-15 09:54:47.719\",\"2021-01-15 09:54:48.734\",\"2021-01-15 09:54:49.75\",\"2021-01-15 09:54:50.765\",\"2021-01-15 09:54:51.781\",\"2021-01-15 09:54:52.796\",\"2021-01-15 09:54:53.812\",\"2021-01-15 09:54:54.827\",\"2021-01-15 09:54:55.842\",\"2021-01-15 09:54:56.858\",\"2021-01-15 09:54:57.873\",\"2021-01-15 09:54:58.888\",\"2021-01-15 09:54:59.904\",\"2021-01-15 09:55:00.905\",\"2021-01-15 09:55:01.92\",\"2021-01-15 09:55:02.936\",\"2021-01-15 09:55:03.951\",\"2021-01-15 09:55:04.967\",\"2021-01-15 09:55:05.982\",\"2021-01-15 09:55:06.997\",\"2021-01-15 09:55:08.013\",\"2021-01-15 09:55:09.028\",\"2021-01-15 09:55:10.044\",\"2021-01-15 09:55:11.059\",\"2021-01-15 09:55:12.074\",\"2021-01-15 09:55:13.089\",\"2021-01-15 09:55:14.105\",\"2021-01-15 09:55:15.12\",\"2021-01-15 09:55:16.122\",\"2021-01-15 09:55:17.137\",\"2021-01-15 09:55:18.153\",\"2021-01-15 09:55:19.168\",\"2021-01-15 09:55:20.183\",\"2021-01-15 09:55:21.199\",\"2021-01-15 09:55:22.214\",\"2021-01-15 09:55:23.229\",\"2021-01-15 09:55:24.245\",\"2021-01-15 09:55:25.26\",\"2021-01-15 09:55:26.276\",\"2021-01-15 09:55:27.291\",\"2021-01-15 09:55:28.307\",\"2021-01-15 09:55:29.322\",\"2021-01-15 09:55:30.323\",\"2021-01-15 09:55:31.339\",\"2021-01-15 09:55:32.354\",\"2021-01-15 09:55:33.369\",\"2021-01-15 09:55:34.385\",\"2021-01-15 09:55:35.4\",\"2021-01-15 09:55:36.416\",\"2021-01-15 09:55:37.431\",\"2021-01-15 09:55:38.446\",\"2021-01-15 09:55:39.462\",\"2021-01-15 09:55:40.477\",\"2021-01-15 09:55:41.492\",\"2021-01-15 09:55:42.508\",\"2021-01-15 09:55:43.523\",\"2021-01-15 09:55:44.539\",\"2021-01-15 09:55:45.54\",\"2021-01-15 09:55:46.556\",\"2021-01-15 09:55:47.571\",\"2021-01-15 09:55:48.586\",\"2021-01-15 09:55:49.602\",\"2021-01-15 09:55:50.617\",\"2021-01-15 09:55:51.632\",\"2021-01-15 09:55:52.648\",\"2021-01-15 09:55:53.663\",\"2021-01-15 09:55:54.679\",\"2021-01-15 09:55:55.694\",\"2021-01-15 09:55:56.709\",\"2021-01-15 09:55:57.725\",\"2021-01-15 09:55:58.74\",\"2021-01-15 09:55:59.756\",\"2021-01-15 09:56:00.757\",\"2021-01-15 09:56:01.772\",\"2021-01-15 09:56:02.788\",\"2021-01-15 09:56:03.803\",\"2021-01-15 09:56:04.818\",\"2021-01-15 09:56:05.834\",\"2021-01-15 09:56:06.849\",\"2021-01-15 09:56:07.865\",\"2021-01-15 09:56:08.88\",\"2021-01-15 09:56:09.895\",\"2021-01-15 09:56:10.911\",\"2021-01-15 09:56:11.926\",\"2021-01-15 09:56:12.942\",\"2021-01-15 09:56:13.957\",\"2021-01-15 09:56:14.972\",\"2021-01-15 09:56:15.974\",\"2021-01-15 09:56:16.989\",\"2021-01-15 09:56:18.004\",\"2021-01-15 09:56:19.02\",\"2021-01-15 09:56:20.035\",\"2021-01-15 09:56:21.05\",\"2021-01-15 09:56:22.066\",\"2021-01-15 09:56:23.081\",\"2021-01-15 09:56:24.097\",\"2021-01-15 09:56:25.112\",\"2021-01-15 09:56:26.127\",\"2021-01-15 09:56:27.143\",\"2021-01-15 09:56:28.158\",\"2021-01-15 09:56:29.173\",\"2021-01-15 09:56:30.182\",\"2021-01-15 09:56:31.198\",\"2021-01-15 09:56:32.213\",\"2021-01-15 09:56:33.228\",\"2021-01-15 09:56:34.244\",\"2021-01-15 09:56:35.259\",\"2021-01-15 09:56:36.275\",\"2021-01-15 09:56:37.29\",\"2021-01-15 09:56:38.305\",\"2021-01-15 09:56:39.321\",\"2021-01-15 09:56:40.336\",\"2021-01-15 09:56:41.352\",\"2021-01-15 09:56:42.367\",\"2021-01-15 09:56:43.382\",\"2021-01-15 09:56:44.398\",\"2021-01-15 09:56:45.399\",\"2021-01-15 09:56:46.415\",\"2021-01-15 09:56:47.43\",\"2021-01-15 09:56:48.446\",\"2021-01-15 09:56:49.461\",\"2021-01-15 09:56:50.476\",\"2021-01-15 09:56:51.492\",\"2021-01-15 09:56:52.507\",\"2021-01-15 09:56:53.522\",\"2021-01-15 09:56:54.538\",\"2021-01-15 09:56:55.553\",\"2021-01-15 09:56:56.569\",\"2021-01-15 09:56:57.584\",\"2021-01-15 09:56:58.599\",\"2021-01-15 09:56:59.615\",\"2021-01-15 09:57:00.616\",\"2021-01-15 09:57:01.632\",\"2021-01-15 09:57:02.647\",\"2021-01-15 09:57:03.662\",\"2021-01-15 09:57:04.678\",\"2021-01-15 09:57:05.693\",\"2021-01-15 09:57:06.708\",\"2021-01-15 09:57:07.724\",\"2021-01-15 09:57:08.739\",\"2021-01-15 09:57:09.755\",\"2021-01-15 09:57:10.77\",\"2021-01-15 09:57:11.785\",\"2021-01-15 09:57:12.801\",\"2021-01-15 09:57:13.816\",\"2021-01-15 09:57:14.831\",\"2021-01-15 09:57:15.833\",\"2021-01-15 09:57:16.849\",\"2021-01-15 09:57:17.85\",\"2021-01-15 09:57:18.865\",\"2021-01-15 09:57:19.866\",\"2021-01-15 09:57:20.868\",\"2021-01-15 09:57:21.869\",\"2021-01-15 09:57:22.884\",\"2021-01-15 09:57:23.9\",\"2021-01-15 09:57:24.915\",\"2021-01-15 09:57:25.916\",\"2021-01-15 09:57:26.932\",\"2021-01-15 09:57:27.947\",\"2021-01-15 09:57:28.962\",\"2021-01-15 09:57:29.978\",\"2021-01-15 09:57:30.99\",\"2021-01-15 09:57:32.005\",\"2021-01-15 09:57:33.021\",\"2021-01-15 09:57:34.036\",\"2021-01-15 09:57:35.051\",\"2021-01-15 09:57:36.067\",\"2021-01-15 09:57:37.082\",\"2021-01-15 09:57:38.098\",\"2021-01-15 09:57:39.113\",\"2021-01-15 09:57:40.128\",\"2021-01-15 09:57:41.144\",\"2021-01-15 09:57:42.159\",\"2021-01-15 09:57:43.175\",\"2021-01-15 09:57:44.19\",\"2021-01-15 09:57:45.191\",\"2021-01-15 09:57:46.206\",\"2021-01-15 09:57:47.222\",\"2021-01-15 09:57:48.237\",\"2021-01-15 09:57:49.253\",\"2021-01-15 09:57:50.268\",\"2021-01-15 09:57:51.283\",\"2021-01-15 09:57:52.299\",\"2021-01-15 09:57:53.314\",\"2021-01-15 09:57:54.33\",\"2021-01-15 09:57:55.345\",\"2021-01-15 09:57:56.36\",\"2021-01-15 09:57:57.376\",\"2021-01-15 09:57:58.391\",\"2021-01-15 09:57:59.406\",\"2021-01-15 09:58:00.408\",\"2021-01-15 09:58:01.423\",\"2021-01-15 09:58:02.439\",\"2021-01-15 09:58:03.454\",\"2021-01-15 09:58:04.469\",\"2021-01-15 09:58:05.485\",\"2021-01-15 09:58:06.5\",\"2021-01-15 09:58:07.516\",\"2021-01-15 09:58:08.531\",\"2021-01-15 09:58:09.546\",\"2021-01-15 09:58:10.562\",\"2021-01-15 09:58:11.577\",\"2021-01-15 09:58:12.592\",\"2021-01-15 09:58:13.607\",\"2021-01-15 09:58:14.623\",\"2021-01-15 09:58:15.625\",\"2021-01-15 09:58:16.64\",\"2021-01-15 09:58:17.655\",\"2021-01-15 09:58:18.671\",\"2021-01-15 09:58:19.686\",\"2021-01-15 09:58:20.701\",\"2021-01-15 09:58:21.717\",\"2021-01-15 09:58:22.732\",\"2021-01-15 09:58:23.748\",\"2021-01-15 09:58:24.763\",\"2021-01-15 09:58:25.778\",\"2021-01-15 09:58:26.794\",\"2021-01-15 09:58:27.809\",\"2021-01-15 09:58:28.825\",\"2021-01-15 09:58:29.84\",\"2021-01-15 09:58:30.841\",\"2021-01-15 09:58:31.856\",\"2021-01-15 09:58:32.872\",\"2021-01-15 09:58:33.887\",\"2021-01-15 09:58:34.902\",\"2021-01-15 09:58:35.918\",\"2021-01-15 09:58:36.933\",\"2021-01-15 09:58:37.948\",\"2021-01-15 09:58:38.964\",\"2021-01-15 09:58:39.979\",\"2021-01-15 09:58:40.995\",\"2021-01-15 09:58:42.01\",\"2021-01-15 09:58:43.026\",\"2021-01-15 09:58:44.041\",\"2021-01-15 09:58:45.056\",\"2021-01-15 09:58:46.065\",\"2021-01-15 09:58:47.08\",\"2021-01-15 09:58:48.095\",\"2021-01-15 09:58:49.111\",\"2021-01-15 09:58:50.126\",\"2021-01-15 09:58:51.142\",\"2021-01-15 09:58:52.157\",\"2021-01-15 09:58:53.172\",\"2021-01-15 09:58:54.188\",\"2021-01-15 09:58:55.203\",\"2021-01-15 09:58:56.218\",\"2021-01-15 09:58:57.234\",\"2021-01-15 09:58:58.249\",\"2021-01-15 09:58:59.265\",\"2021-01-15 09:59:00.266\",\"2021-01-15 09:59:01.281\",\"2021-01-15 09:59:02.297\",\"2021-01-15 09:59:03.312\",\"2021-01-15 09:59:04.327\",\"2021-01-15 09:59:05.343\",\"2021-01-15 09:59:06.358\",\"2021-01-15 09:59:07.373\",\"2021-01-15 09:59:08.389\",\"2021-01-15 09:59:09.404\",\"2021-01-15 09:59:10.419\",\"2021-01-15 09:59:11.435\",\"2021-01-15 09:59:12.45\",\"2021-01-15 09:59:13.466\",\"2021-01-15 09:59:14.481\",\"2021-01-15 09:59:15.482\",\"2021-01-15 09:59:16.498\",\"2021-01-15 09:59:17.513\",\"2021-01-15 09:59:18.529\",\"2021-01-15 09:59:19.544\",\"2021-01-15 09:59:20.559\",\"2021-01-15 09:59:21.575\",\"2021-01-15 09:59:22.59\",\"2021-01-15 09:59:23.606\",\"2021-01-15 09:59:24.621\",\"2021-01-15 09:59:25.636\",\"2021-01-15 09:59:26.652\",\"2021-01-15 09:59:27.667\",\"2021-01-15 09:59:28.683\",\"2021-01-15 09:59:29.698\",\"2021-01-15 09:59:30.699\",\"2021-01-15 09:59:31.715\",\"2021-01-15 09:59:32.73\",\"2021-01-15 09:59:33.745\",\"2021-01-15 09:59:34.761\",\"2021-01-15 09:59:35.776\",\"2021-01-15 09:59:36.792\",\"2021-01-15 09:59:37.807\",\"2021-01-15 09:59:38.822\",\"2021-01-15 09:59:39.838\",\"2021-01-15 09:59:40.853\",\"2021-01-15 09:59:41.869\",\"2021-01-15 09:59:42.884\",\"2021-01-15 09:59:43.899\",\"2021-01-15 09:59:44.915\",\"2021-01-15 09:59:45.916\",\"2021-01-15 09:59:46.931\",\"2021-01-15 09:59:47.947\",\"2021-01-15 09:59:48.962\",\"2021-01-15 09:59:49.978\",\"2021-01-15 09:59:50.993\",\"2021-01-15 09:59:52.008\",\"2021-01-15 09:59:53.024\",\"2021-01-15 09:59:54.039\",\"2021-01-15 09:59:55.054\",\"2021-01-15 09:59:56.07\",\"2021-01-15 09:59:57.085\",\"2021-01-15 09:59:58.101\",\"2021-01-15 09:59:59.116\"],\"xaxis\":\"x\",\"y\":[508,508,508,508,508,508,508,508,508,508,508,508,508,508,508,508,508,508,508,508,508,508,508,508,508,508,508,508,508,508,508,508,508,508,508,508,508,508,508,508,508,508,508,508,508,508,508,508,508,508,508,508,508,508,508,508,508,508,508,508,508,508,508,508,508,509,509,509,510,510,510,510,510,510,510,511,511,511,511,511,511,512,512,512,512,513,513,513,513,513,514,514,514,515,515,515,515,515,515,515,515,515,515,515,515,515,515,515,515,515,515,515,515,515,515,515,515,515,515,515,515,515,515,515,515,515,515,515,515,515,515,516,516,516,516,516,516,516,517,517,517,517,517,517,517,517,518,518,518,518,519,519,519,520,520,520,520,521,521,521,521,521,521,521,522,522,523,523,523,523,523,523,523,523,523,523,523,523,523,523,523,523,523,523,523,523,523,523,523,523,523,523,523,523,523,523,523,523,523,523,523,523,523,523,523,524,524,524,524,524,524,524,524,524,525,525,525,525,525,525,525,525,525,525,525,525,525,525,525,525,525,526,526,526,526,526,527,527,527,527,527,527,528,528,528,528,528,528,528,528,528,528,528,528,528,528,528,528,528,528,528,528,528,528,528,528,528,528,528,528,528,528,528,528,528,528,528,529,529,529,529,529,529,529,529,529,529,529,529,529,529,529,529,529,529,529,529,529,529,529,529,529,529,529,529,529,529,529,529,529,529,529,529,529,529,529,530,530,530,530,530,530,530,530,531,531,531,532,532,533,533,533,533,533,533,533,533,533,533,533,533,533,533,533,533,533,533,533,533,533,533,533,533,533,533,534,534,534,534,534,534,536,536,536,536,536,536,536,536,536,536,536,536,536,536,536,536,536,536,536,536,536,536,536,536,536,536,536,536,536,536,536,536,536,536,536,536,536,536,536,536,536,536,537,537,537,537,537,537,537,537,537,537,537,537,537,537,537,537,537,538,538,538,538,539,540,540,540,540,540,540,540,540,540,540,540,540,540,540,540,540,540,540,540,541,541,541,541,542,542,542,542,543,544,544,545,545,545,545,545,545,545,545,545,545,545,545,545,545,545,545,545,545,545,546,546,546,546,546,546,546,546,546,546,546,546,546,546,546,546,547,548,548,548,548,548,548,548,549,549,549,549,549,549,549,549,549,549,549,549,549,549,549,549,549,549,549,549,549,549,549,549,549,549,549,549,549,549,549,549,549,549,549,549,549,549,549,549,549,549,549,549,549,549,549,549,549,549,549,549,549,549,549,549,549,549,549,549,549,549,549,549,549,549,549,549,549,549,549,549,549,550,550,550,550,551,551,551,552,552,552,552,552,552,552,552,553,553,553,553,553,553,553,553,553,553,553,553,553,553,553,553,553,553,553,553,553,553,553,553,553,553,554,554,554,554,554,554,554,554,554,554,554,554,554,554,554,554,555,555,555,555,555,555,555,555,555,555,555,555,555,555,555,555,555,555,555,555,555,555,555,555,555,555,555,555,555,555,555,555,555,555,556,557,557,557,557,557,557,557,557,558,558,558,559,559,559,559,559,559,559,559,560,560,560,560,561,561,562,562,562,562,562,562,563,563,563,564,564,565,565,565,565,565,565,565,566,566,566,566,566,566,567,567,567,567,567,567,567,567,567,567,567,567,567,567,567,567,567,568,568,568,568,568,568,568,569,569,569,569,569,569,569,569,569,569,569,569,569,569,569,569,569,569,569,569,569,569,569,569,569,569,569,569,569,569,570,570,570,570,570,570,570,571,571,571,571,571,571,571,571,571,571,571,571,571,571,571,571,571,571,571,571,572,572,572,572,572,572,572,572,574,574,574,574,574,574,574,574,574,574,575,575,575,575,575,575,575,575,575,576,576,577,577,577,577,577,577,577,577,577,577,577,578,578,578,578,579,579,579,579,579,579,579,579,579,579,579,579,579,579,579,579,579,579,579,579,579,580,580,580,580,580,580,580,580,580,580,580,580,580,580,580,580,580,580,580,580,580,580,580,580,580,580,580,580,580,580,580,580,580,580,580,580,580,580,580,580,580,580,580,580,580,580,580,580,580,580,580,580,580,580,580,580,582,582,582,582,582,582,582,582,582,582,584,585,585,585,585,586,586,586,586,587,587,587,588,588,588,588,588,588,588,588,588,588,588,588,588,588,588,588,588,588,588,588,588,588,588,588,588,588,588,588,588,588,588,588,588,588,588,588,588,588,588,588,588,588,588,588,588,589,589,589,589,589,589,589,589,589,589,590,590,590,590,591,592,592,592,592,592,592,592,592,592,592,592,592,592,592,592,593,593,593,593,593,594,594,594,594,594,594,594,594,594,594,594,594,595,595,595,595,596,596,596,596,596,596,596,596,597,597,597,597,597,597,597,597,597,597,597,597,597,597,597,597,597,597,597,597,597,598,598,598,598,598,598,598,598,598,598,598,598,598,598,598,598,598,598,598,598,598,598,599,599,599,599,599,599,599,600,600,600,600,600,600,600,600,600,600,600,600,601,601,601,601,602,602,602,602,602,602,602,602,602,602,602,602,602,602,602,602,603,603,603,603,603,603,603,603,603,603,603,603,603,603,603,603,603,603,603,604,605,605,605,605,605,605,605,605,605,605,605,605,605,605,605,605,605,606,606,606,606,606,606,606,606,606,606,606,607,607,607,607,607,608,608,608,608,608,608,608,608,608,608,609,609,609,609,609,610,610,610,610,610,610,610,610,610,610,611,611,611,611,611,611,611,611,611,611,611,612,612,612,612,612,612,612,612,612,612,612,612,612,612,612,612,612,612,612,612,612,613,613,613,613,613,613,613,613,613,613,613,613,613,613,613,613,613,613,614,614,614,614,614,614,614,614,614,614,614,614,614,614,614,614,615,615,616,616,617,617,617,617,617,617,617,617,618,618,618,618,618,618,618,618,619,620,620,620,620,620,620,620,620,620,620,620,620,620,620,620,620,620,620,620,620,620,620,620,620,620,620,620,621,621,621,621,621,621,621,621,621,621,621,621,621,621,621,621,621,621,621,621,621,621,621,621,621,621,621,622,622,622,622,622,622,622,622,622,622,622,622,622,622,622,622,622,622,622,622,622,622,622,622,622,622,622,622,623,623,623,623,623,623,623,623,623,623,623,623,623,623,623,623,623,623,623,623,623,623,624,625,625,625,626,626,626,626,626,626,626,626,626,626,626,626,626,626,626,626,626,626,626,626,626,626,626,626,626,626,626,626,626,626,626,627,627,627,627,627,628,628,628,629,629,629,629,629,629,629,629,629,629,629,630,630,630,630,630,630,630,630,630,630,630,630,630,630,630,630,630,630,630,630,631,631,631,631,631,631,631,631,631,632,632,632,632,633,633,633,633,633,633,633,633,634,634,634,635,635,635,635,635,635,635,635,635,635,635,635,635,635,635,635,635,635,635,635,636,636,636,636,636,636,636,636,636,636,636,636,636,636,636,636,636,636,636,636,636,636,636,636,636,636,636,636,636,636,636,636,636,636,636,636,636,636,636,636,636,636,636,636,636,636,636,636,636,636,636,636,636,636,636,636,636,636,636,636,636,637,638,638,638,639,639,639,639,639,639,639,639,640,640,640,640,640,641,641,641,641,641,641,641,641,641,642,642,642,642,642,642,642,642,642,642,642,642,642,642,642,642,642,642,642,642,642,642,642,642,642,642,642,642,642,642,642,642,642,642,643,643,643,643,643,643,643,643,643,643,643,643,643,643,643,643,643,643,643,643,643,643,643,643,643,643,643,643,643,643,643,643,643,643,643,643,643,643,643,643,643,643,643,643,643,643,643,643,643,643,643,643,643,643,643,643,643,643,643,643,643,643,643,643,643,643,643,643,643,643,643,643,643,643,643,643,643,643,643,643,643,643,643,643,643,643,643,643,643,643,643,643,643,644,644,644,644,645,645,645,645,645,645,645,645,645,645,645,646,646,646,647,647,647,647,647,647,647,647,647,648,648,648,648,648,648,649,649,649,650,650,650,650,650,650,651,651,651,651,651,652,652,652,652,652,652,652,652,652,652,652,652,652,652,652,652,652,652,652,652,653,653,653,653,653,653,653,653,653,653,653,653,653,653,653,654,654,654,654,654,654,654,654,654,654,654,654,654,654,654,654,654,654,654,654,654,654,654,654,654,654,654,654,654,655,655,655,655,655,655,655,655,655,655,655,655,655,655,655,655,655,655,655,655,655,655,655,656,656,656,656,656,656,656,656,656,656,656,656,657,657,657,657,657,657,657,657,657,657,657,657,657,659,660,660,660,660,660,660,660,660,660,660,660,660,661,661,661,661,661,661,661,661,661,661,661,661,661,661,661,661,661,661,661,661,661,661,661,661,661,661,661,661,661,661,661,661,661,661,661,661,661,661,661,661,661,661,661,661,661,661,661,661,661,661,661,661,661,662,662,662,662,662,662,662,662,662,662,662,662,662,662,663,663,663,663,663,663,663,663,663,664,665,665,666,666,666,666,666,667,667,667,667,667,667,667,667,667,667,667,667,668,668,668,668,668,668,668,668,668,668,668,668,668,668,668,668,668,668,668,668,668,668,668,668,668,668,668,668,668,669,669,669,669,669,669,669,669,669,669,669,669,669,669,669,669,670,670,670,670,670,670,670,670,670,670,670,670,670,670,670,670,670,670,670,670,670,670,670,670,670,670,670,670,670,670,670,670,670,670,670,670,670,670,671,671,671,671,671,672,672,672,672,672,672,672,672,672,672,673,674,674,674,674,674,674,674,674,674,674,674,674,674,674,674,674,674,674,674,674,674,674,674,674,674,674,674,674,674,674,674,674,674,674,674,674,674,674,674,674,675,675,675,675,675,675,675,675,675,675,675,675,675,675,675,675,675,675,675,675,675,675,675,675,675,675,676,676,676,676,676,676,677,677,677,677,677,678,678,678,678,678,678,678,678,678,678,678,678,678,678,678,678,678,678,679,679,679,679,679,679,679,679,680,680,680,680,680,680,680,680,680,680,680,680,681,681,681,681,681,681,681,681,681,681,682,682,682,682,682,682,683,683,684,684,684,684,684,684,684,684,684,684,684,684,684,684,685,685,685,685,686,686,686,686,686,686,686,686,687,687,687,687,687,687,687,687,688,688,688,688,688,688,688,688,688,689,689,689,689,689,689,689,689,690,691,691,691,691,691,691,691,691,691,691,691,691,691,691,691,691,691,691,691,691,691,691,691,691,691,691,691,691,691,691,691,691,691,691,691,691,691,691,691,691,691,691,691,691,691,691,691,691,691,692,692,692,692,692,692,692,692,692,692,692,692,692,692,692,692,692,692,692,692,692,692,692,692,692,692,692,692,692,692,692,693,693,693,693,693,693,693,694,694,694,694,694,694,694,694,694,694,694,694,694,694,694,694,694,694,694,694,694,694,694,694,694,695,695,695,695,695,695,695,695,696,696,696,696,696,696,696,696,696,696,697,697,697,697,697,697,697,697,697,698,698,700,700,700,700,700,700,700,700,701,701,701,701,701,701,701,702,702,702,702,702,702,702,702,702,702,702,702,702,702,702,702,702,702,702,702,702,702,702,702,702,702,702,702,702,702,702,702,702,702,702,702,702,702,702,702,702,703,703,703,703,703,703,703,703,703,703,703,703,703,703,703,703,703,703,703,703,703,703,703,703,703,703,703,703,703,703,703,703,703,703,703,703,703,703,703,703,703,703,703,703,703,703,703,703,703,703,703,703,703,703,703,703,703,703,703,703,703,703,703,703,703,703,703,703,703,703,703,703,703,703,704,704,704,704,704,704,704,704,704,704,704,704,704,704,704,704,704,704,704,704,704,704,704,704,704,704,704,704,704,704,704,704,704,704,704,704,704,704,704,704,704,704,704,704,704,704,704,704,704,704,704,704,706,706,706,706,706,706,706,706,706,706,706,706,706,706,706,706,706,706,706,706,706,706,706,706,706,706,706,707,708,708,708,708,708,708,708,708,708,708,708,708,708,709,709,709,709,709,709,709,709,709,710,710,710,710,711,711,711,711,711,711,711,711,711,712,712,712,712,712,712,712,712,713,713,713,713,714,715,715,715,715,715,716,716,716,717,717,718,718,718,718,719,719,719,719,719,719,719,719,719,719,719,719,719,720,720,720,720,720,720,720,720,720,720,720,720,720,720,720,720,720,720,720,720,720,721,722,722,722,722,723,723,723,723,723,723,723,723,723,723,723,723,723,723,723,723,723,723,723,723,723,723,723,723,724,724,725,725,725,725,725,725,725,725,725,725,725,725,725,725,726,726,726,726,726,726,726,726,726,726,726,726,726,726,726,726,726,726,726,726,726,726,726,726,726,726,726,726,726,726,726,726,727,727,727,728,728,728,728,728,728,728,728,728,729,729,729,729,729,729,729,729,729,730,730,730,731,732,732,733,733,734,734,734,734,734,734,734,734,734,736,736,736,737,738,738,738,738,738,739,739,739,739,740,740,740,740,740,740,740,740,740,740,740,740,740,740,740,740,740,740,740,740,740,740,740,740,740,740,740,740,740,741,741,741,741,741,741,741,741,741,741,741,741,741,741,741,741,741,741,741,741,741,741,741,741,741,741,741,741,741,741,741,741,742,742,742,742,742,742,742,742,742,742,742,742,742,742,742,742,742,742,742,742,742,742,742,742,742,742,742,742,742,742,742,742,742,742,742,742,742,742,742,742,742,742,743,743,743,743,743,743,743,743,743,743,743,743,743,743,743,743,743,743,743,743,743,743,743,743,743,743,743,743,743,743,743,743,744,744,744,744,745,745,745,745,745,745,746,746,747,747,748,748,748,749,749,750,752,752,752,752,752,752,752,752,752,753,753,753,754,754,754,754,754,754,754,754,754,754,754,754,754,754,755,755,755,756,756,756,756,756,756,756,756,756,756,756,756,756,756,756,756,756,756,756,756,756,756,756,756,756,756,756,756,756,756,756,757,758,758,758,758,758,758,758,758,758,758,758,758,758,759,759,759,759,759,759,759,759,759,759,759,759,759,759,759,759,759,759,759,759,759,759,759,759,759,759,759,759,759,759,759,759,759,759,759,759,759,759,759,759,759,759,759,759,759,759,759,759,759,760,760,760,760,760,760,760,760,760,760,760,760,760,760,760,760,760,760,760,760,760,760,760,760,761,761,762,763,763,763,763,763,763,763,763,764,764,764,764,764,764,764,764,764,765,765,765,765,765,765,765,765,765,765,765,765,765,765,765,765,765,765,765,765,765,765,765,765,765,765,765,765,765,765,765,765,765,765,765,765,765,765,765,765,765,765,765,765,765,765,765,765,765,765,765,765,765,765,765,765,766,766,766,766,766,766,766,766,766,766,766,766,766,766,766,766,766,766,766,766,766,766,766,766,766,766,766,766,766,766,766,766,766,766,766,766,766,766,766,766,766,766,766,767,767,767,767,767,767,768,768,768,768,768,768,768,768,768,768,768,768,768,768,768,769,769,769,769,769,769,769,769,769,769,769,769,769,769,769,769,769,769,769,769,769,769,769,769,770,770,770,770,770,770,770,770,770,770,770,770,770,770,770,770,770,771,771,771,771,771,771,771,771,772,772,772,772,772,772,772,772,772,772,772,773,773,773,773,773,773,773,773,773,773,773,773,773,774,774,774,774,774,774,774,774,774,774,774,774,775,775,775,775,775,776,776,776,776,776,776,776,776,776,776,776,776,776,776,776,776,776,776,776,776,776,776,776,776,776,776,776,776,776,776,776,776,776,776,776,776,776,776,776,776,776,776,776,776,776,776,776,776,776,776,776,776,776,776,776,776,776,776,776,776,776,776,776,776,776,776,776,776,776,776,776,776,776,776,776,776,776,776,777,777,777,777,777,777,777,777,777,777,777,777,777,777,777,777,777,777,777,777,777,777,777,777,777,777,777,777,777,777,777,777,777,777,777,777,777,777,777,777,777,777,777,777,777,777,777,777,777,777,779,779,779,780,780,780,780,780,780,781,781,781,781,781,782,782,782,782,782,782,782,782,782,782,782,782,782,782,782,782],\"yaxis\":\"y\",\"type\":\"scattergl\"},{\"hovertemplate\":\"\\u5909\\u6570\\u540d=out1<br>receive_time=%{x}<br>\\u5024=%{y}<extra></extra>\",\"legendgroup\":\"out1\",\"line\":{\"color\":\"#EF553B\",\"dash\":\"solid\"},\"marker\":{\"symbol\":\"circle\"},\"mode\":\"lines\",\"name\":\"out1\",\"showlegend\":true,\"x\":[\"2021-01-15 09:00:00.144\",\"2021-01-15 09:00:01.146\",\"2021-01-15 09:00:02.161\",\"2021-01-15 09:00:03.176\",\"2021-01-15 09:00:04.192\",\"2021-01-15 09:00:05.207\",\"2021-01-15 09:00:06.222\",\"2021-01-15 09:00:07.238\",\"2021-01-15 09:00:08.253\",\"2021-01-15 09:00:09.269\",\"2021-01-15 09:00:10.284\",\"2021-01-15 09:00:11.3\",\"2021-01-15 09:00:12.315\",\"2021-01-15 09:00:13.33\",\"2021-01-15 09:00:14.346\",\"2021-01-15 09:00:15.347\",\"2021-01-15 09:00:16.363\",\"2021-01-15 09:00:17.378\",\"2021-01-15 09:00:18.393\",\"2021-01-15 09:00:19.409\",\"2021-01-15 09:00:20.424\",\"2021-01-15 09:00:21.44\",\"2021-01-15 09:00:22.455\",\"2021-01-15 09:00:23.47\",\"2021-01-15 09:00:24.486\",\"2021-01-15 09:00:25.501\",\"2021-01-15 09:00:26.517\",\"2021-01-15 09:00:27.532\",\"2021-01-15 09:00:28.547\",\"2021-01-15 09:00:29.563\",\"2021-01-15 09:00:30.564\",\"2021-01-15 09:00:31.579\",\"2021-01-15 09:00:32.595\",\"2021-01-15 09:00:33.61\",\"2021-01-15 09:00:34.626\",\"2021-01-15 09:00:35.641\",\"2021-01-15 09:00:36.656\",\"2021-01-15 09:00:37.672\",\"2021-01-15 09:00:38.687\",\"2021-01-15 09:00:39.702\",\"2021-01-15 09:00:40.718\",\"2021-01-15 09:00:41.733\",\"2021-01-15 09:00:42.749\",\"2021-01-15 09:00:43.764\",\"2021-01-15 09:00:44.779\",\"2021-01-15 09:00:45.78\",\"2021-01-15 09:00:46.796\",\"2021-01-15 09:00:47.811\",\"2021-01-15 09:00:48.827\",\"2021-01-15 09:00:49.842\",\"2021-01-15 09:00:50.858\",\"2021-01-15 09:00:51.873\",\"2021-01-15 09:00:52.888\",\"2021-01-15 09:00:53.904\",\"2021-01-15 09:00:54.919\",\"2021-01-15 09:00:55.934\",\"2021-01-15 09:00:56.95\",\"2021-01-15 09:00:57.965\",\"2021-01-15 09:00:58.981\",\"2021-01-15 09:00:59.996\",\"2021-01-15 09:01:00.997\",\"2021-01-15 09:01:02.013\",\"2021-01-15 09:01:03.028\",\"2021-01-15 09:01:04.044\",\"2021-01-15 09:01:05.059\",\"2021-01-15 09:01:06.074\",\"2021-01-15 09:01:07.09\",\"2021-01-15 09:01:08.105\",\"2021-01-15 09:01:09.12\",\"2021-01-15 09:01:10.136\",\"2021-01-15 09:01:11.151\",\"2021-01-15 09:01:12.167\",\"2021-01-15 09:01:13.182\",\"2021-01-15 09:01:14.197\",\"2021-01-15 09:01:15.199\",\"2021-01-15 09:01:16.214\",\"2021-01-15 09:01:17.229\",\"2021-01-15 09:01:18.245\",\"2021-01-15 09:01:19.26\",\"2021-01-15 09:01:20.275\",\"2021-01-15 09:01:21.291\",\"2021-01-15 09:01:22.306\",\"2021-01-15 09:01:23.322\",\"2021-01-15 09:01:24.337\",\"2021-01-15 09:01:25.352\",\"2021-01-15 09:01:26.368\",\"2021-01-15 09:01:27.383\",\"2021-01-15 09:01:28.398\",\"2021-01-15 09:01:29.414\",\"2021-01-15 09:01:30.415\",\"2021-01-15 09:01:31.431\",\"2021-01-15 09:01:32.446\",\"2021-01-15 09:01:33.461\",\"2021-01-15 09:01:34.477\",\"2021-01-15 09:01:35.492\",\"2021-01-15 09:01:36.508\",\"2021-01-15 09:01:37.523\",\"2021-01-15 09:01:38.538\",\"2021-01-15 09:01:39.554\",\"2021-01-15 09:01:40.569\",\"2021-01-15 09:01:41.585\",\"2021-01-15 09:01:42.6\",\"2021-01-15 09:01:43.615\",\"2021-01-15 09:01:44.631\",\"2021-01-15 09:01:45.637\",\"2021-01-15 09:01:46.653\",\"2021-01-15 09:01:47.668\",\"2021-01-15 09:01:48.683\",\"2021-01-15 09:01:49.699\",\"2021-01-15 09:01:50.714\",\"2021-01-15 09:01:51.73\",\"2021-01-15 09:01:52.745\",\"2021-01-15 09:01:53.76\",\"2021-01-15 09:01:54.775\",\"2021-01-15 09:01:55.791\",\"2021-01-15 09:01:56.806\",\"2021-01-15 09:01:57.822\",\"2021-01-15 09:01:58.837\",\"2021-01-15 09:01:59.853\",\"2021-01-15 09:02:00.854\",\"2021-01-15 09:02:02.885\",\"2021-01-15 09:02:03.9\",\"2021-01-15 09:02:04.916\",\"2021-01-15 09:02:05.931\",\"2021-01-15 09:02:06.946\",\"2021-01-15 09:02:07.962\",\"2021-01-15 09:02:08.977\",\"2021-01-15 09:02:09.992\",\"2021-01-15 09:02:11.008\",\"2021-01-15 09:02:12.023\",\"2021-01-15 09:02:13.038\",\"2021-01-15 09:02:14.054\",\"2021-01-15 09:02:15.069\",\"2021-01-15 09:02:16.071\",\"2021-01-15 09:02:17.086\",\"2021-01-15 09:02:18.101\",\"2021-01-15 09:02:19.117\",\"2021-01-15 09:02:20.132\",\"2021-01-15 09:02:21.148\",\"2021-01-15 09:02:22.163\",\"2021-01-15 09:02:23.178\",\"2021-01-15 09:02:24.194\",\"2021-01-15 09:02:25.209\",\"2021-01-15 09:02:26.224\",\"2021-01-15 09:02:27.24\",\"2021-01-15 09:02:28.255\",\"2021-01-15 09:02:29.271\",\"2021-01-15 09:02:30.272\",\"2021-01-15 09:02:31.287\",\"2021-01-15 09:02:32.303\",\"2021-01-15 09:02:33.318\",\"2021-01-15 09:02:34.334\",\"2021-01-15 09:02:35.349\",\"2021-01-15 09:02:36.364\",\"2021-01-15 09:02:37.38\",\"2021-01-15 09:02:38.395\",\"2021-01-15 09:02:39.41\",\"2021-01-15 09:02:40.426\",\"2021-01-15 09:02:41.441\",\"2021-01-15 09:02:42.456\",\"2021-01-15 09:02:43.472\",\"2021-01-15 09:02:44.487\",\"2021-01-15 09:02:45.489\",\"2021-01-15 09:02:46.504\",\"2021-01-15 09:02:47.519\",\"2021-01-15 09:02:48.535\",\"2021-01-15 09:02:49.55\",\"2021-01-15 09:02:50.566\",\"2021-01-15 09:02:51.581\",\"2021-01-15 09:02:52.597\",\"2021-01-15 09:02:53.612\",\"2021-01-15 09:02:54.627\",\"2021-01-15 09:02:55.642\",\"2021-01-15 09:02:56.658\",\"2021-01-15 09:02:57.673\",\"2021-01-15 09:02:58.689\",\"2021-01-15 09:02:59.704\",\"2021-01-15 09:03:00.705\",\"2021-01-15 09:03:01.721\",\"2021-01-15 09:03:02.736\",\"2021-01-15 09:03:03.751\",\"2021-01-15 09:03:04.767\",\"2021-01-15 09:03:05.782\",\"2021-01-15 09:03:06.797\",\"2021-01-15 09:03:07.813\",\"2021-01-15 09:03:08.828\",\"2021-01-15 09:03:09.844\",\"2021-01-15 09:03:10.859\",\"2021-01-15 09:03:11.874\",\"2021-01-15 09:03:12.89\",\"2021-01-15 09:03:13.905\",\"2021-01-15 09:03:14.921\",\"2021-01-15 09:03:15.922\",\"2021-01-15 09:03:16.937\",\"2021-01-15 09:03:17.952\",\"2021-01-15 09:03:18.968\",\"2021-01-15 09:03:19.983\",\"2021-01-15 09:03:20.999\",\"2021-01-15 09:03:22.014\",\"2021-01-15 09:03:23.029\",\"2021-01-15 09:03:24.045\",\"2021-01-15 09:03:25.06\",\"2021-01-15 09:03:26.076\",\"2021-01-15 09:03:27.091\",\"2021-01-15 09:03:28.106\",\"2021-01-15 09:03:29.122\",\"2021-01-15 09:03:30.137\",\"2021-01-15 09:03:31.138\",\"2021-01-15 09:03:32.153\",\"2021-01-15 09:03:33.169\",\"2021-01-15 09:03:34.184\",\"2021-01-15 09:03:35.199\",\"2021-01-15 09:03:36.215\",\"2021-01-15 09:03:37.23\",\"2021-01-15 09:03:38.246\",\"2021-01-15 09:03:39.261\",\"2021-01-15 09:03:40.277\",\"2021-01-15 09:03:41.292\",\"2021-01-15 09:03:42.307\",\"2021-01-15 09:03:43.323\",\"2021-01-15 09:03:44.338\",\"2021-01-15 09:03:45.34\",\"2021-01-15 09:03:46.355\",\"2021-01-15 09:03:47.37\",\"2021-01-15 09:03:48.386\",\"2021-01-15 09:03:49.401\",\"2021-01-15 09:03:50.417\",\"2021-01-15 09:03:51.432\",\"2021-01-15 09:03:52.447\",\"2021-01-15 09:03:53.463\",\"2021-01-15 09:03:54.478\",\"2021-01-15 09:03:55.493\",\"2021-01-15 09:03:56.509\",\"2021-01-15 09:03:57.524\",\"2021-01-15 09:03:58.54\",\"2021-01-15 09:03:59.555\",\"2021-01-15 09:04:00.563\",\"2021-01-15 09:04:01.579\",\"2021-01-15 09:04:02.594\",\"2021-01-15 09:04:03.609\",\"2021-01-15 09:04:04.623\",\"2021-01-15 09:04:05.638\",\"2021-01-15 09:04:06.653\",\"2021-01-15 09:04:07.669\",\"2021-01-15 09:04:08.684\",\"2021-01-15 09:04:09.699\",\"2021-01-15 09:04:10.715\",\"2021-01-15 09:04:11.73\",\"2021-01-15 09:04:12.746\",\"2021-01-15 09:04:13.761\",\"2021-01-15 09:04:14.776\",\"2021-01-15 09:04:15.778\",\"2021-01-15 09:04:16.793\",\"2021-01-15 09:04:17.808\",\"2021-01-15 09:04:18.824\",\"2021-01-15 09:04:19.839\",\"2021-01-15 09:04:20.855\",\"2021-01-15 09:04:21.87\",\"2021-01-15 09:04:22.885\",\"2021-01-15 09:04:23.901\",\"2021-01-15 09:04:24.916\",\"2021-01-15 09:04:25.931\",\"2021-01-15 09:04:26.947\",\"2021-01-15 09:04:27.962\",\"2021-01-15 09:04:28.977\",\"2021-01-15 09:04:29.993\",\"2021-01-15 09:04:30.994\",\"2021-01-15 09:04:32.01\",\"2021-01-15 09:04:33.025\",\"2021-01-15 09:04:34.041\",\"2021-01-15 09:04:35.056\",\"2021-01-15 09:04:36.071\",\"2021-01-15 09:04:37.087\",\"2021-01-15 09:04:38.102\",\"2021-01-15 09:04:39.118\",\"2021-01-15 09:04:40.133\",\"2021-01-15 09:04:41.148\",\"2021-01-15 09:04:42.164\",\"2021-01-15 09:04:43.179\",\"2021-01-15 09:04:44.194\",\"2021-01-15 09:04:45.196\",\"2021-01-15 09:04:46.211\",\"2021-01-15 09:04:47.226\",\"2021-01-15 09:04:48.242\",\"2021-01-15 09:04:49.257\",\"2021-01-15 09:04:50.273\",\"2021-01-15 09:04:51.288\",\"2021-01-15 09:04:52.303\",\"2021-01-15 09:04:53.319\",\"2021-01-15 09:04:54.334\",\"2021-01-15 09:04:55.349\",\"2021-01-15 09:04:56.365\",\"2021-01-15 09:04:57.38\",\"2021-01-15 09:04:58.396\",\"2021-01-15 09:04:59.411\",\"2021-01-15 09:05:00.413\",\"2021-01-15 09:05:01.429\",\"2021-01-15 09:05:02.444\",\"2021-01-15 09:05:03.459\",\"2021-01-15 09:05:04.475\",\"2021-01-15 09:05:05.49\",\"2021-01-15 09:05:06.505\",\"2021-01-15 09:05:07.521\",\"2021-01-15 09:05:08.536\",\"2021-01-15 09:05:09.552\",\"2021-01-15 09:05:10.567\",\"2021-01-15 09:05:11.583\",\"2021-01-15 09:05:12.598\",\"2021-01-15 09:05:13.613\",\"2021-01-15 09:05:14.629\",\"2021-01-15 09:05:15.63\",\"2021-01-15 09:05:16.645\",\"2021-01-15 09:05:17.661\",\"2021-01-15 09:05:18.676\",\"2021-01-15 09:05:19.692\",\"2021-01-15 09:05:20.707\",\"2021-01-15 09:05:21.722\",\"2021-01-15 09:05:22.738\",\"2021-01-15 09:05:23.753\",\"2021-01-15 09:05:24.768\",\"2021-01-15 09:05:25.784\",\"2021-01-15 09:05:26.799\",\"2021-01-15 09:05:27.815\",\"2021-01-15 09:05:28.83\",\"2021-01-15 09:05:29.845\",\"2021-01-15 09:05:30.847\",\"2021-01-15 09:05:31.862\",\"2021-01-15 09:05:32.878\",\"2021-01-15 09:05:33.893\",\"2021-01-15 09:05:34.908\",\"2021-01-15 09:05:35.924\",\"2021-01-15 09:05:36.939\",\"2021-01-15 09:05:37.955\",\"2021-01-15 09:05:38.97\",\"2021-01-15 09:05:39.985\",\"2021-01-15 09:05:41.001\",\"2021-01-15 09:05:42.016\",\"2021-01-15 09:05:43.032\",\"2021-01-15 09:05:44.047\",\"2021-01-15 09:05:45.062\",\"2021-01-15 09:05:46.064\",\"2021-01-15 09:05:47.079\",\"2021-01-15 09:05:48.094\",\"2021-01-15 09:05:49.11\",\"2021-01-15 09:05:50.125\",\"2021-01-15 09:05:51.141\",\"2021-01-15 09:05:52.156\",\"2021-01-15 09:05:53.172\",\"2021-01-15 09:05:54.187\",\"2021-01-15 09:05:55.202\",\"2021-01-15 09:05:56.218\",\"2021-01-15 09:05:57.233\",\"2021-01-15 09:05:58.249\",\"2021-01-15 09:05:59.264\",\"2021-01-15 09:06:00.265\",\"2021-01-15 09:06:01.281\",\"2021-01-15 09:06:02.296\",\"2021-01-15 09:06:03.312\",\"2021-01-15 09:06:04.327\",\"2021-01-15 09:06:05.342\",\"2021-01-15 09:06:06.357\",\"2021-01-15 09:06:07.373\",\"2021-01-15 09:06:08.388\",\"2021-01-15 09:06:09.404\",\"2021-01-15 09:06:10.419\",\"2021-01-15 09:06:11.435\",\"2021-01-15 09:06:12.45\",\"2021-01-15 09:06:13.465\",\"2021-01-15 09:06:14.481\",\"2021-01-15 09:06:15.49\",\"2021-01-15 09:06:16.505\",\"2021-01-15 09:06:17.521\",\"2021-01-15 09:06:18.536\",\"2021-01-15 09:06:19.552\",\"2021-01-15 09:06:20.567\",\"2021-01-15 09:06:21.582\",\"2021-01-15 09:06:22.598\",\"2021-01-15 09:06:23.613\",\"2021-01-15 09:06:24.628\",\"2021-01-15 09:06:25.644\",\"2021-01-15 09:06:26.659\",\"2021-01-15 09:06:27.675\",\"2021-01-15 09:06:28.69\",\"2021-01-15 09:06:29.705\",\"2021-01-15 09:06:30.707\",\"2021-01-15 09:06:31.722\",\"2021-01-15 09:06:32.737\",\"2021-01-15 09:06:33.753\",\"2021-01-15 09:06:34.768\",\"2021-01-15 09:06:35.784\",\"2021-01-15 09:06:36.799\",\"2021-01-15 09:06:37.814\",\"2021-01-15 09:06:38.83\",\"2021-01-15 09:06:39.845\",\"2021-01-15 09:06:40.861\",\"2021-01-15 09:06:41.876\",\"2021-01-15 09:06:42.891\",\"2021-01-15 09:06:43.907\",\"2021-01-15 09:06:44.922\",\"2021-01-15 09:06:45.923\",\"2021-01-15 09:06:46.939\",\"2021-01-15 09:06:47.954\",\"2021-01-15 09:06:48.969\",\"2021-01-15 09:06:49.985\",\"2021-01-15 09:06:51\",\"2021-01-15 09:06:52.016\",\"2021-01-15 09:06:53.031\",\"2021-01-15 09:06:54.046\",\"2021-01-15 09:06:55.062\",\"2021-01-15 09:06:57.093\",\"2021-01-15 09:06:58.108\",\"2021-01-15 09:06:59.123\",\"2021-01-15 09:07:00.139\",\"2021-01-15 09:07:01.14\",\"2021-01-15 09:07:02.156\",\"2021-01-15 09:07:03.171\",\"2021-01-15 09:07:04.187\",\"2021-01-15 09:07:05.202\",\"2021-01-15 09:07:06.217\",\"2021-01-15 09:07:07.233\",\"2021-01-15 09:07:08.248\",\"2021-01-15 09:07:09.263\",\"2021-01-15 09:07:10.279\",\"2021-01-15 09:07:11.294\",\"2021-01-15 09:07:12.31\",\"2021-01-15 09:07:13.325\",\"2021-01-15 09:07:14.34\",\"2021-01-15 09:07:15.343\",\"2021-01-15 09:07:16.358\",\"2021-01-15 09:07:17.36\",\"2021-01-15 09:07:18.375\",\"2021-01-15 09:07:19.377\",\"2021-01-15 09:07:20.389\",\"2021-01-15 09:07:21.391\",\"2021-01-15 09:07:22.406\",\"2021-01-15 09:07:23.421\",\"2021-01-15 09:07:24.437\",\"2021-01-15 09:07:25.438\",\"2021-01-15 09:07:26.453\",\"2021-01-15 09:07:27.469\",\"2021-01-15 09:07:28.484\",\"2021-01-15 09:07:29.5\",\"2021-01-15 09:07:30.501\",\"2021-01-15 09:07:31.516\",\"2021-01-15 09:07:32.532\",\"2021-01-15 09:07:33.547\",\"2021-01-15 09:07:34.563\",\"2021-01-15 09:07:35.578\",\"2021-01-15 09:07:36.593\",\"2021-01-15 09:07:37.609\",\"2021-01-15 09:07:38.624\",\"2021-01-15 09:07:39.639\",\"2021-01-15 09:07:40.655\",\"2021-01-15 09:07:41.67\",\"2021-01-15 09:07:42.686\",\"2021-01-15 09:07:43.701\",\"2021-01-15 09:07:44.716\",\"2021-01-15 09:07:45.718\",\"2021-01-15 09:07:46.733\",\"2021-01-15 09:07:47.749\",\"2021-01-15 09:07:48.764\",\"2021-01-15 09:07:49.779\",\"2021-01-15 09:07:50.795\",\"2021-01-15 09:07:51.81\",\"2021-01-15 09:07:52.826\",\"2021-01-15 09:07:53.841\",\"2021-01-15 09:07:54.856\",\"2021-01-15 09:07:55.872\",\"2021-01-15 09:07:56.887\",\"2021-01-15 09:07:57.902\",\"2021-01-15 09:07:58.918\",\"2021-01-15 09:07:59.933\",\"2021-01-15 09:08:00.935\",\"2021-01-15 09:08:01.95\",\"2021-01-15 09:08:02.966\",\"2021-01-15 09:08:03.981\",\"2021-01-15 09:08:04.996\",\"2021-01-15 09:08:06.012\",\"2021-01-15 09:08:07.027\",\"2021-01-15 09:08:08.042\",\"2021-01-15 09:08:09.058\",\"2021-01-15 09:08:10.073\",\"2021-01-15 09:08:11.089\",\"2021-01-15 09:08:12.104\",\"2021-01-15 09:08:13.119\",\"2021-01-15 09:08:14.135\",\"2021-01-15 09:08:15.15\",\"2021-01-15 09:08:16.152\",\"2021-01-15 09:08:17.167\",\"2021-01-15 09:08:18.182\",\"2021-01-15 09:08:19.198\",\"2021-01-15 09:08:20.213\",\"2021-01-15 09:08:21.229\",\"2021-01-15 09:08:22.244\",\"2021-01-15 09:08:23.259\",\"2021-01-15 09:08:24.275\",\"2021-01-15 09:08:25.29\",\"2021-01-15 09:08:26.306\",\"2021-01-15 09:08:27.321\",\"2021-01-15 09:08:28.336\",\"2021-01-15 09:08:29.352\",\"2021-01-15 09:08:30.36\",\"2021-01-15 09:08:31.376\",\"2021-01-15 09:08:32.391\",\"2021-01-15 09:08:33.406\",\"2021-01-15 09:08:34.422\",\"2021-01-15 09:08:35.437\",\"2021-01-15 09:08:36.452\",\"2021-01-15 09:08:37.468\",\"2021-01-15 09:08:38.483\",\"2021-01-15 09:08:39.499\",\"2021-01-15 09:08:40.514\",\"2021-01-15 09:08:41.529\",\"2021-01-15 09:08:42.545\",\"2021-01-15 09:08:43.56\",\"2021-01-15 09:08:44.575\",\"2021-01-15 09:08:45.577\",\"2021-01-15 09:08:46.592\",\"2021-01-15 09:08:47.608\",\"2021-01-15 09:08:48.623\",\"2021-01-15 09:08:49.638\",\"2021-01-15 09:08:50.654\",\"2021-01-15 09:08:51.669\",\"2021-01-15 09:08:52.685\",\"2021-01-15 09:08:53.7\",\"2021-01-15 09:08:54.715\",\"2021-01-15 09:08:55.731\",\"2021-01-15 09:08:56.746\",\"2021-01-15 09:08:57.762\",\"2021-01-15 09:08:58.777\",\"2021-01-15 09:08:59.792\",\"2021-01-15 09:09:00.794\",\"2021-01-15 09:09:01.809\",\"2021-01-15 09:09:02.824\",\"2021-01-15 09:09:03.84\",\"2021-01-15 09:09:04.855\",\"2021-01-15 09:09:05.871\",\"2021-01-15 09:09:06.886\",\"2021-01-15 09:09:07.901\",\"2021-01-15 09:09:08.917\",\"2021-01-15 09:09:09.932\",\"2021-01-15 09:09:10.948\",\"2021-01-15 09:09:11.963\",\"2021-01-15 09:09:12.978\",\"2021-01-15 09:09:13.994\",\"2021-01-15 09:09:15.009\",\"2021-01-15 09:09:16.011\",\"2021-01-15 09:09:17.026\",\"2021-01-15 09:09:18.041\",\"2021-01-15 09:09:19.057\",\"2021-01-15 09:09:20.072\",\"2021-01-15 09:09:21.087\",\"2021-01-15 09:09:22.103\",\"2021-01-15 09:09:23.118\",\"2021-01-15 09:09:24.134\",\"2021-01-15 09:09:25.149\",\"2021-01-15 09:09:26.164\",\"2021-01-15 09:09:27.18\",\"2021-01-15 09:09:28.195\",\"2021-01-15 09:09:29.21\",\"2021-01-15 09:09:30.212\",\"2021-01-15 09:09:31.227\",\"2021-01-15 09:09:32.242\",\"2021-01-15 09:09:33.258\",\"2021-01-15 09:09:34.273\",\"2021-01-15 09:09:35.288\",\"2021-01-15 09:09:36.304\",\"2021-01-15 09:09:37.32\",\"2021-01-15 09:09:38.335\",\"2021-01-15 09:09:39.35\",\"2021-01-15 09:09:40.366\",\"2021-01-15 09:09:41.381\",\"2021-01-15 09:09:42.396\",\"2021-01-15 09:09:43.412\",\"2021-01-15 09:09:44.427\",\"2021-01-15 09:09:45.428\",\"2021-01-15 09:09:46.444\",\"2021-01-15 09:09:47.459\",\"2021-01-15 09:09:48.474\",\"2021-01-15 09:09:49.49\",\"2021-01-15 09:09:50.505\",\"2021-01-15 09:09:51.521\",\"2021-01-15 09:09:52.536\",\"2021-01-15 09:09:53.551\",\"2021-01-15 09:09:54.567\",\"2021-01-15 09:09:55.582\",\"2021-01-15 09:09:56.598\",\"2021-01-15 09:09:57.613\",\"2021-01-15 09:09:58.628\",\"2021-01-15 09:09:59.644\",\"2021-01-15 09:10:00.645\",\"2021-01-15 09:10:01.661\",\"2021-01-15 09:10:02.676\",\"2021-01-15 09:10:03.691\",\"2021-01-15 09:10:04.707\",\"2021-01-15 09:10:05.722\",\"2021-01-15 09:10:06.737\",\"2021-01-15 09:10:07.753\",\"2021-01-15 09:10:08.768\",\"2021-01-15 09:10:09.784\",\"2021-01-15 09:10:10.799\",\"2021-01-15 09:10:11.814\",\"2021-01-15 09:10:12.83\",\"2021-01-15 09:10:13.845\",\"2021-01-15 09:10:14.86\",\"2021-01-15 09:10:15.862\",\"2021-01-15 09:10:16.877\",\"2021-01-15 09:10:17.893\",\"2021-01-15 09:10:18.908\",\"2021-01-15 09:10:19.923\",\"2021-01-15 09:10:20.939\",\"2021-01-15 09:10:21.954\",\"2021-01-15 09:10:22.97\",\"2021-01-15 09:10:23.985\",\"2021-01-15 09:10:25\",\"2021-01-15 09:10:26.016\",\"2021-01-15 09:10:27.031\",\"2021-01-15 09:10:28.047\",\"2021-01-15 09:10:29.062\",\"2021-01-15 09:10:30.077\",\"2021-01-15 09:10:31.079\",\"2021-01-15 09:10:32.094\",\"2021-01-15 09:10:33.11\",\"2021-01-15 09:10:34.125\",\"2021-01-15 09:10:35.14\",\"2021-01-15 09:10:36.156\",\"2021-01-15 09:10:37.171\",\"2021-01-15 09:10:38.187\",\"2021-01-15 09:10:39.202\",\"2021-01-15 09:10:40.217\",\"2021-01-15 09:10:41.233\",\"2021-01-15 09:10:42.248\",\"2021-01-15 09:10:43.264\",\"2021-01-15 09:10:44.279\",\"2021-01-15 09:10:45.287\",\"2021-01-15 09:10:46.303\",\"2021-01-15 09:10:47.318\",\"2021-01-15 09:10:48.334\",\"2021-01-15 09:10:49.349\",\"2021-01-15 09:10:50.364\",\"2021-01-15 09:10:51.38\",\"2021-01-15 09:10:52.395\",\"2021-01-15 09:10:53.41\",\"2021-01-15 09:10:54.426\",\"2021-01-15 09:10:55.441\",\"2021-01-15 09:10:56.457\",\"2021-01-15 09:10:57.472\",\"2021-01-15 09:10:58.487\",\"2021-01-15 09:10:59.503\",\"2021-01-15 09:11:00.504\",\"2021-01-15 09:11:01.52\",\"2021-01-15 09:11:02.535\",\"2021-01-15 09:11:03.55\",\"2021-01-15 09:11:04.565\",\"2021-01-15 09:11:05.581\",\"2021-01-15 09:11:06.597\",\"2021-01-15 09:11:07.612\",\"2021-01-15 09:11:08.627\",\"2021-01-15 09:11:09.643\",\"2021-01-15 09:11:10.658\",\"2021-01-15 09:11:11.673\",\"2021-01-15 09:11:12.689\",\"2021-01-15 09:11:13.704\",\"2021-01-15 09:11:14.72\",\"2021-01-15 09:11:15.721\",\"2021-01-15 09:11:16.736\",\"2021-01-15 09:11:17.752\",\"2021-01-15 09:11:18.767\",\"2021-01-15 09:11:19.783\",\"2021-01-15 09:11:20.798\",\"2021-01-15 09:11:21.813\",\"2021-01-15 09:11:22.829\",\"2021-01-15 09:11:23.844\",\"2021-01-15 09:11:24.859\",\"2021-01-15 09:11:25.875\",\"2021-01-15 09:11:26.89\",\"2021-01-15 09:11:27.906\",\"2021-01-15 09:11:28.921\",\"2021-01-15 09:11:29.936\",\"2021-01-15 09:11:30.938\",\"2021-01-15 09:11:31.953\",\"2021-01-15 09:11:32.968\",\"2021-01-15 09:11:33.984\",\"2021-01-15 09:11:34.999\",\"2021-01-15 09:11:36.014\",\"2021-01-15 09:11:37.03\",\"2021-01-15 09:11:38.045\",\"2021-01-15 09:11:39.061\",\"2021-01-15 09:11:40.076\",\"2021-01-15 09:11:41.092\",\"2021-01-15 09:11:42.107\",\"2021-01-15 09:11:43.122\",\"2021-01-15 09:11:44.138\",\"2021-01-15 09:11:45.153\",\"2021-01-15 09:11:46.155\",\"2021-01-15 09:11:47.17\",\"2021-01-15 09:11:48.185\",\"2021-01-15 09:11:49.201\",\"2021-01-15 09:11:50.216\",\"2021-01-15 09:11:51.232\",\"2021-01-15 09:11:52.247\",\"2021-01-15 09:11:53.262\",\"2021-01-15 09:11:54.278\",\"2021-01-15 09:11:55.293\",\"2021-01-15 09:11:56.309\",\"2021-01-15 09:11:57.324\",\"2021-01-15 09:11:58.339\",\"2021-01-15 09:11:59.355\",\"2021-01-15 09:12:00.356\",\"2021-01-15 09:12:01.371\",\"2021-01-15 09:12:02.387\",\"2021-01-15 09:12:03.402\",\"2021-01-15 09:12:04.417\",\"2021-01-15 09:12:05.433\",\"2021-01-15 09:12:06.448\",\"2021-01-15 09:12:08.479\",\"2021-01-15 09:12:09.494\",\"2021-01-15 09:12:10.51\",\"2021-01-15 09:12:11.525\",\"2021-01-15 09:12:12.541\",\"2021-01-15 09:12:13.556\",\"2021-01-15 09:12:14.571\",\"2021-01-15 09:12:15.573\",\"2021-01-15 09:12:16.588\",\"2021-01-15 09:12:17.603\",\"2021-01-15 09:12:18.619\",\"2021-01-15 09:12:19.634\",\"2021-01-15 09:12:20.65\",\"2021-01-15 09:12:21.665\",\"2021-01-15 09:12:22.68\",\"2021-01-15 09:12:23.696\",\"2021-01-15 09:12:24.711\",\"2021-01-15 09:12:25.726\",\"2021-01-15 09:12:26.742\",\"2021-01-15 09:12:27.757\",\"2021-01-15 09:12:28.772\",\"2021-01-15 09:12:29.788\",\"2021-01-15 09:12:30.789\",\"2021-01-15 09:12:31.805\",\"2021-01-15 09:12:32.82\",\"2021-01-15 09:12:33.835\",\"2021-01-15 09:12:34.851\",\"2021-01-15 09:12:35.866\",\"2021-01-15 09:12:36.882\",\"2021-01-15 09:12:37.897\",\"2021-01-15 09:12:38.897\",\"2021-01-15 09:12:39.912\",\"2021-01-15 09:12:40.928\",\"2021-01-15 09:12:41.943\",\"2021-01-15 09:12:42.958\",\"2021-01-15 09:12:43.974\",\"2021-01-15 09:12:44.989\",\"2021-01-15 09:12:45.998\",\"2021-01-15 09:12:47.014\",\"2021-01-15 09:12:48.029\",\"2021-01-15 09:12:49.045\",\"2021-01-15 09:12:50.06\",\"2021-01-15 09:12:51.075\",\"2021-01-15 09:12:52.091\",\"2021-01-15 09:12:53.106\",\"2021-01-15 09:12:54.121\",\"2021-01-15 09:12:55.137\",\"2021-01-15 09:12:56.152\",\"2021-01-15 09:12:57.168\",\"2021-01-15 09:12:58.183\",\"2021-01-15 09:12:59.198\",\"2021-01-15 09:13:00.2\",\"2021-01-15 09:13:01.215\",\"2021-01-15 09:13:02.23\",\"2021-01-15 09:13:03.246\",\"2021-01-15 09:13:04.261\",\"2021-01-15 09:13:05.277\",\"2021-01-15 09:13:06.292\",\"2021-01-15 09:13:07.307\",\"2021-01-15 09:13:08.323\",\"2021-01-15 09:13:09.338\",\"2021-01-15 09:13:10.354\",\"2021-01-15 09:13:11.369\",\"2021-01-15 09:13:12.384\",\"2021-01-15 09:13:13.4\",\"2021-01-15 09:13:14.415\",\"2021-01-15 09:13:15.416\",\"2021-01-15 09:13:16.432\",\"2021-01-15 09:13:17.447\",\"2021-01-15 09:13:18.463\",\"2021-01-15 09:13:19.478\",\"2021-01-15 09:13:20.493\",\"2021-01-15 09:13:21.509\",\"2021-01-15 09:13:22.524\",\"2021-01-15 09:13:23.54\",\"2021-01-15 09:13:24.555\",\"2021-01-15 09:13:25.57\",\"2021-01-15 09:13:26.586\",\"2021-01-15 09:13:27.601\",\"2021-01-15 09:13:28.616\",\"2021-01-15 09:13:29.632\",\"2021-01-15 09:13:30.633\",\"2021-01-15 09:13:31.648\",\"2021-01-15 09:13:32.664\",\"2021-01-15 09:13:33.679\",\"2021-01-15 09:13:34.695\",\"2021-01-15 09:13:35.71\",\"2021-01-15 09:13:36.726\",\"2021-01-15 09:13:37.741\",\"2021-01-15 09:13:38.756\",\"2021-01-15 09:13:39.772\",\"2021-01-15 09:13:40.787\",\"2021-01-15 09:13:41.803\",\"2021-01-15 09:13:42.818\",\"2021-01-15 09:13:43.833\",\"2021-01-15 09:13:44.849\",\"2021-01-15 09:13:45.85\",\"2021-01-15 09:13:46.865\",\"2021-01-15 09:13:47.881\",\"2021-01-15 09:13:48.896\",\"2021-01-15 09:13:49.912\",\"2021-01-15 09:13:50.927\",\"2021-01-15 09:13:51.942\",\"2021-01-15 09:13:52.957\",\"2021-01-15 09:13:53.973\",\"2021-01-15 09:13:54.988\",\"2021-01-15 09:13:56.004\",\"2021-01-15 09:13:57.019\",\"2021-01-15 09:13:58.034\",\"2021-01-15 09:13:59.05\",\"2021-01-15 09:14:00.065\",\"2021-01-15 09:14:01.067\",\"2021-01-15 09:14:02.082\",\"2021-01-15 09:14:03.097\",\"2021-01-15 09:14:04.113\",\"2021-01-15 09:14:05.126\",\"2021-01-15 09:14:06.141\",\"2021-01-15 09:14:07.156\",\"2021-01-15 09:14:08.172\",\"2021-01-15 09:14:09.187\",\"2021-01-15 09:14:10.203\",\"2021-01-15 09:14:11.218\",\"2021-01-15 09:14:12.233\",\"2021-01-15 09:14:13.249\",\"2021-01-15 09:14:14.264\",\"2021-01-15 09:14:15.266\",\"2021-01-15 09:14:16.281\",\"2021-01-15 09:14:17.296\",\"2021-01-15 09:14:18.312\",\"2021-01-15 09:14:19.327\",\"2021-01-15 09:14:20.342\",\"2021-01-15 09:14:21.358\",\"2021-01-15 09:14:22.373\",\"2021-01-15 09:14:23.389\",\"2021-01-15 09:14:24.404\",\"2021-01-15 09:14:25.419\",\"2021-01-15 09:14:26.434\",\"2021-01-15 09:14:27.45\",\"2021-01-15 09:14:28.465\",\"2021-01-15 09:14:29.481\",\"2021-01-15 09:14:30.482\",\"2021-01-15 09:14:31.498\",\"2021-01-15 09:14:32.513\",\"2021-01-15 09:14:33.528\",\"2021-01-15 09:14:34.544\",\"2021-01-15 09:14:35.559\",\"2021-01-15 09:14:36.574\",\"2021-01-15 09:14:37.59\",\"2021-01-15 09:14:38.605\",\"2021-01-15 09:14:39.621\",\"2021-01-15 09:14:40.636\",\"2021-01-15 09:14:41.651\",\"2021-01-15 09:14:42.667\",\"2021-01-15 09:14:43.682\",\"2021-01-15 09:14:44.698\",\"2021-01-15 09:14:45.699\",\"2021-01-15 09:14:46.714\",\"2021-01-15 09:14:47.73\",\"2021-01-15 09:14:48.745\",\"2021-01-15 09:14:49.76\",\"2021-01-15 09:14:50.776\",\"2021-01-15 09:14:51.791\",\"2021-01-15 09:14:52.807\",\"2021-01-15 09:14:53.822\",\"2021-01-15 09:14:54.837\",\"2021-01-15 09:14:55.853\",\"2021-01-15 09:14:56.868\",\"2021-01-15 09:14:57.884\",\"2021-01-15 09:14:58.899\",\"2021-01-15 09:14:59.914\",\"2021-01-15 09:15:00.922\",\"2021-01-15 09:15:01.938\",\"2021-01-15 09:15:02.953\",\"2021-01-15 09:15:03.969\",\"2021-01-15 09:15:04.984\",\"2021-01-15 09:15:05.999\",\"2021-01-15 09:15:07.015\",\"2021-01-15 09:15:08.03\",\"2021-01-15 09:15:09.046\",\"2021-01-15 09:15:10.061\",\"2021-01-15 09:15:11.076\",\"2021-01-15 09:15:12.092\",\"2021-01-15 09:15:13.107\",\"2021-01-15 09:15:14.122\",\"2021-01-15 09:15:15.138\",\"2021-01-15 09:15:16.139\",\"2021-01-15 09:15:17.154\",\"2021-01-15 09:15:18.17\",\"2021-01-15 09:15:19.185\",\"2021-01-15 09:15:20.201\",\"2021-01-15 09:15:21.216\",\"2021-01-15 09:15:22.232\",\"2021-01-15 09:15:23.247\",\"2021-01-15 09:15:24.262\",\"2021-01-15 09:15:25.278\",\"2021-01-15 09:15:26.293\",\"2021-01-15 09:15:27.308\",\"2021-01-15 09:15:28.324\",\"2021-01-15 09:15:29.339\",\"2021-01-15 09:15:30.34\",\"2021-01-15 09:15:31.356\",\"2021-01-15 09:15:32.371\",\"2021-01-15 09:15:33.387\",\"2021-01-15 09:15:34.402\",\"2021-01-15 09:15:35.417\",\"2021-01-15 09:15:36.433\",\"2021-01-15 09:15:37.448\",\"2021-01-15 09:15:38.464\",\"2021-01-15 09:15:39.479\",\"2021-01-15 09:15:40.495\",\"2021-01-15 09:15:41.51\",\"2021-01-15 09:15:42.525\",\"2021-01-15 09:15:43.54\",\"2021-01-15 09:15:44.556\",\"2021-01-15 09:15:45.558\",\"2021-01-15 09:15:46.573\",\"2021-01-15 09:15:47.588\",\"2021-01-15 09:15:48.604\",\"2021-01-15 09:15:49.619\",\"2021-01-15 09:15:50.634\",\"2021-01-15 09:15:51.65\",\"2021-01-15 09:15:52.665\",\"2021-01-15 09:15:53.68\",\"2021-01-15 09:15:54.696\",\"2021-01-15 09:15:55.711\",\"2021-01-15 09:15:56.727\",\"2021-01-15 09:15:57.742\",\"2021-01-15 09:15:58.757\",\"2021-01-15 09:15:59.773\",\"2021-01-15 09:16:00.774\",\"2021-01-15 09:16:01.79\",\"2021-01-15 09:16:02.805\",\"2021-01-15 09:16:03.82\",\"2021-01-15 09:16:04.836\",\"2021-01-15 09:16:05.851\",\"2021-01-15 09:16:06.867\",\"2021-01-15 09:16:07.882\",\"2021-01-15 09:16:08.897\",\"2021-01-15 09:16:09.913\",\"2021-01-15 09:16:10.928\",\"2021-01-15 09:16:11.944\",\"2021-01-15 09:16:12.959\",\"2021-01-15 09:16:13.974\",\"2021-01-15 09:16:14.99\",\"2021-01-15 09:16:15.991\",\"2021-01-15 09:16:17.007\",\"2021-01-15 09:16:18.022\",\"2021-01-15 09:16:19.037\",\"2021-01-15 09:16:20.053\",\"2021-01-15 09:16:21.068\",\"2021-01-15 09:16:22.083\",\"2021-01-15 09:16:23.099\",\"2021-01-15 09:16:24.114\",\"2021-01-15 09:16:25.13\",\"2021-01-15 09:16:26.145\",\"2021-01-15 09:16:27.16\",\"2021-01-15 09:16:28.176\",\"2021-01-15 09:16:29.191\",\"2021-01-15 09:16:30.192\",\"2021-01-15 09:16:31.208\",\"2021-01-15 09:16:32.223\",\"2021-01-15 09:16:33.239\",\"2021-01-15 09:16:34.254\",\"2021-01-15 09:16:35.269\",\"2021-01-15 09:16:36.285\",\"2021-01-15 09:16:37.3\",\"2021-01-15 09:16:38.315\",\"2021-01-15 09:16:39.331\",\"2021-01-15 09:16:40.346\",\"2021-01-15 09:16:41.362\",\"2021-01-15 09:16:42.377\",\"2021-01-15 09:16:43.392\",\"2021-01-15 09:16:44.408\",\"2021-01-15 09:16:45.409\",\"2021-01-15 09:16:46.424\",\"2021-01-15 09:16:47.439\",\"2021-01-15 09:16:48.455\",\"2021-01-15 09:16:49.47\",\"2021-01-15 09:16:50.486\",\"2021-01-15 09:16:51.501\",\"2021-01-15 09:16:52.516\",\"2021-01-15 09:16:53.532\",\"2021-01-15 09:16:54.547\",\"2021-01-15 09:16:55.563\",\"2021-01-15 09:16:56.578\",\"2021-01-15 09:16:57.593\",\"2021-01-15 09:16:58.609\",\"2021-01-15 09:16:59.624\",\"2021-01-15 09:17:00.626\",\"2021-01-15 09:17:01.641\",\"2021-01-15 09:17:02.656\",\"2021-01-15 09:17:03.672\",\"2021-01-15 09:17:04.687\",\"2021-01-15 09:17:05.702\",\"2021-01-15 09:17:06.718\",\"2021-01-15 09:17:07.733\",\"2021-01-15 09:17:08.749\",\"2021-01-15 09:17:09.764\",\"2021-01-15 09:17:10.779\",\"2021-01-15 09:17:11.795\",\"2021-01-15 09:17:12.81\",\"2021-01-15 09:17:13.826\",\"2021-01-15 09:17:14.841\",\"2021-01-15 09:17:16.86\",\"2021-01-15 09:17:17.861\",\"2021-01-15 09:17:18.876\",\"2021-01-15 09:17:19.878\",\"2021-01-15 09:17:20.879\",\"2021-01-15 09:17:21.88\",\"2021-01-15 09:17:22.895\",\"2021-01-15 09:17:23.911\",\"2021-01-15 09:17:24.926\",\"2021-01-15 09:17:25.928\",\"2021-01-15 09:17:26.943\",\"2021-01-15 09:17:27.958\",\"2021-01-15 09:17:28.974\",\"2021-01-15 09:17:29.989\",\"2021-01-15 09:17:30.991\",\"2021-01-15 09:17:32.006\",\"2021-01-15 09:17:33.021\",\"2021-01-15 09:17:34.037\",\"2021-01-15 09:17:35.052\",\"2021-01-15 09:17:36.068\",\"2021-01-15 09:17:37.083\",\"2021-01-15 09:17:38.098\",\"2021-01-15 09:17:39.114\",\"2021-01-15 09:17:40.129\",\"2021-01-15 09:17:41.145\",\"2021-01-15 09:17:42.16\",\"2021-01-15 09:17:43.175\",\"2021-01-15 09:17:44.191\",\"2021-01-15 09:17:45.192\",\"2021-01-15 09:17:46.207\",\"2021-01-15 09:17:47.223\",\"2021-01-15 09:17:48.238\",\"2021-01-15 09:17:49.254\",\"2021-01-15 09:17:50.269\",\"2021-01-15 09:17:51.284\",\"2021-01-15 09:17:52.3\",\"2021-01-15 09:17:53.315\",\"2021-01-15 09:17:54.33\",\"2021-01-15 09:17:55.346\",\"2021-01-15 09:17:56.361\",\"2021-01-15 09:17:57.377\",\"2021-01-15 09:17:58.392\",\"2021-01-15 09:17:59.407\",\"2021-01-15 09:18:00.408\",\"2021-01-15 09:18:01.424\",\"2021-01-15 09:18:02.439\",\"2021-01-15 09:18:03.454\",\"2021-01-15 09:18:04.47\",\"2021-01-15 09:18:05.485\",\"2021-01-15 09:18:06.501\",\"2021-01-15 09:18:07.516\",\"2021-01-15 09:18:08.531\",\"2021-01-15 09:18:09.547\",\"2021-01-15 09:18:10.562\",\"2021-01-15 09:18:11.578\",\"2021-01-15 09:18:12.593\",\"2021-01-15 09:18:13.608\",\"2021-01-15 09:18:14.624\",\"2021-01-15 09:18:15.625\",\"2021-01-15 09:18:16.64\",\"2021-01-15 09:18:17.656\",\"2021-01-15 09:18:18.671\",\"2021-01-15 09:18:19.686\",\"2021-01-15 09:18:20.702\",\"2021-01-15 09:18:21.717\",\"2021-01-15 09:18:22.732\",\"2021-01-15 09:18:23.748\",\"2021-01-15 09:18:24.763\",\"2021-01-15 09:18:25.779\",\"2021-01-15 09:18:26.794\",\"2021-01-15 09:18:27.81\",\"2021-01-15 09:18:28.825\",\"2021-01-15 09:18:29.84\",\"2021-01-15 09:18:30.842\",\"2021-01-15 09:18:31.857\",\"2021-01-15 09:18:32.872\",\"2021-01-15 09:18:33.888\",\"2021-01-15 09:18:34.903\",\"2021-01-15 09:18:35.919\",\"2021-01-15 09:18:36.934\",\"2021-01-15 09:18:37.949\",\"2021-01-15 09:18:38.965\",\"2021-01-15 09:18:39.98\",\"2021-01-15 09:18:40.995\",\"2021-01-15 09:18:42.011\",\"2021-01-15 09:18:43.026\",\"2021-01-15 09:18:44.042\",\"2021-01-15 09:18:45.057\",\"2021-01-15 09:18:46.058\",\"2021-01-15 09:18:47.074\",\"2021-01-15 09:18:48.089\",\"2021-01-15 09:18:49.105\",\"2021-01-15 09:18:50.12\",\"2021-01-15 09:18:51.135\",\"2021-01-15 09:18:52.151\",\"2021-01-15 09:18:53.166\",\"2021-01-15 09:18:54.181\",\"2021-01-15 09:18:55.197\",\"2021-01-15 09:18:56.212\",\"2021-01-15 09:18:57.228\",\"2021-01-15 09:18:58.243\",\"2021-01-15 09:18:59.258\",\"2021-01-15 09:19:00.26\",\"2021-01-15 09:19:01.275\",\"2021-01-15 09:19:02.291\",\"2021-01-15 09:19:03.306\",\"2021-01-15 09:19:04.321\",\"2021-01-15 09:19:05.337\",\"2021-01-15 09:19:06.352\",\"2021-01-15 09:19:07.368\",\"2021-01-15 09:19:08.383\",\"2021-01-15 09:19:09.398\",\"2021-01-15 09:19:10.414\",\"2021-01-15 09:19:11.429\",\"2021-01-15 09:19:12.445\",\"2021-01-15 09:19:13.46\",\"2021-01-15 09:19:14.475\",\"2021-01-15 09:19:15.485\",\"2021-01-15 09:19:16.5\",\"2021-01-15 09:19:17.516\",\"2021-01-15 09:19:18.531\",\"2021-01-15 09:19:19.546\",\"2021-01-15 09:19:20.562\",\"2021-01-15 09:19:21.577\",\"2021-01-15 09:19:22.592\",\"2021-01-15 09:19:23.608\",\"2021-01-15 09:19:24.623\",\"2021-01-15 09:19:25.638\",\"2021-01-15 09:19:26.654\",\"2021-01-15 09:19:27.669\",\"2021-01-15 09:19:28.685\",\"2021-01-15 09:19:29.7\",\"2021-01-15 09:19:30.701\",\"2021-01-15 09:19:31.717\",\"2021-01-15 09:19:32.732\",\"2021-01-15 09:19:33.747\",\"2021-01-15 09:19:34.763\",\"2021-01-15 09:19:35.778\",\"2021-01-15 09:19:36.794\",\"2021-01-15 09:19:37.809\",\"2021-01-15 09:19:38.824\",\"2021-01-15 09:19:39.84\",\"2021-01-15 09:19:40.855\",\"2021-01-15 09:19:41.87\",\"2021-01-15 09:19:42.886\",\"2021-01-15 09:19:43.901\",\"2021-01-15 09:19:44.916\",\"2021-01-15 09:19:45.918\",\"2021-01-15 09:19:46.933\",\"2021-01-15 09:19:47.948\",\"2021-01-15 09:19:48.964\",\"2021-01-15 09:19:49.979\",\"2021-01-15 09:19:50.995\",\"2021-01-15 09:19:52.01\",\"2021-01-15 09:19:53.025\",\"2021-01-15 09:19:54.041\",\"2021-01-15 09:19:55.056\",\"2021-01-15 09:19:56.072\",\"2021-01-15 09:19:57.087\",\"2021-01-15 09:19:58.102\",\"2021-01-15 09:19:59.118\",\"2021-01-15 09:20:00.133\",\"2021-01-15 09:20:01.135\",\"2021-01-15 09:20:02.15\",\"2021-01-15 09:20:03.165\",\"2021-01-15 09:20:04.181\",\"2021-01-15 09:20:05.196\",\"2021-01-15 09:20:06.212\",\"2021-01-15 09:20:07.227\",\"2021-01-15 09:20:08.242\",\"2021-01-15 09:20:09.258\",\"2021-01-15 09:20:10.273\",\"2021-01-15 09:20:11.289\",\"2021-01-15 09:20:12.304\",\"2021-01-15 09:20:13.319\",\"2021-01-15 09:20:14.335\",\"2021-01-15 09:20:15.336\",\"2021-01-15 09:20:16.351\",\"2021-01-15 09:20:17.366\",\"2021-01-15 09:20:18.382\",\"2021-01-15 09:20:19.398\",\"2021-01-15 09:20:20.413\",\"2021-01-15 09:20:21.428\",\"2021-01-15 09:20:22.444\",\"2021-01-15 09:20:23.459\",\"2021-01-15 09:20:24.474\",\"2021-01-15 09:20:25.49\",\"2021-01-15 09:20:26.505\",\"2021-01-15 09:20:27.521\",\"2021-01-15 09:20:28.536\",\"2021-01-15 09:20:29.551\",\"2021-01-15 09:20:30.553\",\"2021-01-15 09:20:31.568\",\"2021-01-15 09:20:32.584\",\"2021-01-15 09:20:33.599\",\"2021-01-15 09:20:34.614\",\"2021-01-15 09:20:35.63\",\"2021-01-15 09:20:36.645\",\"2021-01-15 09:20:37.661\",\"2021-01-15 09:20:38.676\",\"2021-01-15 09:20:39.691\",\"2021-01-15 09:20:40.706\",\"2021-01-15 09:20:41.722\",\"2021-01-15 09:20:42.737\",\"2021-01-15 09:20:43.753\",\"2021-01-15 09:20:44.768\",\"2021-01-15 09:20:45.77\",\"2021-01-15 09:20:46.785\",\"2021-01-15 09:20:47.8\",\"2021-01-15 09:20:48.816\",\"2021-01-15 09:20:49.831\",\"2021-01-15 09:20:50.846\",\"2021-01-15 09:20:51.862\",\"2021-01-15 09:20:52.877\",\"2021-01-15 09:20:53.893\",\"2021-01-15 09:20:54.908\",\"2021-01-15 09:20:55.923\",\"2021-01-15 09:20:56.939\",\"2021-01-15 09:20:57.954\",\"2021-01-15 09:20:58.97\",\"2021-01-15 09:20:59.985\",\"2021-01-15 09:21:00.986\",\"2021-01-15 09:21:02.001\",\"2021-01-15 09:21:03.017\",\"2021-01-15 09:21:04.032\",\"2021-01-15 09:21:05.048\",\"2021-01-15 09:21:06.063\",\"2021-01-15 09:21:07.078\",\"2021-01-15 09:21:08.094\",\"2021-01-15 09:21:09.109\",\"2021-01-15 09:21:10.125\",\"2021-01-15 09:21:11.14\",\"2021-01-15 09:21:12.155\",\"2021-01-15 09:21:13.171\",\"2021-01-15 09:21:14.186\",\"2021-01-15 09:21:15.188\",\"2021-01-15 09:21:16.203\",\"2021-01-15 09:21:17.218\",\"2021-01-15 09:21:18.234\",\"2021-01-15 09:21:19.249\",\"2021-01-15 09:21:20.264\",\"2021-01-15 09:21:21.28\",\"2021-01-15 09:21:22.295\",\"2021-01-15 09:21:23.311\",\"2021-01-15 09:21:24.326\",\"2021-01-15 09:21:25.341\",\"2021-01-15 09:21:26.357\",\"2021-01-15 09:21:27.372\",\"2021-01-15 09:21:28.388\",\"2021-01-15 09:21:29.403\",\"2021-01-15 09:21:30.409\",\"2021-01-15 09:21:31.425\",\"2021-01-15 09:21:32.44\",\"2021-01-15 09:21:33.456\",\"2021-01-15 09:21:34.471\",\"2021-01-15 09:21:35.486\",\"2021-01-15 09:21:36.502\",\"2021-01-15 09:21:37.517\",\"2021-01-15 09:21:38.533\",\"2021-01-15 09:21:39.548\",\"2021-01-15 09:21:40.563\",\"2021-01-15 09:21:41.579\",\"2021-01-15 09:21:42.594\",\"2021-01-15 09:21:43.61\",\"2021-01-15 09:21:44.625\",\"2021-01-15 09:21:45.626\",\"2021-01-15 09:21:46.642\",\"2021-01-15 09:21:47.657\",\"2021-01-15 09:21:48.672\",\"2021-01-15 09:21:49.688\",\"2021-01-15 09:21:50.703\",\"2021-01-15 09:21:51.719\",\"2021-01-15 09:21:52.734\",\"2021-01-15 09:21:53.749\",\"2021-01-15 09:21:54.765\",\"2021-01-15 09:21:55.78\",\"2021-01-15 09:21:56.795\",\"2021-01-15 09:21:57.811\",\"2021-01-15 09:21:58.826\",\"2021-01-15 09:21:59.842\",\"2021-01-15 09:22:00.843\",\"2021-01-15 09:22:01.858\",\"2021-01-15 09:22:02.874\",\"2021-01-15 09:22:03.889\",\"2021-01-15 09:22:04.904\",\"2021-01-15 09:22:05.92\",\"2021-01-15 09:22:06.935\",\"2021-01-15 09:22:07.951\",\"2021-01-15 09:22:08.966\",\"2021-01-15 09:22:09.981\",\"2021-01-15 09:22:10.997\",\"2021-01-15 09:22:12.012\",\"2021-01-15 09:22:13.027\",\"2021-01-15 09:22:14.043\",\"2021-01-15 09:22:15.058\",\"2021-01-15 09:22:16.06\",\"2021-01-15 09:22:17.075\",\"2021-01-15 09:22:18.09\",\"2021-01-15 09:22:19.106\",\"2021-01-15 09:22:20.121\",\"2021-01-15 09:22:21.136\",\"2021-01-15 09:22:22.152\",\"2021-01-15 09:22:23.167\",\"2021-01-15 09:22:24.183\",\"2021-01-15 09:22:25.198\",\"2021-01-15 09:22:26.213\",\"2021-01-15 09:22:27.229\",\"2021-01-15 09:22:28.244\",\"2021-01-15 09:22:29.26\",\"2021-01-15 09:22:30.261\",\"2021-01-15 09:22:31.276\",\"2021-01-15 09:22:32.292\",\"2021-01-15 09:22:33.307\",\"2021-01-15 09:22:34.323\",\"2021-01-15 09:22:35.338\",\"2021-01-15 09:22:36.353\",\"2021-01-15 09:22:37.369\",\"2021-01-15 09:22:38.384\",\"2021-01-15 09:22:39.399\",\"2021-01-15 09:22:40.415\",\"2021-01-15 09:22:41.43\",\"2021-01-15 09:22:42.446\",\"2021-01-15 09:22:43.461\",\"2021-01-15 09:22:44.476\",\"2021-01-15 09:22:45.478\",\"2021-01-15 09:22:46.493\",\"2021-01-15 09:22:47.508\",\"2021-01-15 09:22:48.524\",\"2021-01-15 09:22:49.539\",\"2021-01-15 09:22:50.554\",\"2021-01-15 09:22:51.57\",\"2021-01-15 09:22:52.585\",\"2021-01-15 09:22:53.601\",\"2021-01-15 09:22:54.616\",\"2021-01-15 09:22:55.632\",\"2021-01-15 09:22:56.647\",\"2021-01-15 09:22:57.662\",\"2021-01-15 09:22:58.678\",\"2021-01-15 09:22:59.693\",\"2021-01-15 09:23:00.694\",\"2021-01-15 09:23:01.71\",\"2021-01-15 09:23:02.725\",\"2021-01-15 09:23:03.74\",\"2021-01-15 09:23:04.756\",\"2021-01-15 09:23:05.771\",\"2021-01-15 09:23:06.787\",\"2021-01-15 09:23:07.802\",\"2021-01-15 09:23:08.817\",\"2021-01-15 09:23:09.833\",\"2021-01-15 09:23:10.848\",\"2021-01-15 09:23:11.864\",\"2021-01-15 09:23:12.879\",\"2021-01-15 09:23:13.894\",\"2021-01-15 09:23:14.91\",\"2021-01-15 09:23:15.911\",\"2021-01-15 09:23:16.926\",\"2021-01-15 09:23:17.942\",\"2021-01-15 09:23:18.957\",\"2021-01-15 09:23:19.973\",\"2021-01-15 09:23:20.988\",\"2021-01-15 09:23:22.003\",\"2021-01-15 09:23:23.019\",\"2021-01-15 09:23:24.034\",\"2021-01-15 09:23:25.049\",\"2021-01-15 09:23:26.065\",\"2021-01-15 09:23:27.08\",\"2021-01-15 09:23:28.096\",\"2021-01-15 09:23:29.111\",\"2021-01-15 09:23:30.126\",\"2021-01-15 09:23:31.132\",\"2021-01-15 09:23:32.147\",\"2021-01-15 09:23:33.163\",\"2021-01-15 09:23:34.178\",\"2021-01-15 09:23:35.193\",\"2021-01-15 09:23:36.209\",\"2021-01-15 09:23:37.224\",\"2021-01-15 09:23:38.24\",\"2021-01-15 09:23:39.255\",\"2021-01-15 09:23:40.27\",\"2021-01-15 09:23:41.286\",\"2021-01-15 09:23:42.301\",\"2021-01-15 09:23:43.317\",\"2021-01-15 09:23:44.332\",\"2021-01-15 09:23:45.333\",\"2021-01-15 09:23:46.349\",\"2021-01-15 09:23:47.364\",\"2021-01-15 09:23:48.379\",\"2021-01-15 09:23:49.395\",\"2021-01-15 09:23:50.41\",\"2021-01-15 09:23:51.426\",\"2021-01-15 09:23:52.441\",\"2021-01-15 09:23:53.456\",\"2021-01-15 09:23:54.472\",\"2021-01-15 09:23:55.487\",\"2021-01-15 09:23:56.502\",\"2021-01-15 09:23:57.518\",\"2021-01-15 09:23:58.533\",\"2021-01-15 09:23:59.549\",\"2021-01-15 09:24:00.55\",\"2021-01-15 09:24:01.565\",\"2021-01-15 09:24:02.58\",\"2021-01-15 09:24:03.596\",\"2021-01-15 09:24:04.608\",\"2021-01-15 09:24:05.624\",\"2021-01-15 09:24:06.639\",\"2021-01-15 09:24:07.654\",\"2021-01-15 09:24:08.67\",\"2021-01-15 09:24:09.685\",\"2021-01-15 09:24:10.701\",\"2021-01-15 09:24:11.716\",\"2021-01-15 09:24:12.731\",\"2021-01-15 09:24:13.746\",\"2021-01-15 09:24:14.762\",\"2021-01-15 09:24:15.764\",\"2021-01-15 09:24:16.779\",\"2021-01-15 09:24:17.794\",\"2021-01-15 09:24:18.81\",\"2021-01-15 09:24:19.825\",\"2021-01-15 09:24:20.84\",\"2021-01-15 09:24:21.856\",\"2021-01-15 09:24:22.871\",\"2021-01-15 09:24:23.887\",\"2021-01-15 09:24:24.902\",\"2021-01-15 09:24:25.917\",\"2021-01-15 09:24:26.933\",\"2021-01-15 09:24:27.948\",\"2021-01-15 09:24:28.964\",\"2021-01-15 09:24:29.979\",\"2021-01-15 09:24:30.98\",\"2021-01-15 09:24:31.996\",\"2021-01-15 09:24:33.011\",\"2021-01-15 09:24:34.026\",\"2021-01-15 09:24:35.042\",\"2021-01-15 09:24:36.057\",\"2021-01-15 09:24:37.072\",\"2021-01-15 09:24:38.088\",\"2021-01-15 09:24:39.103\",\"2021-01-15 09:24:40.118\",\"2021-01-15 09:24:41.134\",\"2021-01-15 09:24:42.149\",\"2021-01-15 09:24:43.165\",\"2021-01-15 09:24:44.18\",\"2021-01-15 09:24:45.181\",\"2021-01-15 09:24:46.197\",\"2021-01-15 09:24:47.212\",\"2021-01-15 09:24:48.228\",\"2021-01-15 09:24:49.243\",\"2021-01-15 09:24:50.258\",\"2021-01-15 09:24:51.274\",\"2021-01-15 09:24:52.289\",\"2021-01-15 09:24:53.305\",\"2021-01-15 09:24:54.32\",\"2021-01-15 09:24:55.335\",\"2021-01-15 09:24:56.35\",\"2021-01-15 09:24:57.366\",\"2021-01-15 09:24:58.381\",\"2021-01-15 09:24:59.397\",\"2021-01-15 09:25:00.398\",\"2021-01-15 09:25:01.413\",\"2021-01-15 09:25:02.429\",\"2021-01-15 09:25:03.444\",\"2021-01-15 09:25:04.46\",\"2021-01-15 09:25:05.475\",\"2021-01-15 09:25:06.49\",\"2021-01-15 09:25:07.506\",\"2021-01-15 09:25:08.521\",\"2021-01-15 09:25:09.537\",\"2021-01-15 09:25:10.552\",\"2021-01-15 09:25:11.567\",\"2021-01-15 09:25:12.583\",\"2021-01-15 09:25:13.598\",\"2021-01-15 09:25:14.613\",\"2021-01-15 09:25:15.615\",\"2021-01-15 09:25:16.63\",\"2021-01-15 09:25:17.646\",\"2021-01-15 09:25:18.661\",\"2021-01-15 09:25:19.677\",\"2021-01-15 09:25:20.692\",\"2021-01-15 09:25:21.707\",\"2021-01-15 09:25:22.723\",\"2021-01-15 09:25:23.738\",\"2021-01-15 09:25:24.753\",\"2021-01-15 09:25:25.769\",\"2021-01-15 09:25:26.784\",\"2021-01-15 09:25:27.8\",\"2021-01-15 09:25:28.815\",\"2021-01-15 09:25:29.83\",\"2021-01-15 09:25:30.831\",\"2021-01-15 09:25:31.847\",\"2021-01-15 09:25:32.862\",\"2021-01-15 09:25:33.878\",\"2021-01-15 09:25:34.893\",\"2021-01-15 09:25:35.909\",\"2021-01-15 09:25:36.924\",\"2021-01-15 09:25:37.939\",\"2021-01-15 09:25:38.955\",\"2021-01-15 09:25:39.97\",\"2021-01-15 09:25:40.985\",\"2021-01-15 09:25:42.001\",\"2021-01-15 09:25:43.016\",\"2021-01-15 09:25:44.032\",\"2021-01-15 09:25:45.047\",\"2021-01-15 09:25:46.056\",\"2021-01-15 09:25:47.072\",\"2021-01-15 09:25:48.087\",\"2021-01-15 09:25:49.102\",\"2021-01-15 09:25:50.118\",\"2021-01-15 09:25:51.133\",\"2021-01-15 09:25:52.149\",\"2021-01-15 09:25:53.164\",\"2021-01-15 09:25:54.179\",\"2021-01-15 09:25:55.195\",\"2021-01-15 09:25:56.21\",\"2021-01-15 09:25:57.225\",\"2021-01-15 09:25:58.241\",\"2021-01-15 09:25:59.256\",\"2021-01-15 09:26:00.258\",\"2021-01-15 09:26:01.273\",\"2021-01-15 09:26:02.288\",\"2021-01-15 09:26:03.304\",\"2021-01-15 09:26:04.319\",\"2021-01-15 09:26:05.335\",\"2021-01-15 09:26:06.35\",\"2021-01-15 09:26:07.365\",\"2021-01-15 09:26:08.381\",\"2021-01-15 09:26:09.396\",\"2021-01-15 09:26:10.411\",\"2021-01-15 09:26:11.427\",\"2021-01-15 09:26:12.442\",\"2021-01-15 09:26:13.458\",\"2021-01-15 09:26:14.473\",\"2021-01-15 09:26:15.478\",\"2021-01-15 09:26:16.494\",\"2021-01-15 09:26:17.509\",\"2021-01-15 09:26:18.524\",\"2021-01-15 09:26:19.54\",\"2021-01-15 09:26:20.555\",\"2021-01-15 09:26:21.571\",\"2021-01-15 09:26:22.586\",\"2021-01-15 09:26:23.601\",\"2021-01-15 09:26:24.617\",\"2021-01-15 09:26:25.632\",\"2021-01-15 09:26:26.648\",\"2021-01-15 09:26:27.663\",\"2021-01-15 09:26:28.678\",\"2021-01-15 09:26:29.694\",\"2021-01-15 09:26:30.695\",\"2021-01-15 09:26:31.71\",\"2021-01-15 09:26:32.726\",\"2021-01-15 09:26:33.741\",\"2021-01-15 09:26:34.756\",\"2021-01-15 09:26:35.772\",\"2021-01-15 09:26:36.788\",\"2021-01-15 09:26:37.803\",\"2021-01-15 09:26:38.818\",\"2021-01-15 09:26:39.834\",\"2021-01-15 09:26:40.849\",\"2021-01-15 09:26:41.864\",\"2021-01-15 09:26:42.88\",\"2021-01-15 09:26:43.895\",\"2021-01-15 09:26:44.911\",\"2021-01-15 09:26:45.912\",\"2021-01-15 09:26:46.927\",\"2021-01-15 09:26:47.942\",\"2021-01-15 09:26:48.958\",\"2021-01-15 09:26:49.973\",\"2021-01-15 09:26:50.989\",\"2021-01-15 09:26:52.004\",\"2021-01-15 09:26:53.02\",\"2021-01-15 09:26:54.035\",\"2021-01-15 09:26:55.05\",\"2021-01-15 09:26:56.066\",\"2021-01-15 09:26:57.081\",\"2021-01-15 09:26:58.096\",\"2021-01-15 09:26:59.112\",\"2021-01-15 09:27:00.127\",\"2021-01-15 09:27:01.128\",\"2021-01-15 09:27:02.144\",\"2021-01-15 09:27:03.159\",\"2021-01-15 09:27:04.175\",\"2021-01-15 09:27:05.19\",\"2021-01-15 09:27:06.205\",\"2021-01-15 09:27:07.221\",\"2021-01-15 09:27:08.236\",\"2021-01-15 09:27:09.251\",\"2021-01-15 09:27:10.267\",\"2021-01-15 09:27:11.282\",\"2021-01-15 09:27:12.298\",\"2021-01-15 09:27:13.313\",\"2021-01-15 09:27:14.328\",\"2021-01-15 09:27:15.332\",\"2021-01-15 09:27:16.347\",\"2021-01-15 09:27:17.348\",\"2021-01-15 09:27:18.364\",\"2021-01-15 09:27:19.365\",\"2021-01-15 09:27:20.378\",\"2021-01-15 09:27:21.379\",\"2021-01-15 09:27:22.394\",\"2021-01-15 09:27:23.41\",\"2021-01-15 09:27:24.425\",\"2021-01-15 09:27:25.426\",\"2021-01-15 09:27:26.442\",\"2021-01-15 09:27:27.457\",\"2021-01-15 09:27:28.472\",\"2021-01-15 09:27:29.488\",\"2021-01-15 09:27:30.489\",\"2021-01-15 09:27:31.505\",\"2021-01-15 09:27:32.52\",\"2021-01-15 09:27:33.535\",\"2021-01-15 09:27:34.551\",\"2021-01-15 09:27:35.566\",\"2021-01-15 09:27:36.581\",\"2021-01-15 09:27:37.597\",\"2021-01-15 09:27:38.612\",\"2021-01-15 09:27:39.628\",\"2021-01-15 09:27:40.643\",\"2021-01-15 09:27:41.658\",\"2021-01-15 09:27:42.674\",\"2021-01-15 09:27:43.689\",\"2021-01-15 09:27:44.705\",\"2021-01-15 09:27:45.706\",\"2021-01-15 09:27:46.721\",\"2021-01-15 09:27:47.737\",\"2021-01-15 09:27:48.752\",\"2021-01-15 09:27:49.768\",\"2021-01-15 09:27:50.783\",\"2021-01-15 09:27:51.798\",\"2021-01-15 09:27:52.814\",\"2021-01-15 09:27:53.829\",\"2021-01-15 09:27:54.844\",\"2021-01-15 09:27:55.86\",\"2021-01-15 09:27:56.875\",\"2021-01-15 09:27:57.891\",\"2021-01-15 09:27:58.906\",\"2021-01-15 09:27:59.921\",\"2021-01-15 09:28:00.93\",\"2021-01-15 09:28:01.945\",\"2021-01-15 09:28:02.96\",\"2021-01-15 09:28:03.976\",\"2021-01-15 09:28:04.991\",\"2021-01-15 09:28:06.007\",\"2021-01-15 09:28:07.022\",\"2021-01-15 09:28:08.038\",\"2021-01-15 09:28:09.053\",\"2021-01-15 09:28:10.068\",\"2021-01-15 09:28:11.084\",\"2021-01-15 09:28:12.099\",\"2021-01-15 09:28:13.115\",\"2021-01-15 09:28:14.13\",\"2021-01-15 09:28:15.145\",\"2021-01-15 09:28:16.147\",\"2021-01-15 09:28:17.162\",\"2021-01-15 09:28:18.178\",\"2021-01-15 09:28:19.193\",\"2021-01-15 09:28:20.208\",\"2021-01-15 09:28:21.224\",\"2021-01-15 09:28:22.239\",\"2021-01-15 09:28:23.255\",\"2021-01-15 09:28:24.27\",\"2021-01-15 09:28:25.285\",\"2021-01-15 09:28:26.301\",\"2021-01-15 09:28:27.316\",\"2021-01-15 09:28:28.331\",\"2021-01-15 09:28:29.347\",\"2021-01-15 09:28:30.348\",\"2021-01-15 09:28:31.364\",\"2021-01-15 09:28:32.379\",\"2021-01-15 09:28:33.394\",\"2021-01-15 09:28:34.409\",\"2021-01-15 09:28:35.425\",\"2021-01-15 09:28:36.441\",\"2021-01-15 09:28:37.456\",\"2021-01-15 09:28:38.471\",\"2021-01-15 09:28:39.487\",\"2021-01-15 09:28:40.502\",\"2021-01-15 09:28:41.517\",\"2021-01-15 09:28:42.533\",\"2021-01-15 09:28:43.548\",\"2021-01-15 09:28:44.563\",\"2021-01-15 09:28:45.565\",\"2021-01-15 09:28:46.58\",\"2021-01-15 09:28:47.596\",\"2021-01-15 09:28:48.611\",\"2021-01-15 09:28:49.627\",\"2021-01-15 09:28:50.642\",\"2021-01-15 09:28:51.657\",\"2021-01-15 09:28:52.673\",\"2021-01-15 09:28:53.688\",\"2021-01-15 09:28:54.703\",\"2021-01-15 09:28:55.719\",\"2021-01-15 09:28:56.734\",\"2021-01-15 09:28:57.75\",\"2021-01-15 09:28:58.765\",\"2021-01-15 09:28:59.78\",\"2021-01-15 09:29:00.782\",\"2021-01-15 09:29:01.797\",\"2021-01-15 09:29:02.812\",\"2021-01-15 09:29:03.828\",\"2021-01-15 09:29:04.843\",\"2021-01-15 09:29:05.859\",\"2021-01-15 09:29:06.874\",\"2021-01-15 09:29:07.889\",\"2021-01-15 09:29:08.905\",\"2021-01-15 09:29:09.92\",\"2021-01-15 09:29:10.936\",\"2021-01-15 09:29:11.951\",\"2021-01-15 09:29:12.966\",\"2021-01-15 09:29:13.982\",\"2021-01-15 09:29:14.997\",\"2021-01-15 09:29:15.998\",\"2021-01-15 09:29:17.014\",\"2021-01-15 09:29:18.029\",\"2021-01-15 09:29:19.045\",\"2021-01-15 09:29:20.06\",\"2021-01-15 09:29:21.075\",\"2021-01-15 09:29:22.091\",\"2021-01-15 09:29:23.106\",\"2021-01-15 09:29:24.122\",\"2021-01-15 09:29:25.137\",\"2021-01-15 09:29:26.152\",\"2021-01-15 09:29:27.168\",\"2021-01-15 09:29:28.183\",\"2021-01-15 09:29:29.198\",\"2021-01-15 09:29:30.2\",\"2021-01-15 09:29:31.215\",\"2021-01-15 09:29:32.231\",\"2021-01-15 09:29:33.246\",\"2021-01-15 09:29:34.261\",\"2021-01-15 09:29:35.277\",\"2021-01-15 09:29:36.292\",\"2021-01-15 09:29:37.307\",\"2021-01-15 09:29:38.323\",\"2021-01-15 09:29:39.338\",\"2021-01-15 09:29:40.354\",\"2021-01-15 09:29:41.369\",\"2021-01-15 09:29:42.384\",\"2021-01-15 09:29:43.4\",\"2021-01-15 09:29:44.415\",\"2021-01-15 09:29:45.417\",\"2021-01-15 09:29:46.432\",\"2021-01-15 09:29:47.447\",\"2021-01-15 09:29:48.463\",\"2021-01-15 09:29:49.478\",\"2021-01-15 09:29:50.493\",\"2021-01-15 09:29:51.509\",\"2021-01-15 09:29:52.524\",\"2021-01-15 09:29:53.54\",\"2021-01-15 09:29:54.555\",\"2021-01-15 09:29:55.571\",\"2021-01-15 09:29:56.586\",\"2021-01-15 09:29:57.601\",\"2021-01-15 09:29:58.617\",\"2021-01-15 09:29:59.632\",\"2021-01-15 09:30:00.64\",\"2021-01-15 09:30:01.655\",\"2021-01-15 09:30:02.67\",\"2021-01-15 09:30:03.686\",\"2021-01-15 09:30:04.701\",\"2021-01-15 09:30:05.716\",\"2021-01-15 09:30:06.732\",\"2021-01-15 09:30:07.747\",\"2021-01-15 09:30:08.763\",\"2021-01-15 09:30:09.778\",\"2021-01-15 09:30:10.793\",\"2021-01-15 09:30:11.809\",\"2021-01-15 09:30:12.824\",\"2021-01-15 09:30:13.839\",\"2021-01-15 09:30:14.855\",\"2021-01-15 09:30:15.856\",\"2021-01-15 09:30:16.872\",\"2021-01-15 09:30:17.887\",\"2021-01-15 09:30:18.902\",\"2021-01-15 09:30:19.918\",\"2021-01-15 09:30:20.933\",\"2021-01-15 09:30:21.949\",\"2021-01-15 09:30:22.964\",\"2021-01-15 09:30:23.979\",\"2021-01-15 09:30:24.995\",\"2021-01-15 09:30:26.01\",\"2021-01-15 09:30:27.025\",\"2021-01-15 09:30:28.041\",\"2021-01-15 09:30:29.056\",\"2021-01-15 09:30:30.072\",\"2021-01-15 09:30:31.073\",\"2021-01-15 09:30:32.088\",\"2021-01-15 09:30:33.104\",\"2021-01-15 09:30:34.119\",\"2021-01-15 09:30:35.134\",\"2021-01-15 09:30:36.15\",\"2021-01-15 09:30:37.165\",\"2021-01-15 09:30:38.181\",\"2021-01-15 09:30:39.196\",\"2021-01-15 09:30:40.211\",\"2021-01-15 09:30:41.227\",\"2021-01-15 09:30:42.242\",\"2021-01-15 09:30:43.258\",\"2021-01-15 09:30:44.273\",\"2021-01-15 09:30:45.274\",\"2021-01-15 09:30:46.29\",\"2021-01-15 09:30:47.305\",\"2021-01-15 09:30:48.32\",\"2021-01-15 09:30:49.336\",\"2021-01-15 09:30:50.351\",\"2021-01-15 09:30:51.367\",\"2021-01-15 09:30:52.382\",\"2021-01-15 09:30:53.397\",\"2021-01-15 09:30:54.413\",\"2021-01-15 09:30:55.428\",\"2021-01-15 09:30:56.443\",\"2021-01-15 09:30:57.459\",\"2021-01-15 09:30:58.474\",\"2021-01-15 09:30:59.49\",\"2021-01-15 09:31:00.491\",\"2021-01-15 09:31:01.506\",\"2021-01-15 09:31:02.522\",\"2021-01-15 09:31:03.537\",\"2021-01-15 09:31:04.552\",\"2021-01-15 09:31:05.568\",\"2021-01-15 09:31:06.583\",\"2021-01-15 09:31:07.599\",\"2021-01-15 09:31:08.614\",\"2021-01-15 09:31:09.629\",\"2021-01-15 09:31:10.645\",\"2021-01-15 09:31:11.66\",\"2021-01-15 09:31:12.675\",\"2021-01-15 09:31:13.691\",\"2021-01-15 09:31:14.706\",\"2021-01-15 09:31:15.708\",\"2021-01-15 09:31:16.723\",\"2021-01-15 09:31:17.738\",\"2021-01-15 09:31:18.754\",\"2021-01-15 09:31:19.769\",\"2021-01-15 09:31:20.784\",\"2021-01-15 09:31:21.8\",\"2021-01-15 09:31:22.815\",\"2021-01-15 09:31:23.831\",\"2021-01-15 09:31:24.846\",\"2021-01-15 09:31:25.861\",\"2021-01-15 09:31:26.877\",\"2021-01-15 09:31:27.892\",\"2021-01-15 09:31:28.908\",\"2021-01-15 09:31:29.923\",\"2021-01-15 09:31:30.924\",\"2021-01-15 09:31:31.939\",\"2021-01-15 09:31:32.955\",\"2021-01-15 09:31:33.97\",\"2021-01-15 09:31:34.986\",\"2021-01-15 09:31:36.001\",\"2021-01-15 09:31:37.017\",\"2021-01-15 09:31:38.032\",\"2021-01-15 09:31:39.047\",\"2021-01-15 09:31:40.063\",\"2021-01-15 09:31:41.078\",\"2021-01-15 09:31:42.093\",\"2021-01-15 09:31:43.109\",\"2021-01-15 09:31:44.124\",\"2021-01-15 09:31:45.14\",\"2021-01-15 09:31:48.172\",\"2021-01-15 09:31:49.187\",\"2021-01-15 09:31:50.202\",\"2021-01-15 09:31:51.218\",\"2021-01-15 09:31:52.233\",\"2021-01-15 09:31:53.248\",\"2021-01-15 09:31:54.264\",\"2021-01-15 09:31:55.279\",\"2021-01-15 09:31:56.294\",\"2021-01-15 09:31:57.31\",\"2021-01-15 09:31:58.325\",\"2021-01-15 09:31:59.341\",\"2021-01-15 09:32:00.342\",\"2021-01-15 09:32:01.358\",\"2021-01-15 09:32:02.373\",\"2021-01-15 09:32:03.389\",\"2021-01-15 09:32:04.404\",\"2021-01-15 09:32:05.419\",\"2021-01-15 09:32:06.435\",\"2021-01-15 09:32:07.45\",\"2021-01-15 09:32:08.465\",\"2021-01-15 09:32:09.481\",\"2021-01-15 09:32:10.496\",\"2021-01-15 09:32:11.512\",\"2021-01-15 09:32:12.527\",\"2021-01-15 09:32:13.542\",\"2021-01-15 09:32:14.558\",\"2021-01-15 09:32:15.566\",\"2021-01-15 09:32:16.582\",\"2021-01-15 09:32:17.597\",\"2021-01-15 09:32:18.612\",\"2021-01-15 09:32:19.628\",\"2021-01-15 09:32:20.643\",\"2021-01-15 09:32:21.658\",\"2021-01-15 09:32:22.674\",\"2021-01-15 09:32:23.689\",\"2021-01-15 09:32:24.705\",\"2021-01-15 09:32:25.72\",\"2021-01-15 09:32:26.735\",\"2021-01-15 09:32:27.751\",\"2021-01-15 09:32:28.766\",\"2021-01-15 09:32:29.782\",\"2021-01-15 09:32:30.783\",\"2021-01-15 09:32:31.798\",\"2021-01-15 09:32:32.814\",\"2021-01-15 09:32:33.829\",\"2021-01-15 09:32:34.844\",\"2021-01-15 09:32:35.86\",\"2021-01-15 09:32:36.875\",\"2021-01-15 09:32:37.89\",\"2021-01-15 09:32:38.906\",\"2021-01-15 09:32:39.921\",\"2021-01-15 09:32:40.937\",\"2021-01-15 09:32:41.952\",\"2021-01-15 09:32:42.967\",\"2021-01-15 09:32:43.983\",\"2021-01-15 09:32:44.998\",\"2021-01-15 09:32:45.999\",\"2021-01-15 09:32:47.015\",\"2021-01-15 09:32:48.03\",\"2021-01-15 09:32:49.046\",\"2021-01-15 09:32:50.061\",\"2021-01-15 09:32:51.076\",\"2021-01-15 09:32:52.092\",\"2021-01-15 09:32:53.107\",\"2021-01-15 09:32:54.123\",\"2021-01-15 09:32:55.138\",\"2021-01-15 09:32:56.153\",\"2021-01-15 09:32:57.169\",\"2021-01-15 09:32:58.184\",\"2021-01-15 09:32:59.199\",\"2021-01-15 09:33:00.201\",\"2021-01-15 09:33:01.216\",\"2021-01-15 09:33:02.232\",\"2021-01-15 09:33:03.247\",\"2021-01-15 09:33:04.262\",\"2021-01-15 09:33:05.278\",\"2021-01-15 09:33:06.293\",\"2021-01-15 09:33:07.308\",\"2021-01-15 09:33:08.324\",\"2021-01-15 09:33:09.339\",\"2021-01-15 09:33:10.355\",\"2021-01-15 09:33:11.37\",\"2021-01-15 09:33:12.385\",\"2021-01-15 09:33:13.401\",\"2021-01-15 09:33:14.416\",\"2021-01-15 09:33:15.417\",\"2021-01-15 09:33:16.433\",\"2021-01-15 09:33:17.448\",\"2021-01-15 09:33:18.464\",\"2021-01-15 09:33:19.479\",\"2021-01-15 09:33:20.494\",\"2021-01-15 09:33:21.51\",\"2021-01-15 09:33:22.525\",\"2021-01-15 09:33:23.54\",\"2021-01-15 09:33:24.556\",\"2021-01-15 09:33:25.571\",\"2021-01-15 09:33:26.587\",\"2021-01-15 09:33:27.602\",\"2021-01-15 09:33:28.617\",\"2021-01-15 09:33:29.633\",\"2021-01-15 09:33:30.634\",\"2021-01-15 09:33:31.649\",\"2021-01-15 09:33:32.665\",\"2021-01-15 09:33:33.68\",\"2021-01-15 09:33:34.696\",\"2021-01-15 09:33:35.711\",\"2021-01-15 09:33:36.726\",\"2021-01-15 09:33:37.742\",\"2021-01-15 09:33:38.757\",\"2021-01-15 09:33:39.773\",\"2021-01-15 09:33:40.788\",\"2021-01-15 09:33:41.803\",\"2021-01-15 09:33:42.819\",\"2021-01-15 09:33:43.834\",\"2021-01-15 09:33:44.85\",\"2021-01-15 09:33:45.851\",\"2021-01-15 09:33:46.866\",\"2021-01-15 09:33:47.882\",\"2021-01-15 09:33:48.897\",\"2021-01-15 09:33:49.912\",\"2021-01-15 09:33:50.928\",\"2021-01-15 09:33:51.943\",\"2021-01-15 09:33:52.959\",\"2021-01-15 09:33:53.974\",\"2021-01-15 09:33:54.989\",\"2021-01-15 09:33:56.005\",\"2021-01-15 09:33:57.02\",\"2021-01-15 09:33:58.036\",\"2021-01-15 09:33:59.051\",\"2021-01-15 09:34:00.066\",\"2021-01-15 09:34:01.068\",\"2021-01-15 09:34:02.083\",\"2021-01-15 09:34:03.098\",\"2021-01-15 09:34:04.114\",\"2021-01-15 09:34:05.126\",\"2021-01-15 09:34:06.142\",\"2021-01-15 09:34:07.157\",\"2021-01-15 09:34:08.173\",\"2021-01-15 09:34:09.188\",\"2021-01-15 09:34:10.203\",\"2021-01-15 09:34:11.219\",\"2021-01-15 09:34:12.234\",\"2021-01-15 09:34:13.25\",\"2021-01-15 09:34:14.265\",\"2021-01-15 09:34:15.266\",\"2021-01-15 09:34:16.282\",\"2021-01-15 09:34:17.297\",\"2021-01-15 09:34:18.313\",\"2021-01-15 09:34:19.328\",\"2021-01-15 09:34:20.343\",\"2021-01-15 09:34:21.359\",\"2021-01-15 09:34:22.374\",\"2021-01-15 09:34:23.389\",\"2021-01-15 09:34:24.405\",\"2021-01-15 09:34:25.42\",\"2021-01-15 09:34:26.435\",\"2021-01-15 09:34:27.451\",\"2021-01-15 09:34:28.466\",\"2021-01-15 09:34:29.482\",\"2021-01-15 09:34:30.49\",\"2021-01-15 09:34:31.506\",\"2021-01-15 09:34:32.521\",\"2021-01-15 09:34:33.537\",\"2021-01-15 09:34:34.552\",\"2021-01-15 09:34:35.567\",\"2021-01-15 09:34:36.583\",\"2021-01-15 09:34:37.598\",\"2021-01-15 09:34:38.613\",\"2021-01-15 09:34:39.629\",\"2021-01-15 09:34:40.644\",\"2021-01-15 09:34:41.66\",\"2021-01-15 09:34:42.675\",\"2021-01-15 09:34:43.691\",\"2021-01-15 09:34:44.706\",\"2021-01-15 09:34:45.707\",\"2021-01-15 09:34:46.722\",\"2021-01-15 09:34:47.738\",\"2021-01-15 09:34:48.753\",\"2021-01-15 09:34:49.769\",\"2021-01-15 09:34:50.784\",\"2021-01-15 09:34:51.799\",\"2021-01-15 09:34:52.815\",\"2021-01-15 09:34:53.83\",\"2021-01-15 09:34:54.846\",\"2021-01-15 09:34:55.861\",\"2021-01-15 09:34:56.876\",\"2021-01-15 09:34:57.892\",\"2021-01-15 09:34:58.907\",\"2021-01-15 09:34:59.923\",\"2021-01-15 09:35:00.924\",\"2021-01-15 09:35:01.939\",\"2021-01-15 09:35:02.954\",\"2021-01-15 09:35:03.97\",\"2021-01-15 09:35:04.985\",\"2021-01-15 09:35:06.001\",\"2021-01-15 09:35:07.016\",\"2021-01-15 09:35:08.031\",\"2021-01-15 09:35:09.047\",\"2021-01-15 09:35:10.062\",\"2021-01-15 09:35:11.078\",\"2021-01-15 09:35:12.093\",\"2021-01-15 09:35:13.108\",\"2021-01-15 09:35:14.124\",\"2021-01-15 09:35:15.139\",\"2021-01-15 09:35:16.14\",\"2021-01-15 09:35:17.156\",\"2021-01-15 09:35:18.171\",\"2021-01-15 09:35:19.186\",\"2021-01-15 09:35:20.202\",\"2021-01-15 09:35:21.217\",\"2021-01-15 09:35:22.233\",\"2021-01-15 09:35:23.248\",\"2021-01-15 09:35:24.263\",\"2021-01-15 09:35:25.279\",\"2021-01-15 09:35:26.294\",\"2021-01-15 09:35:27.31\",\"2021-01-15 09:35:28.325\",\"2021-01-15 09:35:29.34\",\"2021-01-15 09:35:30.342\",\"2021-01-15 09:35:31.357\",\"2021-01-15 09:35:32.372\",\"2021-01-15 09:35:33.388\",\"2021-01-15 09:35:34.403\",\"2021-01-15 09:35:35.418\",\"2021-01-15 09:35:36.434\",\"2021-01-15 09:35:37.449\",\"2021-01-15 09:35:38.465\",\"2021-01-15 09:35:39.48\",\"2021-01-15 09:35:40.495\",\"2021-01-15 09:35:41.511\",\"2021-01-15 09:35:42.526\",\"2021-01-15 09:35:43.542\",\"2021-01-15 09:35:44.557\",\"2021-01-15 09:35:45.558\",\"2021-01-15 09:35:46.574\",\"2021-01-15 09:35:47.589\",\"2021-01-15 09:35:48.604\",\"2021-01-15 09:35:49.62\",\"2021-01-15 09:35:50.635\",\"2021-01-15 09:35:51.651\",\"2021-01-15 09:35:52.666\",\"2021-01-15 09:35:53.681\",\"2021-01-15 09:35:54.697\",\"2021-01-15 09:35:55.712\",\"2021-01-15 09:35:56.728\",\"2021-01-15 09:35:57.743\",\"2021-01-15 09:35:58.758\",\"2021-01-15 09:35:59.774\",\"2021-01-15 09:36:00.775\",\"2021-01-15 09:36:01.79\",\"2021-01-15 09:36:02.806\",\"2021-01-15 09:36:03.821\",\"2021-01-15 09:36:04.837\",\"2021-01-15 09:36:05.852\",\"2021-01-15 09:36:06.867\",\"2021-01-15 09:36:07.883\",\"2021-01-15 09:36:08.898\",\"2021-01-15 09:36:09.913\",\"2021-01-15 09:36:10.929\",\"2021-01-15 09:36:11.944\",\"2021-01-15 09:36:12.96\",\"2021-01-15 09:36:13.975\",\"2021-01-15 09:36:14.99\",\"2021-01-15 09:36:15.992\",\"2021-01-15 09:36:18.022\",\"2021-01-15 09:36:19.038\",\"2021-01-15 09:36:20.053\",\"2021-01-15 09:36:21.069\",\"2021-01-15 09:36:22.084\",\"2021-01-15 09:36:23.099\",\"2021-01-15 09:36:24.115\",\"2021-01-15 09:36:25.13\",\"2021-01-15 09:36:27.161\",\"2021-01-15 09:36:28.176\",\"2021-01-15 09:36:29.192\",\"2021-01-15 09:36:30.193\",\"2021-01-15 09:36:31.209\",\"2021-01-15 09:36:32.224\",\"2021-01-15 09:36:33.239\",\"2021-01-15 09:36:34.255\",\"2021-01-15 09:36:35.27\",\"2021-01-15 09:36:36.286\",\"2021-01-15 09:36:37.301\",\"2021-01-15 09:36:38.316\",\"2021-01-15 09:36:39.332\",\"2021-01-15 09:36:40.347\",\"2021-01-15 09:36:41.362\",\"2021-01-15 09:36:42.378\",\"2021-01-15 09:36:43.393\",\"2021-01-15 09:36:44.409\",\"2021-01-15 09:36:45.415\",\"2021-01-15 09:36:46.431\",\"2021-01-15 09:36:47.446\",\"2021-01-15 09:36:48.461\",\"2021-01-15 09:36:49.477\",\"2021-01-15 09:36:50.492\",\"2021-01-15 09:36:51.507\",\"2021-01-15 09:36:52.523\",\"2021-01-15 09:36:53.538\",\"2021-01-15 09:36:54.554\",\"2021-01-15 09:36:55.569\",\"2021-01-15 09:36:56.584\",\"2021-01-15 09:36:57.6\",\"2021-01-15 09:36:58.615\",\"2021-01-15 09:36:59.631\",\"2021-01-15 09:37:00.632\",\"2021-01-15 09:37:01.648\",\"2021-01-15 09:37:02.663\",\"2021-01-15 09:37:03.679\",\"2021-01-15 09:37:04.694\",\"2021-01-15 09:37:05.709\",\"2021-01-15 09:37:06.725\",\"2021-01-15 09:37:07.74\",\"2021-01-15 09:37:08.756\",\"2021-01-15 09:37:09.771\",\"2021-01-15 09:37:10.786\",\"2021-01-15 09:37:11.802\",\"2021-01-15 09:37:12.817\",\"2021-01-15 09:37:13.833\",\"2021-01-15 09:37:14.848\",\"2021-01-15 09:37:15.849\",\"2021-01-15 09:37:16.864\",\"2021-01-15 09:37:17.865\",\"2021-01-15 09:37:18.88\",\"2021-01-15 09:37:19.882\",\"2021-01-15 09:37:20.894\",\"2021-01-15 09:37:21.896\",\"2021-01-15 09:37:22.911\",\"2021-01-15 09:37:23.927\",\"2021-01-15 09:37:24.942\",\"2021-01-15 09:37:25.943\",\"2021-01-15 09:37:26.959\",\"2021-01-15 09:37:27.974\",\"2021-01-15 09:37:28.989\",\"2021-01-15 09:37:30.005\",\"2021-01-15 09:37:31.006\",\"2021-01-15 09:37:32.021\",\"2021-01-15 09:37:33.037\",\"2021-01-15 09:37:34.052\",\"2021-01-15 09:37:35.068\",\"2021-01-15 09:37:36.083\",\"2021-01-15 09:37:37.098\",\"2021-01-15 09:37:38.114\",\"2021-01-15 09:37:39.129\",\"2021-01-15 09:37:40.144\",\"2021-01-15 09:37:41.16\",\"2021-01-15 09:37:42.175\",\"2021-01-15 09:37:43.191\",\"2021-01-15 09:37:44.206\",\"2021-01-15 09:37:45.207\",\"2021-01-15 09:37:46.223\",\"2021-01-15 09:37:47.238\",\"2021-01-15 09:37:48.254\",\"2021-01-15 09:37:49.269\",\"2021-01-15 09:37:50.284\",\"2021-01-15 09:37:51.3\",\"2021-01-15 09:37:52.315\",\"2021-01-15 09:37:53.331\",\"2021-01-15 09:37:54.346\",\"2021-01-15 09:37:55.361\",\"2021-01-15 09:37:56.377\",\"2021-01-15 09:37:57.392\",\"2021-01-15 09:37:58.408\",\"2021-01-15 09:37:59.423\",\"2021-01-15 09:38:00.424\",\"2021-01-15 09:38:01.44\",\"2021-01-15 09:38:02.455\",\"2021-01-15 09:38:03.47\",\"2021-01-15 09:38:04.486\",\"2021-01-15 09:38:05.501\",\"2021-01-15 09:38:06.516\",\"2021-01-15 09:38:07.532\",\"2021-01-15 09:38:08.547\",\"2021-01-15 09:38:09.562\",\"2021-01-15 09:38:10.578\",\"2021-01-15 09:38:11.593\",\"2021-01-15 09:38:12.608\",\"2021-01-15 09:38:13.624\",\"2021-01-15 09:38:14.639\",\"2021-01-15 09:38:15.641\",\"2021-01-15 09:38:16.656\",\"2021-01-15 09:38:17.672\",\"2021-01-15 09:38:18.687\",\"2021-01-15 09:38:19.702\",\"2021-01-15 09:38:20.718\",\"2021-01-15 09:38:21.733\",\"2021-01-15 09:38:22.749\",\"2021-01-15 09:38:23.764\",\"2021-01-15 09:38:24.779\",\"2021-01-15 09:38:25.795\",\"2021-01-15 09:38:26.81\",\"2021-01-15 09:38:27.825\",\"2021-01-15 09:38:28.841\",\"2021-01-15 09:38:29.856\",\"2021-01-15 09:38:30.857\",\"2021-01-15 09:38:31.873\",\"2021-01-15 09:38:32.888\",\"2021-01-15 09:38:33.904\",\"2021-01-15 09:38:34.919\",\"2021-01-15 09:38:35.934\",\"2021-01-15 09:38:36.95\",\"2021-01-15 09:38:37.965\",\"2021-01-15 09:38:38.981\",\"2021-01-15 09:38:39.996\",\"2021-01-15 09:38:41.011\",\"2021-01-15 09:38:42.027\",\"2021-01-15 09:38:43.042\",\"2021-01-15 09:38:44.058\",\"2021-01-15 09:38:45.073\",\"2021-01-15 09:38:46.074\",\"2021-01-15 09:38:47.09\",\"2021-01-15 09:38:48.105\",\"2021-01-15 09:38:49.12\",\"2021-01-15 09:38:50.136\",\"2021-01-15 09:38:51.151\",\"2021-01-15 09:38:52.167\",\"2021-01-15 09:38:53.182\",\"2021-01-15 09:38:54.197\",\"2021-01-15 09:38:55.213\",\"2021-01-15 09:38:56.228\",\"2021-01-15 09:38:57.244\",\"2021-01-15 09:38:58.259\",\"2021-01-15 09:38:59.274\",\"2021-01-15 09:39:00.284\",\"2021-01-15 09:39:01.299\",\"2021-01-15 09:39:02.315\",\"2021-01-15 09:39:03.33\",\"2021-01-15 09:39:04.345\",\"2021-01-15 09:39:05.36\",\"2021-01-15 09:39:06.376\",\"2021-01-15 09:39:07.391\",\"2021-01-15 09:39:08.407\",\"2021-01-15 09:39:09.422\",\"2021-01-15 09:39:10.438\",\"2021-01-15 09:39:11.453\",\"2021-01-15 09:39:12.468\",\"2021-01-15 09:39:13.484\",\"2021-01-15 09:39:14.499\",\"2021-01-15 09:39:15.501\",\"2021-01-15 09:39:16.516\",\"2021-01-15 09:39:17.531\",\"2021-01-15 09:39:18.547\",\"2021-01-15 09:39:19.562\",\"2021-01-15 09:39:20.578\",\"2021-01-15 09:39:21.593\",\"2021-01-15 09:39:22.608\",\"2021-01-15 09:39:23.624\",\"2021-01-15 09:39:24.639\",\"2021-01-15 09:39:25.655\",\"2021-01-15 09:39:26.67\",\"2021-01-15 09:39:27.685\",\"2021-01-15 09:39:28.701\",\"2021-01-15 09:39:29.716\",\"2021-01-15 09:39:30.718\",\"2021-01-15 09:39:31.733\",\"2021-01-15 09:39:32.748\",\"2021-01-15 09:39:33.764\",\"2021-01-15 09:39:34.779\",\"2021-01-15 09:39:35.795\",\"2021-01-15 09:39:36.81\",\"2021-01-15 09:39:37.825\",\"2021-01-15 09:39:38.841\",\"2021-01-15 09:39:39.856\",\"2021-01-15 09:39:40.871\",\"2021-01-15 09:39:41.887\",\"2021-01-15 09:39:42.902\",\"2021-01-15 09:39:43.918\",\"2021-01-15 09:39:44.933\",\"2021-01-15 09:39:45.934\",\"2021-01-15 09:39:46.95\",\"2021-01-15 09:39:47.965\",\"2021-01-15 09:39:48.981\",\"2021-01-15 09:39:49.996\",\"2021-01-15 09:39:51.011\",\"2021-01-15 09:39:52.027\",\"2021-01-15 09:39:53.042\",\"2021-01-15 09:39:54.058\",\"2021-01-15 09:39:55.073\",\"2021-01-15 09:39:56.088\",\"2021-01-15 09:39:57.104\",\"2021-01-15 09:39:58.119\",\"2021-01-15 09:39:59.134\",\"2021-01-15 09:40:00.15\",\"2021-01-15 09:40:01.151\",\"2021-01-15 09:40:02.167\",\"2021-01-15 09:40:03.182\",\"2021-01-15 09:40:04.197\",\"2021-01-15 09:40:05.213\",\"2021-01-15 09:40:06.228\",\"2021-01-15 09:40:07.244\",\"2021-01-15 09:40:08.259\",\"2021-01-15 09:40:09.274\",\"2021-01-15 09:40:10.29\",\"2021-01-15 09:40:11.305\",\"2021-01-15 09:40:12.321\",\"2021-01-15 09:40:13.336\",\"2021-01-15 09:40:14.351\",\"2021-01-15 09:40:15.353\",\"2021-01-15 09:40:16.368\",\"2021-01-15 09:40:17.383\",\"2021-01-15 09:40:18.399\",\"2021-01-15 09:40:19.414\",\"2021-01-15 09:40:20.429\",\"2021-01-15 09:40:21.445\",\"2021-01-15 09:40:22.46\",\"2021-01-15 09:40:23.476\",\"2021-01-15 09:40:24.491\",\"2021-01-15 09:40:25.506\",\"2021-01-15 09:40:26.522\",\"2021-01-15 09:40:27.537\",\"2021-01-15 09:40:28.553\",\"2021-01-15 09:40:29.568\",\"2021-01-15 09:40:30.569\",\"2021-01-15 09:40:31.585\",\"2021-01-15 09:40:32.6\",\"2021-01-15 09:40:33.615\",\"2021-01-15 09:40:34.631\",\"2021-01-15 09:40:35.646\",\"2021-01-15 09:40:36.662\",\"2021-01-15 09:40:37.677\",\"2021-01-15 09:40:38.692\",\"2021-01-15 09:40:39.708\",\"2021-01-15 09:40:40.723\",\"2021-01-15 09:40:41.738\",\"2021-01-15 09:40:42.754\",\"2021-01-15 09:40:43.769\",\"2021-01-15 09:40:44.785\",\"2021-01-15 09:40:45.786\",\"2021-01-15 09:40:46.801\",\"2021-01-15 09:40:47.817\",\"2021-01-15 09:40:48.832\",\"2021-01-15 09:40:49.847\",\"2021-01-15 09:40:50.863\",\"2021-01-15 09:40:51.878\",\"2021-01-15 09:40:52.894\",\"2021-01-15 09:40:53.909\",\"2021-01-15 09:40:54.924\",\"2021-01-15 09:40:55.94\",\"2021-01-15 09:40:56.955\",\"2021-01-15 09:40:57.971\",\"2021-01-15 09:40:58.986\",\"2021-01-15 09:41:00.001\",\"2021-01-15 09:41:01.003\",\"2021-01-15 09:41:02.018\",\"2021-01-15 09:41:03.034\",\"2021-01-15 09:41:04.049\",\"2021-01-15 09:41:05.064\",\"2021-01-15 09:41:06.08\",\"2021-01-15 09:41:07.095\",\"2021-01-15 09:41:08.11\",\"2021-01-15 09:41:09.126\",\"2021-01-15 09:41:10.141\",\"2021-01-15 09:41:11.157\",\"2021-01-15 09:41:12.172\",\"2021-01-15 09:41:13.187\",\"2021-01-15 09:41:14.203\",\"2021-01-15 09:41:15.211\",\"2021-01-15 09:41:16.226\",\"2021-01-15 09:41:17.242\",\"2021-01-15 09:41:18.257\",\"2021-01-15 09:41:19.273\",\"2021-01-15 09:41:20.288\",\"2021-01-15 09:41:21.303\",\"2021-01-15 09:41:22.318\",\"2021-01-15 09:41:23.334\",\"2021-01-15 09:41:24.35\",\"2021-01-15 09:41:25.365\",\"2021-01-15 09:41:26.38\",\"2021-01-15 09:41:27.396\",\"2021-01-15 09:41:28.411\",\"2021-01-15 09:41:29.426\",\"2021-01-15 09:41:30.428\",\"2021-01-15 09:41:31.443\",\"2021-01-15 09:41:32.459\",\"2021-01-15 09:41:33.474\",\"2021-01-15 09:41:34.489\",\"2021-01-15 09:41:35.505\",\"2021-01-15 09:41:36.52\",\"2021-01-15 09:41:37.536\",\"2021-01-15 09:41:38.551\",\"2021-01-15 09:41:39.566\",\"2021-01-15 09:41:40.582\",\"2021-01-15 09:41:41.597\",\"2021-01-15 09:41:42.613\",\"2021-01-15 09:41:43.628\",\"2021-01-15 09:41:44.643\",\"2021-01-15 09:41:45.645\",\"2021-01-15 09:41:46.66\",\"2021-01-15 09:41:47.675\",\"2021-01-15 09:41:48.691\",\"2021-01-15 09:41:49.706\",\"2021-01-15 09:41:50.721\",\"2021-01-15 09:41:51.737\",\"2021-01-15 09:41:52.752\",\"2021-01-15 09:41:53.768\",\"2021-01-15 09:41:54.783\",\"2021-01-15 09:41:55.798\",\"2021-01-15 09:41:56.814\",\"2021-01-15 09:41:57.829\",\"2021-01-15 09:41:58.845\",\"2021-01-15 09:41:59.86\",\"2021-01-15 09:42:00.861\",\"2021-01-15 09:42:01.877\",\"2021-01-15 09:42:02.892\",\"2021-01-15 09:42:03.907\",\"2021-01-15 09:42:04.923\",\"2021-01-15 09:42:05.938\",\"2021-01-15 09:42:06.954\",\"2021-01-15 09:42:07.969\",\"2021-01-15 09:42:08.984\",\"2021-01-15 09:42:10\",\"2021-01-15 09:42:11.015\",\"2021-01-15 09:42:12.031\",\"2021-01-15 09:42:13.046\",\"2021-01-15 09:42:14.061\",\"2021-01-15 09:42:15.077\",\"2021-01-15 09:42:16.078\",\"2021-01-15 09:42:17.093\",\"2021-01-15 09:42:18.109\",\"2021-01-15 09:42:19.124\",\"2021-01-15 09:42:20.14\",\"2021-01-15 09:42:21.155\",\"2021-01-15 09:42:22.17\",\"2021-01-15 09:42:23.186\",\"2021-01-15 09:42:24.201\",\"2021-01-15 09:42:25.216\",\"2021-01-15 09:42:26.232\",\"2021-01-15 09:42:27.247\",\"2021-01-15 09:42:28.263\",\"2021-01-15 09:42:29.278\",\"2021-01-15 09:42:30.28\",\"2021-01-15 09:42:31.295\",\"2021-01-15 09:42:32.31\",\"2021-01-15 09:42:33.326\",\"2021-01-15 09:42:34.341\",\"2021-01-15 09:42:35.356\",\"2021-01-15 09:42:36.372\",\"2021-01-15 09:42:37.387\",\"2021-01-15 09:42:38.403\",\"2021-01-15 09:42:39.418\",\"2021-01-15 09:42:40.433\",\"2021-01-15 09:42:41.449\",\"2021-01-15 09:42:42.464\",\"2021-01-15 09:42:43.48\",\"2021-01-15 09:42:44.495\",\"2021-01-15 09:42:45.496\",\"2021-01-15 09:42:46.512\",\"2021-01-15 09:42:47.527\",\"2021-01-15 09:42:48.543\",\"2021-01-15 09:42:49.558\",\"2021-01-15 09:42:50.573\",\"2021-01-15 09:42:51.589\",\"2021-01-15 09:42:52.604\",\"2021-01-15 09:42:53.62\",\"2021-01-15 09:42:54.635\",\"2021-01-15 09:42:55.65\",\"2021-01-15 09:42:56.666\",\"2021-01-15 09:42:57.681\",\"2021-01-15 09:42:58.696\",\"2021-01-15 09:42:59.712\",\"2021-01-15 09:43:00.713\",\"2021-01-15 09:43:01.729\",\"2021-01-15 09:43:02.744\",\"2021-01-15 09:43:03.759\",\"2021-01-15 09:43:04.775\",\"2021-01-15 09:43:05.79\",\"2021-01-15 09:43:06.806\",\"2021-01-15 09:43:07.821\",\"2021-01-15 09:43:08.836\",\"2021-01-15 09:43:09.852\",\"2021-01-15 09:43:10.867\",\"2021-01-15 09:43:11.882\",\"2021-01-15 09:43:12.898\",\"2021-01-15 09:43:13.913\",\"2021-01-15 09:43:14.929\",\"2021-01-15 09:43:15.936\",\"2021-01-15 09:43:16.951\",\"2021-01-15 09:43:17.967\",\"2021-01-15 09:43:18.982\",\"2021-01-15 09:43:19.997\",\"2021-01-15 09:43:21.013\",\"2021-01-15 09:43:22.028\",\"2021-01-15 09:43:23.043\",\"2021-01-15 09:43:24.059\",\"2021-01-15 09:43:25.074\",\"2021-01-15 09:43:26.09\",\"2021-01-15 09:43:27.105\",\"2021-01-15 09:43:28.12\",\"2021-01-15 09:43:29.136\",\"2021-01-15 09:43:30.151\",\"2021-01-15 09:43:31.153\",\"2021-01-15 09:43:32.168\",\"2021-01-15 09:43:33.183\",\"2021-01-15 09:43:34.198\",\"2021-01-15 09:43:35.214\",\"2021-01-15 09:43:36.229\",\"2021-01-15 09:43:37.245\",\"2021-01-15 09:43:38.26\",\"2021-01-15 09:43:39.276\",\"2021-01-15 09:43:40.291\",\"2021-01-15 09:43:41.307\",\"2021-01-15 09:43:42.322\",\"2021-01-15 09:43:43.337\",\"2021-01-15 09:43:44.353\",\"2021-01-15 09:43:45.354\",\"2021-01-15 09:43:46.369\",\"2021-01-15 09:43:47.385\",\"2021-01-15 09:43:48.4\",\"2021-01-15 09:43:49.415\",\"2021-01-15 09:43:50.431\",\"2021-01-15 09:43:51.446\",\"2021-01-15 09:43:52.462\",\"2021-01-15 09:43:53.477\",\"2021-01-15 09:43:54.492\",\"2021-01-15 09:43:55.508\",\"2021-01-15 09:43:56.523\",\"2021-01-15 09:43:57.538\",\"2021-01-15 09:43:58.554\",\"2021-01-15 09:43:59.569\",\"2021-01-15 09:44:00.57\",\"2021-01-15 09:44:01.586\",\"2021-01-15 09:44:02.601\",\"2021-01-15 09:44:03.617\",\"2021-01-15 09:44:04.629\",\"2021-01-15 09:44:05.644\",\"2021-01-15 09:44:06.66\",\"2021-01-15 09:44:07.675\",\"2021-01-15 09:44:08.691\",\"2021-01-15 09:44:09.706\",\"2021-01-15 09:44:10.721\",\"2021-01-15 09:44:11.737\",\"2021-01-15 09:44:12.752\",\"2021-01-15 09:44:13.768\",\"2021-01-15 09:44:14.783\",\"2021-01-15 09:44:15.784\",\"2021-01-15 09:44:16.8\",\"2021-01-15 09:44:17.815\",\"2021-01-15 09:44:18.83\",\"2021-01-15 09:44:19.846\",\"2021-01-15 09:44:20.861\",\"2021-01-15 09:44:21.877\",\"2021-01-15 09:44:22.892\",\"2021-01-15 09:44:23.907\",\"2021-01-15 09:44:24.923\",\"2021-01-15 09:44:25.938\",\"2021-01-15 09:44:26.954\",\"2021-01-15 09:44:27.969\",\"2021-01-15 09:44:28.984\",\"2021-01-15 09:44:30\",\"2021-01-15 09:44:31.001\",\"2021-01-15 09:44:32.016\",\"2021-01-15 09:44:33.032\",\"2021-01-15 09:44:34.047\",\"2021-01-15 09:44:35.062\",\"2021-01-15 09:44:36.078\",\"2021-01-15 09:44:37.093\",\"2021-01-15 09:44:38.109\",\"2021-01-15 09:44:39.124\",\"2021-01-15 09:44:40.139\",\"2021-01-15 09:44:41.155\",\"2021-01-15 09:44:42.17\",\"2021-01-15 09:44:43.185\",\"2021-01-15 09:44:44.201\",\"2021-01-15 09:44:45.202\",\"2021-01-15 09:44:46.218\",\"2021-01-15 09:44:47.233\",\"2021-01-15 09:44:48.248\",\"2021-01-15 09:44:49.264\",\"2021-01-15 09:44:50.279\",\"2021-01-15 09:44:51.294\",\"2021-01-15 09:44:52.31\",\"2021-01-15 09:44:53.325\",\"2021-01-15 09:44:54.341\",\"2021-01-15 09:44:55.356\",\"2021-01-15 09:44:56.371\",\"2021-01-15 09:44:57.387\",\"2021-01-15 09:44:58.402\",\"2021-01-15 09:44:59.418\",\"2021-01-15 09:45:00.419\",\"2021-01-15 09:45:01.434\",\"2021-01-15 09:45:02.45\",\"2021-01-15 09:45:03.465\",\"2021-01-15 09:45:04.481\",\"2021-01-15 09:45:05.496\",\"2021-01-15 09:45:06.511\",\"2021-01-15 09:45:07.527\",\"2021-01-15 09:45:08.542\",\"2021-01-15 09:45:09.557\",\"2021-01-15 09:45:10.573\",\"2021-01-15 09:45:11.588\",\"2021-01-15 09:45:12.604\",\"2021-01-15 09:45:13.619\",\"2021-01-15 09:45:14.634\",\"2021-01-15 09:45:15.636\",\"2021-01-15 09:45:16.651\",\"2021-01-15 09:45:17.666\",\"2021-01-15 09:45:18.682\",\"2021-01-15 09:45:19.697\",\"2021-01-15 09:45:20.713\",\"2021-01-15 09:45:21.728\",\"2021-01-15 09:45:22.743\",\"2021-01-15 09:45:23.759\",\"2021-01-15 09:45:24.774\",\"2021-01-15 09:45:25.789\",\"2021-01-15 09:45:26.805\",\"2021-01-15 09:45:27.82\",\"2021-01-15 09:45:28.836\",\"2021-01-15 09:45:29.851\",\"2021-01-15 09:45:30.859\",\"2021-01-15 09:45:31.874\",\"2021-01-15 09:45:32.889\",\"2021-01-15 09:45:33.905\",\"2021-01-15 09:45:34.92\",\"2021-01-15 09:45:35.935\",\"2021-01-15 09:45:36.951\",\"2021-01-15 09:45:37.966\",\"2021-01-15 09:45:38.982\",\"2021-01-15 09:45:39.997\",\"2021-01-15 09:45:41.012\",\"2021-01-15 09:45:42.028\",\"2021-01-15 09:45:43.043\",\"2021-01-15 09:45:44.059\",\"2021-01-15 09:45:45.074\",\"2021-01-15 09:45:46.075\",\"2021-01-15 09:45:47.09\",\"2021-01-15 09:45:48.106\",\"2021-01-15 09:45:49.121\",\"2021-01-15 09:45:50.137\",\"2021-01-15 09:45:51.152\",\"2021-01-15 09:45:52.167\",\"2021-01-15 09:45:53.183\",\"2021-01-15 09:45:54.198\",\"2021-01-15 09:45:55.213\",\"2021-01-15 09:45:56.229\",\"2021-01-15 09:45:57.244\",\"2021-01-15 09:45:58.259\",\"2021-01-15 09:45:59.275\",\"2021-01-15 09:46:00.276\",\"2021-01-15 09:46:01.291\",\"2021-01-15 09:46:02.307\",\"2021-01-15 09:46:03.322\",\"2021-01-15 09:46:04.338\",\"2021-01-15 09:46:05.353\",\"2021-01-15 09:46:06.369\",\"2021-01-15 09:46:07.384\",\"2021-01-15 09:46:08.399\",\"2021-01-15 09:46:09.415\",\"2021-01-15 09:46:10.43\",\"2021-01-15 09:46:11.446\",\"2021-01-15 09:46:12.461\",\"2021-01-15 09:46:13.477\",\"2021-01-15 09:46:14.492\",\"2021-01-15 09:46:15.493\",\"2021-01-15 09:46:16.508\",\"2021-01-15 09:46:17.524\",\"2021-01-15 09:46:18.539\",\"2021-01-15 09:46:19.555\",\"2021-01-15 09:46:20.57\",\"2021-01-15 09:46:21.585\",\"2021-01-15 09:46:22.601\",\"2021-01-15 09:46:23.616\",\"2021-01-15 09:46:24.632\",\"2021-01-15 09:46:25.647\",\"2021-01-15 09:46:26.662\",\"2021-01-15 09:46:27.678\",\"2021-01-15 09:46:28.693\",\"2021-01-15 09:46:29.709\",\"2021-01-15 09:46:30.71\",\"2021-01-15 09:46:31.725\",\"2021-01-15 09:46:32.725\",\"2021-01-15 09:46:33.74\",\"2021-01-15 09:46:34.756\",\"2021-01-15 09:46:35.771\",\"2021-01-15 09:46:36.786\",\"2021-01-15 09:46:37.802\",\"2021-01-15 09:46:38.817\",\"2021-01-15 09:46:39.833\",\"2021-01-15 09:46:40.848\",\"2021-01-15 09:46:41.864\",\"2021-01-15 09:46:42.879\",\"2021-01-15 09:46:43.894\",\"2021-01-15 09:46:44.91\",\"2021-01-15 09:46:45.911\",\"2021-01-15 09:46:46.926\",\"2021-01-15 09:46:47.942\",\"2021-01-15 09:46:48.957\",\"2021-01-15 09:46:49.973\",\"2021-01-15 09:46:50.988\",\"2021-01-15 09:46:52.003\",\"2021-01-15 09:46:53.019\",\"2021-01-15 09:46:54.034\",\"2021-01-15 09:46:55.049\",\"2021-01-15 09:46:56.065\",\"2021-01-15 09:46:57.08\",\"2021-01-15 09:46:58.096\",\"2021-01-15 09:46:59.111\",\"2021-01-15 09:47:00.126\",\"2021-01-15 09:47:01.128\",\"2021-01-15 09:47:02.143\",\"2021-01-15 09:47:03.158\",\"2021-01-15 09:47:04.174\",\"2021-01-15 09:47:05.189\",\"2021-01-15 09:47:06.205\",\"2021-01-15 09:47:07.22\",\"2021-01-15 09:47:08.235\",\"2021-01-15 09:47:09.251\",\"2021-01-15 09:47:10.266\",\"2021-01-15 09:47:11.281\",\"2021-01-15 09:47:12.297\",\"2021-01-15 09:47:13.312\",\"2021-01-15 09:47:14.328\",\"2021-01-15 09:47:15.333\",\"2021-01-15 09:47:16.349\",\"2021-01-15 09:47:17.35\",\"2021-01-15 09:47:18.365\",\"2021-01-15 09:47:19.367\",\"2021-01-15 09:47:20.379\",\"2021-01-15 09:47:21.38\",\"2021-01-15 09:47:22.396\",\"2021-01-15 09:47:23.411\",\"2021-01-15 09:47:24.426\",\"2021-01-15 09:47:25.428\",\"2021-01-15 09:47:26.443\",\"2021-01-15 09:47:27.458\",\"2021-01-15 09:47:28.474\",\"2021-01-15 09:47:29.489\",\"2021-01-15 09:47:30.491\",\"2021-01-15 09:47:31.506\",\"2021-01-15 09:47:32.522\",\"2021-01-15 09:47:33.537\",\"2021-01-15 09:47:34.552\",\"2021-01-15 09:47:35.567\",\"2021-01-15 09:47:36.568\",\"2021-01-15 09:47:37.583\",\"2021-01-15 09:47:38.598\",\"2021-01-15 09:47:39.614\",\"2021-01-15 09:47:40.629\",\"2021-01-15 09:47:41.644\",\"2021-01-15 09:47:42.66\",\"2021-01-15 09:47:43.675\",\"2021-01-15 09:47:44.69\",\"2021-01-15 09:47:45.7\",\"2021-01-15 09:47:46.715\",\"2021-01-15 09:47:47.731\",\"2021-01-15 09:47:48.746\",\"2021-01-15 09:47:49.762\",\"2021-01-15 09:47:50.777\",\"2021-01-15 09:47:51.792\",\"2021-01-15 09:47:52.808\",\"2021-01-15 09:47:53.823\",\"2021-01-15 09:47:54.839\",\"2021-01-15 09:47:55.854\",\"2021-01-15 09:47:56.869\",\"2021-01-15 09:47:57.884\",\"2021-01-15 09:47:58.9\",\"2021-01-15 09:47:59.915\",\"2021-01-15 09:48:00.917\",\"2021-01-15 09:48:01.932\",\"2021-01-15 09:48:02.948\",\"2021-01-15 09:48:03.963\",\"2021-01-15 09:48:04.978\",\"2021-01-15 09:48:05.994\",\"2021-01-15 09:48:07.009\",\"2021-01-15 09:48:08.025\",\"2021-01-15 09:48:09.04\",\"2021-01-15 09:48:10.055\",\"2021-01-15 09:48:11.071\",\"2021-01-15 09:48:12.086\",\"2021-01-15 09:48:13.101\",\"2021-01-15 09:48:14.117\",\"2021-01-15 09:48:15.132\",\"2021-01-15 09:48:16.133\",\"2021-01-15 09:48:17.149\",\"2021-01-15 09:48:18.164\",\"2021-01-15 09:48:19.179\",\"2021-01-15 09:48:20.195\",\"2021-01-15 09:48:21.21\",\"2021-01-15 09:48:22.226\",\"2021-01-15 09:48:23.241\",\"2021-01-15 09:48:24.257\",\"2021-01-15 09:48:25.272\",\"2021-01-15 09:48:26.287\",\"2021-01-15 09:48:27.303\",\"2021-01-15 09:48:28.318\",\"2021-01-15 09:48:29.334\",\"2021-01-15 09:48:30.335\",\"2021-01-15 09:48:31.35\",\"2021-01-15 09:48:32.366\",\"2021-01-15 09:48:33.381\",\"2021-01-15 09:48:34.396\",\"2021-01-15 09:48:35.412\",\"2021-01-15 09:48:36.427\",\"2021-01-15 09:48:37.443\",\"2021-01-15 09:48:38.458\",\"2021-01-15 09:48:39.473\",\"2021-01-15 09:48:40.489\",\"2021-01-15 09:48:41.504\",\"2021-01-15 09:48:42.52\",\"2021-01-15 09:48:43.535\",\"2021-01-15 09:48:44.55\",\"2021-01-15 09:48:45.552\",\"2021-01-15 09:48:46.567\",\"2021-01-15 09:48:47.582\",\"2021-01-15 09:48:48.598\",\"2021-01-15 09:48:49.613\",\"2021-01-15 09:48:50.629\",\"2021-01-15 09:48:51.644\",\"2021-01-15 09:48:52.659\",\"2021-01-15 09:48:53.675\",\"2021-01-15 09:48:54.69\",\"2021-01-15 09:48:55.706\",\"2021-01-15 09:48:56.721\",\"2021-01-15 09:48:57.736\",\"2021-01-15 09:48:58.752\",\"2021-01-15 09:48:59.767\",\"2021-01-15 09:49:00.768\",\"2021-01-15 09:49:01.784\",\"2021-01-15 09:49:02.799\",\"2021-01-15 09:49:03.815\",\"2021-01-15 09:49:04.83\",\"2021-01-15 09:49:05.845\",\"2021-01-15 09:49:06.861\",\"2021-01-15 09:49:07.876\",\"2021-01-15 09:49:08.892\",\"2021-01-15 09:49:09.907\",\"2021-01-15 09:49:10.922\",\"2021-01-15 09:49:11.938\",\"2021-01-15 09:49:12.953\",\"2021-01-15 09:49:13.968\",\"2021-01-15 09:49:14.984\",\"2021-01-15 09:49:15.985\",\"2021-01-15 09:49:17\",\"2021-01-15 09:49:18.016\",\"2021-01-15 09:49:19.031\",\"2021-01-15 09:49:20.047\",\"2021-01-15 09:49:21.062\",\"2021-01-15 09:49:22.077\",\"2021-01-15 09:49:23.093\",\"2021-01-15 09:49:24.108\",\"2021-01-15 09:49:25.124\",\"2021-01-15 09:49:26.139\",\"2021-01-15 09:49:27.154\",\"2021-01-15 09:49:28.17\",\"2021-01-15 09:49:29.185\",\"2021-01-15 09:49:30.187\",\"2021-01-15 09:49:31.202\",\"2021-01-15 09:49:32.218\",\"2021-01-15 09:49:33.233\",\"2021-01-15 09:49:34.248\",\"2021-01-15 09:49:35.264\",\"2021-01-15 09:49:36.279\",\"2021-01-15 09:49:37.294\",\"2021-01-15 09:49:38.31\",\"2021-01-15 09:49:39.325\",\"2021-01-15 09:49:40.341\",\"2021-01-15 09:49:41.356\",\"2021-01-15 09:49:42.371\",\"2021-01-15 09:49:43.387\",\"2021-01-15 09:49:44.402\",\"2021-01-15 09:49:45.403\",\"2021-01-15 09:49:46.419\",\"2021-01-15 09:49:47.434\",\"2021-01-15 09:49:48.449\",\"2021-01-15 09:49:49.465\",\"2021-01-15 09:49:50.48\",\"2021-01-15 09:49:51.496\",\"2021-01-15 09:49:52.511\",\"2021-01-15 09:49:53.526\",\"2021-01-15 09:49:54.541\",\"2021-01-15 09:49:55.557\",\"2021-01-15 09:49:56.572\",\"2021-01-15 09:49:57.588\",\"2021-01-15 09:49:58.603\",\"2021-01-15 09:49:59.619\",\"2021-01-15 09:50:00.626\",\"2021-01-15 09:50:01.641\",\"2021-01-15 09:50:02.657\",\"2021-01-15 09:50:03.672\",\"2021-01-15 09:50:04.688\",\"2021-01-15 09:50:05.703\",\"2021-01-15 09:50:06.718\",\"2021-01-15 09:50:07.734\",\"2021-01-15 09:50:08.749\",\"2021-01-15 09:50:09.765\",\"2021-01-15 09:50:10.78\",\"2021-01-15 09:50:11.795\",\"2021-01-15 09:50:12.811\",\"2021-01-15 09:50:13.826\",\"2021-01-15 09:50:14.842\",\"2021-01-15 09:50:15.843\",\"2021-01-15 09:50:16.858\",\"2021-01-15 09:50:17.874\",\"2021-01-15 09:50:18.889\",\"2021-01-15 09:50:19.904\",\"2021-01-15 09:50:20.92\",\"2021-01-15 09:50:21.935\",\"2021-01-15 09:50:22.951\",\"2021-01-15 09:50:23.966\",\"2021-01-15 09:50:24.981\",\"2021-01-15 09:50:25.997\",\"2021-01-15 09:50:27.012\",\"2021-01-15 09:50:28.027\",\"2021-01-15 09:50:29.043\",\"2021-01-15 09:50:30.058\",\"2021-01-15 09:50:31.06\",\"2021-01-15 09:50:32.075\",\"2021-01-15 09:50:33.09\",\"2021-01-15 09:50:34.106\",\"2021-01-15 09:50:35.121\",\"2021-01-15 09:50:36.137\",\"2021-01-15 09:50:37.152\",\"2021-01-15 09:50:38.167\",\"2021-01-15 09:50:39.183\",\"2021-01-15 09:50:40.198\",\"2021-01-15 09:50:41.213\",\"2021-01-15 09:50:42.229\",\"2021-01-15 09:50:43.244\",\"2021-01-15 09:50:44.26\",\"2021-01-15 09:50:45.261\",\"2021-01-15 09:50:46.276\",\"2021-01-15 09:50:47.292\",\"2021-01-15 09:50:48.307\",\"2021-01-15 09:50:49.322\",\"2021-01-15 09:50:50.338\",\"2021-01-15 09:50:51.353\",\"2021-01-15 09:50:52.369\",\"2021-01-15 09:50:53.384\",\"2021-01-15 09:50:54.399\",\"2021-01-15 09:50:55.415\",\"2021-01-15 09:50:56.43\",\"2021-01-15 09:50:57.445\",\"2021-01-15 09:50:58.461\",\"2021-01-15 09:50:59.476\",\"2021-01-15 09:51:00.478\",\"2021-01-15 09:51:01.493\",\"2021-01-15 09:51:02.508\",\"2021-01-15 09:51:03.524\",\"2021-01-15 09:51:04.539\",\"2021-01-15 09:51:05.555\",\"2021-01-15 09:51:06.57\",\"2021-01-15 09:51:07.585\",\"2021-01-15 09:51:08.601\",\"2021-01-15 09:51:09.616\",\"2021-01-15 09:51:10.632\",\"2021-01-15 09:51:11.647\",\"2021-01-15 09:51:12.662\",\"2021-01-15 09:51:13.678\",\"2021-01-15 09:51:14.693\",\"2021-01-15 09:51:15.694\",\"2021-01-15 09:51:16.71\",\"2021-01-15 09:51:17.725\",\"2021-01-15 09:51:18.741\",\"2021-01-15 09:51:19.756\",\"2021-01-15 09:51:20.771\",\"2021-01-15 09:51:21.787\",\"2021-01-15 09:51:22.802\",\"2021-01-15 09:51:23.818\",\"2021-01-15 09:51:24.833\",\"2021-01-15 09:51:25.848\",\"2021-01-15 09:51:26.864\",\"2021-01-15 09:51:27.879\",\"2021-01-15 09:51:28.894\",\"2021-01-15 09:51:29.91\",\"2021-01-15 09:51:30.911\",\"2021-01-15 09:51:31.927\",\"2021-01-15 09:51:32.942\",\"2021-01-15 09:51:33.957\",\"2021-01-15 09:51:34.973\",\"2021-01-15 09:51:35.988\",\"2021-01-15 09:51:37.003\",\"2021-01-15 09:51:38.019\",\"2021-01-15 09:51:39.034\",\"2021-01-15 09:51:40.05\",\"2021-01-15 09:51:41.065\",\"2021-01-15 09:51:42.081\",\"2021-01-15 09:51:43.096\",\"2021-01-15 09:51:44.111\",\"2021-01-15 09:51:45.127\",\"2021-01-15 09:51:46.127\",\"2021-01-15 09:51:47.143\",\"2021-01-15 09:51:48.158\",\"2021-01-15 09:51:49.174\",\"2021-01-15 09:51:50.189\",\"2021-01-15 09:51:51.204\",\"2021-01-15 09:51:52.22\",\"2021-01-15 09:51:53.235\",\"2021-01-15 09:51:54.251\",\"2021-01-15 09:51:55.266\",\"2021-01-15 09:51:56.281\",\"2021-01-15 09:51:57.297\",\"2021-01-15 09:51:58.312\",\"2021-01-15 09:51:59.328\",\"2021-01-15 09:52:00.329\",\"2021-01-15 09:52:01.344\",\"2021-01-15 09:52:02.36\",\"2021-01-15 09:52:03.375\",\"2021-01-15 09:52:04.39\",\"2021-01-15 09:52:05.406\",\"2021-01-15 09:52:06.421\",\"2021-01-15 09:52:07.436\",\"2021-01-15 09:52:08.452\",\"2021-01-15 09:52:09.467\",\"2021-01-15 09:52:10.483\",\"2021-01-15 09:52:11.498\",\"2021-01-15 09:52:12.513\",\"2021-01-15 09:52:13.529\",\"2021-01-15 09:52:14.544\",\"2021-01-15 09:52:15.553\",\"2021-01-15 09:52:16.568\",\"2021-01-15 09:52:17.583\",\"2021-01-15 09:52:18.599\",\"2021-01-15 09:52:19.614\",\"2021-01-15 09:52:20.629\",\"2021-01-15 09:52:21.645\",\"2021-01-15 09:52:22.66\",\"2021-01-15 09:52:23.676\",\"2021-01-15 09:52:24.691\",\"2021-01-15 09:52:25.706\",\"2021-01-15 09:52:26.721\",\"2021-01-15 09:52:27.737\",\"2021-01-15 09:52:28.752\",\"2021-01-15 09:52:29.768\",\"2021-01-15 09:52:30.769\",\"2021-01-15 09:52:31.785\",\"2021-01-15 09:52:32.8\",\"2021-01-15 09:52:33.815\",\"2021-01-15 09:52:34.83\",\"2021-01-15 09:52:35.846\",\"2021-01-15 09:52:36.862\",\"2021-01-15 09:52:37.877\",\"2021-01-15 09:52:38.892\",\"2021-01-15 09:52:39.908\",\"2021-01-15 09:52:40.923\",\"2021-01-15 09:52:41.938\",\"2021-01-15 09:52:43.969\",\"2021-01-15 09:52:44.985\",\"2021-01-15 09:52:45.986\",\"2021-01-15 09:52:47.001\",\"2021-01-15 09:52:48.016\",\"2021-01-15 09:52:49.032\",\"2021-01-15 09:52:50.047\",\"2021-01-15 09:52:51.063\",\"2021-01-15 09:52:52.078\",\"2021-01-15 09:52:53.093\",\"2021-01-15 09:52:54.109\",\"2021-01-15 09:52:55.124\",\"2021-01-15 09:52:56.14\",\"2021-01-15 09:52:57.155\",\"2021-01-15 09:52:58.17\",\"2021-01-15 09:52:59.186\",\"2021-01-15 09:53:00.187\",\"2021-01-15 09:53:01.202\",\"2021-01-15 09:53:02.218\",\"2021-01-15 09:53:03.233\",\"2021-01-15 09:53:04.249\",\"2021-01-15 09:53:05.264\",\"2021-01-15 09:53:06.279\",\"2021-01-15 09:53:07.295\",\"2021-01-15 09:53:08.31\",\"2021-01-15 09:53:09.326\",\"2021-01-15 09:53:10.341\",\"2021-01-15 09:53:11.356\",\"2021-01-15 09:53:12.372\",\"2021-01-15 09:53:13.387\",\"2021-01-15 09:53:14.402\",\"2021-01-15 09:53:15.404\",\"2021-01-15 09:53:16.419\",\"2021-01-15 09:53:17.434\",\"2021-01-15 09:53:18.45\",\"2021-01-15 09:53:19.465\",\"2021-01-15 09:53:20.481\",\"2021-01-15 09:53:21.496\",\"2021-01-15 09:53:22.511\",\"2021-01-15 09:53:23.527\",\"2021-01-15 09:53:24.542\",\"2021-01-15 09:53:25.558\",\"2021-01-15 09:53:26.573\",\"2021-01-15 09:53:27.588\",\"2021-01-15 09:53:28.604\",\"2021-01-15 09:53:29.619\",\"2021-01-15 09:53:30.62\",\"2021-01-15 09:53:31.636\",\"2021-01-15 09:53:32.651\",\"2021-01-15 09:53:33.667\",\"2021-01-15 09:53:34.682\",\"2021-01-15 09:53:35.697\",\"2021-01-15 09:53:36.713\",\"2021-01-15 09:53:37.728\",\"2021-01-15 09:53:38.743\",\"2021-01-15 09:53:39.759\",\"2021-01-15 09:53:40.774\",\"2021-01-15 09:53:41.79\",\"2021-01-15 09:53:42.805\",\"2021-01-15 09:53:43.82\",\"2021-01-15 09:53:44.836\",\"2021-01-15 09:53:45.837\",\"2021-01-15 09:53:46.852\",\"2021-01-15 09:53:47.868\",\"2021-01-15 09:53:48.883\",\"2021-01-15 09:53:49.898\",\"2021-01-15 09:53:50.914\",\"2021-01-15 09:53:51.929\",\"2021-01-15 09:53:52.945\",\"2021-01-15 09:53:53.96\",\"2021-01-15 09:53:54.975\",\"2021-01-15 09:53:55.991\",\"2021-01-15 09:53:57.006\",\"2021-01-15 09:53:58.022\",\"2021-01-15 09:53:59.037\",\"2021-01-15 09:54:00.052\",\"2021-01-15 09:54:01.054\",\"2021-01-15 09:54:02.069\",\"2021-01-15 09:54:03.084\",\"2021-01-15 09:54:04.1\",\"2021-01-15 09:54:05.111\",\"2021-01-15 09:54:06.127\",\"2021-01-15 09:54:07.142\",\"2021-01-15 09:54:08.157\",\"2021-01-15 09:54:09.173\",\"2021-01-15 09:54:10.188\",\"2021-01-15 09:54:11.204\",\"2021-01-15 09:54:12.219\",\"2021-01-15 09:54:13.234\",\"2021-01-15 09:54:14.25\",\"2021-01-15 09:54:15.251\",\"2021-01-15 09:54:16.267\",\"2021-01-15 09:54:17.282\",\"2021-01-15 09:54:18.297\",\"2021-01-15 09:54:19.313\",\"2021-01-15 09:54:20.328\",\"2021-01-15 09:54:21.343\",\"2021-01-15 09:54:22.359\",\"2021-01-15 09:54:23.374\",\"2021-01-15 09:54:24.39\",\"2021-01-15 09:54:25.405\",\"2021-01-15 09:54:26.42\",\"2021-01-15 09:54:27.436\",\"2021-01-15 09:54:28.451\",\"2021-01-15 09:54:29.467\",\"2021-01-15 09:54:30.472\",\"2021-01-15 09:54:31.487\",\"2021-01-15 09:54:32.502\",\"2021-01-15 09:54:33.518\",\"2021-01-15 09:54:34.533\",\"2021-01-15 09:54:35.548\",\"2021-01-15 09:54:36.564\",\"2021-01-15 09:54:37.579\",\"2021-01-15 09:54:38.595\",\"2021-01-15 09:54:39.61\",\"2021-01-15 09:54:40.626\",\"2021-01-15 09:54:41.641\",\"2021-01-15 09:54:42.656\",\"2021-01-15 09:54:43.672\",\"2021-01-15 09:54:44.687\",\"2021-01-15 09:54:45.688\",\"2021-01-15 09:54:46.704\",\"2021-01-15 09:54:47.719\",\"2021-01-15 09:54:48.734\",\"2021-01-15 09:54:49.75\",\"2021-01-15 09:54:50.765\",\"2021-01-15 09:54:51.781\",\"2021-01-15 09:54:52.796\",\"2021-01-15 09:54:53.812\",\"2021-01-15 09:54:54.827\",\"2021-01-15 09:54:55.842\",\"2021-01-15 09:54:56.858\",\"2021-01-15 09:54:57.873\",\"2021-01-15 09:54:58.888\",\"2021-01-15 09:54:59.904\",\"2021-01-15 09:55:00.905\",\"2021-01-15 09:55:01.92\",\"2021-01-15 09:55:02.936\",\"2021-01-15 09:55:03.951\",\"2021-01-15 09:55:04.967\",\"2021-01-15 09:55:05.982\",\"2021-01-15 09:55:06.997\",\"2021-01-15 09:55:08.013\",\"2021-01-15 09:55:09.028\",\"2021-01-15 09:55:10.044\",\"2021-01-15 09:55:11.059\",\"2021-01-15 09:55:12.074\",\"2021-01-15 09:55:13.089\",\"2021-01-15 09:55:14.105\",\"2021-01-15 09:55:15.12\",\"2021-01-15 09:55:16.122\",\"2021-01-15 09:55:17.137\",\"2021-01-15 09:55:18.153\",\"2021-01-15 09:55:19.168\",\"2021-01-15 09:55:20.183\",\"2021-01-15 09:55:21.199\",\"2021-01-15 09:55:22.214\",\"2021-01-15 09:55:23.229\",\"2021-01-15 09:55:24.245\",\"2021-01-15 09:55:25.26\",\"2021-01-15 09:55:26.276\",\"2021-01-15 09:55:27.291\",\"2021-01-15 09:55:28.307\",\"2021-01-15 09:55:29.322\",\"2021-01-15 09:55:30.323\",\"2021-01-15 09:55:31.339\",\"2021-01-15 09:55:32.354\",\"2021-01-15 09:55:33.369\",\"2021-01-15 09:55:34.385\",\"2021-01-15 09:55:35.4\",\"2021-01-15 09:55:36.416\",\"2021-01-15 09:55:37.431\",\"2021-01-15 09:55:38.446\",\"2021-01-15 09:55:39.462\",\"2021-01-15 09:55:40.477\",\"2021-01-15 09:55:41.492\",\"2021-01-15 09:55:42.508\",\"2021-01-15 09:55:43.523\",\"2021-01-15 09:55:44.539\",\"2021-01-15 09:55:45.54\",\"2021-01-15 09:55:46.556\",\"2021-01-15 09:55:47.571\",\"2021-01-15 09:55:48.586\",\"2021-01-15 09:55:49.602\",\"2021-01-15 09:55:50.617\",\"2021-01-15 09:55:51.632\",\"2021-01-15 09:55:52.648\",\"2021-01-15 09:55:53.663\",\"2021-01-15 09:55:54.679\",\"2021-01-15 09:55:55.694\",\"2021-01-15 09:55:56.709\",\"2021-01-15 09:55:57.725\",\"2021-01-15 09:55:58.74\",\"2021-01-15 09:55:59.756\",\"2021-01-15 09:56:00.757\",\"2021-01-15 09:56:01.772\",\"2021-01-15 09:56:02.788\",\"2021-01-15 09:56:03.803\",\"2021-01-15 09:56:04.818\",\"2021-01-15 09:56:05.834\",\"2021-01-15 09:56:06.849\",\"2021-01-15 09:56:07.865\",\"2021-01-15 09:56:08.88\",\"2021-01-15 09:56:09.895\",\"2021-01-15 09:56:10.911\",\"2021-01-15 09:56:11.926\",\"2021-01-15 09:56:12.942\",\"2021-01-15 09:56:13.957\",\"2021-01-15 09:56:14.972\",\"2021-01-15 09:56:15.974\",\"2021-01-15 09:56:16.989\",\"2021-01-15 09:56:18.004\",\"2021-01-15 09:56:19.02\",\"2021-01-15 09:56:20.035\",\"2021-01-15 09:56:21.05\",\"2021-01-15 09:56:22.066\",\"2021-01-15 09:56:23.081\",\"2021-01-15 09:56:24.097\",\"2021-01-15 09:56:25.112\",\"2021-01-15 09:56:26.127\",\"2021-01-15 09:56:27.143\",\"2021-01-15 09:56:28.158\",\"2021-01-15 09:56:29.173\",\"2021-01-15 09:56:30.182\",\"2021-01-15 09:56:31.198\",\"2021-01-15 09:56:32.213\",\"2021-01-15 09:56:33.228\",\"2021-01-15 09:56:34.244\",\"2021-01-15 09:56:35.259\",\"2021-01-15 09:56:36.275\",\"2021-01-15 09:56:37.29\",\"2021-01-15 09:56:38.305\",\"2021-01-15 09:56:39.321\",\"2021-01-15 09:56:40.336\",\"2021-01-15 09:56:41.352\",\"2021-01-15 09:56:42.367\",\"2021-01-15 09:56:43.382\",\"2021-01-15 09:56:44.398\",\"2021-01-15 09:56:45.399\",\"2021-01-15 09:56:46.415\",\"2021-01-15 09:56:47.43\",\"2021-01-15 09:56:48.446\",\"2021-01-15 09:56:49.461\",\"2021-01-15 09:56:50.476\",\"2021-01-15 09:56:51.492\",\"2021-01-15 09:56:52.507\",\"2021-01-15 09:56:53.522\",\"2021-01-15 09:56:54.538\",\"2021-01-15 09:56:55.553\",\"2021-01-15 09:56:56.569\",\"2021-01-15 09:56:57.584\",\"2021-01-15 09:56:58.599\",\"2021-01-15 09:56:59.615\",\"2021-01-15 09:57:00.616\",\"2021-01-15 09:57:01.632\",\"2021-01-15 09:57:02.647\",\"2021-01-15 09:57:03.662\",\"2021-01-15 09:57:04.678\",\"2021-01-15 09:57:05.693\",\"2021-01-15 09:57:06.708\",\"2021-01-15 09:57:07.724\",\"2021-01-15 09:57:08.739\",\"2021-01-15 09:57:09.755\",\"2021-01-15 09:57:10.77\",\"2021-01-15 09:57:11.785\",\"2021-01-15 09:57:12.801\",\"2021-01-15 09:57:13.816\",\"2021-01-15 09:57:14.831\",\"2021-01-15 09:57:15.833\",\"2021-01-15 09:57:16.849\",\"2021-01-15 09:57:17.85\",\"2021-01-15 09:57:18.865\",\"2021-01-15 09:57:19.866\",\"2021-01-15 09:57:20.868\",\"2021-01-15 09:57:21.869\",\"2021-01-15 09:57:22.884\",\"2021-01-15 09:57:23.9\",\"2021-01-15 09:57:24.915\",\"2021-01-15 09:57:25.916\",\"2021-01-15 09:57:26.932\",\"2021-01-15 09:57:27.947\",\"2021-01-15 09:57:28.962\",\"2021-01-15 09:57:29.978\",\"2021-01-15 09:57:30.99\",\"2021-01-15 09:57:32.005\",\"2021-01-15 09:57:33.021\",\"2021-01-15 09:57:34.036\",\"2021-01-15 09:57:35.051\",\"2021-01-15 09:57:36.067\",\"2021-01-15 09:57:37.082\",\"2021-01-15 09:57:38.098\",\"2021-01-15 09:57:39.113\",\"2021-01-15 09:57:40.128\",\"2021-01-15 09:57:41.144\",\"2021-01-15 09:57:42.159\",\"2021-01-15 09:57:43.175\",\"2021-01-15 09:57:44.19\",\"2021-01-15 09:57:45.191\",\"2021-01-15 09:57:46.206\",\"2021-01-15 09:57:47.222\",\"2021-01-15 09:57:48.237\",\"2021-01-15 09:57:49.253\",\"2021-01-15 09:57:50.268\",\"2021-01-15 09:57:51.283\",\"2021-01-15 09:57:52.299\",\"2021-01-15 09:57:53.314\",\"2021-01-15 09:57:54.33\",\"2021-01-15 09:57:55.345\",\"2021-01-15 09:57:56.36\",\"2021-01-15 09:57:57.376\",\"2021-01-15 09:57:58.391\",\"2021-01-15 09:57:59.406\",\"2021-01-15 09:58:00.408\",\"2021-01-15 09:58:01.423\",\"2021-01-15 09:58:02.439\",\"2021-01-15 09:58:03.454\",\"2021-01-15 09:58:04.469\",\"2021-01-15 09:58:05.485\",\"2021-01-15 09:58:06.5\",\"2021-01-15 09:58:07.516\",\"2021-01-15 09:58:08.531\",\"2021-01-15 09:58:09.546\",\"2021-01-15 09:58:10.562\",\"2021-01-15 09:58:11.577\",\"2021-01-15 09:58:12.592\",\"2021-01-15 09:58:13.607\",\"2021-01-15 09:58:14.623\",\"2021-01-15 09:58:15.625\",\"2021-01-15 09:58:16.64\",\"2021-01-15 09:58:17.655\",\"2021-01-15 09:58:18.671\",\"2021-01-15 09:58:19.686\",\"2021-01-15 09:58:20.701\",\"2021-01-15 09:58:21.717\",\"2021-01-15 09:58:22.732\",\"2021-01-15 09:58:23.748\",\"2021-01-15 09:58:24.763\",\"2021-01-15 09:58:25.778\",\"2021-01-15 09:58:26.794\",\"2021-01-15 09:58:27.809\",\"2021-01-15 09:58:28.825\",\"2021-01-15 09:58:29.84\",\"2021-01-15 09:58:30.841\",\"2021-01-15 09:58:31.856\",\"2021-01-15 09:58:32.872\",\"2021-01-15 09:58:33.887\",\"2021-01-15 09:58:34.902\",\"2021-01-15 09:58:35.918\",\"2021-01-15 09:58:36.933\",\"2021-01-15 09:58:37.948\",\"2021-01-15 09:58:38.964\",\"2021-01-15 09:58:39.979\",\"2021-01-15 09:58:40.995\",\"2021-01-15 09:58:42.01\",\"2021-01-15 09:58:43.026\",\"2021-01-15 09:58:44.041\",\"2021-01-15 09:58:45.056\",\"2021-01-15 09:58:46.065\",\"2021-01-15 09:58:47.08\",\"2021-01-15 09:58:48.095\",\"2021-01-15 09:58:49.111\",\"2021-01-15 09:58:50.126\",\"2021-01-15 09:58:51.142\",\"2021-01-15 09:58:52.157\",\"2021-01-15 09:58:53.172\",\"2021-01-15 09:58:54.188\",\"2021-01-15 09:58:55.203\",\"2021-01-15 09:58:56.218\",\"2021-01-15 09:58:57.234\",\"2021-01-15 09:58:58.249\",\"2021-01-15 09:58:59.265\",\"2021-01-15 09:59:00.266\",\"2021-01-15 09:59:01.281\",\"2021-01-15 09:59:02.297\",\"2021-01-15 09:59:03.312\",\"2021-01-15 09:59:04.327\",\"2021-01-15 09:59:05.343\",\"2021-01-15 09:59:06.358\",\"2021-01-15 09:59:07.373\",\"2021-01-15 09:59:08.389\",\"2021-01-15 09:59:09.404\",\"2021-01-15 09:59:10.419\",\"2021-01-15 09:59:11.435\",\"2021-01-15 09:59:12.45\",\"2021-01-15 09:59:13.466\",\"2021-01-15 09:59:14.481\",\"2021-01-15 09:59:15.482\",\"2021-01-15 09:59:16.498\",\"2021-01-15 09:59:17.513\",\"2021-01-15 09:59:18.529\",\"2021-01-15 09:59:19.544\",\"2021-01-15 09:59:20.559\",\"2021-01-15 09:59:21.575\",\"2021-01-15 09:59:22.59\",\"2021-01-15 09:59:23.606\",\"2021-01-15 09:59:24.621\",\"2021-01-15 09:59:25.636\",\"2021-01-15 09:59:26.652\",\"2021-01-15 09:59:27.667\",\"2021-01-15 09:59:28.683\",\"2021-01-15 09:59:29.698\",\"2021-01-15 09:59:30.699\",\"2021-01-15 09:59:31.715\",\"2021-01-15 09:59:32.73\",\"2021-01-15 09:59:33.745\",\"2021-01-15 09:59:34.761\",\"2021-01-15 09:59:35.776\",\"2021-01-15 09:59:36.792\",\"2021-01-15 09:59:37.807\",\"2021-01-15 09:59:38.822\",\"2021-01-15 09:59:39.838\",\"2021-01-15 09:59:40.853\",\"2021-01-15 09:59:41.869\",\"2021-01-15 09:59:42.884\",\"2021-01-15 09:59:43.899\",\"2021-01-15 09:59:44.915\",\"2021-01-15 09:59:45.916\",\"2021-01-15 09:59:46.931\",\"2021-01-15 09:59:47.947\",\"2021-01-15 09:59:48.962\",\"2021-01-15 09:59:49.978\",\"2021-01-15 09:59:50.993\",\"2021-01-15 09:59:52.008\",\"2021-01-15 09:59:53.024\",\"2021-01-15 09:59:54.039\",\"2021-01-15 09:59:55.054\",\"2021-01-15 09:59:56.07\",\"2021-01-15 09:59:57.085\",\"2021-01-15 09:59:58.101\",\"2021-01-15 09:59:59.116\"],\"xaxis\":\"x\",\"y\":[73,73,73,73,73,73,73,73,73,73,73,73,73,73,73,73,73,73,73,73,73,73,73,73,73,73,73,73,73,73,73,73,73,73,73,73,73,73,73,73,73,73,73,73,73,73,73,73,73,73,73,73,73,73,73,73,73,73,73,73,73,73,73,73,73,73,73,73,73,73,73,73,73,73,73,73,73,73,73,73,73,73,73,73,73,73,73,73,73,73,73,73,73,73,73,73,73,74,74,74,74,74,74,74,74,74,74,74,74,75,75,75,75,75,75,75,75,75,75,75,75,75,75,75,75,75,75,75,75,75,75,75,75,75,75,75,75,75,75,75,75,75,75,75,75,75,75,75,75,75,75,75,75,75,75,75,75,75,75,75,75,75,75,75,75,75,75,75,75,75,75,75,75,75,75,75,75,75,75,75,75,75,75,75,75,75,75,75,75,75,75,75,75,75,75,75,75,75,75,75,75,75,75,75,75,75,76,76,76,76,76,76,76,76,76,76,76,76,76,76,76,76,76,76,76,76,76,76,76,76,76,76,76,76,76,76,76,76,76,76,76,76,76,76,76,76,76,76,76,76,76,76,76,76,76,76,76,76,77,77,77,77,77,77,77,77,77,77,77,77,77,77,78,78,78,78,78,78,78,79,79,79,79,79,79,79,79,79,79,79,79,79,79,79,79,79,79,79,79,79,79,79,79,79,79,79,79,79,79,79,79,79,80,80,80,80,80,80,80,80,80,80,80,80,80,80,80,80,80,80,80,80,80,80,80,80,80,80,80,80,80,80,80,80,80,80,80,80,80,80,80,80,80,80,80,80,80,80,80,80,80,80,80,80,80,80,80,80,80,80,80,80,80,80,80,80,80,80,80,80,80,80,80,80,80,80,80,80,80,80,80,80,80,80,80,80,80,80,80,80,80,80,80,80,80,80,80,81,81,81,81,81,81,81,81,81,81,81,81,81,81,81,81,81,81,81,81,81,81,81,81,81,81,81,81,81,81,81,81,81,81,81,81,81,81,81,81,81,81,81,81,81,81,81,81,81,81,82,82,82,82,83,83,83,83,83,83,83,83,83,83,83,83,83,83,83,83,83,83,83,83,83,83,83,83,83,83,83,83,83,83,83,83,83,83,83,83,83,83,83,83,83,83,83,83,83,83,83,83,83,83,83,84,84,84,84,84,84,84,84,84,84,84,84,84,85,85,85,85,85,85,85,85,85,85,85,85,85,86,86,86,86,86,86,86,86,86,86,86,86,86,86,86,86,86,86,86,86,86,86,86,86,86,86,86,86,86,86,86,86,86,86,86,86,86,86,86,86,86,86,86,86,86,86,86,86,86,86,86,86,86,86,86,86,86,86,86,86,86,86,86,86,86,86,86,86,86,86,86,86,86,86,86,86,86,86,86,86,86,86,86,86,86,86,86,86,86,86,86,86,86,86,86,86,86,86,86,86,86,86,86,86,86,87,87,87,87,87,88,88,88,88,88,88,88,88,88,88,88,88,88,88,88,88,88,88,88,88,88,88,88,88,88,88,88,88,88,88,88,88,88,88,88,88,88,88,88,88,88,88,88,88,88,88,88,88,88,90,90,90,90,90,90,90,90,90,90,90,90,90,90,90,90,90,90,90,90,90,90,90,90,90,90,90,90,90,90,90,91,91,91,91,91,91,91,91,91,91,91,91,91,91,91,91,91,91,91,91,91,91,91,91,91,91,91,91,91,91,91,91,91,91,91,91,91,91,91,91,91,91,91,91,91,91,91,91,91,91,91,91,91,91,91,91,91,91,91,91,91,91,91,91,91,91,91,91,91,91,91,91,91,91,91,91,91,91,91,91,91,91,91,91,91,91,91,91,91,91,91,91,91,91,91,91,91,91,91,91,91,91,91,91,91,91,91,91,91,91,91,91,91,91,91,91,91,91,91,91,91,91,91,91,91,91,91,91,91,91,91,91,91,91,91,91,91,91,91,91,91,92,92,92,92,92,92,92,92,92,92,92,92,92,92,92,92,92,92,92,92,92,92,92,92,92,92,92,92,92,92,92,92,92,92,92,92,92,92,92,92,93,93,93,93,93,93,93,93,93,93,93,93,93,93,93,93,93,93,93,94,94,94,94,94,94,94,94,94,94,94,94,94,94,94,94,94,94,94,94,94,94,94,94,94,94,94,94,94,94,94,94,94,94,94,94,94,94,94,94,94,94,94,94,94,94,94,94,94,94,94,94,94,94,94,94,94,94,94,94,94,94,94,94,94,94,94,94,94,94,94,94,94,94,94,95,95,95,95,95,95,95,95,95,95,95,95,95,95,95,95,95,95,95,95,95,95,95,95,95,95,95,95,95,95,95,95,95,95,95,95,95,95,95,95,95,95,95,95,95,95,95,95,95,95,95,95,95,95,95,95,95,95,95,95,95,95,95,96,96,96,96,96,96,96,96,96,96,96,96,96,96,96,96,96,96,96,96,96,96,96,96,96,96,96,96,96,96,96,96,96,96,96,96,96,96,96,96,96,96,96,96,96,96,96,96,96,96,96,96,96,96,96,96,96,96,96,96,96,96,96,96,96,96,96,96,96,96,96,96,96,96,96,96,96,96,96,96,96,96,96,96,96,96,96,96,96,96,96,96,96,96,96,96,96,96,96,96,96,96,96,96,96,96,96,96,96,96,96,96,96,96,96,96,96,96,96,96,96,96,96,96,96,96,96,96,96,96,96,96,96,96,96,96,96,96,96,96,96,96,96,96,96,96,96,96,96,96,96,96,96,96,96,96,96,96,96,96,96,96,96,96,96,96,96,96,96,96,96,96,96,96,96,96,96,96,96,96,96,96,96,96,96,96,96,96,96,96,96,96,96,96,96,96,96,96,96,96,96,96,96,96,96,97,97,97,97,97,97,97,97,97,97,97,97,97,97,97,97,97,97,97,97,97,97,97,97,97,97,97,97,97,97,97,97,97,97,97,97,97,97,97,97,97,97,97,97,97,97,97,97,97,97,97,97,97,97,97,97,97,97,97,97,98,98,98,98,98,98,98,98,98,98,98,99,99,99,99,99,99,99,99,99,99,99,99,99,99,99,99,99,99,99,99,99,99,99,99,99,99,99,99,99,99,99,99,99,99,99,99,99,99,99,99,99,99,99,99,99,99,99,99,99,99,99,99,100,100,100,100,100,100,100,100,100,100,100,100,100,100,100,100,100,100,100,100,100,100,100,100,100,100,100,100,100,100,100,100,100,100,101,101,101,101,101,101,101,101,101,101,101,101,101,101,101,101,101,101,101,101,101,101,101,101,101,101,101,101,102,102,102,102,102,102,102,102,102,102,102,102,102,102,103,103,103,103,103,103,103,103,103,103,103,103,103,103,103,103,103,103,103,103,103,103,103,103,103,103,103,103,103,103,103,103,103,103,103,103,103,103,103,103,103,103,103,103,103,103,103,103,103,103,103,103,103,103,103,103,103,103,103,103,103,103,103,103,103,103,103,103,103,103,103,103,103,103,103,103,103,103,103,103,103,103,103,103,103,103,103,103,103,103,103,103,103,103,103,103,103,103,103,103,103,103,103,103,103,103,103,103,103,103,103,103,103,103,103,103,103,103,103,103,103,103,103,103,103,103,103,103,103,103,103,103,103,103,103,103,103,103,103,103,103,103,103,103,103,103,103,103,103,103,103,103,104,104,104,104,104,104,104,104,104,104,104,104,104,104,104,104,104,104,104,104,104,104,104,104,104,104,104,104,104,104,104,104,104,104,104,104,104,104,104,104,104,104,104,104,104,104,104,104,104,104,104,104,104,104,104,104,105,105,105,105,105,105,105,105,105,105,105,105,105,105,105,105,105,105,105,105,105,105,105,105,105,105,105,105,105,105,105,105,105,105,105,105,105,105,105,105,105,105,105,105,105,105,105,105,105,105,105,105,105,105,105,105,105,105,105,105,105,105,105,105,106,106,106,106,106,106,106,106,106,106,106,106,106,106,106,106,106,106,106,106,106,106,106,106,106,106,106,106,106,106,106,106,106,106,106,106,106,106,106,106,106,106,106,106,106,106,106,106,106,106,106,107,107,107,107,108,108,108,108,108,108,108,108,108,108,108,108,108,108,108,108,108,108,108,108,108,108,108,108,109,109,109,109,109,109,109,109,109,109,109,109,109,109,109,110,110,110,110,110,110,110,110,110,110,110,110,110,110,110,111,111,111,111,111,111,111,111,111,111,111,111,111,111,111,111,111,111,111,111,111,111,111,111,111,111,111,111,111,111,111,111,111,111,111,111,111,111,111,111,111,111,111,111,111,111,111,111,111,111,111,111,111,111,111,111,111,111,111,111,111,111,111,111,111,111,111,111,111,111,111,111,111,112,112,112,112,112,112,112,112,112,112,112,112,112,112,112,112,112,112,112,112,112,112,112,112,112,112,112,112,112,112,112,112,112,112,112,113,113,113,113,113,113,113,113,113,113,113,113,113,113,113,113,113,113,113,113,113,113,113,113,113,114,114,114,114,114,114,114,114,114,114,114,114,114,114,114,114,114,114,114,114,114,114,114,114,114,114,114,114,114,114,114,114,114,114,114,114,114,114,114,114,114,114,114,114,114,114,114,114,114,114,114,114,114,114,114,114,114,114,114,115,115,115,115,115,115,115,115,115,115,115,115,115,115,115,115,115,115,115,115,115,115,115,115,115,115,115,115,117,117,117,117,117,117,117,117,117,117,117,117,117,117,117,117,117,117,117,117,117,117,117,117,117,117,117,117,117,117,117,117,117,117,117,117,117,117,117,117,117,117,117,117,117,117,117,117,117,117,117,117,118,118,118,118,118,118,118,118,118,118,118,118,118,118,118,118,118,118,118,118,118,118,118,118,118,118,118,118,118,118,118,118,118,118,118,118,118,118,118,118,118,118,118,118,118,118,118,118,118,118,118,118,118,118,118,118,118,118,118,118,118,118,118,118,118,118,118,118,118,118,118,118,118,118,118,118,118,118,118,118,118,118,118,118,118,119,119,119,119,119,119,119,119,119,119,119,119,119,119,119,119,119,119,119,119,120,120,120,120,120,120,120,120,120,120,120,120,120,120,120,120,120,120,120,120,120,120,120,120,120,121,121,121,121,121,121,121,121,121,121,121,121,121,121,121,121,121,121,121,121,121,121,121,121,121,121,122,122,122,122,122,122,122,122,122,122,122,122,122,122,122,122,122,122,122,122,122,122,122,122,122,122,122,122,122,122,122,122,122,122,122,122,122,122,122,122,122,122,122,122,122,122,122,122,122,122,122,122,122,122,122,122,122,122,122,123,123,123,123,123,123,123,123,123,123,123,123,123,123,123,123,124,124,124,124,124,124,124,124,124,124,124,124,124,124,124,124,124,124,124,124,124,124,124,124,124,124,124,124,124,124,124,124,124,124,124,124,124,124,124,124,124,124,124,124,124,124,124,124,124,124,124,124,124,124,124,124,124,124,124,124,124,124,124,124,124,124,124,124,124,124,124,124,124,124,124,124,124,124,124,124,125,125,125,125,125,125,125,125,125,125,125,125,125,125,125,125,125,125,125,125,125,125,125,125,125,125,125,125,125,125,125,125,125,125,125,125,125,125,125,125,125,125,125,125,125,125,125,125,125,125,125,125,125,125,125,125,125,125,125,125,125,125,125,125,125,125,125,125,125,125,125,125,125,125,125,125,125,125,125,125,125,125,125,125,125,125,125,125,125,125,125,125,125,125,125,125,125,127,127,127,127,127,127,127,127,127,127,127,127,127,127,127,127,127,127,127,127,127,127,127,127,127,127,127,127,127,127,127,127,127,127,127,127,127,127,128,128,128,128,128,128,128,128,128,128,128,128,128,128,128,128,128,128,128,128,128,128,128,128,128,128,128,128,128,128,128,128,128,128,128,128,128,128,128,128,128,128,128,128,128,128,128,128,128,128,128,128,128,128,128,128,128,128,128,128,128,128,128,128,128,128,128,128,128,128,128,128,128,128,128,128,128,128,128,128,128,128,128,128,128,128,128,128,128,128,128,128,128,128,128,128,128,128,128,128,128,128,128,128,128,128,128,128,128,128,128,128,128,128,128,129,129,129,129,129,129,129,129,129,129,129,129,129,129,129,129,129,129,129,129,129,129,129,129,129,129,129,129,129,129,129,129,129,129,129,129,129,129,129,129,129,130,130,130,130,130,130,130,130,130,130,130,130,130,130,130,130,130,130,130,130,130,130,130,130,130,130,130,130,130,130,130,130,130,130,130,130,130,130,130,130,130,130,130,130,130,130,130,130,130,130,130,130,130,131,131,131,131,131,131,131,131,131,131,131,131,131,131,131,131,131,131,132,132,132,132,132,132,132,132,132,132,132,132,132,132,132,132,132,132,132,132,132,132,132,132,132,133,133,133,133,133,133,133,133,133,133,133,133,133,133,133,133,133,133,133,133,133,133,133,133,133,133,133,133,133,133,133,133,133,133,133,133,133,133,133,133,133,133,133,133,133,133,133,133,133,133,133,133,133,133,133,133,133,133,133,133,133,133,133,133,133,133,133,133,135,135,135,135,135,135,135,135,135,135,135,136,136,136,136,136,136,136,136,136,136,136,136,136,136,136,136,136,136,136,136,136,136,136,136,136,136,136,136,136,136,136,137,137,137,137,137,137,137,137,137,137,137,137,137,138,138,138,138,138,138,138,138,138,138,138,138,138,138,138,138,138,138,138,138,138,138,138,139,139,139,140,140,141,141,141,141,141,141,141,142,142,142,142,142,142,142,142,142,142,142,142,142,142,142,142,142,142,142,142,142,142,142,142,142,142,142,142,142,142,142,142,142,142,142,142,142,142,142,142,142,142,142,142,142,142,142,142,142,142,142,142,142,142,142,142,142,142,142,142,142,142,142,142,142,142,142,142,142,142,142,142,142,142,142,142,142,142,142,142,142,142,142,142,142,142,142,142,142,142,142,142,142,142,142,142,142,142,142,142,142,142,142,142,142,142,142,142,142,142,142,142,143,143,143,143,143,143,143,143,143,143,143,143,143,143,143,143,143,143,143,143,143,143,143,143,143,143,143,143,143,143,143,143,143,143,143,143,143,143,143,143,143,143,143,143,143,143,143,143,143,143,144,144,144,144,144,144,144,144,144,144,144,144,144,144,144,144,144,144,144,144,144,144,144,144,144,144,145,145,145,145,145,145,145,145,145,145,145,145,145,145,145,145,145,145,145,145,145,145,145,145,145,145,145,145,145,145,145,145,145,145,145,145,145,147,147,147,147,147,147,147,147,147,147,147,147,147,147,147,147,147,147,147,147,147,147,147,147,147,148,148,149,149,149,149,149,149,149,149,149,149,149,149,149,149,149,149,149,149,149,149,149,149,149,149,149,149,149,149,149,149,149,149,149,149,149,149,149,149,149,149,149,149,149,149,149,149,149,150,150,150,150,150,150,150,150,150,150,150,150,150,150,150,150,150,150,150,150,150,150,150,150,150,150,150,150,150,150,150,150,150,150,150,150,150,150,150,150,150,150,150,150,150,150,150,150,150,150,150,150,150,150,150,150,150,150,150,150,150,150,150,150,150,150,150,150,150,150,150,150,150,150,150,150,150,150,150,150,150,150,150,150,150,150,150,151,151,151,151,151,151,151,151,151,152,152,152,152,152,152,152,152,152,152,152,152,152,152,152,153,153,153,153,153,153,153,153,153,153,153,153,153,153,153,154,155,155,155,155,155,155,155,155,155,155,155,155,155,155,155,155,155,155,155,155,155,155,155,155,155,156,156,156,156,156,156,156,156,156,156,156,156,156,156,156,156,156,156,156,156,156,156,156,156,156,156,156,156,156,156,156,156,156,156,156,156,156,156,156,156,156,156,156,156,156,156,156,156,156,156,156,156,156,156,156,156,156,156,156,156,156,156,156,156,156,156,156,156,156,156,156,156,156,156,156,156,156,156,156,156,156,156,156,156,156,156,156,156,156,156,156,156,156,156,156,156,156,156,156,156,156,156,156,156,156,156,156,156,156,156],\"yaxis\":\"y\",\"type\":\"scattergl\"}],                        {\"template\":{\"data\":{\"bar\":[{\"error_x\":{\"color\":\"#2a3f5f\"},\"error_y\":{\"color\":\"#2a3f5f\"},\"marker\":{\"line\":{\"color\":\"#E5ECF6\",\"width\":0.5},\"pattern\":{\"fillmode\":\"overlay\",\"size\":10,\"solidity\":0.2}},\"type\":\"bar\"}],\"barpolar\":[{\"marker\":{\"line\":{\"color\":\"#E5ECF6\",\"width\":0.5},\"pattern\":{\"fillmode\":\"overlay\",\"size\":10,\"solidity\":0.2}},\"type\":\"barpolar\"}],\"carpet\":[{\"aaxis\":{\"endlinecolor\":\"#2a3f5f\",\"gridcolor\":\"white\",\"linecolor\":\"white\",\"minorgridcolor\":\"white\",\"startlinecolor\":\"#2a3f5f\"},\"baxis\":{\"endlinecolor\":\"#2a3f5f\",\"gridcolor\":\"white\",\"linecolor\":\"white\",\"minorgridcolor\":\"white\",\"startlinecolor\":\"#2a3f5f\"},\"type\":\"carpet\"}],\"choropleth\":[{\"colorbar\":{\"outlinewidth\":0,\"ticks\":\"\"},\"type\":\"choropleth\"}],\"contour\":[{\"colorbar\":{\"outlinewidth\":0,\"ticks\":\"\"},\"colorscale\":[[0.0,\"#0d0887\"],[0.1111111111111111,\"#46039f\"],[0.2222222222222222,\"#7201a8\"],[0.3333333333333333,\"#9c179e\"],[0.4444444444444444,\"#bd3786\"],[0.5555555555555556,\"#d8576b\"],[0.6666666666666666,\"#ed7953\"],[0.7777777777777778,\"#fb9f3a\"],[0.8888888888888888,\"#fdca26\"],[1.0,\"#f0f921\"]],\"type\":\"contour\"}],\"contourcarpet\":[{\"colorbar\":{\"outlinewidth\":0,\"ticks\":\"\"},\"type\":\"contourcarpet\"}],\"heatmap\":[{\"colorbar\":{\"outlinewidth\":0,\"ticks\":\"\"},\"colorscale\":[[0.0,\"#0d0887\"],[0.1111111111111111,\"#46039f\"],[0.2222222222222222,\"#7201a8\"],[0.3333333333333333,\"#9c179e\"],[0.4444444444444444,\"#bd3786\"],[0.5555555555555556,\"#d8576b\"],[0.6666666666666666,\"#ed7953\"],[0.7777777777777778,\"#fb9f3a\"],[0.8888888888888888,\"#fdca26\"],[1.0,\"#f0f921\"]],\"type\":\"heatmap\"}],\"heatmapgl\":[{\"colorbar\":{\"outlinewidth\":0,\"ticks\":\"\"},\"colorscale\":[[0.0,\"#0d0887\"],[0.1111111111111111,\"#46039f\"],[0.2222222222222222,\"#7201a8\"],[0.3333333333333333,\"#9c179e\"],[0.4444444444444444,\"#bd3786\"],[0.5555555555555556,\"#d8576b\"],[0.6666666666666666,\"#ed7953\"],[0.7777777777777778,\"#fb9f3a\"],[0.8888888888888888,\"#fdca26\"],[1.0,\"#f0f921\"]],\"type\":\"heatmapgl\"}],\"histogram\":[{\"marker\":{\"pattern\":{\"fillmode\":\"overlay\",\"size\":10,\"solidity\":0.2}},\"type\":\"histogram\"}],\"histogram2d\":[{\"colorbar\":{\"outlinewidth\":0,\"ticks\":\"\"},\"colorscale\":[[0.0,\"#0d0887\"],[0.1111111111111111,\"#46039f\"],[0.2222222222222222,\"#7201a8\"],[0.3333333333333333,\"#9c179e\"],[0.4444444444444444,\"#bd3786\"],[0.5555555555555556,\"#d8576b\"],[0.6666666666666666,\"#ed7953\"],[0.7777777777777778,\"#fb9f3a\"],[0.8888888888888888,\"#fdca26\"],[1.0,\"#f0f921\"]],\"type\":\"histogram2d\"}],\"histogram2dcontour\":[{\"colorbar\":{\"outlinewidth\":0,\"ticks\":\"\"},\"colorscale\":[[0.0,\"#0d0887\"],[0.1111111111111111,\"#46039f\"],[0.2222222222222222,\"#7201a8\"],[0.3333333333333333,\"#9c179e\"],[0.4444444444444444,\"#bd3786\"],[0.5555555555555556,\"#d8576b\"],[0.6666666666666666,\"#ed7953\"],[0.7777777777777778,\"#fb9f3a\"],[0.8888888888888888,\"#fdca26\"],[1.0,\"#f0f921\"]],\"type\":\"histogram2dcontour\"}],\"mesh3d\":[{\"colorbar\":{\"outlinewidth\":0,\"ticks\":\"\"},\"type\":\"mesh3d\"}],\"parcoords\":[{\"line\":{\"colorbar\":{\"outlinewidth\":0,\"ticks\":\"\"}},\"type\":\"parcoords\"}],\"pie\":[{\"automargin\":true,\"type\":\"pie\"}],\"scatter\":[{\"marker\":{\"colorbar\":{\"outlinewidth\":0,\"ticks\":\"\"}},\"type\":\"scatter\"}],\"scatter3d\":[{\"line\":{\"colorbar\":{\"outlinewidth\":0,\"ticks\":\"\"}},\"marker\":{\"colorbar\":{\"outlinewidth\":0,\"ticks\":\"\"}},\"type\":\"scatter3d\"}],\"scattercarpet\":[{\"marker\":{\"colorbar\":{\"outlinewidth\":0,\"ticks\":\"\"}},\"type\":\"scattercarpet\"}],\"scattergeo\":[{\"marker\":{\"colorbar\":{\"outlinewidth\":0,\"ticks\":\"\"}},\"type\":\"scattergeo\"}],\"scattergl\":[{\"marker\":{\"colorbar\":{\"outlinewidth\":0,\"ticks\":\"\"}},\"type\":\"scattergl\"}],\"scattermapbox\":[{\"marker\":{\"colorbar\":{\"outlinewidth\":0,\"ticks\":\"\"}},\"type\":\"scattermapbox\"}],\"scatterpolar\":[{\"marker\":{\"colorbar\":{\"outlinewidth\":0,\"ticks\":\"\"}},\"type\":\"scatterpolar\"}],\"scatterpolargl\":[{\"marker\":{\"colorbar\":{\"outlinewidth\":0,\"ticks\":\"\"}},\"type\":\"scatterpolargl\"}],\"scatterternary\":[{\"marker\":{\"colorbar\":{\"outlinewidth\":0,\"ticks\":\"\"}},\"type\":\"scatterternary\"}],\"surface\":[{\"colorbar\":{\"outlinewidth\":0,\"ticks\":\"\"},\"colorscale\":[[0.0,\"#0d0887\"],[0.1111111111111111,\"#46039f\"],[0.2222222222222222,\"#7201a8\"],[0.3333333333333333,\"#9c179e\"],[0.4444444444444444,\"#bd3786\"],[0.5555555555555556,\"#d8576b\"],[0.6666666666666666,\"#ed7953\"],[0.7777777777777778,\"#fb9f3a\"],[0.8888888888888888,\"#fdca26\"],[1.0,\"#f0f921\"]],\"type\":\"surface\"}],\"table\":[{\"cells\":{\"fill\":{\"color\":\"#EBF0F8\"},\"line\":{\"color\":\"white\"}},\"header\":{\"fill\":{\"color\":\"#C8D4E3\"},\"line\":{\"color\":\"white\"}},\"type\":\"table\"}]},\"layout\":{\"annotationdefaults\":{\"arrowcolor\":\"#2a3f5f\",\"arrowhead\":0,\"arrowwidth\":1},\"autotypenumbers\":\"strict\",\"coloraxis\":{\"colorbar\":{\"outlinewidth\":0,\"ticks\":\"\"}},\"colorscale\":{\"diverging\":[[0,\"#8e0152\"],[0.1,\"#c51b7d\"],[0.2,\"#de77ae\"],[0.3,\"#f1b6da\"],[0.4,\"#fde0ef\"],[0.5,\"#f7f7f7\"],[0.6,\"#e6f5d0\"],[0.7,\"#b8e186\"],[0.8,\"#7fbc41\"],[0.9,\"#4d9221\"],[1,\"#276419\"]],\"sequential\":[[0.0,\"#0d0887\"],[0.1111111111111111,\"#46039f\"],[0.2222222222222222,\"#7201a8\"],[0.3333333333333333,\"#9c179e\"],[0.4444444444444444,\"#bd3786\"],[0.5555555555555556,\"#d8576b\"],[0.6666666666666666,\"#ed7953\"],[0.7777777777777778,\"#fb9f3a\"],[0.8888888888888888,\"#fdca26\"],[1.0,\"#f0f921\"]],\"sequentialminus\":[[0.0,\"#0d0887\"],[0.1111111111111111,\"#46039f\"],[0.2222222222222222,\"#7201a8\"],[0.3333333333333333,\"#9c179e\"],[0.4444444444444444,\"#bd3786\"],[0.5555555555555556,\"#d8576b\"],[0.6666666666666666,\"#ed7953\"],[0.7777777777777778,\"#fb9f3a\"],[0.8888888888888888,\"#fdca26\"],[1.0,\"#f0f921\"]]},\"colorway\":[\"#636efa\",\"#EF553B\",\"#00cc96\",\"#ab63fa\",\"#FFA15A\",\"#19d3f3\",\"#FF6692\",\"#B6E880\",\"#FF97FF\",\"#FECB52\"],\"font\":{\"color\":\"#2a3f5f\"},\"geo\":{\"bgcolor\":\"white\",\"lakecolor\":\"white\",\"landcolor\":\"#E5ECF6\",\"showlakes\":true,\"showland\":true,\"subunitcolor\":\"white\"},\"hoverlabel\":{\"align\":\"left\"},\"hovermode\":\"closest\",\"mapbox\":{\"style\":\"light\"},\"paper_bgcolor\":\"white\",\"plot_bgcolor\":\"#E5ECF6\",\"polar\":{\"angularaxis\":{\"gridcolor\":\"white\",\"linecolor\":\"white\",\"ticks\":\"\"},\"bgcolor\":\"#E5ECF6\",\"radialaxis\":{\"gridcolor\":\"white\",\"linecolor\":\"white\",\"ticks\":\"\"}},\"scene\":{\"xaxis\":{\"backgroundcolor\":\"#E5ECF6\",\"gridcolor\":\"white\",\"gridwidth\":2,\"linecolor\":\"white\",\"showbackground\":true,\"ticks\":\"\",\"zerolinecolor\":\"white\"},\"yaxis\":{\"backgroundcolor\":\"#E5ECF6\",\"gridcolor\":\"white\",\"gridwidth\":2,\"linecolor\":\"white\",\"showbackground\":true,\"ticks\":\"\",\"zerolinecolor\":\"white\"},\"zaxis\":{\"backgroundcolor\":\"#E5ECF6\",\"gridcolor\":\"white\",\"gridwidth\":2,\"linecolor\":\"white\",\"showbackground\":true,\"ticks\":\"\",\"zerolinecolor\":\"white\"}},\"shapedefaults\":{\"line\":{\"color\":\"#2a3f5f\"}},\"ternary\":{\"aaxis\":{\"gridcolor\":\"white\",\"linecolor\":\"white\",\"ticks\":\"\"},\"baxis\":{\"gridcolor\":\"white\",\"linecolor\":\"white\",\"ticks\":\"\"},\"bgcolor\":\"#E5ECF6\",\"caxis\":{\"gridcolor\":\"white\",\"linecolor\":\"white\",\"ticks\":\"\"}},\"title\":{\"x\":0.05},\"xaxis\":{\"automargin\":true,\"gridcolor\":\"white\",\"linecolor\":\"white\",\"ticks\":\"\",\"title\":{\"standoff\":15},\"zerolinecolor\":\"white\",\"zerolinewidth\":2},\"yaxis\":{\"automargin\":true,\"gridcolor\":\"white\",\"linecolor\":\"white\",\"ticks\":\"\",\"title\":{\"standoff\":15},\"zerolinecolor\":\"white\",\"zerolinewidth\":2}}},\"xaxis\":{\"anchor\":\"y\",\"domain\":[0.0,1.0],\"title\":{\"text\":\"receive_time\"}},\"yaxis\":{\"anchor\":\"x\",\"domain\":[0.0,1.0],\"title\":{\"text\":\"\\u5024\"}},\"legend\":{\"title\":{\"text\":\"\\u5909\\u6570\\u540d\"},\"tracegroupgap\":0},\"margin\":{\"t\":60}},                        {\"responsive\": true}                    ).then(function(){\n",
              "                            \n",
              "var gd = document.getElementById('cfee5302-e22e-4d37-89a1-c37ca8329997');\n",
              "var x = new MutationObserver(function (mutations, observer) {{\n",
              "        var display = window.getComputedStyle(gd).display;\n",
              "        if (!display || display === 'none') {{\n",
              "            console.log([gd, 'removed!']);\n",
              "            Plotly.purge(gd);\n",
              "            observer.disconnect();\n",
              "        }}\n",
              "}});\n",
              "\n",
              "// Listen for the removal of the full notebook cells\n",
              "var notebookContainer = gd.closest('#notebook-container');\n",
              "if (notebookContainer) {{\n",
              "    x.observe(notebookContainer, {childList: true});\n",
              "}}\n",
              "\n",
              "// Listen for the clearing of the current output cell\n",
              "var outputEl = gd.closest('.output');\n",
              "if (outputEl) {{\n",
              "    x.observe(outputEl, {childList: true});\n",
              "}}\n",
              "\n",
              "                        })                };                            </script>        </div>\n",
              "</body>\n",
              "</html>"
            ]
          },
          "metadata": {}
        }
      ]
    },
    {
      "cell_type": "markdown",
      "metadata": {
        "id": "hNXzhnEr47fe"
      },
      "source": [
        "## ノック100: 3次元グラフを作成してみよう"
      ]
    },
    {
      "cell_type": "code",
      "metadata": {
        "colab": {
          "base_uri": "https://localhost:8080/",
          "height": 206
        },
        "id": "gRGsztsr47fe",
        "outputId": "b220a9cb-fd8a-4e87-994f-a3ba4a43807f"
      },
      "source": [
        "import seaborn as sns\n",
        "df_iris = sns.load_dataset('iris')\n",
        "df_iris.head()"
      ],
      "execution_count": null,
      "outputs": [
        {
          "output_type": "execute_result",
          "data": {
            "text/plain": [
              "   sepal_length  sepal_width  petal_length  petal_width species\n",
              "0           5.1          3.5           1.4          0.2  setosa\n",
              "1           4.9          3.0           1.4          0.2  setosa\n",
              "2           4.7          3.2           1.3          0.2  setosa\n",
              "3           4.6          3.1           1.5          0.2  setosa\n",
              "4           5.0          3.6           1.4          0.2  setosa"
            ],
            "text/html": [
              "\n",
              "  <div id=\"df-5dc310dd-c5b3-4d6f-9739-5e9fb8c65fb2\">\n",
              "    <div class=\"colab-df-container\">\n",
              "      <div>\n",
              "<style scoped>\n",
              "    .dataframe tbody tr th:only-of-type {\n",
              "        vertical-align: middle;\n",
              "    }\n",
              "\n",
              "    .dataframe tbody tr th {\n",
              "        vertical-align: top;\n",
              "    }\n",
              "\n",
              "    .dataframe thead th {\n",
              "        text-align: right;\n",
              "    }\n",
              "</style>\n",
              "<table border=\"1\" class=\"dataframe\">\n",
              "  <thead>\n",
              "    <tr style=\"text-align: right;\">\n",
              "      <th></th>\n",
              "      <th>sepal_length</th>\n",
              "      <th>sepal_width</th>\n",
              "      <th>petal_length</th>\n",
              "      <th>petal_width</th>\n",
              "      <th>species</th>\n",
              "    </tr>\n",
              "  </thead>\n",
              "  <tbody>\n",
              "    <tr>\n",
              "      <th>0</th>\n",
              "      <td>5.1</td>\n",
              "      <td>3.5</td>\n",
              "      <td>1.4</td>\n",
              "      <td>0.2</td>\n",
              "      <td>setosa</td>\n",
              "    </tr>\n",
              "    <tr>\n",
              "      <th>1</th>\n",
              "      <td>4.9</td>\n",
              "      <td>3.0</td>\n",
              "      <td>1.4</td>\n",
              "      <td>0.2</td>\n",
              "      <td>setosa</td>\n",
              "    </tr>\n",
              "    <tr>\n",
              "      <th>2</th>\n",
              "      <td>4.7</td>\n",
              "      <td>3.2</td>\n",
              "      <td>1.3</td>\n",
              "      <td>0.2</td>\n",
              "      <td>setosa</td>\n",
              "    </tr>\n",
              "    <tr>\n",
              "      <th>3</th>\n",
              "      <td>4.6</td>\n",
              "      <td>3.1</td>\n",
              "      <td>1.5</td>\n",
              "      <td>0.2</td>\n",
              "      <td>setosa</td>\n",
              "    </tr>\n",
              "    <tr>\n",
              "      <th>4</th>\n",
              "      <td>5.0</td>\n",
              "      <td>3.6</td>\n",
              "      <td>1.4</td>\n",
              "      <td>0.2</td>\n",
              "      <td>setosa</td>\n",
              "    </tr>\n",
              "  </tbody>\n",
              "</table>\n",
              "</div>\n",
              "      <button class=\"colab-df-convert\" onclick=\"convertToInteractive('df-5dc310dd-c5b3-4d6f-9739-5e9fb8c65fb2')\"\n",
              "              title=\"Convert this dataframe to an interactive table.\"\n",
              "              style=\"display:none;\">\n",
              "        \n",
              "  <svg xmlns=\"http://www.w3.org/2000/svg\" height=\"24px\"viewBox=\"0 0 24 24\"\n",
              "       width=\"24px\">\n",
              "    <path d=\"M0 0h24v24H0V0z\" fill=\"none\"/>\n",
              "    <path d=\"M18.56 5.44l.94 2.06.94-2.06 2.06-.94-2.06-.94-.94-2.06-.94 2.06-2.06.94zm-11 1L8.5 8.5l.94-2.06 2.06-.94-2.06-.94L8.5 2.5l-.94 2.06-2.06.94zm10 10l.94 2.06.94-2.06 2.06-.94-2.06-.94-.94-2.06-.94 2.06-2.06.94z\"/><path d=\"M17.41 7.96l-1.37-1.37c-.4-.4-.92-.59-1.43-.59-.52 0-1.04.2-1.43.59L10.3 9.45l-7.72 7.72c-.78.78-.78 2.05 0 2.83L4 21.41c.39.39.9.59 1.41.59.51 0 1.02-.2 1.41-.59l7.78-7.78 2.81-2.81c.8-.78.8-2.07 0-2.86zM5.41 20L4 18.59l7.72-7.72 1.47 1.35L5.41 20z\"/>\n",
              "  </svg>\n",
              "      </button>\n",
              "      \n",
              "  <style>\n",
              "    .colab-df-container {\n",
              "      display:flex;\n",
              "      flex-wrap:wrap;\n",
              "      gap: 12px;\n",
              "    }\n",
              "\n",
              "    .colab-df-convert {\n",
              "      background-color: #E8F0FE;\n",
              "      border: none;\n",
              "      border-radius: 50%;\n",
              "      cursor: pointer;\n",
              "      display: none;\n",
              "      fill: #1967D2;\n",
              "      height: 32px;\n",
              "      padding: 0 0 0 0;\n",
              "      width: 32px;\n",
              "    }\n",
              "\n",
              "    .colab-df-convert:hover {\n",
              "      background-color: #E2EBFA;\n",
              "      box-shadow: 0px 1px 2px rgba(60, 64, 67, 0.3), 0px 1px 3px 1px rgba(60, 64, 67, 0.15);\n",
              "      fill: #174EA6;\n",
              "    }\n",
              "\n",
              "    [theme=dark] .colab-df-convert {\n",
              "      background-color: #3B4455;\n",
              "      fill: #D2E3FC;\n",
              "    }\n",
              "\n",
              "    [theme=dark] .colab-df-convert:hover {\n",
              "      background-color: #434B5C;\n",
              "      box-shadow: 0px 1px 3px 1px rgba(0, 0, 0, 0.15);\n",
              "      filter: drop-shadow(0px 1px 2px rgba(0, 0, 0, 0.3));\n",
              "      fill: #FFFFFF;\n",
              "    }\n",
              "  </style>\n",
              "\n",
              "      <script>\n",
              "        const buttonEl =\n",
              "          document.querySelector('#df-5dc310dd-c5b3-4d6f-9739-5e9fb8c65fb2 button.colab-df-convert');\n",
              "        buttonEl.style.display =\n",
              "          google.colab.kernel.accessAllowed ? 'block' : 'none';\n",
              "\n",
              "        async function convertToInteractive(key) {\n",
              "          const element = document.querySelector('#df-5dc310dd-c5b3-4d6f-9739-5e9fb8c65fb2');\n",
              "          const dataTable =\n",
              "            await google.colab.kernel.invokeFunction('convertToInteractive',\n",
              "                                                     [key], {});\n",
              "          if (!dataTable) return;\n",
              "\n",
              "          const docLinkHtml = 'Like what you see? Visit the ' +\n",
              "            '<a target=\"_blank\" href=https://colab.research.google.com/notebooks/data_table.ipynb>data table notebook</a>'\n",
              "            + ' to learn more about interactive tables.';\n",
              "          element.innerHTML = '';\n",
              "          dataTable['output_type'] = 'display_data';\n",
              "          await google.colab.output.renderOutput(dataTable, element);\n",
              "          const docLink = document.createElement('div');\n",
              "          docLink.innerHTML = docLinkHtml;\n",
              "          element.appendChild(docLink);\n",
              "        }\n",
              "      </script>\n",
              "    </div>\n",
              "  </div>\n",
              "  "
            ]
          },
          "metadata": {},
          "execution_count": 38
        }
      ]
    },
    {
      "cell_type": "code",
      "metadata": {
        "colab": {
          "base_uri": "https://localhost:8080/",
          "height": 542
        },
        "id": "LdVQ6dsk47fe",
        "outputId": "fbe885ee-fbcd-4f45-ca50-0e56845932a5"
      },
      "source": [
        "fig = px.scatter(df_iris, x='sepal_length', y='sepal_width', color='species')\n",
        "fig.show()"
      ],
      "execution_count": null,
      "outputs": [
        {
          "output_type": "display_data",
          "data": {
            "text/html": [
              "<html>\n",
              "<head><meta charset=\"utf-8\" /></head>\n",
              "<body>\n",
              "    <div>            <script src=\"https://cdnjs.cloudflare.com/ajax/libs/mathjax/2.7.5/MathJax.js?config=TeX-AMS-MML_SVG\"></script><script type=\"text/javascript\">if (window.MathJax) {MathJax.Hub.Config({SVG: {font: \"STIX-Web\"}});}</script>                <script type=\"text/javascript\">window.PlotlyConfig = {MathJaxConfig: 'local'};</script>\n",
              "        <script src=\"https://cdn.plot.ly/plotly-2.8.3.min.js\"></script>                <div id=\"aa299393-7800-4fdd-8c04-e4496c0a3778\" class=\"plotly-graph-div\" style=\"height:525px; width:100%;\"></div>            <script type=\"text/javascript\">                                    window.PLOTLYENV=window.PLOTLYENV || {};                                    if (document.getElementById(\"aa299393-7800-4fdd-8c04-e4496c0a3778\")) {                    Plotly.newPlot(                        \"aa299393-7800-4fdd-8c04-e4496c0a3778\",                        [{\"hovertemplate\":\"species=setosa<br>sepal_length=%{x}<br>sepal_width=%{y}<extra></extra>\",\"legendgroup\":\"setosa\",\"marker\":{\"color\":\"#636efa\",\"symbol\":\"circle\"},\"mode\":\"markers\",\"name\":\"setosa\",\"orientation\":\"v\",\"showlegend\":true,\"x\":[5.1,4.9,4.7,4.6,5.0,5.4,4.6,5.0,4.4,4.9,5.4,4.8,4.8,4.3,5.8,5.7,5.4,5.1,5.7,5.1,5.4,5.1,4.6,5.1,4.8,5.0,5.0,5.2,5.2,4.7,4.8,5.4,5.2,5.5,4.9,5.0,5.5,4.9,4.4,5.1,5.0,4.5,4.4,5.0,5.1,4.8,5.1,4.6,5.3,5.0],\"xaxis\":\"x\",\"y\":[3.5,3.0,3.2,3.1,3.6,3.9,3.4,3.4,2.9,3.1,3.7,3.4,3.0,3.0,4.0,4.4,3.9,3.5,3.8,3.8,3.4,3.7,3.6,3.3,3.4,3.0,3.4,3.5,3.4,3.2,3.1,3.4,4.1,4.2,3.1,3.2,3.5,3.6,3.0,3.4,3.5,2.3,3.2,3.5,3.8,3.0,3.8,3.2,3.7,3.3],\"yaxis\":\"y\",\"type\":\"scatter\"},{\"hovertemplate\":\"species=versicolor<br>sepal_length=%{x}<br>sepal_width=%{y}<extra></extra>\",\"legendgroup\":\"versicolor\",\"marker\":{\"color\":\"#EF553B\",\"symbol\":\"circle\"},\"mode\":\"markers\",\"name\":\"versicolor\",\"orientation\":\"v\",\"showlegend\":true,\"x\":[7.0,6.4,6.9,5.5,6.5,5.7,6.3,4.9,6.6,5.2,5.0,5.9,6.0,6.1,5.6,6.7,5.6,5.8,6.2,5.6,5.9,6.1,6.3,6.1,6.4,6.6,6.8,6.7,6.0,5.7,5.5,5.5,5.8,6.0,5.4,6.0,6.7,6.3,5.6,5.5,5.5,6.1,5.8,5.0,5.6,5.7,5.7,6.2,5.1,5.7],\"xaxis\":\"x\",\"y\":[3.2,3.2,3.1,2.3,2.8,2.8,3.3,2.4,2.9,2.7,2.0,3.0,2.2,2.9,2.9,3.1,3.0,2.7,2.2,2.5,3.2,2.8,2.5,2.8,2.9,3.0,2.8,3.0,2.9,2.6,2.4,2.4,2.7,2.7,3.0,3.4,3.1,2.3,3.0,2.5,2.6,3.0,2.6,2.3,2.7,3.0,2.9,2.9,2.5,2.8],\"yaxis\":\"y\",\"type\":\"scatter\"},{\"hovertemplate\":\"species=virginica<br>sepal_length=%{x}<br>sepal_width=%{y}<extra></extra>\",\"legendgroup\":\"virginica\",\"marker\":{\"color\":\"#00cc96\",\"symbol\":\"circle\"},\"mode\":\"markers\",\"name\":\"virginica\",\"orientation\":\"v\",\"showlegend\":true,\"x\":[6.3,5.8,7.1,6.3,6.5,7.6,4.9,7.3,6.7,7.2,6.5,6.4,6.8,5.7,5.8,6.4,6.5,7.7,7.7,6.0,6.9,5.6,7.7,6.3,6.7,7.2,6.2,6.1,6.4,7.2,7.4,7.9,6.4,6.3,6.1,7.7,6.3,6.4,6.0,6.9,6.7,6.9,5.8,6.8,6.7,6.7,6.3,6.5,6.2,5.9],\"xaxis\":\"x\",\"y\":[3.3,2.7,3.0,2.9,3.0,3.0,2.5,2.9,2.5,3.6,3.2,2.7,3.0,2.5,2.8,3.2,3.0,3.8,2.6,2.2,3.2,2.8,2.8,2.7,3.3,3.2,2.8,3.0,2.8,3.0,2.8,3.8,2.8,2.8,2.6,3.0,3.4,3.1,3.0,3.1,3.1,3.1,2.7,3.2,3.3,3.0,2.5,3.0,3.4,3.0],\"yaxis\":\"y\",\"type\":\"scatter\"}],                        {\"template\":{\"data\":{\"bar\":[{\"error_x\":{\"color\":\"#2a3f5f\"},\"error_y\":{\"color\":\"#2a3f5f\"},\"marker\":{\"line\":{\"color\":\"#E5ECF6\",\"width\":0.5},\"pattern\":{\"fillmode\":\"overlay\",\"size\":10,\"solidity\":0.2}},\"type\":\"bar\"}],\"barpolar\":[{\"marker\":{\"line\":{\"color\":\"#E5ECF6\",\"width\":0.5},\"pattern\":{\"fillmode\":\"overlay\",\"size\":10,\"solidity\":0.2}},\"type\":\"barpolar\"}],\"carpet\":[{\"aaxis\":{\"endlinecolor\":\"#2a3f5f\",\"gridcolor\":\"white\",\"linecolor\":\"white\",\"minorgridcolor\":\"white\",\"startlinecolor\":\"#2a3f5f\"},\"baxis\":{\"endlinecolor\":\"#2a3f5f\",\"gridcolor\":\"white\",\"linecolor\":\"white\",\"minorgridcolor\":\"white\",\"startlinecolor\":\"#2a3f5f\"},\"type\":\"carpet\"}],\"choropleth\":[{\"colorbar\":{\"outlinewidth\":0,\"ticks\":\"\"},\"type\":\"choropleth\"}],\"contour\":[{\"colorbar\":{\"outlinewidth\":0,\"ticks\":\"\"},\"colorscale\":[[0.0,\"#0d0887\"],[0.1111111111111111,\"#46039f\"],[0.2222222222222222,\"#7201a8\"],[0.3333333333333333,\"#9c179e\"],[0.4444444444444444,\"#bd3786\"],[0.5555555555555556,\"#d8576b\"],[0.6666666666666666,\"#ed7953\"],[0.7777777777777778,\"#fb9f3a\"],[0.8888888888888888,\"#fdca26\"],[1.0,\"#f0f921\"]],\"type\":\"contour\"}],\"contourcarpet\":[{\"colorbar\":{\"outlinewidth\":0,\"ticks\":\"\"},\"type\":\"contourcarpet\"}],\"heatmap\":[{\"colorbar\":{\"outlinewidth\":0,\"ticks\":\"\"},\"colorscale\":[[0.0,\"#0d0887\"],[0.1111111111111111,\"#46039f\"],[0.2222222222222222,\"#7201a8\"],[0.3333333333333333,\"#9c179e\"],[0.4444444444444444,\"#bd3786\"],[0.5555555555555556,\"#d8576b\"],[0.6666666666666666,\"#ed7953\"],[0.7777777777777778,\"#fb9f3a\"],[0.8888888888888888,\"#fdca26\"],[1.0,\"#f0f921\"]],\"type\":\"heatmap\"}],\"heatmapgl\":[{\"colorbar\":{\"outlinewidth\":0,\"ticks\":\"\"},\"colorscale\":[[0.0,\"#0d0887\"],[0.1111111111111111,\"#46039f\"],[0.2222222222222222,\"#7201a8\"],[0.3333333333333333,\"#9c179e\"],[0.4444444444444444,\"#bd3786\"],[0.5555555555555556,\"#d8576b\"],[0.6666666666666666,\"#ed7953\"],[0.7777777777777778,\"#fb9f3a\"],[0.8888888888888888,\"#fdca26\"],[1.0,\"#f0f921\"]],\"type\":\"heatmapgl\"}],\"histogram\":[{\"marker\":{\"pattern\":{\"fillmode\":\"overlay\",\"size\":10,\"solidity\":0.2}},\"type\":\"histogram\"}],\"histogram2d\":[{\"colorbar\":{\"outlinewidth\":0,\"ticks\":\"\"},\"colorscale\":[[0.0,\"#0d0887\"],[0.1111111111111111,\"#46039f\"],[0.2222222222222222,\"#7201a8\"],[0.3333333333333333,\"#9c179e\"],[0.4444444444444444,\"#bd3786\"],[0.5555555555555556,\"#d8576b\"],[0.6666666666666666,\"#ed7953\"],[0.7777777777777778,\"#fb9f3a\"],[0.8888888888888888,\"#fdca26\"],[1.0,\"#f0f921\"]],\"type\":\"histogram2d\"}],\"histogram2dcontour\":[{\"colorbar\":{\"outlinewidth\":0,\"ticks\":\"\"},\"colorscale\":[[0.0,\"#0d0887\"],[0.1111111111111111,\"#46039f\"],[0.2222222222222222,\"#7201a8\"],[0.3333333333333333,\"#9c179e\"],[0.4444444444444444,\"#bd3786\"],[0.5555555555555556,\"#d8576b\"],[0.6666666666666666,\"#ed7953\"],[0.7777777777777778,\"#fb9f3a\"],[0.8888888888888888,\"#fdca26\"],[1.0,\"#f0f921\"]],\"type\":\"histogram2dcontour\"}],\"mesh3d\":[{\"colorbar\":{\"outlinewidth\":0,\"ticks\":\"\"},\"type\":\"mesh3d\"}],\"parcoords\":[{\"line\":{\"colorbar\":{\"outlinewidth\":0,\"ticks\":\"\"}},\"type\":\"parcoords\"}],\"pie\":[{\"automargin\":true,\"type\":\"pie\"}],\"scatter\":[{\"marker\":{\"colorbar\":{\"outlinewidth\":0,\"ticks\":\"\"}},\"type\":\"scatter\"}],\"scatter3d\":[{\"line\":{\"colorbar\":{\"outlinewidth\":0,\"ticks\":\"\"}},\"marker\":{\"colorbar\":{\"outlinewidth\":0,\"ticks\":\"\"}},\"type\":\"scatter3d\"}],\"scattercarpet\":[{\"marker\":{\"colorbar\":{\"outlinewidth\":0,\"ticks\":\"\"}},\"type\":\"scattercarpet\"}],\"scattergeo\":[{\"marker\":{\"colorbar\":{\"outlinewidth\":0,\"ticks\":\"\"}},\"type\":\"scattergeo\"}],\"scattergl\":[{\"marker\":{\"colorbar\":{\"outlinewidth\":0,\"ticks\":\"\"}},\"type\":\"scattergl\"}],\"scattermapbox\":[{\"marker\":{\"colorbar\":{\"outlinewidth\":0,\"ticks\":\"\"}},\"type\":\"scattermapbox\"}],\"scatterpolar\":[{\"marker\":{\"colorbar\":{\"outlinewidth\":0,\"ticks\":\"\"}},\"type\":\"scatterpolar\"}],\"scatterpolargl\":[{\"marker\":{\"colorbar\":{\"outlinewidth\":0,\"ticks\":\"\"}},\"type\":\"scatterpolargl\"}],\"scatterternary\":[{\"marker\":{\"colorbar\":{\"outlinewidth\":0,\"ticks\":\"\"}},\"type\":\"scatterternary\"}],\"surface\":[{\"colorbar\":{\"outlinewidth\":0,\"ticks\":\"\"},\"colorscale\":[[0.0,\"#0d0887\"],[0.1111111111111111,\"#46039f\"],[0.2222222222222222,\"#7201a8\"],[0.3333333333333333,\"#9c179e\"],[0.4444444444444444,\"#bd3786\"],[0.5555555555555556,\"#d8576b\"],[0.6666666666666666,\"#ed7953\"],[0.7777777777777778,\"#fb9f3a\"],[0.8888888888888888,\"#fdca26\"],[1.0,\"#f0f921\"]],\"type\":\"surface\"}],\"table\":[{\"cells\":{\"fill\":{\"color\":\"#EBF0F8\"},\"line\":{\"color\":\"white\"}},\"header\":{\"fill\":{\"color\":\"#C8D4E3\"},\"line\":{\"color\":\"white\"}},\"type\":\"table\"}]},\"layout\":{\"annotationdefaults\":{\"arrowcolor\":\"#2a3f5f\",\"arrowhead\":0,\"arrowwidth\":1},\"autotypenumbers\":\"strict\",\"coloraxis\":{\"colorbar\":{\"outlinewidth\":0,\"ticks\":\"\"}},\"colorscale\":{\"diverging\":[[0,\"#8e0152\"],[0.1,\"#c51b7d\"],[0.2,\"#de77ae\"],[0.3,\"#f1b6da\"],[0.4,\"#fde0ef\"],[0.5,\"#f7f7f7\"],[0.6,\"#e6f5d0\"],[0.7,\"#b8e186\"],[0.8,\"#7fbc41\"],[0.9,\"#4d9221\"],[1,\"#276419\"]],\"sequential\":[[0.0,\"#0d0887\"],[0.1111111111111111,\"#46039f\"],[0.2222222222222222,\"#7201a8\"],[0.3333333333333333,\"#9c179e\"],[0.4444444444444444,\"#bd3786\"],[0.5555555555555556,\"#d8576b\"],[0.6666666666666666,\"#ed7953\"],[0.7777777777777778,\"#fb9f3a\"],[0.8888888888888888,\"#fdca26\"],[1.0,\"#f0f921\"]],\"sequentialminus\":[[0.0,\"#0d0887\"],[0.1111111111111111,\"#46039f\"],[0.2222222222222222,\"#7201a8\"],[0.3333333333333333,\"#9c179e\"],[0.4444444444444444,\"#bd3786\"],[0.5555555555555556,\"#d8576b\"],[0.6666666666666666,\"#ed7953\"],[0.7777777777777778,\"#fb9f3a\"],[0.8888888888888888,\"#fdca26\"],[1.0,\"#f0f921\"]]},\"colorway\":[\"#636efa\",\"#EF553B\",\"#00cc96\",\"#ab63fa\",\"#FFA15A\",\"#19d3f3\",\"#FF6692\",\"#B6E880\",\"#FF97FF\",\"#FECB52\"],\"font\":{\"color\":\"#2a3f5f\"},\"geo\":{\"bgcolor\":\"white\",\"lakecolor\":\"white\",\"landcolor\":\"#E5ECF6\",\"showlakes\":true,\"showland\":true,\"subunitcolor\":\"white\"},\"hoverlabel\":{\"align\":\"left\"},\"hovermode\":\"closest\",\"mapbox\":{\"style\":\"light\"},\"paper_bgcolor\":\"white\",\"plot_bgcolor\":\"#E5ECF6\",\"polar\":{\"angularaxis\":{\"gridcolor\":\"white\",\"linecolor\":\"white\",\"ticks\":\"\"},\"bgcolor\":\"#E5ECF6\",\"radialaxis\":{\"gridcolor\":\"white\",\"linecolor\":\"white\",\"ticks\":\"\"}},\"scene\":{\"xaxis\":{\"backgroundcolor\":\"#E5ECF6\",\"gridcolor\":\"white\",\"gridwidth\":2,\"linecolor\":\"white\",\"showbackground\":true,\"ticks\":\"\",\"zerolinecolor\":\"white\"},\"yaxis\":{\"backgroundcolor\":\"#E5ECF6\",\"gridcolor\":\"white\",\"gridwidth\":2,\"linecolor\":\"white\",\"showbackground\":true,\"ticks\":\"\",\"zerolinecolor\":\"white\"},\"zaxis\":{\"backgroundcolor\":\"#E5ECF6\",\"gridcolor\":\"white\",\"gridwidth\":2,\"linecolor\":\"white\",\"showbackground\":true,\"ticks\":\"\",\"zerolinecolor\":\"white\"}},\"shapedefaults\":{\"line\":{\"color\":\"#2a3f5f\"}},\"ternary\":{\"aaxis\":{\"gridcolor\":\"white\",\"linecolor\":\"white\",\"ticks\":\"\"},\"baxis\":{\"gridcolor\":\"white\",\"linecolor\":\"white\",\"ticks\":\"\"},\"bgcolor\":\"#E5ECF6\",\"caxis\":{\"gridcolor\":\"white\",\"linecolor\":\"white\",\"ticks\":\"\"}},\"title\":{\"x\":0.05},\"xaxis\":{\"automargin\":true,\"gridcolor\":\"white\",\"linecolor\":\"white\",\"ticks\":\"\",\"title\":{\"standoff\":15},\"zerolinecolor\":\"white\",\"zerolinewidth\":2},\"yaxis\":{\"automargin\":true,\"gridcolor\":\"white\",\"linecolor\":\"white\",\"ticks\":\"\",\"title\":{\"standoff\":15},\"zerolinecolor\":\"white\",\"zerolinewidth\":2}}},\"xaxis\":{\"anchor\":\"y\",\"domain\":[0.0,1.0],\"title\":{\"text\":\"sepal_length\"}},\"yaxis\":{\"anchor\":\"x\",\"domain\":[0.0,1.0],\"title\":{\"text\":\"sepal_width\"}},\"legend\":{\"title\":{\"text\":\"species\"},\"tracegroupgap\":0},\"margin\":{\"t\":60}},                        {\"responsive\": true}                    ).then(function(){\n",
              "                            \n",
              "var gd = document.getElementById('aa299393-7800-4fdd-8c04-e4496c0a3778');\n",
              "var x = new MutationObserver(function (mutations, observer) {{\n",
              "        var display = window.getComputedStyle(gd).display;\n",
              "        if (!display || display === 'none') {{\n",
              "            console.log([gd, 'removed!']);\n",
              "            Plotly.purge(gd);\n",
              "            observer.disconnect();\n",
              "        }}\n",
              "}});\n",
              "\n",
              "// Listen for the removal of the full notebook cells\n",
              "var notebookContainer = gd.closest('#notebook-container');\n",
              "if (notebookContainer) {{\n",
              "    x.observe(notebookContainer, {childList: true});\n",
              "}}\n",
              "\n",
              "// Listen for the clearing of the current output cell\n",
              "var outputEl = gd.closest('.output');\n",
              "if (outputEl) {{\n",
              "    x.observe(outputEl, {childList: true});\n",
              "}}\n",
              "\n",
              "                        })                };                            </script>        </div>\n",
              "</body>\n",
              "</html>"
            ]
          },
          "metadata": {}
        }
      ]
    },
    {
      "cell_type": "code",
      "metadata": {
        "colab": {
          "base_uri": "https://localhost:8080/",
          "height": 542
        },
        "id": "MjIYZgaw47fe",
        "outputId": "c7f0c792-ed25-4b92-9b32-20dc1069f6c6"
      },
      "source": [
        "fig = px.scatter_3d(df_iris, x='sepal_length', y='sepal_width', z='petal_width',color='species')\n",
        "fig.show()"
      ],
      "execution_count": null,
      "outputs": [
        {
          "output_type": "display_data",
          "data": {
            "text/html": [
              "<html>\n",
              "<head><meta charset=\"utf-8\" /></head>\n",
              "<body>\n",
              "    <div>            <script src=\"https://cdnjs.cloudflare.com/ajax/libs/mathjax/2.7.5/MathJax.js?config=TeX-AMS-MML_SVG\"></script><script type=\"text/javascript\">if (window.MathJax) {MathJax.Hub.Config({SVG: {font: \"STIX-Web\"}});}</script>                <script type=\"text/javascript\">window.PlotlyConfig = {MathJaxConfig: 'local'};</script>\n",
              "        <script src=\"https://cdn.plot.ly/plotly-2.8.3.min.js\"></script>                <div id=\"3652b2b1-f154-4cfb-ab87-eead3c8a5e5a\" class=\"plotly-graph-div\" style=\"height:525px; width:100%;\"></div>            <script type=\"text/javascript\">                                    window.PLOTLYENV=window.PLOTLYENV || {};                                    if (document.getElementById(\"3652b2b1-f154-4cfb-ab87-eead3c8a5e5a\")) {                    Plotly.newPlot(                        \"3652b2b1-f154-4cfb-ab87-eead3c8a5e5a\",                        [{\"hovertemplate\":\"species=setosa<br>sepal_length=%{x}<br>sepal_width=%{y}<br>petal_width=%{z}<extra></extra>\",\"legendgroup\":\"setosa\",\"marker\":{\"color\":\"#636efa\",\"symbol\":\"circle\"},\"mode\":\"markers\",\"name\":\"setosa\",\"scene\":\"scene\",\"showlegend\":true,\"x\":[5.1,4.9,4.7,4.6,5.0,5.4,4.6,5.0,4.4,4.9,5.4,4.8,4.8,4.3,5.8,5.7,5.4,5.1,5.7,5.1,5.4,5.1,4.6,5.1,4.8,5.0,5.0,5.2,5.2,4.7,4.8,5.4,5.2,5.5,4.9,5.0,5.5,4.9,4.4,5.1,5.0,4.5,4.4,5.0,5.1,4.8,5.1,4.6,5.3,5.0],\"y\":[3.5,3.0,3.2,3.1,3.6,3.9,3.4,3.4,2.9,3.1,3.7,3.4,3.0,3.0,4.0,4.4,3.9,3.5,3.8,3.8,3.4,3.7,3.6,3.3,3.4,3.0,3.4,3.5,3.4,3.2,3.1,3.4,4.1,4.2,3.1,3.2,3.5,3.6,3.0,3.4,3.5,2.3,3.2,3.5,3.8,3.0,3.8,3.2,3.7,3.3],\"z\":[0.2,0.2,0.2,0.2,0.2,0.4,0.3,0.2,0.2,0.1,0.2,0.2,0.1,0.1,0.2,0.4,0.4,0.3,0.3,0.3,0.2,0.4,0.2,0.5,0.2,0.2,0.4,0.2,0.2,0.2,0.2,0.4,0.1,0.2,0.2,0.2,0.2,0.1,0.2,0.2,0.3,0.3,0.2,0.6,0.4,0.3,0.2,0.2,0.2,0.2],\"type\":\"scatter3d\"},{\"hovertemplate\":\"species=versicolor<br>sepal_length=%{x}<br>sepal_width=%{y}<br>petal_width=%{z}<extra></extra>\",\"legendgroup\":\"versicolor\",\"marker\":{\"color\":\"#EF553B\",\"symbol\":\"circle\"},\"mode\":\"markers\",\"name\":\"versicolor\",\"scene\":\"scene\",\"showlegend\":true,\"x\":[7.0,6.4,6.9,5.5,6.5,5.7,6.3,4.9,6.6,5.2,5.0,5.9,6.0,6.1,5.6,6.7,5.6,5.8,6.2,5.6,5.9,6.1,6.3,6.1,6.4,6.6,6.8,6.7,6.0,5.7,5.5,5.5,5.8,6.0,5.4,6.0,6.7,6.3,5.6,5.5,5.5,6.1,5.8,5.0,5.6,5.7,5.7,6.2,5.1,5.7],\"y\":[3.2,3.2,3.1,2.3,2.8,2.8,3.3,2.4,2.9,2.7,2.0,3.0,2.2,2.9,2.9,3.1,3.0,2.7,2.2,2.5,3.2,2.8,2.5,2.8,2.9,3.0,2.8,3.0,2.9,2.6,2.4,2.4,2.7,2.7,3.0,3.4,3.1,2.3,3.0,2.5,2.6,3.0,2.6,2.3,2.7,3.0,2.9,2.9,2.5,2.8],\"z\":[1.4,1.5,1.5,1.3,1.5,1.3,1.6,1.0,1.3,1.4,1.0,1.5,1.0,1.4,1.3,1.4,1.5,1.0,1.5,1.1,1.8,1.3,1.5,1.2,1.3,1.4,1.4,1.7,1.5,1.0,1.1,1.0,1.2,1.6,1.5,1.6,1.5,1.3,1.3,1.3,1.2,1.4,1.2,1.0,1.3,1.2,1.3,1.3,1.1,1.3],\"type\":\"scatter3d\"},{\"hovertemplate\":\"species=virginica<br>sepal_length=%{x}<br>sepal_width=%{y}<br>petal_width=%{z}<extra></extra>\",\"legendgroup\":\"virginica\",\"marker\":{\"color\":\"#00cc96\",\"symbol\":\"circle\"},\"mode\":\"markers\",\"name\":\"virginica\",\"scene\":\"scene\",\"showlegend\":true,\"x\":[6.3,5.8,7.1,6.3,6.5,7.6,4.9,7.3,6.7,7.2,6.5,6.4,6.8,5.7,5.8,6.4,6.5,7.7,7.7,6.0,6.9,5.6,7.7,6.3,6.7,7.2,6.2,6.1,6.4,7.2,7.4,7.9,6.4,6.3,6.1,7.7,6.3,6.4,6.0,6.9,6.7,6.9,5.8,6.8,6.7,6.7,6.3,6.5,6.2,5.9],\"y\":[3.3,2.7,3.0,2.9,3.0,3.0,2.5,2.9,2.5,3.6,3.2,2.7,3.0,2.5,2.8,3.2,3.0,3.8,2.6,2.2,3.2,2.8,2.8,2.7,3.3,3.2,2.8,3.0,2.8,3.0,2.8,3.8,2.8,2.8,2.6,3.0,3.4,3.1,3.0,3.1,3.1,3.1,2.7,3.2,3.3,3.0,2.5,3.0,3.4,3.0],\"z\":[2.5,1.9,2.1,1.8,2.2,2.1,1.7,1.8,1.8,2.5,2.0,1.9,2.1,2.0,2.4,2.3,1.8,2.2,2.3,1.5,2.3,2.0,2.0,1.8,2.1,1.8,1.8,1.8,2.1,1.6,1.9,2.0,2.2,1.5,1.4,2.3,2.4,1.8,1.8,2.1,2.4,2.3,1.9,2.3,2.5,2.3,1.9,2.0,2.3,1.8],\"type\":\"scatter3d\"}],                        {\"template\":{\"data\":{\"bar\":[{\"error_x\":{\"color\":\"#2a3f5f\"},\"error_y\":{\"color\":\"#2a3f5f\"},\"marker\":{\"line\":{\"color\":\"#E5ECF6\",\"width\":0.5},\"pattern\":{\"fillmode\":\"overlay\",\"size\":10,\"solidity\":0.2}},\"type\":\"bar\"}],\"barpolar\":[{\"marker\":{\"line\":{\"color\":\"#E5ECF6\",\"width\":0.5},\"pattern\":{\"fillmode\":\"overlay\",\"size\":10,\"solidity\":0.2}},\"type\":\"barpolar\"}],\"carpet\":[{\"aaxis\":{\"endlinecolor\":\"#2a3f5f\",\"gridcolor\":\"white\",\"linecolor\":\"white\",\"minorgridcolor\":\"white\",\"startlinecolor\":\"#2a3f5f\"},\"baxis\":{\"endlinecolor\":\"#2a3f5f\",\"gridcolor\":\"white\",\"linecolor\":\"white\",\"minorgridcolor\":\"white\",\"startlinecolor\":\"#2a3f5f\"},\"type\":\"carpet\"}],\"choropleth\":[{\"colorbar\":{\"outlinewidth\":0,\"ticks\":\"\"},\"type\":\"choropleth\"}],\"contour\":[{\"colorbar\":{\"outlinewidth\":0,\"ticks\":\"\"},\"colorscale\":[[0.0,\"#0d0887\"],[0.1111111111111111,\"#46039f\"],[0.2222222222222222,\"#7201a8\"],[0.3333333333333333,\"#9c179e\"],[0.4444444444444444,\"#bd3786\"],[0.5555555555555556,\"#d8576b\"],[0.6666666666666666,\"#ed7953\"],[0.7777777777777778,\"#fb9f3a\"],[0.8888888888888888,\"#fdca26\"],[1.0,\"#f0f921\"]],\"type\":\"contour\"}],\"contourcarpet\":[{\"colorbar\":{\"outlinewidth\":0,\"ticks\":\"\"},\"type\":\"contourcarpet\"}],\"heatmap\":[{\"colorbar\":{\"outlinewidth\":0,\"ticks\":\"\"},\"colorscale\":[[0.0,\"#0d0887\"],[0.1111111111111111,\"#46039f\"],[0.2222222222222222,\"#7201a8\"],[0.3333333333333333,\"#9c179e\"],[0.4444444444444444,\"#bd3786\"],[0.5555555555555556,\"#d8576b\"],[0.6666666666666666,\"#ed7953\"],[0.7777777777777778,\"#fb9f3a\"],[0.8888888888888888,\"#fdca26\"],[1.0,\"#f0f921\"]],\"type\":\"heatmap\"}],\"heatmapgl\":[{\"colorbar\":{\"outlinewidth\":0,\"ticks\":\"\"},\"colorscale\":[[0.0,\"#0d0887\"],[0.1111111111111111,\"#46039f\"],[0.2222222222222222,\"#7201a8\"],[0.3333333333333333,\"#9c179e\"],[0.4444444444444444,\"#bd3786\"],[0.5555555555555556,\"#d8576b\"],[0.6666666666666666,\"#ed7953\"],[0.7777777777777778,\"#fb9f3a\"],[0.8888888888888888,\"#fdca26\"],[1.0,\"#f0f921\"]],\"type\":\"heatmapgl\"}],\"histogram\":[{\"marker\":{\"pattern\":{\"fillmode\":\"overlay\",\"size\":10,\"solidity\":0.2}},\"type\":\"histogram\"}],\"histogram2d\":[{\"colorbar\":{\"outlinewidth\":0,\"ticks\":\"\"},\"colorscale\":[[0.0,\"#0d0887\"],[0.1111111111111111,\"#46039f\"],[0.2222222222222222,\"#7201a8\"],[0.3333333333333333,\"#9c179e\"],[0.4444444444444444,\"#bd3786\"],[0.5555555555555556,\"#d8576b\"],[0.6666666666666666,\"#ed7953\"],[0.7777777777777778,\"#fb9f3a\"],[0.8888888888888888,\"#fdca26\"],[1.0,\"#f0f921\"]],\"type\":\"histogram2d\"}],\"histogram2dcontour\":[{\"colorbar\":{\"outlinewidth\":0,\"ticks\":\"\"},\"colorscale\":[[0.0,\"#0d0887\"],[0.1111111111111111,\"#46039f\"],[0.2222222222222222,\"#7201a8\"],[0.3333333333333333,\"#9c179e\"],[0.4444444444444444,\"#bd3786\"],[0.5555555555555556,\"#d8576b\"],[0.6666666666666666,\"#ed7953\"],[0.7777777777777778,\"#fb9f3a\"],[0.8888888888888888,\"#fdca26\"],[1.0,\"#f0f921\"]],\"type\":\"histogram2dcontour\"}],\"mesh3d\":[{\"colorbar\":{\"outlinewidth\":0,\"ticks\":\"\"},\"type\":\"mesh3d\"}],\"parcoords\":[{\"line\":{\"colorbar\":{\"outlinewidth\":0,\"ticks\":\"\"}},\"type\":\"parcoords\"}],\"pie\":[{\"automargin\":true,\"type\":\"pie\"}],\"scatter\":[{\"marker\":{\"colorbar\":{\"outlinewidth\":0,\"ticks\":\"\"}},\"type\":\"scatter\"}],\"scatter3d\":[{\"line\":{\"colorbar\":{\"outlinewidth\":0,\"ticks\":\"\"}},\"marker\":{\"colorbar\":{\"outlinewidth\":0,\"ticks\":\"\"}},\"type\":\"scatter3d\"}],\"scattercarpet\":[{\"marker\":{\"colorbar\":{\"outlinewidth\":0,\"ticks\":\"\"}},\"type\":\"scattercarpet\"}],\"scattergeo\":[{\"marker\":{\"colorbar\":{\"outlinewidth\":0,\"ticks\":\"\"}},\"type\":\"scattergeo\"}],\"scattergl\":[{\"marker\":{\"colorbar\":{\"outlinewidth\":0,\"ticks\":\"\"}},\"type\":\"scattergl\"}],\"scattermapbox\":[{\"marker\":{\"colorbar\":{\"outlinewidth\":0,\"ticks\":\"\"}},\"type\":\"scattermapbox\"}],\"scatterpolar\":[{\"marker\":{\"colorbar\":{\"outlinewidth\":0,\"ticks\":\"\"}},\"type\":\"scatterpolar\"}],\"scatterpolargl\":[{\"marker\":{\"colorbar\":{\"outlinewidth\":0,\"ticks\":\"\"}},\"type\":\"scatterpolargl\"}],\"scatterternary\":[{\"marker\":{\"colorbar\":{\"outlinewidth\":0,\"ticks\":\"\"}},\"type\":\"scatterternary\"}],\"surface\":[{\"colorbar\":{\"outlinewidth\":0,\"ticks\":\"\"},\"colorscale\":[[0.0,\"#0d0887\"],[0.1111111111111111,\"#46039f\"],[0.2222222222222222,\"#7201a8\"],[0.3333333333333333,\"#9c179e\"],[0.4444444444444444,\"#bd3786\"],[0.5555555555555556,\"#d8576b\"],[0.6666666666666666,\"#ed7953\"],[0.7777777777777778,\"#fb9f3a\"],[0.8888888888888888,\"#fdca26\"],[1.0,\"#f0f921\"]],\"type\":\"surface\"}],\"table\":[{\"cells\":{\"fill\":{\"color\":\"#EBF0F8\"},\"line\":{\"color\":\"white\"}},\"header\":{\"fill\":{\"color\":\"#C8D4E3\"},\"line\":{\"color\":\"white\"}},\"type\":\"table\"}]},\"layout\":{\"annotationdefaults\":{\"arrowcolor\":\"#2a3f5f\",\"arrowhead\":0,\"arrowwidth\":1},\"autotypenumbers\":\"strict\",\"coloraxis\":{\"colorbar\":{\"outlinewidth\":0,\"ticks\":\"\"}},\"colorscale\":{\"diverging\":[[0,\"#8e0152\"],[0.1,\"#c51b7d\"],[0.2,\"#de77ae\"],[0.3,\"#f1b6da\"],[0.4,\"#fde0ef\"],[0.5,\"#f7f7f7\"],[0.6,\"#e6f5d0\"],[0.7,\"#b8e186\"],[0.8,\"#7fbc41\"],[0.9,\"#4d9221\"],[1,\"#276419\"]],\"sequential\":[[0.0,\"#0d0887\"],[0.1111111111111111,\"#46039f\"],[0.2222222222222222,\"#7201a8\"],[0.3333333333333333,\"#9c179e\"],[0.4444444444444444,\"#bd3786\"],[0.5555555555555556,\"#d8576b\"],[0.6666666666666666,\"#ed7953\"],[0.7777777777777778,\"#fb9f3a\"],[0.8888888888888888,\"#fdca26\"],[1.0,\"#f0f921\"]],\"sequentialminus\":[[0.0,\"#0d0887\"],[0.1111111111111111,\"#46039f\"],[0.2222222222222222,\"#7201a8\"],[0.3333333333333333,\"#9c179e\"],[0.4444444444444444,\"#bd3786\"],[0.5555555555555556,\"#d8576b\"],[0.6666666666666666,\"#ed7953\"],[0.7777777777777778,\"#fb9f3a\"],[0.8888888888888888,\"#fdca26\"],[1.0,\"#f0f921\"]]},\"colorway\":[\"#636efa\",\"#EF553B\",\"#00cc96\",\"#ab63fa\",\"#FFA15A\",\"#19d3f3\",\"#FF6692\",\"#B6E880\",\"#FF97FF\",\"#FECB52\"],\"font\":{\"color\":\"#2a3f5f\"},\"geo\":{\"bgcolor\":\"white\",\"lakecolor\":\"white\",\"landcolor\":\"#E5ECF6\",\"showlakes\":true,\"showland\":true,\"subunitcolor\":\"white\"},\"hoverlabel\":{\"align\":\"left\"},\"hovermode\":\"closest\",\"mapbox\":{\"style\":\"light\"},\"paper_bgcolor\":\"white\",\"plot_bgcolor\":\"#E5ECF6\",\"polar\":{\"angularaxis\":{\"gridcolor\":\"white\",\"linecolor\":\"white\",\"ticks\":\"\"},\"bgcolor\":\"#E5ECF6\",\"radialaxis\":{\"gridcolor\":\"white\",\"linecolor\":\"white\",\"ticks\":\"\"}},\"scene\":{\"xaxis\":{\"backgroundcolor\":\"#E5ECF6\",\"gridcolor\":\"white\",\"gridwidth\":2,\"linecolor\":\"white\",\"showbackground\":true,\"ticks\":\"\",\"zerolinecolor\":\"white\"},\"yaxis\":{\"backgroundcolor\":\"#E5ECF6\",\"gridcolor\":\"white\",\"gridwidth\":2,\"linecolor\":\"white\",\"showbackground\":true,\"ticks\":\"\",\"zerolinecolor\":\"white\"},\"zaxis\":{\"backgroundcolor\":\"#E5ECF6\",\"gridcolor\":\"white\",\"gridwidth\":2,\"linecolor\":\"white\",\"showbackground\":true,\"ticks\":\"\",\"zerolinecolor\":\"white\"}},\"shapedefaults\":{\"line\":{\"color\":\"#2a3f5f\"}},\"ternary\":{\"aaxis\":{\"gridcolor\":\"white\",\"linecolor\":\"white\",\"ticks\":\"\"},\"baxis\":{\"gridcolor\":\"white\",\"linecolor\":\"white\",\"ticks\":\"\"},\"bgcolor\":\"#E5ECF6\",\"caxis\":{\"gridcolor\":\"white\",\"linecolor\":\"white\",\"ticks\":\"\"}},\"title\":{\"x\":0.05},\"xaxis\":{\"automargin\":true,\"gridcolor\":\"white\",\"linecolor\":\"white\",\"ticks\":\"\",\"title\":{\"standoff\":15},\"zerolinecolor\":\"white\",\"zerolinewidth\":2},\"yaxis\":{\"automargin\":true,\"gridcolor\":\"white\",\"linecolor\":\"white\",\"ticks\":\"\",\"title\":{\"standoff\":15},\"zerolinecolor\":\"white\",\"zerolinewidth\":2}}},\"scene\":{\"domain\":{\"x\":[0.0,1.0],\"y\":[0.0,1.0]},\"xaxis\":{\"title\":{\"text\":\"sepal_length\"}},\"yaxis\":{\"title\":{\"text\":\"sepal_width\"}},\"zaxis\":{\"title\":{\"text\":\"petal_width\"}}},\"legend\":{\"title\":{\"text\":\"species\"},\"tracegroupgap\":0},\"margin\":{\"t\":60}},                        {\"responsive\": true}                    ).then(function(){\n",
              "                            \n",
              "var gd = document.getElementById('3652b2b1-f154-4cfb-ab87-eead3c8a5e5a');\n",
              "var x = new MutationObserver(function (mutations, observer) {{\n",
              "        var display = window.getComputedStyle(gd).display;\n",
              "        if (!display || display === 'none') {{\n",
              "            console.log([gd, 'removed!']);\n",
              "            Plotly.purge(gd);\n",
              "            observer.disconnect();\n",
              "        }}\n",
              "}});\n",
              "\n",
              "// Listen for the removal of the full notebook cells\n",
              "var notebookContainer = gd.closest('#notebook-container');\n",
              "if (notebookContainer) {{\n",
              "    x.observe(notebookContainer, {childList: true});\n",
              "}}\n",
              "\n",
              "// Listen for the clearing of the current output cell\n",
              "var outputEl = gd.closest('.output');\n",
              "if (outputEl) {{\n",
              "    x.observe(outputEl, {childList: true});\n",
              "}}\n",
              "\n",
              "                        })                };                            </script>        </div>\n",
              "</body>\n",
              "</html>"
            ]
          },
          "metadata": {}
        }
      ]
    }
  ]
}