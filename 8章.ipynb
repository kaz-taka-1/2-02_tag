{
  "nbformat": 4,
  "nbformat_minor": 0,
  "metadata": {
    "colab": {
      "provenance": [],
      "collapsed_sections": [],
      "include_colab_link": true
    },
    "kernelspec": {
      "display_name": "Python 3",
      "name": "python3"
    },
    "language_info": {
      "name": "python"
    }
  },
  "cells": [
    {
      "cell_type": "markdown",
      "metadata": {
        "id": "view-in-github",
        "colab_type": "text"
      },
      "source": [
        "<a href=\"https://colab.research.google.com/github/kaz-taka-1/2-02_tag/blob/main/8%E7%AB%A0.ipynb\" target=\"_parent\"><img src=\"https://colab.research.google.com/assets/colab-badge.svg\" alt=\"Open In Colab\"/></a>"
      ]
    },
    {
      "cell_type": "code",
      "metadata": {
        "id": "GWGqPwoi_j-W",
        "colab": {
          "base_uri": "https://localhost:8080/"
        },
        "outputId": "37bc8753-aa04-451e-e0cc-d4a1de122dba"
      },
      "source": [
        "# 下記セルを実行すると、authorization codeの入力を求められます。\n",
        "# 出力されたリンク先をクリックし、Googleアカウントにログインし、\n",
        "# authorization codeをコピーし、貼り付けをおこなってください。\n",
        "from google.colab import drive\n",
        "drive.mount('/content/drive')"
      ],
      "execution_count": 1,
      "outputs": [
        {
          "output_type": "stream",
          "name": "stdout",
          "text": [
            "Mounted at /content/drive\n"
          ]
        }
      ]
    },
    {
      "cell_type": "code",
      "metadata": {
        "id": "HrlLUr2Q_kWL"
      },
      "source": [
        "import os \n",
        "project = '100knock-process-visualization'\n",
        "chapter = 8\n",
        "os.chdir(f'/content/drive/MyDrive/{project}/chapter-{chapter}/')"
      ],
      "execution_count": 2,
      "outputs": []
    },
    {
      "cell_type": "markdown",
      "metadata": {
        "id": "T-BX9hFf_zFy"
      },
      "source": [
        "# chapter 8 特殊なデータ加工・可視化10ノック\n"
      ]
    },
    {
      "cell_type": "markdown",
      "metadata": {
        "id": "DKGiRw4B0cuR"
      },
      "source": [
        "## ノック91: 大容量CSVデータを扱ってみよう"
      ]
    },
    {
      "cell_type": "code",
      "metadata": {
        "id": "K0Bqkb0S02l2",
        "colab": {
          "base_uri": "https://localhost:8080/",
          "height": 424
        },
        "outputId": "e0d6f90c-559e-40d6-d0f4-2f724f0ef4b1"
      },
      "source": [
        "import pandas as pd\n",
        "df =pd.read_csv('data/person_count_out_0001_2021011509.csv')\n",
        "df"
      ],
      "execution_count": 9,
      "outputs": [
        {
          "output_type": "execute_result",
          "data": {
            "text/plain": [
              "        id  place             receive_time  sensor_num  in1  out1  state1  \\\n",
              "0        0      1  2021-01-15 09:00:00.144           2  508    73       0   \n",
              "1        1      1  2021-01-15 09:00:01.146           2  508    73       0   \n",
              "2        2      1  2021-01-15 09:00:02.161           2  508    73       0   \n",
              "3        3      1  2021-01-15 09:00:03.176           2  508    73       0   \n",
              "4        4      1  2021-01-15 09:00:04.192           2  508    73       0   \n",
              "...    ...    ...                      ...         ...  ...   ...     ...   \n",
              "3535  3535      1  2021-01-15 09:59:55.054           2  782   156       0   \n",
              "3536  3536      1   2021-01-15 09:59:56.07           2  782   156       0   \n",
              "3537  3537      1  2021-01-15 09:59:57.085           2  782   156       0   \n",
              "3538  3538      1  2021-01-15 09:59:58.101           2  782   156       0   \n",
              "3539  3539      1  2021-01-15 09:59:59.116           2  782   156       0   \n",
              "\n",
              "      in2  out2  state2  \n",
              "0      73   508       0  \n",
              "1      73   508       0  \n",
              "2      73   508       0  \n",
              "3      73   508       0  \n",
              "4      73   508       0  \n",
              "...   ...   ...     ...  \n",
              "3535  156   782       0  \n",
              "3536  156   782       0  \n",
              "3537  156   782       0  \n",
              "3538  156   782       0  \n",
              "3539  156   782       0  \n",
              "\n",
              "[3540 rows x 10 columns]"
            ],
            "text/html": [
              "\n",
              "  <div id=\"df-a4bc36ea-cbd0-49b6-950c-b5f9cfd707f3\">\n",
              "    <div class=\"colab-df-container\">\n",
              "      <div>\n",
              "<style scoped>\n",
              "    .dataframe tbody tr th:only-of-type {\n",
              "        vertical-align: middle;\n",
              "    }\n",
              "\n",
              "    .dataframe tbody tr th {\n",
              "        vertical-align: top;\n",
              "    }\n",
              "\n",
              "    .dataframe thead th {\n",
              "        text-align: right;\n",
              "    }\n",
              "</style>\n",
              "<table border=\"1\" class=\"dataframe\">\n",
              "  <thead>\n",
              "    <tr style=\"text-align: right;\">\n",
              "      <th></th>\n",
              "      <th>id</th>\n",
              "      <th>place</th>\n",
              "      <th>receive_time</th>\n",
              "      <th>sensor_num</th>\n",
              "      <th>in1</th>\n",
              "      <th>out1</th>\n",
              "      <th>state1</th>\n",
              "      <th>in2</th>\n",
              "      <th>out2</th>\n",
              "      <th>state2</th>\n",
              "    </tr>\n",
              "  </thead>\n",
              "  <tbody>\n",
              "    <tr>\n",
              "      <th>0</th>\n",
              "      <td>0</td>\n",
              "      <td>1</td>\n",
              "      <td>2021-01-15 09:00:00.144</td>\n",
              "      <td>2</td>\n",
              "      <td>508</td>\n",
              "      <td>73</td>\n",
              "      <td>0</td>\n",
              "      <td>73</td>\n",
              "      <td>508</td>\n",
              "      <td>0</td>\n",
              "    </tr>\n",
              "    <tr>\n",
              "      <th>1</th>\n",
              "      <td>1</td>\n",
              "      <td>1</td>\n",
              "      <td>2021-01-15 09:00:01.146</td>\n",
              "      <td>2</td>\n",
              "      <td>508</td>\n",
              "      <td>73</td>\n",
              "      <td>0</td>\n",
              "      <td>73</td>\n",
              "      <td>508</td>\n",
              "      <td>0</td>\n",
              "    </tr>\n",
              "    <tr>\n",
              "      <th>2</th>\n",
              "      <td>2</td>\n",
              "      <td>1</td>\n",
              "      <td>2021-01-15 09:00:02.161</td>\n",
              "      <td>2</td>\n",
              "      <td>508</td>\n",
              "      <td>73</td>\n",
              "      <td>0</td>\n",
              "      <td>73</td>\n",
              "      <td>508</td>\n",
              "      <td>0</td>\n",
              "    </tr>\n",
              "    <tr>\n",
              "      <th>3</th>\n",
              "      <td>3</td>\n",
              "      <td>1</td>\n",
              "      <td>2021-01-15 09:00:03.176</td>\n",
              "      <td>2</td>\n",
              "      <td>508</td>\n",
              "      <td>73</td>\n",
              "      <td>0</td>\n",
              "      <td>73</td>\n",
              "      <td>508</td>\n",
              "      <td>0</td>\n",
              "    </tr>\n",
              "    <tr>\n",
              "      <th>4</th>\n",
              "      <td>4</td>\n",
              "      <td>1</td>\n",
              "      <td>2021-01-15 09:00:04.192</td>\n",
              "      <td>2</td>\n",
              "      <td>508</td>\n",
              "      <td>73</td>\n",
              "      <td>0</td>\n",
              "      <td>73</td>\n",
              "      <td>508</td>\n",
              "      <td>0</td>\n",
              "    </tr>\n",
              "    <tr>\n",
              "      <th>...</th>\n",
              "      <td>...</td>\n",
              "      <td>...</td>\n",
              "      <td>...</td>\n",
              "      <td>...</td>\n",
              "      <td>...</td>\n",
              "      <td>...</td>\n",
              "      <td>...</td>\n",
              "      <td>...</td>\n",
              "      <td>...</td>\n",
              "      <td>...</td>\n",
              "    </tr>\n",
              "    <tr>\n",
              "      <th>3535</th>\n",
              "      <td>3535</td>\n",
              "      <td>1</td>\n",
              "      <td>2021-01-15 09:59:55.054</td>\n",
              "      <td>2</td>\n",
              "      <td>782</td>\n",
              "      <td>156</td>\n",
              "      <td>0</td>\n",
              "      <td>156</td>\n",
              "      <td>782</td>\n",
              "      <td>0</td>\n",
              "    </tr>\n",
              "    <tr>\n",
              "      <th>3536</th>\n",
              "      <td>3536</td>\n",
              "      <td>1</td>\n",
              "      <td>2021-01-15 09:59:56.07</td>\n",
              "      <td>2</td>\n",
              "      <td>782</td>\n",
              "      <td>156</td>\n",
              "      <td>0</td>\n",
              "      <td>156</td>\n",
              "      <td>782</td>\n",
              "      <td>0</td>\n",
              "    </tr>\n",
              "    <tr>\n",
              "      <th>3537</th>\n",
              "      <td>3537</td>\n",
              "      <td>1</td>\n",
              "      <td>2021-01-15 09:59:57.085</td>\n",
              "      <td>2</td>\n",
              "      <td>782</td>\n",
              "      <td>156</td>\n",
              "      <td>0</td>\n",
              "      <td>156</td>\n",
              "      <td>782</td>\n",
              "      <td>0</td>\n",
              "    </tr>\n",
              "    <tr>\n",
              "      <th>3538</th>\n",
              "      <td>3538</td>\n",
              "      <td>1</td>\n",
              "      <td>2021-01-15 09:59:58.101</td>\n",
              "      <td>2</td>\n",
              "      <td>782</td>\n",
              "      <td>156</td>\n",
              "      <td>0</td>\n",
              "      <td>156</td>\n",
              "      <td>782</td>\n",
              "      <td>0</td>\n",
              "    </tr>\n",
              "    <tr>\n",
              "      <th>3539</th>\n",
              "      <td>3539</td>\n",
              "      <td>1</td>\n",
              "      <td>2021-01-15 09:59:59.116</td>\n",
              "      <td>2</td>\n",
              "      <td>782</td>\n",
              "      <td>156</td>\n",
              "      <td>0</td>\n",
              "      <td>156</td>\n",
              "      <td>782</td>\n",
              "      <td>0</td>\n",
              "    </tr>\n",
              "  </tbody>\n",
              "</table>\n",
              "<p>3540 rows × 10 columns</p>\n",
              "</div>\n",
              "      <button class=\"colab-df-convert\" onclick=\"convertToInteractive('df-a4bc36ea-cbd0-49b6-950c-b5f9cfd707f3')\"\n",
              "              title=\"Convert this dataframe to an interactive table.\"\n",
              "              style=\"display:none;\">\n",
              "        \n",
              "  <svg xmlns=\"http://www.w3.org/2000/svg\" height=\"24px\"viewBox=\"0 0 24 24\"\n",
              "       width=\"24px\">\n",
              "    <path d=\"M0 0h24v24H0V0z\" fill=\"none\"/>\n",
              "    <path d=\"M18.56 5.44l.94 2.06.94-2.06 2.06-.94-2.06-.94-.94-2.06-.94 2.06-2.06.94zm-11 1L8.5 8.5l.94-2.06 2.06-.94-2.06-.94L8.5 2.5l-.94 2.06-2.06.94zm10 10l.94 2.06.94-2.06 2.06-.94-2.06-.94-.94-2.06-.94 2.06-2.06.94z\"/><path d=\"M17.41 7.96l-1.37-1.37c-.4-.4-.92-.59-1.43-.59-.52 0-1.04.2-1.43.59L10.3 9.45l-7.72 7.72c-.78.78-.78 2.05 0 2.83L4 21.41c.39.39.9.59 1.41.59.51 0 1.02-.2 1.41-.59l7.78-7.78 2.81-2.81c.8-.78.8-2.07 0-2.86zM5.41 20L4 18.59l7.72-7.72 1.47 1.35L5.41 20z\"/>\n",
              "  </svg>\n",
              "      </button>\n",
              "      \n",
              "  <style>\n",
              "    .colab-df-container {\n",
              "      display:flex;\n",
              "      flex-wrap:wrap;\n",
              "      gap: 12px;\n",
              "    }\n",
              "\n",
              "    .colab-df-convert {\n",
              "      background-color: #E8F0FE;\n",
              "      border: none;\n",
              "      border-radius: 50%;\n",
              "      cursor: pointer;\n",
              "      display: none;\n",
              "      fill: #1967D2;\n",
              "      height: 32px;\n",
              "      padding: 0 0 0 0;\n",
              "      width: 32px;\n",
              "    }\n",
              "\n",
              "    .colab-df-convert:hover {\n",
              "      background-color: #E2EBFA;\n",
              "      box-shadow: 0px 1px 2px rgba(60, 64, 67, 0.3), 0px 1px 3px 1px rgba(60, 64, 67, 0.15);\n",
              "      fill: #174EA6;\n",
              "    }\n",
              "\n",
              "    [theme=dark] .colab-df-convert {\n",
              "      background-color: #3B4455;\n",
              "      fill: #D2E3FC;\n",
              "    }\n",
              "\n",
              "    [theme=dark] .colab-df-convert:hover {\n",
              "      background-color: #434B5C;\n",
              "      box-shadow: 0px 1px 3px 1px rgba(0, 0, 0, 0.15);\n",
              "      filter: drop-shadow(0px 1px 2px rgba(0, 0, 0, 0.3));\n",
              "      fill: #FFFFFF;\n",
              "    }\n",
              "  </style>\n",
              "\n",
              "      <script>\n",
              "        const buttonEl =\n",
              "          document.querySelector('#df-a4bc36ea-cbd0-49b6-950c-b5f9cfd707f3 button.colab-df-convert');\n",
              "        buttonEl.style.display =\n",
              "          google.colab.kernel.accessAllowed ? 'block' : 'none';\n",
              "\n",
              "        async function convertToInteractive(key) {\n",
              "          const element = document.querySelector('#df-a4bc36ea-cbd0-49b6-950c-b5f9cfd707f3');\n",
              "          const dataTable =\n",
              "            await google.colab.kernel.invokeFunction('convertToInteractive',\n",
              "                                                     [key], {});\n",
              "          if (!dataTable) return;\n",
              "\n",
              "          const docLinkHtml = 'Like what you see? Visit the ' +\n",
              "            '<a target=\"_blank\" href=https://colab.research.google.com/notebooks/data_table.ipynb>data table notebook</a>'\n",
              "            + ' to learn more about interactive tables.';\n",
              "          element.innerHTML = '';\n",
              "          dataTable['output_type'] = 'display_data';\n",
              "          await google.colab.output.renderOutput(dataTable, element);\n",
              "          const docLink = document.createElement('div');\n",
              "          docLink.innerHTML = docLinkHtml;\n",
              "          element.appendChild(docLink);\n",
              "        }\n",
              "      </script>\n",
              "    </div>\n",
              "  </div>\n",
              "  "
            ]
          },
          "metadata": {},
          "execution_count": 9
        }
      ]
    },
    {
      "cell_type": "code",
      "metadata": {
        "id": "SJstiALV1CM8",
        "colab": {
          "base_uri": "https://localhost:8080/"
        },
        "outputId": "b571ece5-fe0d-4422-e623-2d8b95a05fd5"
      },
      "source": [
        "for df in pd.read_csv('data/person_count_out_0001_2021011509.csv',chunksize=512):\n",
        "  print(df.shape)"
      ],
      "execution_count": 11,
      "outputs": [
        {
          "output_type": "stream",
          "name": "stdout",
          "text": [
            "(512, 10)\n",
            "(512, 10)\n",
            "(512, 10)\n",
            "(512, 10)\n",
            "(512, 10)\n",
            "(512, 10)\n",
            "(468, 10)\n"
          ]
        }
      ]
    },
    {
      "cell_type": "code",
      "metadata": {
        "id": "uuetyAgO1CQf"
      },
      "source": [
        "i=0\n",
        "for df in pd.read_csv('data/person_count_out_0001_2021011509.csv',chunksize=64):\n",
        "  df['processd_per_chunk']=True\n",
        "  df.to_csv('data/processed_big_data.csv',mode='a',index=False,header=i==0)\n",
        "  i+=1"
      ],
      "execution_count": 13,
      "outputs": []
    },
    {
      "cell_type": "code",
      "metadata": {
        "id": "3pd2V3SZ27_Y",
        "colab": {
          "base_uri": "https://localhost:8080/",
          "height": 424
        },
        "outputId": "60d5eaf6-7150-49da-8ae3-b48c08dd5ca2"
      },
      "source": [
        "df =pd.read_csv('data/person_count_out_0001_2021011509.csv')\n",
        "df"
      ],
      "execution_count": 14,
      "outputs": [
        {
          "output_type": "execute_result",
          "data": {
            "text/plain": [
              "        id  place             receive_time  sensor_num  in1  out1  state1  \\\n",
              "0        0      1  2021-01-15 09:00:00.144           2  508    73       0   \n",
              "1        1      1  2021-01-15 09:00:01.146           2  508    73       0   \n",
              "2        2      1  2021-01-15 09:00:02.161           2  508    73       0   \n",
              "3        3      1  2021-01-15 09:00:03.176           2  508    73       0   \n",
              "4        4      1  2021-01-15 09:00:04.192           2  508    73       0   \n",
              "...    ...    ...                      ...         ...  ...   ...     ...   \n",
              "3535  3535      1  2021-01-15 09:59:55.054           2  782   156       0   \n",
              "3536  3536      1   2021-01-15 09:59:56.07           2  782   156       0   \n",
              "3537  3537      1  2021-01-15 09:59:57.085           2  782   156       0   \n",
              "3538  3538      1  2021-01-15 09:59:58.101           2  782   156       0   \n",
              "3539  3539      1  2021-01-15 09:59:59.116           2  782   156       0   \n",
              "\n",
              "      in2  out2  state2  \n",
              "0      73   508       0  \n",
              "1      73   508       0  \n",
              "2      73   508       0  \n",
              "3      73   508       0  \n",
              "4      73   508       0  \n",
              "...   ...   ...     ...  \n",
              "3535  156   782       0  \n",
              "3536  156   782       0  \n",
              "3537  156   782       0  \n",
              "3538  156   782       0  \n",
              "3539  156   782       0  \n",
              "\n",
              "[3540 rows x 10 columns]"
            ],
            "text/html": [
              "\n",
              "  <div id=\"df-e3ec106e-7188-499c-89cf-b11a747c42c2\">\n",
              "    <div class=\"colab-df-container\">\n",
              "      <div>\n",
              "<style scoped>\n",
              "    .dataframe tbody tr th:only-of-type {\n",
              "        vertical-align: middle;\n",
              "    }\n",
              "\n",
              "    .dataframe tbody tr th {\n",
              "        vertical-align: top;\n",
              "    }\n",
              "\n",
              "    .dataframe thead th {\n",
              "        text-align: right;\n",
              "    }\n",
              "</style>\n",
              "<table border=\"1\" class=\"dataframe\">\n",
              "  <thead>\n",
              "    <tr style=\"text-align: right;\">\n",
              "      <th></th>\n",
              "      <th>id</th>\n",
              "      <th>place</th>\n",
              "      <th>receive_time</th>\n",
              "      <th>sensor_num</th>\n",
              "      <th>in1</th>\n",
              "      <th>out1</th>\n",
              "      <th>state1</th>\n",
              "      <th>in2</th>\n",
              "      <th>out2</th>\n",
              "      <th>state2</th>\n",
              "    </tr>\n",
              "  </thead>\n",
              "  <tbody>\n",
              "    <tr>\n",
              "      <th>0</th>\n",
              "      <td>0</td>\n",
              "      <td>1</td>\n",
              "      <td>2021-01-15 09:00:00.144</td>\n",
              "      <td>2</td>\n",
              "      <td>508</td>\n",
              "      <td>73</td>\n",
              "      <td>0</td>\n",
              "      <td>73</td>\n",
              "      <td>508</td>\n",
              "      <td>0</td>\n",
              "    </tr>\n",
              "    <tr>\n",
              "      <th>1</th>\n",
              "      <td>1</td>\n",
              "      <td>1</td>\n",
              "      <td>2021-01-15 09:00:01.146</td>\n",
              "      <td>2</td>\n",
              "      <td>508</td>\n",
              "      <td>73</td>\n",
              "      <td>0</td>\n",
              "      <td>73</td>\n",
              "      <td>508</td>\n",
              "      <td>0</td>\n",
              "    </tr>\n",
              "    <tr>\n",
              "      <th>2</th>\n",
              "      <td>2</td>\n",
              "      <td>1</td>\n",
              "      <td>2021-01-15 09:00:02.161</td>\n",
              "      <td>2</td>\n",
              "      <td>508</td>\n",
              "      <td>73</td>\n",
              "      <td>0</td>\n",
              "      <td>73</td>\n",
              "      <td>508</td>\n",
              "      <td>0</td>\n",
              "    </tr>\n",
              "    <tr>\n",
              "      <th>3</th>\n",
              "      <td>3</td>\n",
              "      <td>1</td>\n",
              "      <td>2021-01-15 09:00:03.176</td>\n",
              "      <td>2</td>\n",
              "      <td>508</td>\n",
              "      <td>73</td>\n",
              "      <td>0</td>\n",
              "      <td>73</td>\n",
              "      <td>508</td>\n",
              "      <td>0</td>\n",
              "    </tr>\n",
              "    <tr>\n",
              "      <th>4</th>\n",
              "      <td>4</td>\n",
              "      <td>1</td>\n",
              "      <td>2021-01-15 09:00:04.192</td>\n",
              "      <td>2</td>\n",
              "      <td>508</td>\n",
              "      <td>73</td>\n",
              "      <td>0</td>\n",
              "      <td>73</td>\n",
              "      <td>508</td>\n",
              "      <td>0</td>\n",
              "    </tr>\n",
              "    <tr>\n",
              "      <th>...</th>\n",
              "      <td>...</td>\n",
              "      <td>...</td>\n",
              "      <td>...</td>\n",
              "      <td>...</td>\n",
              "      <td>...</td>\n",
              "      <td>...</td>\n",
              "      <td>...</td>\n",
              "      <td>...</td>\n",
              "      <td>...</td>\n",
              "      <td>...</td>\n",
              "    </tr>\n",
              "    <tr>\n",
              "      <th>3535</th>\n",
              "      <td>3535</td>\n",
              "      <td>1</td>\n",
              "      <td>2021-01-15 09:59:55.054</td>\n",
              "      <td>2</td>\n",
              "      <td>782</td>\n",
              "      <td>156</td>\n",
              "      <td>0</td>\n",
              "      <td>156</td>\n",
              "      <td>782</td>\n",
              "      <td>0</td>\n",
              "    </tr>\n",
              "    <tr>\n",
              "      <th>3536</th>\n",
              "      <td>3536</td>\n",
              "      <td>1</td>\n",
              "      <td>2021-01-15 09:59:56.07</td>\n",
              "      <td>2</td>\n",
              "      <td>782</td>\n",
              "      <td>156</td>\n",
              "      <td>0</td>\n",
              "      <td>156</td>\n",
              "      <td>782</td>\n",
              "      <td>0</td>\n",
              "    </tr>\n",
              "    <tr>\n",
              "      <th>3537</th>\n",
              "      <td>3537</td>\n",
              "      <td>1</td>\n",
              "      <td>2021-01-15 09:59:57.085</td>\n",
              "      <td>2</td>\n",
              "      <td>782</td>\n",
              "      <td>156</td>\n",
              "      <td>0</td>\n",
              "      <td>156</td>\n",
              "      <td>782</td>\n",
              "      <td>0</td>\n",
              "    </tr>\n",
              "    <tr>\n",
              "      <th>3538</th>\n",
              "      <td>3538</td>\n",
              "      <td>1</td>\n",
              "      <td>2021-01-15 09:59:58.101</td>\n",
              "      <td>2</td>\n",
              "      <td>782</td>\n",
              "      <td>156</td>\n",
              "      <td>0</td>\n",
              "      <td>156</td>\n",
              "      <td>782</td>\n",
              "      <td>0</td>\n",
              "    </tr>\n",
              "    <tr>\n",
              "      <th>3539</th>\n",
              "      <td>3539</td>\n",
              "      <td>1</td>\n",
              "      <td>2021-01-15 09:59:59.116</td>\n",
              "      <td>2</td>\n",
              "      <td>782</td>\n",
              "      <td>156</td>\n",
              "      <td>0</td>\n",
              "      <td>156</td>\n",
              "      <td>782</td>\n",
              "      <td>0</td>\n",
              "    </tr>\n",
              "  </tbody>\n",
              "</table>\n",
              "<p>3540 rows × 10 columns</p>\n",
              "</div>\n",
              "      <button class=\"colab-df-convert\" onclick=\"convertToInteractive('df-e3ec106e-7188-499c-89cf-b11a747c42c2')\"\n",
              "              title=\"Convert this dataframe to an interactive table.\"\n",
              "              style=\"display:none;\">\n",
              "        \n",
              "  <svg xmlns=\"http://www.w3.org/2000/svg\" height=\"24px\"viewBox=\"0 0 24 24\"\n",
              "       width=\"24px\">\n",
              "    <path d=\"M0 0h24v24H0V0z\" fill=\"none\"/>\n",
              "    <path d=\"M18.56 5.44l.94 2.06.94-2.06 2.06-.94-2.06-.94-.94-2.06-.94 2.06-2.06.94zm-11 1L8.5 8.5l.94-2.06 2.06-.94-2.06-.94L8.5 2.5l-.94 2.06-2.06.94zm10 10l.94 2.06.94-2.06 2.06-.94-2.06-.94-.94-2.06-.94 2.06-2.06.94z\"/><path d=\"M17.41 7.96l-1.37-1.37c-.4-.4-.92-.59-1.43-.59-.52 0-1.04.2-1.43.59L10.3 9.45l-7.72 7.72c-.78.78-.78 2.05 0 2.83L4 21.41c.39.39.9.59 1.41.59.51 0 1.02-.2 1.41-.59l7.78-7.78 2.81-2.81c.8-.78.8-2.07 0-2.86zM5.41 20L4 18.59l7.72-7.72 1.47 1.35L5.41 20z\"/>\n",
              "  </svg>\n",
              "      </button>\n",
              "      \n",
              "  <style>\n",
              "    .colab-df-container {\n",
              "      display:flex;\n",
              "      flex-wrap:wrap;\n",
              "      gap: 12px;\n",
              "    }\n",
              "\n",
              "    .colab-df-convert {\n",
              "      background-color: #E8F0FE;\n",
              "      border: none;\n",
              "      border-radius: 50%;\n",
              "      cursor: pointer;\n",
              "      display: none;\n",
              "      fill: #1967D2;\n",
              "      height: 32px;\n",
              "      padding: 0 0 0 0;\n",
              "      width: 32px;\n",
              "    }\n",
              "\n",
              "    .colab-df-convert:hover {\n",
              "      background-color: #E2EBFA;\n",
              "      box-shadow: 0px 1px 2px rgba(60, 64, 67, 0.3), 0px 1px 3px 1px rgba(60, 64, 67, 0.15);\n",
              "      fill: #174EA6;\n",
              "    }\n",
              "\n",
              "    [theme=dark] .colab-df-convert {\n",
              "      background-color: #3B4455;\n",
              "      fill: #D2E3FC;\n",
              "    }\n",
              "\n",
              "    [theme=dark] .colab-df-convert:hover {\n",
              "      background-color: #434B5C;\n",
              "      box-shadow: 0px 1px 3px 1px rgba(0, 0, 0, 0.15);\n",
              "      filter: drop-shadow(0px 1px 2px rgba(0, 0, 0, 0.3));\n",
              "      fill: #FFFFFF;\n",
              "    }\n",
              "  </style>\n",
              "\n",
              "      <script>\n",
              "        const buttonEl =\n",
              "          document.querySelector('#df-e3ec106e-7188-499c-89cf-b11a747c42c2 button.colab-df-convert');\n",
              "        buttonEl.style.display =\n",
              "          google.colab.kernel.accessAllowed ? 'block' : 'none';\n",
              "\n",
              "        async function convertToInteractive(key) {\n",
              "          const element = document.querySelector('#df-e3ec106e-7188-499c-89cf-b11a747c42c2');\n",
              "          const dataTable =\n",
              "            await google.colab.kernel.invokeFunction('convertToInteractive',\n",
              "                                                     [key], {});\n",
              "          if (!dataTable) return;\n",
              "\n",
              "          const docLinkHtml = 'Like what you see? Visit the ' +\n",
              "            '<a target=\"_blank\" href=https://colab.research.google.com/notebooks/data_table.ipynb>data table notebook</a>'\n",
              "            + ' to learn more about interactive tables.';\n",
              "          element.innerHTML = '';\n",
              "          dataTable['output_type'] = 'display_data';\n",
              "          await google.colab.output.renderOutput(dataTable, element);\n",
              "          const docLink = document.createElement('div');\n",
              "          docLink.innerHTML = docLinkHtml;\n",
              "          element.appendChild(docLink);\n",
              "        }\n",
              "      </script>\n",
              "    </div>\n",
              "  </div>\n",
              "  "
            ]
          },
          "metadata": {},
          "execution_count": 14
        }
      ]
    },
    {
      "cell_type": "markdown",
      "metadata": {
        "id": "idWPtCboD_Nf"
      },
      "source": [
        "## ノック92: Json形式のファイルを扱ってみよう"
      ]
    },
    {
      "cell_type": "code",
      "metadata": {
        "id": "Bt-D9KK5h7Zt"
      },
      "source": [],
      "execution_count": null,
      "outputs": []
    },
    {
      "cell_type": "code",
      "metadata": {
        "id": "MSZdO49HIA39"
      },
      "source": [],
      "execution_count": null,
      "outputs": []
    },
    {
      "cell_type": "code",
      "metadata": {
        "id": "Djta2UbqjZa5"
      },
      "source": [],
      "execution_count": null,
      "outputs": []
    },
    {
      "cell_type": "code",
      "metadata": {
        "id": "kxw3OK3sIHDW"
      },
      "source": [],
      "execution_count": null,
      "outputs": []
    },
    {
      "cell_type": "code",
      "metadata": {
        "id": "BQUBXBaCIsWK"
      },
      "source": [],
      "execution_count": null,
      "outputs": []
    },
    {
      "cell_type": "code",
      "metadata": {
        "id": "Xj1lVAAiiLER"
      },
      "source": [],
      "execution_count": null,
      "outputs": []
    },
    {
      "cell_type": "code",
      "metadata": {
        "id": "OSrKr7VKfbl3"
      },
      "source": [],
      "execution_count": null,
      "outputs": []
    },
    {
      "cell_type": "code",
      "metadata": {
        "id": "ufVrieCJk4lT"
      },
      "source": [],
      "execution_count": null,
      "outputs": []
    },
    {
      "cell_type": "markdown",
      "metadata": {
        "id": "m42FQngblPsr"
      },
      "source": [
        "## ノック93: *Webからデータを取得してみよう*"
      ]
    },
    {
      "cell_type": "code",
      "metadata": {
        "id": "Zbht7TVflh5u"
      },
      "source": [],
      "execution_count": null,
      "outputs": []
    },
    {
      "cell_type": "code",
      "metadata": {
        "id": "D0mCffAyljDn"
      },
      "source": [],
      "execution_count": null,
      "outputs": []
    },
    {
      "cell_type": "code",
      "metadata": {
        "id": "N8LLDikIljH6"
      },
      "source": [],
      "execution_count": null,
      "outputs": []
    },
    {
      "cell_type": "code",
      "metadata": {
        "id": "6ogasK2PmDlG"
      },
      "source": [],
      "execution_count": null,
      "outputs": []
    },
    {
      "cell_type": "code",
      "metadata": {
        "id": "TVKygaWdmDni"
      },
      "source": [],
      "execution_count": null,
      "outputs": []
    },
    {
      "cell_type": "code",
      "metadata": {
        "id": "pp7Cezt-oYNI"
      },
      "source": [],
      "execution_count": null,
      "outputs": []
    },
    {
      "cell_type": "markdown",
      "metadata": {
        "id": "W8eX27Yco0kL"
      },
      "source": [
        "## ノック94: configファイルを扱ってみよう"
      ]
    },
    {
      "cell_type": "code",
      "metadata": {
        "id": "XhyzoZRHp1xH"
      },
      "source": [],
      "execution_count": null,
      "outputs": []
    },
    {
      "cell_type": "code",
      "metadata": {
        "id": "1ZOf2jNPqDPr"
      },
      "source": [],
      "execution_count": null,
      "outputs": []
    },
    {
      "cell_type": "code",
      "metadata": {
        "id": "iGr3UTawqGyG"
      },
      "source": [],
      "execution_count": null,
      "outputs": []
    },
    {
      "cell_type": "code",
      "metadata": {
        "id": "kOxXxIG7qIzV"
      },
      "source": [],
      "execution_count": null,
      "outputs": []
    },
    {
      "cell_type": "markdown",
      "metadata": {
        "id": "UkZ3RGvyyEZg"
      },
      "source": [
        "## ノック95 : 動画ファイルを音声ファイルへ変換してみよう"
      ]
    },
    {
      "cell_type": "code",
      "metadata": {
        "id": "rdoCfQNCyJeB"
      },
      "source": [],
      "execution_count": null,
      "outputs": []
    },
    {
      "cell_type": "code",
      "metadata": {
        "id": "026HT78043O5"
      },
      "source": [],
      "execution_count": null,
      "outputs": []
    },
    {
      "cell_type": "code",
      "metadata": {
        "id": "PzeBI_fQ5lEu"
      },
      "source": [],
      "execution_count": null,
      "outputs": []
    },
    {
      "cell_type": "markdown",
      "metadata": {
        "id": "ZfRfFicIyKHa"
      },
      "source": [
        "##ノック96 : 動画ファイルを画像ファイルへ分割してみよう"
      ]
    },
    {
      "cell_type": "code",
      "metadata": {
        "id": "gi7-cAtw1GDx"
      },
      "source": [],
      "execution_count": null,
      "outputs": []
    },
    {
      "cell_type": "code",
      "metadata": {
        "id": "8nwXpX087YHG"
      },
      "source": [],
      "execution_count": null,
      "outputs": []
    },
    {
      "cell_type": "code",
      "metadata": {
        "id": "W1V_jdiJ7lPR"
      },
      "source": [],
      "execution_count": null,
      "outputs": []
    },
    {
      "cell_type": "code",
      "metadata": {
        "id": "wb3uBrVP8Kjh"
      },
      "source": [],
      "execution_count": null,
      "outputs": []
    },
    {
      "cell_type": "markdown",
      "metadata": {
        "id": "WJ9oPvyoqkKu"
      },
      "source": [
        "##ノック97 : PowerPointやWordファイルを読み込んでみよう"
      ]
    },
    {
      "cell_type": "code",
      "metadata": {
        "id": "42pfkaDsr6zX"
      },
      "source": [],
      "execution_count": null,
      "outputs": []
    },
    {
      "cell_type": "code",
      "metadata": {
        "id": "N8oloDu_sERQ"
      },
      "source": [],
      "execution_count": null,
      "outputs": []
    },
    {
      "cell_type": "code",
      "metadata": {
        "id": "qwV83rdy0Ie1"
      },
      "source": [],
      "execution_count": null,
      "outputs": []
    },
    {
      "cell_type": "code",
      "metadata": {
        "id": "XdW5h_3V10ll"
      },
      "source": [],
      "execution_count": null,
      "outputs": []
    },
    {
      "cell_type": "code",
      "metadata": {
        "id": "jTHPZg0RzI7d"
      },
      "source": [],
      "execution_count": null,
      "outputs": []
    },
    {
      "cell_type": "code",
      "metadata": {
        "id": "Lmpgo-t-sEUf"
      },
      "source": [],
      "execution_count": null,
      "outputs": []
    },
    {
      "cell_type": "code",
      "metadata": {
        "id": "dJ6hjjHVT7Iu"
      },
      "source": [],
      "execution_count": null,
      "outputs": []
    },
    {
      "cell_type": "code",
      "metadata": {
        "id": "puvbOk75T7Lm"
      },
      "source": [],
      "execution_count": null,
      "outputs": []
    },
    {
      "cell_type": "markdown",
      "metadata": {
        "id": "ePgCK2gmqI6t"
      },
      "source": [
        "##ノック98 : PDFデータを読み込んでみよう"
      ]
    },
    {
      "cell_type": "code",
      "metadata": {
        "id": "KfJEpmO9qmGe"
      },
      "source": [],
      "execution_count": null,
      "outputs": []
    },
    {
      "cell_type": "code",
      "metadata": {
        "id": "iPD_bYLLcuub"
      },
      "source": [],
      "execution_count": null,
      "outputs": []
    },
    {
      "cell_type": "code",
      "metadata": {
        "id": "aYvucWJbCYNm"
      },
      "source": [],
      "execution_count": null,
      "outputs": []
    },
    {
      "cell_type": "code",
      "metadata": {
        "id": "tNP-TrURCYTs"
      },
      "source": [],
      "execution_count": null,
      "outputs": []
    },
    {
      "cell_type": "markdown",
      "metadata": {
        "id": "e-Oiig461JFF"
      },
      "source": [
        "## ノック99 : インタラクティブなグラフを作成してみよう"
      ]
    },
    {
      "cell_type": "code",
      "metadata": {
        "id": "D30qqoFaEAxl"
      },
      "source": [],
      "execution_count": null,
      "outputs": []
    },
    {
      "cell_type": "code",
      "metadata": {
        "id": "BrJc8lHfDzd6"
      },
      "source": [],
      "execution_count": null,
      "outputs": []
    },
    {
      "cell_type": "code",
      "metadata": {
        "id": "4ZdDAmY_DzhQ"
      },
      "source": [],
      "execution_count": null,
      "outputs": []
    },
    {
      "cell_type": "code",
      "metadata": {
        "id": "S1cxu7MIEpeB"
      },
      "source": [],
      "execution_count": null,
      "outputs": []
    },
    {
      "cell_type": "markdown",
      "metadata": {
        "id": "H2tpAQ9DFweR"
      },
      "source": [
        "## ノック100: 3次元グラフを作成してみよう"
      ]
    },
    {
      "cell_type": "code",
      "metadata": {
        "id": "Gkr6Dpb8G4ke"
      },
      "source": [],
      "execution_count": null,
      "outputs": []
    },
    {
      "cell_type": "code",
      "metadata": {
        "id": "2V3Z4Pz-JsM5"
      },
      "source": [],
      "execution_count": null,
      "outputs": []
    },
    {
      "cell_type": "code",
      "metadata": {
        "id": "Ab61C_yEWw1T"
      },
      "source": [],
      "execution_count": null,
      "outputs": []
    }
  ]
}